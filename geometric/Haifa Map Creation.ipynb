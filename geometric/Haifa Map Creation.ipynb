{
 "cells": [
  {
   "cell_type": "markdown",
   "metadata": {},
   "source": [
    "# Create the Haifa Map"
   ]
  },
  {
   "cell_type": "code",
   "execution_count": 1,
   "metadata": {
    "collapsed": true
   },
   "outputs": [],
   "source": [
    "%matplotlib inline\n",
    "import matplotlib.pyplot as plt\n",
    "import cv2\n",
    "import numpy as np\n",
    "import mayavi.mlab as mlab\n",
    "import os\n",
    "import pandas as pd\n",
    "from scipy.interpolate import griddata, interp2d, RectBivariateSpline\n",
    "import tqdm"
   ]
  },
  {
   "cell_type": "markdown",
   "metadata": {},
   "source": [
    "### The trick below is needed as tvtk steals the stdout of the notebook"
   ]
  },
  {
   "cell_type": "code",
   "execution_count": 12,
   "metadata": {
    "collapsed": true
   },
   "outputs": [],
   "source": [
    "import sys\n",
    "old_stdout = sys.stdout\n",
    "from tvtk.api import tvtk\n",
    "sys.stdout = old_stdout"
   ]
  },
  {
   "cell_type": "markdown",
   "metadata": {},
   "source": [
    "## Create the Haifa map from Tiles"
   ]
  },
  {
   "cell_type": "code",
   "execution_count": 3,
   "metadata": {
    "collapsed": true
   },
   "outputs": [],
   "source": [
    "df = pd.read_csv(\"haifa_map_tiles/tiles_list.txt\", sep=\"\\s+\")"
   ]
  },
  {
   "cell_type": "code",
   "execution_count": 4,
   "metadata": {
    "collapsed": true
   },
   "outputs": [],
   "source": [
    "def find_limits(Axis, axis):\n",
    "    \"\"\"Return indices of X/Ymap to use when interpolating from x/ymap.\n",
    "    Check if Xmap[0] is in xmap.\n",
    "    If it does xlimit = 0\n",
    "    if not find xmap[0] in Xmap.\n",
    "    Repeat for Xmap[-1] and xmap[-1]\"\"\"\n",
    "\n",
    "    limits = [0, 0]\n",
    "    if np.searchsorted(axis, Axis[0]) > 0:\n",
    "        limits[0] = 0\n",
    "    else:\n",
    "        limits[0] = np.searchsorted(Axis, axis[0])\n",
    "        \n",
    "    if np.searchsorted(axis, Axis[-1]) < len(axis):\n",
    "        limits[1] = len(Axis) - 1\n",
    "    else:\n",
    "        limits[1] = np.searchsorted(Axis, axis[-1]) - 1\n",
    "        \n",
    "    return limits"
   ]
  },
  {
   "cell_type": "code",
   "execution_count": 5,
   "metadata": {
    "collapsed": true
   },
   "outputs": [],
   "source": [
    "ymap, xmap = np.linspace(32, 33, 1200), np.linspace(34, 36, 2400)\n",
    "Ymap, Xmap = np.meshgrid(ymap, xmap, indexing=\"ij\")\n",
    "map_img = np.dstack([np.zeros_like(Xmap) for _ in range(3)])\n",
    "\n",
    "for _, row in tqdm.tqdm(df.iterrows()):\n",
    "    path = os.path.join(\"haifa_map_tiles\", row[\"ImageFileName\"][:-1])\n",
    "    \n",
    "    t = row[\"Top_Edge_Latitude\"]\n",
    "    b = row[\"Bottom_Edge_Latitude\"]\n",
    "    l = row[\"Left_Edge_Longitude\"]\n",
    "    r = row[\"Right_Edge_Longitude\"]\n",
    "\n",
    "    img = cv2.cvtColor(cv2.imread(path), cv2.COLOR_BGR2RGB)[::-1, ...]\n",
    "    h, w, _ = img.shape\n",
    "    \n",
    "    x = np.linspace(l, r, w)\n",
    "    y = np.linspace(b, t, h)\n",
    "    \n",
    "    ylimits = find_limits(ymap, y)\n",
    "    xlimits = find_limits(xmap, x)\n",
    "\n",
    "    for i in range(3):\n",
    "        interp = RectBivariateSpline(y, x, img[..., i])\n",
    "        map_img[ylimits[0]:ylimits[1], xlimits[0]:xlimits[1],i] = \\\n",
    "            interp(ymap[ylimits[0]:ylimits[1]], xmap[xlimits[0]:xlimits[1]])\n",
    "            \n",
    "map_img = map_img[::-1, ...].astype(np.uint8)"
   ]
  },
  {
   "cell_type": "code",
   "execution_count": 6,
   "metadata": {},
   "outputs": [
    {
     "data": {
      "text/plain": [
       "True"
      ]
     },
     "execution_count": 6,
     "metadata": {},
     "output_type": "execute_result"
    }
   ],
   "source": [
    "cv2.imwrite(\"haifa_map_tiles/haifa_map.jpg\", cv2.cvtColor(map_img, cv2.COLOR_RGB2BGR))"
   ]
  },
  {
   "cell_type": "markdown",
   "metadata": {},
   "source": [
    "## Show the map"
   ]
  },
  {
   "cell_type": "code",
   "execution_count": 8,
   "metadata": {
    "collapsed": true
   },
   "outputs": [],
   "source": [
    "import matplotlib.mlab as ml\n",
    "import numpy as np\n",
    "import pymap3d\n",
    "\n",
    "\n",
    "def loadMapData():\n",
    "    \"\"\"Load height data for map visualization.\"\"\"\n",
    "\n",
    "    path1 = r\"data\\N32E034.hgt\"\n",
    "    path2 = r\"data\\N32E035.hgt\"\n",
    "    path3 = r\"haifa_map_tiles\\haifa_map.jpg\"\n",
    "\n",
    "    with open(path1) as hgt_data:\n",
    "        hgt1 = np.fromfile(hgt_data, np.dtype('>i2')).reshape((1201, 1201))[:1200, :1200]\n",
    "    with open(path2) as hgt_data:\n",
    "        hgt2 = np.fromfile(hgt_data, np.dtype('>i2')).reshape((1201, 1201))[:1200, :1200]\n",
    "    hgt = np.hstack((hgt1, hgt2)).astype(np.float32)\n",
    "    lon, lat = np.meshgrid(np.linspace(34, 36, 2400, endpoint=False), np.linspace(32, 33, 1200, endpoint=False)[::-1])\n",
    "    map_texture = cv2.cvtColor(cv2.imread(path3), cv2.COLOR_BGR2RGB)\n",
    "    \n",
    "    return lat[100:400, 1100:1400], lon[100:400, 1100:1400], hgt[100:400, 1100:1400], map_texture[100:400, 1100:1400, ...]\n",
    "\n",
    "\n",
    "def calcSeaMask(hgt_array):\n",
    "    \"\"\"Calc a masking to the sea.\n",
    "\n",
    "    Note:\n",
    "        This code is uses empirical magic number, and should be adjusted if\n",
    "        grid sizes change.\n",
    "    \"\"\"\n",
    "\n",
    "    hgt_u8 = (255 * (hgt_array - hgt_array.min()) / (hgt_array.max() - hgt_array.min())).astype(np.uint8)\n",
    "\n",
    "    mask = (hgt_u8 > 7).astype(np.uint8)*255\n",
    "    kernel_open = cv2.getStructuringElement(cv2.MORPH_ELLIPSE, (3, 3))\n",
    "    mask = cv2.morphologyEx(mask, cv2.MORPH_OPEN, kernel_open)\n",
    "    kernel_close = cv2.getStructuringElement(cv2.MORPH_ELLIPSE, (16, 16))\n",
    "    mask = cv2.morphologyEx(mask, cv2.MORPH_CLOSE, kernel_close)\n",
    "    mask[250:, 250:] = 255\n",
    "\n",
    "    return mask < 255\n",
    "\n",
    "\n",
    "def convertMapData(lat, lon, hgt, map_texture, lat0=32.775776, lon0=35.024963, alt0=229):\n",
    "    \"\"\"Convert lat/lon/height data to grid data.\"\"\"\n",
    "\n",
    "    n, e, d = pymap3d.geodetic2ned(\n",
    "        lat, lon, hgt,\n",
    "        lat0=lat0, lon0=lon0, h0=alt0)\n",
    "\n",
    "    x, y, z = e, n, -d\n",
    "\n",
    "    xi = np.linspace(-10000, 10000, 300)\n",
    "    yi = np.linspace(-10000, 10000, 300)\n",
    "    X, Y = np.meshgrid(xi, yi)\n",
    "\n",
    "    print(y.flatten().shape, x.flatten().shape, map_texture[..., 0].flatten().shape)\n",
    "    Z = ml.griddata(y.flatten(), x.flatten(), z.flatten(), yi, xi, interp='linear')\n",
    "    R = ml.griddata(y.flatten(), x.flatten(), map_texture[..., 0].flatten(), yi, xi, interp='linear')\n",
    "    G = ml.griddata(y.flatten(), x.flatten(), map_texture[..., 1].flatten(), yi, xi, interp='linear')\n",
    "    B = ml.griddata(y.flatten(), x.flatten(), map_texture[..., 2].flatten(), yi, xi, interp='linear')\n",
    "    \n",
    "    Z_mask = calcSeaMask(Z)\n",
    "\n",
    "    return X, Y, Z, Z_mask, np.dstack((R, G, B))"
   ]
  },
  {
   "cell_type": "code",
   "execution_count": 9,
   "metadata": {
    "collapsed": true
   },
   "outputs": [],
   "source": [
    "map_coords = loadMapData()\n",
    "X, Y, Z, Z_mask, map_texture = convertMapData(\n",
    "    map_coords[0],\n",
    "    map_coords[1],\n",
    "    map_coords[2],\n",
    "    map_coords[3],\n",
    ")"
   ]
  },
  {
   "cell_type": "code",
   "execution_count": 10,
   "metadata": {},
   "outputs": [
    {
     "data": {
      "text/plain": [
       "True"
      ]
     },
     "execution_count": 10,
     "metadata": {},
     "output_type": "execute_result"
    }
   ],
   "source": [
    "tmp_filename=r'haifa_map_tiles\\haifa_map_tmp.jpg'\n",
    "map_array = np.rot90(map_texture, k=1).astype(np.uint8)\n",
    "cv2.imwrite(tmp_filename, cv2.cvtColor(map_array, cv2.COLOR_RGB2BGR))"
   ]
  },
  {
   "cell_type": "code",
   "execution_count": 13,
   "metadata": {
    "collapsed": true
   },
   "outputs": [],
   "source": [
    "img = tvtk.JPEGReader(file_name=tmp_filename)\n",
    "texture = tvtk.Texture(input_connection=img.output_port, interpolate=1)\n",
    "\n",
    "s = mlab.surf(Y, X, Z, color=(1.,1.,1.))\n",
    "s.actor.actor.mapper.scalar_visibility = False\n",
    "s.actor.enable_texture = True\n",
    "s.actor.tcoord_generator_mode = 'plane'\n",
    "s.actor.actor.texture = texture\n",
    "\n",
    "mlab.show()"
   ]
  },
  {
   "cell_type": "code",
   "execution_count": null,
   "metadata": {
    "collapsed": true
   },
   "outputs": [],
   "source": []
  }
 ],
 "metadata": {
  "kernelspec": {
   "display_name": "Python 2",
   "language": "python",
   "name": "python2"
  },
  "language_info": {
   "codemirror_mode": {
    "name": "ipython",
    "version": 2
   },
   "file_extension": ".py",
   "mimetype": "text/x-python",
   "name": "python",
   "nbconvert_exporter": "python",
   "pygments_lexer": "ipython2",
   "version": "2.7.13"
  }
 },
 "nbformat": 4,
 "nbformat_minor": 2
}
