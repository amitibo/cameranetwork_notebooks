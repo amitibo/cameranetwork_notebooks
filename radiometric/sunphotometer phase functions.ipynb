{
 "cells": [
  {
   "cell_type": "code",
   "execution_count": 1,
   "metadata": {
    "collapsed": true
   },
   "outputs": [],
   "source": [
    "from __future__ import division\n",
    "%matplotlib inline\n",
    "import cPickle\n",
    "import datetime\n",
    "from dateutil import parser\n",
    "import itertools\n",
    "import math\n",
    "import matplotlib.pyplot as plt\n",
    "plt.rcParams['figure.figsize'] = (8.0, 8.0)\n",
    "import numpy as np\n",
    "import os\n",
    "import pandas as pd\n",
    "from scipy.integrate import quadrature, romberg\n",
    "from scipy.interpolate import interp1d\n",
    "from scipy.special import legendre\n",
    "from tqdm import tqdm_notebook"
   ]
  },
  {
   "cell_type": "markdown",
   "metadata": {},
   "source": [
    "# Load the sunphotometer data"
   ]
  },
  {
   "cell_type": "code",
   "execution_count": 2,
   "metadata": {
    "collapsed": true
   },
   "outputs": [],
   "source": [
    "def parseSunPhotoMeter(path, usecols):\n",
    "    \"\"\"Parse the sunphotometer data.\"\"\"\n",
    "\n",
    "    def dateparse(d, t):\n",
    "        return pd.datetime.strptime(d+' '+t, '%d:%m:%Y %H:%M:%S')\n",
    "\n",
    "    df = pd.read_csv(\n",
    "        path,\n",
    "        skiprows=3,\n",
    "        header=0,\n",
    "        parse_dates=[[0, 1]],\n",
    "        date_parser=dateparse,\n",
    "        index_col=0,\n",
    "        usecols=usecols\n",
    "    )\n",
    "\n",
    "    wavelengths = [float(i.split(\"[\")[0]) for i in df.columns]\n",
    "    df = df.rename(index=str, columns=dict(itertools.izip(df.columns, wavelengths)))\n",
    "\n",
    "    return df, wavelengths"
   ]
  },
  {
   "cell_type": "code",
   "execution_count": 3,
   "metadata": {
    "collapsed": false
   },
   "outputs": [],
   "source": [
    "pfn_path = r\"../../data/phase_functions/170422_170422_Technion_Haifa_IL.pfn\"\n",
    "df_441, wavelengths = parseSunPhotoMeter(\n",
    "    pfn_path,\n",
    "    usecols=[0, 1]+list(range(3, 86))\n",
    ")\n",
    "df_674, wavelengths = parseSunPhotoMeter(\n",
    "    pfn_path,\n",
    "    usecols=[0, 1]+list(range(86, 169))\n",
    ")\n",
    "df_871, wavelengths = parseSunPhotoMeter(\n",
    "    pfn_path,\n",
    "    usecols=[0, 1]+list(range(169, 252))\n",
    ")\n",
    "df_1020, wavelengths = parseSunPhotoMeter(\n",
    "    pfn_path,\n",
    "    usecols=[0, 1]+list(range(252, 335))\n",
    ")"
   ]
  },
  {
   "cell_type": "markdown",
   "metadata": {},
   "source": [
    "# Show one of the phase functions"
   ]
  },
  {
   "cell_type": "code",
   "execution_count": 14,
   "metadata": {
    "collapsed": false
   },
   "outputs": [
    {
     "data": {
      "text/plain": [
       "Index([u'2017-04-22 04:19:15', u'2017-04-22 04:43:21', u'2017-04-22 05:33:17',\n",
       "       u'2017-04-22 06:40:30', u'2017-04-22 12:40:33', u'2017-04-22 13:48:00',\n",
       "       u'2017-04-22 14:38:13', u'2017-04-22 15:12:46'],\n",
       "      dtype='object', name=u'Date(dd-mm-yyyy)_Time(hh:mm:ss)')"
      ]
     },
     "execution_count": 14,
     "metadata": {},
     "output_type": "execute_result"
    }
   ],
   "source": [
    "df_441.index"
   ]
  },
  {
   "cell_type": "code",
   "execution_count": 40,
   "metadata": {
    "collapsed": false
   },
   "outputs": [
    {
     "data": {
      "image/png": "[encoded data removed]",
      "text/plain": [
       "<matplotlib.figure.Figure at 0xa90eef0>"
      ]
     },
     "metadata": {},
     "output_type": "display_data"
    }
   ],
   "source": [
    "ax = df_871.iloc[3].transpose().plot(logy=True)"
   ]
  },
  {
   "cell_type": "markdown",
   "metadata": {},
   "source": [
    "The (intensity) phase function is conventionally normalized as follows\n",
    "\n",
    "$$\\int_0^{2\\pi} \\int_0^\\pi P(\\Theta) \\sin(\\Theta) d\\Theta d\\phi = 4 \\pi$$\n",
    "\n",
    "Which is equivalent to\n",
    "\n",
    "$$\\int_{-1}^1 P(\\cos{\\Theta}) d(\\cos{\\Theta}) = 2$$\n",
    "\n",
    "Integrating the phase function from the sunphotometer gives:"
   ]
  },
  {
   "cell_type": "code",
   "execution_count": 42,
   "metadata": {
    "collapsed": false
   },
   "outputs": [
    {
     "data": {
      "text/plain": [
       "2.0282637924356193"
      ]
     },
     "execution_count": 42,
     "metadata": {},
     "output_type": "execute_result"
    }
   ],
   "source": [
    "mu = np.cos(np.radians(wavelengths[::-1]))\n",
    "phase = df_871.iloc[3].values[::-1]\n",
    "np.trapz(phase, mu)"
   ]
  },
  {
   "cell_type": "markdown",
   "metadata": {},
   "source": [
    "# Calculate the Legendre Coefficients"
   ]
  },
  {
   "cell_type": "markdown",
   "metadata": {},
   "source": [
    "## Use quadrature integration"
   ]
  },
  {
   "cell_type": "code",
   "execution_count": 43,
   "metadata": {
    "collapsed": true
   },
   "outputs": [],
   "source": [
    "COFFES_NUM = 300"
   ]
  },
  {
   "cell_type": "code",
   "execution_count": 44,
   "metadata": {
    "collapsed": false,
    "scrolled": true
   },
   "outputs": [
    {
     "name": "stderr",
     "output_type": "stream",
     "text": [
      "C:\\ProgramData\\Anaconda2\\lib\\site-packages\\scipy\\integrate\\quadrature.py:196: AccuracyWarning: maxiter (1000) exceeded. Latest difference = 7.337720e-06\n",
      "  AccuracyWarning)\n",
      "C:\\ProgramData\\Anaconda2\\lib\\site-packages\\scipy\\integrate\\quadrature.py:196: AccuracyWarning: maxiter (1000) exceeded. Latest difference = 1.269579e-05\n",
      "  AccuracyWarning)\n",
      "C:\\ProgramData\\Anaconda2\\lib\\site-packages\\scipy\\integrate\\quadrature.py:196: AccuracyWarning: maxiter (1000) exceeded. Latest difference = 2.435147e-05\n",
      "  AccuracyWarning)\n",
      "C:\\ProgramData\\Anaconda2\\lib\\site-packages\\scipy\\integrate\\quadrature.py:196: AccuracyWarning: maxiter (1000) exceeded. Latest difference = 2.778666e-05\n",
      "  AccuracyWarning)\n",
      "C:\\ProgramData\\Anaconda2\\lib\\site-packages\\scipy\\integrate\\quadrature.py:196: AccuracyWarning: maxiter (1000) exceeded. Latest difference = 3.127794e-05\n",
      "  AccuracyWarning)\n",
      "C:\\ProgramData\\Anaconda2\\lib\\site-packages\\scipy\\integrate\\quadrature.py:196: AccuracyWarning: maxiter (1000) exceeded. Latest difference = 3.499137e-05\n",
      "  AccuracyWarning)\n",
      "C:\\ProgramData\\Anaconda2\\lib\\site-packages\\scipy\\integrate\\quadrature.py:196: AccuracyWarning: maxiter (1000) exceeded. Latest difference = 4.487002e-05\n",
      "  AccuracyWarning)\n",
      "C:\\ProgramData\\Anaconda2\\lib\\site-packages\\scipy\\integrate\\quadrature.py:196: AccuracyWarning: maxiter (1000) exceeded. Latest difference = 4.798786e-05\n",
      "  AccuracyWarning)\n",
      "C:\\ProgramData\\Anaconda2\\lib\\site-packages\\scipy\\integrate\\quadrature.py:196: AccuracyWarning: maxiter (1000) exceeded. Latest difference = 5.131019e-05\n",
      "  AccuracyWarning)\n",
      "C:\\ProgramData\\Anaconda2\\lib\\site-packages\\scipy\\integrate\\quadrature.py:196: AccuracyWarning: maxiter (1000) exceeded. Latest difference = 5.492427e-05\n",
      "  AccuracyWarning)\n",
      "C:\\ProgramData\\Anaconda2\\lib\\site-packages\\scipy\\integrate\\quadrature.py:196: AccuracyWarning: maxiter (1000) exceeded. Latest difference = 5.891118e-05\n",
      "  AccuracyWarning)\n",
      "C:\\ProgramData\\Anaconda2\\lib\\site-packages\\scipy\\integrate\\quadrature.py:196: AccuracyWarning: maxiter (1000) exceeded. Latest difference = 6.326392e-05\n",
      "  AccuracyWarning)\n",
      "C:\\ProgramData\\Anaconda2\\lib\\site-packages\\scipy\\integrate\\quadrature.py:196: AccuracyWarning: maxiter (1000) exceeded. Latest difference = 6.801264e-05\n",
      "  AccuracyWarning)\n",
      "C:\\ProgramData\\Anaconda2\\lib\\site-packages\\scipy\\integrate\\quadrature.py:196: AccuracyWarning: maxiter (1000) exceeded. Latest difference = 9.428877e-05\n",
      "  AccuracyWarning)\n",
      "C:\\ProgramData\\Anaconda2\\lib\\site-packages\\scipy\\integrate\\quadrature.py:196: AccuracyWarning: maxiter (1000) exceeded. Latest difference = 9.577496e-05\n",
      "  AccuracyWarning)\n",
      "C:\\ProgramData\\Anaconda2\\lib\\site-packages\\scipy\\integrate\\quadrature.py:196: AccuracyWarning: maxiter (1000) exceeded. Latest difference = 8.890414e-05\n",
      "  AccuracyWarning)\n",
      "C:\\ProgramData\\Anaconda2\\lib\\site-packages\\scipy\\integrate\\quadrature.py:196: AccuracyWarning: maxiter (1000) exceeded. Latest difference = 7.950901e-05\n",
      "  AccuracyWarning)\n",
      "C:\\ProgramData\\Anaconda2\\lib\\site-packages\\scipy\\integrate\\quadrature.py:196: AccuracyWarning: maxiter (1000) exceeded. Latest difference = 6.853080e-05\n",
      "  AccuracyWarning)\n",
      "C:\\ProgramData\\Anaconda2\\lib\\site-packages\\scipy\\integrate\\quadrature.py:196: AccuracyWarning: maxiter (1000) exceeded. Latest difference = 5.704551e-05\n",
      "  AccuracyWarning)\n",
      "C:\\ProgramData\\Anaconda2\\lib\\site-packages\\scipy\\integrate\\quadrature.py:196: AccuracyWarning: maxiter (1000) exceeded. Latest difference = 4.444521e-05\n",
      "  AccuracyWarning)\n",
      "C:\\ProgramData\\Anaconda2\\lib\\site-packages\\scipy\\integrate\\quadrature.py:196: AccuracyWarning: maxiter (1000) exceeded. Latest difference = 1.623350e-05\n",
      "  AccuracyWarning)\n",
      "C:\\ProgramData\\Anaconda2\\lib\\site-packages\\scipy\\integrate\\quadrature.py:196: AccuracyWarning: maxiter (1000) exceeded. Latest difference = 9.902850e-07\n",
      "  AccuracyWarning)\n",
      "C:\\ProgramData\\Anaconda2\\lib\\site-packages\\scipy\\integrate\\quadrature.py:196: AccuracyWarning: maxiter (1000) exceeded. Latest difference = 1.467238e-05\n",
      "  AccuracyWarning)\n",
      "C:\\ProgramData\\Anaconda2\\lib\\site-packages\\scipy\\integrate\\quadrature.py:196: AccuracyWarning: maxiter (1000) exceeded. Latest difference = 3.076859e-05\n",
      "  AccuracyWarning)\n",
      "C:\\ProgramData\\Anaconda2\\lib\\site-packages\\scipy\\integrate\\quadrature.py:196: AccuracyWarning: maxiter (1000) exceeded. Latest difference = 4.797010e-05\n",
      "  AccuracyWarning)\n",
      "C:\\ProgramData\\Anaconda2\\lib\\site-packages\\scipy\\integrate\\quadrature.py:196: AccuracyWarning: maxiter (1000) exceeded. Latest difference = 6.594006e-05\n",
      "  AccuracyWarning)\n",
      "C:\\ProgramData\\Anaconda2\\lib\\site-packages\\scipy\\integrate\\quadrature.py:196: AccuracyWarning: maxiter (1000) exceeded. Latest difference = 8.408721e-05\n",
      "  AccuracyWarning)\n",
      "C:\\ProgramData\\Anaconda2\\lib\\site-packages\\scipy\\integrate\\quadrature.py:196: AccuracyWarning: maxiter (1000) exceeded. Latest difference = 1.017239e-04\n",
      "  AccuracyWarning)\n",
      "C:\\ProgramData\\Anaconda2\\lib\\site-packages\\scipy\\integrate\\quadrature.py:196: AccuracyWarning: maxiter (1000) exceeded. Latest difference = 1.174299e-04\n",
      "  AccuracyWarning)\n",
      "C:\\ProgramData\\Anaconda2\\lib\\site-packages\\scipy\\integrate\\quadrature.py:196: AccuracyWarning: maxiter (1000) exceeded. Latest difference = 1.311102e-04\n",
      "  AccuracyWarning)\n",
      "C:\\ProgramData\\Anaconda2\\lib\\site-packages\\scipy\\integrate\\quadrature.py:196: AccuracyWarning: maxiter (1000) exceeded. Latest difference = 1.415196e-04\n",
      "  AccuracyWarning)\n",
      "C:\\ProgramData\\Anaconda2\\lib\\site-packages\\scipy\\integrate\\quadrature.py:196: AccuracyWarning: maxiter (1000) exceeded. Latest difference = 1.497903e-04\n",
      "  AccuracyWarning)\n",
      "C:\\ProgramData\\Anaconda2\\lib\\site-packages\\scipy\\integrate\\quadrature.py:196: AccuracyWarning: maxiter (1000) exceeded. Latest difference = 1.562028e-04\n",
      "  AccuracyWarning)\n",
      "C:\\ProgramData\\Anaconda2\\lib\\site-packages\\scipy\\integrate\\quadrature.py:196: AccuracyWarning: maxiter (1000) exceeded. Latest difference = 1.628205e-04\n",
      "  AccuracyWarning)\n",
      "C:\\ProgramData\\Anaconda2\\lib\\site-packages\\scipy\\integrate\\quadrature.py:196: AccuracyWarning: maxiter (1000) exceeded. Latest difference = 1.799340e-04\n",
      "  AccuracyWarning)\n",
      "C:\\ProgramData\\Anaconda2\\lib\\site-packages\\scipy\\integrate\\quadrature.py:196: AccuracyWarning: maxiter (1000) exceeded. Latest difference = 1.901475e-04\n",
      "  AccuracyWarning)\n",
      "C:\\ProgramData\\Anaconda2\\lib\\site-packages\\scipy\\integrate\\quadrature.py:196: AccuracyWarning: maxiter (1000) exceeded. Latest difference = 2.010090e-04\n",
      "  AccuracyWarning)\n",
      "C:\\ProgramData\\Anaconda2\\lib\\site-packages\\scipy\\integrate\\quadrature.py:196: AccuracyWarning: maxiter (1000) exceeded. Latest difference = 2.111455e-04\n",
      "  AccuracyWarning)\n",
      "C:\\ProgramData\\Anaconda2\\lib\\site-packages\\scipy\\integrate\\quadrature.py:196: AccuracyWarning: maxiter (1000) exceeded. Latest difference = 2.212934e-04\n",
      "  AccuracyWarning)\n",
      "C:\\ProgramData\\Anaconda2\\lib\\site-packages\\scipy\\integrate\\quadrature.py:196: AccuracyWarning: maxiter (1000) exceeded. Latest difference = 2.297249e-04\n",
      "  AccuracyWarning)\n",
      "C:\\ProgramData\\Anaconda2\\lib\\site-packages\\scipy\\integrate\\quadrature.py:196: AccuracyWarning: maxiter (1000) exceeded. Latest difference = 2.367754e-04\n",
      "  AccuracyWarning)\n",
      "C:\\ProgramData\\Anaconda2\\lib\\site-packages\\scipy\\integrate\\quadrature.py:196: AccuracyWarning: maxiter (1000) exceeded. Latest difference = 2.399983e-04\n",
      "  AccuracyWarning)\n",
      "C:\\ProgramData\\Anaconda2\\lib\\site-packages\\scipy\\integrate\\quadrature.py:196: AccuracyWarning: maxiter (1000) exceeded. Latest difference = 2.411175e-04\n",
      "  AccuracyWarning)\n",
      "C:\\ProgramData\\Anaconda2\\lib\\site-packages\\scipy\\integrate\\quadrature.py:196: AccuracyWarning: maxiter (1000) exceeded. Latest difference = 2.391165e-04\n",
      "  AccuracyWarning)\n",
      "C:\\ProgramData\\Anaconda2\\lib\\site-packages\\scipy\\integrate\\quadrature.py:196: AccuracyWarning: maxiter (1000) exceeded. Latest difference = 2.348348e-04\n",
      "  AccuracyWarning)\n",
      "C:\\ProgramData\\Anaconda2\\lib\\site-packages\\scipy\\integrate\\quadrature.py:196: AccuracyWarning: maxiter (1000) exceeded. Latest difference = 2.269670e-04\n",
      "  AccuracyWarning)\n",
      "C:\\ProgramData\\Anaconda2\\lib\\site-packages\\scipy\\integrate\\quadrature.py:196: AccuracyWarning: maxiter (1000) exceeded. Latest difference = 2.162954e-04\n",
      "  AccuracyWarning)\n",
      "C:\\ProgramData\\Anaconda2\\lib\\site-packages\\scipy\\integrate\\quadrature.py:196: AccuracyWarning: maxiter (1000) exceeded. Latest difference = 1.849498e-04\n",
      "  AccuracyWarning)\n",
      "C:\\ProgramData\\Anaconda2\\lib\\site-packages\\scipy\\integrate\\quadrature.py:196: AccuracyWarning: maxiter (1000) exceeded. Latest difference = 1.356328e-04\n",
      "  AccuracyWarning)\n",
      "C:\\ProgramData\\Anaconda2\\lib\\site-packages\\scipy\\integrate\\quadrature.py:196: AccuracyWarning: maxiter (1000) exceeded. Latest difference = 9.960293e-05\n",
      "  AccuracyWarning)\n",
      "C:\\ProgramData\\Anaconda2\\lib\\site-packages\\scipy\\integrate\\quadrature.py:196: AccuracyWarning: maxiter (1000) exceeded. Latest difference = 5.299401e-05\n",
      "  AccuracyWarning)\n",
      "C:\\ProgramData\\Anaconda2\\lib\\site-packages\\scipy\\integrate\\quadrature.py:196: AccuracyWarning: maxiter (1000) exceeded. Latest difference = 1.691515e-06\n",
      "  AccuracyWarning)\n",
      "C:\\ProgramData\\Anaconda2\\lib\\site-packages\\scipy\\integrate\\quadrature.py:196: AccuracyWarning: maxiter (1000) exceeded. Latest difference = 5.003904e-05\n",
      "  AccuracyWarning)\n",
      "C:\\ProgramData\\Anaconda2\\lib\\site-packages\\scipy\\integrate\\quadrature.py:196: AccuracyWarning: maxiter (1000) exceeded. Latest difference = 7.612524e-05\n",
      "  AccuracyWarning)\n",
      "C:\\ProgramData\\Anaconda2\\lib\\site-packages\\scipy\\integrate\\quadrature.py:196: AccuracyWarning: maxiter (1000) exceeded. Latest difference = 8.679350e-05\n",
      "  AccuracyWarning)\n",
      "C:\\ProgramData\\Anaconda2\\lib\\site-packages\\scipy\\integrate\\quadrature.py:196: AccuracyWarning: maxiter (1000) exceeded. Latest difference = 8.821474e-05\n",
      "  AccuracyWarning)\n",
      "C:\\ProgramData\\Anaconda2\\lib\\site-packages\\scipy\\integrate\\quadrature.py:196: AccuracyWarning: maxiter (1000) exceeded. Latest difference = 8.760740e-05\n",
      "  AccuracyWarning)\n",
      "C:\\ProgramData\\Anaconda2\\lib\\site-packages\\scipy\\integrate\\quadrature.py:196: AccuracyWarning: maxiter (1000) exceeded. Latest difference = 7.864657e-05\n",
      "  AccuracyWarning)\n",
      "C:\\ProgramData\\Anaconda2\\lib\\site-packages\\scipy\\integrate\\quadrature.py:196: AccuracyWarning: maxiter (1000) exceeded. Latest difference = 6.170510e-05\n",
      "  AccuracyWarning)\n",
      "C:\\ProgramData\\Anaconda2\\lib\\site-packages\\scipy\\integrate\\quadrature.py:196: AccuracyWarning: maxiter (1000) exceeded. Latest difference = 5.077483e-05\n",
      "  AccuracyWarning)\n",
      "C:\\ProgramData\\Anaconda2\\lib\\site-packages\\scipy\\integrate\\quadrature.py:196: AccuracyWarning: maxiter (1000) exceeded. Latest difference = 3.997536e-05\n",
      "  AccuracyWarning)\n",
      "C:\\ProgramData\\Anaconda2\\lib\\site-packages\\scipy\\integrate\\quadrature.py:196: AccuracyWarning: maxiter (1000) exceeded. Latest difference = 2.898608e-05\n",
      "  AccuracyWarning)\n",
      "C:\\ProgramData\\Anaconda2\\lib\\site-packages\\scipy\\integrate\\quadrature.py:196: AccuracyWarning: maxiter (1000) exceeded. Latest difference = 7.337216e-06\n",
      "  AccuracyWarning)\n",
      "C:\\ProgramData\\Anaconda2\\lib\\site-packages\\scipy\\integrate\\quadrature.py:196: AccuracyWarning: maxiter (1000) exceeded. Latest difference = 1.528021e-05\n",
      "  AccuracyWarning)\n",
      "C:\\ProgramData\\Anaconda2\\lib\\site-packages\\scipy\\integrate\\quadrature.py:196: AccuracyWarning: maxiter (1000) exceeded. Latest difference = 2.672697e-05\n",
      "  AccuracyWarning)\n",
      "C:\\ProgramData\\Anaconda2\\lib\\site-packages\\scipy\\integrate\\quadrature.py:196: AccuracyWarning: maxiter (1000) exceeded. Latest difference = 3.708931e-05\n",
      "  AccuracyWarning)\n",
      "C:\\ProgramData\\Anaconda2\\lib\\site-packages\\scipy\\integrate\\quadrature.py:196: AccuracyWarning: maxiter (1000) exceeded. Latest difference = 4.658006e-05\n",
      "  AccuracyWarning)\n",
      "C:\\ProgramData\\Anaconda2\\lib\\site-packages\\scipy\\integrate\\quadrature.py:196: AccuracyWarning: maxiter (1000) exceeded. Latest difference = 5.304620e-05\n",
      "  AccuracyWarning)\n",
      "C:\\ProgramData\\Anaconda2\\lib\\site-packages\\scipy\\integrate\\quadrature.py:196: AccuracyWarning: maxiter (1000) exceeded. Latest difference = 5.870088e-05\n",
      "  AccuracyWarning)\n",
      "C:\\ProgramData\\Anaconda2\\lib\\site-packages\\scipy\\integrate\\quadrature.py:196: AccuracyWarning: maxiter (1000) exceeded. Latest difference = 6.152074e-05\n",
      "  AccuracyWarning)\n",
      "C:\\ProgramData\\Anaconda2\\lib\\site-packages\\scipy\\integrate\\quadrature.py:196: AccuracyWarning: maxiter (1000) exceeded. Latest difference = 6.244527e-05\n",
      "  AccuracyWarning)\n",
      "C:\\ProgramData\\Anaconda2\\lib\\site-packages\\scipy\\integrate\\quadrature.py:196: AccuracyWarning: maxiter (1000) exceeded. Latest difference = 2.933200e-05\n",
      "  AccuracyWarning)\n",
      "C:\\ProgramData\\Anaconda2\\lib\\site-packages\\scipy\\integrate\\quadrature.py:196: AccuracyWarning: maxiter (1000) exceeded. Latest difference = 1.781048e-05\n",
      "  AccuracyWarning)\n",
      "C:\\ProgramData\\Anaconda2\\lib\\site-packages\\scipy\\integrate\\quadrature.py:196: AccuracyWarning: maxiter (1000) exceeded. Latest difference = 7.279032e-05\n",
      "  AccuracyWarning)\n",
      "C:\\ProgramData\\Anaconda2\\lib\\site-packages\\scipy\\integrate\\quadrature.py:196: AccuracyWarning: maxiter (1000) exceeded. Latest difference = 1.606987e-04\n",
      "  AccuracyWarning)\n",
      "C:\\ProgramData\\Anaconda2\\lib\\site-packages\\scipy\\integrate\\quadrature.py:196: AccuracyWarning: maxiter (1000) exceeded. Latest difference = 1.912395e-04\n",
      "  AccuracyWarning)\n",
      "C:\\ProgramData\\Anaconda2\\lib\\site-packages\\scipy\\integrate\\quadrature.py:196: AccuracyWarning: maxiter (1000) exceeded. Latest difference = 2.170003e-04\n",
      "  AccuracyWarning)\n",
      "C:\\ProgramData\\Anaconda2\\lib\\site-packages\\scipy\\integrate\\quadrature.py:196: AccuracyWarning: maxiter (1000) exceeded. Latest difference = 2.386299e-04\n",
      "  AccuracyWarning)\n",
      "C:\\ProgramData\\Anaconda2\\lib\\site-packages\\scipy\\integrate\\quadrature.py:196: AccuracyWarning: maxiter (1000) exceeded. Latest difference = 2.576825e-04\n",
      "  AccuracyWarning)\n",
      "C:\\ProgramData\\Anaconda2\\lib\\site-packages\\scipy\\integrate\\quadrature.py:196: AccuracyWarning: maxiter (1000) exceeded. Latest difference = 2.730395e-04\n",
      "  AccuracyWarning)\n",
      "C:\\ProgramData\\Anaconda2\\lib\\site-packages\\scipy\\integrate\\quadrature.py:196: AccuracyWarning: maxiter (1000) exceeded. Latest difference = 2.857144e-04\n",
      "  AccuracyWarning)\n",
      "C:\\ProgramData\\Anaconda2\\lib\\site-packages\\scipy\\integrate\\quadrature.py:196: AccuracyWarning: maxiter (1000) exceeded. Latest difference = 2.951198e-04\n",
      "  AccuracyWarning)\n",
      "C:\\ProgramData\\Anaconda2\\lib\\site-packages\\scipy\\integrate\\quadrature.py:196: AccuracyWarning: maxiter (1000) exceeded. Latest difference = 3.019953e-04\n",
      "  AccuracyWarning)\n",
      "C:\\ProgramData\\Anaconda2\\lib\\site-packages\\scipy\\integrate\\quadrature.py:196: AccuracyWarning: maxiter (1000) exceeded. Latest difference = 3.047203e-04\n",
      "  AccuracyWarning)\n",
      "C:\\ProgramData\\Anaconda2\\lib\\site-packages\\scipy\\integrate\\quadrature.py:196: AccuracyWarning: maxiter (1000) exceeded. Latest difference = 3.046847e-04\n",
      "  AccuracyWarning)\n",
      "C:\\ProgramData\\Anaconda2\\lib\\site-packages\\scipy\\integrate\\quadrature.py:196: AccuracyWarning: maxiter (1000) exceeded. Latest difference = 3.000742e-04\n",
      "  AccuracyWarning)\n",
      "C:\\ProgramData\\Anaconda2\\lib\\site-packages\\scipy\\integrate\\quadrature.py:196: AccuracyWarning: maxiter (1000) exceeded. Latest difference = 2.933489e-04\n",
      "  AccuracyWarning)\n",
      "C:\\ProgramData\\Anaconda2\\lib\\site-packages\\scipy\\integrate\\quadrature.py:196: AccuracyWarning: maxiter (1000) exceeded. Latest difference = 2.836390e-04\n",
      "  AccuracyWarning)\n",
      "C:\\ProgramData\\Anaconda2\\lib\\site-packages\\scipy\\integrate\\quadrature.py:196: AccuracyWarning: maxiter (1000) exceeded. Latest difference = 2.736244e-04\n",
      "  AccuracyWarning)\n",
      "C:\\ProgramData\\Anaconda2\\lib\\site-packages\\scipy\\integrate\\quadrature.py:196: AccuracyWarning: maxiter (1000) exceeded. Latest difference = 2.628708e-04\n",
      "  AccuracyWarning)\n",
      "C:\\ProgramData\\Anaconda2\\lib\\site-packages\\scipy\\integrate\\quadrature.py:196: AccuracyWarning: maxiter (1000) exceeded. Latest difference = 2.527136e-04\n",
      "  AccuracyWarning)\n",
      "C:\\ProgramData\\Anaconda2\\lib\\site-packages\\scipy\\integrate\\quadrature.py:196: AccuracyWarning: maxiter (1000) exceeded. Latest difference = 2.430087e-04\n",
      "  AccuracyWarning)\n",
      "C:\\ProgramData\\Anaconda2\\lib\\site-packages\\scipy\\integrate\\quadrature.py:196: AccuracyWarning: maxiter (1000) exceeded. Latest difference = 2.355800e-04\n",
      "  AccuracyWarning)\n",
      "C:\\ProgramData\\Anaconda2\\lib\\site-packages\\scipy\\integrate\\quadrature.py:196: AccuracyWarning: maxiter (1000) exceeded. Latest difference = 2.301690e-04\n",
      "  AccuracyWarning)\n",
      "C:\\ProgramData\\Anaconda2\\lib\\site-packages\\scipy\\integrate\\quadrature.py:196: AccuracyWarning: maxiter (1000) exceeded. Latest difference = 2.249384e-04\n",
      "  AccuracyWarning)\n",
      "C:\\ProgramData\\Anaconda2\\lib\\site-packages\\scipy\\integrate\\quadrature.py:196: AccuracyWarning: maxiter (1000) exceeded. Latest difference = 2.159583e-04\n",
      "  AccuracyWarning)\n",
      "C:\\ProgramData\\Anaconda2\\lib\\site-packages\\scipy\\integrate\\quadrature.py:196: AccuracyWarning: maxiter (1000) exceeded. Latest difference = 2.032277e-04\n",
      "  AccuracyWarning)\n",
      "C:\\ProgramData\\Anaconda2\\lib\\site-packages\\scipy\\integrate\\quadrature.py:196: AccuracyWarning: maxiter (1000) exceeded. Latest difference = 1.851291e-04\n",
      "  AccuracyWarning)\n",
      "C:\\ProgramData\\Anaconda2\\lib\\site-packages\\scipy\\integrate\\quadrature.py:196: AccuracyWarning: maxiter (1000) exceeded. Latest difference = 1.630385e-04\n",
      "  AccuracyWarning)\n",
      "C:\\ProgramData\\Anaconda2\\lib\\site-packages\\scipy\\integrate\\quadrature.py:196: AccuracyWarning: maxiter (1000) exceeded. Latest difference = 1.362649e-04\n",
      "  AccuracyWarning)\n",
      "C:\\ProgramData\\Anaconda2\\lib\\site-packages\\scipy\\integrate\\quadrature.py:196: AccuracyWarning: maxiter (1000) exceeded. Latest difference = 7.871682e-05\n",
      "  AccuracyWarning)\n",
      "C:\\ProgramData\\Anaconda2\\lib\\site-packages\\scipy\\integrate\\quadrature.py:196: AccuracyWarning: maxiter (1000) exceeded. Latest difference = 4.995012e-05\n",
      "  AccuracyWarning)\n",
      "C:\\ProgramData\\Anaconda2\\lib\\site-packages\\scipy\\integrate\\quadrature.py:196: AccuracyWarning: maxiter (1000) exceeded. Latest difference = 2.133325e-05\n",
      "  AccuracyWarning)\n",
      "C:\\ProgramData\\Anaconda2\\lib\\site-packages\\scipy\\integrate\\quadrature.py:196: AccuracyWarning: maxiter (1000) exceeded. Latest difference = 7.729406e-06\n",
      "  AccuracyWarning)\n",
      "C:\\ProgramData\\Anaconda2\\lib\\site-packages\\scipy\\integrate\\quadrature.py:196: AccuracyWarning: maxiter (1000) exceeded. Latest difference = 3.675990e-05\n",
      "  AccuracyWarning)\n",
      "C:\\ProgramData\\Anaconda2\\lib\\site-packages\\scipy\\integrate\\quadrature.py:196: AccuracyWarning: maxiter (1000) exceeded. Latest difference = 6.606097e-05\n",
      "  AccuracyWarning)\n",
      "C:\\ProgramData\\Anaconda2\\lib\\site-packages\\scipy\\integrate\\quadrature.py:196: AccuracyWarning: maxiter (1000) exceeded. Latest difference = 9.492307e-05\n",
      "  AccuracyWarning)\n",
      "C:\\ProgramData\\Anaconda2\\lib\\site-packages\\scipy\\integrate\\quadrature.py:196: AccuracyWarning: maxiter (1000) exceeded. Latest difference = 1.232486e-04\n",
      "  AccuracyWarning)\n",
      "C:\\ProgramData\\Anaconda2\\lib\\site-packages\\scipy\\integrate\\quadrature.py:196: AccuracyWarning: maxiter (1000) exceeded. Latest difference = 1.499936e-04\n",
      "  AccuracyWarning)\n",
      "C:\\ProgramData\\Anaconda2\\lib\\site-packages\\scipy\\integrate\\quadrature.py:196: AccuracyWarning: maxiter (1000) exceeded. Latest difference = 1.769342e-04\n",
      "  AccuracyWarning)\n",
      "C:\\ProgramData\\Anaconda2\\lib\\site-packages\\scipy\\integrate\\quadrature.py:196: AccuracyWarning: maxiter (1000) exceeded. Latest difference = 2.022731e-04\n",
      "  AccuracyWarning)\n",
      "C:\\ProgramData\\Anaconda2\\lib\\site-packages\\scipy\\integrate\\quadrature.py:196: AccuracyWarning: maxiter (1000) exceeded. Latest difference = 2.228061e-04\n",
      "  AccuracyWarning)\n",
      "C:\\ProgramData\\Anaconda2\\lib\\site-packages\\scipy\\integrate\\quadrature.py:196: AccuracyWarning: maxiter (1000) exceeded. Latest difference = 2.304083e-04\n",
      "  AccuracyWarning)\n",
      "C:\\ProgramData\\Anaconda2\\lib\\site-packages\\scipy\\integrate\\quadrature.py:196: AccuracyWarning: maxiter (1000) exceeded. Latest difference = 2.274879e-04\n",
      "  AccuracyWarning)\n",
      "C:\\ProgramData\\Anaconda2\\lib\\site-packages\\scipy\\integrate\\quadrature.py:196: AccuracyWarning: maxiter (1000) exceeded. Latest difference = 2.147440e-04\n",
      "  AccuracyWarning)\n",
      "C:\\ProgramData\\Anaconda2\\lib\\site-packages\\scipy\\integrate\\quadrature.py:196: AccuracyWarning: maxiter (1000) exceeded. Latest difference = 1.999319e-04\n",
      "  AccuracyWarning)\n",
      "C:\\ProgramData\\Anaconda2\\lib\\site-packages\\scipy\\integrate\\quadrature.py:196: AccuracyWarning: maxiter (1000) exceeded. Latest difference = 1.865183e-04\n",
      "  AccuracyWarning)\n",
      "C:\\ProgramData\\Anaconda2\\lib\\site-packages\\scipy\\integrate\\quadrature.py:196: AccuracyWarning: maxiter (1000) exceeded. Latest difference = 1.762902e-04\n",
      "  AccuracyWarning)\n",
      "C:\\ProgramData\\Anaconda2\\lib\\site-packages\\scipy\\integrate\\quadrature.py:196: AccuracyWarning: maxiter (1000) exceeded. Latest difference = 1.678331e-04\n",
      "  AccuracyWarning)\n",
      "C:\\ProgramData\\Anaconda2\\lib\\site-packages\\scipy\\integrate\\quadrature.py:196: AccuracyWarning: maxiter (1000) exceeded. Latest difference = 1.603242e-04\n",
      "  AccuracyWarning)\n",
      "C:\\ProgramData\\Anaconda2\\lib\\site-packages\\scipy\\integrate\\quadrature.py:196: AccuracyWarning: maxiter (1000) exceeded. Latest difference = 1.531884e-04\n",
      "  AccuracyWarning)\n",
      "C:\\ProgramData\\Anaconda2\\lib\\site-packages\\scipy\\integrate\\quadrature.py:196: AccuracyWarning: maxiter (1000) exceeded. Latest difference = 1.471037e-04\n",
      "  AccuracyWarning)\n",
      "C:\\ProgramData\\Anaconda2\\lib\\site-packages\\scipy\\integrate\\quadrature.py:196: AccuracyWarning: maxiter (1000) exceeded. Latest difference = 1.425851e-04\n",
      "  AccuracyWarning)\n",
      "C:\\ProgramData\\Anaconda2\\lib\\site-packages\\scipy\\integrate\\quadrature.py:196: AccuracyWarning: maxiter (1000) exceeded. Latest difference = 1.387870e-04\n",
      "  AccuracyWarning)\n",
      "C:\\ProgramData\\Anaconda2\\lib\\site-packages\\scipy\\integrate\\quadrature.py:196: AccuracyWarning: maxiter (1000) exceeded. Latest difference = 1.346788e-04\n",
      "  AccuracyWarning)\n",
      "C:\\ProgramData\\Anaconda2\\lib\\site-packages\\scipy\\integrate\\quadrature.py:196: AccuracyWarning: maxiter (1000) exceeded. Latest difference = 1.298861e-04\n",
      "  AccuracyWarning)\n",
      "C:\\ProgramData\\Anaconda2\\lib\\site-packages\\scipy\\integrate\\quadrature.py:196: AccuracyWarning: maxiter (1000) exceeded. Latest difference = 1.247986e-04\n",
      "  AccuracyWarning)\n",
      "C:\\ProgramData\\Anaconda2\\lib\\site-packages\\scipy\\integrate\\quadrature.py:196: AccuracyWarning: maxiter (1000) exceeded. Latest difference = 1.189439e-04\n",
      "  AccuracyWarning)\n",
      "C:\\ProgramData\\Anaconda2\\lib\\site-packages\\scipy\\integrate\\quadrature.py:196: AccuracyWarning: maxiter (1000) exceeded. Latest difference = 1.131026e-04\n",
      "  AccuracyWarning)\n",
      "C:\\ProgramData\\Anaconda2\\lib\\site-packages\\scipy\\integrate\\quadrature.py:196: AccuracyWarning: maxiter (1000) exceeded. Latest difference = 1.072204e-04\n",
      "  AccuracyWarning)\n",
      "C:\\ProgramData\\Anaconda2\\lib\\site-packages\\scipy\\integrate\\quadrature.py:196: AccuracyWarning: maxiter (1000) exceeded. Latest difference = 1.027030e-04\n",
      "  AccuracyWarning)\n",
      "C:\\ProgramData\\Anaconda2\\lib\\site-packages\\scipy\\integrate\\quadrature.py:196: AccuracyWarning: maxiter (1000) exceeded. Latest difference = 9.852155e-05\n",
      "  AccuracyWarning)\n",
      "C:\\ProgramData\\Anaconda2\\lib\\site-packages\\scipy\\integrate\\quadrature.py:196: AccuracyWarning: maxiter (1000) exceeded. Latest difference = 9.524860e-05\n",
      "  AccuracyWarning)\n",
      "C:\\ProgramData\\Anaconda2\\lib\\site-packages\\scipy\\integrate\\quadrature.py:196: AccuracyWarning: maxiter (1000) exceeded. Latest difference = 9.259193e-05\n",
      "  AccuracyWarning)\n",
      "C:\\ProgramData\\Anaconda2\\lib\\site-packages\\scipy\\integrate\\quadrature.py:196: AccuracyWarning: maxiter (1000) exceeded. Latest difference = 9.102318e-05\n",
      "  AccuracyWarning)\n",
      "C:\\ProgramData\\Anaconda2\\lib\\site-packages\\scipy\\integrate\\quadrature.py:196: AccuracyWarning: maxiter (1000) exceeded. Latest difference = 8.876250e-05\n",
      "  AccuracyWarning)\n",
      "C:\\ProgramData\\Anaconda2\\lib\\site-packages\\scipy\\integrate\\quadrature.py:196: AccuracyWarning: maxiter (1000) exceeded. Latest difference = 8.499723e-05\n",
      "  AccuracyWarning)\n",
      "C:\\ProgramData\\Anaconda2\\lib\\site-packages\\scipy\\integrate\\quadrature.py:196: AccuracyWarning: maxiter (1000) exceeded. Latest difference = 8.070003e-05\n",
      "  AccuracyWarning)\n",
      "C:\\ProgramData\\Anaconda2\\lib\\site-packages\\scipy\\integrate\\quadrature.py:196: AccuracyWarning: maxiter (1000) exceeded. Latest difference = 7.655316e-05\n",
      "  AccuracyWarning)\n",
      "C:\\ProgramData\\Anaconda2\\lib\\site-packages\\scipy\\integrate\\quadrature.py:196: AccuracyWarning: maxiter (1000) exceeded. Latest difference = 7.185771e-05\n",
      "  AccuracyWarning)\n",
      "C:\\ProgramData\\Anaconda2\\lib\\site-packages\\scipy\\integrate\\quadrature.py:196: AccuracyWarning: maxiter (1000) exceeded. Latest difference = 6.587470e-05\n",
      "  AccuracyWarning)\n",
      "C:\\ProgramData\\Anaconda2\\lib\\site-packages\\scipy\\integrate\\quadrature.py:196: AccuracyWarning: maxiter (1000) exceeded. Latest difference = 5.957327e-05\n",
      "  AccuracyWarning)\n",
      "C:\\ProgramData\\Anaconda2\\lib\\site-packages\\scipy\\integrate\\quadrature.py:196: AccuracyWarning: maxiter (1000) exceeded. Latest difference = 5.486482e-05\n",
      "  AccuracyWarning)\n",
      "C:\\ProgramData\\Anaconda2\\lib\\site-packages\\scipy\\integrate\\quadrature.py:196: AccuracyWarning: maxiter (1000) exceeded. Latest difference = 5.107238e-05\n",
      "  AccuracyWarning)\n",
      "C:\\ProgramData\\Anaconda2\\lib\\site-packages\\scipy\\integrate\\quadrature.py:196: AccuracyWarning: maxiter (1000) exceeded. Latest difference = 4.716788e-05\n",
      "  AccuracyWarning)\n",
      "C:\\ProgramData\\Anaconda2\\lib\\site-packages\\scipy\\integrate\\quadrature.py:196: AccuracyWarning: maxiter (1000) exceeded. Latest difference = 4.286429e-05\n",
      "  AccuracyWarning)\n",
      "C:\\ProgramData\\Anaconda2\\lib\\site-packages\\scipy\\integrate\\quadrature.py:196: AccuracyWarning: maxiter (1000) exceeded. Latest difference = 3.815659e-05\n",
      "  AccuracyWarning)\n",
      "C:\\ProgramData\\Anaconda2\\lib\\site-packages\\scipy\\integrate\\quadrature.py:196: AccuracyWarning: maxiter (1000) exceeded. Latest difference = 3.269894e-05\n",
      "  AccuracyWarning)\n",
      "C:\\ProgramData\\Anaconda2\\lib\\site-packages\\scipy\\integrate\\quadrature.py:196: AccuracyWarning: maxiter (1000) exceeded. Latest difference = 2.537297e-05\n",
      "  AccuracyWarning)\n",
      "C:\\ProgramData\\Anaconda2\\lib\\site-packages\\scipy\\integrate\\quadrature.py:196: AccuracyWarning: maxiter (1000) exceeded. Latest difference = 1.709825e-05\n",
      "  AccuracyWarning)\n",
      "C:\\ProgramData\\Anaconda2\\lib\\site-packages\\scipy\\integrate\\quadrature.py:196: AccuracyWarning: maxiter (1000) exceeded. Latest difference = 2.061095e-06\n",
      "  AccuracyWarning)\n",
      "C:\\ProgramData\\Anaconda2\\lib\\site-packages\\scipy\\integrate\\quadrature.py:196: AccuracyWarning: maxiter (1000) exceeded. Latest difference = 1.239288e-05\n",
      "  AccuracyWarning)\n",
      "C:\\ProgramData\\Anaconda2\\lib\\site-packages\\scipy\\integrate\\quadrature.py:196: AccuracyWarning: maxiter (1000) exceeded. Latest difference = 2.175042e-05\n",
      "  AccuracyWarning)\n",
      "C:\\ProgramData\\Anaconda2\\lib\\site-packages\\scipy\\integrate\\quadrature.py:196: AccuracyWarning: maxiter (1000) exceeded. Latest difference = 3.070518e-05\n",
      "  AccuracyWarning)\n",
      "C:\\ProgramData\\Anaconda2\\lib\\site-packages\\scipy\\integrate\\quadrature.py:196: AccuracyWarning: maxiter (1000) exceeded. Latest difference = 3.943087e-05\n",
      "  AccuracyWarning)\n",
      "C:\\ProgramData\\Anaconda2\\lib\\site-packages\\scipy\\integrate\\quadrature.py:196: AccuracyWarning: maxiter (1000) exceeded. Latest difference = 4.997022e-05\n",
      "  AccuracyWarning)\n",
      "C:\\ProgramData\\Anaconda2\\lib\\site-packages\\scipy\\integrate\\quadrature.py:196: AccuracyWarning: maxiter (1000) exceeded. Latest difference = 6.102550e-05\n",
      "  AccuracyWarning)\n",
      "C:\\ProgramData\\Anaconda2\\lib\\site-packages\\scipy\\integrate\\quadrature.py:196: AccuracyWarning: maxiter (1000) exceeded. Latest difference = 7.316768e-05\n",
      "  AccuracyWarning)\n",
      "C:\\ProgramData\\Anaconda2\\lib\\site-packages\\scipy\\integrate\\quadrature.py:196: AccuracyWarning: maxiter (1000) exceeded. Latest difference = 8.573071e-05\n",
      "  AccuracyWarning)\n",
      "C:\\ProgramData\\Anaconda2\\lib\\site-packages\\scipy\\integrate\\quadrature.py:196: AccuracyWarning: maxiter (1000) exceeded. Latest difference = 1.021937e-04\n",
      "  AccuracyWarning)\n",
      "C:\\ProgramData\\Anaconda2\\lib\\site-packages\\scipy\\integrate\\quadrature.py:196: AccuracyWarning: maxiter (1000) exceeded. Latest difference = 1.247054e-04\n",
      "  AccuracyWarning)\n",
      "C:\\ProgramData\\Anaconda2\\lib\\site-packages\\scipy\\integrate\\quadrature.py:196: AccuracyWarning: maxiter (1000) exceeded. Latest difference = 1.574251e-04\n",
      "  AccuracyWarning)\n",
      "C:\\ProgramData\\Anaconda2\\lib\\site-packages\\scipy\\integrate\\quadrature.py:196: AccuracyWarning: maxiter (1000) exceeded. Latest difference = 1.972911e-04\n",
      "  AccuracyWarning)\n",
      "C:\\ProgramData\\Anaconda2\\lib\\site-packages\\scipy\\integrate\\quadrature.py:196: AccuracyWarning: maxiter (1000) exceeded. Latest difference = 2.400486e-04\n",
      "  AccuracyWarning)\n",
      "C:\\ProgramData\\Anaconda2\\lib\\site-packages\\scipy\\integrate\\quadrature.py:196: AccuracyWarning: maxiter (1000) exceeded. Latest difference = 2.791300e-04\n",
      "  AccuracyWarning)\n",
      "C:\\ProgramData\\Anaconda2\\lib\\site-packages\\scipy\\integrate\\quadrature.py:196: AccuracyWarning: maxiter (1000) exceeded. Latest difference = 3.088823e-04\n",
      "  AccuracyWarning)\n",
      "C:\\ProgramData\\Anaconda2\\lib\\site-packages\\scipy\\integrate\\quadrature.py:196: AccuracyWarning: maxiter (1000) exceeded. Latest difference = 3.330039e-04\n",
      "  AccuracyWarning)\n",
      "C:\\ProgramData\\Anaconda2\\lib\\site-packages\\scipy\\integrate\\quadrature.py:196: AccuracyWarning: maxiter (1000) exceeded. Latest difference = 3.526700e-04\n",
      "  AccuracyWarning)\n",
      "C:\\ProgramData\\Anaconda2\\lib\\site-packages\\scipy\\integrate\\quadrature.py:196: AccuracyWarning: maxiter (1000) exceeded. Latest difference = 3.699838e-04\n",
      "  AccuracyWarning)\n",
      "C:\\ProgramData\\Anaconda2\\lib\\site-packages\\scipy\\integrate\\quadrature.py:196: AccuracyWarning: maxiter (1000) exceeded. Latest difference = 3.824468e-04\n",
      "  AccuracyWarning)\n",
      "C:\\ProgramData\\Anaconda2\\lib\\site-packages\\scipy\\integrate\\quadrature.py:196: AccuracyWarning: maxiter (1000) exceeded. Latest difference = 3.919076e-04\n",
      "  AccuracyWarning)\n",
      "C:\\ProgramData\\Anaconda2\\lib\\site-packages\\scipy\\integrate\\quadrature.py:196: AccuracyWarning: maxiter (1000) exceeded. Latest difference = 3.970093e-04\n",
      "  AccuracyWarning)\n",
      "C:\\ProgramData\\Anaconda2\\lib\\site-packages\\scipy\\integrate\\quadrature.py:196: AccuracyWarning: maxiter (1000) exceeded. Latest difference = 3.995016e-04\n",
      "  AccuracyWarning)\n",
      "C:\\ProgramData\\Anaconda2\\lib\\site-packages\\scipy\\integrate\\quadrature.py:196: AccuracyWarning: maxiter (1000) exceeded. Latest difference = 3.976966e-04\n",
      "  AccuracyWarning)\n",
      "C:\\ProgramData\\Anaconda2\\lib\\site-packages\\scipy\\integrate\\quadrature.py:196: AccuracyWarning: maxiter (1000) exceeded. Latest difference = 3.934317e-04\n",
      "  AccuracyWarning)\n",
      "C:\\ProgramData\\Anaconda2\\lib\\site-packages\\scipy\\integrate\\quadrature.py:196: AccuracyWarning: maxiter (1000) exceeded. Latest difference = 3.836189e-04\n",
      "  AccuracyWarning)\n",
      "C:\\ProgramData\\Anaconda2\\lib\\site-packages\\scipy\\integrate\\quadrature.py:196: AccuracyWarning: maxiter (1000) exceeded. Latest difference = 3.688707e-04\n",
      "  AccuracyWarning)\n",
      "C:\\ProgramData\\Anaconda2\\lib\\site-packages\\scipy\\integrate\\quadrature.py:196: AccuracyWarning: maxiter (1000) exceeded. Latest difference = 3.455538e-04\n",
      "  AccuracyWarning)\n",
      "C:\\ProgramData\\Anaconda2\\lib\\site-packages\\scipy\\integrate\\quadrature.py:196: AccuracyWarning: maxiter (1000) exceeded. Latest difference = 3.178569e-04\n",
      "  AccuracyWarning)\n",
      "C:\\ProgramData\\Anaconda2\\lib\\site-packages\\scipy\\integrate\\quadrature.py:196: AccuracyWarning: maxiter (1000) exceeded. Latest difference = 2.862826e-04\n",
      "  AccuracyWarning)\n",
      "C:\\ProgramData\\Anaconda2\\lib\\site-packages\\scipy\\integrate\\quadrature.py:196: AccuracyWarning: maxiter (1000) exceeded. Latest difference = 2.542655e-04\n",
      "  AccuracyWarning)\n",
      "C:\\ProgramData\\Anaconda2\\lib\\site-packages\\scipy\\integrate\\quadrature.py:196: AccuracyWarning: maxiter (1000) exceeded. Latest difference = 2.228011e-04\n",
      "  AccuracyWarning)\n",
      "C:\\ProgramData\\Anaconda2\\lib\\site-packages\\scipy\\integrate\\quadrature.py:196: AccuracyWarning: maxiter (1000) exceeded. Latest difference = 1.953620e-04\n",
      "  AccuracyWarning)\n",
      "C:\\ProgramData\\Anaconda2\\lib\\site-packages\\scipy\\integrate\\quadrature.py:196: AccuracyWarning: maxiter (1000) exceeded. Latest difference = 1.725697e-04\n",
      "  AccuracyWarning)\n",
      "C:\\ProgramData\\Anaconda2\\lib\\site-packages\\scipy\\integrate\\quadrature.py:196: AccuracyWarning: maxiter (1000) exceeded. Latest difference = 1.521825e-04\n",
      "  AccuracyWarning)\n",
      "C:\\ProgramData\\Anaconda2\\lib\\site-packages\\scipy\\integrate\\quadrature.py:196: AccuracyWarning: maxiter (1000) exceeded. Latest difference = 1.293826e-04\n",
      "  AccuracyWarning)\n",
      "C:\\ProgramData\\Anaconda2\\lib\\site-packages\\scipy\\integrate\\quadrature.py:196: AccuracyWarning: maxiter (1000) exceeded. Latest difference = 1.043227e-04\n",
      "  AccuracyWarning)\n",
      "C:\\ProgramData\\Anaconda2\\lib\\site-packages\\scipy\\integrate\\quadrature.py:196: AccuracyWarning: maxiter (1000) exceeded. Latest difference = 7.523648e-05\n",
      "  AccuracyWarning)\n",
      "C:\\ProgramData\\Anaconda2\\lib\\site-packages\\scipy\\integrate\\quadrature.py:196: AccuracyWarning: maxiter (1000) exceeded. Latest difference = 4.291284e-05\n",
      "  AccuracyWarning)\n",
      "C:\\ProgramData\\Anaconda2\\lib\\site-packages\\scipy\\integrate\\quadrature.py:196: AccuracyWarning: maxiter (1000) exceeded. Latest difference = 4.948262e-06\n",
      "  AccuracyWarning)\n",
      "C:\\ProgramData\\Anaconda2\\lib\\site-packages\\scipy\\integrate\\quadrature.py:196: AccuracyWarning: maxiter (1000) exceeded. Latest difference = 3.742778e-05\n",
      "  AccuracyWarning)\n",
      "C:\\ProgramData\\Anaconda2\\lib\\site-packages\\scipy\\integrate\\quadrature.py:196: AccuracyWarning: maxiter (1000) exceeded. Latest difference = 8.397665e-05\n",
      "  AccuracyWarning)\n",
      "C:\\ProgramData\\Anaconda2\\lib\\site-packages\\scipy\\integrate\\quadrature.py:196: AccuracyWarning: maxiter (1000) exceeded. Latest difference = 1.337343e-04\n",
      "  AccuracyWarning)\n",
      "C:\\ProgramData\\Anaconda2\\lib\\site-packages\\scipy\\integrate\\quadrature.py:196: AccuracyWarning: maxiter (1000) exceeded. Latest difference = 1.846823e-04\n",
      "  AccuracyWarning)\n",
      "C:\\ProgramData\\Anaconda2\\lib\\site-packages\\scipy\\integrate\\quadrature.py:196: AccuracyWarning: maxiter (1000) exceeded. Latest difference = 2.374485e-04\n",
      "  AccuracyWarning)\n",
      "C:\\ProgramData\\Anaconda2\\lib\\site-packages\\scipy\\integrate\\quadrature.py:196: AccuracyWarning: maxiter (1000) exceeded. Latest difference = 2.893309e-04\n",
      "  AccuracyWarning)\n",
      "C:\\ProgramData\\Anaconda2\\lib\\site-packages\\scipy\\integrate\\quadrature.py:196: AccuracyWarning: maxiter (1000) exceeded. Latest difference = 3.423557e-04\n",
      "  AccuracyWarning)\n",
      "C:\\ProgramData\\Anaconda2\\lib\\site-packages\\scipy\\integrate\\quadrature.py:196: AccuracyWarning: maxiter (1000) exceeded. Latest difference = 3.943568e-04\n",
      "  AccuracyWarning)\n",
      "C:\\ProgramData\\Anaconda2\\lib\\site-packages\\scipy\\integrate\\quadrature.py:196: AccuracyWarning: maxiter (1000) exceeded. Latest difference = 4.457610e-04\n",
      "  AccuracyWarning)\n",
      "C:\\ProgramData\\Anaconda2\\lib\\site-packages\\scipy\\integrate\\quadrature.py:196: AccuracyWarning: maxiter (1000) exceeded. Latest difference = 4.939393e-04\n",
      "  AccuracyWarning)\n",
      "C:\\ProgramData\\Anaconda2\\lib\\site-packages\\scipy\\integrate\\quadrature.py:196: AccuracyWarning: maxiter (1000) exceeded. Latest difference = 5.421864e-04\n",
      "  AccuracyWarning)\n",
      "C:\\ProgramData\\Anaconda2\\lib\\site-packages\\scipy\\integrate\\quadrature.py:196: AccuracyWarning: maxiter (1000) exceeded. Latest difference = 5.872734e-04\n",
      "  AccuracyWarning)\n",
      "C:\\ProgramData\\Anaconda2\\lib\\site-packages\\scipy\\integrate\\quadrature.py:196: AccuracyWarning: maxiter (1000) exceeded. Latest difference = 6.288390e-04\n",
      "  AccuracyWarning)\n",
      "C:\\ProgramData\\Anaconda2\\lib\\site-packages\\scipy\\integrate\\quadrature.py:196: AccuracyWarning: maxiter (1000) exceeded. Latest difference = 6.494545e-04\n",
      "  AccuracyWarning)\n",
      "C:\\ProgramData\\Anaconda2\\lib\\site-packages\\scipy\\integrate\\quadrature.py:196: AccuracyWarning: maxiter (1000) exceeded. Latest difference = 6.343008e-04\n",
      "  AccuracyWarning)\n",
      "C:\\ProgramData\\Anaconda2\\lib\\site-packages\\scipy\\integrate\\quadrature.py:196: AccuracyWarning: maxiter (1000) exceeded. Latest difference = 5.655437e-04\n",
      "  AccuracyWarning)\n",
      "C:\\ProgramData\\Anaconda2\\lib\\site-packages\\scipy\\integrate\\quadrature.py:196: AccuracyWarning: maxiter (1000) exceeded. Latest difference = 4.763004e-04\n",
      "  AccuracyWarning)\n",
      "C:\\ProgramData\\Anaconda2\\lib\\site-packages\\scipy\\integrate\\quadrature.py:196: AccuracyWarning: maxiter (1000) exceeded. Latest difference = 3.944669e-04\n",
      "  AccuracyWarning)\n",
      "C:\\ProgramData\\Anaconda2\\lib\\site-packages\\scipy\\integrate\\quadrature.py:196: AccuracyWarning: maxiter (1000) exceeded. Latest difference = 3.293253e-04\n",
      "  AccuracyWarning)\n",
      "C:\\ProgramData\\Anaconda2\\lib\\site-packages\\scipy\\integrate\\quadrature.py:196: AccuracyWarning: maxiter (1000) exceeded. Latest difference = 2.769698e-04\n",
      "  AccuracyWarning)\n",
      "C:\\ProgramData\\Anaconda2\\lib\\site-packages\\scipy\\integrate\\quadrature.py:196: AccuracyWarning: maxiter (1000) exceeded. Latest difference = 2.314943e-04\n",
      "  AccuracyWarning)\n",
      "C:\\ProgramData\\Anaconda2\\lib\\site-packages\\scipy\\integrate\\quadrature.py:196: AccuracyWarning: maxiter (1000) exceeded. Latest difference = 1.917247e-04\n",
      "  AccuracyWarning)\n",
      "C:\\ProgramData\\Anaconda2\\lib\\site-packages\\scipy\\integrate\\quadrature.py:196: AccuracyWarning: maxiter (1000) exceeded. Latest difference = 1.561016e-04\n",
      "  AccuracyWarning)\n",
      "C:\\ProgramData\\Anaconda2\\lib\\site-packages\\scipy\\integrate\\quadrature.py:196: AccuracyWarning: maxiter (1000) exceeded. Latest difference = 1.284517e-04\n",
      "  AccuracyWarning)\n",
      "C:\\ProgramData\\Anaconda2\\lib\\site-packages\\scipy\\integrate\\quadrature.py:196: AccuracyWarning: maxiter (1000) exceeded. Latest difference = 1.060644e-04\n",
      "  AccuracyWarning)\n",
      "C:\\ProgramData\\Anaconda2\\lib\\site-packages\\scipy\\integrate\\quadrature.py:196: AccuracyWarning: maxiter (1000) exceeded. Latest difference = 9.024714e-05\n",
      "  AccuracyWarning)\n",
      "C:\\ProgramData\\Anaconda2\\lib\\site-packages\\scipy\\integrate\\quadrature.py:196: AccuracyWarning: maxiter (1000) exceeded. Latest difference = 7.768311e-05\n",
      "  AccuracyWarning)\n",
      "C:\\ProgramData\\Anaconda2\\lib\\site-packages\\scipy\\integrate\\quadrature.py:196: AccuracyWarning: maxiter (1000) exceeded. Latest difference = 7.114880e-05\n",
      "  AccuracyWarning)\n",
      "C:\\ProgramData\\Anaconda2\\lib\\site-packages\\scipy\\integrate\\quadrature.py:196: AccuracyWarning: maxiter (1000) exceeded. Latest difference = 6.611177e-05\n",
      "  AccuracyWarning)\n",
      "C:\\ProgramData\\Anaconda2\\lib\\site-packages\\scipy\\integrate\\quadrature.py:196: AccuracyWarning: maxiter (1000) exceeded. Latest difference = 6.600061e-05\n",
      "  AccuracyWarning)\n",
      "C:\\ProgramData\\Anaconda2\\lib\\site-packages\\scipy\\integrate\\quadrature.py:196: AccuracyWarning: maxiter (1000) exceeded. Latest difference = 6.823412e-05\n",
      "  AccuracyWarning)\n",
      "C:\\ProgramData\\Anaconda2\\lib\\site-packages\\scipy\\integrate\\quadrature.py:196: AccuracyWarning: maxiter (1000) exceeded. Latest difference = 7.717599e-05\n",
      "  AccuracyWarning)\n",
      "C:\\ProgramData\\Anaconda2\\lib\\site-packages\\scipy\\integrate\\quadrature.py:196: AccuracyWarning: maxiter (1000) exceeded. Latest difference = 8.952051e-05\n",
      "  AccuracyWarning)\n",
      "C:\\ProgramData\\Anaconda2\\lib\\site-packages\\scipy\\integrate\\quadrature.py:196: AccuracyWarning: maxiter (1000) exceeded. Latest difference = 1.074761e-04\n",
      "  AccuracyWarning)\n",
      "C:\\ProgramData\\Anaconda2\\lib\\site-packages\\scipy\\integrate\\quadrature.py:196: AccuracyWarning: maxiter (1000) exceeded. Latest difference = 1.282916e-04\n",
      "  AccuracyWarning)\n",
      "C:\\ProgramData\\Anaconda2\\lib\\site-packages\\scipy\\integrate\\quadrature.py:196: AccuracyWarning: maxiter (1000) exceeded. Latest difference = 1.546828e-04\n",
      "  AccuracyWarning)\n",
      "C:\\ProgramData\\Anaconda2\\lib\\site-packages\\scipy\\integrate\\quadrature.py:196: AccuracyWarning: maxiter (1000) exceeded. Latest difference = 1.858223e-04\n",
      "  AccuracyWarning)\n",
      "C:\\ProgramData\\Anaconda2\\lib\\site-packages\\scipy\\integrate\\quadrature.py:196: AccuracyWarning: maxiter (1000) exceeded. Latest difference = 2.250928e-04\n",
      "  AccuracyWarning)\n",
      "C:\\ProgramData\\Anaconda2\\lib\\site-packages\\scipy\\integrate\\quadrature.py:196: AccuracyWarning: maxiter (1000) exceeded. Latest difference = 2.757448e-04\n",
      "  AccuracyWarning)\n",
      "C:\\ProgramData\\Anaconda2\\lib\\site-packages\\scipy\\integrate\\quadrature.py:196: AccuracyWarning: maxiter (1000) exceeded. Latest difference = 3.325643e-04\n",
      "  AccuracyWarning)\n",
      "C:\\ProgramData\\Anaconda2\\lib\\site-packages\\scipy\\integrate\\quadrature.py:196: AccuracyWarning: maxiter (1000) exceeded. Latest difference = 3.766270e-04\n",
      "  AccuracyWarning)\n",
      "C:\\ProgramData\\Anaconda2\\lib\\site-packages\\scipy\\integrate\\quadrature.py:196: AccuracyWarning: maxiter (1000) exceeded. Latest difference = 3.849077e-04\n",
      "  AccuracyWarning)\n",
      "C:\\ProgramData\\Anaconda2\\lib\\site-packages\\scipy\\integrate\\quadrature.py:196: AccuracyWarning: maxiter (1000) exceeded. Latest difference = 3.695505e-04\n",
      "  AccuracyWarning)\n",
      "C:\\ProgramData\\Anaconda2\\lib\\site-packages\\scipy\\integrate\\quadrature.py:196: AccuracyWarning: maxiter (1000) exceeded. Latest difference = 3.407360e-04\n",
      "  AccuracyWarning)\n",
      "C:\\ProgramData\\Anaconda2\\lib\\site-packages\\scipy\\integrate\\quadrature.py:196: AccuracyWarning: maxiter (1000) exceeded. Latest difference = 3.091885e-04\n",
      "  AccuracyWarning)\n",
      "C:\\ProgramData\\Anaconda2\\lib\\site-packages\\scipy\\integrate\\quadrature.py:196: AccuracyWarning: maxiter (1000) exceeded. Latest difference = 2.743696e-04\n",
      "  AccuracyWarning)\n",
      "C:\\ProgramData\\Anaconda2\\lib\\site-packages\\scipy\\integrate\\quadrature.py:196: AccuracyWarning: maxiter (1000) exceeded. Latest difference = 2.394126e-04\n",
      "  AccuracyWarning)\n",
      "C:\\ProgramData\\Anaconda2\\lib\\site-packages\\scipy\\integrate\\quadrature.py:196: AccuracyWarning: maxiter (1000) exceeded. Latest difference = 2.031057e-04\n",
      "  AccuracyWarning)\n",
      "C:\\ProgramData\\Anaconda2\\lib\\site-packages\\scipy\\integrate\\quadrature.py:196: AccuracyWarning: maxiter (1000) exceeded. Latest difference = 1.659883e-04\n",
      "  AccuracyWarning)\n",
      "C:\\ProgramData\\Anaconda2\\lib\\site-packages\\scipy\\integrate\\quadrature.py:196: AccuracyWarning: maxiter (1000) exceeded. Latest difference = 1.262646e-04\n",
      "  AccuracyWarning)\n",
      "C:\\ProgramData\\Anaconda2\\lib\\site-packages\\scipy\\integrate\\quadrature.py:196: AccuracyWarning: maxiter (1000) exceeded. Latest difference = 8.622713e-05\n",
      "  AccuracyWarning)\n",
      "C:\\ProgramData\\Anaconda2\\lib\\site-packages\\scipy\\integrate\\quadrature.py:196: AccuracyWarning: maxiter (1000) exceeded. Latest difference = 4.513702e-05\n",
      "  AccuracyWarning)\n",
      "C:\\ProgramData\\Anaconda2\\lib\\site-packages\\scipy\\integrate\\quadrature.py:196: AccuracyWarning: maxiter (1000) exceeded. Latest difference = 4.345855e-06\n",
      "  AccuracyWarning)\n",
      "C:\\ProgramData\\Anaconda2\\lib\\site-packages\\scipy\\integrate\\quadrature.py:196: AccuracyWarning: maxiter (1000) exceeded. Latest difference = 3.743837e-05\n",
      "  AccuracyWarning)\n",
      "C:\\ProgramData\\Anaconda2\\lib\\site-packages\\scipy\\integrate\\quadrature.py:196: AccuracyWarning: maxiter (1000) exceeded. Latest difference = 7.696018e-05\n",
      "  AccuracyWarning)\n",
      "C:\\ProgramData\\Anaconda2\\lib\\site-packages\\scipy\\integrate\\quadrature.py:196: AccuracyWarning: maxiter (1000) exceeded. Latest difference = 1.120918e-04\n",
      "  AccuracyWarning)\n",
      "C:\\ProgramData\\Anaconda2\\lib\\site-packages\\scipy\\integrate\\quadrature.py:196: AccuracyWarning: maxiter (1000) exceeded. Latest difference = 1.432423e-04\n",
      "  AccuracyWarning)\n",
      "C:\\ProgramData\\Anaconda2\\lib\\site-packages\\scipy\\integrate\\quadrature.py:196: AccuracyWarning: maxiter (1000) exceeded. Latest difference = 1.705160e-04\n",
      "  AccuracyWarning)\n",
      "C:\\ProgramData\\Anaconda2\\lib\\site-packages\\scipy\\integrate\\quadrature.py:196: AccuracyWarning: maxiter (1000) exceeded. Latest difference = 1.947705e-04\n",
      "  AccuracyWarning)\n",
      "C:\\ProgramData\\Anaconda2\\lib\\site-packages\\scipy\\integrate\\quadrature.py:196: AccuracyWarning: maxiter (1000) exceeded. Latest difference = 2.147101e-04\n",
      "  AccuracyWarning)\n",
      "C:\\ProgramData\\Anaconda2\\lib\\site-packages\\scipy\\integrate\\quadrature.py:196: AccuracyWarning: maxiter (1000) exceeded. Latest difference = 2.323979e-04\n",
      "  AccuracyWarning)\n",
      "C:\\ProgramData\\Anaconda2\\lib\\site-packages\\scipy\\integrate\\quadrature.py:196: AccuracyWarning: maxiter (1000) exceeded. Latest difference = 2.494502e-04\n",
      "  AccuracyWarning)\n",
      "C:\\ProgramData\\Anaconda2\\lib\\site-packages\\scipy\\integrate\\quadrature.py:196: AccuracyWarning: maxiter (1000) exceeded. Latest difference = 2.692283e-04\n",
      "  AccuracyWarning)\n",
      "C:\\ProgramData\\Anaconda2\\lib\\site-packages\\scipy\\integrate\\quadrature.py:196: AccuracyWarning: maxiter (1000) exceeded. Latest difference = 2.938475e-04\n",
      "  AccuracyWarning)\n",
      "C:\\ProgramData\\Anaconda2\\lib\\site-packages\\scipy\\integrate\\quadrature.py:196: AccuracyWarning: maxiter (1000) exceeded. Latest difference = 3.231107e-04\n",
      "  AccuracyWarning)\n",
      "C:\\ProgramData\\Anaconda2\\lib\\site-packages\\scipy\\integrate\\quadrature.py:196: AccuracyWarning: maxiter (1000) exceeded. Latest difference = 3.546022e-04\n",
      "  AccuracyWarning)\n",
      "C:\\ProgramData\\Anaconda2\\lib\\site-packages\\scipy\\integrate\\quadrature.py:196: AccuracyWarning: maxiter (1000) exceeded. Latest difference = 3.859164e-04\n",
      "  AccuracyWarning)\n",
      "C:\\ProgramData\\Anaconda2\\lib\\site-packages\\scipy\\integrate\\quadrature.py:196: AccuracyWarning: maxiter (1000) exceeded. Latest difference = 4.124558e-04\n",
      "  AccuracyWarning)\n",
      "C:\\ProgramData\\Anaconda2\\lib\\site-packages\\scipy\\integrate\\quadrature.py:196: AccuracyWarning: maxiter (1000) exceeded. Latest difference = 4.347284e-04\n",
      "  AccuracyWarning)\n",
      "C:\\ProgramData\\Anaconda2\\lib\\site-packages\\scipy\\integrate\\quadrature.py:196: AccuracyWarning: maxiter (1000) exceeded. Latest difference = 4.492182e-04\n",
      "  AccuracyWarning)\n",
      "C:\\ProgramData\\Anaconda2\\lib\\site-packages\\scipy\\integrate\\quadrature.py:196: AccuracyWarning: maxiter (1000) exceeded. Latest difference = 4.588872e-04\n",
      "  AccuracyWarning)\n",
      "C:\\ProgramData\\Anaconda2\\lib\\site-packages\\scipy\\integrate\\quadrature.py:196: AccuracyWarning: maxiter (1000) exceeded. Latest difference = 4.617932e-04\n",
      "  AccuracyWarning)\n",
      "C:\\ProgramData\\Anaconda2\\lib\\site-packages\\scipy\\integrate\\quadrature.py:196: AccuracyWarning: maxiter (1000) exceeded. Latest difference = 4.620421e-04\n",
      "  AccuracyWarning)\n",
      "C:\\ProgramData\\Anaconda2\\lib\\site-packages\\scipy\\integrate\\quadrature.py:196: AccuracyWarning: maxiter (1000) exceeded. Latest difference = 4.582683e-04\n",
      "  AccuracyWarning)\n",
      "C:\\ProgramData\\Anaconda2\\lib\\site-packages\\scipy\\integrate\\quadrature.py:196: AccuracyWarning: maxiter (1000) exceeded. Latest difference = 4.511325e-04\n",
      "  AccuracyWarning)\n",
      "C:\\ProgramData\\Anaconda2\\lib\\site-packages\\scipy\\integrate\\quadrature.py:196: AccuracyWarning: maxiter (1000) exceeded. Latest difference = 4.374699e-04\n",
      "  AccuracyWarning)\n",
      "C:\\ProgramData\\Anaconda2\\lib\\site-packages\\scipy\\integrate\\quadrature.py:196: AccuracyWarning: maxiter (1000) exceeded. Latest difference = 4.195563e-04\n",
      "  AccuracyWarning)\n",
      "C:\\ProgramData\\Anaconda2\\lib\\site-packages\\scipy\\integrate\\quadrature.py:196: AccuracyWarning: maxiter (1000) exceeded. Latest difference = 3.959320e-04\n",
      "  AccuracyWarning)\n",
      "C:\\ProgramData\\Anaconda2\\lib\\site-packages\\scipy\\integrate\\quadrature.py:196: AccuracyWarning: maxiter (1000) exceeded. Latest difference = 3.684175e-04\n",
      "  AccuracyWarning)\n",
      "C:\\ProgramData\\Anaconda2\\lib\\site-packages\\scipy\\integrate\\quadrature.py:196: AccuracyWarning: maxiter (1000) exceeded. Latest difference = 3.331211e-04\n",
      "  AccuracyWarning)\n",
      "C:\\ProgramData\\Anaconda2\\lib\\site-packages\\scipy\\integrate\\quadrature.py:196: AccuracyWarning: maxiter (1000) exceeded. Latest difference = 2.888121e-04\n",
      "  AccuracyWarning)\n",
      "C:\\ProgramData\\Anaconda2\\lib\\site-packages\\scipy\\integrate\\quadrature.py:196: AccuracyWarning: maxiter (1000) exceeded. Latest difference = 2.311716e-04\n",
      "  AccuracyWarning)\n",
      "C:\\ProgramData\\Anaconda2\\lib\\site-packages\\scipy\\integrate\\quadrature.py:196: AccuracyWarning: maxiter (1000) exceeded. Latest difference = 1.674740e-04\n",
      "  AccuracyWarning)\n",
      "C:\\ProgramData\\Anaconda2\\lib\\site-packages\\scipy\\integrate\\quadrature.py:196: AccuracyWarning: maxiter (1000) exceeded. Latest difference = 1.074701e-04\n",
      "  AccuracyWarning)\n",
      "C:\\ProgramData\\Anaconda2\\lib\\site-packages\\scipy\\integrate\\quadrature.py:196: AccuracyWarning: maxiter (1000) exceeded. Latest difference = 5.882824e-05\n",
      "  AccuracyWarning)\n",
      "C:\\ProgramData\\Anaconda2\\lib\\site-packages\\scipy\\integrate\\quadrature.py:196: AccuracyWarning: maxiter (1000) exceeded. Latest difference = 2.796955e-05\n",
      "  AccuracyWarning)\n"
     ]
    },
    {
     "name": "stdout",
     "output_type": "stream",
     "text": [
      "\n"
     ]
    }
   ],
   "source": [
    "phase_interp = interp1d(mu, phase)\n",
    "\n",
    "def func(x, lg):\n",
    "    return (2*l + 1)/2. * lg(x)*phase_interp(x)\n",
    "\n",
    "coeffs_quad = []\n",
    "for l in tqdm_notebook(range(COFFES_NUM)):\n",
    "    lg = legendre(l)\n",
    "    coeffs_quad.append(quadrature(func, -1, 1, args=(lg,), maxiter=1000, )[0])"
   ]
  },
  {
   "cell_type": "code",
   "execution_count": 46,
   "metadata": {
    "collapsed": false,
    "scrolled": false
   },
   "outputs": [
    {
     "data": {
      "text/plain": [
       "[<matplotlib.lines.Line2D at 0x114caf28>]"
      ]
     },
     "execution_count": 46,
     "metadata": {},
     "output_type": "execute_result"
    },
    {
     "data": {
      "image/png": "[encoded data removed]",
      "text/plain": [
       "<matplotlib.figure.Figure at 0x112f4be0>"
      ]
     },
     "metadata": {},
     "output_type": "display_data"
    }
   ],
   "source": [
    "plt.plot(coeffs_quad)"
   ]
  },
  {
   "cell_type": "code",
   "execution_count": 47,
   "metadata": {
    "collapsed": false
   },
   "outputs": [],
   "source": [
    "mu_new = np.linspace(-1, 1, 300)\n",
    "phase_gauss = 0\n",
    "for l, coeff in enumerate(coeffs_quad):\n",
    "    phase_gauss += legendre(l)(mu_new) * coeff"
   ]
  },
  {
   "cell_type": "code",
   "execution_count": 48,
   "metadata": {
    "collapsed": false
   },
   "outputs": [
    {
     "data": {
      "text/plain": [
       "[<matplotlib.lines.Line2D at 0xeadd710>]"
      ]
     },
     "execution_count": 48,
     "metadata": {},
     "output_type": "execute_result"
    },
    {
     "data": {
      "image/png": "[encoded data removed]",
      "text/plain": [
       "<matplotlib.figure.Figure at 0x1150b278>"
      ]
     },
     "metadata": {},
     "output_type": "display_data"
    }
   ],
   "source": [
    "plt.semilogy(mu_new, phase_gauss)\n",
    "plt.semilogy(mu, phase, '+')"
   ]
  },
  {
   "cell_type": "code",
   "execution_count": 49,
   "metadata": {
    "collapsed": false
   },
   "outputs": [],
   "source": [
    "np.save(\"phase_871.npy\", np.array(coeffs_quad))"
   ]
  },
  {
   "cell_type": "markdown",
   "metadata": {},
   "source": [
    "## Test with Henyey-Greenstein function"
   ]
  },
  {
   "cell_type": "markdown",
   "metadata": {},
   "source": [
    "p(µ) = 1\n",
    "2\n",
    "1 − g\n",
    "2\n",
    "[1 + g\n",
    "2 − 2g µ ]\n",
    "3/2\n"
   ]
  },
  {
   "cell_type": "code",
   "execution_count": 69,
   "metadata": {
    "collapsed": true
   },
   "outputs": [],
   "source": [
    "COFFES_NUM = 100"
   ]
  },
  {
   "cell_type": "code",
   "execution_count": 70,
   "metadata": {
    "collapsed": false
   },
   "outputs": [
    {
     "name": "stdout",
     "output_type": "stream",
     "text": [
      "\n"
     ]
    }
   ],
   "source": [
    "def hg(mu, g):\n",
    "    ph = (1/2)*(1-g**2)/(1+g**2-2*g*mu)**(1.5)\n",
    "    return ph\n",
    "\n",
    "def func(mu, l, g):\n",
    "    return (2*l + 1)/2. * legendre(l)(mu)*hg(mu, g)\n",
    "\n",
    "G=0.7\n",
    "coeffs_hg_quad = []\n",
    "for l in tqdm_notebook(range(COFFES_NUM)):\n",
    "    coeffs_hg_quad.append(quadrature(func, -1, 1, args=(l, G), maxiter=200, )[0])"
   ]
  },
  {
   "cell_type": "code",
   "execution_count": 71,
   "metadata": {
    "collapsed": false
   },
   "outputs": [
    {
     "data": {
      "text/plain": [
       "[<matplotlib.lines.Line2D at 0x13a993c8>]"
      ]
     },
     "execution_count": 71,
     "metadata": {},
     "output_type": "execute_result"
    },
    {
     "data": {
      "image/png": "[encoded data removed]",
      "text/plain": [
       "<matplotlib.figure.Figure at 0x14c0efd0>"
      ]
     },
     "metadata": {},
     "output_type": "display_data"
    }
   ],
   "source": [
    "plt.plot(coeffs_hg_quad)"
   ]
  },
  {
   "cell_type": "code",
   "execution_count": 72,
   "metadata": {
    "collapsed": false,
    "scrolled": false
   },
   "outputs": [
    {
     "data": {
      "text/plain": [
       "[<matplotlib.lines.Line2D at 0x135c5668>]"
      ]
     },
     "execution_count": 72,
     "metadata": {},
     "output_type": "execute_result"
    },
    {
     "data": {
      "image/png": "[encoded data removed]",
      "text/plain": [
       "<matplotlib.figure.Figure at 0x13d3c4e0>"
      ]
     },
     "metadata": {},
     "output_type": "display_data"
    }
   ],
   "source": [
    "mu_new = np.linspace(-1, 1, 300)\n",
    "phase_hg = 0\n",
    "for l, coeff in enumerate(coeffs_hg_quad):\n",
    "    phase_hg += legendre(l)(mu_new) * coeff\n",
    "plt.plot(mu_new, phase_hg)\n",
    "real_hg = [hg(m, G) for m in mu_new]\n",
    "plt.plot(mu_new, real_hg, '+')"
   ]
  },
  {
   "cell_type": "markdown",
   "metadata": {},
   "source": [
    "## Test with a single coefficient function"
   ]
  },
  {
   "cell_type": "code",
   "execution_count": 65,
   "metadata": {
    "collapsed": true
   },
   "outputs": [],
   "source": [
    "COFFES_NUM = 100\n",
    "LG = 1"
   ]
  },
  {
   "cell_type": "code",
   "execution_count": 66,
   "metadata": {
    "collapsed": false
   },
   "outputs": [
    {
     "name": "stdout",
     "output_type": "stream",
     "text": [
      "\n"
     ]
    }
   ],
   "source": [
    "def lg(mu, l):\n",
    "    return legendre(l)(mu)\n",
    "\n",
    "def func(mu, l, l2):\n",
    "    return (2*l + 1)/2. * legendre(l)(mu)*lg(mu, l2)\n",
    "\n",
    "coeffs_lg_quad = []\n",
    "for l in tqdm_notebook(range(COFFES_NUM)):\n",
    "    coeffs_lg_quad.append(quadrature(func, -1, 1, args=(l, LG), maxiter=200, )[0])"
   ]
  },
  {
   "cell_type": "code",
   "execution_count": 67,
   "metadata": {
    "collapsed": false,
    "scrolled": false
   },
   "outputs": [
    {
     "data": {
      "text/plain": [
       "(0, 10)"
      ]
     },
     "execution_count": 67,
     "metadata": {},
     "output_type": "execute_result"
    },
    {
     "data": {
      "image/png": "[encoded data removed]",
      "text/plain": [
       "<matplotlib.figure.Figure at 0x145fc390>"
      ]
     },
     "metadata": {},
     "output_type": "display_data"
    }
   ],
   "source": [
    "plt.plot(coeffs_lg_quad)\n",
    "plt.xlim(0, 10)"
   ]
  },
  {
   "cell_type": "code",
   "execution_count": 68,
   "metadata": {
    "collapsed": false,
    "scrolled": false
   },
   "outputs": [
    {
     "data": {
      "text/plain": [
       "[<matplotlib.lines.Line2D at 0x14845080>]"
      ]
     },
     "execution_count": 68,
     "metadata": {},
     "output_type": "execute_result"
    },
    {
     "data": {
      "image/png": "[encoded data removed]",
      "text/plain": [
       "<matplotlib.figure.Figure at 0x145fc3c8>"
      ]
     },
     "metadata": {},
     "output_type": "display_data"
    }
   ],
   "source": [
    "mu_new = np.linspace(-1, 1, 300)\n",
    "phase_lg = 0\n",
    "for l, coeff in enumerate(coeffs_lg_quad):\n",
    "    phase_lg += legendre(l)(mu_new) * coeff\n",
    "plt.plot(mu_new, phase_lg)\n",
    "real_lg = [lg(m, LG) for m in mu_new]\n",
    "plt.plot(mu_new, real_lg, '+')"
   ]
  },
  {
   "cell_type": "code",
   "execution_count": null,
   "metadata": {
    "collapsed": true
   },
   "outputs": [],
   "source": []
  },
  {
   "cell_type": "code",
   "execution_count": null,
   "metadata": {
    "collapsed": true
   },
   "outputs": [],
   "source": []
  },
  {
   "cell_type": "code",
   "execution_count": null,
   "metadata": {
    "collapsed": true
   },
   "outputs": [],
   "source": []
  },
  {
   "cell_type": "code",
   "execution_count": null,
   "metadata": {
    "collapsed": true
   },
   "outputs": [],
   "source": []
  },
  {
   "cell_type": "code",
   "execution_count": null,
   "metadata": {
    "collapsed": true
   },
   "outputs": [],
   "source": []
  },
  {
   "cell_type": "markdown",
   "metadata": {},
   "source": [
    "## Use trapezoidale integration"
   ]
  },
  {
   "cell_type": "markdown",
   "metadata": {},
   "source": [
    "Note that at coefficient 86 we get some warning. P_86 has occilations at about the sampleing frequency of the data (180 degrees / 2 degrees between samples). See the graph below."
   ]
  },
  {
   "cell_type": "code",
   "execution_count": 6,
   "metadata": {
    "collapsed": false,
    "scrolled": false
   },
   "outputs": [],
   "source": [
    "coeffs_trapz = []\n",
    "for l in range(86):\n",
    "    coeffs_trapz.append((2*l + 1)/2. * np.trapz(legendre(l)(mu)*phase, mu))"
   ]
  },
  {
   "cell_type": "code",
   "execution_count": 7,
   "metadata": {
    "collapsed": true
   },
   "outputs": [],
   "source": [
    "mu_new = np.linspace(-1, 1, 300)\n",
    "phase_trapz = legendre(0)(mu_new) * coeffs_trapz[0]\n",
    "for l, coeff in enumerate(coeffs_trapz[1:]):\n",
    "    phase_trapz += legendre(l)(mu_new) * coeff"
   ]
  },
  {
   "cell_type": "code",
   "execution_count": 8,
   "metadata": {
    "collapsed": false
   },
   "outputs": [
    {
     "data": {
      "text/plain": [
       "[<matplotlib.lines.Line2D at 0xad66be0>]"
      ]
     },
     "execution_count": 8,
     "metadata": {},
     "output_type": "execute_result"
    },
    {
     "data": {
      "image/png": "[encoded data removed]",
      "text/plain": [
       "<matplotlib.figure.Figure at 0xad66c18>"
      ]
     },
     "metadata": {},
     "output_type": "display_data"
    }
   ],
   "source": [
    "plt.semilogy(mu_new, phase_trapz)\n",
    "plt.semilogy(mu, phase, '+')"
   ]
  },
  {
   "cell_type": "code",
   "execution_count": 9,
   "metadata": {
    "collapsed": false,
    "scrolled": true
   },
   "outputs": [
    {
     "data": {
      "text/plain": [
       "[<matplotlib.lines.Line2D at 0xd2e6278>]"
      ]
     },
     "execution_count": 9,
     "metadata": {},
     "output_type": "execute_result"
    },
    {
     "data": {
      "image/png": "[encoded data removed]",
      "text/plain": [
       "<matplotlib.figure.Figure at 0xd0f9080>"
      ]
     },
     "metadata": {},
     "output_type": "display_data"
    }
   ],
   "source": [
    "plt.plot(coeffs_trapz)"
   ]
  },
  {
   "cell_type": "code",
   "execution_count": 10,
   "metadata": {
    "collapsed": false,
    "scrolled": false
   },
   "outputs": [
    {
     "data": {
      "text/plain": [
       "1.0301850781945259"
      ]
     },
     "execution_count": 10,
     "metadata": {},
     "output_type": "execute_result"
    }
   ],
   "source": [
    "coeffs_trapz[0]"
   ]
  },
  {
   "cell_type": "markdown",
   "metadata": {},
   "source": [
    "## Use romberg integration"
   ]
  },
  {
   "cell_type": "code",
   "execution_count": 11,
   "metadata": {
    "collapsed": true
   },
   "outputs": [],
   "source": [
    "COFFES_NUM = 300"
   ]
  },
  {
   "cell_type": "code",
   "execution_count": 15,
   "metadata": {
    "collapsed": true
   },
   "outputs": [
    {
     "name": "stderr",
     "output_type": "stream",
     "text": [
      "C:\\ProgramData\\Anaconda2\\lib\\site-packages\\scipy\\integrate\\quadrature.py:706: AccuracyWarning: divmax (10) exceeded. Latest difference = 2.359110e+01\n",
      "  AccuracyWarning)\n",
      "C:\\ProgramData\\Anaconda2\\lib\\site-packages\\scipy\\special\\orthogonal.py:145: RuntimeWarning: invalid value encountered in multiply\n",
      "  self.__dict__['coeffs'] *= kn\n",
      "C:\\ProgramData\\Anaconda2\\lib\\site-packages\\scipy\\integrate\\quadrature.py:706: AccuracyWarning: divmax (10) exceeded. Latest difference = 2.319771e+01\n",
      "  AccuracyWarning)\n",
      "C:\\ProgramData\\Anaconda2\\lib\\site-packages\\scipy\\integrate\\quadrature.py:706: AccuracyWarning: divmax (10) exceeded. Latest difference = 2.280286e+01\n",
      "  AccuracyWarning)\n",
      "C:\\ProgramData\\Anaconda2\\lib\\site-packages\\scipy\\integrate\\quadrature.py:706: AccuracyWarning: divmax (10) exceeded. Latest difference = 2.227783e+01\n",
      "  AccuracyWarning)\n",
      "C:\\ProgramData\\Anaconda2\\lib\\site-packages\\scipy\\integrate\\quadrature.py:706: AccuracyWarning: divmax (10) exceeded. Latest difference = 2.175210e+01\n",
      "  AccuracyWarning)\n",
      "C:\\ProgramData\\Anaconda2\\lib\\site-packages\\scipy\\integrate\\quadrature.py:706: AccuracyWarning: divmax (10) exceeded. Latest difference = 2.111033e+01\n",
      "  AccuracyWarning)\n",
      "C:\\ProgramData\\Anaconda2\\lib\\site-packages\\scipy\\integrate\\quadrature.py:706: AccuracyWarning: divmax (10) exceeded. Latest difference = 2.046890e+01\n",
      "  AccuracyWarning)\n",
      "C:\\ProgramData\\Anaconda2\\lib\\site-packages\\scipy\\integrate\\quadrature.py:706: AccuracyWarning: divmax (10) exceeded. Latest difference = 1.972899e+01\n",
      "  AccuracyWarning)\n",
      "C:\\ProgramData\\Anaconda2\\lib\\site-packages\\scipy\\integrate\\quadrature.py:706: AccuracyWarning: divmax (10) exceeded. Latest difference = 1.899045e+01\n",
      "  AccuracyWarning)\n",
      "C:\\ProgramData\\Anaconda2\\lib\\site-packages\\scipy\\integrate\\quadrature.py:706: AccuracyWarning: divmax (10) exceeded. Latest difference = 1.817387e+01\n",
      "  AccuracyWarning)\n",
      "C:\\ProgramData\\Anaconda2\\lib\\site-packages\\scipy\\integrate\\quadrature.py:706: AccuracyWarning: divmax (10) exceeded. Latest difference = 1.735972e+01\n",
      "  AccuracyWarning)\n",
      "C:\\ProgramData\\Anaconda2\\lib\\site-packages\\scipy\\integrate\\quadrature.py:706: AccuracyWarning: divmax (10) exceeded. Latest difference = 1.649052e+01\n",
      "  AccuracyWarning)\n",
      "C:\\ProgramData\\Anaconda2\\lib\\site-packages\\scipy\\integrate\\quadrature.py:706: AccuracyWarning: divmax (10) exceeded. Latest difference = 1.562498e+01\n",
      "  AccuracyWarning)\n",
      "C:\\ProgramData\\Anaconda2\\lib\\site-packages\\scipy\\special\\orthogonal.py:1593: RuntimeWarning: overflow encountered in double_scalars\n",
      "  kn = _gam(2 * n + 1) / _gam(n + 1)**2 / 2.0**n\n",
      "C:\\ProgramData\\Anaconda2\\lib\\site-packages\\scipy\\special\\orthogonal.py:1593: RuntimeWarning: invalid value encountered in double_scalars\n",
      "  kn = _gam(2 * n + 1) / _gam(n + 1)**2 / 2.0**n\n",
      "C:\\ProgramData\\Anaconda2\\lib\\site-packages\\scipy\\integrate\\quadrature.py:706: AccuracyWarning: divmax (10) exceeded. Latest difference = 1.472975e+01\n",
      "  AccuracyWarning)\n",
      "C:\\ProgramData\\Anaconda2\\lib\\site-packages\\scipy\\integrate\\quadrature.py:706: AccuracyWarning: divmax (10) exceeded. Latest difference = 1.383975e+01\n",
      "  AccuracyWarning)\n",
      "C:\\ProgramData\\Anaconda2\\lib\\site-packages\\scipy\\integrate\\quadrature.py:706: AccuracyWarning: divmax (10) exceeded. Latest difference = 1.294751e+01\n",
      "  AccuracyWarning)\n",
      "C:\\ProgramData\\Anaconda2\\lib\\site-packages\\scipy\\integrate\\quadrature.py:706: AccuracyWarning: divmax (10) exceeded. Latest difference = 1.206247e+01\n",
      "  AccuracyWarning)\n",
      "C:\\ProgramData\\Anaconda2\\lib\\site-packages\\scipy\\integrate\\quadrature.py:706: AccuracyWarning: divmax (10) exceeded. Latest difference = 1.120439e+01\n",
      "  AccuracyWarning)\n",
      "C:\\ProgramData\\Anaconda2\\lib\\site-packages\\scipy\\integrate\\quadrature.py:706: AccuracyWarning: divmax (10) exceeded. Latest difference = 1.035605e+01\n",
      "  AccuracyWarning)\n",
      "C:\\ProgramData\\Anaconda2\\lib\\site-packages\\scipy\\integrate\\quadrature.py:706: AccuracyWarning: divmax (10) exceeded. Latest difference = 9.565541e+00\n",
      "  AccuracyWarning)\n",
      "C:\\ProgramData\\Anaconda2\\lib\\site-packages\\scipy\\integrate\\quadrature.py:706: AccuracyWarning: divmax (10) exceeded. Latest difference = 8.788465e+00\n",
      "  AccuracyWarning)\n",
      "C:\\ProgramData\\Anaconda2\\lib\\site-packages\\scipy\\integrate\\quadrature.py:706: AccuracyWarning: divmax (10) exceeded. Latest difference = 8.102038e+00\n",
      "  AccuracyWarning)\n",
      "C:\\ProgramData\\Anaconda2\\lib\\site-packages\\scipy\\integrate\\quadrature.py:706: AccuracyWarning: divmax (10) exceeded. Latest difference = 7.434566e+00\n",
      "  AccuracyWarning)\n",
      "C:\\ProgramData\\Anaconda2\\lib\\site-packages\\scipy\\integrate\\quadrature.py:706: AccuracyWarning: divmax (10) exceeded. Latest difference = 6.892186e+00\n",
      "  AccuracyWarning)\n",
      "C:\\ProgramData\\Anaconda2\\lib\\site-packages\\scipy\\integrate\\quadrature.py:706: AccuracyWarning: divmax (10) exceeded. Latest difference = 6.376351e+00\n",
      "  AccuracyWarning)\n",
      "C:\\ProgramData\\Anaconda2\\lib\\site-packages\\scipy\\integrate\\quadrature.py:706: AccuracyWarning: divmax (10) exceeded. Latest difference = 6.019701e+00\n",
      "  AccuracyWarning)\n",
      "C:\\ProgramData\\Anaconda2\\lib\\site-packages\\scipy\\integrate\\quadrature.py:706: AccuracyWarning: divmax (10) exceeded. Latest difference = 5.698492e+00\n",
      "  AccuracyWarning)\n",
      "C:\\ProgramData\\Anaconda2\\lib\\site-packages\\scipy\\integrate\\quadrature.py:706: AccuracyWarning: divmax (10) exceeded. Latest difference = 5.565985e+00\n",
      "  AccuracyWarning)\n",
      "C:\\ProgramData\\Anaconda2\\lib\\site-packages\\scipy\\integrate\\quadrature.py:706: AccuracyWarning: divmax (10) exceeded. Latest difference = 5.477357e+00\n",
      "  AccuracyWarning)\n",
      "C:\\ProgramData\\Anaconda2\\lib\\site-packages\\scipy\\integrate\\quadrature.py:706: AccuracyWarning: divmax (10) exceeded. Latest difference = 5.597087e+00\n",
      "  AccuracyWarning)\n",
      "C:\\ProgramData\\Anaconda2\\lib\\site-packages\\scipy\\integrate\\quadrature.py:706: AccuracyWarning: divmax (10) exceeded. Latest difference = 5.766808e+00\n",
      "  AccuracyWarning)\n",
      "C:\\ProgramData\\Anaconda2\\lib\\site-packages\\scipy\\integrate\\quadrature.py:706: AccuracyWarning: divmax (10) exceeded. Latest difference = 6.150435e+00\n",
      "  AccuracyWarning)\n",
      "C:\\ProgramData\\Anaconda2\\lib\\site-packages\\scipy\\integrate\\quadrature.py:706: AccuracyWarning: divmax (10) exceeded. Latest difference = 6.586609e+00\n",
      "  AccuracyWarning)\n",
      "C:\\ProgramData\\Anaconda2\\lib\\site-packages\\scipy\\integrate\\quadrature.py:706: AccuracyWarning: divmax (10) exceeded. Latest difference = 7.226204e+00\n",
      "  AccuracyWarning)\n",
      "C:\\ProgramData\\Anaconda2\\lib\\site-packages\\scipy\\integrate\\quadrature.py:706: AccuracyWarning: divmax (10) exceeded. Latest difference = 7.916883e+00\n",
      "  AccuracyWarning)\n",
      "C:\\ProgramData\\Anaconda2\\lib\\site-packages\\scipy\\integrate\\quadrature.py:706: AccuracyWarning: divmax (10) exceeded. Latest difference = 8.784921e+00\n",
      "  AccuracyWarning)\n",
      "C:\\ProgramData\\Anaconda2\\lib\\site-packages\\scipy\\integrate\\quadrature.py:706: AccuracyWarning: divmax (10) exceeded. Latest difference = 9.698746e+00\n",
      "  AccuracyWarning)\n",
      "C:\\ProgramData\\Anaconda2\\lib\\site-packages\\scipy\\integrate\\quadrature.py:706: AccuracyWarning: divmax (10) exceeded. Latest difference = 1.075074e+01\n",
      "  AccuracyWarning)\n",
      "C:\\ProgramData\\Anaconda2\\lib\\site-packages\\scipy\\integrate\\quadrature.py:706: AccuracyWarning: divmax (10) exceeded. Latest difference = 1.184013e+01\n",
      "  AccuracyWarning)\n",
      "C:\\ProgramData\\Anaconda2\\lib\\site-packages\\scipy\\integrate\\quadrature.py:706: AccuracyWarning: divmax (10) exceeded. Latest difference = 1.301999e+01\n",
      "  AccuracyWarning)\n",
      "C:\\ProgramData\\Anaconda2\\lib\\site-packages\\scipy\\integrate\\quadrature.py:706: AccuracyWarning: divmax (10) exceeded. Latest difference = 1.422746e+01\n",
      "  AccuracyWarning)\n",
      "C:\\ProgramData\\Anaconda2\\lib\\site-packages\\scipy\\integrate\\quadrature.py:706: AccuracyWarning: divmax (10) exceeded. Latest difference = 1.547639e+01\n",
      "  AccuracyWarning)\n",
      "C:\\ProgramData\\Anaconda2\\lib\\site-packages\\scipy\\integrate\\quadrature.py:706: AccuracyWarning: divmax (10) exceeded. Latest difference = 1.674441e+01\n",
      "  AccuracyWarning)\n",
      "C:\\ProgramData\\Anaconda2\\lib\\site-packages\\scipy\\integrate\\quadrature.py:706: AccuracyWarning: divmax (10) exceeded. Latest difference = 1.801188e+01\n",
      "  AccuracyWarning)\n",
      "C:\\ProgramData\\Anaconda2\\lib\\site-packages\\scipy\\integrate\\quadrature.py:706: AccuracyWarning: divmax (10) exceeded. Latest difference = 1.929382e+01\n",
      "  AccuracyWarning)\n",
      "C:\\ProgramData\\Anaconda2\\lib\\site-packages\\scipy\\integrate\\quadrature.py:706: AccuracyWarning: divmax (10) exceeded. Latest difference = 2.054553e+01\n",
      "  AccuracyWarning)\n",
      "C:\\ProgramData\\Anaconda2\\lib\\site-packages\\scipy\\integrate\\quadrature.py:706: AccuracyWarning: divmax (10) exceeded. Latest difference = 2.181170e+01\n",
      "  AccuracyWarning)\n",
      "C:\\ProgramData\\Anaconda2\\lib\\site-packages\\scipy\\integrate\\quadrature.py:706: AccuracyWarning: divmax (10) exceeded. Latest difference = 2.303008e+01\n",
      "  AccuracyWarning)\n",
      "C:\\ProgramData\\Anaconda2\\lib\\site-packages\\scipy\\integrate\\quadrature.py:706: AccuracyWarning: divmax (10) exceeded. Latest difference = 2.426595e+01\n",
      "  AccuracyWarning)\n",
      "C:\\ProgramData\\Anaconda2\\lib\\site-packages\\scipy\\integrate\\quadrature.py:706: AccuracyWarning: divmax (10) exceeded. Latest difference = 2.544451e+01\n",
      "  AccuracyWarning)\n",
      "C:\\ProgramData\\Anaconda2\\lib\\site-packages\\scipy\\integrate\\quadrature.py:706: AccuracyWarning: divmax (10) exceeded. Latest difference = 2.664455e+01\n",
      "  AccuracyWarning)\n",
      "C:\\ProgramData\\Anaconda2\\lib\\site-packages\\scipy\\integrate\\quadrature.py:706: AccuracyWarning: divmax (10) exceeded. Latest difference = 2.778211e+01\n",
      "  AccuracyWarning)\n",
      "C:\\ProgramData\\Anaconda2\\lib\\site-packages\\scipy\\integrate\\quadrature.py:706: AccuracyWarning: divmax (10) exceeded. Latest difference = 2.894503e+01\n",
      "  AccuracyWarning)\n",
      "C:\\ProgramData\\Anaconda2\\lib\\site-packages\\scipy\\integrate\\quadrature.py:706: AccuracyWarning: divmax (10) exceeded. Latest difference = 3.004218e+01\n",
      "  AccuracyWarning)\n",
      "C:\\ProgramData\\Anaconda2\\lib\\site-packages\\scipy\\integrate\\quadrature.py:706: AccuracyWarning: divmax (10) exceeded. Latest difference = 3.116775e+01\n",
      "  AccuracyWarning)\n",
      "C:\\ProgramData\\Anaconda2\\lib\\site-packages\\scipy\\integrate\\quadrature.py:706: AccuracyWarning: divmax (10) exceeded. Latest difference = 3.222398e+01\n",
      "  AccuracyWarning)\n",
      "C:\\ProgramData\\Anaconda2\\lib\\site-packages\\scipy\\integrate\\quadrature.py:706: AccuracyWarning: divmax (10) exceeded. Latest difference = 3.331041e+01\n",
      "  AccuracyWarning)\n",
      "C:\\ProgramData\\Anaconda2\\lib\\site-packages\\scipy\\integrate\\quadrature.py:706: AccuracyWarning: divmax (10) exceeded. Latest difference = 3.432338e+01\n",
      "  AccuracyWarning)\n",
      "C:\\ProgramData\\Anaconda2\\lib\\site-packages\\scipy\\integrate\\quadrature.py:706: AccuracyWarning: divmax (10) exceeded. Latest difference = 3.536857e+01\n",
      "  AccuracyWarning)\n",
      "C:\\ProgramData\\Anaconda2\\lib\\site-packages\\scipy\\integrate\\quadrature.py:706: AccuracyWarning: divmax (10) exceeded. Latest difference = 3.633981e+01\n",
      "  AccuracyWarning)\n",
      "C:\\ProgramData\\Anaconda2\\lib\\site-packages\\scipy\\integrate\\quadrature.py:706: AccuracyWarning: divmax (10) exceeded. Latest difference = 3.734874e+01\n",
      "  AccuracyWarning)\n",
      "C:\\ProgramData\\Anaconda2\\lib\\site-packages\\scipy\\integrate\\quadrature.py:706: AccuracyWarning: divmax (10) exceeded. Latest difference = 3.829070e+01\n",
      "  AccuracyWarning)\n",
      "C:\\ProgramData\\Anaconda2\\lib\\site-packages\\scipy\\integrate\\quadrature.py:706: AccuracyWarning: divmax (10) exceeded. Latest difference = 3.928022e+01\n",
      "  AccuracyWarning)\n",
      "C:\\ProgramData\\Anaconda2\\lib\\site-packages\\scipy\\integrate\\quadrature.py:706: AccuracyWarning: divmax (10) exceeded. Latest difference = 4.021285e+01\n",
      "  AccuracyWarning)\n",
      "C:\\ProgramData\\Anaconda2\\lib\\site-packages\\scipy\\integrate\\quadrature.py:706: AccuracyWarning: divmax (10) exceeded. Latest difference = 4.120414e+01\n",
      "  AccuracyWarning)\n",
      "C:\\ProgramData\\Anaconda2\\lib\\site-packages\\scipy\\integrate\\quadrature.py:706: AccuracyWarning: divmax (10) exceeded. Latest difference = 4.214060e+01\n",
      "  AccuracyWarning)\n",
      "C:\\ProgramData\\Anaconda2\\lib\\site-packages\\scipy\\integrate\\quadrature.py:706: AccuracyWarning: divmax (10) exceeded. Latest difference = 4.314313e+01\n",
      "  AccuracyWarning)\n",
      "C:\\ProgramData\\Anaconda2\\lib\\site-packages\\scipy\\integrate\\quadrature.py:706: AccuracyWarning: divmax (10) exceeded. Latest difference = 4.407423e+01\n",
      "  AccuracyWarning)\n",
      "C:\\ProgramData\\Anaconda2\\lib\\site-packages\\scipy\\integrate\\quadrature.py:706: AccuracyWarning: divmax (10) exceeded. Latest difference = 4.507078e+01\n",
      "  AccuracyWarning)\n",
      "C:\\ProgramData\\Anaconda2\\lib\\site-packages\\scipy\\integrate\\quadrature.py:706: AccuracyWarning: divmax (10) exceeded. Latest difference = 4.595371e+01\n",
      "  AccuracyWarning)\n",
      "C:\\ProgramData\\Anaconda2\\lib\\site-packages\\scipy\\integrate\\quadrature.py:706: AccuracyWarning: divmax (10) exceeded. Latest difference = 4.688982e+01\n",
      "  AccuracyWarning)\n",
      "C:\\ProgramData\\Anaconda2\\lib\\site-packages\\scipy\\integrate\\quadrature.py:706: AccuracyWarning: divmax (10) exceeded. Latest difference = 4.764232e+01\n",
      "  AccuracyWarning)\n",
      "C:\\ProgramData\\Anaconda2\\lib\\site-packages\\scipy\\integrate\\quadrature.py:706: AccuracyWarning: divmax (10) exceeded. Latest difference = 4.842407e+01\n",
      "  AccuracyWarning)\n",
      "C:\\ProgramData\\Anaconda2\\lib\\site-packages\\scipy\\integrate\\quadrature.py:706: AccuracyWarning: divmax (10) exceeded. Latest difference = 4.893552e+01\n",
      "  AccuracyWarning)\n",
      "C:\\ProgramData\\Anaconda2\\lib\\site-packages\\scipy\\integrate\\quadrature.py:706: AccuracyWarning: divmax (10) exceeded. Latest difference = 4.944755e+01\n",
      "  AccuracyWarning)\n",
      "C:\\ProgramData\\Anaconda2\\lib\\site-packages\\scipy\\integrate\\quadrature.py:706: AccuracyWarning: divmax (10) exceeded. Latest difference = 4.961058e+01\n",
      "  AccuracyWarning)\n",
      "C:\\ProgramData\\Anaconda2\\lib\\site-packages\\scipy\\integrate\\quadrature.py:706: AccuracyWarning: divmax (10) exceeded. Latest difference = 4.975081e+01\n",
      "  AccuracyWarning)\n",
      "C:\\ProgramData\\Anaconda2\\lib\\site-packages\\scipy\\integrate\\quadrature.py:706: AccuracyWarning: divmax (10) exceeded. Latest difference = 4.949354e+01\n",
      "  AccuracyWarning)\n",
      "C:\\ProgramData\\Anaconda2\\lib\\site-packages\\scipy\\integrate\\quadrature.py:706: AccuracyWarning: divmax (10) exceeded. Latest difference = 4.920098e+01\n",
      "  AccuracyWarning)\n",
      "C:\\ProgramData\\Anaconda2\\lib\\site-packages\\scipy\\integrate\\quadrature.py:706: AccuracyWarning: divmax (10) exceeded. Latest difference = 4.850174e+01\n",
      "  AccuracyWarning)\n",
      "C:\\ProgramData\\Anaconda2\\lib\\site-packages\\scipy\\integrate\\quadrature.py:706: AccuracyWarning: divmax (10) exceeded. Latest difference = 4.776655e+01\n",
      "  AccuracyWarning)\n",
      "C:\\ProgramData\\Anaconda2\\lib\\site-packages\\scipy\\integrate\\quadrature.py:706: AccuracyWarning: divmax (10) exceeded. Latest difference = 4.665591e+01\n",
      "  AccuracyWarning)\n",
      "C:\\ProgramData\\Anaconda2\\lib\\site-packages\\scipy\\integrate\\quadrature.py:706: AccuracyWarning: divmax (10) exceeded. Latest difference = 4.551830e+01\n",
      "  AccuracyWarning)\n",
      "C:\\ProgramData\\Anaconda2\\lib\\site-packages\\scipy\\integrate\\quadrature.py:706: AccuracyWarning: divmax (10) exceeded. Latest difference = 4.406788e+01\n",
      "  AccuracyWarning)\n",
      "C:\\ProgramData\\Anaconda2\\lib\\site-packages\\scipy\\integrate\\quadrature.py:706: AccuracyWarning: divmax (10) exceeded. Latest difference = 4.260263e+01\n",
      "  AccuracyWarning)\n",
      "C:\\ProgramData\\Anaconda2\\lib\\site-packages\\scipy\\integrate\\quadrature.py:706: AccuracyWarning: divmax (10) exceeded. Latest difference = 4.090187e+01\n",
      "  AccuracyWarning)\n",
      "C:\\ProgramData\\Anaconda2\\lib\\site-packages\\scipy\\integrate\\quadrature.py:706: AccuracyWarning: divmax (10) exceeded. Latest difference = 3.919707e+01\n",
      "  AccuracyWarning)\n",
      "C:\\ProgramData\\Anaconda2\\lib\\site-packages\\scipy\\integrate\\quadrature.py:706: AccuracyWarning: divmax (10) exceeded. Latest difference = 3.734378e+01\n",
      "  AccuracyWarning)\n",
      "C:\\ProgramData\\Anaconda2\\lib\\site-packages\\scipy\\integrate\\quadrature.py:706: AccuracyWarning: divmax (10) exceeded. Latest difference = 3.549966e+01\n",
      "  AccuracyWarning)\n",
      "C:\\ProgramData\\Anaconda2\\lib\\site-packages\\scipy\\integrate\\quadrature.py:706: AccuracyWarning: divmax (10) exceeded. Latest difference = 3.361066e+01\n",
      "  AccuracyWarning)\n",
      "C:\\ProgramData\\Anaconda2\\lib\\site-packages\\scipy\\integrate\\quadrature.py:706: AccuracyWarning: divmax (10) exceeded. Latest difference = 3.175144e+01\n",
      "  AccuracyWarning)\n",
      "C:\\ProgramData\\Anaconda2\\lib\\site-packages\\scipy\\integrate\\quadrature.py:706: AccuracyWarning: divmax (10) exceeded. Latest difference = 2.996583e+01\n",
      "  AccuracyWarning)\n",
      "C:\\ProgramData\\Anaconda2\\lib\\site-packages\\scipy\\integrate\\quadrature.py:706: AccuracyWarning: divmax (10) exceeded. Latest difference = 2.823906e+01\n",
      "  AccuracyWarning)\n",
      "C:\\ProgramData\\Anaconda2\\lib\\site-packages\\scipy\\integrate\\quadrature.py:706: AccuracyWarning: divmax (10) exceeded. Latest difference = 2.671033e+01\n",
      "  AccuracyWarning)\n",
      "C:\\ProgramData\\Anaconda2\\lib\\site-packages\\scipy\\integrate\\quadrature.py:706: AccuracyWarning: divmax (10) exceeded. Latest difference = 2.527457e+01\n",
      "  AccuracyWarning)\n",
      "C:\\ProgramData\\Anaconda2\\lib\\site-packages\\scipy\\integrate\\quadrature.py:706: AccuracyWarning: divmax (10) exceeded. Latest difference = 2.414623e+01\n",
      "  AccuracyWarning)\n",
      "C:\\ProgramData\\Anaconda2\\lib\\site-packages\\scipy\\integrate\\quadrature.py:706: AccuracyWarning: divmax (10) exceeded. Latest difference = 2.313698e+01\n",
      "  AccuracyWarning)\n",
      "C:\\ProgramData\\Anaconda2\\lib\\site-packages\\scipy\\integrate\\quadrature.py:706: AccuracyWarning: divmax (10) exceeded. Latest difference = 2.249144e+01\n",
      "  AccuracyWarning)\n",
      "C:\\ProgramData\\Anaconda2\\lib\\site-packages\\scipy\\integrate\\quadrature.py:706: AccuracyWarning: divmax (10) exceeded. Latest difference = 2.196845e+01\n",
      "  AccuracyWarning)\n",
      "C:\\ProgramData\\Anaconda2\\lib\\site-packages\\scipy\\integrate\\quadrature.py:706: AccuracyWarning: divmax (10) exceeded. Latest difference = 2.179427e+01\n",
      "  AccuracyWarning)\n",
      "C:\\ProgramData\\Anaconda2\\lib\\site-packages\\scipy\\integrate\\quadrature.py:706: AccuracyWarning: divmax (10) exceeded. Latest difference = 2.172174e+01\n",
      "  AccuracyWarning)\n",
      "C:\\ProgramData\\Anaconda2\\lib\\site-packages\\scipy\\integrate\\quadrature.py:706: AccuracyWarning: divmax (10) exceeded. Latest difference = 2.192470e+01\n",
      "  AccuracyWarning)\n",
      "C:\\ProgramData\\Anaconda2\\lib\\site-packages\\scipy\\integrate\\quadrature.py:706: AccuracyWarning: divmax (10) exceeded. Latest difference = 2.219291e+01\n",
      "  AccuracyWarning)\n",
      "C:\\ProgramData\\Anaconda2\\lib\\site-packages\\scipy\\integrate\\quadrature.py:706: AccuracyWarning: divmax (10) exceeded. Latest difference = 2.263439e+01\n",
      "  AccuracyWarning)\n",
      "C:\\ProgramData\\Anaconda2\\lib\\site-packages\\scipy\\integrate\\quadrature.py:706: AccuracyWarning: divmax (10) exceeded. Latest difference = 2.310689e+01\n",
      "  AccuracyWarning)\n",
      "C:\\ProgramData\\Anaconda2\\lib\\site-packages\\scipy\\integrate\\quadrature.py:706: AccuracyWarning: divmax (10) exceeded. Latest difference = 2.366876e+01\n",
      "  AccuracyWarning)\n",
      "C:\\ProgramData\\Anaconda2\\lib\\site-packages\\scipy\\integrate\\quadrature.py:706: AccuracyWarning: divmax (10) exceeded. Latest difference = 2.424491e+01\n",
      "  AccuracyWarning)\n",
      "C:\\ProgramData\\Anaconda2\\lib\\site-packages\\scipy\\integrate\\quadrature.py:706: AccuracyWarning: divmax (10) exceeded. Latest difference = 2.486453e+01\n",
      "  AccuracyWarning)\n",
      "C:\\ProgramData\\Anaconda2\\lib\\site-packages\\scipy\\integrate\\quadrature.py:706: AccuracyWarning: divmax (10) exceeded. Latest difference = 2.549757e+01\n",
      "  AccuracyWarning)\n",
      "C:\\ProgramData\\Anaconda2\\lib\\site-packages\\scipy\\integrate\\quadrature.py:706: AccuracyWarning: divmax (10) exceeded. Latest difference = 2.615535e+01\n",
      "  AccuracyWarning)\n",
      "C:\\ProgramData\\Anaconda2\\lib\\site-packages\\scipy\\integrate\\quadrature.py:706: AccuracyWarning: divmax (10) exceeded. Latest difference = 2.683290e+01\n",
      "  AccuracyWarning)\n",
      "C:\\ProgramData\\Anaconda2\\lib\\site-packages\\scipy\\integrate\\quadrature.py:706: AccuracyWarning: divmax (10) exceeded. Latest difference = 2.753067e+01\n",
      "  AccuracyWarning)\n",
      "C:\\ProgramData\\Anaconda2\\lib\\site-packages\\scipy\\integrate\\quadrature.py:706: AccuracyWarning: divmax (10) exceeded. Latest difference = 2.825228e+01\n",
      "  AccuracyWarning)\n",
      "C:\\ProgramData\\Anaconda2\\lib\\site-packages\\scipy\\integrate\\quadrature.py:706: AccuracyWarning: divmax (10) exceeded. Latest difference = 2.898570e+01\n",
      "  AccuracyWarning)\n",
      "C:\\ProgramData\\Anaconda2\\lib\\site-packages\\scipy\\integrate\\quadrature.py:706: AccuracyWarning: divmax (10) exceeded. Latest difference = 2.974724e+01\n",
      "  AccuracyWarning)\n",
      "C:\\ProgramData\\Anaconda2\\lib\\site-packages\\scipy\\integrate\\quadrature.py:706: AccuracyWarning: divmax (10) exceeded. Latest difference = 3.052928e+01\n",
      "  AccuracyWarning)\n",
      "C:\\ProgramData\\Anaconda2\\lib\\site-packages\\scipy\\integrate\\quadrature.py:706: AccuracyWarning: divmax (10) exceeded. Latest difference = 3.135481e+01\n",
      "  AccuracyWarning)\n",
      "C:\\ProgramData\\Anaconda2\\lib\\site-packages\\scipy\\integrate\\quadrature.py:706: AccuracyWarning: divmax (10) exceeded. Latest difference = 3.223124e+01\n",
      "  AccuracyWarning)\n",
      "C:\\ProgramData\\Anaconda2\\lib\\site-packages\\scipy\\integrate\\quadrature.py:706: AccuracyWarning: divmax (10) exceeded. Latest difference = 3.318094e+01\n",
      "  AccuracyWarning)\n",
      "C:\\ProgramData\\Anaconda2\\lib\\site-packages\\scipy\\integrate\\quadrature.py:706: AccuracyWarning: divmax (10) exceeded. Latest difference = 3.422598e+01\n",
      "  AccuracyWarning)\n",
      "C:\\ProgramData\\Anaconda2\\lib\\site-packages\\scipy\\integrate\\quadrature.py:706: AccuracyWarning: divmax (10) exceeded. Latest difference = 3.537571e+01\n",
      "  AccuracyWarning)\n",
      "C:\\ProgramData\\Anaconda2\\lib\\site-packages\\scipy\\integrate\\quadrature.py:706: AccuracyWarning: divmax (10) exceeded. Latest difference = 3.662876e+01\n",
      "  AccuracyWarning)\n",
      "C:\\ProgramData\\Anaconda2\\lib\\site-packages\\scipy\\integrate\\quadrature.py:706: AccuracyWarning: divmax (10) exceeded. Latest difference = 3.799360e+01\n",
      "  AccuracyWarning)\n",
      "C:\\ProgramData\\Anaconda2\\lib\\site-packages\\scipy\\integrate\\quadrature.py:706: AccuracyWarning: divmax (10) exceeded. Latest difference = 3.939009e+01\n",
      "  AccuracyWarning)\n",
      "C:\\ProgramData\\Anaconda2\\lib\\site-packages\\scipy\\integrate\\quadrature.py:706: AccuracyWarning: divmax (10) exceeded. Latest difference = 4.086595e+01\n",
      "  AccuracyWarning)\n",
      "C:\\ProgramData\\Anaconda2\\lib\\site-packages\\scipy\\integrate\\quadrature.py:706: AccuracyWarning: divmax (10) exceeded. Latest difference = 4.221920e+01\n",
      "  AccuracyWarning)\n",
      "C:\\ProgramData\\Anaconda2\\lib\\site-packages\\scipy\\integrate\\quadrature.py:706: AccuracyWarning: divmax (10) exceeded. Latest difference = 4.359054e+01\n",
      "  AccuracyWarning)\n",
      "C:\\ProgramData\\Anaconda2\\lib\\site-packages\\scipy\\integrate\\quadrature.py:706: AccuracyWarning: divmax (10) exceeded. Latest difference = 4.465886e+01\n",
      "  AccuracyWarning)\n",
      "C:\\ProgramData\\Anaconda2\\lib\\site-packages\\scipy\\integrate\\quadrature.py:706: AccuracyWarning: divmax (10) exceeded. Latest difference = 4.568638e+01\n",
      "  AccuracyWarning)\n",
      "C:\\ProgramData\\Anaconda2\\lib\\site-packages\\scipy\\integrate\\quadrature.py:706: AccuracyWarning: divmax (10) exceeded. Latest difference = 4.627738e+01\n",
      "  AccuracyWarning)\n",
      "C:\\ProgramData\\Anaconda2\\lib\\site-packages\\scipy\\integrate\\quadrature.py:706: AccuracyWarning: divmax (10) exceeded. Latest difference = 4.679623e+01\n",
      "  AccuracyWarning)\n",
      "C:\\ProgramData\\Anaconda2\\lib\\site-packages\\scipy\\integrate\\quadrature.py:706: AccuracyWarning: divmax (10) exceeded. Latest difference = 4.682977e+01\n",
      "  AccuracyWarning)\n",
      "C:\\ProgramData\\Anaconda2\\lib\\site-packages\\scipy\\integrate\\quadrature.py:706: AccuracyWarning: divmax (10) exceeded. Latest difference = 4.678786e+01\n",
      "  AccuracyWarning)\n",
      "C:\\ProgramData\\Anaconda2\\lib\\site-packages\\scipy\\integrate\\quadrature.py:706: AccuracyWarning: divmax (10) exceeded. Latest difference = 4.628308e+01\n",
      "  AccuracyWarning)\n",
      "C:\\ProgramData\\Anaconda2\\lib\\site-packages\\scipy\\integrate\\quadrature.py:706: AccuracyWarning: divmax (10) exceeded. Latest difference = 4.571186e+01\n",
      "  AccuracyWarning)\n",
      "C:\\ProgramData\\Anaconda2\\lib\\site-packages\\scipy\\integrate\\quadrature.py:706: AccuracyWarning: divmax (10) exceeded. Latest difference = 4.474518e+01\n",
      "  AccuracyWarning)\n",
      "C:\\ProgramData\\Anaconda2\\lib\\site-packages\\scipy\\integrate\\quadrature.py:706: AccuracyWarning: divmax (10) exceeded. Latest difference = 4.372725e+01\n",
      "  AccuracyWarning)\n",
      "C:\\ProgramData\\Anaconda2\\lib\\site-packages\\scipy\\integrate\\quadrature.py:706: AccuracyWarning: divmax (10) exceeded. Latest difference = 4.242957e+01\n",
      "  AccuracyWarning)\n",
      "C:\\ProgramData\\Anaconda2\\lib\\site-packages\\scipy\\integrate\\quadrature.py:706: AccuracyWarning: divmax (10) exceeded. Latest difference = 4.111609e+01\n",
      "  AccuracyWarning)\n",
      "C:\\ProgramData\\Anaconda2\\lib\\site-packages\\scipy\\integrate\\quadrature.py:706: AccuracyWarning: divmax (10) exceeded. Latest difference = 3.970852e+01\n",
      "  AccuracyWarning)\n",
      "C:\\ProgramData\\Anaconda2\\lib\\site-packages\\scipy\\integrate\\quadrature.py:706: AccuracyWarning: divmax (10) exceeded. Latest difference = 3.835297e+01\n",
      "  AccuracyWarning)\n",
      "C:\\ProgramData\\Anaconda2\\lib\\site-packages\\scipy\\integrate\\quadrature.py:706: AccuracyWarning: divmax (10) exceeded. Latest difference = 3.714139e+01\n",
      "  AccuracyWarning)\n",
      "C:\\ProgramData\\Anaconda2\\lib\\site-packages\\scipy\\integrate\\quadrature.py:706: AccuracyWarning: divmax (10) exceeded. Latest difference = 3.606343e+01\n",
      "  AccuracyWarning)\n",
      "C:\\ProgramData\\Anaconda2\\lib\\site-packages\\scipy\\integrate\\quadrature.py:706: AccuracyWarning: divmax (10) exceeded. Latest difference = 3.533663e+01\n",
      "  AccuracyWarning)\n",
      "C:\\ProgramData\\Anaconda2\\lib\\site-packages\\scipy\\integrate\\quadrature.py:706: AccuracyWarning: divmax (10) exceeded. Latest difference = 3.479444e+01\n",
      "  AccuracyWarning)\n",
      "C:\\ProgramData\\Anaconda2\\lib\\site-packages\\scipy\\integrate\\quadrature.py:706: AccuracyWarning: divmax (10) exceeded. Latest difference = 3.468459e+01\n",
      "  AccuracyWarning)\n",
      "C:\\ProgramData\\Anaconda2\\lib\\site-packages\\scipy\\integrate\\quadrature.py:706: AccuracyWarning: divmax (10) exceeded. Latest difference = 3.474954e+01\n",
      "  AccuracyWarning)\n",
      "C:\\ProgramData\\Anaconda2\\lib\\site-packages\\scipy\\integrate\\quadrature.py:706: AccuracyWarning: divmax (10) exceeded. Latest difference = 3.518228e+01\n",
      "  AccuracyWarning)\n",
      "C:\\ProgramData\\Anaconda2\\lib\\site-packages\\scipy\\integrate\\quadrature.py:706: AccuracyWarning: divmax (10) exceeded. Latest difference = 3.573542e+01\n",
      "  AccuracyWarning)\n",
      "C:\\ProgramData\\Anaconda2\\lib\\site-packages\\scipy\\integrate\\quadrature.py:706: AccuracyWarning: divmax (10) exceeded. Latest difference = 3.651989e+01\n",
      "  AccuracyWarning)\n",
      "C:\\ProgramData\\Anaconda2\\lib\\site-packages\\scipy\\integrate\\quadrature.py:706: AccuracyWarning: divmax (10) exceeded. Latest difference = 3.737004e+01\n",
      "  AccuracyWarning)\n",
      "C:\\ProgramData\\Anaconda2\\lib\\site-packages\\scipy\\integrate\\quadrature.py:706: AccuracyWarning: divmax (10) exceeded. Latest difference = 3.833072e+01\n",
      "  AccuracyWarning)\n",
      "C:\\ProgramData\\Anaconda2\\lib\\site-packages\\scipy\\integrate\\quadrature.py:706: AccuracyWarning: divmax (10) exceeded. Latest difference = 3.932644e+01\n",
      "  AccuracyWarning)\n",
      "C:\\ProgramData\\Anaconda2\\lib\\site-packages\\scipy\\integrate\\quadrature.py:706: AccuracyWarning: divmax (10) exceeded. Latest difference = 4.034917e+01\n",
      "  AccuracyWarning)\n",
      "C:\\ProgramData\\Anaconda2\\lib\\site-packages\\scipy\\integrate\\quadrature.py:706: AccuracyWarning: divmax (10) exceeded. Latest difference = 4.138901e+01\n",
      "  AccuracyWarning)\n",
      "C:\\ProgramData\\Anaconda2\\lib\\site-packages\\scipy\\integrate\\quadrature.py:706: AccuracyWarning: divmax (10) exceeded. Latest difference = 4.238400e+01\n",
      "  AccuracyWarning)\n",
      "C:\\ProgramData\\Anaconda2\\lib\\site-packages\\scipy\\integrate\\quadrature.py:706: AccuracyWarning: divmax (10) exceeded. Latest difference = 4.337857e+01\n",
      "  AccuracyWarning)\n",
      "C:\\ProgramData\\Anaconda2\\lib\\site-packages\\scipy\\integrate\\quadrature.py:706: AccuracyWarning: divmax (10) exceeded. Latest difference = 4.427686e+01\n",
      "  AccuracyWarning)\n",
      "C:\\ProgramData\\Anaconda2\\lib\\site-packages\\scipy\\integrate\\quadrature.py:706: AccuracyWarning: divmax (10) exceeded. Latest difference = 4.517645e+01\n",
      "  AccuracyWarning)\n",
      "C:\\ProgramData\\Anaconda2\\lib\\site-packages\\scipy\\integrate\\quadrature.py:706: AccuracyWarning: divmax (10) exceeded. Latest difference = 4.600368e+01\n",
      "  AccuracyWarning)\n",
      "C:\\ProgramData\\Anaconda2\\lib\\site-packages\\scipy\\integrate\\quadrature.py:706: AccuracyWarning: divmax (10) exceeded. Latest difference = 4.687904e+01\n",
      "  AccuracyWarning)\n",
      "C:\\ProgramData\\Anaconda2\\lib\\site-packages\\scipy\\integrate\\quadrature.py:706: AccuracyWarning: divmax (10) exceeded. Latest difference = 4.779064e+01\n",
      "  AccuracyWarning)\n",
      "C:\\ProgramData\\Anaconda2\\lib\\site-packages\\scipy\\integrate\\quadrature.py:706: AccuracyWarning: divmax (10) exceeded. Latest difference = 4.882315e+01\n",
      "  AccuracyWarning)\n",
      "C:\\ProgramData\\Anaconda2\\lib\\site-packages\\scipy\\integrate\\quadrature.py:706: AccuracyWarning: divmax (10) exceeded. Latest difference = 4.998533e+01\n",
      "  AccuracyWarning)\n",
      "C:\\ProgramData\\Anaconda2\\lib\\site-packages\\scipy\\integrate\\quadrature.py:706: AccuracyWarning: divmax (10) exceeded. Latest difference = 5.130463e+01\n",
      "  AccuracyWarning)\n",
      "C:\\ProgramData\\Anaconda2\\lib\\site-packages\\scipy\\integrate\\quadrature.py:706: AccuracyWarning: divmax (10) exceeded. Latest difference = 5.270825e+01\n",
      "  AccuracyWarning)\n",
      "C:\\ProgramData\\Anaconda2\\lib\\site-packages\\scipy\\integrate\\quadrature.py:706: AccuracyWarning: divmax (10) exceeded. Latest difference = 5.423052e+01\n",
      "  AccuracyWarning)\n",
      "C:\\ProgramData\\Anaconda2\\lib\\site-packages\\scipy\\integrate\\quadrature.py:706: AccuracyWarning: divmax (10) exceeded. Latest difference = 5.564775e+01\n",
      "  AccuracyWarning)\n",
      "C:\\ProgramData\\Anaconda2\\lib\\site-packages\\scipy\\integrate\\quadrature.py:706: AccuracyWarning: divmax (10) exceeded. Latest difference = 5.710116e+01\n",
      "  AccuracyWarning)\n",
      "C:\\ProgramData\\Anaconda2\\lib\\site-packages\\scipy\\integrate\\quadrature.py:706: AccuracyWarning: divmax (10) exceeded. Latest difference = 5.823250e+01\n",
      "  AccuracyWarning)\n",
      "C:\\ProgramData\\Anaconda2\\lib\\site-packages\\scipy\\integrate\\quadrature.py:706: AccuracyWarning: divmax (10) exceeded. Latest difference = 5.932983e+01\n",
      "  AccuracyWarning)\n",
      "C:\\ProgramData\\Anaconda2\\lib\\site-packages\\scipy\\integrate\\quadrature.py:706: AccuracyWarning: divmax (10) exceeded. Latest difference = 5.995622e+01\n",
      "  AccuracyWarning)\n",
      "C:\\ProgramData\\Anaconda2\\lib\\site-packages\\scipy\\integrate\\quadrature.py:706: AccuracyWarning: divmax (10) exceeded. Latest difference = 6.050534e+01\n",
      "  AccuracyWarning)\n",
      "C:\\ProgramData\\Anaconda2\\lib\\site-packages\\scipy\\integrate\\quadrature.py:706: AccuracyWarning: divmax (10) exceeded. Latest difference = 6.050137e+01\n",
      "  AccuracyWarning)\n",
      "C:\\ProgramData\\Anaconda2\\lib\\site-packages\\scipy\\integrate\\quadrature.py:706: AccuracyWarning: divmax (10) exceeded. Latest difference = 6.038796e+01\n",
      "  AccuracyWarning)\n",
      "C:\\ProgramData\\Anaconda2\\lib\\site-packages\\scipy\\integrate\\quadrature.py:706: AccuracyWarning: divmax (10) exceeded. Latest difference = 5.970312e+01\n",
      "  AccuracyWarning)\n",
      "C:\\ProgramData\\Anaconda2\\lib\\site-packages\\scipy\\integrate\\quadrature.py:706: AccuracyWarning: divmax (10) exceeded. Latest difference = 5.890586e+01\n",
      "  AccuracyWarning)\n",
      "C:\\ProgramData\\Anaconda2\\lib\\site-packages\\scipy\\integrate\\quadrature.py:706: AccuracyWarning: divmax (10) exceeded. Latest difference = 5.766038e+01\n",
      "  AccuracyWarning)\n",
      "C:\\ProgramData\\Anaconda2\\lib\\site-packages\\scipy\\integrate\\quadrature.py:706: AccuracyWarning: divmax (10) exceeded. Latest difference = 5.637562e+01\n",
      "  AccuracyWarning)\n",
      "C:\\ProgramData\\Anaconda2\\lib\\site-packages\\scipy\\integrate\\quadrature.py:706: AccuracyWarning: divmax (10) exceeded. Latest difference = 5.495410e+01\n",
      "  AccuracyWarning)\n",
      "C:\\ProgramData\\Anaconda2\\lib\\site-packages\\scipy\\integrate\\quadrature.py:706: AccuracyWarning: divmax (10) exceeded. Latest difference = 5.363378e+01\n",
      "  AccuracyWarning)\n",
      "C:\\ProgramData\\Anaconda2\\lib\\site-packages\\scipy\\integrate\\quadrature.py:706: AccuracyWarning: divmax (10) exceeded. Latest difference = 5.254878e+01\n",
      "  AccuracyWarning)\n",
      "C:\\ProgramData\\Anaconda2\\lib\\site-packages\\scipy\\integrate\\quadrature.py:706: AccuracyWarning: divmax (10) exceeded. Latest difference = 5.168507e+01\n",
      "  AccuracyWarning)\n",
      "C:\\ProgramData\\Anaconda2\\lib\\site-packages\\scipy\\integrate\\quadrature.py:706: AccuracyWarning: divmax (10) exceeded. Latest difference = 5.127980e+01\n",
      "  AccuracyWarning)\n",
      "C:\\ProgramData\\Anaconda2\\lib\\site-packages\\scipy\\integrate\\quadrature.py:706: AccuracyWarning: divmax (10) exceeded. Latest difference = 5.112589e+01\n",
      "  AccuracyWarning)\n",
      "C:\\ProgramData\\Anaconda2\\lib\\site-packages\\scipy\\integrate\\quadrature.py:706: AccuracyWarning: divmax (10) exceeded. Latest difference = 5.144167e+01\n",
      "  AccuracyWarning)\n",
      "C:\\ProgramData\\Anaconda2\\lib\\site-packages\\scipy\\integrate\\quadrature.py:706: AccuracyWarning: divmax (10) exceeded. Latest difference = 5.197220e+01\n",
      "  AccuracyWarning)\n",
      "C:\\ProgramData\\Anaconda2\\lib\\site-packages\\scipy\\integrate\\quadrature.py:706: AccuracyWarning: divmax (10) exceeded. Latest difference = 5.287284e+01\n",
      "  AccuracyWarning)\n",
      "C:\\ProgramData\\Anaconda2\\lib\\site-packages\\scipy\\integrate\\quadrature.py:706: AccuracyWarning: divmax (10) exceeded. Latest difference = 5.393678e+01\n",
      "  AccuracyWarning)\n",
      "C:\\ProgramData\\Anaconda2\\lib\\site-packages\\scipy\\integrate\\quadrature.py:706: AccuracyWarning: divmax (10) exceeded. Latest difference = 5.522383e+01\n",
      "  AccuracyWarning)\n",
      "C:\\ProgramData\\Anaconda2\\lib\\site-packages\\scipy\\integrate\\quadrature.py:706: AccuracyWarning: divmax (10) exceeded. Latest difference = 5.660572e+01\n",
      "  AccuracyWarning)\n",
      "C:\\ProgramData\\Anaconda2\\lib\\site-packages\\scipy\\integrate\\quadrature.py:706: AccuracyWarning: divmax (10) exceeded. Latest difference = 5.799230e+01\n",
      "  AccuracyWarning)\n",
      "C:\\ProgramData\\Anaconda2\\lib\\site-packages\\scipy\\integrate\\quadrature.py:706: AccuracyWarning: divmax (10) exceeded. Latest difference = 5.938175e+01\n",
      "  AccuracyWarning)\n",
      "C:\\ProgramData\\Anaconda2\\lib\\site-packages\\scipy\\integrate\\quadrature.py:706: AccuracyWarning: divmax (10) exceeded. Latest difference = 6.055296e+01\n",
      "  AccuracyWarning)\n",
      "C:\\ProgramData\\Anaconda2\\lib\\site-packages\\scipy\\integrate\\quadrature.py:706: AccuracyWarning: divmax (10) exceeded. Latest difference = 6.167648e+01\n",
      "  AccuracyWarning)\n",
      "C:\\ProgramData\\Anaconda2\\lib\\site-packages\\scipy\\integrate\\quadrature.py:706: AccuracyWarning: divmax (10) exceeded. Latest difference = 6.252831e+01\n",
      "  AccuracyWarning)\n",
      "C:\\ProgramData\\Anaconda2\\lib\\site-packages\\scipy\\integrate\\quadrature.py:706: AccuracyWarning: divmax (10) exceeded. Latest difference = 6.338567e+01\n",
      "  AccuracyWarning)\n",
      "C:\\ProgramData\\Anaconda2\\lib\\site-packages\\scipy\\integrate\\quadrature.py:706: AccuracyWarning: divmax (10) exceeded. Latest difference = 6.410875e+01\n",
      "  AccuracyWarning)\n",
      "C:\\ProgramData\\Anaconda2\\lib\\site-packages\\scipy\\integrate\\quadrature.py:706: AccuracyWarning: divmax (10) exceeded. Latest difference = 6.493934e+01\n",
      "  AccuracyWarning)\n",
      "C:\\ProgramData\\Anaconda2\\lib\\site-packages\\scipy\\integrate\\quadrature.py:706: AccuracyWarning: divmax (10) exceeded. Latest difference = 6.575135e+01\n",
      "  AccuracyWarning)\n",
      "C:\\ProgramData\\Anaconda2\\lib\\site-packages\\scipy\\integrate\\quadrature.py:706: AccuracyWarning: divmax (10) exceeded. Latest difference = 6.671283e+01\n",
      "  AccuracyWarning)\n",
      "C:\\ProgramData\\Anaconda2\\lib\\site-packages\\scipy\\integrate\\quadrature.py:706: AccuracyWarning: divmax (10) exceeded. Latest difference = 6.759562e+01\n",
      "  AccuracyWarning)\n",
      "C:\\ProgramData\\Anaconda2\\lib\\site-packages\\scipy\\integrate\\quadrature.py:706: AccuracyWarning: divmax (10) exceeded. Latest difference = 6.859375e+01\n",
      "  AccuracyWarning)\n",
      "C:\\ProgramData\\Anaconda2\\lib\\site-packages\\scipy\\integrate\\quadrature.py:706: AccuracyWarning: divmax (10) exceeded. Latest difference = 6.934994e+01\n",
      "  AccuracyWarning)\n",
      "C:\\ProgramData\\Anaconda2\\lib\\site-packages\\scipy\\integrate\\quadrature.py:706: AccuracyWarning: divmax (10) exceeded. Latest difference = 7.016006e+01\n",
      "  AccuracyWarning)\n",
      "C:\\ProgramData\\Anaconda2\\lib\\site-packages\\scipy\\integrate\\quadrature.py:706: AccuracyWarning: divmax (10) exceeded. Latest difference = 7.053543e+01\n",
      "  AccuracyWarning)\n",
      "C:\\ProgramData\\Anaconda2\\lib\\site-packages\\scipy\\integrate\\quadrature.py:706: AccuracyWarning: divmax (10) exceeded. Latest difference = 7.087102e+01\n",
      "  AccuracyWarning)\n",
      "C:\\ProgramData\\Anaconda2\\lib\\site-packages\\scipy\\integrate\\quadrature.py:706: AccuracyWarning: divmax (10) exceeded. Latest difference = 7.051190e+01\n",
      "  AccuracyWarning)\n",
      "C:\\ProgramData\\Anaconda2\\lib\\site-packages\\scipy\\integrate\\quadrature.py:706: AccuracyWarning: divmax (10) exceeded. Latest difference = 6.998044e+01\n",
      "  AccuracyWarning)\n",
      "C:\\ProgramData\\Anaconda2\\lib\\site-packages\\scipy\\integrate\\quadrature.py:706: AccuracyWarning: divmax (10) exceeded. Latest difference = 6.852735e+01\n",
      "  AccuracyWarning)\n",
      "C:\\ProgramData\\Anaconda2\\lib\\site-packages\\scipy\\integrate\\quadrature.py:706: AccuracyWarning: divmax (10) exceeded. Latest difference = 6.683010e+01\n",
      "  AccuracyWarning)\n",
      "C:\\ProgramData\\Anaconda2\\lib\\site-packages\\scipy\\integrate\\quadrature.py:706: AccuracyWarning: divmax (10) exceeded. Latest difference = 6.428031e+01\n",
      "  AccuracyWarning)\n",
      "C:\\ProgramData\\Anaconda2\\lib\\site-packages\\scipy\\integrate\\quadrature.py:706: AccuracyWarning: divmax (10) exceeded. Latest difference = 6.156909e+01\n",
      "  AccuracyWarning)\n",
      "C:\\ProgramData\\Anaconda2\\lib\\site-packages\\scipy\\integrate\\quadrature.py:706: AccuracyWarning: divmax (10) exceeded. Latest difference = 5.840337e+01\n",
      "  AccuracyWarning)\n"
     ]
    },
    {
     "name": "stdout",
     "output_type": "stream",
     "text": [
      "\n"
     ]
    }
   ],
   "source": [
    "phase_interp = interp1d(mu, phase)\n",
    "\n",
    "def func(x, l):\n",
    "    return (2*l + 1)/2. * legendre(l)(x)*phase_interp(x)\n",
    "\n",
    "coeffs_romberg = []\n",
    "for l in tqdm_notebook(range(COFFES_NUM)):\n",
    "    coeffs_romberg.append(romberg(func, -1, 1, args=(l,), vec_func=True))"
   ]
  },
  {
   "cell_type": "code",
   "execution_count": 16,
   "metadata": {
    "collapsed": false,
    "scrolled": true
   },
   "outputs": [
    {
     "data": {
      "text/plain": [
       "[<matplotlib.lines.Line2D at 0xd96b438>]"
      ]
     },
     "execution_count": 16,
     "metadata": {},
     "output_type": "execute_result"
    },
    {
     "data": {
      "image/png": "[encoded data removed]",
      "text/plain": [
       "<matplotlib.figure.Figure at 0xcfba710>"
      ]
     },
     "metadata": {},
     "output_type": "display_data"
    }
   ],
   "source": [
    "plt.plot(coeffs_romberg)"
   ]
  },
  {
   "cell_type": "code",
   "execution_count": 17,
   "metadata": {
    "collapsed": false
   },
   "outputs": [],
   "source": [
    "mu_new = np.linspace(-1, 1, 300)\n",
    "phase_gauss = legendre(0)(mu_new) * coeffs_romberg[0]\n",
    "for l, coeff in enumerate(coeffs_romberg[1:]):\n",
    "    phase_gauss += legendre(l)(mu_new) * coeff"
   ]
  },
  {
   "cell_type": "code",
   "execution_count": 18,
   "metadata": {
    "collapsed": false,
    "scrolled": true
   },
   "outputs": [
    {
     "data": {
      "text/plain": [
       "[<matplotlib.lines.Line2D at 0xd397be0>]"
      ]
     },
     "execution_count": 18,
     "metadata": {},
     "output_type": "execute_result"
    },
    {
     "data": {
      "image/png": "[encoded data removed]",
      "text/plain": [
       "<matplotlib.figure.Figure at 0xd97a438>"
      ]
     },
     "metadata": {},
     "output_type": "display_data"
    }
   ],
   "source": [
    "plt.semilogy(mu_new, phase_gauss)\n",
    "plt.semilogy(mu, phase, '+')"
   ]
  }
 ],
 "metadata": {
  "anaconda-cloud": {},
  "kernelspec": {
   "display_name": "Python [default]",
   "language": "python",
   "name": "python2"
  },
  "language_info": {
   "codemirror_mode": {
    "name": "ipython",
    "version": 2
   },
   "file_extension": ".py",
   "mimetype": "text/x-python",
   "name": "python",
   "nbconvert_exporter": "python",
   "pygments_lexer": "ipython2",
   "version": "2.7.12"
  }
 },
 "nbformat": 4,
 "nbformat_minor": 2
}
