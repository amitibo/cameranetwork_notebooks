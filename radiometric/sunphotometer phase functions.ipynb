{
 "cells": [
  {
   "cell_type": "code",
   "execution_count": 1,
   "metadata": {
    "collapsed": true,
    "deletable": true,
    "editable": true
   },
   "outputs": [],
   "source": [
    "from __future__ import division\n",
    "%matplotlib inline\n",
    "import cPickle\n",
    "import datetime\n",
    "from dateutil import parser\n",
    "import itertools\n",
    "import math\n",
    "import matplotlib.pyplot as plt\n",
    "plt.rcParams['figure.figsize'] = (8.0, 8.0)\n",
    "import numpy as np\n",
    "import os\n",
    "import pandas as pd\n",
    "from scipy.integrate import quadrature, romberg, quad, fixed_quad\n",
    "from scipy.interpolate import interp1d\n",
    "from scipy.special import legendre\n",
    "from tqdm import tqdm_notebook"
   ]
  },
  {
   "cell_type": "code",
   "execution_count": 2,
   "metadata": {
    "collapsed": true
   },
   "outputs": [],
   "source": [
    "TIME = pd.datetime(2017, 4, 22, 8, 30, 0)\n",
    "WAVELENGTH = 532"
   ]
  },
  {
   "cell_type": "markdown",
   "metadata": {
    "deletable": true,
    "editable": true
   },
   "source": [
    "# Load the sunphotometer data"
   ]
  },
  {
   "cell_type": "markdown",
   "metadata": {},
   "source": [
    "## Load the phasefunction"
   ]
  },
  {
   "cell_type": "markdown",
   "metadata": {},
   "source": [
    "The data is loaded from the sunphotometer logs. Note that new values are interpolated for TIME and WAVELENGTH. I use the \"pchip\" interpolation method as it is more conservative."
   ]
  },
  {
   "cell_type": "code",
   "execution_count": 3,
   "metadata": {
    "collapsed": false,
    "deletable": true,
    "editable": true
   },
   "outputs": [],
   "source": [
    "def dateparse(d, t):\n",
    "    return pd.datetime.strptime(d+' '+t, '%d:%m:%Y %H:%M:%S')\n",
    "\n",
    "def parsePhaseFunction(path, usecols):\n",
    "    \"\"\"Parse the sunphotometer Phase Function data.\"\"\"\n",
    "\n",
    "    df = pd.read_csv(\n",
    "        path,\n",
    "        skiprows=3,\n",
    "        header=0,\n",
    "        parse_dates=[[0, 1]],\n",
    "        date_parser=dateparse,\n",
    "        index_col=0,\n",
    "        usecols=usecols\n",
    "    )\n",
    "\n",
    "    wavelengths = [float(i.split(\"[\")[0]) for i in df.columns]\n",
    "    df = df.rename(columns=dict(itertools.izip(df.columns, wavelengths)))\n",
    "    df.index.rename(\"datetime\", inplace=True)\n",
    "    \n",
    "    new_row = pd.Series(name=TIME, data=[None]*len(df.columns), index=df.columns)\n",
    "    df = df.append(new_row)\n",
    "    df = df.sort_index().interpolate(method=\"pchip\")\n",
    "\n",
    "    return df, wavelengths\n",
    "\n",
    "pfn_path = r\"../../data/phase_functions/170422_170422_Technion_Haifa_IL.pfn\"\n",
    "df_441, wavelengths = parsePhaseFunction(\n",
    "    pfn_path,\n",
    "    usecols=[0, 1]+list(range(3, 86))\n",
    ")\n",
    "df_674, wavelengths = parsePhaseFunction(\n",
    "    pfn_path,\n",
    "    usecols=[0, 1]+list(range(86, 169))\n",
    ")\n",
    "df_871, wavelengths = parsePhaseFunction(\n",
    "    pfn_path,\n",
    "    usecols=[0, 1]+list(range(169, 252))\n",
    ")\n",
    "df_1020, wavelengths = parsePhaseFunction(\n",
    "    pfn_path,\n",
    "    usecols=[0, 1]+list(range(252, 335))\n",
    ")"
   ]
  },
  {
   "cell_type": "code",
   "execution_count": 4,
   "metadata": {
    "collapsed": false
   },
   "outputs": [],
   "source": [
    "series = [pd.Series(d.loc[TIME], name=n) for d, n in zip((df_441, df_674, df_871, df_1020), (441., 674., 871., 1020.))]\n",
    "df_phf = pd.concat(series, axis=1).T\n",
    "new_row = pd.Series(name=WAVELENGTH, data=[None]*len(df_phf.columns), index=df_phf.columns)\n",
    "df_phf = df_phf.append(new_row).sort_index().interpolate(method=\"pchip\")"
   ]
  },
  {
   "cell_type": "code",
   "execution_count": 5,
   "metadata": {
    "collapsed": false
   },
   "outputs": [
    {
     "data": {
      "text/html": [
       "<div>\n",
       "<table border=\"1\" class=\"dataframe\">\n",
       "  <thead>\n",
       "    <tr style=\"text-align: right;\">\n",
       "      <th></th>\n",
       "      <th>0.0</th>\n",
       "      <th>1.71</th>\n",
       "      <th>3.93</th>\n",
       "      <th>6.16</th>\n",
       "      <th>8.39</th>\n",
       "      <th>10.63</th>\n",
       "      <th>12.86</th>\n",
       "      <th>15.1</th>\n",
       "      <th>17.33</th>\n",
       "      <th>19.57</th>\n",
       "      <th>...</th>\n",
       "      <th>160.43</th>\n",
       "      <th>162.67</th>\n",
       "      <th>164.9</th>\n",
       "      <th>167.14</th>\n",
       "      <th>169.37</th>\n",
       "      <th>171.61</th>\n",
       "      <th>173.84</th>\n",
       "      <th>176.07</th>\n",
       "      <th>178.29</th>\n",
       "      <th>180.0</th>\n",
       "    </tr>\n",
       "  </thead>\n",
       "  <tbody>\n",
       "    <tr>\n",
       "      <th>441.0</th>\n",
       "      <td>375.002768</td>\n",
       "      <td>182.662359</td>\n",
       "      <td>63.300848</td>\n",
       "      <td>28.584953</td>\n",
       "      <td>16.202445</td>\n",
       "      <td>10.905271</td>\n",
       "      <td>8.231246</td>\n",
       "      <td>6.632394</td>\n",
       "      <td>5.529421</td>\n",
       "      <td>4.712451</td>\n",
       "      <td>...</td>\n",
       "      <td>0.149381</td>\n",
       "      <td>0.152994</td>\n",
       "      <td>0.158467</td>\n",
       "      <td>0.165030</td>\n",
       "      <td>0.172893</td>\n",
       "      <td>0.182656</td>\n",
       "      <td>0.196618</td>\n",
       "      <td>0.216917</td>\n",
       "      <td>0.235132</td>\n",
       "      <td>0.241175</td>\n",
       "    </tr>\n",
       "    <tr>\n",
       "      <th>532.0</th>\n",
       "      <td>288.307147</td>\n",
       "      <td>160.348372</td>\n",
       "      <td>63.253836</td>\n",
       "      <td>30.813702</td>\n",
       "      <td>17.600957</td>\n",
       "      <td>11.644057</td>\n",
       "      <td>8.586086</td>\n",
       "      <td>6.756785</td>\n",
       "      <td>5.559022</td>\n",
       "      <td>4.714570</td>\n",
       "      <td>...</td>\n",
       "      <td>0.168373</td>\n",
       "      <td>0.172738</td>\n",
       "      <td>0.178448</td>\n",
       "      <td>0.185610</td>\n",
       "      <td>0.194542</td>\n",
       "      <td>0.206214</td>\n",
       "      <td>0.223949</td>\n",
       "      <td>0.249793</td>\n",
       "      <td>0.272286</td>\n",
       "      <td>0.279485</td>\n",
       "    </tr>\n",
       "    <tr>\n",
       "      <th>674.0</th>\n",
       "      <td>192.837006</td>\n",
       "      <td>130.873024</td>\n",
       "      <td>63.000118</td>\n",
       "      <td>32.846051</td>\n",
       "      <td>19.322599</td>\n",
       "      <td>12.701499</td>\n",
       "      <td>9.182773</td>\n",
       "      <td>7.049424</td>\n",
       "      <td>5.682942</td>\n",
       "      <td>4.726142</td>\n",
       "      <td>...</td>\n",
       "      <td>0.185275</td>\n",
       "      <td>0.190134</td>\n",
       "      <td>0.196020</td>\n",
       "      <td>0.203889</td>\n",
       "      <td>0.214405</td>\n",
       "      <td>0.229025</td>\n",
       "      <td>0.251631</td>\n",
       "      <td>0.283340</td>\n",
       "      <td>0.309474</td>\n",
       "      <td>0.317459</td>\n",
       "    </tr>\n",
       "    <tr>\n",
       "      <th>871.0</th>\n",
       "      <td>129.205918</td>\n",
       "      <td>100.204028</td>\n",
       "      <td>57.635634</td>\n",
       "      <td>33.445408</td>\n",
       "      <td>20.862385</td>\n",
       "      <td>13.978619</td>\n",
       "      <td>10.102417</td>\n",
       "      <td>7.690509</td>\n",
       "      <td>6.121211</td>\n",
       "      <td>5.022847</td>\n",
       "      <td>...</td>\n",
       "      <td>0.189477</td>\n",
       "      <td>0.194125</td>\n",
       "      <td>0.199991</td>\n",
       "      <td>0.208362</td>\n",
       "      <td>0.220494</td>\n",
       "      <td>0.238397</td>\n",
       "      <td>0.265452</td>\n",
       "      <td>0.300585</td>\n",
       "      <td>0.327173</td>\n",
       "      <td>0.334803</td>\n",
       "    </tr>\n",
       "    <tr>\n",
       "      <th>1020.0</th>\n",
       "      <td>100.468267</td>\n",
       "      <td>83.051649</td>\n",
       "      <td>52.820571</td>\n",
       "      <td>32.862773</td>\n",
       "      <td>21.396064</td>\n",
       "      <td>14.657492</td>\n",
       "      <td>10.693124</td>\n",
       "      <td>8.172366</td>\n",
       "      <td>6.495992</td>\n",
       "      <td>5.308459</td>\n",
       "      <td>...</td>\n",
       "      <td>0.188184</td>\n",
       "      <td>0.192416</td>\n",
       "      <td>0.198011</td>\n",
       "      <td>0.206504</td>\n",
       "      <td>0.219575</td>\n",
       "      <td>0.239375</td>\n",
       "      <td>0.268538</td>\n",
       "      <td>0.304321</td>\n",
       "      <td>0.329867</td>\n",
       "      <td>0.336909</td>\n",
       "    </tr>\n",
       "  </tbody>\n",
       "</table>\n",
       "<p>5 rows × 83 columns</p>\n",
       "</div>"
      ],
      "text/plain": [
       "            0.00        1.71       3.93       6.16       8.39       10.63   \\\n",
       "441.0   375.002768  182.662359  63.300848  28.584953  16.202445  10.905271   \n",
       "532.0   288.307147  160.348372  63.253836  30.813702  17.600957  11.644057   \n",
       "674.0   192.837006  130.873024  63.000118  32.846051  19.322599  12.701499   \n",
       "871.0   129.205918  100.204028  57.635634  33.445408  20.862385  13.978619   \n",
       "1020.0  100.468267   83.051649  52.820571  32.862773  21.396064  14.657492   \n",
       "\n",
       "           12.86     15.10     17.33     19.57     ...       160.43    162.67  \\\n",
       "441.0    8.231246  6.632394  5.529421  4.712451    ...     0.149381  0.152994   \n",
       "532.0    8.586086  6.756785  5.559022  4.714570    ...     0.168373  0.172738   \n",
       "674.0    9.182773  7.049424  5.682942  4.726142    ...     0.185275  0.190134   \n",
       "871.0   10.102417  7.690509  6.121211  5.022847    ...     0.189477  0.194125   \n",
       "1020.0  10.693124  8.172366  6.495992  5.308459    ...     0.188184  0.192416   \n",
       "\n",
       "          164.90    167.14    169.37    171.61    173.84    176.07    178.29  \\\n",
       "441.0   0.158467  0.165030  0.172893  0.182656  0.196618  0.216917  0.235132   \n",
       "532.0   0.178448  0.185610  0.194542  0.206214  0.223949  0.249793  0.272286   \n",
       "674.0   0.196020  0.203889  0.214405  0.229025  0.251631  0.283340  0.309474   \n",
       "871.0   0.199991  0.208362  0.220494  0.238397  0.265452  0.300585  0.327173   \n",
       "1020.0  0.198011  0.206504  0.219575  0.239375  0.268538  0.304321  0.329867   \n",
       "\n",
       "          180.00  \n",
       "441.0   0.241175  \n",
       "532.0   0.279485  \n",
       "674.0   0.317459  \n",
       "871.0   0.334803  \n",
       "1020.0  0.336909  \n",
       "\n",
       "[5 rows x 83 columns]"
      ]
     },
     "execution_count": 5,
     "metadata": {},
     "output_type": "execute_result"
    }
   ],
   "source": [
    "df_phf.head()"
   ]
  },
  {
   "cell_type": "code",
   "execution_count": 6,
   "metadata": {
    "collapsed": false,
    "scrolled": false
   },
   "outputs": [
    {
     "data": {
      "text/plain": [
       "<matplotlib.axes._subplots.AxesSubplot at 0xb0d0ef0>"
      ]
     },
     "execution_count": 6,
     "metadata": {},
     "output_type": "execute_result"
    },
    {
     "data": {
      "image/png": "[encoded data removed]",
      "text/plain": [
       "<matplotlib.figure.Figure at 0xb0b6eb8>"
      ]
     },
     "metadata": {},
     "output_type": "display_data"
    }
   ],
   "source": [
    "df_phf.T.plot(logy=True)"
   ]
  },
  {
   "cell_type": "markdown",
   "metadata": {},
   "source": [
    "## Load the Single-Scatter Albedo"
   ]
  },
  {
   "cell_type": "code",
   "execution_count": 7,
   "metadata": {
    "collapsed": false,
    "deletable": true,
    "editable": true
   },
   "outputs": [],
   "source": [
    "def parseSSA(path):\n",
    "    \"\"\"Parse the sunphotometer SSA data.\"\"\"\n",
    "\n",
    "    df = pd.read_csv(\n",
    "        path,\n",
    "        skiprows=3,\n",
    "        header=0,\n",
    "        parse_dates=[[0, 1]],\n",
    "        date_parser=dateparse,\n",
    "        index_col=0,\n",
    "        usecols=[0, 1]+list(range(3, 7))\n",
    "    )\n",
    "\n",
    "    wavelengths = [float(i[3:-2]) for i in df.columns]\n",
    "    df = df.rename(columns=dict(itertools.izip(df.columns, wavelengths)))\n",
    "    df.index.rename(\"datetime\", inplace=True)\n",
    "    \n",
    "    new_row = pd.Series(name=TIME, data=[None]*len(df.columns), index=df.columns)\n",
    "    df = df.append(new_row)\n",
    "    df = df.sort_index().interpolate(method=\"pchip\")\n",
    "\n",
    "    return df\n",
    "\n",
    "ssa_path = r\"../../data/phase_functions/170422_170422_Technion_Haifa_IL.ssa\"\n",
    "\n",
    "df_ssa = parseSSA(ssa_path)"
   ]
  },
  {
   "cell_type": "markdown",
   "metadata": {},
   "source": [
    "### Interpolate by wavelength"
   ]
  },
  {
   "cell_type": "code",
   "execution_count": 8,
   "metadata": {
    "collapsed": false,
    "deletable": true,
    "editable": true
   },
   "outputs": [],
   "source": [
    "new_row = pd.Series(name=WAVELENGTH, data=[None]*len(df_ssa.T.columns), index=df_ssa.T.columns)\n",
    "\n",
    "df_ssa = df_ssa.T.append(new_row).sort_index().interpolate(method=\"pchip\")"
   ]
  },
  {
   "cell_type": "code",
   "execution_count": 9,
   "metadata": {
    "collapsed": false
   },
   "outputs": [
    {
     "data": {
      "text/plain": [
       "<matplotlib.axes._subplots.AxesSubplot at 0xb0b6438>"
      ]
     },
     "execution_count": 9,
     "metadata": {},
     "output_type": "execute_result"
    },
    {
     "data": {
      "image/png": "[encoded data removed]",
      "text/plain": [
       "<matplotlib.figure.Figure at 0xb459cf8>"
      ]
     },
     "metadata": {},
     "output_type": "display_data"
    }
   ],
   "source": [
    "df_ssa.T.loc[TIME].T.plot()"
   ]
  },
  {
   "cell_type": "code",
   "execution_count": 10,
   "metadata": {
    "collapsed": false
   },
   "outputs": [
    {
     "data": {
      "text/plain": [
       "0.90408202263500625"
      ]
     },
     "execution_count": 10,
     "metadata": {},
     "output_type": "execute_result"
    }
   ],
   "source": [
    "df_ssa.loc[WAVELENGTH][TIME]"
   ]
  },
  {
   "cell_type": "markdown",
   "metadata": {
    "deletable": true,
    "editable": true
   },
   "source": [
    "# Calculate the Legndre Coefficients"
   ]
  },
  {
   "cell_type": "markdown",
   "metadata": {
    "deletable": true,
    "editable": true
   },
   "source": [
    "The (intensity) phase function is conventionally normalized as follows\n",
    "\n",
    "$$\\int_0^{2\\pi} \\int_0^\\pi P(\\Theta) \\sin(\\Theta) d\\Theta d\\phi = 4 \\pi$$\n",
    "\n",
    "Which is equivalent to\n",
    "\n",
    "$$\\int_{-1}^1 P(\\cos{\\Theta}) d(\\cos{\\Theta}) = 2$$\n",
    "\n",
    "Integrating the phase function from the sunphotometer gives:"
   ]
  },
  {
   "cell_type": "code",
   "execution_count": 11,
   "metadata": {
    "collapsed": false,
    "deletable": true,
    "editable": true
   },
   "outputs": [
    {
     "name": "stderr",
     "output_type": "stream",
     "text": [
      "C:\\Anaconda2\\lib\\site-packages\\pandas\\core\\internals.py:3571: VisibleDeprecationWarning: converting an array with ndim > 0 to an index will result in an error in the future\n",
      "  block = self.blocks[self._blknos[i]]\n"
     ]
    },
    {
     "data": {
      "text/plain": [
       "2.0715332282113326"
      ]
     },
     "execution_count": 11,
     "metadata": {},
     "output_type": "execute_result"
    }
   ],
   "source": [
    "mu = np.cos(np.radians(wavelengths[::-1]))\n",
    "phase = df_441.transpose()[u'2017-04-22 06:40:30'].mean(axis=1).values[::-1]\n",
    "np.trapz(phase, mu)"
   ]
  },
  {
   "cell_type": "markdown",
   "metadata": {
    "deletable": true,
    "editable": true
   },
   "source": [
    "# Calculate the Legendre Coefficients"
   ]
  },
  {
   "cell_type": "markdown",
   "metadata": {
    "deletable": true,
    "editable": true
   },
   "source": [
    "## Use quadrature integration"
   ]
  },
  {
   "cell_type": "code",
   "execution_count": 12,
   "metadata": {
    "collapsed": true,
    "deletable": true,
    "editable": true
   },
   "outputs": [],
   "source": [
    "COFFES_NUM = 300"
   ]
  },
  {
   "cell_type": "code",
   "execution_count": 13,
   "metadata": {
    "collapsed": true,
    "deletable": true,
    "editable": true
   },
   "outputs": [],
   "source": [
    "mu = np.cos(np.radians(wavelengths[::-1]))\n",
    "phase = df_phf.loc[WAVELENGTH].values[::-1]\n",
    "\n",
    "phase_interp = interp1d(mu, phase, kind=1)\n",
    "\n",
    "def func(x, l, lg):\n",
    "    return (2*l + 1)/2. * lg(x)*phase_interp(x)"
   ]
  },
  {
   "cell_type": "code",
   "execution_count": null,
   "metadata": {
    "collapsed": false,
    "deletable": true,
    "editable": true,
    "scrolled": true
   },
   "outputs": [
    {
     "name": "stderr",
     "output_type": "stream",
     "text": [
      "C:\\Anaconda2\\lib\\site-packages\\scipy\\integrate\\quadrature.py:196: AccuracyWarning: maxiter (1000) exceeded. Latest difference = 1.401995e-05\n",
      "  AccuracyWarning)\n",
      "C:\\Anaconda2\\lib\\site-packages\\scipy\\integrate\\quadrature.py:196: AccuracyWarning: maxiter (1000) exceeded. Latest difference = 2.328547e-05\n",
      "  AccuracyWarning)\n",
      "C:\\Anaconda2\\lib\\site-packages\\scipy\\integrate\\quadrature.py:196: AccuracyWarning: maxiter (1000) exceeded. Latest difference = 3.232878e-05\n",
      "  AccuracyWarning)\n",
      "C:\\Anaconda2\\lib\\site-packages\\scipy\\integrate\\quadrature.py:196: AccuracyWarning: maxiter (1000) exceeded. Latest difference = 4.973227e-05\n",
      "  AccuracyWarning)\n",
      "C:\\Anaconda2\\lib\\site-packages\\scipy\\integrate\\quadrature.py:196: AccuracyWarning: maxiter (1000) exceeded. Latest difference = 5.824578e-05\n",
      "  AccuracyWarning)\n",
      "C:\\Anaconda2\\lib\\site-packages\\scipy\\integrate\\quadrature.py:196: AccuracyWarning: maxiter (1000) exceeded. Latest difference = 6.669542e-05\n",
      "  AccuracyWarning)\n",
      "C:\\Anaconda2\\lib\\site-packages\\scipy\\integrate\\quadrature.py:196: AccuracyWarning: maxiter (1000) exceeded. Latest difference = 7.488028e-05\n",
      "  AccuracyWarning)\n",
      "C:\\Anaconda2\\lib\\site-packages\\scipy\\integrate\\quadrature.py:196: AccuracyWarning: maxiter (1000) exceeded. Latest difference = 8.284462e-05\n",
      "  AccuracyWarning)\n",
      "C:\\Anaconda2\\lib\\site-packages\\scipy\\integrate\\quadrature.py:196: AccuracyWarning: maxiter (1000) exceeded. Latest difference = 9.045358e-05\n",
      "  AccuracyWarning)\n",
      "C:\\Anaconda2\\lib\\site-packages\\scipy\\integrate\\quadrature.py:196: AccuracyWarning: maxiter (1000) exceeded. Latest difference = 1.043164e-04\n",
      "  AccuracyWarning)\n",
      "C:\\Anaconda2\\lib\\site-packages\\scipy\\integrate\\quadrature.py:196: AccuracyWarning: maxiter (1000) exceeded. Latest difference = 1.101091e-04\n",
      "  AccuracyWarning)\n",
      "C:\\Anaconda2\\lib\\site-packages\\scipy\\integrate\\quadrature.py:196: AccuracyWarning: maxiter (1000) exceeded. Latest difference = 1.151788e-04\n",
      "  AccuracyWarning)\n",
      "C:\\Anaconda2\\lib\\site-packages\\scipy\\integrate\\quadrature.py:196: AccuracyWarning: maxiter (1000) exceeded. Latest difference = 1.195951e-04\n",
      "  AccuracyWarning)\n",
      "C:\\Anaconda2\\lib\\site-packages\\scipy\\integrate\\quadrature.py:196: AccuracyWarning: maxiter (1000) exceeded. Latest difference = 1.234506e-04\n",
      "  AccuracyWarning)\n",
      "C:\\Anaconda2\\lib\\site-packages\\scipy\\integrate\\quadrature.py:196: AccuracyWarning: maxiter (1000) exceeded. Latest difference = 1.266929e-04\n",
      "  AccuracyWarning)\n",
      "C:\\Anaconda2\\lib\\site-packages\\scipy\\integrate\\quadrature.py:196: AccuracyWarning: maxiter (1000) exceeded. Latest difference = 1.292725e-04\n",
      "  AccuracyWarning)\n",
      "C:\\Anaconda2\\lib\\site-packages\\scipy\\integrate\\quadrature.py:196: AccuracyWarning: maxiter (1000) exceeded. Latest difference = 1.310244e-04\n",
      "  AccuracyWarning)\n",
      "C:\\Anaconda2\\lib\\site-packages\\scipy\\integrate\\quadrature.py:196: AccuracyWarning: maxiter (1000) exceeded. Latest difference = 1.316780e-04\n",
      "  AccuracyWarning)\n",
      "C:\\Anaconda2\\lib\\site-packages\\scipy\\integrate\\quadrature.py:196: AccuracyWarning: maxiter (1000) exceeded. Latest difference = 1.312743e-04\n",
      "  AccuracyWarning)\n",
      "C:\\Anaconda2\\lib\\site-packages\\scipy\\integrate\\quadrature.py:196: AccuracyWarning: maxiter (1000) exceeded. Latest difference = 1.306649e-04\n",
      "  AccuracyWarning)\n",
      "C:\\Anaconda2\\lib\\site-packages\\scipy\\integrate\\quadrature.py:196: AccuracyWarning: maxiter (1000) exceeded. Latest difference = 1.296988e-04\n",
      "  AccuracyWarning)\n",
      "C:\\Anaconda2\\lib\\site-packages\\scipy\\integrate\\quadrature.py:196: AccuracyWarning: maxiter (1000) exceeded. Latest difference = 1.271037e-04\n",
      "  AccuracyWarning)\n",
      "C:\\Anaconda2\\lib\\site-packages\\scipy\\integrate\\quadrature.py:196: AccuracyWarning: maxiter (1000) exceeded. Latest difference = 1.196994e-04\n",
      "  AccuracyWarning)\n",
      "C:\\Anaconda2\\lib\\site-packages\\scipy\\integrate\\quadrature.py:196: AccuracyWarning: maxiter (1000) exceeded. Latest difference = 8.881204e-05\n",
      "  AccuracyWarning)\n",
      "C:\\Anaconda2\\lib\\site-packages\\scipy\\integrate\\quadrature.py:196: AccuracyWarning: maxiter (1000) exceeded. Latest difference = 6.739041e-05\n",
      "  AccuracyWarning)\n",
      "C:\\Anaconda2\\lib\\site-packages\\scipy\\integrate\\quadrature.py:196: AccuracyWarning: maxiter (1000) exceeded. Latest difference = 4.408326e-05\n",
      "  AccuracyWarning)\n",
      "C:\\Anaconda2\\lib\\site-packages\\scipy\\integrate\\quadrature.py:196: AccuracyWarning: maxiter (1000) exceeded. Latest difference = 1.978960e-05\n",
      "  AccuracyWarning)\n",
      "C:\\Anaconda2\\lib\\site-packages\\scipy\\integrate\\quadrature.py:196: AccuracyWarning: maxiter (1000) exceeded. Latest difference = 6.269441e-06\n",
      "  AccuracyWarning)\n",
      "C:\\Anaconda2\\lib\\site-packages\\scipy\\integrate\\quadrature.py:196: AccuracyWarning: maxiter (1000) exceeded. Latest difference = 3.408431e-05\n",
      "  AccuracyWarning)\n",
      "C:\\Anaconda2\\lib\\site-packages\\scipy\\integrate\\quadrature.py:196: AccuracyWarning: maxiter (1000) exceeded. Latest difference = 9.465545e-05\n",
      "  AccuracyWarning)\n",
      "C:\\Anaconda2\\lib\\site-packages\\scipy\\integrate\\quadrature.py:196: AccuracyWarning: maxiter (1000) exceeded. Latest difference = 1.265077e-04\n",
      "  AccuracyWarning)\n",
      "C:\\Anaconda2\\lib\\site-packages\\scipy\\integrate\\quadrature.py:196: AccuracyWarning: maxiter (1000) exceeded. Latest difference = 1.594401e-04\n",
      "  AccuracyWarning)\n",
      "C:\\Anaconda2\\lib\\site-packages\\scipy\\integrate\\quadrature.py:196: AccuracyWarning: maxiter (1000) exceeded. Latest difference = 1.940767e-04\n",
      "  AccuracyWarning)\n",
      "C:\\Anaconda2\\lib\\site-packages\\scipy\\integrate\\quadrature.py:196: AccuracyWarning: maxiter (1000) exceeded. Latest difference = 2.300728e-04\n",
      "  AccuracyWarning)\n",
      "C:\\Anaconda2\\lib\\site-packages\\scipy\\integrate\\quadrature.py:196: AccuracyWarning: maxiter (1000) exceeded. Latest difference = 2.666588e-04\n",
      "  AccuracyWarning)\n",
      "C:\\Anaconda2\\lib\\site-packages\\scipy\\integrate\\quadrature.py:196: AccuracyWarning: maxiter (1000) exceeded. Latest difference = 3.030686e-04\n",
      "  AccuracyWarning)\n",
      "C:\\Anaconda2\\lib\\site-packages\\scipy\\integrate\\quadrature.py:196: AccuracyWarning: maxiter (1000) exceeded. Latest difference = 3.377165e-04\n",
      "  AccuracyWarning)\n",
      "C:\\Anaconda2\\lib\\site-packages\\scipy\\integrate\\quadrature.py:196: AccuracyWarning: maxiter (1000) exceeded. Latest difference = 3.704054e-04\n",
      "  AccuracyWarning)\n",
      "C:\\Anaconda2\\lib\\site-packages\\scipy\\integrate\\quadrature.py:196: AccuracyWarning: maxiter (1000) exceeded. Latest difference = 3.995547e-04\n",
      "  AccuracyWarning)\n",
      "C:\\Anaconda2\\lib\\site-packages\\scipy\\integrate\\quadrature.py:196: AccuracyWarning: maxiter (1000) exceeded. Latest difference = 4.259549e-04\n",
      "  AccuracyWarning)\n",
      "C:\\Anaconda2\\lib\\site-packages\\scipy\\integrate\\quadrature.py:196: AccuracyWarning: maxiter (1000) exceeded. Latest difference = 4.493251e-04\n",
      "  AccuracyWarning)\n",
      "C:\\Anaconda2\\lib\\site-packages\\scipy\\integrate\\quadrature.py:196: AccuracyWarning: maxiter (1000) exceeded. Latest difference = 4.715193e-04\n",
      "  AccuracyWarning)\n",
      "C:\\Anaconda2\\lib\\site-packages\\scipy\\integrate\\quadrature.py:196: AccuracyWarning: maxiter (1000) exceeded. Latest difference = 4.932964e-04\n",
      "  AccuracyWarning)\n",
      "C:\\Anaconda2\\lib\\site-packages\\scipy\\integrate\\quadrature.py:196: AccuracyWarning: maxiter (1000) exceeded. Latest difference = 5.149344e-04\n",
      "  AccuracyWarning)\n",
      "C:\\Anaconda2\\lib\\site-packages\\scipy\\integrate\\quadrature.py:196: AccuracyWarning: maxiter (1000) exceeded. Latest difference = 5.354482e-04\n",
      "  AccuracyWarning)\n",
      "C:\\Anaconda2\\lib\\site-packages\\scipy\\integrate\\quadrature.py:196: AccuracyWarning: maxiter (1000) exceeded. Latest difference = 5.542635e-04\n",
      "  AccuracyWarning)\n",
      "C:\\Anaconda2\\lib\\site-packages\\scipy\\integrate\\quadrature.py:196: AccuracyWarning: maxiter (1000) exceeded. Latest difference = 5.702110e-04\n",
      "  AccuracyWarning)\n",
      "C:\\Anaconda2\\lib\\site-packages\\scipy\\integrate\\quadrature.py:196: AccuracyWarning: maxiter (1000) exceeded. Latest difference = 5.839802e-04\n",
      "  AccuracyWarning)\n",
      "C:\\Anaconda2\\lib\\site-packages\\scipy\\integrate\\quadrature.py:196: AccuracyWarning: maxiter (1000) exceeded. Latest difference = 5.943493e-04\n",
      "  AccuracyWarning)\n",
      "C:\\Anaconda2\\lib\\site-packages\\scipy\\integrate\\quadrature.py:196: AccuracyWarning: maxiter (1000) exceeded. Latest difference = 6.012859e-04\n",
      "  AccuracyWarning)\n",
      "C:\\Anaconda2\\lib\\site-packages\\scipy\\integrate\\quadrature.py:196: AccuracyWarning: maxiter (1000) exceeded. Latest difference = 6.025788e-04\n",
      "  AccuracyWarning)\n",
      "C:\\Anaconda2\\lib\\site-packages\\scipy\\integrate\\quadrature.py:196: AccuracyWarning: maxiter (1000) exceeded. Latest difference = 5.997114e-04\n",
      "  AccuracyWarning)\n",
      "C:\\Anaconda2\\lib\\site-packages\\scipy\\integrate\\quadrature.py:196: AccuracyWarning: maxiter (1000) exceeded. Latest difference = 5.922992e-04\n",
      "  AccuracyWarning)\n",
      "C:\\Anaconda2\\lib\\site-packages\\scipy\\integrate\\quadrature.py:196: AccuracyWarning: maxiter (1000) exceeded. Latest difference = 5.810338e-04\n",
      "  AccuracyWarning)\n",
      "C:\\Anaconda2\\lib\\site-packages\\scipy\\integrate\\quadrature.py:196: AccuracyWarning: maxiter (1000) exceeded. Latest difference = 5.649338e-04\n",
      "  AccuracyWarning)\n",
      "C:\\Anaconda2\\lib\\site-packages\\scipy\\integrate\\quadrature.py:196: AccuracyWarning: maxiter (1000) exceeded. Latest difference = 5.448696e-04\n",
      "  AccuracyWarning)\n",
      "C:\\Anaconda2\\lib\\site-packages\\scipy\\integrate\\quadrature.py:196: AccuracyWarning: maxiter (1000) exceeded. Latest difference = 5.204181e-04\n",
      "  AccuracyWarning)\n",
      "C:\\Anaconda2\\lib\\site-packages\\scipy\\integrate\\quadrature.py:196: AccuracyWarning: maxiter (1000) exceeded. Latest difference = 4.925633e-04\n",
      "  AccuracyWarning)\n",
      "C:\\Anaconda2\\lib\\site-packages\\scipy\\integrate\\quadrature.py:196: AccuracyWarning: maxiter (1000) exceeded. Latest difference = 4.597728e-04\n",
      "  AccuracyWarning)\n",
      "C:\\Anaconda2\\lib\\site-packages\\scipy\\integrate\\quadrature.py:196: AccuracyWarning: maxiter (1000) exceeded. Latest difference = 4.226307e-04\n",
      "  AccuracyWarning)\n",
      "C:\\Anaconda2\\lib\\site-packages\\scipy\\integrate\\quadrature.py:196: AccuracyWarning: maxiter (1000) exceeded. Latest difference = 3.774989e-04\n",
      "  AccuracyWarning)\n",
      "C:\\Anaconda2\\lib\\site-packages\\scipy\\integrate\\quadrature.py:196: AccuracyWarning: maxiter (1000) exceeded. Latest difference = 3.213671e-04\n",
      "  AccuracyWarning)\n",
      "C:\\Anaconda2\\lib\\site-packages\\scipy\\integrate\\quadrature.py:196: AccuracyWarning: maxiter (1000) exceeded. Latest difference = 2.555897e-04\n",
      "  AccuracyWarning)\n",
      "C:\\Anaconda2\\lib\\site-packages\\scipy\\integrate\\quadrature.py:196: AccuracyWarning: maxiter (1000) exceeded. Latest difference = 1.945223e-04\n",
      "  AccuracyWarning)\n",
      "C:\\Anaconda2\\lib\\site-packages\\scipy\\integrate\\quadrature.py:196: AccuracyWarning: maxiter (1000) exceeded. Latest difference = 1.535444e-04\n",
      "  AccuracyWarning)\n",
      "C:\\Anaconda2\\lib\\site-packages\\scipy\\integrate\\quadrature.py:196: AccuracyWarning: maxiter (1000) exceeded. Latest difference = 1.255689e-04\n",
      "  AccuracyWarning)\n",
      "C:\\Anaconda2\\lib\\site-packages\\scipy\\integrate\\quadrature.py:196: AccuracyWarning: maxiter (1000) exceeded. Latest difference = 1.032297e-04\n",
      "  AccuracyWarning)\n",
      "C:\\Anaconda2\\lib\\site-packages\\scipy\\integrate\\quadrature.py:196: AccuracyWarning: maxiter (1000) exceeded. Latest difference = 8.054016e-05\n",
      "  AccuracyWarning)\n",
      "C:\\Anaconda2\\lib\\site-packages\\scipy\\integrate\\quadrature.py:196: AccuracyWarning: maxiter (1000) exceeded. Latest difference = 5.987536e-05\n",
      "  AccuracyWarning)\n",
      "C:\\Anaconda2\\lib\\site-packages\\scipy\\integrate\\quadrature.py:196: AccuracyWarning: maxiter (1000) exceeded. Latest difference = 4.037885e-05\n",
      "  AccuracyWarning)\n",
      "C:\\Anaconda2\\lib\\site-packages\\scipy\\integrate\\quadrature.py:196: AccuracyWarning: maxiter (1000) exceeded. Latest difference = 2.346472e-05\n",
      "  AccuracyWarning)\n",
      "C:\\Anaconda2\\lib\\site-packages\\scipy\\integrate\\quadrature.py:196: AccuracyWarning: maxiter (1000) exceeded. Latest difference = 8.189849e-06\n",
      "  AccuracyWarning)\n",
      "C:\\Anaconda2\\lib\\site-packages\\scipy\\integrate\\quadrature.py:196: AccuracyWarning: maxiter (1000) exceeded. Latest difference = 5.328427e-06\n",
      "  AccuracyWarning)\n",
      "C:\\Anaconda2\\lib\\site-packages\\scipy\\integrate\\quadrature.py:196: AccuracyWarning: maxiter (1000) exceeded. Latest difference = 1.823381e-05\n",
      "  AccuracyWarning)\n",
      "C:\\Anaconda2\\lib\\site-packages\\scipy\\integrate\\quadrature.py:196: AccuracyWarning: maxiter (1000) exceeded. Latest difference = 4.334598e-05\n",
      "  AccuracyWarning)\n",
      "C:\\Anaconda2\\lib\\site-packages\\scipy\\integrate\\quadrature.py:196: AccuracyWarning: maxiter (1000) exceeded. Latest difference = 5.558492e-05\n",
      "  AccuracyWarning)\n",
      "C:\\Anaconda2\\lib\\site-packages\\scipy\\integrate\\quadrature.py:196: AccuracyWarning: maxiter (1000) exceeded. Latest difference = 6.773543e-05\n",
      "  AccuracyWarning)\n",
      "C:\\Anaconda2\\lib\\site-packages\\scipy\\integrate\\quadrature.py:196: AccuracyWarning: maxiter (1000) exceeded. Latest difference = 8.052885e-05\n",
      "  AccuracyWarning)\n",
      "C:\\Anaconda2\\lib\\site-packages\\scipy\\integrate\\quadrature.py:196: AccuracyWarning: maxiter (1000) exceeded. Latest difference = 9.393028e-05\n",
      "  AccuracyWarning)\n",
      "C:\\Anaconda2\\lib\\site-packages\\scipy\\integrate\\quadrature.py:196: AccuracyWarning: maxiter (1000) exceeded. Latest difference = 1.085851e-04\n",
      "  AccuracyWarning)\n",
      "C:\\Anaconda2\\lib\\site-packages\\scipy\\integrate\\quadrature.py:196: AccuracyWarning: maxiter (1000) exceeded. Latest difference = 1.248777e-04\n",
      "  AccuracyWarning)\n",
      "C:\\Anaconda2\\lib\\site-packages\\scipy\\integrate\\quadrature.py:196: AccuracyWarning: maxiter (1000) exceeded. Latest difference = 1.442504e-04\n",
      "  AccuracyWarning)\n",
      "C:\\Anaconda2\\lib\\site-packages\\scipy\\integrate\\quadrature.py:196: AccuracyWarning: maxiter (1000) exceeded. Latest difference = 1.650750e-04\n",
      "  AccuracyWarning)\n",
      "C:\\Anaconda2\\lib\\site-packages\\scipy\\integrate\\quadrature.py:196: AccuracyWarning: maxiter (1000) exceeded. Latest difference = 1.878780e-04\n",
      "  AccuracyWarning)\n",
      "C:\\Anaconda2\\lib\\site-packages\\scipy\\integrate\\quadrature.py:196: AccuracyWarning: maxiter (1000) exceeded. Latest difference = 2.107305e-04\n",
      "  AccuracyWarning)\n",
      "C:\\Anaconda2\\lib\\site-packages\\scipy\\integrate\\quadrature.py:196: AccuracyWarning: maxiter (1000) exceeded. Latest difference = 2.399636e-04\n",
      "  AccuracyWarning)\n",
      "C:\\Anaconda2\\lib\\site-packages\\scipy\\integrate\\quadrature.py:196: AccuracyWarning: maxiter (1000) exceeded. Latest difference = 2.827385e-04\n",
      "  AccuracyWarning)\n",
      "C:\\Anaconda2\\lib\\site-packages\\scipy\\integrate\\quadrature.py:196: AccuracyWarning: maxiter (1000) exceeded. Latest difference = 3.463637e-04\n",
      "  AccuracyWarning)\n",
      "C:\\Anaconda2\\lib\\site-packages\\scipy\\integrate\\quadrature.py:196: AccuracyWarning: maxiter (1000) exceeded. Latest difference = 4.164104e-04\n",
      "  AccuracyWarning)\n",
      "C:\\Anaconda2\\lib\\site-packages\\scipy\\integrate\\quadrature.py:196: AccuracyWarning: maxiter (1000) exceeded. Latest difference = 4.787602e-04\n",
      "  AccuracyWarning)\n",
      "C:\\Anaconda2\\lib\\site-packages\\scipy\\integrate\\quadrature.py:196: AccuracyWarning: maxiter (1000) exceeded. Latest difference = 5.311531e-04\n",
      "  AccuracyWarning)\n",
      "C:\\Anaconda2\\lib\\site-packages\\scipy\\integrate\\quadrature.py:196: AccuracyWarning: maxiter (1000) exceeded. Latest difference = 5.759577e-04\n",
      "  AccuracyWarning)\n",
      "C:\\Anaconda2\\lib\\site-packages\\scipy\\integrate\\quadrature.py:196: AccuracyWarning: maxiter (1000) exceeded. Latest difference = 6.170895e-04\n",
      "  AccuracyWarning)\n",
      "C:\\Anaconda2\\lib\\site-packages\\scipy\\integrate\\quadrature.py:196: AccuracyWarning: maxiter (1000) exceeded. Latest difference = 6.542251e-04\n",
      "  AccuracyWarning)\n",
      "C:\\Anaconda2\\lib\\site-packages\\scipy\\integrate\\quadrature.py:196: AccuracyWarning: maxiter (1000) exceeded. Latest difference = 6.884396e-04\n",
      "  AccuracyWarning)\n",
      "C:\\Anaconda2\\lib\\site-packages\\scipy\\integrate\\quadrature.py:196: AccuracyWarning: maxiter (1000) exceeded. Latest difference = 7.182406e-04\n",
      "  AccuracyWarning)\n",
      "C:\\Anaconda2\\lib\\site-packages\\scipy\\integrate\\quadrature.py:196: AccuracyWarning: maxiter (1000) exceeded. Latest difference = 7.442213e-04\n",
      "  AccuracyWarning)\n",
      "C:\\Anaconda2\\lib\\site-packages\\scipy\\integrate\\quadrature.py:196: AccuracyWarning: maxiter (1000) exceeded. Latest difference = 7.656527e-04\n",
      "  AccuracyWarning)\n",
      "C:\\Anaconda2\\lib\\site-packages\\scipy\\integrate\\quadrature.py:196: AccuracyWarning: maxiter (1000) exceeded. Latest difference = 7.829603e-04\n",
      "  AccuracyWarning)\n",
      "C:\\Anaconda2\\lib\\site-packages\\scipy\\integrate\\quadrature.py:196: AccuracyWarning: maxiter (1000) exceeded. Latest difference = 7.946662e-04\n",
      "  AccuracyWarning)\n",
      "C:\\Anaconda2\\lib\\site-packages\\scipy\\integrate\\quadrature.py:196: AccuracyWarning: maxiter (1000) exceeded. Latest difference = 8.012717e-04\n",
      "  AccuracyWarning)\n",
      "C:\\Anaconda2\\lib\\site-packages\\scipy\\integrate\\quadrature.py:196: AccuracyWarning: maxiter (1000) exceeded. Latest difference = 8.011444e-04\n",
      "  AccuracyWarning)\n",
      "C:\\Anaconda2\\lib\\site-packages\\scipy\\integrate\\quadrature.py:196: AccuracyWarning: maxiter (1000) exceeded. Latest difference = 7.964748e-04\n",
      "  AccuracyWarning)\n",
      "C:\\Anaconda2\\lib\\site-packages\\scipy\\integrate\\quadrature.py:196: AccuracyWarning: maxiter (1000) exceeded. Latest difference = 7.867830e-04\n",
      "  AccuracyWarning)\n",
      "C:\\Anaconda2\\lib\\site-packages\\scipy\\integrate\\quadrature.py:196: AccuracyWarning: maxiter (1000) exceeded. Latest difference = 7.739158e-04\n",
      "  AccuracyWarning)\n",
      "C:\\Anaconda2\\lib\\site-packages\\scipy\\integrate\\quadrature.py:196: AccuracyWarning: maxiter (1000) exceeded. Latest difference = 7.572790e-04\n",
      "  AccuracyWarning)\n"
     ]
    }
   ],
   "source": [
    "coeffs_quad = []\n",
    "for l in tqdm_notebook(range(COFFES_NUM)):\n",
    "    lg = legendre(l)\n",
    "    #coeffs_quad.append(quad(func, -1, 1, args=(l, lg,), limit=1000)[0])\n",
    "    #coeffs_quad.append(fixed_quad(func, -1, 1, args=(l, lg,), n=50000)[0])\n",
    "    coeffs_quad.append(quadrature(func, -1, 1, args=(l, lg,), maxiter=1000)[0])"
   ]
  },
  {
   "cell_type": "code",
   "execution_count": 15,
   "metadata": {
    "collapsed": false,
    "deletable": true,
    "editable": true,
    "scrolled": false
   },
   "outputs": [
    {
     "data": {
      "text/plain": [
       "[<matplotlib.lines.Line2D at 0xccbdb38>]"
      ]
     },
     "execution_count": 15,
     "metadata": {},
     "output_type": "execute_result"
    },
    {
     "data": {
      "image/png": "[encoded data removed]",
      "text/plain": [
       "<matplotlib.figure.Figure at 0xccbda58>"
      ]
     },
     "metadata": {},
     "output_type": "display_data"
    }
   ],
   "source": [
    "plt.plot(coeffs_quad)"
   ]
  },
  {
   "cell_type": "markdown",
   "metadata": {
    "deletable": true,
    "editable": true
   },
   "source": [
    "## Reconstruct the Phase function by the Legndre coefficients"
   ]
  },
  {
   "cell_type": "code",
   "execution_count": 62,
   "metadata": {
    "collapsed": true,
    "deletable": true,
    "editable": true
   },
   "outputs": [],
   "source": [
    "mu_new = np.linspace(-1, 1, 300)\n",
    "phase_gauss = 0\n",
    "for l, coeff in enumerate(coeffs_quad):\n",
    "    phase_gauss += legendre(l)(mu_new) * coeff\n",
    "coeffs_quad_ = coeffs_quad[:]\n",
    "coeffs_quad_[0] = 1.\n",
    "phase_gauss_ = 0\n",
    "for l, coeff in enumerate(coeffs_quad_):\n",
    "    phase_gauss_ += legendre(l)(mu_new) * coeff"
   ]
  },
  {
   "cell_type": "code",
   "execution_count": 63,
   "metadata": {
    "collapsed": false,
    "deletable": true,
    "editable": true,
    "scrolled": false
   },
   "outputs": [
    {
     "data": {
      "text/plain": [
       "<matplotlib.legend.Legend at 0x14ac05c0>"
      ]
     },
     "execution_count": 63,
     "metadata": {},
     "output_type": "execute_result"
    },
    {
     "data": {
      "image/png": "[encoded data removed]",
      "text/plain": [
       "<matplotlib.figure.Figure at 0x14670d68>"
      ]
     },
     "metadata": {},
     "output_type": "display_data"
    }
   ],
   "source": [
    "plt.semilogy(mu, phase, \"o\", label=\"real\")\n",
    "plt.semilogy(mu_new, phase_gauss, \"x\", label=\"accurate\")\n",
    "plt.semilogy(mu_new, phase_gauss_, label=\"forced 1.\")\n",
    "plt.legend()\n",
    "#plt.xlim(0.0, 1)"
   ]
  },
  {
   "cell_type": "markdown",
   "metadata": {
    "deletable": true,
    "editable": true
   },
   "source": [
    "### Save the result"
   ]
  },
  {
   "cell_type": "code",
   "execution_count": 66,
   "metadata": {
    "collapsed": false
   },
   "outputs": [],
   "source": [
    "header = \"\"\"! Mie scattering table vs. effective radius (LWC=1 g/m^3)\n",
    "  0.{}    0.{}    0.000  wavelength range and averaging step (micron)\n",
    "   2    1.450    1.450  number       starting       ending REAL refractive index\n",
    "   2    0.000    0.000  number       starting       ending IMAGINARY refractive index\n",
    "   2    0.100    0.100  number       starting       ending effective radius\n",
    "   2    0.500    0.500  number       starting       ending effective variance\n",
    " \"\"\".format(WAVELENGTH, WAVELENGTH)\n",
    "line_template = \" 1.450 -.000     1.000    %f   0.5000   0.1000     %d  Phase function: Re{m}  Im{m}   Ext  Alb  Veff  Reff  Nleg\\n\""
   ]
  },
  {
   "cell_type": "code",
   "execution_count": 67,
   "metadata": {
    "collapsed": false
   },
   "outputs": [],
   "source": [
    "with open(\"aerosol{}dredvedm.scat\".format(WAVELENGTH), \"w\") as f:\n",
    "    f.write(header)\n",
    "    for i in range(700):\n",
    "        f.write(line_template % (df_ssa.loc[WAVELENGTH][TIME], len(coeffs_quad_)-1))\n",
    "        f.write(\"\\t\".join(['']+[str(c) for c in coeffs_quad_]))\n",
    "        f.write(\"\\n\")"
   ]
  },
  {
   "cell_type": "code",
   "execution_count": null,
   "metadata": {
    "collapsed": true,
    "deletable": true,
    "editable": true
   },
   "outputs": [],
   "source": []
  },
  {
   "cell_type": "code",
   "execution_count": null,
   "metadata": {
    "collapsed": true,
    "deletable": true,
    "editable": true
   },
   "outputs": [],
   "source": []
  },
  {
   "cell_type": "code",
   "execution_count": null,
   "metadata": {
    "collapsed": true,
    "deletable": true,
    "editable": true
   },
   "outputs": [],
   "source": []
  },
  {
   "cell_type": "markdown",
   "metadata": {
    "deletable": true,
    "editable": true
   },
   "source": [
    "# Playground"
   ]
  },
  {
   "cell_type": "code",
   "execution_count": 27,
   "metadata": {
    "collapsed": false,
    "deletable": true,
    "editable": true
   },
   "outputs": [
    {
     "name": "stdout",
     "output_type": "stream",
     "text": [
      "('Fixed:', (0.99223558782933319, None))\n",
      "('Quadrature:', (0.99222757511444437, 9.9960529853504454e-09))\n",
      "('Quad:', (0.9922355873571473, 1.4491873774508622e-08))\n"
     ]
    }
   ],
   "source": [
    "l = 0\n",
    "lg = legendre(l)\n",
    "print(\"Fixed:\", fixed_quad(func, -1, 1, args=(l, lg,), n=10000))\n",
    "print(\"Quadrature:\", quadrature(func, -1, 1, args=(l, lg,), maxiter=1000))\n",
    "print(\"Quad:\", quad(func, -1, 1, args=(l, lg,), limit=20000))"
   ]
  },
  {
   "cell_type": "code",
   "execution_count": 6,
   "metadata": {
    "collapsed": true,
    "deletable": true,
    "editable": true
   },
   "outputs": [],
   "source": [
    "a = \"1.00000    2.17461    3.11673    3.21224    3.69729    3.71195    3.97622    4.06767    4.13853    4.23242    4.16973    4.21562    4.09315    4.06826    3.93073    3.84457    3.71150    3.58483    3.45925    3.31342    3.19372    3.04401    2.92860    2.78425    2.67307    2.53813    2.43184    2.30690    2.20596    2.09139    1.99636    1.89136    1.80508    1.71015    1.63210    1.54267    1.47150    1.39360    1.33225    1.26170    1.20735    1.14139    1.09004    1.02917    0.98476    0.93167    0.89362    0.84361    0.80635    0.76328    0.73347    0.69305    0.66612    0.62870    0.60402    0.57074    0.54977    0.51867    0.49850    0.47256    0.45384    0.43085    0.41363    0.39225    0.37683    0.35864    0.34504    0.32811    0.31522    0.29960    0.28856    0.27429    0.26446    0.25114    0.24254    0.23015    0.22191    0.21111    0.20400    0.19386    0.18721    0.17826    0.17242    0.16397    0.15861    0.15060    0.14596    0.13876    0.13458    0.12778    0.12377    0.11788    0.11424    0.10896    0.10545    0.10064    0.09738    0.09301    0.09019    0.08611    0.08350    0.07976    0.07742    0.07392    0.07173    0.06856    0.06654    0.06355    0.06172    0.05900    0.05733    0.05477    0.05326    0.05093    0.04955    0.04734    0.04605    0.04405    0.04288    0.04103    0.03990    0.03817    0.03715    0.03559    0.03470    0.03321    0.03237    0.03098    0.03021    0.02890    0.02816    0.02700    0.02633    0.02525    0.02462    0.02362    0.02303    0.02211    0.02154    0.02071    0.02017    0.01941    0.01891    0.01819    0.01772    0.01707    0.01664    0.01603    0.01563    0.01505    0.01469    0.01413    0.01380    0.01327    0.01296    0.01246    0.01216    0.01171    0.01143    0.01102    0.01076    0.01038    0.01015    0.00979    0.00956    0.00921    0.00900    0.00868    0.00848    0.00819    0.00800    0.00773    0.00755    0.00729    0.00713    0.00689    0.00674    0.00651    0.00636    0.00614    0.00601    0.00580    0.00568    0.00548    0.00537    0.00519    0.00508    0.00490    0.00479    0.00463    0.00454    0.00438    0.00430    0.00415    0.00407    0.00393    0.00385    0.00372    0.00365    0.00353    0.00346      0.00335    0.00328    0.00318    0.00311    0.00301    0.00295    0.00286    0.00280    0.00271    0.00266    0.00257    0.00252    0.00244    0.00239    0.00232    0.00227    0.00221    0.00216    0.00210    0.00205    0.00199    0.00195    0.00189    0.00186    0.00180    0.00177    0.00171    0.00168    0.00163    0.00160    0.00155    0.00152    0.00148    0.00145    0.00140    0.00138    0.00134    0.00131    0.00127    0.00125    0.00121    0.00119    0.00116    0.00114    0.00110    0.00108    0.00105    0.00103    0.00100    0.00099    0.00096    0.00094    0.00091    0.00090    0.00087    0.00086    0.00083    0.00082    0.00080    0.00078    0.00076    0.00075    0.00073    0.00072    0.00070    0.00068    0.00067    0.00065    0.00064    0.00063    0.00061    0.00060    0.00058    0.00057    0.00056    0.00055    0.00053    0.00052    0.00051    0.00050    0.00049    0.00048    0.00046    0.00046    0.00044    0.00044    0.00043    0.00042    0.00041    0.00040    0.00039    0.00038    0.00037    0.00037    0.00036    0.00035    0.00034    0.00034    0.00033    0.00032    0.00031    0.00031    0.00030    0.00030    0.00029    0.00029    0.00028    0.00027    0.00027    0.00026    0.00026    0.00025    0.00025    0.00024    0.00024    0.00023    0.00023    0.00022    0.00022    0.00021    0.00021    0.00021    0.00020    0.00020    0.00019    0.00019    0.00019    0.00018    0.00018    0.00018    0.00017    0.00017    0.00016    0.00016    0.00016    0.00016    0.00015    0.00015    0.00015    0.00014    0.00014    0.00014    0.00013    0.00013    0.00013    0.00013    0.00012    0.00012    0.00012    0.00012    0.00011    0.00011    0.00011    0.00011    0.00011    0.00010    0.00010    0.00010    0.00010    0.00010    0.00009    0.00009    0.00009    0.00009    0.00009    0.00009    0.00008    0.00008    0.00008    0.00008    0.00008    0.00008    0.00007    0.00007    0.00007    0.00007    0.00007    0.00007    0.00007    0.00007    0.00006    0.00006    0.00006    0.00006    0.00006    0.00006    0.00006    0.00006    0.00006    0.00005    0.00005    0.00005    0.00005    0.00005    0.00005    0.00005    0.00005    0.00005    0.00005    0.00005      0.00004    0.00004    0.00004    0.00004    0.00004    0.00004    0.00004    0.00004    0.00004    0.00004    0.00004    0.00004    0.00004    0.00004    0.00003    0.00003    0.00003    0.00003    0.00003    0.00003    0.00003    0.00003    0.00003    0.00003    0.00003    0.00003    0.00003    0.00003    0.00003    0.00003    0.00003    0.00002    0.00002    0.00002    0.00002    0.00002    0.00002    0.00002    0.00002    0.00002    0.00002    0.00002    0.00002    0.00002    0.00002    0.00002    0.00002    0.00002    0.00002    0.00002    0.00002    0.00002    0.00002    0.00002    0.00002    0.00002    0.00002    0.00001    0.00001    0.00001    0.00001    0.00001    0.00001    0.00001    0.00001    0.00001    0.00001    0.00001    0.00001    0.00001    0.00001    0.00001    0.00001    0.00001    0.00001    0.00001    0.00001    0.00001    0.00001    0.00001    0.00001    0.00001    0.00001    0.00001    0.00001    0.00001    0.00001    0.00001    0.00001    0.00001    0.00001    0.00001    0.00001    0.00001    0.00001    0.00001    0.00001    0.00001    0.00001    0.00001    0.00001    0.00001    0.00001    0.00001    0.00001    0.00001    0.00001    0.00001    0.00001    0.00001    0.00001    0.00001    0.00001    0.00001\""
   ]
  },
  {
   "cell_type": "code",
   "execution_count": 9,
   "metadata": {
    "collapsed": true,
    "deletable": true,
    "editable": true
   },
   "outputs": [],
   "source": [
    "coeffs_quad = np.array([float(i) for i in a.split()])"
   ]
  },
  {
   "cell_type": "code",
   "execution_count": 10,
   "metadata": {
    "collapsed": false,
    "deletable": true,
    "editable": true
   },
   "outputs": [
    {
     "data": {
      "text/plain": [
       "dtype('float64')"
      ]
     },
     "execution_count": 10,
     "metadata": {},
     "output_type": "execute_result"
    }
   ],
   "source": [
    "coeffs_quad.dtype"
   ]
  },
  {
   "cell_type": "code",
   "execution_count": 11,
   "metadata": {
    "collapsed": false,
    "deletable": true,
    "editable": true
   },
   "outputs": [
    {
     "name": "stderr",
     "output_type": "stream",
     "text": [
      "C:\\Anaconda2\\lib\\site-packages\\scipy\\special\\orthogonal.py:145: RuntimeWarning: invalid value encountered in multiply\n",
      "  self.__dict__['coeffs'] *= kn\n",
      "C:\\Anaconda2\\lib\\site-packages\\scipy\\special\\orthogonal.py:1593: RuntimeWarning: overflow encountered in double_scalars\n",
      "  kn = _gam(2 * n + 1) / _gam(n + 1)**2 / 2.0**n\n",
      "C:\\Anaconda2\\lib\\site-packages\\scipy\\special\\orthogonal.py:1593: RuntimeWarning: invalid value encountered in double_scalars\n",
      "  kn = _gam(2 * n + 1) / _gam(n + 1)**2 / 2.0**n\n"
     ]
    }
   ],
   "source": [
    "mu_new = np.linspace(-1, 1, 300)\n",
    "phase_gauss = 0\n",
    "for l, coeff in enumerate(coeffs_quad):\n",
    "    phase_gauss += legendre(l)(mu_new) * coeff"
   ]
  },
  {
   "cell_type": "code",
   "execution_count": 12,
   "metadata": {
    "collapsed": false,
    "deletable": true,
    "editable": true
   },
   "outputs": [
    {
     "data": {
      "text/plain": [
       "[<matplotlib.lines.Line2D at 0xb29ca58>]"
      ]
     },
     "execution_count": 12,
     "metadata": {},
     "output_type": "execute_result"
    },
    {
     "data": {
      "image/png": "[encoded data removed]",
      "text/plain": [
       "<matplotlib.figure.Figure at 0xb0cfdd8>"
      ]
     },
     "metadata": {},
     "output_type": "display_data"
    }
   ],
   "source": [
    "plt.semilogy(mu_new, phase_gauss)\n",
    "#plt.semilogy(mu, phase, '+')"
   ]
  },
  {
   "cell_type": "markdown",
   "metadata": {
    "deletable": true,
    "editable": true
   },
   "source": [
    "## Test with Henyey-Greenstein function"
   ]
  },
  {
   "cell_type": "markdown",
   "metadata": {
    "deletable": true,
    "editable": true
   },
   "source": [
    "p(µ) = 1\n",
    "2\n",
    "1 − g\n",
    "2\n",
    "[1 + g\n",
    "2 − 2g µ ]\n",
    "3/2\n"
   ]
  },
  {
   "cell_type": "code",
   "execution_count": 69,
   "metadata": {
    "collapsed": true,
    "deletable": true,
    "editable": true
   },
   "outputs": [],
   "source": [
    "COFFES_NUM = 100"
   ]
  },
  {
   "cell_type": "code",
   "execution_count": 70,
   "metadata": {
    "collapsed": false,
    "deletable": true,
    "editable": true
   },
   "outputs": [
    {
     "name": "stdout",
     "output_type": "stream",
     "text": [
      "\n"
     ]
    }
   ],
   "source": [
    "def hg(mu, g):\n",
    "    ph = (1/2)*(1-g**2)/(1+g**2-2*g*mu)**(1.5)\n",
    "    return ph\n",
    "\n",
    "def func(mu, l, g):\n",
    "    return (2*l + 1)/2. * legendre(l)(mu)*hg(mu, g)\n",
    "\n",
    "G=0.7\n",
    "coeffs_hg_quad = []\n",
    "for l in tqdm_notebook(range(COFFES_NUM)):\n",
    "    coeffs_hg_quad.append(quadrature(func, -1, 1, args=(l, G), maxiter=200, )[0])"
   ]
  },
  {
   "cell_type": "code",
   "execution_count": 71,
   "metadata": {
    "collapsed": false,
    "deletable": true,
    "editable": true
   },
   "outputs": [
    {
     "data": {
      "text/plain": [
       "[<matplotlib.lines.Line2D at 0x13a993c8>]"
      ]
     },
     "execution_count": 71,
     "metadata": {},
     "output_type": "execute_result"
    },
    {
     "data": {
      "image/png": "[encoded data removed]",
      "text/plain": [
       "<matplotlib.figure.Figure at 0x14c0efd0>"
      ]
     },
     "metadata": {},
     "output_type": "display_data"
    }
   ],
   "source": [
    "plt.plot(coeffs_hg_quad)"
   ]
  },
  {
   "cell_type": "code",
   "execution_count": 72,
   "metadata": {
    "collapsed": false,
    "deletable": true,
    "editable": true,
    "scrolled": false
   },
   "outputs": [
    {
     "data": {
      "text/plain": [
       "[<matplotlib.lines.Line2D at 0x135c5668>]"
      ]
     },
     "execution_count": 72,
     "metadata": {},
     "output_type": "execute_result"
    },
    {
     "data": {
      "image/png": "[encoded data removed]",
      "text/plain": [
       "<matplotlib.figure.Figure at 0x13d3c4e0>"
      ]
     },
     "metadata": {},
     "output_type": "display_data"
    }
   ],
   "source": [
    "mu_new = np.linspace(-1, 1, 300)\n",
    "phase_hg = 0\n",
    "for l, coeff in enumerate(coeffs_hg_quad):\n",
    "    phase_hg += legendre(l)(mu_new) * coeff\n",
    "plt.plot(mu_new, phase_hg)\n",
    "real_hg = [hg(m, G) for m in mu_new]\n",
    "plt.plot(mu_new, real_hg, '+')"
   ]
  },
  {
   "cell_type": "markdown",
   "metadata": {
    "deletable": true,
    "editable": true
   },
   "source": [
    "## Test with a single coefficient function"
   ]
  },
  {
   "cell_type": "code",
   "execution_count": 65,
   "metadata": {
    "collapsed": true,
    "deletable": true,
    "editable": true
   },
   "outputs": [],
   "source": [
    "COFFES_NUM = 100\n",
    "LG = 1"
   ]
  },
  {
   "cell_type": "code",
   "execution_count": 66,
   "metadata": {
    "collapsed": false,
    "deletable": true,
    "editable": true
   },
   "outputs": [
    {
     "name": "stdout",
     "output_type": "stream",
     "text": [
      "\n"
     ]
    }
   ],
   "source": [
    "def lg(mu, l):\n",
    "    return legendre(l)(mu)\n",
    "\n",
    "def func(mu, l, l2):\n",
    "    return (2*l + 1)/2. * legendre(l)(mu)*lg(mu, l2)\n",
    "\n",
    "coeffs_lg_quad = []\n",
    "for l in tqdm_notebook(range(COFFES_NUM)):\n",
    "    coeffs_lg_quad.append(quadrature(func, -1, 1, args=(l, LG), maxiter=200, )[0])"
   ]
  },
  {
   "cell_type": "code",
   "execution_count": 67,
   "metadata": {
    "collapsed": false,
    "deletable": true,
    "editable": true,
    "scrolled": false
   },
   "outputs": [
    {
     "data": {
      "text/plain": [
       "(0, 10)"
      ]
     },
     "execution_count": 67,
     "metadata": {},
     "output_type": "execute_result"
    },
    {
     "data": {
      "image/png": "[encoded data removed]",
      "text/plain": [
       "<matplotlib.figure.Figure at 0x145fc390>"
      ]
     },
     "metadata": {},
     "output_type": "display_data"
    }
   ],
   "source": [
    "plt.plot(coeffs_lg_quad)\n",
    "plt.xlim(0, 10)"
   ]
  },
  {
   "cell_type": "code",
   "execution_count": 68,
   "metadata": {
    "collapsed": false,
    "deletable": true,
    "editable": true,
    "scrolled": false
   },
   "outputs": [
    {
     "data": {
      "text/plain": [
       "[<matplotlib.lines.Line2D at 0x14845080>]"
      ]
     },
     "execution_count": 68,
     "metadata": {},
     "output_type": "execute_result"
    },
    {
     "data": {
      "image/png": "[encoded data removed]",
      "text/plain": [
       "<matplotlib.figure.Figure at 0x145fc3c8>"
      ]
     },
     "metadata": {},
     "output_type": "display_data"
    }
   ],
   "source": [
    "mu_new = np.linspace(-1, 1, 300)\n",
    "phase_lg = 0\n",
    "for l, coeff in enumerate(coeffs_lg_quad):\n",
    "    phase_lg += legendre(l)(mu_new) * coeff\n",
    "plt.plot(mu_new, phase_lg)\n",
    "real_lg = [lg(m, LG) for m in mu_new]\n",
    "plt.plot(mu_new, real_lg, '+')"
   ]
  },
  {
   "cell_type": "code",
   "execution_count": null,
   "metadata": {
    "collapsed": true,
    "deletable": true,
    "editable": true
   },
   "outputs": [],
   "source": []
  },
  {
   "cell_type": "code",
   "execution_count": null,
   "metadata": {
    "collapsed": true,
    "deletable": true,
    "editable": true
   },
   "outputs": [],
   "source": []
  },
  {
   "cell_type": "code",
   "execution_count": null,
   "metadata": {
    "collapsed": true,
    "deletable": true,
    "editable": true
   },
   "outputs": [],
   "source": []
  },
  {
   "cell_type": "code",
   "execution_count": null,
   "metadata": {
    "collapsed": true,
    "deletable": true,
    "editable": true
   },
   "outputs": [],
   "source": []
  },
  {
   "cell_type": "code",
   "execution_count": null,
   "metadata": {
    "collapsed": true,
    "deletable": true,
    "editable": true
   },
   "outputs": [],
   "source": []
  },
  {
   "cell_type": "markdown",
   "metadata": {
    "deletable": true,
    "editable": true
   },
   "source": [
    "## Use trapezoidale integration"
   ]
  },
  {
   "cell_type": "markdown",
   "metadata": {
    "deletable": true,
    "editable": true
   },
   "source": [
    "Note that at coefficient 86 we get some warning. P_86 has occilations at about the sampleing frequency of the data (180 degrees / 2 degrees between samples). See the graph below."
   ]
  },
  {
   "cell_type": "code",
   "execution_count": 6,
   "metadata": {
    "collapsed": false,
    "deletable": true,
    "editable": true,
    "scrolled": false
   },
   "outputs": [],
   "source": [
    "coeffs_trapz = []\n",
    "for l in range(86):\n",
    "    coeffs_trapz.append((2*l + 1)/2. * np.trapz(legendre(l)(mu)*phase, mu))"
   ]
  },
  {
   "cell_type": "code",
   "execution_count": 7,
   "metadata": {
    "collapsed": true,
    "deletable": true,
    "editable": true
   },
   "outputs": [],
   "source": [
    "mu_new = np.linspace(-1, 1, 300)\n",
    "phase_trapz = legendre(0)(mu_new) * coeffs_trapz[0]\n",
    "for l, coeff in enumerate(coeffs_trapz[1:]):\n",
    "    phase_trapz += legendre(l)(mu_new) * coeff"
   ]
  },
  {
   "cell_type": "code",
   "execution_count": 8,
   "metadata": {
    "collapsed": false,
    "deletable": true,
    "editable": true
   },
   "outputs": [
    {
     "data": {
      "text/plain": [
       "[<matplotlib.lines.Line2D at 0xad66be0>]"
      ]
     },
     "execution_count": 8,
     "metadata": {},
     "output_type": "execute_result"
    },
    {
     "data": {
      "image/png": "[encoded data removed]",
      "text/plain": [
       "<matplotlib.figure.Figure at 0xad66c18>"
      ]
     },
     "metadata": {},
     "output_type": "display_data"
    }
   ],
   "source": [
    "plt.semilogy(mu_new, phase_trapz)\n",
    "plt.semilogy(mu, phase, '+')"
   ]
  },
  {
   "cell_type": "code",
   "execution_count": 9,
   "metadata": {
    "collapsed": false,
    "deletable": true,
    "editable": true,
    "scrolled": true
   },
   "outputs": [
    {
     "data": {
      "text/plain": [
       "[<matplotlib.lines.Line2D at 0xd2e6278>]"
      ]
     },
     "execution_count": 9,
     "metadata": {},
     "output_type": "execute_result"
    },
    {
     "data": {
      "image/png": "[encoded data removed]",
      "text/plain": [
       "<matplotlib.figure.Figure at 0xd0f9080>"
      ]
     },
     "metadata": {},
     "output_type": "display_data"
    }
   ],
   "source": [
    "plt.plot(coeffs_trapz)"
   ]
  },
  {
   "cell_type": "code",
   "execution_count": 10,
   "metadata": {
    "collapsed": false,
    "deletable": true,
    "editable": true,
    "scrolled": false
   },
   "outputs": [
    {
     "data": {
      "text/plain": [
       "1.0301850781945259"
      ]
     },
     "execution_count": 10,
     "metadata": {},
     "output_type": "execute_result"
    }
   ],
   "source": [
    "coeffs_trapz[0]"
   ]
  },
  {
   "cell_type": "markdown",
   "metadata": {
    "deletable": true,
    "editable": true
   },
   "source": [
    "## Use romberg integration"
   ]
  },
  {
   "cell_type": "code",
   "execution_count": 11,
   "metadata": {
    "collapsed": true,
    "deletable": true,
    "editable": true
   },
   "outputs": [],
   "source": [
    "COFFES_NUM = 300"
   ]
  },
  {
   "cell_type": "code",
   "execution_count": 15,
   "metadata": {
    "collapsed": true,
    "deletable": true,
    "editable": true
   },
   "outputs": [
    {
     "name": "stderr",
     "output_type": "stream",
     "text": [
      "C:\\ProgramData\\Anaconda2\\lib\\site-packages\\scipy\\integrate\\quadrature.py:706: AccuracyWarning: divmax (10) exceeded. Latest difference = 2.359110e+01\n",
      "  AccuracyWarning)\n",
      "C:\\ProgramData\\Anaconda2\\lib\\site-packages\\scipy\\special\\orthogonal.py:145: RuntimeWarning: invalid value encountered in multiply\n",
      "  self.__dict__['coeffs'] *= kn\n",
      "C:\\ProgramData\\Anaconda2\\lib\\site-packages\\scipy\\integrate\\quadrature.py:706: AccuracyWarning: divmax (10) exceeded. Latest difference = 2.319771e+01\n",
      "  AccuracyWarning)\n",
      "C:\\ProgramData\\Anaconda2\\lib\\site-packages\\scipy\\integrate\\quadrature.py:706: AccuracyWarning: divmax (10) exceeded. Latest difference = 2.280286e+01\n",
      "  AccuracyWarning)\n",
      "C:\\ProgramData\\Anaconda2\\lib\\site-packages\\scipy\\integrate\\quadrature.py:706: AccuracyWarning: divmax (10) exceeded. Latest difference = 2.227783e+01\n",
      "  AccuracyWarning)\n",
      "C:\\ProgramData\\Anaconda2\\lib\\site-packages\\scipy\\integrate\\quadrature.py:706: AccuracyWarning: divmax (10) exceeded. Latest difference = 2.175210e+01\n",
      "  AccuracyWarning)\n",
      "C:\\ProgramData\\Anaconda2\\lib\\site-packages\\scipy\\integrate\\quadrature.py:706: AccuracyWarning: divmax (10) exceeded. Latest difference = 2.111033e+01\n",
      "  AccuracyWarning)\n",
      "C:\\ProgramData\\Anaconda2\\lib\\site-packages\\scipy\\integrate\\quadrature.py:706: AccuracyWarning: divmax (10) exceeded. Latest difference = 2.046890e+01\n",
      "  AccuracyWarning)\n",
      "C:\\ProgramData\\Anaconda2\\lib\\site-packages\\scipy\\integrate\\quadrature.py:706: AccuracyWarning: divmax (10) exceeded. Latest difference = 1.972899e+01\n",
      "  AccuracyWarning)\n",
      "C:\\ProgramData\\Anaconda2\\lib\\site-packages\\scipy\\integrate\\quadrature.py:706: AccuracyWarning: divmax (10) exceeded. Latest difference = 1.899045e+01\n",
      "  AccuracyWarning)\n",
      "C:\\ProgramData\\Anaconda2\\lib\\site-packages\\scipy\\integrate\\quadrature.py:706: AccuracyWarning: divmax (10) exceeded. Latest difference = 1.817387e+01\n",
      "  AccuracyWarning)\n",
      "C:\\ProgramData\\Anaconda2\\lib\\site-packages\\scipy\\integrate\\quadrature.py:706: AccuracyWarning: divmax (10) exceeded. Latest difference = 1.735972e+01\n",
      "  AccuracyWarning)\n",
      "C:\\ProgramData\\Anaconda2\\lib\\site-packages\\scipy\\integrate\\quadrature.py:706: AccuracyWarning: divmax (10) exceeded. Latest difference = 1.649052e+01\n",
      "  AccuracyWarning)\n",
      "C:\\ProgramData\\Anaconda2\\lib\\site-packages\\scipy\\integrate\\quadrature.py:706: AccuracyWarning: divmax (10) exceeded. Latest difference = 1.562498e+01\n",
      "  AccuracyWarning)\n",
      "C:\\ProgramData\\Anaconda2\\lib\\site-packages\\scipy\\special\\orthogonal.py:1593: RuntimeWarning: overflow encountered in double_scalars\n",
      "  kn = _gam(2 * n + 1) / _gam(n + 1)**2 / 2.0**n\n",
      "C:\\ProgramData\\Anaconda2\\lib\\site-packages\\scipy\\special\\orthogonal.py:1593: RuntimeWarning: invalid value encountered in double_scalars\n",
      "  kn = _gam(2 * n + 1) / _gam(n + 1)**2 / 2.0**n\n",
      "C:\\ProgramData\\Anaconda2\\lib\\site-packages\\scipy\\integrate\\quadrature.py:706: AccuracyWarning: divmax (10) exceeded. Latest difference = 1.472975e+01\n",
      "  AccuracyWarning)\n",
      "C:\\ProgramData\\Anaconda2\\lib\\site-packages\\scipy\\integrate\\quadrature.py:706: AccuracyWarning: divmax (10) exceeded. Latest difference = 1.383975e+01\n",
      "  AccuracyWarning)\n",
      "C:\\ProgramData\\Anaconda2\\lib\\site-packages\\scipy\\integrate\\quadrature.py:706: AccuracyWarning: divmax (10) exceeded. Latest difference = 1.294751e+01\n",
      "  AccuracyWarning)\n",
      "C:\\ProgramData\\Anaconda2\\lib\\site-packages\\scipy\\integrate\\quadrature.py:706: AccuracyWarning: divmax (10) exceeded. Latest difference = 1.206247e+01\n",
      "  AccuracyWarning)\n",
      "C:\\ProgramData\\Anaconda2\\lib\\site-packages\\scipy\\integrate\\quadrature.py:706: AccuracyWarning: divmax (10) exceeded. Latest difference = 1.120439e+01\n",
      "  AccuracyWarning)\n",
      "C:\\ProgramData\\Anaconda2\\lib\\site-packages\\scipy\\integrate\\quadrature.py:706: AccuracyWarning: divmax (10) exceeded. Latest difference = 1.035605e+01\n",
      "  AccuracyWarning)\n",
      "C:\\ProgramData\\Anaconda2\\lib\\site-packages\\scipy\\integrate\\quadrature.py:706: AccuracyWarning: divmax (10) exceeded. Latest difference = 9.565541e+00\n",
      "  AccuracyWarning)\n",
      "C:\\ProgramData\\Anaconda2\\lib\\site-packages\\scipy\\integrate\\quadrature.py:706: AccuracyWarning: divmax (10) exceeded. Latest difference = 8.788465e+00\n",
      "  AccuracyWarning)\n",
      "C:\\ProgramData\\Anaconda2\\lib\\site-packages\\scipy\\integrate\\quadrature.py:706: AccuracyWarning: divmax (10) exceeded. Latest difference = 8.102038e+00\n",
      "  AccuracyWarning)\n",
      "C:\\ProgramData\\Anaconda2\\lib\\site-packages\\scipy\\integrate\\quadrature.py:706: AccuracyWarning: divmax (10) exceeded. Latest difference = 7.434566e+00\n",
      "  AccuracyWarning)\n",
      "C:\\ProgramData\\Anaconda2\\lib\\site-packages\\scipy\\integrate\\quadrature.py:706: AccuracyWarning: divmax (10) exceeded. Latest difference = 6.892186e+00\n",
      "  AccuracyWarning)\n",
      "C:\\ProgramData\\Anaconda2\\lib\\site-packages\\scipy\\integrate\\quadrature.py:706: AccuracyWarning: divmax (10) exceeded. Latest difference = 6.376351e+00\n",
      "  AccuracyWarning)\n",
      "C:\\ProgramData\\Anaconda2\\lib\\site-packages\\scipy\\integrate\\quadrature.py:706: AccuracyWarning: divmax (10) exceeded. Latest difference = 6.019701e+00\n",
      "  AccuracyWarning)\n",
      "C:\\ProgramData\\Anaconda2\\lib\\site-packages\\scipy\\integrate\\quadrature.py:706: AccuracyWarning: divmax (10) exceeded. Latest difference = 5.698492e+00\n",
      "  AccuracyWarning)\n",
      "C:\\ProgramData\\Anaconda2\\lib\\site-packages\\scipy\\integrate\\quadrature.py:706: AccuracyWarning: divmax (10) exceeded. Latest difference = 5.565985e+00\n",
      "  AccuracyWarning)\n",
      "C:\\ProgramData\\Anaconda2\\lib\\site-packages\\scipy\\integrate\\quadrature.py:706: AccuracyWarning: divmax (10) exceeded. Latest difference = 5.477357e+00\n",
      "  AccuracyWarning)\n",
      "C:\\ProgramData\\Anaconda2\\lib\\site-packages\\scipy\\integrate\\quadrature.py:706: AccuracyWarning: divmax (10) exceeded. Latest difference = 5.597087e+00\n",
      "  AccuracyWarning)\n",
      "C:\\ProgramData\\Anaconda2\\lib\\site-packages\\scipy\\integrate\\quadrature.py:706: AccuracyWarning: divmax (10) exceeded. Latest difference = 5.766808e+00\n",
      "  AccuracyWarning)\n",
      "C:\\ProgramData\\Anaconda2\\lib\\site-packages\\scipy\\integrate\\quadrature.py:706: AccuracyWarning: divmax (10) exceeded. Latest difference = 6.150435e+00\n",
      "  AccuracyWarning)\n",
      "C:\\ProgramData\\Anaconda2\\lib\\site-packages\\scipy\\integrate\\quadrature.py:706: AccuracyWarning: divmax (10) exceeded. Latest difference = 6.586609e+00\n",
      "  AccuracyWarning)\n",
      "C:\\ProgramData\\Anaconda2\\lib\\site-packages\\scipy\\integrate\\quadrature.py:706: AccuracyWarning: divmax (10) exceeded. Latest difference = 7.226204e+00\n",
      "  AccuracyWarning)\n",
      "C:\\ProgramData\\Anaconda2\\lib\\site-packages\\scipy\\integrate\\quadrature.py:706: AccuracyWarning: divmax (10) exceeded. Latest difference = 7.916883e+00\n",
      "  AccuracyWarning)\n",
      "C:\\ProgramData\\Anaconda2\\lib\\site-packages\\scipy\\integrate\\quadrature.py:706: AccuracyWarning: divmax (10) exceeded. Latest difference = 8.784921e+00\n",
      "  AccuracyWarning)\n",
      "C:\\ProgramData\\Anaconda2\\lib\\site-packages\\scipy\\integrate\\quadrature.py:706: AccuracyWarning: divmax (10) exceeded. Latest difference = 9.698746e+00\n",
      "  AccuracyWarning)\n",
      "C:\\ProgramData\\Anaconda2\\lib\\site-packages\\scipy\\integrate\\quadrature.py:706: AccuracyWarning: divmax (10) exceeded. Latest difference = 1.075074e+01\n",
      "  AccuracyWarning)\n",
      "C:\\ProgramData\\Anaconda2\\lib\\site-packages\\scipy\\integrate\\quadrature.py:706: AccuracyWarning: divmax (10) exceeded. Latest difference = 1.184013e+01\n",
      "  AccuracyWarning)\n",
      "C:\\ProgramData\\Anaconda2\\lib\\site-packages\\scipy\\integrate\\quadrature.py:706: AccuracyWarning: divmax (10) exceeded. Latest difference = 1.301999e+01\n",
      "  AccuracyWarning)\n",
      "C:\\ProgramData\\Anaconda2\\lib\\site-packages\\scipy\\integrate\\quadrature.py:706: AccuracyWarning: divmax (10) exceeded. Latest difference = 1.422746e+01\n",
      "  AccuracyWarning)\n",
      "C:\\ProgramData\\Anaconda2\\lib\\site-packages\\scipy\\integrate\\quadrature.py:706: AccuracyWarning: divmax (10) exceeded. Latest difference = 1.547639e+01\n",
      "  AccuracyWarning)\n",
      "C:\\ProgramData\\Anaconda2\\lib\\site-packages\\scipy\\integrate\\quadrature.py:706: AccuracyWarning: divmax (10) exceeded. Latest difference = 1.674441e+01\n",
      "  AccuracyWarning)\n",
      "C:\\ProgramData\\Anaconda2\\lib\\site-packages\\scipy\\integrate\\quadrature.py:706: AccuracyWarning: divmax (10) exceeded. Latest difference = 1.801188e+01\n",
      "  AccuracyWarning)\n",
      "C:\\ProgramData\\Anaconda2\\lib\\site-packages\\scipy\\integrate\\quadrature.py:706: AccuracyWarning: divmax (10) exceeded. Latest difference = 1.929382e+01\n",
      "  AccuracyWarning)\n",
      "C:\\ProgramData\\Anaconda2\\lib\\site-packages\\scipy\\integrate\\quadrature.py:706: AccuracyWarning: divmax (10) exceeded. Latest difference = 2.054553e+01\n",
      "  AccuracyWarning)\n",
      "C:\\ProgramData\\Anaconda2\\lib\\site-packages\\scipy\\integrate\\quadrature.py:706: AccuracyWarning: divmax (10) exceeded. Latest difference = 2.181170e+01\n",
      "  AccuracyWarning)\n",
      "C:\\ProgramData\\Anaconda2\\lib\\site-packages\\scipy\\integrate\\quadrature.py:706: AccuracyWarning: divmax (10) exceeded. Latest difference = 2.303008e+01\n",
      "  AccuracyWarning)\n",
      "C:\\ProgramData\\Anaconda2\\lib\\site-packages\\scipy\\integrate\\quadrature.py:706: AccuracyWarning: divmax (10) exceeded. Latest difference = 2.426595e+01\n",
      "  AccuracyWarning)\n",
      "C:\\ProgramData\\Anaconda2\\lib\\site-packages\\scipy\\integrate\\quadrature.py:706: AccuracyWarning: divmax (10) exceeded. Latest difference = 2.544451e+01\n",
      "  AccuracyWarning)\n",
      "C:\\ProgramData\\Anaconda2\\lib\\site-packages\\scipy\\integrate\\quadrature.py:706: AccuracyWarning: divmax (10) exceeded. Latest difference = 2.664455e+01\n",
      "  AccuracyWarning)\n",
      "C:\\ProgramData\\Anaconda2\\lib\\site-packages\\scipy\\integrate\\quadrature.py:706: AccuracyWarning: divmax (10) exceeded. Latest difference = 2.778211e+01\n",
      "  AccuracyWarning)\n",
      "C:\\ProgramData\\Anaconda2\\lib\\site-packages\\scipy\\integrate\\quadrature.py:706: AccuracyWarning: divmax (10) exceeded. Latest difference = 2.894503e+01\n",
      "  AccuracyWarning)\n",
      "C:\\ProgramData\\Anaconda2\\lib\\site-packages\\scipy\\integrate\\quadrature.py:706: AccuracyWarning: divmax (10) exceeded. Latest difference = 3.004218e+01\n",
      "  AccuracyWarning)\n",
      "C:\\ProgramData\\Anaconda2\\lib\\site-packages\\scipy\\integrate\\quadrature.py:706: AccuracyWarning: divmax (10) exceeded. Latest difference = 3.116775e+01\n",
      "  AccuracyWarning)\n",
      "C:\\ProgramData\\Anaconda2\\lib\\site-packages\\scipy\\integrate\\quadrature.py:706: AccuracyWarning: divmax (10) exceeded. Latest difference = 3.222398e+01\n",
      "  AccuracyWarning)\n",
      "C:\\ProgramData\\Anaconda2\\lib\\site-packages\\scipy\\integrate\\quadrature.py:706: AccuracyWarning: divmax (10) exceeded. Latest difference = 3.331041e+01\n",
      "  AccuracyWarning)\n",
      "C:\\ProgramData\\Anaconda2\\lib\\site-packages\\scipy\\integrate\\quadrature.py:706: AccuracyWarning: divmax (10) exceeded. Latest difference = 3.432338e+01\n",
      "  AccuracyWarning)\n",
      "C:\\ProgramData\\Anaconda2\\lib\\site-packages\\scipy\\integrate\\quadrature.py:706: AccuracyWarning: divmax (10) exceeded. Latest difference = 3.536857e+01\n",
      "  AccuracyWarning)\n",
      "C:\\ProgramData\\Anaconda2\\lib\\site-packages\\scipy\\integrate\\quadrature.py:706: AccuracyWarning: divmax (10) exceeded. Latest difference = 3.633981e+01\n",
      "  AccuracyWarning)\n",
      "C:\\ProgramData\\Anaconda2\\lib\\site-packages\\scipy\\integrate\\quadrature.py:706: AccuracyWarning: divmax (10) exceeded. Latest difference = 3.734874e+01\n",
      "  AccuracyWarning)\n",
      "C:\\ProgramData\\Anaconda2\\lib\\site-packages\\scipy\\integrate\\quadrature.py:706: AccuracyWarning: divmax (10) exceeded. Latest difference = 3.829070e+01\n",
      "  AccuracyWarning)\n",
      "C:\\ProgramData\\Anaconda2\\lib\\site-packages\\scipy\\integrate\\quadrature.py:706: AccuracyWarning: divmax (10) exceeded. Latest difference = 3.928022e+01\n",
      "  AccuracyWarning)\n",
      "C:\\ProgramData\\Anaconda2\\lib\\site-packages\\scipy\\integrate\\quadrature.py:706: AccuracyWarning: divmax (10) exceeded. Latest difference = 4.021285e+01\n",
      "  AccuracyWarning)\n",
      "C:\\ProgramData\\Anaconda2\\lib\\site-packages\\scipy\\integrate\\quadrature.py:706: AccuracyWarning: divmax (10) exceeded. Latest difference = 4.120414e+01\n",
      "  AccuracyWarning)\n",
      "C:\\ProgramData\\Anaconda2\\lib\\site-packages\\scipy\\integrate\\quadrature.py:706: AccuracyWarning: divmax (10) exceeded. Latest difference = 4.214060e+01\n",
      "  AccuracyWarning)\n",
      "C:\\ProgramData\\Anaconda2\\lib\\site-packages\\scipy\\integrate\\quadrature.py:706: AccuracyWarning: divmax (10) exceeded. Latest difference = 4.314313e+01\n",
      "  AccuracyWarning)\n",
      "C:\\ProgramData\\Anaconda2\\lib\\site-packages\\scipy\\integrate\\quadrature.py:706: AccuracyWarning: divmax (10) exceeded. Latest difference = 4.407423e+01\n",
      "  AccuracyWarning)\n",
      "C:\\ProgramData\\Anaconda2\\lib\\site-packages\\scipy\\integrate\\quadrature.py:706: AccuracyWarning: divmax (10) exceeded. Latest difference = 4.507078e+01\n",
      "  AccuracyWarning)\n",
      "C:\\ProgramData\\Anaconda2\\lib\\site-packages\\scipy\\integrate\\quadrature.py:706: AccuracyWarning: divmax (10) exceeded. Latest difference = 4.595371e+01\n",
      "  AccuracyWarning)\n",
      "C:\\ProgramData\\Anaconda2\\lib\\site-packages\\scipy\\integrate\\quadrature.py:706: AccuracyWarning: divmax (10) exceeded. Latest difference = 4.688982e+01\n",
      "  AccuracyWarning)\n",
      "C:\\ProgramData\\Anaconda2\\lib\\site-packages\\scipy\\integrate\\quadrature.py:706: AccuracyWarning: divmax (10) exceeded. Latest difference = 4.764232e+01\n",
      "  AccuracyWarning)\n",
      "C:\\ProgramData\\Anaconda2\\lib\\site-packages\\scipy\\integrate\\quadrature.py:706: AccuracyWarning: divmax (10) exceeded. Latest difference = 4.842407e+01\n",
      "  AccuracyWarning)\n",
      "C:\\ProgramData\\Anaconda2\\lib\\site-packages\\scipy\\integrate\\quadrature.py:706: AccuracyWarning: divmax (10) exceeded. Latest difference = 4.893552e+01\n",
      "  AccuracyWarning)\n",
      "C:\\ProgramData\\Anaconda2\\lib\\site-packages\\scipy\\integrate\\quadrature.py:706: AccuracyWarning: divmax (10) exceeded. Latest difference = 4.944755e+01\n",
      "  AccuracyWarning)\n",
      "C:\\ProgramData\\Anaconda2\\lib\\site-packages\\scipy\\integrate\\quadrature.py:706: AccuracyWarning: divmax (10) exceeded. Latest difference = 4.961058e+01\n",
      "  AccuracyWarning)\n",
      "C:\\ProgramData\\Anaconda2\\lib\\site-packages\\scipy\\integrate\\quadrature.py:706: AccuracyWarning: divmax (10) exceeded. Latest difference = 4.975081e+01\n",
      "  AccuracyWarning)\n",
      "C:\\ProgramData\\Anaconda2\\lib\\site-packages\\scipy\\integrate\\quadrature.py:706: AccuracyWarning: divmax (10) exceeded. Latest difference = 4.949354e+01\n",
      "  AccuracyWarning)\n",
      "C:\\ProgramData\\Anaconda2\\lib\\site-packages\\scipy\\integrate\\quadrature.py:706: AccuracyWarning: divmax (10) exceeded. Latest difference = 4.920098e+01\n",
      "  AccuracyWarning)\n",
      "C:\\ProgramData\\Anaconda2\\lib\\site-packages\\scipy\\integrate\\quadrature.py:706: AccuracyWarning: divmax (10) exceeded. Latest difference = 4.850174e+01\n",
      "  AccuracyWarning)\n",
      "C:\\ProgramData\\Anaconda2\\lib\\site-packages\\scipy\\integrate\\quadrature.py:706: AccuracyWarning: divmax (10) exceeded. Latest difference = 4.776655e+01\n",
      "  AccuracyWarning)\n",
      "C:\\ProgramData\\Anaconda2\\lib\\site-packages\\scipy\\integrate\\quadrature.py:706: AccuracyWarning: divmax (10) exceeded. Latest difference = 4.665591e+01\n",
      "  AccuracyWarning)\n",
      "C:\\ProgramData\\Anaconda2\\lib\\site-packages\\scipy\\integrate\\quadrature.py:706: AccuracyWarning: divmax (10) exceeded. Latest difference = 4.551830e+01\n",
      "  AccuracyWarning)\n",
      "C:\\ProgramData\\Anaconda2\\lib\\site-packages\\scipy\\integrate\\quadrature.py:706: AccuracyWarning: divmax (10) exceeded. Latest difference = 4.406788e+01\n",
      "  AccuracyWarning)\n",
      "C:\\ProgramData\\Anaconda2\\lib\\site-packages\\scipy\\integrate\\quadrature.py:706: AccuracyWarning: divmax (10) exceeded. Latest difference = 4.260263e+01\n",
      "  AccuracyWarning)\n",
      "C:\\ProgramData\\Anaconda2\\lib\\site-packages\\scipy\\integrate\\quadrature.py:706: AccuracyWarning: divmax (10) exceeded. Latest difference = 4.090187e+01\n",
      "  AccuracyWarning)\n",
      "C:\\ProgramData\\Anaconda2\\lib\\site-packages\\scipy\\integrate\\quadrature.py:706: AccuracyWarning: divmax (10) exceeded. Latest difference = 3.919707e+01\n",
      "  AccuracyWarning)\n",
      "C:\\ProgramData\\Anaconda2\\lib\\site-packages\\scipy\\integrate\\quadrature.py:706: AccuracyWarning: divmax (10) exceeded. Latest difference = 3.734378e+01\n",
      "  AccuracyWarning)\n",
      "C:\\ProgramData\\Anaconda2\\lib\\site-packages\\scipy\\integrate\\quadrature.py:706: AccuracyWarning: divmax (10) exceeded. Latest difference = 3.549966e+01\n",
      "  AccuracyWarning)\n",
      "C:\\ProgramData\\Anaconda2\\lib\\site-packages\\scipy\\integrate\\quadrature.py:706: AccuracyWarning: divmax (10) exceeded. Latest difference = 3.361066e+01\n",
      "  AccuracyWarning)\n",
      "C:\\ProgramData\\Anaconda2\\lib\\site-packages\\scipy\\integrate\\quadrature.py:706: AccuracyWarning: divmax (10) exceeded. Latest difference = 3.175144e+01\n",
      "  AccuracyWarning)\n",
      "C:\\ProgramData\\Anaconda2\\lib\\site-packages\\scipy\\integrate\\quadrature.py:706: AccuracyWarning: divmax (10) exceeded. Latest difference = 2.996583e+01\n",
      "  AccuracyWarning)\n",
      "C:\\ProgramData\\Anaconda2\\lib\\site-packages\\scipy\\integrate\\quadrature.py:706: AccuracyWarning: divmax (10) exceeded. Latest difference = 2.823906e+01\n",
      "  AccuracyWarning)\n",
      "C:\\ProgramData\\Anaconda2\\lib\\site-packages\\scipy\\integrate\\quadrature.py:706: AccuracyWarning: divmax (10) exceeded. Latest difference = 2.671033e+01\n",
      "  AccuracyWarning)\n",
      "C:\\ProgramData\\Anaconda2\\lib\\site-packages\\scipy\\integrate\\quadrature.py:706: AccuracyWarning: divmax (10) exceeded. Latest difference = 2.527457e+01\n",
      "  AccuracyWarning)\n",
      "C:\\ProgramData\\Anaconda2\\lib\\site-packages\\scipy\\integrate\\quadrature.py:706: AccuracyWarning: divmax (10) exceeded. Latest difference = 2.414623e+01\n",
      "  AccuracyWarning)\n",
      "C:\\ProgramData\\Anaconda2\\lib\\site-packages\\scipy\\integrate\\quadrature.py:706: AccuracyWarning: divmax (10) exceeded. Latest difference = 2.313698e+01\n",
      "  AccuracyWarning)\n",
      "C:\\ProgramData\\Anaconda2\\lib\\site-packages\\scipy\\integrate\\quadrature.py:706: AccuracyWarning: divmax (10) exceeded. Latest difference = 2.249144e+01\n",
      "  AccuracyWarning)\n",
      "C:\\ProgramData\\Anaconda2\\lib\\site-packages\\scipy\\integrate\\quadrature.py:706: AccuracyWarning: divmax (10) exceeded. Latest difference = 2.196845e+01\n",
      "  AccuracyWarning)\n",
      "C:\\ProgramData\\Anaconda2\\lib\\site-packages\\scipy\\integrate\\quadrature.py:706: AccuracyWarning: divmax (10) exceeded. Latest difference = 2.179427e+01\n",
      "  AccuracyWarning)\n",
      "C:\\ProgramData\\Anaconda2\\lib\\site-packages\\scipy\\integrate\\quadrature.py:706: AccuracyWarning: divmax (10) exceeded. Latest difference = 2.172174e+01\n",
      "  AccuracyWarning)\n",
      "C:\\ProgramData\\Anaconda2\\lib\\site-packages\\scipy\\integrate\\quadrature.py:706: AccuracyWarning: divmax (10) exceeded. Latest difference = 2.192470e+01\n",
      "  AccuracyWarning)\n",
      "C:\\ProgramData\\Anaconda2\\lib\\site-packages\\scipy\\integrate\\quadrature.py:706: AccuracyWarning: divmax (10) exceeded. Latest difference = 2.219291e+01\n",
      "  AccuracyWarning)\n",
      "C:\\ProgramData\\Anaconda2\\lib\\site-packages\\scipy\\integrate\\quadrature.py:706: AccuracyWarning: divmax (10) exceeded. Latest difference = 2.263439e+01\n",
      "  AccuracyWarning)\n",
      "C:\\ProgramData\\Anaconda2\\lib\\site-packages\\scipy\\integrate\\quadrature.py:706: AccuracyWarning: divmax (10) exceeded. Latest difference = 2.310689e+01\n",
      "  AccuracyWarning)\n",
      "C:\\ProgramData\\Anaconda2\\lib\\site-packages\\scipy\\integrate\\quadrature.py:706: AccuracyWarning: divmax (10) exceeded. Latest difference = 2.366876e+01\n",
      "  AccuracyWarning)\n",
      "C:\\ProgramData\\Anaconda2\\lib\\site-packages\\scipy\\integrate\\quadrature.py:706: AccuracyWarning: divmax (10) exceeded. Latest difference = 2.424491e+01\n",
      "  AccuracyWarning)\n",
      "C:\\ProgramData\\Anaconda2\\lib\\site-packages\\scipy\\integrate\\quadrature.py:706: AccuracyWarning: divmax (10) exceeded. Latest difference = 2.486453e+01\n",
      "  AccuracyWarning)\n",
      "C:\\ProgramData\\Anaconda2\\lib\\site-packages\\scipy\\integrate\\quadrature.py:706: AccuracyWarning: divmax (10) exceeded. Latest difference = 2.549757e+01\n",
      "  AccuracyWarning)\n",
      "C:\\ProgramData\\Anaconda2\\lib\\site-packages\\scipy\\integrate\\quadrature.py:706: AccuracyWarning: divmax (10) exceeded. Latest difference = 2.615535e+01\n",
      "  AccuracyWarning)\n",
      "C:\\ProgramData\\Anaconda2\\lib\\site-packages\\scipy\\integrate\\quadrature.py:706: AccuracyWarning: divmax (10) exceeded. Latest difference = 2.683290e+01\n",
      "  AccuracyWarning)\n",
      "C:\\ProgramData\\Anaconda2\\lib\\site-packages\\scipy\\integrate\\quadrature.py:706: AccuracyWarning: divmax (10) exceeded. Latest difference = 2.753067e+01\n",
      "  AccuracyWarning)\n",
      "C:\\ProgramData\\Anaconda2\\lib\\site-packages\\scipy\\integrate\\quadrature.py:706: AccuracyWarning: divmax (10) exceeded. Latest difference = 2.825228e+01\n",
      "  AccuracyWarning)\n",
      "C:\\ProgramData\\Anaconda2\\lib\\site-packages\\scipy\\integrate\\quadrature.py:706: AccuracyWarning: divmax (10) exceeded. Latest difference = 2.898570e+01\n",
      "  AccuracyWarning)\n",
      "C:\\ProgramData\\Anaconda2\\lib\\site-packages\\scipy\\integrate\\quadrature.py:706: AccuracyWarning: divmax (10) exceeded. Latest difference = 2.974724e+01\n",
      "  AccuracyWarning)\n",
      "C:\\ProgramData\\Anaconda2\\lib\\site-packages\\scipy\\integrate\\quadrature.py:706: AccuracyWarning: divmax (10) exceeded. Latest difference = 3.052928e+01\n",
      "  AccuracyWarning)\n",
      "C:\\ProgramData\\Anaconda2\\lib\\site-packages\\scipy\\integrate\\quadrature.py:706: AccuracyWarning: divmax (10) exceeded. Latest difference = 3.135481e+01\n",
      "  AccuracyWarning)\n",
      "C:\\ProgramData\\Anaconda2\\lib\\site-packages\\scipy\\integrate\\quadrature.py:706: AccuracyWarning: divmax (10) exceeded. Latest difference = 3.223124e+01\n",
      "  AccuracyWarning)\n",
      "C:\\ProgramData\\Anaconda2\\lib\\site-packages\\scipy\\integrate\\quadrature.py:706: AccuracyWarning: divmax (10) exceeded. Latest difference = 3.318094e+01\n",
      "  AccuracyWarning)\n",
      "C:\\ProgramData\\Anaconda2\\lib\\site-packages\\scipy\\integrate\\quadrature.py:706: AccuracyWarning: divmax (10) exceeded. Latest difference = 3.422598e+01\n",
      "  AccuracyWarning)\n",
      "C:\\ProgramData\\Anaconda2\\lib\\site-packages\\scipy\\integrate\\quadrature.py:706: AccuracyWarning: divmax (10) exceeded. Latest difference = 3.537571e+01\n",
      "  AccuracyWarning)\n",
      "C:\\ProgramData\\Anaconda2\\lib\\site-packages\\scipy\\integrate\\quadrature.py:706: AccuracyWarning: divmax (10) exceeded. Latest difference = 3.662876e+01\n",
      "  AccuracyWarning)\n",
      "C:\\ProgramData\\Anaconda2\\lib\\site-packages\\scipy\\integrate\\quadrature.py:706: AccuracyWarning: divmax (10) exceeded. Latest difference = 3.799360e+01\n",
      "  AccuracyWarning)\n",
      "C:\\ProgramData\\Anaconda2\\lib\\site-packages\\scipy\\integrate\\quadrature.py:706: AccuracyWarning: divmax (10) exceeded. Latest difference = 3.939009e+01\n",
      "  AccuracyWarning)\n",
      "C:\\ProgramData\\Anaconda2\\lib\\site-packages\\scipy\\integrate\\quadrature.py:706: AccuracyWarning: divmax (10) exceeded. Latest difference = 4.086595e+01\n",
      "  AccuracyWarning)\n",
      "C:\\ProgramData\\Anaconda2\\lib\\site-packages\\scipy\\integrate\\quadrature.py:706: AccuracyWarning: divmax (10) exceeded. Latest difference = 4.221920e+01\n",
      "  AccuracyWarning)\n",
      "C:\\ProgramData\\Anaconda2\\lib\\site-packages\\scipy\\integrate\\quadrature.py:706: AccuracyWarning: divmax (10) exceeded. Latest difference = 4.359054e+01\n",
      "  AccuracyWarning)\n",
      "C:\\ProgramData\\Anaconda2\\lib\\site-packages\\scipy\\integrate\\quadrature.py:706: AccuracyWarning: divmax (10) exceeded. Latest difference = 4.465886e+01\n",
      "  AccuracyWarning)\n",
      "C:\\ProgramData\\Anaconda2\\lib\\site-packages\\scipy\\integrate\\quadrature.py:706: AccuracyWarning: divmax (10) exceeded. Latest difference = 4.568638e+01\n",
      "  AccuracyWarning)\n",
      "C:\\ProgramData\\Anaconda2\\lib\\site-packages\\scipy\\integrate\\quadrature.py:706: AccuracyWarning: divmax (10) exceeded. Latest difference = 4.627738e+01\n",
      "  AccuracyWarning)\n",
      "C:\\ProgramData\\Anaconda2\\lib\\site-packages\\scipy\\integrate\\quadrature.py:706: AccuracyWarning: divmax (10) exceeded. Latest difference = 4.679623e+01\n",
      "  AccuracyWarning)\n",
      "C:\\ProgramData\\Anaconda2\\lib\\site-packages\\scipy\\integrate\\quadrature.py:706: AccuracyWarning: divmax (10) exceeded. Latest difference = 4.682977e+01\n",
      "  AccuracyWarning)\n",
      "C:\\ProgramData\\Anaconda2\\lib\\site-packages\\scipy\\integrate\\quadrature.py:706: AccuracyWarning: divmax (10) exceeded. Latest difference = 4.678786e+01\n",
      "  AccuracyWarning)\n",
      "C:\\ProgramData\\Anaconda2\\lib\\site-packages\\scipy\\integrate\\quadrature.py:706: AccuracyWarning: divmax (10) exceeded. Latest difference = 4.628308e+01\n",
      "  AccuracyWarning)\n",
      "C:\\ProgramData\\Anaconda2\\lib\\site-packages\\scipy\\integrate\\quadrature.py:706: AccuracyWarning: divmax (10) exceeded. Latest difference = 4.571186e+01\n",
      "  AccuracyWarning)\n",
      "C:\\ProgramData\\Anaconda2\\lib\\site-packages\\scipy\\integrate\\quadrature.py:706: AccuracyWarning: divmax (10) exceeded. Latest difference = 4.474518e+01\n",
      "  AccuracyWarning)\n",
      "C:\\ProgramData\\Anaconda2\\lib\\site-packages\\scipy\\integrate\\quadrature.py:706: AccuracyWarning: divmax (10) exceeded. Latest difference = 4.372725e+01\n",
      "  AccuracyWarning)\n",
      "C:\\ProgramData\\Anaconda2\\lib\\site-packages\\scipy\\integrate\\quadrature.py:706: AccuracyWarning: divmax (10) exceeded. Latest difference = 4.242957e+01\n",
      "  AccuracyWarning)\n",
      "C:\\ProgramData\\Anaconda2\\lib\\site-packages\\scipy\\integrate\\quadrature.py:706: AccuracyWarning: divmax (10) exceeded. Latest difference = 4.111609e+01\n",
      "  AccuracyWarning)\n",
      "C:\\ProgramData\\Anaconda2\\lib\\site-packages\\scipy\\integrate\\quadrature.py:706: AccuracyWarning: divmax (10) exceeded. Latest difference = 3.970852e+01\n",
      "  AccuracyWarning)\n",
      "C:\\ProgramData\\Anaconda2\\lib\\site-packages\\scipy\\integrate\\quadrature.py:706: AccuracyWarning: divmax (10) exceeded. Latest difference = 3.835297e+01\n",
      "  AccuracyWarning)\n",
      "C:\\ProgramData\\Anaconda2\\lib\\site-packages\\scipy\\integrate\\quadrature.py:706: AccuracyWarning: divmax (10) exceeded. Latest difference = 3.714139e+01\n",
      "  AccuracyWarning)\n",
      "C:\\ProgramData\\Anaconda2\\lib\\site-packages\\scipy\\integrate\\quadrature.py:706: AccuracyWarning: divmax (10) exceeded. Latest difference = 3.606343e+01\n",
      "  AccuracyWarning)\n",
      "C:\\ProgramData\\Anaconda2\\lib\\site-packages\\scipy\\integrate\\quadrature.py:706: AccuracyWarning: divmax (10) exceeded. Latest difference = 3.533663e+01\n",
      "  AccuracyWarning)\n",
      "C:\\ProgramData\\Anaconda2\\lib\\site-packages\\scipy\\integrate\\quadrature.py:706: AccuracyWarning: divmax (10) exceeded. Latest difference = 3.479444e+01\n",
      "  AccuracyWarning)\n",
      "C:\\ProgramData\\Anaconda2\\lib\\site-packages\\scipy\\integrate\\quadrature.py:706: AccuracyWarning: divmax (10) exceeded. Latest difference = 3.468459e+01\n",
      "  AccuracyWarning)\n",
      "C:\\ProgramData\\Anaconda2\\lib\\site-packages\\scipy\\integrate\\quadrature.py:706: AccuracyWarning: divmax (10) exceeded. Latest difference = 3.474954e+01\n",
      "  AccuracyWarning)\n",
      "C:\\ProgramData\\Anaconda2\\lib\\site-packages\\scipy\\integrate\\quadrature.py:706: AccuracyWarning: divmax (10) exceeded. Latest difference = 3.518228e+01\n",
      "  AccuracyWarning)\n",
      "C:\\ProgramData\\Anaconda2\\lib\\site-packages\\scipy\\integrate\\quadrature.py:706: AccuracyWarning: divmax (10) exceeded. Latest difference = 3.573542e+01\n",
      "  AccuracyWarning)\n",
      "C:\\ProgramData\\Anaconda2\\lib\\site-packages\\scipy\\integrate\\quadrature.py:706: AccuracyWarning: divmax (10) exceeded. Latest difference = 3.651989e+01\n",
      "  AccuracyWarning)\n",
      "C:\\ProgramData\\Anaconda2\\lib\\site-packages\\scipy\\integrate\\quadrature.py:706: AccuracyWarning: divmax (10) exceeded. Latest difference = 3.737004e+01\n",
      "  AccuracyWarning)\n",
      "C:\\ProgramData\\Anaconda2\\lib\\site-packages\\scipy\\integrate\\quadrature.py:706: AccuracyWarning: divmax (10) exceeded. Latest difference = 3.833072e+01\n",
      "  AccuracyWarning)\n",
      "C:\\ProgramData\\Anaconda2\\lib\\site-packages\\scipy\\integrate\\quadrature.py:706: AccuracyWarning: divmax (10) exceeded. Latest difference = 3.932644e+01\n",
      "  AccuracyWarning)\n",
      "C:\\ProgramData\\Anaconda2\\lib\\site-packages\\scipy\\integrate\\quadrature.py:706: AccuracyWarning: divmax (10) exceeded. Latest difference = 4.034917e+01\n",
      "  AccuracyWarning)\n",
      "C:\\ProgramData\\Anaconda2\\lib\\site-packages\\scipy\\integrate\\quadrature.py:706: AccuracyWarning: divmax (10) exceeded. Latest difference = 4.138901e+01\n",
      "  AccuracyWarning)\n",
      "C:\\ProgramData\\Anaconda2\\lib\\site-packages\\scipy\\integrate\\quadrature.py:706: AccuracyWarning: divmax (10) exceeded. Latest difference = 4.238400e+01\n",
      "  AccuracyWarning)\n",
      "C:\\ProgramData\\Anaconda2\\lib\\site-packages\\scipy\\integrate\\quadrature.py:706: AccuracyWarning: divmax (10) exceeded. Latest difference = 4.337857e+01\n",
      "  AccuracyWarning)\n",
      "C:\\ProgramData\\Anaconda2\\lib\\site-packages\\scipy\\integrate\\quadrature.py:706: AccuracyWarning: divmax (10) exceeded. Latest difference = 4.427686e+01\n",
      "  AccuracyWarning)\n",
      "C:\\ProgramData\\Anaconda2\\lib\\site-packages\\scipy\\integrate\\quadrature.py:706: AccuracyWarning: divmax (10) exceeded. Latest difference = 4.517645e+01\n",
      "  AccuracyWarning)\n",
      "C:\\ProgramData\\Anaconda2\\lib\\site-packages\\scipy\\integrate\\quadrature.py:706: AccuracyWarning: divmax (10) exceeded. Latest difference = 4.600368e+01\n",
      "  AccuracyWarning)\n",
      "C:\\ProgramData\\Anaconda2\\lib\\site-packages\\scipy\\integrate\\quadrature.py:706: AccuracyWarning: divmax (10) exceeded. Latest difference = 4.687904e+01\n",
      "  AccuracyWarning)\n",
      "C:\\ProgramData\\Anaconda2\\lib\\site-packages\\scipy\\integrate\\quadrature.py:706: AccuracyWarning: divmax (10) exceeded. Latest difference = 4.779064e+01\n",
      "  AccuracyWarning)\n",
      "C:\\ProgramData\\Anaconda2\\lib\\site-packages\\scipy\\integrate\\quadrature.py:706: AccuracyWarning: divmax (10) exceeded. Latest difference = 4.882315e+01\n",
      "  AccuracyWarning)\n",
      "C:\\ProgramData\\Anaconda2\\lib\\site-packages\\scipy\\integrate\\quadrature.py:706: AccuracyWarning: divmax (10) exceeded. Latest difference = 4.998533e+01\n",
      "  AccuracyWarning)\n",
      "C:\\ProgramData\\Anaconda2\\lib\\site-packages\\scipy\\integrate\\quadrature.py:706: AccuracyWarning: divmax (10) exceeded. Latest difference = 5.130463e+01\n",
      "  AccuracyWarning)\n",
      "C:\\ProgramData\\Anaconda2\\lib\\site-packages\\scipy\\integrate\\quadrature.py:706: AccuracyWarning: divmax (10) exceeded. Latest difference = 5.270825e+01\n",
      "  AccuracyWarning)\n",
      "C:\\ProgramData\\Anaconda2\\lib\\site-packages\\scipy\\integrate\\quadrature.py:706: AccuracyWarning: divmax (10) exceeded. Latest difference = 5.423052e+01\n",
      "  AccuracyWarning)\n",
      "C:\\ProgramData\\Anaconda2\\lib\\site-packages\\scipy\\integrate\\quadrature.py:706: AccuracyWarning: divmax (10) exceeded. Latest difference = 5.564775e+01\n",
      "  AccuracyWarning)\n",
      "C:\\ProgramData\\Anaconda2\\lib\\site-packages\\scipy\\integrate\\quadrature.py:706: AccuracyWarning: divmax (10) exceeded. Latest difference = 5.710116e+01\n",
      "  AccuracyWarning)\n",
      "C:\\ProgramData\\Anaconda2\\lib\\site-packages\\scipy\\integrate\\quadrature.py:706: AccuracyWarning: divmax (10) exceeded. Latest difference = 5.823250e+01\n",
      "  AccuracyWarning)\n",
      "C:\\ProgramData\\Anaconda2\\lib\\site-packages\\scipy\\integrate\\quadrature.py:706: AccuracyWarning: divmax (10) exceeded. Latest difference = 5.932983e+01\n",
      "  AccuracyWarning)\n",
      "C:\\ProgramData\\Anaconda2\\lib\\site-packages\\scipy\\integrate\\quadrature.py:706: AccuracyWarning: divmax (10) exceeded. Latest difference = 5.995622e+01\n",
      "  AccuracyWarning)\n",
      "C:\\ProgramData\\Anaconda2\\lib\\site-packages\\scipy\\integrate\\quadrature.py:706: AccuracyWarning: divmax (10) exceeded. Latest difference = 6.050534e+01\n",
      "  AccuracyWarning)\n",
      "C:\\ProgramData\\Anaconda2\\lib\\site-packages\\scipy\\integrate\\quadrature.py:706: AccuracyWarning: divmax (10) exceeded. Latest difference = 6.050137e+01\n",
      "  AccuracyWarning)\n",
      "C:\\ProgramData\\Anaconda2\\lib\\site-packages\\scipy\\integrate\\quadrature.py:706: AccuracyWarning: divmax (10) exceeded. Latest difference = 6.038796e+01\n",
      "  AccuracyWarning)\n",
      "C:\\ProgramData\\Anaconda2\\lib\\site-packages\\scipy\\integrate\\quadrature.py:706: AccuracyWarning: divmax (10) exceeded. Latest difference = 5.970312e+01\n",
      "  AccuracyWarning)\n",
      "C:\\ProgramData\\Anaconda2\\lib\\site-packages\\scipy\\integrate\\quadrature.py:706: AccuracyWarning: divmax (10) exceeded. Latest difference = 5.890586e+01\n",
      "  AccuracyWarning)\n",
      "C:\\ProgramData\\Anaconda2\\lib\\site-packages\\scipy\\integrate\\quadrature.py:706: AccuracyWarning: divmax (10) exceeded. Latest difference = 5.766038e+01\n",
      "  AccuracyWarning)\n",
      "C:\\ProgramData\\Anaconda2\\lib\\site-packages\\scipy\\integrate\\quadrature.py:706: AccuracyWarning: divmax (10) exceeded. Latest difference = 5.637562e+01\n",
      "  AccuracyWarning)\n",
      "C:\\ProgramData\\Anaconda2\\lib\\site-packages\\scipy\\integrate\\quadrature.py:706: AccuracyWarning: divmax (10) exceeded. Latest difference = 5.495410e+01\n",
      "  AccuracyWarning)\n",
      "C:\\ProgramData\\Anaconda2\\lib\\site-packages\\scipy\\integrate\\quadrature.py:706: AccuracyWarning: divmax (10) exceeded. Latest difference = 5.363378e+01\n",
      "  AccuracyWarning)\n",
      "C:\\ProgramData\\Anaconda2\\lib\\site-packages\\scipy\\integrate\\quadrature.py:706: AccuracyWarning: divmax (10) exceeded. Latest difference = 5.254878e+01\n",
      "  AccuracyWarning)\n",
      "C:\\ProgramData\\Anaconda2\\lib\\site-packages\\scipy\\integrate\\quadrature.py:706: AccuracyWarning: divmax (10) exceeded. Latest difference = 5.168507e+01\n",
      "  AccuracyWarning)\n",
      "C:\\ProgramData\\Anaconda2\\lib\\site-packages\\scipy\\integrate\\quadrature.py:706: AccuracyWarning: divmax (10) exceeded. Latest difference = 5.127980e+01\n",
      "  AccuracyWarning)\n",
      "C:\\ProgramData\\Anaconda2\\lib\\site-packages\\scipy\\integrate\\quadrature.py:706: AccuracyWarning: divmax (10) exceeded. Latest difference = 5.112589e+01\n",
      "  AccuracyWarning)\n",
      "C:\\ProgramData\\Anaconda2\\lib\\site-packages\\scipy\\integrate\\quadrature.py:706: AccuracyWarning: divmax (10) exceeded. Latest difference = 5.144167e+01\n",
      "  AccuracyWarning)\n",
      "C:\\ProgramData\\Anaconda2\\lib\\site-packages\\scipy\\integrate\\quadrature.py:706: AccuracyWarning: divmax (10) exceeded. Latest difference = 5.197220e+01\n",
      "  AccuracyWarning)\n",
      "C:\\ProgramData\\Anaconda2\\lib\\site-packages\\scipy\\integrate\\quadrature.py:706: AccuracyWarning: divmax (10) exceeded. Latest difference = 5.287284e+01\n",
      "  AccuracyWarning)\n",
      "C:\\ProgramData\\Anaconda2\\lib\\site-packages\\scipy\\integrate\\quadrature.py:706: AccuracyWarning: divmax (10) exceeded. Latest difference = 5.393678e+01\n",
      "  AccuracyWarning)\n",
      "C:\\ProgramData\\Anaconda2\\lib\\site-packages\\scipy\\integrate\\quadrature.py:706: AccuracyWarning: divmax (10) exceeded. Latest difference = 5.522383e+01\n",
      "  AccuracyWarning)\n",
      "C:\\ProgramData\\Anaconda2\\lib\\site-packages\\scipy\\integrate\\quadrature.py:706: AccuracyWarning: divmax (10) exceeded. Latest difference = 5.660572e+01\n",
      "  AccuracyWarning)\n",
      "C:\\ProgramData\\Anaconda2\\lib\\site-packages\\scipy\\integrate\\quadrature.py:706: AccuracyWarning: divmax (10) exceeded. Latest difference = 5.799230e+01\n",
      "  AccuracyWarning)\n",
      "C:\\ProgramData\\Anaconda2\\lib\\site-packages\\scipy\\integrate\\quadrature.py:706: AccuracyWarning: divmax (10) exceeded. Latest difference = 5.938175e+01\n",
      "  AccuracyWarning)\n",
      "C:\\ProgramData\\Anaconda2\\lib\\site-packages\\scipy\\integrate\\quadrature.py:706: AccuracyWarning: divmax (10) exceeded. Latest difference = 6.055296e+01\n",
      "  AccuracyWarning)\n",
      "C:\\ProgramData\\Anaconda2\\lib\\site-packages\\scipy\\integrate\\quadrature.py:706: AccuracyWarning: divmax (10) exceeded. Latest difference = 6.167648e+01\n",
      "  AccuracyWarning)\n",
      "C:\\ProgramData\\Anaconda2\\lib\\site-packages\\scipy\\integrate\\quadrature.py:706: AccuracyWarning: divmax (10) exceeded. Latest difference = 6.252831e+01\n",
      "  AccuracyWarning)\n",
      "C:\\ProgramData\\Anaconda2\\lib\\site-packages\\scipy\\integrate\\quadrature.py:706: AccuracyWarning: divmax (10) exceeded. Latest difference = 6.338567e+01\n",
      "  AccuracyWarning)\n",
      "C:\\ProgramData\\Anaconda2\\lib\\site-packages\\scipy\\integrate\\quadrature.py:706: AccuracyWarning: divmax (10) exceeded. Latest difference = 6.410875e+01\n",
      "  AccuracyWarning)\n",
      "C:\\ProgramData\\Anaconda2\\lib\\site-packages\\scipy\\integrate\\quadrature.py:706: AccuracyWarning: divmax (10) exceeded. Latest difference = 6.493934e+01\n",
      "  AccuracyWarning)\n",
      "C:\\ProgramData\\Anaconda2\\lib\\site-packages\\scipy\\integrate\\quadrature.py:706: AccuracyWarning: divmax (10) exceeded. Latest difference = 6.575135e+01\n",
      "  AccuracyWarning)\n",
      "C:\\ProgramData\\Anaconda2\\lib\\site-packages\\scipy\\integrate\\quadrature.py:706: AccuracyWarning: divmax (10) exceeded. Latest difference = 6.671283e+01\n",
      "  AccuracyWarning)\n",
      "C:\\ProgramData\\Anaconda2\\lib\\site-packages\\scipy\\integrate\\quadrature.py:706: AccuracyWarning: divmax (10) exceeded. Latest difference = 6.759562e+01\n",
      "  AccuracyWarning)\n",
      "C:\\ProgramData\\Anaconda2\\lib\\site-packages\\scipy\\integrate\\quadrature.py:706: AccuracyWarning: divmax (10) exceeded. Latest difference = 6.859375e+01\n",
      "  AccuracyWarning)\n",
      "C:\\ProgramData\\Anaconda2\\lib\\site-packages\\scipy\\integrate\\quadrature.py:706: AccuracyWarning: divmax (10) exceeded. Latest difference = 6.934994e+01\n",
      "  AccuracyWarning)\n",
      "C:\\ProgramData\\Anaconda2\\lib\\site-packages\\scipy\\integrate\\quadrature.py:706: AccuracyWarning: divmax (10) exceeded. Latest difference = 7.016006e+01\n",
      "  AccuracyWarning)\n",
      "C:\\ProgramData\\Anaconda2\\lib\\site-packages\\scipy\\integrate\\quadrature.py:706: AccuracyWarning: divmax (10) exceeded. Latest difference = 7.053543e+01\n",
      "  AccuracyWarning)\n",
      "C:\\ProgramData\\Anaconda2\\lib\\site-packages\\scipy\\integrate\\quadrature.py:706: AccuracyWarning: divmax (10) exceeded. Latest difference = 7.087102e+01\n",
      "  AccuracyWarning)\n",
      "C:\\ProgramData\\Anaconda2\\lib\\site-packages\\scipy\\integrate\\quadrature.py:706: AccuracyWarning: divmax (10) exceeded. Latest difference = 7.051190e+01\n",
      "  AccuracyWarning)\n",
      "C:\\ProgramData\\Anaconda2\\lib\\site-packages\\scipy\\integrate\\quadrature.py:706: AccuracyWarning: divmax (10) exceeded. Latest difference = 6.998044e+01\n",
      "  AccuracyWarning)\n",
      "C:\\ProgramData\\Anaconda2\\lib\\site-packages\\scipy\\integrate\\quadrature.py:706: AccuracyWarning: divmax (10) exceeded. Latest difference = 6.852735e+01\n",
      "  AccuracyWarning)\n",
      "C:\\ProgramData\\Anaconda2\\lib\\site-packages\\scipy\\integrate\\quadrature.py:706: AccuracyWarning: divmax (10) exceeded. Latest difference = 6.683010e+01\n",
      "  AccuracyWarning)\n",
      "C:\\ProgramData\\Anaconda2\\lib\\site-packages\\scipy\\integrate\\quadrature.py:706: AccuracyWarning: divmax (10) exceeded. Latest difference = 6.428031e+01\n",
      "  AccuracyWarning)\n",
      "C:\\ProgramData\\Anaconda2\\lib\\site-packages\\scipy\\integrate\\quadrature.py:706: AccuracyWarning: divmax (10) exceeded. Latest difference = 6.156909e+01\n",
      "  AccuracyWarning)\n",
      "C:\\ProgramData\\Anaconda2\\lib\\site-packages\\scipy\\integrate\\quadrature.py:706: AccuracyWarning: divmax (10) exceeded. Latest difference = 5.840337e+01\n",
      "  AccuracyWarning)\n"
     ]
    },
    {
     "name": "stdout",
     "output_type": "stream",
     "text": [
      "\n"
     ]
    }
   ],
   "source": [
    "phase_interp = interp1d(mu, phase)\n",
    "\n",
    "def func(x, l):\n",
    "    return (2*l + 1)/2. * legendre(l)(x)*phase_interp(x)\n",
    "\n",
    "coeffs_romberg = []\n",
    "for l in tqdm_notebook(range(COFFES_NUM)):\n",
    "    coeffs_romberg.append(romberg(func, -1, 1, args=(l,), vec_func=True))"
   ]
  },
  {
   "cell_type": "code",
   "execution_count": 16,
   "metadata": {
    "collapsed": false,
    "deletable": true,
    "editable": true
   },
   "outputs": [
    {
     "data": {
      "text/plain": [
       "[<matplotlib.lines.Line2D at 0xd96b438>]"
      ]
     },
     "execution_count": 16,
     "metadata": {},
     "output_type": "execute_result"
    },
    {
     "data": {
      "image/png": "[encoded data removed]",
      "text/plain": [
       "<matplotlib.figure.Figure at 0xcfba710>"
      ]
     },
     "metadata": {},
     "output_type": "display_data"
    }
   ],
   "source": [
    "plt.plot(coeffs_romberg)"
   ]
  },
  {
   "cell_type": "code",
   "execution_count": 17,
   "metadata": {
    "collapsed": false,
    "deletable": true,
    "editable": true
   },
   "outputs": [],
   "source": [
    "mu_new = np.linspace(-1, 1, 300)\n",
    "phase_gauss = legendre(0)(mu_new) * coeffs_romberg[0]\n",
    "for l, coeff in enumerate(coeffs_romberg[1:]):\n",
    "    phase_gauss += legendre(l)(mu_new) * coeff"
   ]
  },
  {
   "cell_type": "code",
   "execution_count": 18,
   "metadata": {
    "collapsed": false,
    "deletable": true,
    "editable": true,
    "scrolled": true
   },
   "outputs": [
    {
     "data": {
      "text/plain": [
       "[<matplotlib.lines.Line2D at 0xd397be0>]"
      ]
     },
     "execution_count": 18,
     "metadata": {},
     "output_type": "execute_result"
    },
    {
     "data": {
      "image/png": "[encoded data removed]",
      "text/plain": [
       "<matplotlib.figure.Figure at 0xd97a438>"
      ]
     },
     "metadata": {},
     "output_type": "display_data"
    }
   ],
   "source": [
    "plt.semilogy(mu_new, phase_gauss)\n",
    "plt.semilogy(mu, phase, '+')"
   ]
  }
 ],
 "metadata": {
  "anaconda-cloud": {},
  "kernelspec": {
   "display_name": "Python [default]",
   "language": "python",
   "name": "python2"
  },
  "language_info": {
   "codemirror_mode": {
    "name": "ipython",
    "version": 2
   },
   "file_extension": ".py",
   "mimetype": "text/x-python",
   "name": "python",
   "nbconvert_exporter": "python",
   "pygments_lexer": "ipython2",
   "version": "2.7.12"
  },
  "widgets": {
   "state": {
    "d33c20e26e0c4e7abcd481bec5945360": {
     "views": [
      {
       "cell_index": 22
      }
     ]
    }
   },
   "version": "1.2.0"
  }
 },
 "nbformat": 4,
 "nbformat_minor": 2
}
