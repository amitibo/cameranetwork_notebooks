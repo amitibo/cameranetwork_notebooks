{
 "cells": [
  {
   "cell_type": "code",
   "execution_count": null,
   "metadata": {
    "collapsed": true
   },
   "outputs": [],
   "source": [
    "from __future__ import division\n",
    "%matplotlib inline\n",
    "\n",
    "import matplotlib\n",
    "import numpy as np\n",
    "import matplotlib.pyplot as plt\n",
    "plt.rcParams['figure.figsize'] = (16.0, 16.0)\n",
    "import cv2\n",
    "import time\n",
    "\n",
    "from mpl_toolkits.mplot3d import Axes3D"
   ]
  },
  {
   "cell_type": "code",
   "execution_count": null,
   "metadata": {
    "collapsed": false
   },
   "outputs": [],
   "source": [
    "from CameraNetwork import Gimbal\n",
    "p = Gimbal()"
   ]
  },
  {
   "cell_type": "code",
   "execution_count": null,
   "metadata": {
    "collapsed": false
   },
   "outputs": [],
   "source": [
    "import itertools\n",
    "for x, y in itertools.product(np.linspace(0, 180, 6), np.linspace(0, 180, 6)):\n",
    "    p.move(int(x), int(y))\n",
    "    time.sleep(2)"
   ]
  },
  {
   "cell_type": "code",
   "execution_count": null,
   "metadata": {
    "collapsed": true
   },
   "outputs": [],
   "source": [
    "p.move(170, 90)"
   ]
  },
  {
   "cell_type": "code",
   "execution_count": null,
   "metadata": {
    "collapsed": false
   },
   "outputs": [],
   "source": [
    "import ids"
   ]
  },
  {
   "cell_type": "code",
   "execution_count": null,
   "metadata": {
    "collapsed": true
   },
   "outputs": [],
   "source": [
    "class camera(object):\n",
    "    def __init__(self):\n",
    "        self._cam = ids.Camera(nummem=1)\n",
    "\n",
    "        self._cam.auto_white_balance = False\n",
    "        self._cam.continuous_capture = False\n",
    "        self._cam.auto_exposure = False\n",
    "        self._cam.exposure = 100    \n",
    "        self._cam.color_mode = ids.ids_core.COLOR_BAYER_8\n",
    "        self._cam.gain_boost = False\n",
    "        self._cam.gain_db = 0\n",
    "        \n",
    "    def measure(self, exposure=40, gain_db=0, average=10):\n",
    "        self._cam.exposure = exposure\n",
    "        self._cam.gain_db = gain_db\n",
    "        \n",
    "        self._cam.continuous_capture = True\n",
    "        _, _ = self._cam.next()\n",
    "        \n",
    "        imgs = []\n",
    "        for i in range(average):\n",
    "            img_array, meta_data = self._cam.next()\n",
    "            imgs.append(img_array)\n",
    "\n",
    "        self._cam.continuous_capture = False\n",
    "        \n",
    "        return np.round(np.mean(imgs, axis=0), 0).astype(np.int32)\n",
    "\n",
    "def RGBsplit(img):\n",
    "    R = np.ascontiguousarray(img[::2, ::2])\n",
    "    B = np.ascontiguousarray(img[1::2, 1::2])\n",
    "    G1 = np.ascontiguousarray(img[1::2, 0::2])\n",
    "    G2 = np.ascontiguousarray(img[0::2, 1::2])\n",
    "    \n",
    "    return R, ((G1+G2)/2).astype(R.dtype), B\n",
    "\n",
    "\n",
    "def findSpot(img, threshold=10):\n",
    "    \"\"\"Returns (height, x, y, width_x, width_y)\n",
    "    the gaussian parameters of a 2D distribution by calculating its\n",
    "    moments\"\"\"\n",
    "    \n",
    "    img_filt = img.copy().astype(np.float)\n",
    "    img_filt[img<threshold] = 0\n",
    "    \n",
    "    total = img_filt.sum()\n",
    "    Y, X = np.indices(img.shape)\n",
    "    \n",
    "    x = (X*img_filt).sum()/total\n",
    "    y = (Y*img_filt).sum()/total\n",
    "    \n",
    "    #col = data[:, int(y)]\n",
    "    #width_x = np.sqrt(np.abs((np.arange(col.size)-y)**2*col).sum()/col.sum())\n",
    "    #row = data[int(x), :]\n",
    "    #width_y = np.sqrt(np.abs((np.arange(row.size)-x)**2*row).sum()/row.sum())\n",
    "    \n",
    "    R, G, B = RGBsplit(img_filt)\n",
    "    \n",
    "    return int(x), int(y), R.sum()/(R>0).sum(), G.sum()/(G>0).sum(), B.sum()/(B>0).sum()"
   ]
  },
  {
   "cell_type": "code",
   "execution_count": null,
   "metadata": {
    "collapsed": false
   },
   "outputs": [],
   "source": [
    "try:\n",
    "    del cam\n",
    "    time.sleep(5)\n",
    "except:\n",
    "    pass\n",
    "cam = camera()"
   ]
  },
  {
   "cell_type": "code",
   "execution_count": null,
   "metadata": {
    "collapsed": false
   },
   "outputs": [],
   "source": [
    "img = cam.measure()\n",
    "#findSpot(img)"
   ]
  },
  {
   "cell_type": "code",
   "execution_count": null,
   "metadata": {
    "collapsed": true
   },
   "outputs": [],
   "source": [
    "i = img[1:100:2, 751:850:2]"
   ]
  },
  {
   "cell_type": "code",
   "execution_count": null,
   "metadata": {
    "collapsed": true
   },
   "outputs": [],
   "source": [
    "def RGBsplit(img):\n",
    "    R = np.ascontiguousarray(img[::2, ::2])\n",
    "    B = np.ascontiguousarray(img[1::2, 1::2])\n",
    "    G1 = np.ascontiguousarray(img[1::2, 0::2])\n",
    "    G2 = np.ascontiguousarray(img[0::2, 1::2])\n",
    "    \n",
    "    return R, ((G1+G2)/2).astype(R.dtype), B\n",
    "\n",
    "\n",
    "def meanColor(c):\n",
    "    \n",
    "    nnz_total = (c>0).sum()\n",
    "    if nnz_total == 0:\n",
    "        return 0\n",
    "    \n",
    "    return c.sum()/nnz_total"
   ]
  },
  {
   "cell_type": "code",
   "execution_count": null,
   "metadata": {
    "collapsed": true
   },
   "outputs": [],
   "source": [
    "p.move(170, 90)\n",
    "time.sleep(1)\n",
    "img = cam.measure()"
   ]
  },
  {
   "cell_type": "code",
   "execution_count": null,
   "metadata": {
    "collapsed": false
   },
   "outputs": [],
   "source": [
    "threshold = img.max()/2\n",
    "kernel = np.ones((3, 3),np.uint8)\n",
    "mask = (img>threshold)\n",
    "mask = cv2.dilate(mask.astype(np.uint8), kernel)    \n",
    "#mask = cv2.erode(mask.astype(np.uint8), kernel)    \n",
    "img_filt = img.astype(np.float) * mask\n",
    "\n",
    "print [meanColor(c) for c in RGBsplit(img_filt)]\n",
    "plt.imshow(img_filt[61:100:2, 791:850:2], interpolation='nearest')"
   ]
  },
  {
   "cell_type": "code",
   "execution_count": null,
   "metadata": {
    "collapsed": false
   },
   "outputs": [],
   "source": [
    "mask = (img>threshold)\n",
    "mask = cv2.dilate(mask.astype(np.uint8), kernel)    \n",
    "mask = cv2.erode(mask.astype(np.uint8), kernel, iterations=2)    \n",
    "img_filt = img.astype(np.float) * mask\n",
    "plt.imshow(img_filt[61:100:2, 791:850:2], interpolation='nearest')\n",
    "print [meanColor(c) for c in RGBsplit(img_filt)]"
   ]
  },
  {
   "cell_type": "code",
   "execution_count": null,
   "metadata": {
    "collapsed": true
   },
   "outputs": [],
   "source": [
    "p.move(90, 90)\n",
    "time.sleep(1)\n",
    "img = cam.measure()"
   ]
  },
  {
   "cell_type": "code",
   "execution_count": null,
   "metadata": {
    "collapsed": false
   },
   "outputs": [],
   "source": [
    "threshold = img.max()/2\n",
    "kernel = np.ones((3, 3),np.uint8)\n",
    "mask = (img>threshold)\n",
    "mask = cv2.dilate(mask.astype(np.uint8), kernel)    \n",
    "#mask = cv2.erode(mask.astype(np.uint8), kernel)    \n",
    "img_filt = img.astype(np.float) * mask\n",
    "\n",
    "print [meanColor(c) for c in RGBsplit(img_filt)]\n",
    "plt.imshow(img_filt[601:700:2,801:900:2], interpolation='nearest')\n",
    "#plt.imshow(img_filt[61:100:2, 791:850:2], interpolation='nearest')"
   ]
  },
  {
   "cell_type": "code",
   "execution_count": null,
   "metadata": {
    "collapsed": false
   },
   "outputs": [],
   "source": [
    "mask = (img>threshold)\n",
    "mask = cv2.dilate(mask.astype(np.uint8), kernel)    \n",
    "mask = cv2.erode(mask.astype(np.uint8), kernel, iterations=2)    \n",
    "img_filt = img.astype(np.float) * mask\n",
    "plt.imshow(img_filt[601:700:2,801:900:2], interpolation='nearest')\n",
    "print [meanColor(c) for c in RGBsplit(img_filt)]"
   ]
  },
  {
   "cell_type": "code",
   "execution_count": null,
   "metadata": {
    "collapsed": true
   },
   "outputs": [],
   "source": [
    "from scipy import interpolate"
   ]
  },
  {
   "cell_type": "code",
   "execution_count": null,
   "metadata": {
    "collapsed": false
   },
   "outputs": [],
   "source": [
    "img_rgb = np.load(r'C:\\Users\\amitibo\\Documents\\code\\cameranetwork\\scripts_calibrate\\test.npy')\n",
    "#img = img[1::2, ::2]"
   ]
  },
  {
   "cell_type": "code",
   "execution_count": null,
   "metadata": {
    "collapsed": false
   },
   "outputs": [],
   "source": [
    "img = img_rgb[..., 2]\n",
    "y, x = np.nonzero(img)\n",
    "z = img[np.nonzero(img)]"
   ]
  },
  {
   "cell_type": "code",
   "execution_count": null,
   "metadata": {
    "collapsed": false,
    "scrolled": true
   },
   "outputs": [],
   "source": [
    "plt.scatter(x, y, s=z)"
   ]
  },
  {
   "cell_type": "code",
   "execution_count": null,
   "metadata": {
    "collapsed": false
   },
   "outputs": [],
   "source": [
    "%matplotlib qt\n",
    "fig = plt.figure()\n",
    "ax = fig.add_subplot(111, projection='3d')\n",
    "ax.scatter(x_, y_, z_)"
   ]
  },
  {
   "cell_type": "code",
   "execution_count": null,
   "metadata": {
    "collapsed": true
   },
   "outputs": [],
   "source": [
    "%matplotlib inline"
   ]
  },
  {
   "cell_type": "code",
   "execution_count": null,
   "metadata": {
    "collapsed": true
   },
   "outputs": [],
   "source": [
    "thresh = 150\n",
    "x_ = x[z>thresh]\n",
    "y_ = y[z>thresh]\n",
    "z_ = z[z>thresh]"
   ]
  },
  {
   "cell_type": "code",
   "execution_count": null,
   "metadata": {
    "collapsed": true
   },
   "outputs": [],
   "source": [
    "from numpy.polynomial import polynomial\n",
    "def polyfit2d(x, y, f, deg):\n",
    "    x = np.asarray(x)\n",
    "    y = np.asarray(y)\n",
    "    f = np.asarray(f)\n",
    "    deg = np.asarray(deg)\n",
    "    vander = polynomial.polyvander2d(x, y, deg)\n",
    "    vander = vander.reshape((-1,vander.shape[-1]))\n",
    "    f = f.reshape((vander.shape[0],))\n",
    "    c = np.linalg.lstsq(vander, f)[0]\n",
    "    return c.reshape(deg+1)"
   ]
  },
  {
   "cell_type": "code",
   "execution_count": null,
   "metadata": {
    "collapsed": false
   },
   "outputs": [],
   "source": [
    "c = polyfit2d(x_, y_, z_, [2, 2])"
   ]
  },
  {
   "cell_type": "code",
   "execution_count": null,
   "metadata": {
    "collapsed": false
   },
   "outputs": [],
   "source": [
    "Y, X = np.mgrid[0:1200, 0:1600]\n",
    "f = polynomial.polyval2d(X, Y, c)"
   ]
  },
  {
   "cell_type": "code",
   "execution_count": null,
   "metadata": {
    "collapsed": false
   },
   "outputs": [],
   "source": [
    "znew = np.clip(f, 0, 10000)\n",
    "plt.imshow(znew, cmap='gray')"
   ]
  },
  {
   "cell_type": "code",
   "execution_count": null,
   "metadata": {
    "collapsed": false
   },
   "outputs": [],
   "source": [
    "Y, X = np.mgrid[0:1200:10, 0:1600:10]\n",
    "f = polynomial.polyval2d(X, Y, c)\n",
    "znew = np.clip(f, 9, 1000)\n",
    "%matplotlib qt\n",
    "fig = plt.figure()\n",
    "ax = fig.add_subplot(111, projection='3d')\n",
    "ax.plot_surface(X, Y, znew)\n",
    "ax.scatter(x, y, z)"
   ]
  },
  {
   "cell_type": "code",
   "execution_count": null,
   "metadata": {
    "collapsed": false
   },
   "outputs": [],
   "source": [
    "p.move(50, 90)"
   ]
  },
  {
   "cell_type": "code",
   "execution_count": null,
   "metadata": {
    "collapsed": true
   },
   "outputs": [],
   "source": [
    "%matplotlib inline"
   ]
  },
  {
   "cell_type": "code",
   "execution_count": null,
   "metadata": {
    "collapsed": false
   },
   "outputs": [],
   "source": [
    "z_estim = polynomial.polyval2d(x, y, c)\n",
    "znew = np.clip(f, 9, 1000)\n",
    "%matplotlib qt\n",
    "fig = plt.figure()\n",
    "ax = fig.add_subplot(111, projection='3d')\n",
    "ax.scatter(x, y, z-z_estim)"
   ]
  },
  {
   "cell_type": "code",
   "execution_count": null,
   "metadata": {
    "collapsed": false
   },
   "outputs": [],
   "source": [
    "z.shape"
   ]
  },
  {
   "cell_type": "code",
   "execution_count": null,
   "metadata": {
    "collapsed": false
   },
   "outputs": [],
   "source": [
    "znew.shape"
   ]
  },
  {
   "cell_type": "code",
   "execution_count": null,
   "metadata": {
    "collapsed": false
   },
   "outputs": [],
   "source": [
    "x.shape"
   ]
  },
  {
   "cell_type": "code",
   "execution_count": null,
   "metadata": {
    "collapsed": true
   },
   "outputs": [],
   "source": []
  }
 ],
 "metadata": {
  "kernelspec": {
   "display_name": "Python [default]",
   "language": "python",
   "name": "python2"
  },
  "language_info": {
   "codemirror_mode": {
    "name": "ipython",
    "version": 2
   },
   "file_extension": ".py",
   "mimetype": "text/x-python",
   "name": "python",
   "nbconvert_exporter": "python",
   "pygments_lexer": "ipython2",
   "version": "2.7.12"
  }
 },
 "nbformat": 4,
 "nbformat_minor": 0
}
