{
 "cells": [
  {
   "cell_type": "markdown",
   "metadata": {},
   "source": [
    "# Sunphotometer Analysis from the 19th May"
   ]
  },
  {
   "cell_type": "code",
   "execution_count": 1,
   "metadata": {},
   "outputs": [],
   "source": [
    "from __future__ import division\n",
    "%matplotlib inline\n",
    "import cPickle\n",
    "import datetime\n",
    "from dateutil import parser\n",
    "import itertools\n",
    "import math\n",
    "import matplotlib.pyplot as plt\n",
    "plt.rcParams['figure.figsize'] = (8.0, 8.0)\n",
    "import numpy as np\n",
    "import os\n",
    "import pandas as pd\n",
    "from scipy.integrate import quadrature, romberg, quad, fixed_quad\n",
    "from scipy.interpolate import interp1d\n",
    "from scipy.special import legendre\n",
    "from tqdm import tqdm_notebook\n",
    "\n",
    "from IPython.display import Image\n",
    "from IPython.core.display import HTML "
   ]
  },
  {
   "cell_type": "markdown",
   "metadata": {},
   "source": [
    "## Set the Target Time/Date And Wavelength"
   ]
  },
  {
   "cell_type": "code",
   "execution_count": 2,
   "metadata": {},
   "outputs": [
    {
     "data": {
      "text/html": [
       "<img src=\"https://aeronet.gsfc.nasa.gov/cgi-bin/draw_new_oleg_v2?site=Technion_Haifa_IL&year=25&month=4&day=18&product=7&level=2&type=0&if_day=0&if_err=0&inv=1\"/>"
      ],
      "text/plain": [
       "<IPython.core.display.Image object>"
      ]
     },
     "execution_count": 2,
     "metadata": {},
     "output_type": "execute_result"
    }
   ],
   "source": [
    "Image(url= \"https://aeronet.gsfc.nasa.gov/cgi-bin/draw_new_oleg_v2?site=Technion_Haifa_IL&year=25&month=4&day=18&product=7&level=2&type=0&if_day=0&if_err=0&inv=1\")"
   ]
  },
  {
   "cell_type": "code",
   "execution_count": 4,
   "metadata": {},
   "outputs": [],
   "source": [
    "TIME = pd.datetime(2017, 5, 19, 12, 45, 0)\n",
    "WAVELENGTH = 670"
   ]
  },
  {
   "cell_type": "markdown",
   "metadata": {},
   "source": [
    "# Load the sunphotometer data"
   ]
  },
  {
   "cell_type": "markdown",
   "metadata": {},
   "source": [
    "## Load the phasefunction"
   ]
  },
  {
   "cell_type": "markdown",
   "metadata": {},
   "source": [
    "The data is loaded from the sunphotometer logs. Note that new values are interpolated for TIME and WAVELENGTH. I use the \"pchip\" interpolation method as it is more conservative."
   ]
  },
  {
   "cell_type": "code",
   "execution_count": 6,
   "metadata": {},
   "outputs": [],
   "source": [
    "def dateparse(d, t):\n",
    "    return pd.datetime.strptime(d+' '+t, '%d:%m:%Y %H:%M:%S')\n",
    "\n",
    "def parsePhaseFunction(path, usecols):\n",
    "    \"\"\"Parse the sunphotometer Phase Function data.\"\"\"\n",
    "\n",
    "    df = pd.read_csv(\n",
    "        path,\n",
    "        skiprows=3,\n",
    "        header=0,\n",
    "        parse_dates=[[0, 1]],\n",
    "        date_parser=dateparse,\n",
    "        index_col=0,\n",
    "        usecols=usecols\n",
    "    )\n",
    "\n",
    "    wavelengths = [float(i.split(\"[\")[0]) for i in df.columns]\n",
    "    df = df.rename(columns=dict(itertools.izip(df.columns, wavelengths)))\n",
    "    df.index.rename(\"datetime\", inplace=True)\n",
    "    \n",
    "    new_row = pd.Series(name=TIME, data=[None]*len(df.columns), index=df.columns)\n",
    "    df = df.append(new_row)\n",
    "    df = df.sort_index().interpolate(method=\"pchip\")\n",
    "\n",
    "    return df, wavelengths\n",
    "\n",
    "pfn_path = r\"../../../data/aeronet/2017_05/170519_170519_Technion_Haifa_IL.pfn\"\n",
    "df_441, wavelengths = parsePhaseFunction(\n",
    "    pfn_path,\n",
    "    usecols=[0, 1]+list(range(3, 86))\n",
    ")\n",
    "df_674, wavelengths = parsePhaseFunction(\n",
    "    pfn_path,\n",
    "    usecols=[0, 1]+list(range(86, 169))\n",
    ")\n",
    "df_871, wavelengths = parsePhaseFunction(\n",
    "    pfn_path,\n",
    "    usecols=[0, 1]+list(range(169, 252))\n",
    ")\n",
    "df_1020, wavelengths = parsePhaseFunction(\n",
    "    pfn_path,\n",
    "    usecols=[0, 1]+list(range(252, 335))\n",
    ")"
   ]
  },
  {
   "cell_type": "code",
   "execution_count": 7,
   "metadata": {},
   "outputs": [],
   "source": [
    "series = [pd.Series(d.loc[TIME], name=n) for d, n in zip((df_441, df_674, df_871, df_1020), (441., 674., 871., 1020.))]\n",
    "df_phf = pd.concat(series, axis=1).T\n",
    "new_row = pd.Series(name=WAVELENGTH, data=[None]*len(df_phf.columns), index=df_phf.columns)\n",
    "df_phf = df_phf.append(new_row).sort_index().interpolate(method=\"pchip\")"
   ]
  },
  {
   "cell_type": "code",
   "execution_count": 8,
   "metadata": {},
   "outputs": [
    {
     "data": {
      "text/html": [
       "<div>\n",
       "<table border=\"1\" class=\"dataframe\">\n",
       "  <thead>\n",
       "    <tr style=\"text-align: right;\">\n",
       "      <th></th>\n",
       "      <th>0.0</th>\n",
       "      <th>1.71</th>\n",
       "      <th>3.93</th>\n",
       "      <th>6.16</th>\n",
       "      <th>8.39</th>\n",
       "      <th>10.63</th>\n",
       "      <th>12.86</th>\n",
       "      <th>15.1</th>\n",
       "      <th>17.33</th>\n",
       "      <th>19.57</th>\n",
       "      <th>...</th>\n",
       "      <th>160.43</th>\n",
       "      <th>162.67</th>\n",
       "      <th>164.9</th>\n",
       "      <th>167.14</th>\n",
       "      <th>169.37</th>\n",
       "      <th>171.61</th>\n",
       "      <th>173.84</th>\n",
       "      <th>176.07</th>\n",
       "      <th>178.29</th>\n",
       "      <th>180.0</th>\n",
       "    </tr>\n",
       "  </thead>\n",
       "  <tbody>\n",
       "    <tr>\n",
       "      <th>441.0</th>\n",
       "      <td>339.909458</td>\n",
       "      <td>138.185369</td>\n",
       "      <td>48.394747</td>\n",
       "      <td>24.194448</td>\n",
       "      <td>14.972271</td>\n",
       "      <td>10.612474</td>\n",
       "      <td>8.231172</td>\n",
       "      <td>6.738194</td>\n",
       "      <td>5.718091</td>\n",
       "      <td>4.954464</td>\n",
       "      <td>...</td>\n",
       "      <td>0.143112</td>\n",
       "      <td>0.145878</td>\n",
       "      <td>0.149303</td>\n",
       "      <td>0.153707</td>\n",
       "      <td>0.159617</td>\n",
       "      <td>0.167503</td>\n",
       "      <td>0.178245</td>\n",
       "      <td>0.191668</td>\n",
       "      <td>0.201843</td>\n",
       "      <td>0.205030</td>\n",
       "    </tr>\n",
       "    <tr>\n",
       "      <th>670.0</th>\n",
       "      <td>206.994286</td>\n",
       "      <td>123.775807</td>\n",
       "      <td>54.380369</td>\n",
       "      <td>29.129960</td>\n",
       "      <td>18.147292</td>\n",
       "      <td>12.495406</td>\n",
       "      <td>9.249450</td>\n",
       "      <td>7.200240</td>\n",
       "      <td>5.835726</td>\n",
       "      <td>4.863694</td>\n",
       "      <td>...</td>\n",
       "      <td>0.175100</td>\n",
       "      <td>0.177759</td>\n",
       "      <td>0.181385</td>\n",
       "      <td>0.186706</td>\n",
       "      <td>0.194636</td>\n",
       "      <td>0.205917</td>\n",
       "      <td>0.221270</td>\n",
       "      <td>0.239286</td>\n",
       "      <td>0.252055</td>\n",
       "      <td>0.255746</td>\n",
       "    </tr>\n",
       "    <tr>\n",
       "      <th>674.0</th>\n",
       "      <td>205.411322</td>\n",
       "      <td>123.464860</td>\n",
       "      <td>54.382772</td>\n",
       "      <td>29.175699</td>\n",
       "      <td>18.188202</td>\n",
       "      <td>12.524735</td>\n",
       "      <td>9.268252</td>\n",
       "      <td>7.210675</td>\n",
       "      <td>5.839220</td>\n",
       "      <td>4.863693</td>\n",
       "      <td>...</td>\n",
       "      <td>0.175114</td>\n",
       "      <td>0.177773</td>\n",
       "      <td>0.181409</td>\n",
       "      <td>0.186765</td>\n",
       "      <td>0.194744</td>\n",
       "      <td>0.206082</td>\n",
       "      <td>0.221480</td>\n",
       "      <td>0.239506</td>\n",
       "      <td>0.252254</td>\n",
       "      <td>0.255931</td>\n",
       "    </tr>\n",
       "    <tr>\n",
       "      <th>871.0</th>\n",
       "      <td>146.175620</td>\n",
       "      <td>103.779454</td>\n",
       "      <td>53.541490</td>\n",
       "      <td>30.699537</td>\n",
       "      <td>19.788789</td>\n",
       "      <td>13.831875</td>\n",
       "      <td>10.247730</td>\n",
       "      <td>7.919688</td>\n",
       "      <td>6.331940</td>\n",
       "      <td>5.194096</td>\n",
       "      <td>...</td>\n",
       "      <td>0.174939</td>\n",
       "      <td>0.177632</td>\n",
       "      <td>0.181691</td>\n",
       "      <td>0.187992</td>\n",
       "      <td>0.197383</td>\n",
       "      <td>0.210434</td>\n",
       "      <td>0.227227</td>\n",
       "      <td>0.245419</td>\n",
       "      <td>0.257409</td>\n",
       "      <td>0.260614</td>\n",
       "    </tr>\n",
       "    <tr>\n",
       "      <th>1020.0</th>\n",
       "      <td>115.647862</td>\n",
       "      <td>89.179645</td>\n",
       "      <td>50.897350</td>\n",
       "      <td>30.634768</td>\n",
       "      <td>20.305881</td>\n",
       "      <td>14.460886</td>\n",
       "      <td>10.834684</td>\n",
       "      <td>8.431603</td>\n",
       "      <td>6.758010</td>\n",
       "      <td>5.534278</td>\n",
       "      <td>...</td>\n",
       "      <td>0.168835</td>\n",
       "      <td>0.171462</td>\n",
       "      <td>0.175624</td>\n",
       "      <td>0.182261</td>\n",
       "      <td>0.192207</td>\n",
       "      <td>0.205900</td>\n",
       "      <td>0.223144</td>\n",
       "      <td>0.241236</td>\n",
       "      <td>0.252813</td>\n",
       "      <td>0.255855</td>\n",
       "    </tr>\n",
       "  </tbody>\n",
       "</table>\n",
       "<p>5 rows × 83 columns</p>\n",
       "</div>"
      ],
      "text/plain": [
       "            0.00        1.71       3.93       6.16       8.39       10.63   \\\n",
       "441.0   339.909458  138.185369  48.394747  24.194448  14.972271  10.612474   \n",
       "670.0   206.994286  123.775807  54.380369  29.129960  18.147292  12.495406   \n",
       "674.0   205.411322  123.464860  54.382772  29.175699  18.188202  12.524735   \n",
       "871.0   146.175620  103.779454  53.541490  30.699537  19.788789  13.831875   \n",
       "1020.0  115.647862   89.179645  50.897350  30.634768  20.305881  14.460886   \n",
       "\n",
       "           12.86     15.10     17.33     19.57     ...       160.43    162.67  \\\n",
       "441.0    8.231172  6.738194  5.718091  4.954464    ...     0.143112  0.145878   \n",
       "670.0    9.249450  7.200240  5.835726  4.863694    ...     0.175100  0.177759   \n",
       "674.0    9.268252  7.210675  5.839220  4.863693    ...     0.175114  0.177773   \n",
       "871.0   10.247730  7.919688  6.331940  5.194096    ...     0.174939  0.177632   \n",
       "1020.0  10.834684  8.431603  6.758010  5.534278    ...     0.168835  0.171462   \n",
       "\n",
       "          164.90    167.14    169.37    171.61    173.84    176.07    178.29  \\\n",
       "441.0   0.149303  0.153707  0.159617  0.167503  0.178245  0.191668  0.201843   \n",
       "670.0   0.181385  0.186706  0.194636  0.205917  0.221270  0.239286  0.252055   \n",
       "674.0   0.181409  0.186765  0.194744  0.206082  0.221480  0.239506  0.252254   \n",
       "871.0   0.181691  0.187992  0.197383  0.210434  0.227227  0.245419  0.257409   \n",
       "1020.0  0.175624  0.182261  0.192207  0.205900  0.223144  0.241236  0.252813   \n",
       "\n",
       "          180.00  \n",
       "441.0   0.205030  \n",
       "670.0   0.255746  \n",
       "674.0   0.255931  \n",
       "871.0   0.260614  \n",
       "1020.0  0.255855  \n",
       "\n",
       "[5 rows x 83 columns]"
      ]
     },
     "execution_count": 8,
     "metadata": {},
     "output_type": "execute_result"
    }
   ],
   "source": [
    "df_phf.head()"
   ]
  },
  {
   "cell_type": "code",
   "execution_count": 9,
   "metadata": {},
   "outputs": [
    {
     "data": {
      "text/plain": [
       "<matplotlib.axes._subplots.AxesSubplot at 0x7f7a3db5be50>"
      ]
     },
     "execution_count": 9,
     "metadata": {},
     "output_type": "execute_result"
    },
    {
     "data": {
      "image/png": "[encoded data removed]",
      "text/plain": [
       "<matplotlib.figure.Figure at 0x7f7a3db334d0>"
      ]
     },
     "metadata": {},
     "output_type": "display_data"
    }
   ],
   "source": [
    "df_phf.T.plot(logy=True)"
   ]
  },
  {
   "cell_type": "markdown",
   "metadata": {},
   "source": [
    "## Load the Single-Scatter Albedo"
   ]
  },
  {
   "cell_type": "code",
   "execution_count": 10,
   "metadata": {},
   "outputs": [],
   "source": [
    "def parseSSA(path):\n",
    "    \"\"\"Parse the sunphotometer SSA data.\"\"\"\n",
    "\n",
    "    df = pd.read_csv(\n",
    "        path,\n",
    "        skiprows=3,\n",
    "        header=0,\n",
    "        parse_dates=[[0, 1]],\n",
    "        date_parser=dateparse,\n",
    "        index_col=0,\n",
    "        usecols=[0, 1]+list(range(3, 7))\n",
    "    )\n",
    "\n",
    "    wavelengths = [float(i[3:-2]) for i in df.columns]\n",
    "    df = df.rename(columns=dict(itertools.izip(df.columns, wavelengths)))\n",
    "    df.index.rename(\"datetime\", inplace=True)\n",
    "    \n",
    "    new_row = pd.Series(name=TIME, data=[None]*len(df.columns), index=df.columns)\n",
    "    df = df.append(new_row)\n",
    "    df = df.sort_index().interpolate(method=\"pchip\")\n",
    "\n",
    "    return df\n",
    "\n",
    "ssa_path = r\"../../../data/aeronet/2017_05/170519_170519_Technion_Haifa_IL.ssa\"\n",
    "\n",
    "df_ssa = parseSSA(ssa_path)"
   ]
  },
  {
   "cell_type": "markdown",
   "metadata": {},
   "source": [
    "### Interpolate by wavelength"
   ]
  },
  {
   "cell_type": "code",
   "execution_count": 11,
   "metadata": {},
   "outputs": [],
   "source": [
    "new_row = pd.Series(name=WAVELENGTH, data=[None]*len(df_ssa.T.columns), index=df_ssa.T.columns)\n",
    "\n",
    "df_ssa = df_ssa.T.append(new_row).sort_index().interpolate(method=\"pchip\")"
   ]
  },
  {
   "cell_type": "code",
   "execution_count": 12,
   "metadata": {},
   "outputs": [
    {
     "data": {
      "text/plain": [
       "<matplotlib.axes._subplots.AxesSubplot at 0x7f7a3b68fbd0>"
      ]
     },
     "execution_count": 12,
     "metadata": {},
     "output_type": "execute_result"
    },
    {
     "data": {
      "image/png": "[encoded data removed]",
      "text/plain": [
       "<matplotlib.figure.Figure at 0x7f7a3b689990>"
      ]
     },
     "metadata": {},
     "output_type": "display_data"
    }
   ],
   "source": [
    "df_ssa.T.loc[TIME].T.plot()"
   ]
  },
  {
   "cell_type": "code",
   "execution_count": 13,
   "metadata": {},
   "outputs": [
    {
     "data": {
      "text/plain": [
       "0.85094748385794561"
      ]
     },
     "execution_count": 13,
     "metadata": {},
     "output_type": "execute_result"
    }
   ],
   "source": [
    "df_ssa.loc[WAVELENGTH][TIME]"
   ]
  },
  {
   "cell_type": "markdown",
   "metadata": {},
   "source": [
    "## Load the AOD"
   ]
  },
  {
   "cell_type": "code",
   "execution_count": 15,
   "metadata": {},
   "outputs": [],
   "source": [
    "def parseAOD(path):\n",
    "    \"\"\"Parse the sunphotometer AOD data.\"\"\"\n",
    "\n",
    "    df = pd.read_csv(\n",
    "        path,\n",
    "        skiprows=4,\n",
    "        header=0,\n",
    "        parse_dates=[[0, 1]],\n",
    "        date_parser=dateparse,\n",
    "        index_col=0,\n",
    "        usecols=[0, 1]+list(range(3, 14))\n",
    "    )\n",
    "\n",
    "    df.index.rename(\"datetime\", inplace=True)\n",
    "    \n",
    "    new_row = pd.Series(name=TIME, data=[None]*len(df.columns), index=df.columns)\n",
    "    df = df.append(new_row)\n",
    "    df = df.sort_index().interpolate(method=\"pchip\")\n",
    "\n",
    "    return df\n",
    "\n",
    "aod_path = r\"../../../data/aeronet/2017_05/170519_170519_Technion_Haifa_IL.lev15\"\n",
    "\n",
    "df_aod = parseAOD(aod_path)"
   ]
  },
  {
   "cell_type": "code",
   "execution_count": 16,
   "metadata": {},
   "outputs": [
    {
     "data": {
      "text/plain": [
       "<matplotlib.axes._subplots.AxesSubplot at 0x7f7a5e40d850>"
      ]
     },
     "execution_count": 16,
     "metadata": {},
     "output_type": "execute_result"
    },
    {
     "data": {
      "image/png": "[encoded data removed]",
      "text/plain": [
       "<matplotlib.figure.Figure at 0x7f7a90616210>"
      ]
     },
     "metadata": {},
     "output_type": "display_data"
    }
   ],
   "source": [
    "df_aod.plot()"
   ]
  },
  {
   "cell_type": "code",
   "execution_count": 17,
   "metadata": {},
   "outputs": [
    {
     "data": {
      "text/plain": [
       "0.10834902412946396"
      ]
     },
     "execution_count": 17,
     "metadata": {},
     "output_type": "execute_result"
    }
   ],
   "source": [
    "df_aod.AOT_675[TIME]"
   ]
  },
  {
   "cell_type": "markdown",
   "metadata": {},
   "source": [
    "# Calculate the Legndre Coefficients"
   ]
  },
  {
   "cell_type": "markdown",
   "metadata": {},
   "source": [
    "The (intensity) phase function is conventionally normalized as follows\n",
    "\n",
    "$$\\int_0^{2\\pi} \\int_0^\\pi P(\\Theta) \\sin(\\Theta) d\\Theta d\\phi = 4 \\pi$$\n",
    "\n",
    "Which is equivalent to\n",
    "\n",
    "$$\\int_{-1}^1 P(\\cos{\\Theta}) d(\\cos{\\Theta}) = 2$$\n",
    "\n",
    "Integrating the phase function from the sunphotometer gives:"
   ]
  },
  {
   "cell_type": "markdown",
   "metadata": {},
   "source": [
    "# Calculate the Legendre Coefficients"
   ]
  },
  {
   "cell_type": "markdown",
   "metadata": {},
   "source": [
    "## Use quadrature integration"
   ]
  },
  {
   "cell_type": "markdown",
   "metadata": {},
   "source": [
    "Note I am using linear interpolation. The reason is that higher order interpolation creates artifacts, probably due to the high directionality of the phase function."
   ]
  },
  {
   "cell_type": "code",
   "execution_count": 18,
   "metadata": {},
   "outputs": [],
   "source": [
    "COFFES_NUM = 300"
   ]
  },
  {
   "cell_type": "code",
   "execution_count": 19,
   "metadata": {},
   "outputs": [],
   "source": [
    "mu = np.cos(np.radians(wavelengths[::-1]))\n",
    "phase = df_phf.loc[WAVELENGTH].values[::-1]\n",
    "\n",
    "phase_interp = interp1d(mu, phase, kind=1)\n",
    "\n",
    "def func(x, l, lg):\n",
    "    return (2*l + 1)/2. * lg(x)*phase_interp(x)"
   ]
  },
  {
   "cell_type": "code",
   "execution_count": 20,
   "metadata": {
    "scrolled": true
   },
   "outputs": [
    {
     "data": {
      "application/vnd.jupyter.widget-view+json": {
       "model_id": "3e093add2efe4b2f9b68923bbb3b01e3",
       "version_major": 2,
       "version_minor": 0
      },
      "text/plain": [
       "A Jupyter Widget"
      ]
     },
     "metadata": {},
     "output_type": "display_data"
    },
    {
     "name": "stderr",
     "output_type": "stream",
     "text": [
      "/home/amitibo/anaconda2/lib/python2.7/site-packages/scipy/integrate/quadrature.py:199: AccuracyWarning: maxiter (1000) exceeded. Latest difference = 1.023479e-05\n",
      "  AccuracyWarning)\n",
      "/home/amitibo/anaconda2/lib/python2.7/site-packages/scipy/integrate/quadrature.py:199: AccuracyWarning: maxiter (1000) exceeded. Latest difference = 1.698717e-05\n",
      "  AccuracyWarning)\n",
      "/home/amitibo/anaconda2/lib/python2.7/site-packages/scipy/integrate/quadrature.py:199: AccuracyWarning: maxiter (1000) exceeded. Latest difference = 2.354532e-05\n",
      "  AccuracyWarning)\n",
      "/home/amitibo/anaconda2/lib/python2.7/site-packages/scipy/integrate/quadrature.py:199: AccuracyWarning: maxiter (1000) exceeded. Latest difference = 2.983464e-05\n",
      "  AccuracyWarning)\n",
      "/home/amitibo/anaconda2/lib/python2.7/site-packages/scipy/integrate/quadrature.py:199: AccuracyWarning: maxiter (1000) exceeded. Latest difference = 3.597782e-05\n",
      "  AccuracyWarning)\n",
      "/home/amitibo/anaconda2/lib/python2.7/site-packages/scipy/integrate/quadrature.py:199: AccuracyWarning: maxiter (1000) exceeded. Latest difference = 4.206775e-05\n",
      "  AccuracyWarning)\n",
      "/home/amitibo/anaconda2/lib/python2.7/site-packages/scipy/integrate/quadrature.py:199: AccuracyWarning: maxiter (1000) exceeded. Latest difference = 4.821473e-05\n",
      "  AccuracyWarning)\n",
      "/home/amitibo/anaconda2/lib/python2.7/site-packages/scipy/integrate/quadrature.py:199: AccuracyWarning: maxiter (1000) exceeded. Latest difference = 5.420994e-05\n",
      "  AccuracyWarning)\n",
      "/home/amitibo/anaconda2/lib/python2.7/site-packages/scipy/integrate/quadrature.py:199: AccuracyWarning: maxiter (1000) exceeded. Latest difference = 6.003084e-05\n",
      "  AccuracyWarning)\n",
      "/home/amitibo/anaconda2/lib/python2.7/site-packages/scipy/integrate/quadrature.py:199: AccuracyWarning: maxiter (1000) exceeded. Latest difference = 7.580151e-05\n",
      "  AccuracyWarning)\n",
      "/home/amitibo/anaconda2/lib/python2.7/site-packages/scipy/integrate/quadrature.py:199: AccuracyWarning: maxiter (1000) exceeded. Latest difference = 7.988901e-05\n",
      "  AccuracyWarning)\n",
      "/home/amitibo/anaconda2/lib/python2.7/site-packages/scipy/integrate/quadrature.py:199: AccuracyWarning: maxiter (1000) exceeded. Latest difference = 8.328466e-05\n",
      "  AccuracyWarning)\n",
      "/home/amitibo/anaconda2/lib/python2.7/site-packages/scipy/integrate/quadrature.py:199: AccuracyWarning: maxiter (1000) exceeded. Latest difference = 8.631681e-05\n",
      "  AccuracyWarning)\n",
      "/home/amitibo/anaconda2/lib/python2.7/site-packages/scipy/integrate/quadrature.py:199: AccuracyWarning: maxiter (1000) exceeded. Latest difference = 8.896517e-05\n",
      "  AccuracyWarning)\n",
      "/home/amitibo/anaconda2/lib/python2.7/site-packages/scipy/integrate/quadrature.py:199: AccuracyWarning: maxiter (1000) exceeded. Latest difference = 9.129947e-05\n",
      "  AccuracyWarning)\n",
      "/home/amitibo/anaconda2/lib/python2.7/site-packages/scipy/integrate/quadrature.py:199: AccuracyWarning: maxiter (1000) exceeded. Latest difference = 9.333043e-05\n",
      "  AccuracyWarning)\n",
      "/home/amitibo/anaconda2/lib/python2.7/site-packages/scipy/integrate/quadrature.py:199: AccuracyWarning: maxiter (1000) exceeded. Latest difference = 9.512252e-05\n",
      "  AccuracyWarning)\n",
      "/home/amitibo/anaconda2/lib/python2.7/site-packages/scipy/integrate/quadrature.py:199: AccuracyWarning: maxiter (1000) exceeded. Latest difference = 9.649131e-05\n",
      "  AccuracyWarning)\n",
      "/home/amitibo/anaconda2/lib/python2.7/site-packages/scipy/integrate/quadrature.py:199: AccuracyWarning: maxiter (1000) exceeded. Latest difference = 9.749363e-05\n",
      "  AccuracyWarning)\n",
      "/home/amitibo/anaconda2/lib/python2.7/site-packages/scipy/integrate/quadrature.py:199: AccuracyWarning: maxiter (1000) exceeded. Latest difference = 9.894113e-05\n",
      "  AccuracyWarning)\n",
      "/home/amitibo/anaconda2/lib/python2.7/site-packages/scipy/integrate/quadrature.py:199: AccuracyWarning: maxiter (1000) exceeded. Latest difference = 1.009353e-04\n",
      "  AccuracyWarning)\n",
      "/home/amitibo/anaconda2/lib/python2.7/site-packages/scipy/integrate/quadrature.py:199: AccuracyWarning: maxiter (1000) exceeded. Latest difference = 1.018186e-04\n",
      "  AccuracyWarning)\n",
      "/home/amitibo/anaconda2/lib/python2.7/site-packages/scipy/integrate/quadrature.py:199: AccuracyWarning: maxiter (1000) exceeded. Latest difference = 9.865007e-05\n",
      "  AccuracyWarning)\n",
      "/home/amitibo/anaconda2/lib/python2.7/site-packages/scipy/integrate/quadrature.py:199: AccuracyWarning: maxiter (1000) exceeded. Latest difference = 9.087184e-05\n",
      "  AccuracyWarning)\n",
      "/home/amitibo/anaconda2/lib/python2.7/site-packages/scipy/integrate/quadrature.py:199: AccuracyWarning: maxiter (1000) exceeded. Latest difference = 7.793559e-05\n",
      "  AccuracyWarning)\n",
      "/home/amitibo/anaconda2/lib/python2.7/site-packages/scipy/integrate/quadrature.py:199: AccuracyWarning: maxiter (1000) exceeded. Latest difference = 6.230460e-05\n",
      "  AccuracyWarning)\n",
      "/home/amitibo/anaconda2/lib/python2.7/site-packages/scipy/integrate/quadrature.py:199: AccuracyWarning: maxiter (1000) exceeded. Latest difference = 4.514115e-05\n",
      "  AccuracyWarning)\n",
      "/home/amitibo/anaconda2/lib/python2.7/site-packages/scipy/integrate/quadrature.py:199: AccuracyWarning: maxiter (1000) exceeded. Latest difference = 2.706634e-05\n",
      "  AccuracyWarning)\n",
      "/home/amitibo/anaconda2/lib/python2.7/site-packages/scipy/integrate/quadrature.py:199: AccuracyWarning: maxiter (1000) exceeded. Latest difference = 7.543883e-06\n",
      "  AccuracyWarning)\n",
      "/home/amitibo/anaconda2/lib/python2.7/site-packages/scipy/integrate/quadrature.py:199: AccuracyWarning: maxiter (1000) exceeded. Latest difference = 1.325509e-05\n",
      "  AccuracyWarning)\n",
      "/home/amitibo/anaconda2/lib/python2.7/site-packages/scipy/integrate/quadrature.py:199: AccuracyWarning: maxiter (1000) exceeded. Latest difference = 3.555016e-05\n",
      "  AccuracyWarning)\n",
      "/home/amitibo/anaconda2/lib/python2.7/site-packages/scipy/integrate/quadrature.py:199: AccuracyWarning: maxiter (1000) exceeded. Latest difference = 5.861844e-05\n",
      "  AccuracyWarning)\n",
      "/home/amitibo/anaconda2/lib/python2.7/site-packages/scipy/integrate/quadrature.py:199: AccuracyWarning: maxiter (1000) exceeded. Latest difference = 8.210204e-05\n",
      "  AccuracyWarning)\n",
      "/home/amitibo/anaconda2/lib/python2.7/site-packages/scipy/integrate/quadrature.py:199: AccuracyWarning: maxiter (1000) exceeded. Latest difference = 1.061950e-04\n",
      "  AccuracyWarning)\n",
      "/home/amitibo/anaconda2/lib/python2.7/site-packages/scipy/integrate/quadrature.py:199: AccuracyWarning: maxiter (1000) exceeded. Latest difference = 2.090054e-04\n",
      "  AccuracyWarning)\n",
      "/home/amitibo/anaconda2/lib/python2.7/site-packages/scipy/integrate/quadrature.py:199: AccuracyWarning: maxiter (1000) exceeded. Latest difference = 2.738005e-04\n",
      "  AccuracyWarning)\n",
      "/home/amitibo/anaconda2/lib/python2.7/site-packages/scipy/integrate/quadrature.py:199: AccuracyWarning: maxiter (1000) exceeded. Latest difference = 2.902638e-04\n",
      "  AccuracyWarning)\n",
      "/home/amitibo/anaconda2/lib/python2.7/site-packages/scipy/integrate/quadrature.py:199: AccuracyWarning: maxiter (1000) exceeded. Latest difference = 3.047073e-04\n",
      "  AccuracyWarning)\n",
      "/home/amitibo/anaconda2/lib/python2.7/site-packages/scipy/integrate/quadrature.py:199: AccuracyWarning: maxiter (1000) exceeded. Latest difference = 3.186116e-04\n",
      "  AccuracyWarning)\n",
      "/home/amitibo/anaconda2/lib/python2.7/site-packages/scipy/integrate/quadrature.py:199: AccuracyWarning: maxiter (1000) exceeded. Latest difference = 3.330410e-04\n",
      "  AccuracyWarning)\n",
      "/home/amitibo/anaconda2/lib/python2.7/site-packages/scipy/integrate/quadrature.py:199: AccuracyWarning: maxiter (1000) exceeded. Latest difference = 3.480148e-04\n",
      "  AccuracyWarning)\n",
      "/home/amitibo/anaconda2/lib/python2.7/site-packages/scipy/integrate/quadrature.py:199: AccuracyWarning: maxiter (1000) exceeded. Latest difference = 3.630964e-04\n",
      "  AccuracyWarning)\n",
      "/home/amitibo/anaconda2/lib/python2.7/site-packages/scipy/integrate/quadrature.py:199: AccuracyWarning: maxiter (1000) exceeded. Latest difference = 3.775786e-04\n",
      "  AccuracyWarning)\n",
      "/home/amitibo/anaconda2/lib/python2.7/site-packages/scipy/integrate/quadrature.py:199: AccuracyWarning: maxiter (1000) exceeded. Latest difference = 3.906764e-04\n",
      "  AccuracyWarning)\n",
      "/home/amitibo/anaconda2/lib/python2.7/site-packages/scipy/integrate/quadrature.py:199: AccuracyWarning: maxiter (1000) exceeded. Latest difference = 4.025830e-04\n",
      "  AccuracyWarning)\n",
      "/home/amitibo/anaconda2/lib/python2.7/site-packages/scipy/integrate/quadrature.py:199: AccuracyWarning: maxiter (1000) exceeded. Latest difference = 4.124996e-04\n",
      "  AccuracyWarning)\n",
      "/home/amitibo/anaconda2/lib/python2.7/site-packages/scipy/integrate/quadrature.py:199: AccuracyWarning: maxiter (1000) exceeded. Latest difference = 4.200310e-04\n",
      "  AccuracyWarning)\n",
      "/home/amitibo/anaconda2/lib/python2.7/site-packages/scipy/integrate/quadrature.py:199: AccuracyWarning: maxiter (1000) exceeded. Latest difference = 4.240095e-04\n",
      "  AccuracyWarning)\n",
      "/home/amitibo/anaconda2/lib/python2.7/site-packages/scipy/integrate/quadrature.py:199: AccuracyWarning: maxiter (1000) exceeded. Latest difference = 4.211491e-04\n",
      "  AccuracyWarning)\n",
      "/home/amitibo/anaconda2/lib/python2.7/site-packages/scipy/integrate/quadrature.py:199: AccuracyWarning: maxiter (1000) exceeded. Latest difference = 4.153181e-04\n",
      "  AccuracyWarning)\n",
      "/home/amitibo/anaconda2/lib/python2.7/site-packages/scipy/integrate/quadrature.py:199: AccuracyWarning: maxiter (1000) exceeded. Latest difference = 3.919990e-04\n",
      "  AccuracyWarning)\n",
      "/home/amitibo/anaconda2/lib/python2.7/site-packages/scipy/integrate/quadrature.py:199: AccuracyWarning: maxiter (1000) exceeded. Latest difference = 3.748834e-04\n",
      "  AccuracyWarning)\n",
      "/home/amitibo/anaconda2/lib/python2.7/site-packages/scipy/integrate/quadrature.py:199: AccuracyWarning: maxiter (1000) exceeded. Latest difference = 3.542449e-04\n",
      "  AccuracyWarning)\n",
      "/home/amitibo/anaconda2/lib/python2.7/site-packages/scipy/integrate/quadrature.py:199: AccuracyWarning: maxiter (1000) exceeded. Latest difference = 3.287268e-04\n",
      "  AccuracyWarning)\n",
      "/home/amitibo/anaconda2/lib/python2.7/site-packages/scipy/integrate/quadrature.py:199: AccuracyWarning: maxiter (1000) exceeded. Latest difference = 2.985102e-04\n",
      "  AccuracyWarning)\n",
      "/home/amitibo/anaconda2/lib/python2.7/site-packages/scipy/integrate/quadrature.py:199: AccuracyWarning: maxiter (1000) exceeded. Latest difference = 2.611633e-04\n",
      "  AccuracyWarning)\n",
      "/home/amitibo/anaconda2/lib/python2.7/site-packages/scipy/integrate/quadrature.py:199: AccuracyWarning: maxiter (1000) exceeded. Latest difference = 2.132183e-04\n",
      "  AccuracyWarning)\n",
      "/home/amitibo/anaconda2/lib/python2.7/site-packages/scipy/integrate/quadrature.py:199: AccuracyWarning: maxiter (1000) exceeded. Latest difference = 1.554939e-04\n",
      "  AccuracyWarning)\n",
      "/home/amitibo/anaconda2/lib/python2.7/site-packages/scipy/integrate/quadrature.py:199: AccuracyWarning: maxiter (1000) exceeded. Latest difference = 1.028657e-04\n",
      "  AccuracyWarning)\n",
      "/home/amitibo/anaconda2/lib/python2.7/site-packages/scipy/integrate/quadrature.py:199: AccuracyWarning: maxiter (1000) exceeded. Latest difference = 7.097092e-05\n",
      "  AccuracyWarning)\n",
      "/home/amitibo/anaconda2/lib/python2.7/site-packages/scipy/integrate/quadrature.py:199: AccuracyWarning: maxiter (1000) exceeded. Latest difference = 5.248866e-05\n",
      "  AccuracyWarning)\n",
      "/home/amitibo/anaconda2/lib/python2.7/site-packages/scipy/integrate/quadrature.py:199: AccuracyWarning: maxiter (1000) exceeded. Latest difference = 3.923369e-05\n",
      "  AccuracyWarning)\n",
      "/home/amitibo/anaconda2/lib/python2.7/site-packages/scipy/integrate/quadrature.py:199: AccuracyWarning: maxiter (1000) exceeded. Latest difference = 2.646807e-05\n",
      "  AccuracyWarning)\n",
      "/home/amitibo/anaconda2/lib/python2.7/site-packages/scipy/integrate/quadrature.py:199: AccuracyWarning: maxiter (1000) exceeded. Latest difference = 1.609367e-05\n",
      "  AccuracyWarning)\n",
      "/home/amitibo/anaconda2/lib/python2.7/site-packages/scipy/integrate/quadrature.py:199: AccuracyWarning: maxiter (1000) exceeded. Latest difference = 6.670188e-06\n",
      "  AccuracyWarning)\n",
      "/home/amitibo/anaconda2/lib/python2.7/site-packages/scipy/integrate/quadrature.py:199: AccuracyWarning: maxiter (1000) exceeded. Latest difference = 6.649515e-07\n",
      "  AccuracyWarning)\n",
      "/home/amitibo/anaconda2/lib/python2.7/site-packages/scipy/integrate/quadrature.py:199: AccuracyWarning: maxiter (1000) exceeded. Latest difference = 7.320181e-06\n",
      "  AccuracyWarning)\n",
      "/home/amitibo/anaconda2/lib/python2.7/site-packages/scipy/integrate/quadrature.py:199: AccuracyWarning: maxiter (1000) exceeded. Latest difference = 1.250121e-05\n",
      "  AccuracyWarning)\n",
      "/home/amitibo/anaconda2/lib/python2.7/site-packages/scipy/integrate/quadrature.py:199: AccuracyWarning: maxiter (1000) exceeded. Latest difference = 1.795277e-05\n",
      "  AccuracyWarning)\n",
      "/home/amitibo/anaconda2/lib/python2.7/site-packages/scipy/integrate/quadrature.py:199: AccuracyWarning: maxiter (1000) exceeded. Latest difference = 2.994560e-05\n",
      "  AccuracyWarning)\n",
      "/home/amitibo/anaconda2/lib/python2.7/site-packages/scipy/integrate/quadrature.py:199: AccuracyWarning: maxiter (1000) exceeded. Latest difference = 3.588691e-05\n",
      "  AccuracyWarning)\n",
      "/home/amitibo/anaconda2/lib/python2.7/site-packages/scipy/integrate/quadrature.py:199: AccuracyWarning: maxiter (1000) exceeded. Latest difference = 4.718826e-05\n",
      "  AccuracyWarning)\n",
      "/home/amitibo/anaconda2/lib/python2.7/site-packages/scipy/integrate/quadrature.py:199: AccuracyWarning: maxiter (1000) exceeded. Latest difference = 5.269884e-05\n",
      "  AccuracyWarning)\n",
      "/home/amitibo/anaconda2/lib/python2.7/site-packages/scipy/integrate/quadrature.py:199: AccuracyWarning: maxiter (1000) exceeded. Latest difference = 5.902963e-05\n",
      "  AccuracyWarning)\n",
      "/home/amitibo/anaconda2/lib/python2.7/site-packages/scipy/integrate/quadrature.py:199: AccuracyWarning: maxiter (1000) exceeded. Latest difference = 6.595349e-05\n",
      "  AccuracyWarning)\n",
      "/home/amitibo/anaconda2/lib/python2.7/site-packages/scipy/special/orthogonal.py:142: RuntimeWarning: invalid value encountered in multiply\n",
      "  self.__dict__['coeffs'] *= float(kn)\n",
      "/home/amitibo/anaconda2/lib/python2.7/site-packages/scipy/integrate/quadrature.py:199: AccuracyWarning: maxiter (1000) exceeded. Latest difference = 7.550249e-05\n",
      "  AccuracyWarning)\n",
      "/home/amitibo/anaconda2/lib/python2.7/site-packages/scipy/integrate/quadrature.py:199: AccuracyWarning: maxiter (1000) exceeded. Latest difference = 8.598992e-05\n",
      "  AccuracyWarning)\n",
      "/home/amitibo/anaconda2/lib/python2.7/site-packages/scipy/integrate/quadrature.py:199: AccuracyWarning: maxiter (1000) exceeded. Latest difference = 1.113737e-04\n",
      "  AccuracyWarning)\n",
      "/home/amitibo/anaconda2/lib/python2.7/site-packages/scipy/integrate/quadrature.py:199: AccuracyWarning: maxiter (1000) exceeded. Latest difference = 1.303709e-04\n",
      "  AccuracyWarning)\n",
      "/home/amitibo/anaconda2/lib/python2.7/site-packages/scipy/integrate/quadrature.py:199: AccuracyWarning: maxiter (1000) exceeded. Latest difference = 1.630462e-04\n",
      "  AccuracyWarning)\n",
      "/home/amitibo/anaconda2/lib/python2.7/site-packages/scipy/integrate/quadrature.py:199: AccuracyWarning: maxiter (1000) exceeded. Latest difference = 2.167992e-04\n",
      "  AccuracyWarning)\n",
      "/home/amitibo/anaconda2/lib/python2.7/site-packages/scipy/integrate/quadrature.py:199: AccuracyWarning: maxiter (1000) exceeded. Latest difference = 2.771315e-04\n",
      "  AccuracyWarning)\n",
      "/home/amitibo/anaconda2/lib/python2.7/site-packages/scipy/integrate/quadrature.py:199: AccuracyWarning: maxiter (1000) exceeded. Latest difference = 3.296372e-04\n",
      "  AccuracyWarning)\n",
      "/home/amitibo/anaconda2/lib/python2.7/site-packages/scipy/integrate/quadrature.py:199: AccuracyWarning: maxiter (1000) exceeded. Latest difference = 3.723971e-04\n",
      "  AccuracyWarning)\n",
      "/home/amitibo/anaconda2/lib/python2.7/site-packages/scipy/integrate/quadrature.py:199: AccuracyWarning: maxiter (1000) exceeded. Latest difference = 4.080628e-04\n",
      "  AccuracyWarning)\n",
      "/home/amitibo/anaconda2/lib/python2.7/site-packages/scipy/integrate/quadrature.py:199: AccuracyWarning: maxiter (1000) exceeded. Latest difference = 4.394833e-04\n",
      "  AccuracyWarning)\n",
      "/home/amitibo/anaconda2/lib/python2.7/site-packages/scipy/special/orthogonal.py:1965: RuntimeWarning: overflow encountered in double_scalars\n",
      "  kn = _gam(2 * n + 1) / _gam(n + 1)**2 / 2.0**n\n",
      "/home/amitibo/anaconda2/lib/python2.7/site-packages/scipy/special/orthogonal.py:1965: RuntimeWarning: invalid value encountered in double_scalars\n",
      "  kn = _gam(2 * n + 1) / _gam(n + 1)**2 / 2.0**n\n",
      "/home/amitibo/anaconda2/lib/python2.7/site-packages/scipy/integrate/quadrature.py:199: AccuracyWarning: maxiter (1000) exceeded. Latest difference = 4.669579e-04\n",
      "  AccuracyWarning)\n",
      "/home/amitibo/anaconda2/lib/python2.7/site-packages/scipy/integrate/quadrature.py:199: AccuracyWarning: maxiter (1000) exceeded. Latest difference = 4.912068e-04\n",
      "  AccuracyWarning)\n",
      "/home/amitibo/anaconda2/lib/python2.7/site-packages/scipy/integrate/quadrature.py:199: AccuracyWarning: maxiter (1000) exceeded. Latest difference = 5.112453e-04\n",
      "  AccuracyWarning)\n",
      "/home/amitibo/anaconda2/lib/python2.7/site-packages/scipy/integrate/quadrature.py:199: AccuracyWarning: maxiter (1000) exceeded. Latest difference = 5.281359e-04\n",
      "  AccuracyWarning)\n",
      "/home/amitibo/anaconda2/lib/python2.7/site-packages/scipy/integrate/quadrature.py:199: AccuracyWarning: maxiter (1000) exceeded. Latest difference = 5.411810e-04\n",
      "  AccuracyWarning)\n",
      "/home/amitibo/anaconda2/lib/python2.7/site-packages/scipy/integrate/quadrature.py:199: AccuracyWarning: maxiter (1000) exceeded. Latest difference = 5.509255e-04\n",
      "  AccuracyWarning)\n",
      "/home/amitibo/anaconda2/lib/python2.7/site-packages/scipy/integrate/quadrature.py:199: AccuracyWarning: maxiter (1000) exceeded. Latest difference = 5.560254e-04\n",
      "  AccuracyWarning)\n",
      "/home/amitibo/anaconda2/lib/python2.7/site-packages/scipy/integrate/quadrature.py:199: AccuracyWarning: maxiter (1000) exceeded. Latest difference = 5.574587e-04\n",
      "  AccuracyWarning)\n",
      "/home/amitibo/anaconda2/lib/python2.7/site-packages/scipy/integrate/quadrature.py:199: AccuracyWarning: maxiter (1000) exceeded. Latest difference = 5.541680e-04\n",
      "  AccuracyWarning)\n",
      "/home/amitibo/anaconda2/lib/python2.7/site-packages/scipy/integrate/quadrature.py:199: AccuracyWarning: maxiter (1000) exceeded. Latest difference = 5.475358e-04\n",
      "  AccuracyWarning)\n",
      "/home/amitibo/anaconda2/lib/python2.7/site-packages/scipy/integrate/quadrature.py:199: AccuracyWarning: maxiter (1000) exceeded. Latest difference = 5.373891e-04\n",
      "  AccuracyWarning)\n",
      "/home/amitibo/anaconda2/lib/python2.7/site-packages/scipy/integrate/quadrature.py:199: AccuracyWarning: maxiter (1000) exceeded. Latest difference = 5.253625e-04\n",
      "  AccuracyWarning)\n",
      "/home/amitibo/anaconda2/lib/python2.7/site-packages/scipy/integrate/quadrature.py:199: AccuracyWarning: maxiter (1000) exceeded. Latest difference = 5.118046e-04\n",
      "  AccuracyWarning)\n",
      "/home/amitibo/anaconda2/lib/python2.7/site-packages/scipy/integrate/quadrature.py:199: AccuracyWarning: maxiter (1000) exceeded. Latest difference = 4.970653e-04\n",
      "  AccuracyWarning)\n",
      "/home/amitibo/anaconda2/lib/python2.7/site-packages/scipy/integrate/quadrature.py:199: AccuracyWarning: maxiter (1000) exceeded. Latest difference = 4.814655e-04\n",
      "  AccuracyWarning)\n",
      "/home/amitibo/anaconda2/lib/python2.7/site-packages/scipy/integrate/quadrature.py:199: AccuracyWarning: maxiter (1000) exceeded. Latest difference = 4.663866e-04\n",
      "  AccuracyWarning)\n",
      "/home/amitibo/anaconda2/lib/python2.7/site-packages/scipy/integrate/quadrature.py:199: AccuracyWarning: maxiter (1000) exceeded. Latest difference = 4.525083e-04\n",
      "  AccuracyWarning)\n",
      "/home/amitibo/anaconda2/lib/python2.7/site-packages/scipy/integrate/quadrature.py:199: AccuracyWarning: maxiter (1000) exceeded. Latest difference = 4.374914e-04\n",
      "  AccuracyWarning)\n",
      "/home/amitibo/anaconda2/lib/python2.7/site-packages/scipy/integrate/quadrature.py:199: AccuracyWarning: maxiter (1000) exceeded. Latest difference = 4.181183e-04\n",
      "  AccuracyWarning)\n",
      "/home/amitibo/anaconda2/lib/python2.7/site-packages/scipy/integrate/quadrature.py:199: AccuracyWarning: maxiter (1000) exceeded. Latest difference = 3.942842e-04\n",
      "  AccuracyWarning)\n",
      "/home/amitibo/anaconda2/lib/python2.7/site-packages/scipy/integrate/quadrature.py:199: AccuracyWarning: maxiter (1000) exceeded. Latest difference = 3.654606e-04\n",
      "  AccuracyWarning)\n",
      "/home/amitibo/anaconda2/lib/python2.7/site-packages/scipy/integrate/quadrature.py:199: AccuracyWarning: maxiter (1000) exceeded. Latest difference = 3.324008e-04\n",
      "  AccuracyWarning)\n",
      "/home/amitibo/anaconda2/lib/python2.7/site-packages/scipy/integrate/quadrature.py:199: AccuracyWarning: maxiter (1000) exceeded. Latest difference = 2.946623e-04\n",
      "  AccuracyWarning)\n",
      "/home/amitibo/anaconda2/lib/python2.7/site-packages/scipy/integrate/quadrature.py:199: AccuracyWarning: maxiter (1000) exceeded. Latest difference = 2.549347e-04\n",
      "  AccuracyWarning)\n",
      "/home/amitibo/anaconda2/lib/python2.7/site-packages/scipy/integrate/quadrature.py:199: AccuracyWarning: maxiter (1000) exceeded. Latest difference = 2.147430e-04\n",
      "  AccuracyWarning)\n",
      "/home/amitibo/anaconda2/lib/python2.7/site-packages/scipy/integrate/quadrature.py:199: AccuracyWarning: maxiter (1000) exceeded. Latest difference = 1.745020e-04\n",
      "  AccuracyWarning)\n",
      "/home/amitibo/anaconda2/lib/python2.7/site-packages/scipy/integrate/quadrature.py:199: AccuracyWarning: maxiter (1000) exceeded. Latest difference = 1.338332e-04\n",
      "  AccuracyWarning)\n",
      "/home/amitibo/anaconda2/lib/python2.7/site-packages/scipy/integrate/quadrature.py:199: AccuracyWarning: maxiter (1000) exceeded. Latest difference = 9.273525e-05\n",
      "  AccuracyWarning)\n",
      "/home/amitibo/anaconda2/lib/python2.7/site-packages/scipy/integrate/quadrature.py:199: AccuracyWarning: maxiter (1000) exceeded. Latest difference = 5.153475e-05\n",
      "  AccuracyWarning)\n",
      "/home/amitibo/anaconda2/lib/python2.7/site-packages/scipy/integrate/quadrature.py:199: AccuracyWarning: maxiter (1000) exceeded. Latest difference = 1.015472e-05\n",
      "  AccuracyWarning)\n",
      "/home/amitibo/anaconda2/lib/python2.7/site-packages/scipy/integrate/quadrature.py:199: AccuracyWarning: maxiter (1000) exceeded. Latest difference = 3.081249e-05\n",
      "  AccuracyWarning)\n",
      "/home/amitibo/anaconda2/lib/python2.7/site-packages/scipy/integrate/quadrature.py:199: AccuracyWarning: maxiter (1000) exceeded. Latest difference = 7.090622e-05\n",
      "  AccuracyWarning)\n",
      "/home/amitibo/anaconda2/lib/python2.7/site-packages/scipy/integrate/quadrature.py:199: AccuracyWarning: maxiter (1000) exceeded. Latest difference = 1.088995e-04\n",
      "  AccuracyWarning)\n",
      "/home/amitibo/anaconda2/lib/python2.7/site-packages/scipy/integrate/quadrature.py:199: AccuracyWarning: maxiter (1000) exceeded. Latest difference = 1.466839e-04\n",
      "  AccuracyWarning)\n",
      "/home/amitibo/anaconda2/lib/python2.7/site-packages/scipy/integrate/quadrature.py:199: AccuracyWarning: maxiter (1000) exceeded. Latest difference = 1.837073e-04\n",
      "  AccuracyWarning)\n",
      "/home/amitibo/anaconda2/lib/python2.7/site-packages/scipy/integrate/quadrature.py:199: AccuracyWarning: maxiter (1000) exceeded. Latest difference = 2.161688e-04\n",
      "  AccuracyWarning)\n",
      "/home/amitibo/anaconda2/lib/python2.7/site-packages/scipy/integrate/quadrature.py:199: AccuracyWarning: maxiter (1000) exceeded. Latest difference = 2.368286e-04\n",
      "  AccuracyWarning)\n",
      "/home/amitibo/anaconda2/lib/python2.7/site-packages/scipy/integrate/quadrature.py:199: AccuracyWarning: maxiter (1000) exceeded. Latest difference = 2.484738e-04\n",
      "  AccuracyWarning)\n",
      "/home/amitibo/anaconda2/lib/python2.7/site-packages/scipy/integrate/quadrature.py:199: AccuracyWarning: maxiter (1000) exceeded. Latest difference = 2.473061e-04\n",
      "  AccuracyWarning)\n",
      "/home/amitibo/anaconda2/lib/python2.7/site-packages/scipy/integrate/quadrature.py:199: AccuracyWarning: maxiter (1000) exceeded. Latest difference = 2.470944e-04\n",
      "  AccuracyWarning)\n",
      "/home/amitibo/anaconda2/lib/python2.7/site-packages/scipy/integrate/quadrature.py:199: AccuracyWarning: maxiter (1000) exceeded. Latest difference = 2.485735e-04\n",
      "  AccuracyWarning)\n",
      "/home/amitibo/anaconda2/lib/python2.7/site-packages/scipy/integrate/quadrature.py:199: AccuracyWarning: maxiter (1000) exceeded. Latest difference = 2.504712e-04\n",
      "  AccuracyWarning)\n",
      "/home/amitibo/anaconda2/lib/python2.7/site-packages/scipy/integrate/quadrature.py:199: AccuracyWarning: maxiter (1000) exceeded. Latest difference = 2.517858e-04\n",
      "  AccuracyWarning)\n",
      "/home/amitibo/anaconda2/lib/python2.7/site-packages/scipy/integrate/quadrature.py:199: AccuracyWarning: maxiter (1000) exceeded. Latest difference = 2.522077e-04\n",
      "  AccuracyWarning)\n",
      "/home/amitibo/anaconda2/lib/python2.7/site-packages/scipy/integrate/quadrature.py:199: AccuracyWarning: maxiter (1000) exceeded. Latest difference = 2.523701e-04\n",
      "  AccuracyWarning)\n",
      "/home/amitibo/anaconda2/lib/python2.7/site-packages/scipy/integrate/quadrature.py:199: AccuracyWarning: maxiter (1000) exceeded. Latest difference = 2.531137e-04\n",
      "  AccuracyWarning)\n",
      "/home/amitibo/anaconda2/lib/python2.7/site-packages/scipy/integrate/quadrature.py:199: AccuracyWarning: maxiter (1000) exceeded. Latest difference = 2.533097e-04\n",
      "  AccuracyWarning)\n",
      "/home/amitibo/anaconda2/lib/python2.7/site-packages/scipy/integrate/quadrature.py:199: AccuracyWarning: maxiter (1000) exceeded. Latest difference = 2.521568e-04\n",
      "  AccuracyWarning)\n",
      "/home/amitibo/anaconda2/lib/python2.7/site-packages/scipy/integrate/quadrature.py:199: AccuracyWarning: maxiter (1000) exceeded. Latest difference = 2.492976e-04\n",
      "  AccuracyWarning)\n",
      "/home/amitibo/anaconda2/lib/python2.7/site-packages/scipy/integrate/quadrature.py:199: AccuracyWarning: maxiter (1000) exceeded. Latest difference = 2.452630e-04\n",
      "  AccuracyWarning)\n",
      "/home/amitibo/anaconda2/lib/python2.7/site-packages/scipy/integrate/quadrature.py:199: AccuracyWarning: maxiter (1000) exceeded. Latest difference = 2.394622e-04\n",
      "  AccuracyWarning)\n",
      "/home/amitibo/anaconda2/lib/python2.7/site-packages/scipy/integrate/quadrature.py:199: AccuracyWarning: maxiter (1000) exceeded. Latest difference = 2.324220e-04\n",
      "  AccuracyWarning)\n",
      "/home/amitibo/anaconda2/lib/python2.7/site-packages/scipy/integrate/quadrature.py:199: AccuracyWarning: maxiter (1000) exceeded. Latest difference = 2.244782e-04\n",
      "  AccuracyWarning)\n",
      "/home/amitibo/anaconda2/lib/python2.7/site-packages/scipy/integrate/quadrature.py:199: AccuracyWarning: maxiter (1000) exceeded. Latest difference = 2.167965e-04\n",
      "  AccuracyWarning)\n",
      "/home/amitibo/anaconda2/lib/python2.7/site-packages/scipy/integrate/quadrature.py:199: AccuracyWarning: maxiter (1000) exceeded. Latest difference = 2.084856e-04\n",
      "  AccuracyWarning)\n",
      "/home/amitibo/anaconda2/lib/python2.7/site-packages/scipy/integrate/quadrature.py:199: AccuracyWarning: maxiter (1000) exceeded. Latest difference = 1.996717e-04\n",
      "  AccuracyWarning)\n",
      "/home/amitibo/anaconda2/lib/python2.7/site-packages/scipy/integrate/quadrature.py:199: AccuracyWarning: maxiter (1000) exceeded. Latest difference = 1.820823e-04\n",
      "  AccuracyWarning)\n",
      "/home/amitibo/anaconda2/lib/python2.7/site-packages/scipy/integrate/quadrature.py:199: AccuracyWarning: maxiter (1000) exceeded. Latest difference = 1.719784e-04\n",
      "  AccuracyWarning)\n",
      "/home/amitibo/anaconda2/lib/python2.7/site-packages/scipy/integrate/quadrature.py:199: AccuracyWarning: maxiter (1000) exceeded. Latest difference = 1.595373e-04\n",
      "  AccuracyWarning)\n",
      "/home/amitibo/anaconda2/lib/python2.7/site-packages/scipy/integrate/quadrature.py:199: AccuracyWarning: maxiter (1000) exceeded. Latest difference = 1.460247e-04\n",
      "  AccuracyWarning)\n",
      "/home/amitibo/anaconda2/lib/python2.7/site-packages/scipy/integrate/quadrature.py:199: AccuracyWarning: maxiter (1000) exceeded. Latest difference = 1.326061e-04\n",
      "  AccuracyWarning)\n",
      "/home/amitibo/anaconda2/lib/python2.7/site-packages/scipy/integrate/quadrature.py:199: AccuracyWarning: maxiter (1000) exceeded. Latest difference = 1.181142e-04\n",
      "  AccuracyWarning)\n",
      "/home/amitibo/anaconda2/lib/python2.7/site-packages/scipy/integrate/quadrature.py:199: AccuracyWarning: maxiter (1000) exceeded. Latest difference = 1.013823e-04\n",
      "  AccuracyWarning)\n",
      "/home/amitibo/anaconda2/lib/python2.7/site-packages/scipy/integrate/quadrature.py:199: AccuracyWarning: maxiter (1000) exceeded. Latest difference = 8.363152e-05\n",
      "  AccuracyWarning)\n",
      "/home/amitibo/anaconda2/lib/python2.7/site-packages/scipy/integrate/quadrature.py:199: AccuracyWarning: maxiter (1000) exceeded. Latest difference = 6.695318e-05\n",
      "  AccuracyWarning)\n",
      "/home/amitibo/anaconda2/lib/python2.7/site-packages/scipy/integrate/quadrature.py:199: AccuracyWarning: maxiter (1000) exceeded. Latest difference = 5.070443e-05\n",
      "  AccuracyWarning)\n",
      "/home/amitibo/anaconda2/lib/python2.7/site-packages/scipy/integrate/quadrature.py:199: AccuracyWarning: maxiter (1000) exceeded. Latest difference = 3.354999e-05\n",
      "  AccuracyWarning)\n",
      "/home/amitibo/anaconda2/lib/python2.7/site-packages/scipy/integrate/quadrature.py:199: AccuracyWarning: maxiter (1000) exceeded. Latest difference = 1.544692e-05\n",
      "  AccuracyWarning)\n",
      "/home/amitibo/anaconda2/lib/python2.7/site-packages/scipy/integrate/quadrature.py:199: AccuracyWarning: maxiter (1000) exceeded. Latest difference = 3.100236e-06\n",
      "  AccuracyWarning)\n",
      "/home/amitibo/anaconda2/lib/python2.7/site-packages/scipy/integrate/quadrature.py:199: AccuracyWarning: maxiter (1000) exceeded. Latest difference = 2.262530e-05\n",
      "  AccuracyWarning)\n",
      "/home/amitibo/anaconda2/lib/python2.7/site-packages/scipy/integrate/quadrature.py:199: AccuracyWarning: maxiter (1000) exceeded. Latest difference = 4.404264e-05\n",
      "  AccuracyWarning)\n",
      "/home/amitibo/anaconda2/lib/python2.7/site-packages/scipy/integrate/quadrature.py:199: AccuracyWarning: maxiter (1000) exceeded. Latest difference = 6.665607e-05\n",
      "  AccuracyWarning)\n",
      "/home/amitibo/anaconda2/lib/python2.7/site-packages/scipy/integrate/quadrature.py:199: AccuracyWarning: maxiter (1000) exceeded. Latest difference = 9.009080e-05\n",
      "  AccuracyWarning)\n",
      "/home/amitibo/anaconda2/lib/python2.7/site-packages/scipy/integrate/quadrature.py:199: AccuracyWarning: maxiter (1000) exceeded. Latest difference = 1.137551e-04\n",
      "  AccuracyWarning)\n",
      "/home/amitibo/anaconda2/lib/python2.7/site-packages/scipy/integrate/quadrature.py:199: AccuracyWarning: maxiter (1000) exceeded. Latest difference = 1.378699e-04\n",
      "  AccuracyWarning)\n",
      "/home/amitibo/anaconda2/lib/python2.7/site-packages/scipy/integrate/quadrature.py:199: AccuracyWarning: maxiter (1000) exceeded. Latest difference = 1.611070e-04\n",
      "  AccuracyWarning)\n",
      "/home/amitibo/anaconda2/lib/python2.7/site-packages/scipy/integrate/quadrature.py:199: AccuracyWarning: maxiter (1000) exceeded. Latest difference = 1.834407e-04\n",
      "  AccuracyWarning)\n",
      "/home/amitibo/anaconda2/lib/python2.7/site-packages/scipy/integrate/quadrature.py:199: AccuracyWarning: maxiter (1000) exceeded. Latest difference = 2.054025e-04\n",
      "  AccuracyWarning)\n",
      "/home/amitibo/anaconda2/lib/python2.7/site-packages/scipy/integrate/quadrature.py:199: AccuracyWarning: maxiter (1000) exceeded. Latest difference = 2.286615e-04\n",
      "  AccuracyWarning)\n",
      "/home/amitibo/anaconda2/lib/python2.7/site-packages/scipy/integrate/quadrature.py:199: AccuracyWarning: maxiter (1000) exceeded. Latest difference = 2.520637e-04\n",
      "  AccuracyWarning)\n",
      "/home/amitibo/anaconda2/lib/python2.7/site-packages/scipy/integrate/quadrature.py:199: AccuracyWarning: maxiter (1000) exceeded. Latest difference = 2.754869e-04\n",
      "  AccuracyWarning)\n",
      "/home/amitibo/anaconda2/lib/python2.7/site-packages/scipy/integrate/quadrature.py:199: AccuracyWarning: maxiter (1000) exceeded. Latest difference = 2.983731e-04\n",
      "  AccuracyWarning)\n",
      "/home/amitibo/anaconda2/lib/python2.7/site-packages/scipy/integrate/quadrature.py:199: AccuracyWarning: maxiter (1000) exceeded. Latest difference = 3.231821e-04\n",
      "  AccuracyWarning)\n",
      "/home/amitibo/anaconda2/lib/python2.7/site-packages/scipy/integrate/quadrature.py:199: AccuracyWarning: maxiter (1000) exceeded. Latest difference = 3.521361e-04\n",
      "  AccuracyWarning)\n",
      "/home/amitibo/anaconda2/lib/python2.7/site-packages/scipy/integrate/quadrature.py:199: AccuracyWarning: maxiter (1000) exceeded. Latest difference = 3.888531e-04\n",
      "  AccuracyWarning)\n",
      "/home/amitibo/anaconda2/lib/python2.7/site-packages/scipy/integrate/quadrature.py:199: AccuracyWarning: maxiter (1000) exceeded. Latest difference = 4.308252e-04\n",
      "  AccuracyWarning)\n",
      "/home/amitibo/anaconda2/lib/python2.7/site-packages/scipy/integrate/quadrature.py:199: AccuracyWarning: maxiter (1000) exceeded. Latest difference = 4.743897e-04\n",
      "  AccuracyWarning)\n",
      "/home/amitibo/anaconda2/lib/python2.7/site-packages/scipy/integrate/quadrature.py:199: AccuracyWarning: maxiter (1000) exceeded. Latest difference = 5.128441e-04\n",
      "  AccuracyWarning)\n",
      "/home/amitibo/anaconda2/lib/python2.7/site-packages/scipy/integrate/quadrature.py:199: AccuracyWarning: maxiter (1000) exceeded. Latest difference = 5.414062e-04\n",
      "  AccuracyWarning)\n",
      "/home/amitibo/anaconda2/lib/python2.7/site-packages/scipy/integrate/quadrature.py:199: AccuracyWarning: maxiter (1000) exceeded. Latest difference = 5.634379e-04\n",
      "  AccuracyWarning)\n",
      "/home/amitibo/anaconda2/lib/python2.7/site-packages/scipy/integrate/quadrature.py:199: AccuracyWarning: maxiter (1000) exceeded. Latest difference = 5.813219e-04\n",
      "  AccuracyWarning)\n",
      "/home/amitibo/anaconda2/lib/python2.7/site-packages/scipy/integrate/quadrature.py:199: AccuracyWarning: maxiter (1000) exceeded. Latest difference = 5.955573e-04\n",
      "  AccuracyWarning)\n",
      "/home/amitibo/anaconda2/lib/python2.7/site-packages/scipy/integrate/quadrature.py:199: AccuracyWarning: maxiter (1000) exceeded. Latest difference = 6.040407e-04\n",
      "  AccuracyWarning)\n",
      "/home/amitibo/anaconda2/lib/python2.7/site-packages/scipy/integrate/quadrature.py:199: AccuracyWarning: maxiter (1000) exceeded. Latest difference = 6.079437e-04\n",
      "  AccuracyWarning)\n",
      "/home/amitibo/anaconda2/lib/python2.7/site-packages/scipy/integrate/quadrature.py:199: AccuracyWarning: maxiter (1000) exceeded. Latest difference = 6.066187e-04\n",
      "  AccuracyWarning)\n",
      "/home/amitibo/anaconda2/lib/python2.7/site-packages/scipy/integrate/quadrature.py:199: AccuracyWarning: maxiter (1000) exceeded. Latest difference = 6.011547e-04\n",
      "  AccuracyWarning)\n",
      "/home/amitibo/anaconda2/lib/python2.7/site-packages/scipy/integrate/quadrature.py:199: AccuracyWarning: maxiter (1000) exceeded. Latest difference = 5.904229e-04\n",
      "  AccuracyWarning)\n",
      "/home/amitibo/anaconda2/lib/python2.7/site-packages/scipy/integrate/quadrature.py:199: AccuracyWarning: maxiter (1000) exceeded. Latest difference = 5.756448e-04\n",
      "  AccuracyWarning)\n",
      "/home/amitibo/anaconda2/lib/python2.7/site-packages/scipy/integrate/quadrature.py:199: AccuracyWarning: maxiter (1000) exceeded. Latest difference = 5.551451e-04\n",
      "  AccuracyWarning)\n",
      "/home/amitibo/anaconda2/lib/python2.7/site-packages/scipy/integrate/quadrature.py:199: AccuracyWarning: maxiter (1000) exceeded. Latest difference = 5.283525e-04\n",
      "  AccuracyWarning)\n",
      "/home/amitibo/anaconda2/lib/python2.7/site-packages/scipy/integrate/quadrature.py:199: AccuracyWarning: maxiter (1000) exceeded. Latest difference = 4.926861e-04\n",
      "  AccuracyWarning)\n",
      "/home/amitibo/anaconda2/lib/python2.7/site-packages/scipy/integrate/quadrature.py:199: AccuracyWarning: maxiter (1000) exceeded. Latest difference = 4.510573e-04\n",
      "  AccuracyWarning)\n",
      "/home/amitibo/anaconda2/lib/python2.7/site-packages/scipy/integrate/quadrature.py:199: AccuracyWarning: maxiter (1000) exceeded. Latest difference = 4.051376e-04\n",
      "  AccuracyWarning)\n",
      "/home/amitibo/anaconda2/lib/python2.7/site-packages/scipy/integrate/quadrature.py:199: AccuracyWarning: maxiter (1000) exceeded. Latest difference = 3.566986e-04\n",
      "  AccuracyWarning)\n",
      "/home/amitibo/anaconda2/lib/python2.7/site-packages/scipy/integrate/quadrature.py:199: AccuracyWarning: maxiter (1000) exceeded. Latest difference = 3.071446e-04\n",
      "  AccuracyWarning)\n",
      "/home/amitibo/anaconda2/lib/python2.7/site-packages/scipy/integrate/quadrature.py:199: AccuracyWarning: maxiter (1000) exceeded. Latest difference = 2.594524e-04\n",
      "  AccuracyWarning)\n",
      "/home/amitibo/anaconda2/lib/python2.7/site-packages/scipy/integrate/quadrature.py:199: AccuracyWarning: maxiter (1000) exceeded. Latest difference = 2.154200e-04\n",
      "  AccuracyWarning)\n",
      "/home/amitibo/anaconda2/lib/python2.7/site-packages/scipy/integrate/quadrature.py:199: AccuracyWarning: maxiter (1000) exceeded. Latest difference = 1.720911e-04\n",
      "  AccuracyWarning)\n",
      "/home/amitibo/anaconda2/lib/python2.7/site-packages/scipy/integrate/quadrature.py:199: AccuracyWarning: maxiter (1000) exceeded. Latest difference = 1.255635e-04\n",
      "  AccuracyWarning)\n",
      "/home/amitibo/anaconda2/lib/python2.7/site-packages/scipy/integrate/quadrature.py:199: AccuracyWarning: maxiter (1000) exceeded. Latest difference = 7.604282e-05\n",
      "  AccuracyWarning)\n",
      "/home/amitibo/anaconda2/lib/python2.7/site-packages/scipy/integrate/quadrature.py:199: AccuracyWarning: maxiter (1000) exceeded. Latest difference = 2.299854e-05\n",
      "  AccuracyWarning)\n",
      "/home/amitibo/anaconda2/lib/python2.7/site-packages/scipy/integrate/quadrature.py:199: AccuracyWarning: maxiter (1000) exceeded. Latest difference = 3.313385e-05\n",
      "  AccuracyWarning)\n",
      "/home/amitibo/anaconda2/lib/python2.7/site-packages/scipy/integrate/quadrature.py:199: AccuracyWarning: maxiter (1000) exceeded. Latest difference = 1.590917e-04\n",
      "  AccuracyWarning)\n",
      "/home/amitibo/anaconda2/lib/python2.7/site-packages/scipy/integrate/quadrature.py:199: AccuracyWarning: maxiter (1000) exceeded. Latest difference = 2.272764e-04\n",
      "  AccuracyWarning)\n",
      "/home/amitibo/anaconda2/lib/python2.7/site-packages/scipy/integrate/quadrature.py:199: AccuracyWarning: maxiter (1000) exceeded. Latest difference = 2.973556e-04\n",
      "  AccuracyWarning)\n",
      "/home/amitibo/anaconda2/lib/python2.7/site-packages/scipy/integrate/quadrature.py:199: AccuracyWarning: maxiter (1000) exceeded. Latest difference = 3.687013e-04\n",
      "  AccuracyWarning)\n",
      "/home/amitibo/anaconda2/lib/python2.7/site-packages/scipy/integrate/quadrature.py:199: AccuracyWarning: maxiter (1000) exceeded. Latest difference = 4.404773e-04\n",
      "  AccuracyWarning)\n",
      "/home/amitibo/anaconda2/lib/python2.7/site-packages/scipy/integrate/quadrature.py:199: AccuracyWarning: maxiter (1000) exceeded. Latest difference = 5.111355e-04\n",
      "  AccuracyWarning)\n",
      "/home/amitibo/anaconda2/lib/python2.7/site-packages/scipy/integrate/quadrature.py:199: AccuracyWarning: maxiter (1000) exceeded. Latest difference = 5.813082e-04\n",
      "  AccuracyWarning)\n",
      "/home/amitibo/anaconda2/lib/python2.7/site-packages/scipy/integrate/quadrature.py:199: AccuracyWarning: maxiter (1000) exceeded. Latest difference = 6.498896e-04\n",
      "  AccuracyWarning)\n",
      "/home/amitibo/anaconda2/lib/python2.7/site-packages/scipy/integrate/quadrature.py:199: AccuracyWarning: maxiter (1000) exceeded. Latest difference = 7.167720e-04\n",
      "  AccuracyWarning)\n",
      "/home/amitibo/anaconda2/lib/python2.7/site-packages/scipy/integrate/quadrature.py:199: AccuracyWarning: maxiter (1000) exceeded. Latest difference = 7.791872e-04\n",
      "  AccuracyWarning)\n",
      "/home/amitibo/anaconda2/lib/python2.7/site-packages/scipy/integrate/quadrature.py:199: AccuracyWarning: maxiter (1000) exceeded. Latest difference = 8.393334e-04\n",
      "  AccuracyWarning)\n",
      "/home/amitibo/anaconda2/lib/python2.7/site-packages/scipy/integrate/quadrature.py:199: AccuracyWarning: maxiter (1000) exceeded. Latest difference = 8.955013e-04\n",
      "  AccuracyWarning)\n",
      "/home/amitibo/anaconda2/lib/python2.7/site-packages/scipy/integrate/quadrature.py:199: AccuracyWarning: maxiter (1000) exceeded. Latest difference = 9.487369e-04\n",
      "  AccuracyWarning)\n",
      "/home/amitibo/anaconda2/lib/python2.7/site-packages/scipy/integrate/quadrature.py:199: AccuracyWarning: maxiter (1000) exceeded. Latest difference = 9.903309e-04\n",
      "  AccuracyWarning)\n",
      "/home/amitibo/anaconda2/lib/python2.7/site-packages/scipy/integrate/quadrature.py:199: AccuracyWarning: maxiter (1000) exceeded. Latest difference = 9.425876e-04\n",
      "  AccuracyWarning)\n",
      "/home/amitibo/anaconda2/lib/python2.7/site-packages/scipy/integrate/quadrature.py:199: AccuracyWarning: maxiter (1000) exceeded. Latest difference = 8.749517e-04\n",
      "  AccuracyWarning)\n",
      "/home/amitibo/anaconda2/lib/python2.7/site-packages/scipy/integrate/quadrature.py:199: AccuracyWarning: maxiter (1000) exceeded. Latest difference = 8.171195e-04\n",
      "  AccuracyWarning)\n",
      "/home/amitibo/anaconda2/lib/python2.7/site-packages/scipy/integrate/quadrature.py:199: AccuracyWarning: maxiter (1000) exceeded. Latest difference = 7.737199e-04\n",
      "  AccuracyWarning)\n",
      "/home/amitibo/anaconda2/lib/python2.7/site-packages/scipy/integrate/quadrature.py:199: AccuracyWarning: maxiter (1000) exceeded. Latest difference = 7.379423e-04\n",
      "  AccuracyWarning)\n",
      "/home/amitibo/anaconda2/lib/python2.7/site-packages/scipy/integrate/quadrature.py:199: AccuracyWarning: maxiter (1000) exceeded. Latest difference = 7.049297e-04\n",
      "  AccuracyWarning)\n",
      "/home/amitibo/anaconda2/lib/python2.7/site-packages/scipy/integrate/quadrature.py:199: AccuracyWarning: maxiter (1000) exceeded. Latest difference = 6.742147e-04\n",
      "  AccuracyWarning)\n",
      "/home/amitibo/anaconda2/lib/python2.7/site-packages/scipy/integrate/quadrature.py:199: AccuracyWarning: maxiter (1000) exceeded. Latest difference = 6.458034e-04\n",
      "  AccuracyWarning)\n",
      "/home/amitibo/anaconda2/lib/python2.7/site-packages/scipy/integrate/quadrature.py:199: AccuracyWarning: maxiter (1000) exceeded. Latest difference = 6.227619e-04\n",
      "  AccuracyWarning)\n",
      "/home/amitibo/anaconda2/lib/python2.7/site-packages/scipy/integrate/quadrature.py:199: AccuracyWarning: maxiter (1000) exceeded. Latest difference = 6.024986e-04\n",
      "  AccuracyWarning)\n",
      "/home/amitibo/anaconda2/lib/python2.7/site-packages/scipy/integrate/quadrature.py:199: AccuracyWarning: maxiter (1000) exceeded. Latest difference = 5.862371e-04\n",
      "  AccuracyWarning)\n",
      "/home/amitibo/anaconda2/lib/python2.7/site-packages/scipy/integrate/quadrature.py:199: AccuracyWarning: maxiter (1000) exceeded. Latest difference = 5.713287e-04\n",
      "  AccuracyWarning)\n",
      "/home/amitibo/anaconda2/lib/python2.7/site-packages/scipy/integrate/quadrature.py:199: AccuracyWarning: maxiter (1000) exceeded. Latest difference = 5.601020e-04\n",
      "  AccuracyWarning)\n",
      "/home/amitibo/anaconda2/lib/python2.7/site-packages/scipy/integrate/quadrature.py:199: AccuracyWarning: maxiter (1000) exceeded. Latest difference = 5.486169e-04\n",
      "  AccuracyWarning)\n",
      "/home/amitibo/anaconda2/lib/python2.7/site-packages/scipy/integrate/quadrature.py:199: AccuracyWarning: maxiter (1000) exceeded. Latest difference = 5.393108e-04\n",
      "  AccuracyWarning)\n",
      "/home/amitibo/anaconda2/lib/python2.7/site-packages/scipy/integrate/quadrature.py:199: AccuracyWarning: maxiter (1000) exceeded. Latest difference = 5.308775e-04\n",
      "  AccuracyWarning)\n",
      "/home/amitibo/anaconda2/lib/python2.7/site-packages/scipy/integrate/quadrature.py:199: AccuracyWarning: maxiter (1000) exceeded. Latest difference = 5.270094e-04\n",
      "  AccuracyWarning)\n",
      "/home/amitibo/anaconda2/lib/python2.7/site-packages/scipy/integrate/quadrature.py:199: AccuracyWarning: maxiter (1000) exceeded. Latest difference = 5.250321e-04\n",
      "  AccuracyWarning)\n",
      "/home/amitibo/anaconda2/lib/python2.7/site-packages/scipy/integrate/quadrature.py:199: AccuracyWarning: maxiter (1000) exceeded. Latest difference = 5.260117e-04\n",
      "  AccuracyWarning)\n",
      "/home/amitibo/anaconda2/lib/python2.7/site-packages/scipy/integrate/quadrature.py:199: AccuracyWarning: maxiter (1000) exceeded. Latest difference = 5.287310e-04\n",
      "  AccuracyWarning)\n",
      "/home/amitibo/anaconda2/lib/python2.7/site-packages/scipy/integrate/quadrature.py:199: AccuracyWarning: maxiter (1000) exceeded. Latest difference = 5.345820e-04\n",
      "  AccuracyWarning)\n",
      "/home/amitibo/anaconda2/lib/python2.7/site-packages/scipy/integrate/quadrature.py:199: AccuracyWarning: maxiter (1000) exceeded. Latest difference = 5.426758e-04\n",
      "  AccuracyWarning)\n",
      "/home/amitibo/anaconda2/lib/python2.7/site-packages/scipy/integrate/quadrature.py:199: AccuracyWarning: maxiter (1000) exceeded. Latest difference = 5.550717e-04\n",
      "  AccuracyWarning)\n",
      "/home/amitibo/anaconda2/lib/python2.7/site-packages/scipy/integrate/quadrature.py:199: AccuracyWarning: maxiter (1000) exceeded. Latest difference = 5.774237e-04\n",
      "  AccuracyWarning)\n",
      "/home/amitibo/anaconda2/lib/python2.7/site-packages/scipy/integrate/quadrature.py:199: AccuracyWarning: maxiter (1000) exceeded. Latest difference = 6.078494e-04\n",
      "  AccuracyWarning)\n",
      "/home/amitibo/anaconda2/lib/python2.7/site-packages/scipy/integrate/quadrature.py:199: AccuracyWarning: maxiter (1000) exceeded. Latest difference = 6.260494e-04\n",
      "  AccuracyWarning)\n",
      "/home/amitibo/anaconda2/lib/python2.7/site-packages/scipy/integrate/quadrature.py:199: AccuracyWarning: maxiter (1000) exceeded. Latest difference = 6.097497e-04\n",
      "  AccuracyWarning)\n",
      "/home/amitibo/anaconda2/lib/python2.7/site-packages/scipy/integrate/quadrature.py:199: AccuracyWarning: maxiter (1000) exceeded. Latest difference = 5.712240e-04\n",
      "  AccuracyWarning)\n",
      "/home/amitibo/anaconda2/lib/python2.7/site-packages/scipy/integrate/quadrature.py:199: AccuracyWarning: maxiter (1000) exceeded. Latest difference = 5.233161e-04\n",
      "  AccuracyWarning)\n",
      "/home/amitibo/anaconda2/lib/python2.7/site-packages/scipy/integrate/quadrature.py:199: AccuracyWarning: maxiter (1000) exceeded. Latest difference = 4.732777e-04\n",
      "  AccuracyWarning)\n",
      "/home/amitibo/anaconda2/lib/python2.7/site-packages/scipy/integrate/quadrature.py:199: AccuracyWarning: maxiter (1000) exceeded. Latest difference = 4.193345e-04\n",
      "  AccuracyWarning)\n",
      "/home/amitibo/anaconda2/lib/python2.7/site-packages/scipy/integrate/quadrature.py:199: AccuracyWarning: maxiter (1000) exceeded. Latest difference = 3.640869e-04\n",
      "  AccuracyWarning)\n",
      "/home/amitibo/anaconda2/lib/python2.7/site-packages/scipy/integrate/quadrature.py:199: AccuracyWarning: maxiter (1000) exceeded. Latest difference = 3.072380e-04\n",
      "  AccuracyWarning)\n",
      "/home/amitibo/anaconda2/lib/python2.7/site-packages/scipy/integrate/quadrature.py:199: AccuracyWarning: maxiter (1000) exceeded. Latest difference = 2.492581e-04\n",
      "  AccuracyWarning)\n",
      "/home/amitibo/anaconda2/lib/python2.7/site-packages/scipy/integrate/quadrature.py:199: AccuracyWarning: maxiter (1000) exceeded. Latest difference = 1.884207e-04\n",
      "  AccuracyWarning)\n",
      "/home/amitibo/anaconda2/lib/python2.7/site-packages/scipy/integrate/quadrature.py:199: AccuracyWarning: maxiter (1000) exceeded. Latest difference = 1.267008e-04\n",
      "  AccuracyWarning)\n",
      "/home/amitibo/anaconda2/lib/python2.7/site-packages/scipy/integrate/quadrature.py:199: AccuracyWarning: maxiter (1000) exceeded. Latest difference = 6.464817e-05\n",
      "  AccuracyWarning)\n",
      "/home/amitibo/anaconda2/lib/python2.7/site-packages/scipy/integrate/quadrature.py:199: AccuracyWarning: maxiter (1000) exceeded. Latest difference = 2.458214e-06\n",
      "  AccuracyWarning)\n",
      "/home/amitibo/anaconda2/lib/python2.7/site-packages/scipy/integrate/quadrature.py:199: AccuracyWarning: maxiter (1000) exceeded. Latest difference = 6.043274e-05\n",
      "  AccuracyWarning)\n",
      "/home/amitibo/anaconda2/lib/python2.7/site-packages/scipy/integrate/quadrature.py:199: AccuracyWarning: maxiter (1000) exceeded. Latest difference = 1.215667e-04\n",
      "  AccuracyWarning)\n",
      "/home/amitibo/anaconda2/lib/python2.7/site-packages/scipy/integrate/quadrature.py:199: AccuracyWarning: maxiter (1000) exceeded. Latest difference = 1.780792e-04\n",
      "  AccuracyWarning)\n",
      "/home/amitibo/anaconda2/lib/python2.7/site-packages/scipy/integrate/quadrature.py:199: AccuracyWarning: maxiter (1000) exceeded. Latest difference = 2.309179e-04\n",
      "  AccuracyWarning)\n",
      "/home/amitibo/anaconda2/lib/python2.7/site-packages/scipy/integrate/quadrature.py:199: AccuracyWarning: maxiter (1000) exceeded. Latest difference = 2.802513e-04\n",
      "  AccuracyWarning)\n",
      "/home/amitibo/anaconda2/lib/python2.7/site-packages/scipy/integrate/quadrature.py:199: AccuracyWarning: maxiter (1000) exceeded. Latest difference = 3.263300e-04\n",
      "  AccuracyWarning)\n",
      "/home/amitibo/anaconda2/lib/python2.7/site-packages/scipy/integrate/quadrature.py:199: AccuracyWarning: maxiter (1000) exceeded. Latest difference = 3.676628e-04\n",
      "  AccuracyWarning)\n",
      "/home/amitibo/anaconda2/lib/python2.7/site-packages/scipy/integrate/quadrature.py:199: AccuracyWarning: maxiter (1000) exceeded. Latest difference = 4.057211e-04\n",
      "  AccuracyWarning)\n",
      "/home/amitibo/anaconda2/lib/python2.7/site-packages/scipy/integrate/quadrature.py:199: AccuracyWarning: maxiter (1000) exceeded. Latest difference = 4.420735e-04\n",
      "  AccuracyWarning)\n",
      "/home/amitibo/anaconda2/lib/python2.7/site-packages/scipy/integrate/quadrature.py:199: AccuracyWarning: maxiter (1000) exceeded. Latest difference = 4.792173e-04\n",
      "  AccuracyWarning)\n",
      "/home/amitibo/anaconda2/lib/python2.7/site-packages/scipy/integrate/quadrature.py:199: AccuracyWarning: maxiter (1000) exceeded. Latest difference = 5.193440e-04\n",
      "  AccuracyWarning)\n",
      "/home/amitibo/anaconda2/lib/python2.7/site-packages/scipy/integrate/quadrature.py:199: AccuracyWarning: maxiter (1000) exceeded. Latest difference = 5.616731e-04\n",
      "  AccuracyWarning)\n",
      "/home/amitibo/anaconda2/lib/python2.7/site-packages/scipy/integrate/quadrature.py:199: AccuracyWarning: maxiter (1000) exceeded. Latest difference = 6.045191e-04\n",
      "  AccuracyWarning)\n",
      "/home/amitibo/anaconda2/lib/python2.7/site-packages/scipy/integrate/quadrature.py:199: AccuracyWarning: maxiter (1000) exceeded. Latest difference = 6.448569e-04\n",
      "  AccuracyWarning)\n",
      "/home/amitibo/anaconda2/lib/python2.7/site-packages/scipy/integrate/quadrature.py:199: AccuracyWarning: maxiter (1000) exceeded. Latest difference = 6.795256e-04\n",
      "  AccuracyWarning)\n",
      "/home/amitibo/anaconda2/lib/python2.7/site-packages/scipy/integrate/quadrature.py:199: AccuracyWarning: maxiter (1000) exceeded. Latest difference = 7.080468e-04\n",
      "  AccuracyWarning)\n",
      "/home/amitibo/anaconda2/lib/python2.7/site-packages/scipy/integrate/quadrature.py:199: AccuracyWarning: maxiter (1000) exceeded. Latest difference = 7.287027e-04\n",
      "  AccuracyWarning)\n",
      "/home/amitibo/anaconda2/lib/python2.7/site-packages/scipy/integrate/quadrature.py:199: AccuracyWarning: maxiter (1000) exceeded. Latest difference = 7.429755e-04\n",
      "  AccuracyWarning)\n",
      "/home/amitibo/anaconda2/lib/python2.7/site-packages/scipy/integrate/quadrature.py:199: AccuracyWarning: maxiter (1000) exceeded. Latest difference = 7.499497e-04\n",
      "  AccuracyWarning)\n",
      "/home/amitibo/anaconda2/lib/python2.7/site-packages/scipy/integrate/quadrature.py:199: AccuracyWarning: maxiter (1000) exceeded. Latest difference = 7.525687e-04\n",
      "  AccuracyWarning)\n",
      "/home/amitibo/anaconda2/lib/python2.7/site-packages/scipy/integrate/quadrature.py:199: AccuracyWarning: maxiter (1000) exceeded. Latest difference = 7.504544e-04\n",
      "  AccuracyWarning)\n",
      "/home/amitibo/anaconda2/lib/python2.7/site-packages/scipy/integrate/quadrature.py:199: AccuracyWarning: maxiter (1000) exceeded. Latest difference = 7.435268e-04\n",
      "  AccuracyWarning)\n",
      "/home/amitibo/anaconda2/lib/python2.7/site-packages/scipy/integrate/quadrature.py:199: AccuracyWarning: maxiter (1000) exceeded. Latest difference = 7.289508e-04\n",
      "  AccuracyWarning)\n",
      "/home/amitibo/anaconda2/lib/python2.7/site-packages/scipy/integrate/quadrature.py:199: AccuracyWarning: maxiter (1000) exceeded. Latest difference = 7.086992e-04\n",
      "  AccuracyWarning)\n",
      "/home/amitibo/anaconda2/lib/python2.7/site-packages/scipy/integrate/quadrature.py:199: AccuracyWarning: maxiter (1000) exceeded. Latest difference = 6.822422e-04\n",
      "  AccuracyWarning)\n",
      "/home/amitibo/anaconda2/lib/python2.7/site-packages/scipy/integrate/quadrature.py:199: AccuracyWarning: maxiter (1000) exceeded. Latest difference = 6.508572e-04\n",
      "  AccuracyWarning)\n",
      "/home/amitibo/anaconda2/lib/python2.7/site-packages/scipy/integrate/quadrature.py:199: AccuracyWarning: maxiter (1000) exceeded. Latest difference = 6.124201e-04\n",
      "  AccuracyWarning)\n",
      "/home/amitibo/anaconda2/lib/python2.7/site-packages/scipy/integrate/quadrature.py:199: AccuracyWarning: maxiter (1000) exceeded. Latest difference = 5.646477e-04\n",
      "  AccuracyWarning)\n",
      "/home/amitibo/anaconda2/lib/python2.7/site-packages/scipy/integrate/quadrature.py:199: AccuracyWarning: maxiter (1000) exceeded. Latest difference = 5.036962e-04\n",
      "  AccuracyWarning)\n",
      "/home/amitibo/anaconda2/lib/python2.7/site-packages/scipy/integrate/quadrature.py:199: AccuracyWarning: maxiter (1000) exceeded. Latest difference = 4.353502e-04\n",
      "  AccuracyWarning)\n",
      "/home/amitibo/anaconda2/lib/python2.7/site-packages/scipy/integrate/quadrature.py:199: AccuracyWarning: maxiter (1000) exceeded. Latest difference = 3.688050e-04\n",
      "  AccuracyWarning)\n",
      "/home/amitibo/anaconda2/lib/python2.7/site-packages/scipy/integrate/quadrature.py:199: AccuracyWarning: maxiter (1000) exceeded. Latest difference = 3.114785e-04\n",
      "  AccuracyWarning)\n"
     ]
    },
    {
     "name": "stdout",
     "output_type": "stream",
     "text": [
      "\n"
     ]
    },
    {
     "name": "stderr",
     "output_type": "stream",
     "text": [
      "/home/amitibo/anaconda2/lib/python2.7/site-packages/scipy/integrate/quadrature.py:199: AccuracyWarning: maxiter (1000) exceeded. Latest difference = 2.690276e-04\n",
      "  AccuracyWarning)\n"
     ]
    }
   ],
   "source": [
    "coeffs_quad = []\n",
    "for l in tqdm_notebook(range(COFFES_NUM)):\n",
    "    lg = legendre(l)\n",
    "    #coeffs_quad.append(quad(func, -1, 1, args=(l, lg,), limit=1000)[0])\n",
    "    #coeffs_quad.append(fixed_quad(func, -1, 1, args=(l, lg,), n=50000)[0])\n",
    "    coeffs_quad.append(quadrature(func, -1, 1, args=(l, lg,), maxiter=1000)[0])"
   ]
  },
  {
   "cell_type": "code",
   "execution_count": 21,
   "metadata": {},
   "outputs": [
    {
     "data": {
      "text/plain": [
       "[<matplotlib.lines.Line2D at 0x7f7a3b3a6290>]"
      ]
     },
     "execution_count": 21,
     "metadata": {},
     "output_type": "execute_result"
    },
    {
     "data": {
      "image/png": "[encoded data removed]",
      "text/plain": [
       "<matplotlib.figure.Figure at 0x7f7a9060af10>"
      ]
     },
     "metadata": {},
     "output_type": "display_data"
    }
   ],
   "source": [
    "plt.plot(coeffs_quad)"
   ]
  },
  {
   "cell_type": "markdown",
   "metadata": {},
   "source": [
    "## Reconstruct the Phase function by the Legndre coefficients"
   ]
  },
  {
   "cell_type": "code",
   "execution_count": 22,
   "metadata": {},
   "outputs": [],
   "source": [
    "mu_new = np.linspace(-1, 1, 3000)\n",
    "phase_gauss = 0\n",
    "for l, coeff in enumerate(coeffs_quad):\n",
    "    phase_gauss += legendre(l)(mu_new) * coeff\n",
    "coeffs_quad_ = coeffs_quad[:]\n",
    "coeffs_quad_[0] = 1.\n",
    "phase_gauss_ = 0\n",
    "for l, coeff in enumerate(coeffs_quad_):\n",
    "    phase_gauss_ += legendre(l)(mu_new) * coeff"
   ]
  },
  {
   "cell_type": "code",
   "execution_count": 23,
   "metadata": {
    "scrolled": false
   },
   "outputs": [
    {
     "data": {
      "text/plain": [
       "(0.95, 1)"
      ]
     },
     "execution_count": 23,
     "metadata": {},
     "output_type": "execute_result"
    },
    {
     "data": {
      "image/png": "[encoded data removed]",
      "text/plain": [
       "<matplotlib.figure.Figure at 0x7f7a3b970610>"
      ]
     },
     "metadata": {},
     "output_type": "display_data"
    }
   ],
   "source": [
    "plt.semilogy(mu, phase, \"o\", label=\"real\")\n",
    "plt.semilogy(mu_new, phase_gauss, \"-\", label=\"accurate\")\n",
    "plt.semilogy(mu_new, phase_gauss_, label=\"forced 1.\")\n",
    "plt.legend()\n",
    "plt.xlim(0.95, 1)"
   ]
  },
  {
   "cell_type": "markdown",
   "metadata": {},
   "source": [
    "### Save the result as pickle"
   ]
  },
  {
   "cell_type": "code",
   "execution_count": 36,
   "metadata": {},
   "outputs": [],
   "source": [
    "with open(\"particles_{}_{}.pkl\".format(TIME.strftime(\"%Y_%m_%d_%H_%M_%S\"), WAVELENGTH), \"wb\") as f:\n",
    "    pickle.dump(\n",
    "        dict(\n",
    "            ssa=df_ssa.loc[WAVELENGTH][TIME],\n",
    "            legend=coeffs_quad_,\n",
    "            aod=df_aod.AOT_675[TIME],\n",
    "            aod_height=2.5\n",
    "        ),\n",
    "        f\n",
    "    )"
   ]
  },
  {
   "cell_type": "markdown",
   "metadata": {},
   "source": [
    "### Save the result"
   ]
  },
  {
   "cell_type": "code",
   "execution_count": 58,
   "metadata": {},
   "outputs": [],
   "source": [
    "header = \"\"\"! Mie scattering table vs. effective radius (LWC=1 g/m^3)\n",
    "  0.{}    0.{}    0.000  wavelength range and averaging step (micron)\n",
    "   2    1.450    1.450  number       starting       ending REAL refractive index\n",
    "   2    0.000    0.000  number       starting       ending IMAGINARY refractive index\n",
    "   2    0.100    0.100  number       starting       ending effective radius\n",
    "   2    0.500    0.500  number       starting       ending effective variance\n",
    " \"\"\".format(WAVELENGTH, WAVELENGTH)\n",
    "line_template = \" 1.450 -.000     1.000    %f   0.5000   0.1000     %d  Phase function: Re{m}  Im{m}   Ext  Alb  Veff  Reff  Nleg\\n\""
   ]
  },
  {
   "cell_type": "code",
   "execution_count": 59,
   "metadata": {},
   "outputs": [],
   "source": [
    "with open(TIME.strftime(\"aerosol{}dredvedm__%Y%m%d_%H%M.scat\".format(WAVELENGTH)), \"w\") as f:\n",
    "    f.write(header)\n",
    "    for i in range(700):\n",
    "        f.write(line_template % (df_ssa.loc[WAVELENGTH][TIME], len(coeffs_quad_)-1))\n",
    "        f.write(\"\\t\".join(['']+[str(c) for c in coeffs_quad_]))\n",
    "        f.write(\"\\n\")"
   ]
  },
  {
   "cell_type": "code",
   "execution_count": null,
   "metadata": {},
   "outputs": [],
   "source": []
  }
 ],
 "metadata": {
  "anaconda-cloud": {},
  "kernelspec": {
   "display_name": "Python [default]",
   "language": "python",
   "name": "python2"
  },
  "language_info": {
   "codemirror_mode": {
    "name": "ipython",
    "version": 2
   },
   "file_extension": ".py",
   "mimetype": "text/x-python",
   "name": "python",
   "nbconvert_exporter": "python",
   "pygments_lexer": "ipython2",
   "version": "2.7.12"
  }
 },
 "nbformat": 4,
 "nbformat_minor": 2
}
