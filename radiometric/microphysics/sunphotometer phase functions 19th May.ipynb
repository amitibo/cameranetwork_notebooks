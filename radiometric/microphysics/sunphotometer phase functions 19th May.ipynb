{
 "cells": [
  {
   "cell_type": "markdown",
   "metadata": {},
   "source": [
    "# Sunphotometer Analysis from the 19th May"
   ]
  },
  {
   "cell_type": "code",
   "execution_count": 1,
   "metadata": {},
   "outputs": [],
   "source": [
    "from __future__ import division\n",
    "%matplotlib inline\n",
    "import cPickle\n",
    "import datetime\n",
    "from dateutil import parser\n",
    "import itertools\n",
    "import math\n",
    "import matplotlib.pyplot as plt\n",
    "plt.rcParams['figure.figsize'] = (8.0, 8.0)\n",
    "import numpy as np\n",
    "import os\n",
    "import pandas as pd\n",
    "from scipy.integrate import quadrature, romberg, quad, fixed_quad\n",
    "from scipy.interpolate import interp1d\n",
    "from scipy.special import legendre\n",
    "from tqdm import tqdm_notebook\n",
    "\n",
    "from IPython.display import Image\n",
    "from IPython.core.display import HTML "
   ]
  },
  {
   "cell_type": "markdown",
   "metadata": {},
   "source": [
    "## Set the Target Time/Date And Wavelength"
   ]
  },
  {
   "cell_type": "code",
   "execution_count": 2,
   "metadata": {},
   "outputs": [
    {
     "data": {
      "text/html": [
       "<img src=\"https://aeronet.gsfc.nasa.gov/cgi-bin/draw_new_oleg_v2?site=Technion_Haifa_IL&year=25&month=4&day=18&product=7&level=2&type=0&if_day=0&if_err=0&inv=1\"/>"
      ],
      "text/plain": [
       "<IPython.core.display.Image object>"
      ]
     },
     "execution_count": 2,
     "metadata": {},
     "output_type": "execute_result"
    }
   ],
   "source": [
    "Image(url= \"https://aeronet.gsfc.nasa.gov/cgi-bin/draw_new_oleg_v2?site=Technion_Haifa_IL&year=25&month=4&day=18&product=7&level=2&type=0&if_day=0&if_err=0&inv=1\")"
   ]
  },
  {
   "cell_type": "code",
   "execution_count": 3,
   "metadata": {},
   "outputs": [],
   "source": [
    "TIME = pd.datetime(2017, 5, 19, 12, 35, 0)\n",
    "WAVELENGTH = 670"
   ]
  },
  {
   "cell_type": "markdown",
   "metadata": {},
   "source": [
    "# Load the sunphotometer data"
   ]
  },
  {
   "cell_type": "markdown",
   "metadata": {},
   "source": [
    "## Load the phasefunction"
   ]
  },
  {
   "cell_type": "markdown",
   "metadata": {},
   "source": [
    "The data is loaded from the sunphotometer logs. Note that new values are interpolated for TIME and WAVELENGTH. I use the \"pchip\" interpolation method as it is more conservative."
   ]
  },
  {
   "cell_type": "code",
   "execution_count": 4,
   "metadata": {},
   "outputs": [],
   "source": [
    "def dateparse(d, t):\n",
    "    return pd.datetime.strptime(d+' '+t, '%d:%m:%Y %H:%M:%S')\n",
    "\n",
    "def parsePhaseFunction(path, usecols):\n",
    "    \"\"\"Parse the sunphotometer Phase Function data.\"\"\"\n",
    "\n",
    "    df = pd.read_csv(\n",
    "        path,\n",
    "        skiprows=3,\n",
    "        header=0,\n",
    "        parse_dates=[[0, 1]],\n",
    "        date_parser=dateparse,\n",
    "        index_col=0,\n",
    "        usecols=usecols\n",
    "    )\n",
    "\n",
    "    wavelengths = [float(i.split(\"[\")[0]) for i in df.columns]\n",
    "    df = df.rename(columns=dict(itertools.izip(df.columns, wavelengths)))\n",
    "    df.index.rename(\"datetime\", inplace=True)\n",
    "    \n",
    "    new_row = pd.Series(name=TIME, data=[None]*len(df.columns), index=df.columns)\n",
    "    df = df.append(new_row)\n",
    "    df = df.sort_index().interpolate(method=\"pchip\")\n",
    "\n",
    "    return df, wavelengths\n",
    "\n",
    "pfn_path = r\"../../data/aeronet/2017_05/170519_170519_Technion_Haifa_IL.pfn\"\n",
    "df_441, wavelengths = parsePhaseFunction(\n",
    "    pfn_path,\n",
    "    usecols=[0, 1]+list(range(3, 86))\n",
    ")\n",
    "df_674, wavelengths = parsePhaseFunction(\n",
    "    pfn_path,\n",
    "    usecols=[0, 1]+list(range(86, 169))\n",
    ")\n",
    "df_871, wavelengths = parsePhaseFunction(\n",
    "    pfn_path,\n",
    "    usecols=[0, 1]+list(range(169, 252))\n",
    ")\n",
    "df_1020, wavelengths = parsePhaseFunction(\n",
    "    pfn_path,\n",
    "    usecols=[0, 1]+list(range(252, 335))\n",
    ")"
   ]
  },
  {
   "cell_type": "code",
   "execution_count": 5,
   "metadata": {},
   "outputs": [],
   "source": [
    "series = [pd.Series(d.loc[TIME], name=n) for d, n in zip((df_441, df_674, df_871, df_1020), (441., 674., 871., 1020.))]\n",
    "df_phf = pd.concat(series, axis=1).T\n",
    "new_row = pd.Series(name=WAVELENGTH, data=[None]*len(df_phf.columns), index=df_phf.columns)\n",
    "df_phf = df_phf.append(new_row).sort_index().interpolate(method=\"pchip\")"
   ]
  },
  {
   "cell_type": "code",
   "execution_count": 6,
   "metadata": {},
   "outputs": [
    {
     "data": {
      "text/html": [
       "<div>\n",
       "<table border=\"1\" class=\"dataframe\">\n",
       "  <thead>\n",
       "    <tr style=\"text-align: right;\">\n",
       "      <th></th>\n",
       "      <th>0.0</th>\n",
       "      <th>1.71</th>\n",
       "      <th>3.93</th>\n",
       "      <th>6.16</th>\n",
       "      <th>8.39</th>\n",
       "      <th>10.63</th>\n",
       "      <th>12.86</th>\n",
       "      <th>15.1</th>\n",
       "      <th>17.33</th>\n",
       "      <th>19.57</th>\n",
       "      <th>...</th>\n",
       "      <th>160.43</th>\n",
       "      <th>162.67</th>\n",
       "      <th>164.9</th>\n",
       "      <th>167.14</th>\n",
       "      <th>169.37</th>\n",
       "      <th>171.61</th>\n",
       "      <th>173.84</th>\n",
       "      <th>176.07</th>\n",
       "      <th>178.29</th>\n",
       "      <th>180.0</th>\n",
       "    </tr>\n",
       "  </thead>\n",
       "  <tbody>\n",
       "    <tr>\n",
       "      <th>441.0</th>\n",
       "      <td>339.824069</td>\n",
       "      <td>139.801186</td>\n",
       "      <td>48.916872</td>\n",
       "      <td>24.326606</td>\n",
       "      <td>15.001301</td>\n",
       "      <td>10.619730</td>\n",
       "      <td>8.235330</td>\n",
       "      <td>6.740440</td>\n",
       "      <td>5.719047</td>\n",
       "      <td>4.954567</td>\n",
       "      <td>...</td>\n",
       "      <td>0.142630</td>\n",
       "      <td>0.145330</td>\n",
       "      <td>0.148720</td>\n",
       "      <td>0.153110</td>\n",
       "      <td>0.159010</td>\n",
       "      <td>0.166880</td>\n",
       "      <td>0.177590</td>\n",
       "      <td>0.190960</td>\n",
       "      <td>0.201140</td>\n",
       "      <td>0.20431</td>\n",
       "    </tr>\n",
       "    <tr>\n",
       "      <th>670.0</th>\n",
       "      <td>206.811689</td>\n",
       "      <td>123.791589</td>\n",
       "      <td>54.790626</td>\n",
       "      <td>29.278102</td>\n",
       "      <td>18.188217</td>\n",
       "      <td>12.501833</td>\n",
       "      <td>9.253057</td>\n",
       "      <td>7.202291</td>\n",
       "      <td>5.836833</td>\n",
       "      <td>4.864310</td>\n",
       "      <td>...</td>\n",
       "      <td>0.174426</td>\n",
       "      <td>0.177016</td>\n",
       "      <td>0.180616</td>\n",
       "      <td>0.185931</td>\n",
       "      <td>0.193853</td>\n",
       "      <td>0.205097</td>\n",
       "      <td>0.220372</td>\n",
       "      <td>0.238313</td>\n",
       "      <td>0.251045</td>\n",
       "      <td>0.25468</td>\n",
       "    </tr>\n",
       "    <tr>\n",
       "      <th>674.0</th>\n",
       "      <td>205.229311</td>\n",
       "      <td>123.460721</td>\n",
       "      <td>54.792959</td>\n",
       "      <td>29.323766</td>\n",
       "      <td>18.229200</td>\n",
       "      <td>12.531160</td>\n",
       "      <td>9.271850</td>\n",
       "      <td>7.212720</td>\n",
       "      <td>5.840330</td>\n",
       "      <td>4.864310</td>\n",
       "      <td>...</td>\n",
       "      <td>0.174440</td>\n",
       "      <td>0.177030</td>\n",
       "      <td>0.180640</td>\n",
       "      <td>0.185990</td>\n",
       "      <td>0.193960</td>\n",
       "      <td>0.205260</td>\n",
       "      <td>0.220580</td>\n",
       "      <td>0.238530</td>\n",
       "      <td>0.251240</td>\n",
       "      <td>0.25486</td>\n",
       "    </tr>\n",
       "    <tr>\n",
       "      <th>871.0</th>\n",
       "      <td>146.050559</td>\n",
       "      <td>103.745197</td>\n",
       "      <td>53.831030</td>\n",
       "      <td>30.842166</td>\n",
       "      <td>19.830784</td>\n",
       "      <td>13.838570</td>\n",
       "      <td>10.250940</td>\n",
       "      <td>7.921090</td>\n",
       "      <td>6.332408</td>\n",
       "      <td>5.194203</td>\n",
       "      <td>...</td>\n",
       "      <td>0.174260</td>\n",
       "      <td>0.176890</td>\n",
       "      <td>0.180920</td>\n",
       "      <td>0.187200</td>\n",
       "      <td>0.196560</td>\n",
       "      <td>0.209550</td>\n",
       "      <td>0.226250</td>\n",
       "      <td>0.244360</td>\n",
       "      <td>0.256260</td>\n",
       "      <td>0.25939</td>\n",
       "    </tr>\n",
       "    <tr>\n",
       "      <th>1020.0</th>\n",
       "      <td>115.542406</td>\n",
       "      <td>89.131086</td>\n",
       "      <td>51.059776</td>\n",
       "      <td>30.766165</td>\n",
       "      <td>20.354427</td>\n",
       "      <td>14.465980</td>\n",
       "      <td>10.836390</td>\n",
       "      <td>8.431651</td>\n",
       "      <td>6.751410</td>\n",
       "      <td>5.527181</td>\n",
       "      <td>...</td>\n",
       "      <td>0.168220</td>\n",
       "      <td>0.170800</td>\n",
       "      <td>0.174950</td>\n",
       "      <td>0.181590</td>\n",
       "      <td>0.191530</td>\n",
       "      <td>0.205190</td>\n",
       "      <td>0.222380</td>\n",
       "      <td>0.240410</td>\n",
       "      <td>0.251890</td>\n",
       "      <td>0.25486</td>\n",
       "    </tr>\n",
       "  </tbody>\n",
       "</table>\n",
       "<p>5 rows × 83 columns</p>\n",
       "</div>"
      ],
      "text/plain": [
       "            0.00        1.71       3.93       6.16       8.39       10.63   \\\n",
       "441.0   339.824069  139.801186  48.916872  24.326606  15.001301  10.619730   \n",
       "670.0   206.811689  123.791589  54.790626  29.278102  18.188217  12.501833   \n",
       "674.0   205.229311  123.460721  54.792959  29.323766  18.229200  12.531160   \n",
       "871.0   146.050559  103.745197  53.831030  30.842166  19.830784  13.838570   \n",
       "1020.0  115.542406   89.131086  51.059776  30.766165  20.354427  14.465980   \n",
       "\n",
       "           12.86     15.10     17.33     19.57    ...       160.43    162.67  \\\n",
       "441.0    8.235330  6.740440  5.719047  4.954567   ...     0.142630  0.145330   \n",
       "670.0    9.253057  7.202291  5.836833  4.864310   ...     0.174426  0.177016   \n",
       "674.0    9.271850  7.212720  5.840330  4.864310   ...     0.174440  0.177030   \n",
       "871.0   10.250940  7.921090  6.332408  5.194203   ...     0.174260  0.176890   \n",
       "1020.0  10.836390  8.431651  6.751410  5.527181   ...     0.168220  0.170800   \n",
       "\n",
       "          164.90    167.14    169.37    171.61    173.84    176.07    178.29  \\\n",
       "441.0   0.148720  0.153110  0.159010  0.166880  0.177590  0.190960  0.201140   \n",
       "670.0   0.180616  0.185931  0.193853  0.205097  0.220372  0.238313  0.251045   \n",
       "674.0   0.180640  0.185990  0.193960  0.205260  0.220580  0.238530  0.251240   \n",
       "871.0   0.180920  0.187200  0.196560  0.209550  0.226250  0.244360  0.256260   \n",
       "1020.0  0.174950  0.181590  0.191530  0.205190  0.222380  0.240410  0.251890   \n",
       "\n",
       "         180.00  \n",
       "441.0   0.20431  \n",
       "670.0   0.25468  \n",
       "674.0   0.25486  \n",
       "871.0   0.25939  \n",
       "1020.0  0.25486  \n",
       "\n",
       "[5 rows x 83 columns]"
      ]
     },
     "execution_count": 6,
     "metadata": {},
     "output_type": "execute_result"
    }
   ],
   "source": [
    "df_phf.head()"
   ]
  },
  {
   "cell_type": "code",
   "execution_count": 7,
   "metadata": {},
   "outputs": [
    {
     "data": {
      "text/plain": [
       "<matplotlib.axes._subplots.AxesSubplot at 0x7f10c9393710>"
      ]
     },
     "execution_count": 7,
     "metadata": {},
     "output_type": "execute_result"
    },
    {
     "data": {
      "image/png": "[encoded data removed]",
      "text/plain": [
       "<matplotlib.figure.Figure at 0x7f10c9347390>"
      ]
     },
     "metadata": {},
     "output_type": "display_data"
    }
   ],
   "source": [
    "df_phf.T.plot(logy=True)"
   ]
  },
  {
   "cell_type": "markdown",
   "metadata": {},
   "source": [
    "## Load the Single-Scatter Albedo"
   ]
  },
  {
   "cell_type": "code",
   "execution_count": 8,
   "metadata": {},
   "outputs": [],
   "source": [
    "def parseSSA(path):\n",
    "    \"\"\"Parse the sunphotometer SSA data.\"\"\"\n",
    "\n",
    "    df = pd.read_csv(\n",
    "        path,\n",
    "        skiprows=3,\n",
    "        header=0,\n",
    "        parse_dates=[[0, 1]],\n",
    "        date_parser=dateparse,\n",
    "        index_col=0,\n",
    "        usecols=[0, 1]+list(range(3, 7))\n",
    "    )\n",
    "\n",
    "    wavelengths = [float(i[3:-2]) for i in df.columns]\n",
    "    df = df.rename(columns=dict(itertools.izip(df.columns, wavelengths)))\n",
    "    df.index.rename(\"datetime\", inplace=True)\n",
    "    \n",
    "    new_row = pd.Series(name=TIME, data=[None]*len(df.columns), index=df.columns)\n",
    "    df = df.append(new_row)\n",
    "    df = df.sort_index().interpolate(method=\"pchip\")\n",
    "\n",
    "    return df\n",
    "\n",
    "ssa_path = r\"../../data/aeronet/2017_05/170519_170519_Technion_Haifa_IL.ssa\"\n",
    "\n",
    "df_ssa = parseSSA(ssa_path)"
   ]
  },
  {
   "cell_type": "markdown",
   "metadata": {},
   "source": [
    "### Interpolate by wavelength"
   ]
  },
  {
   "cell_type": "code",
   "execution_count": 9,
   "metadata": {},
   "outputs": [],
   "source": [
    "new_row = pd.Series(name=WAVELENGTH, data=[None]*len(df_ssa.T.columns), index=df_ssa.T.columns)\n",
    "\n",
    "df_ssa = df_ssa.T.append(new_row).sort_index().interpolate(method=\"pchip\")"
   ]
  },
  {
   "cell_type": "code",
   "execution_count": 10,
   "metadata": {},
   "outputs": [
    {
     "data": {
      "text/plain": [
       "<matplotlib.axes._subplots.AxesSubplot at 0x7f10c75b0290>"
      ]
     },
     "execution_count": 10,
     "metadata": {},
     "output_type": "execute_result"
    },
    {
     "data": {
      "image/png": "[encoded data removed]",
      "text/plain": [
       "<matplotlib.figure.Figure at 0x7f10c75accd0>"
      ]
     },
     "metadata": {},
     "output_type": "display_data"
    }
   ],
   "source": [
    "df_ssa.T.loc[TIME].T.plot()"
   ]
  },
  {
   "cell_type": "code",
   "execution_count": 11,
   "metadata": {},
   "outputs": [
    {
     "data": {
      "text/plain": [
       "0.850234316002769"
      ]
     },
     "execution_count": 11,
     "metadata": {},
     "output_type": "execute_result"
    }
   ],
   "source": [
    "df_ssa.loc[WAVELENGTH][TIME]"
   ]
  },
  {
   "cell_type": "markdown",
   "metadata": {},
   "source": [
    "## Load the AOD"
   ]
  },
  {
   "cell_type": "code",
   "execution_count": 12,
   "metadata": {},
   "outputs": [],
   "source": [
    "def parseAOD(path):\n",
    "    \"\"\"Parse the sunphotometer AOD data.\"\"\"\n",
    "\n",
    "    df = pd.read_csv(\n",
    "        path,\n",
    "        skiprows=4,\n",
    "        header=0,\n",
    "        parse_dates=[[0, 1]],\n",
    "        date_parser=dateparse,\n",
    "        index_col=0,\n",
    "        usecols=[0, 1]+list(range(3, 14))\n",
    "    )\n",
    "\n",
    "    df.index.rename(\"datetime\", inplace=True)\n",
    "    \n",
    "    new_row = pd.Series(name=TIME, data=[None]*len(df.columns), index=df.columns)\n",
    "    df = df.append(new_row)\n",
    "    df = df.sort_index().interpolate(method=\"pchip\")\n",
    "\n",
    "    return df\n",
    "\n",
    "aod_path = r\"../../data/aeronet/2017_05/170519_170519_Technion_Haifa_IL.lev15\"\n",
    "\n",
    "df_aod = parseAOD(aod_path)"
   ]
  },
  {
   "cell_type": "code",
   "execution_count": 13,
   "metadata": {},
   "outputs": [
    {
     "data": {
      "text/plain": [
       "<matplotlib.axes._subplots.AxesSubplot at 0x7f10c75c6c90>"
      ]
     },
     "execution_count": 13,
     "metadata": {},
     "output_type": "execute_result"
    },
    {
     "data": {
      "image/png": "[encoded data removed]",
      "text/plain": [
       "<matplotlib.figure.Figure at 0x7f10c75cae50>"
      ]
     },
     "metadata": {},
     "output_type": "display_data"
    }
   ],
   "source": [
    "df_aod.plot()"
   ]
  },
  {
   "cell_type": "code",
   "execution_count": 14,
   "metadata": {},
   "outputs": [
    {
     "data": {
      "text/plain": [
       "0.097889875988507305"
      ]
     },
     "execution_count": 14,
     "metadata": {},
     "output_type": "execute_result"
    }
   ],
   "source": [
    "df_aod.AOT_675[TIME]"
   ]
  },
  {
   "cell_type": "markdown",
   "metadata": {},
   "source": [
    "# Calculate the Legndre Coefficients"
   ]
  },
  {
   "cell_type": "markdown",
   "metadata": {},
   "source": [
    "The (intensity) phase function is conventionally normalized as follows\n",
    "\n",
    "$$\\int_0^{2\\pi} \\int_0^\\pi P(\\Theta) \\sin(\\Theta) d\\Theta d\\phi = 4 \\pi$$\n",
    "\n",
    "Which is equivalent to\n",
    "\n",
    "$$\\int_{-1}^1 P(\\cos{\\Theta}) d(\\cos{\\Theta}) = 2$$\n",
    "\n",
    "Integrating the phase function from the sunphotometer gives:"
   ]
  },
  {
   "cell_type": "markdown",
   "metadata": {},
   "source": [
    "# Calculate the Legendre Coefficients"
   ]
  },
  {
   "cell_type": "markdown",
   "metadata": {},
   "source": [
    "## Use quadrature integration"
   ]
  },
  {
   "cell_type": "markdown",
   "metadata": {},
   "source": [
    "Note I am using linear interpolation. The reason is that higher order interpolation creates artifacts, probably due to the high directionality of the phase function."
   ]
  },
  {
   "cell_type": "code",
   "execution_count": 15,
   "metadata": {},
   "outputs": [],
   "source": [
    "COFFES_NUM = 300"
   ]
  },
  {
   "cell_type": "code",
   "execution_count": 16,
   "metadata": {},
   "outputs": [],
   "source": [
    "mu = np.cos(np.radians(wavelengths[::-1]))\n",
    "phase = df_phf.loc[WAVELENGTH].values[::-1]\n",
    "\n",
    "phase_interp = interp1d(mu, phase, kind=1)\n",
    "\n",
    "def func(x, l, lg):\n",
    "    return (2*l + 1)/2. * lg(x)*phase_interp(x)"
   ]
  },
  {
   "cell_type": "code",
   "execution_count": 17,
   "metadata": {
    "scrolled": true
   },
   "outputs": [
    {
     "data": {
      "application/vnd.jupyter.widget-view+json": {
       "model_id": "2c8cd1a748cc40d187c1c66809f116c4",
       "version_major": 2,
       "version_minor": 0
      },
      "text/plain": [
       "A Jupyter Widget"
      ]
     },
     "metadata": {},
     "output_type": "display_data"
    },
    {
     "name": "stderr",
     "output_type": "stream",
     "text": [
      "/home/amitibo/anaconda2/lib/python2.7/site-packages/scipy/integrate/quadrature.py:199: AccuracyWarning: maxiter (1000) exceeded. Latest difference = 3.346377e-06\n",
      "  AccuracyWarning)\n",
      "/home/amitibo/anaconda2/lib/python2.7/site-packages/scipy/integrate/quadrature.py:199: AccuracyWarning: maxiter (1000) exceeded. Latest difference = 1.003141e-05\n",
      "  AccuracyWarning)\n",
      "/home/amitibo/anaconda2/lib/python2.7/site-packages/scipy/integrate/quadrature.py:199: AccuracyWarning: maxiter (1000) exceeded. Latest difference = 1.664317e-05\n",
      "  AccuracyWarning)\n",
      "/home/amitibo/anaconda2/lib/python2.7/site-packages/scipy/integrate/quadrature.py:199: AccuracyWarning: maxiter (1000) exceeded. Latest difference = 2.919536e-05\n",
      "  AccuracyWarning)\n",
      "/home/amitibo/anaconda2/lib/python2.7/site-packages/scipy/integrate/quadrature.py:199: AccuracyWarning: maxiter (1000) exceeded. Latest difference = 3.518868e-05\n",
      "  AccuracyWarning)\n",
      "/home/amitibo/anaconda2/lib/python2.7/site-packages/scipy/integrate/quadrature.py:199: AccuracyWarning: maxiter (1000) exceeded. Latest difference = 4.113336e-05\n",
      "  AccuracyWarning)\n",
      "/home/amitibo/anaconda2/lib/python2.7/site-packages/scipy/integrate/quadrature.py:199: AccuracyWarning: maxiter (1000) exceeded. Latest difference = 4.714763e-05\n",
      "  AccuracyWarning)\n",
      "/home/amitibo/anaconda2/lib/python2.7/site-packages/scipy/integrate/quadrature.py:199: AccuracyWarning: maxiter (1000) exceeded. Latest difference = 5.303101e-05\n",
      "  AccuracyWarning)\n",
      "/home/amitibo/anaconda2/lib/python2.7/site-packages/scipy/integrate/quadrature.py:199: AccuracyWarning: maxiter (1000) exceeded. Latest difference = 5.876099e-05\n",
      "  AccuracyWarning)\n",
      "/home/amitibo/anaconda2/lib/python2.7/site-packages/scipy/integrate/quadrature.py:199: AccuracyWarning: maxiter (1000) exceeded. Latest difference = 6.425648e-05\n",
      "  AccuracyWarning)\n",
      "/home/amitibo/anaconda2/lib/python2.7/site-packages/scipy/integrate/quadrature.py:199: AccuracyWarning: maxiter (1000) exceeded. Latest difference = 6.961167e-05\n",
      "  AccuracyWarning)\n",
      "/home/amitibo/anaconda2/lib/python2.7/site-packages/scipy/integrate/quadrature.py:199: AccuracyWarning: maxiter (1000) exceeded. Latest difference = 7.441816e-05\n",
      "  AccuracyWarning)\n",
      "/home/amitibo/anaconda2/lib/python2.7/site-packages/scipy/integrate/quadrature.py:199: AccuracyWarning: maxiter (1000) exceeded. Latest difference = 7.850870e-05\n",
      "  AccuracyWarning)\n",
      "/home/amitibo/anaconda2/lib/python2.7/site-packages/scipy/integrate/quadrature.py:199: AccuracyWarning: maxiter (1000) exceeded. Latest difference = 8.192193e-05\n",
      "  AccuracyWarning)\n",
      "/home/amitibo/anaconda2/lib/python2.7/site-packages/scipy/integrate/quadrature.py:199: AccuracyWarning: maxiter (1000) exceeded. Latest difference = 8.497634e-05\n",
      "  AccuracyWarning)\n",
      "/home/amitibo/anaconda2/lib/python2.7/site-packages/scipy/integrate/quadrature.py:199: AccuracyWarning: maxiter (1000) exceeded. Latest difference = 8.764808e-05\n",
      "  AccuracyWarning)\n",
      "/home/amitibo/anaconda2/lib/python2.7/site-packages/scipy/integrate/quadrature.py:199: AccuracyWarning: maxiter (1000) exceeded. Latest difference = 9.001399e-05\n",
      "  AccuracyWarning)\n",
      "/home/amitibo/anaconda2/lib/python2.7/site-packages/scipy/integrate/quadrature.py:199: AccuracyWarning: maxiter (1000) exceeded. Latest difference = 9.207620e-05\n",
      "  AccuracyWarning)\n",
      "/home/amitibo/anaconda2/lib/python2.7/site-packages/scipy/integrate/quadrature.py:199: AccuracyWarning: maxiter (1000) exceeded. Latest difference = 9.390509e-05\n",
      "  AccuracyWarning)\n",
      "/home/amitibo/anaconda2/lib/python2.7/site-packages/scipy/integrate/quadrature.py:199: AccuracyWarning: maxiter (1000) exceeded. Latest difference = 9.533094e-05\n",
      "  AccuracyWarning)\n",
      "/home/amitibo/anaconda2/lib/python2.7/site-packages/scipy/integrate/quadrature.py:199: AccuracyWarning: maxiter (1000) exceeded. Latest difference = 9.640883e-05\n",
      "  AccuracyWarning)\n",
      "/home/amitibo/anaconda2/lib/python2.7/site-packages/scipy/integrate/quadrature.py:199: AccuracyWarning: maxiter (1000) exceeded. Latest difference = 9.795072e-05\n",
      "  AccuracyWarning)\n",
      "/home/amitibo/anaconda2/lib/python2.7/site-packages/scipy/integrate/quadrature.py:199: AccuracyWarning: maxiter (1000) exceeded. Latest difference = 1.000602e-04\n",
      "  AccuracyWarning)\n",
      "/home/amitibo/anaconda2/lib/python2.7/site-packages/scipy/integrate/quadrature.py:199: AccuracyWarning: maxiter (1000) exceeded. Latest difference = 1.010775e-04\n",
      "  AccuracyWarning)\n",
      "/home/amitibo/anaconda2/lib/python2.7/site-packages/scipy/integrate/quadrature.py:199: AccuracyWarning: maxiter (1000) exceeded. Latest difference = 9.805482e-05\n",
      "  AccuracyWarning)\n",
      "/home/amitibo/anaconda2/lib/python2.7/site-packages/scipy/integrate/quadrature.py:199: AccuracyWarning: maxiter (1000) exceeded. Latest difference = 9.043299e-05\n",
      "  AccuracyWarning)\n",
      "/home/amitibo/anaconda2/lib/python2.7/site-packages/scipy/integrate/quadrature.py:199: AccuracyWarning: maxiter (1000) exceeded. Latest difference = 7.766309e-05\n",
      "  AccuracyWarning)\n",
      "/home/amitibo/anaconda2/lib/python2.7/site-packages/scipy/integrate/quadrature.py:199: AccuracyWarning: maxiter (1000) exceeded. Latest difference = 2.722375e-05\n",
      "  AccuracyWarning)\n",
      "/home/amitibo/anaconda2/lib/python2.7/site-packages/scipy/integrate/quadrature.py:199: AccuracyWarning: maxiter (1000) exceeded. Latest difference = 7.815053e-06\n",
      "  AccuracyWarning)\n",
      "/home/amitibo/anaconda2/lib/python2.7/site-packages/scipy/integrate/quadrature.py:199: AccuracyWarning: maxiter (1000) exceeded. Latest difference = 1.288532e-05\n",
      "  AccuracyWarning)\n",
      "/home/amitibo/anaconda2/lib/python2.7/site-packages/scipy/integrate/quadrature.py:199: AccuracyWarning: maxiter (1000) exceeded. Latest difference = 3.509295e-05\n",
      "  AccuracyWarning)\n",
      "/home/amitibo/anaconda2/lib/python2.7/site-packages/scipy/integrate/quadrature.py:199: AccuracyWarning: maxiter (1000) exceeded. Latest difference = 5.809179e-05\n",
      "  AccuracyWarning)\n",
      "/home/amitibo/anaconda2/lib/python2.7/site-packages/scipy/integrate/quadrature.py:199: AccuracyWarning: maxiter (1000) exceeded. Latest difference = 8.152678e-05\n",
      "  AccuracyWarning)\n",
      "/home/amitibo/anaconda2/lib/python2.7/site-packages/scipy/integrate/quadrature.py:199: AccuracyWarning: maxiter (1000) exceeded. Latest difference = 1.055765e-04\n",
      "  AccuracyWarning)\n",
      "/home/amitibo/anaconda2/lib/python2.7/site-packages/scipy/integrate/quadrature.py:199: AccuracyWarning: maxiter (1000) exceeded. Latest difference = 1.306812e-04\n",
      "  AccuracyWarning)\n",
      "/home/amitibo/anaconda2/lib/python2.7/site-packages/scipy/integrate/quadrature.py:199: AccuracyWarning: maxiter (1000) exceeded. Latest difference = 1.565988e-04\n",
      "  AccuracyWarning)\n",
      "/home/amitibo/anaconda2/lib/python2.7/site-packages/scipy/integrate/quadrature.py:199: AccuracyWarning: maxiter (1000) exceeded. Latest difference = 2.081903e-04\n",
      "  AccuracyWarning)\n",
      "/home/amitibo/anaconda2/lib/python2.7/site-packages/scipy/integrate/quadrature.py:199: AccuracyWarning: maxiter (1000) exceeded. Latest difference = 2.320793e-04\n",
      "  AccuracyWarning)\n",
      "/home/amitibo/anaconda2/lib/python2.7/site-packages/scipy/integrate/quadrature.py:199: AccuracyWarning: maxiter (1000) exceeded. Latest difference = 2.539399e-04\n",
      "  AccuracyWarning)\n",
      "/home/amitibo/anaconda2/lib/python2.7/site-packages/scipy/integrate/quadrature.py:199: AccuracyWarning: maxiter (1000) exceeded. Latest difference = 2.727512e-04\n",
      "  AccuracyWarning)\n",
      "/home/amitibo/anaconda2/lib/python2.7/site-packages/scipy/integrate/quadrature.py:199: AccuracyWarning: maxiter (1000) exceeded. Latest difference = 2.891280e-04\n",
      "  AccuracyWarning)\n",
      "/home/amitibo/anaconda2/lib/python2.7/site-packages/scipy/integrate/quadrature.py:199: AccuracyWarning: maxiter (1000) exceeded. Latest difference = 3.034974e-04\n",
      "  AccuracyWarning)\n",
      "/home/amitibo/anaconda2/lib/python2.7/site-packages/scipy/integrate/quadrature.py:199: AccuracyWarning: maxiter (1000) exceeded. Latest difference = 3.173295e-04\n",
      "  AccuracyWarning)\n",
      "/home/amitibo/anaconda2/lib/python2.7/site-packages/scipy/integrate/quadrature.py:199: AccuracyWarning: maxiter (1000) exceeded. Latest difference = 3.317069e-04\n",
      "  AccuracyWarning)\n",
      "/home/amitibo/anaconda2/lib/python2.7/site-packages/scipy/integrate/quadrature.py:199: AccuracyWarning: maxiter (1000) exceeded. Latest difference = 3.466507e-04\n",
      "  AccuracyWarning)\n",
      "/home/amitibo/anaconda2/lib/python2.7/site-packages/scipy/integrate/quadrature.py:199: AccuracyWarning: maxiter (1000) exceeded. Latest difference = 3.617038e-04\n",
      "  AccuracyWarning)\n"
     ]
    },
    {
     "name": "stderr",
     "output_type": "stream",
     "text": [
      "/home/amitibo/anaconda2/lib/python2.7/site-packages/scipy/integrate/quadrature.py:199: AccuracyWarning: maxiter (1000) exceeded. Latest difference = 3.761422e-04\n",
      "  AccuracyWarning)\n",
      "/home/amitibo/anaconda2/lib/python2.7/site-packages/scipy/integrate/quadrature.py:199: AccuracyWarning: maxiter (1000) exceeded. Latest difference = 4.010101e-04\n",
      "  AccuracyWarning)\n",
      "/home/amitibo/anaconda2/lib/python2.7/site-packages/scipy/integrate/quadrature.py:199: AccuracyWarning: maxiter (1000) exceeded. Latest difference = 4.107946e-04\n",
      "  AccuracyWarning)\n",
      "/home/amitibo/anaconda2/lib/python2.7/site-packages/scipy/integrate/quadrature.py:199: AccuracyWarning: maxiter (1000) exceeded. Latest difference = 4.181619e-04\n",
      "  AccuracyWarning)\n",
      "/home/amitibo/anaconda2/lib/python2.7/site-packages/scipy/integrate/quadrature.py:199: AccuracyWarning: maxiter (1000) exceeded. Latest difference = 4.214090e-04\n",
      "  AccuracyWarning)\n",
      "/home/amitibo/anaconda2/lib/python2.7/site-packages/scipy/integrate/quadrature.py:199: AccuracyWarning: maxiter (1000) exceeded. Latest difference = 4.217327e-04\n",
      "  AccuracyWarning)\n",
      "/home/amitibo/anaconda2/lib/python2.7/site-packages/scipy/integrate/quadrature.py:199: AccuracyWarning: maxiter (1000) exceeded. Latest difference = 4.186499e-04\n",
      "  AccuracyWarning)\n",
      "/home/amitibo/anaconda2/lib/python2.7/site-packages/scipy/integrate/quadrature.py:199: AccuracyWarning: maxiter (1000) exceeded. Latest difference = 4.126195e-04\n",
      "  AccuracyWarning)\n",
      "/home/amitibo/anaconda2/lib/python2.7/site-packages/scipy/integrate/quadrature.py:199: AccuracyWarning: maxiter (1000) exceeded. Latest difference = 4.023800e-04\n",
      "  AccuracyWarning)\n",
      "/home/amitibo/anaconda2/lib/python2.7/site-packages/scipy/integrate/quadrature.py:199: AccuracyWarning: maxiter (1000) exceeded. Latest difference = 3.889576e-04\n",
      "  AccuracyWarning)\n",
      "/home/amitibo/anaconda2/lib/python2.7/site-packages/scipy/integrate/quadrature.py:199: AccuracyWarning: maxiter (1000) exceeded. Latest difference = 3.717299e-04\n",
      "  AccuracyWarning)\n",
      "/home/amitibo/anaconda2/lib/python2.7/site-packages/scipy/integrate/quadrature.py:199: AccuracyWarning: maxiter (1000) exceeded. Latest difference = 3.509985e-04\n",
      "  AccuracyWarning)\n",
      "/home/amitibo/anaconda2/lib/python2.7/site-packages/scipy/integrate/quadrature.py:199: AccuracyWarning: maxiter (1000) exceeded. Latest difference = 3.254107e-04\n",
      "  AccuracyWarning)\n",
      "/home/amitibo/anaconda2/lib/python2.7/site-packages/scipy/integrate/quadrature.py:199: AccuracyWarning: maxiter (1000) exceeded. Latest difference = 2.951266e-04\n",
      "  AccuracyWarning)\n",
      "/home/amitibo/anaconda2/lib/python2.7/site-packages/scipy/integrate/quadrature.py:199: AccuracyWarning: maxiter (1000) exceeded. Latest difference = 2.577037e-04\n",
      "  AccuracyWarning)\n",
      "/home/amitibo/anaconda2/lib/python2.7/site-packages/scipy/integrate/quadrature.py:199: AccuracyWarning: maxiter (1000) exceeded. Latest difference = 2.096858e-04\n",
      "  AccuracyWarning)\n",
      "/home/amitibo/anaconda2/lib/python2.7/site-packages/scipy/integrate/quadrature.py:199: AccuracyWarning: maxiter (1000) exceeded. Latest difference = 1.519536e-04\n",
      "  AccuracyWarning)\n",
      "/home/amitibo/anaconda2/lib/python2.7/site-packages/scipy/integrate/quadrature.py:199: AccuracyWarning: maxiter (1000) exceeded. Latest difference = 4.907172e-05\n",
      "  AccuracyWarning)\n",
      "/home/amitibo/anaconda2/lib/python2.7/site-packages/scipy/integrate/quadrature.py:199: AccuracyWarning: maxiter (1000) exceeded. Latest difference = 3.597187e-05\n",
      "  AccuracyWarning)\n",
      "/home/amitibo/anaconda2/lib/python2.7/site-packages/scipy/integrate/quadrature.py:199: AccuracyWarning: maxiter (1000) exceeded. Latest difference = 2.342456e-05\n",
      "  AccuracyWarning)\n",
      "/home/amitibo/anaconda2/lib/python2.7/site-packages/scipy/integrate/quadrature.py:199: AccuracyWarning: maxiter (1000) exceeded. Latest difference = 1.331483e-05\n",
      "  AccuracyWarning)\n",
      "/home/amitibo/anaconda2/lib/python2.7/site-packages/scipy/integrate/quadrature.py:199: AccuracyWarning: maxiter (1000) exceeded. Latest difference = 4.202718e-06\n",
      "  AccuracyWarning)\n",
      "/home/amitibo/anaconda2/lib/python2.7/site-packages/scipy/integrate/quadrature.py:199: AccuracyWarning: maxiter (1000) exceeded. Latest difference = 2.786088e-06\n",
      "  AccuracyWarning)\n",
      "/home/amitibo/anaconda2/lib/python2.7/site-packages/scipy/integrate/quadrature.py:199: AccuracyWarning: maxiter (1000) exceeded. Latest difference = 9.071701e-06\n",
      "  AccuracyWarning)\n",
      "/home/amitibo/anaconda2/lib/python2.7/site-packages/scipy/integrate/quadrature.py:199: AccuracyWarning: maxiter (1000) exceeded. Latest difference = 1.383404e-05\n",
      "  AccuracyWarning)\n",
      "/home/amitibo/anaconda2/lib/python2.7/site-packages/scipy/integrate/quadrature.py:199: AccuracyWarning: maxiter (1000) exceeded. Latest difference = 2.415415e-05\n",
      "  AccuracyWarning)\n",
      "/home/amitibo/anaconda2/lib/python2.7/site-packages/scipy/integrate/quadrature.py:199: AccuracyWarning: maxiter (1000) exceeded. Latest difference = 2.992191e-05\n",
      "  AccuracyWarning)\n",
      "/home/amitibo/anaconda2/lib/python2.7/site-packages/scipy/integrate/quadrature.py:199: AccuracyWarning: maxiter (1000) exceeded. Latest difference = 3.538193e-05\n",
      "  AccuracyWarning)\n",
      "/home/amitibo/anaconda2/lib/python2.7/site-packages/scipy/integrate/quadrature.py:199: AccuracyWarning: maxiter (1000) exceeded. Latest difference = 4.041351e-05\n",
      "  AccuracyWarning)\n",
      "/home/amitibo/anaconda2/lib/python2.7/site-packages/scipy/integrate/quadrature.py:199: AccuracyWarning: maxiter (1000) exceeded. Latest difference = 4.573241e-05\n",
      "  AccuracyWarning)\n",
      "/home/amitibo/anaconda2/lib/python2.7/site-packages/scipy/integrate/quadrature.py:199: AccuracyWarning: maxiter (1000) exceeded. Latest difference = 5.076529e-05\n",
      "  AccuracyWarning)\n",
      "/home/amitibo/anaconda2/lib/python2.7/site-packages/scipy/integrate/quadrature.py:199: AccuracyWarning: maxiter (1000) exceeded. Latest difference = 5.666139e-05\n",
      "  AccuracyWarning)\n",
      "/home/amitibo/anaconda2/lib/python2.7/site-packages/scipy/integrate/quadrature.py:199: AccuracyWarning: maxiter (1000) exceeded. Latest difference = 6.316709e-05\n",
      "  AccuracyWarning)\n",
      "/home/amitibo/anaconda2/lib/python2.7/site-packages/scipy/special/orthogonal.py:142: RuntimeWarning: invalid value encountered in multiply\n",
      "  self.__dict__['coeffs'] *= float(kn)\n",
      "/home/amitibo/anaconda2/lib/python2.7/site-packages/scipy/integrate/quadrature.py:199: AccuracyWarning: maxiter (1000) exceeded. Latest difference = 7.232246e-05\n",
      "  AccuracyWarning)\n",
      "/home/amitibo/anaconda2/lib/python2.7/site-packages/scipy/integrate/quadrature.py:199: AccuracyWarning: maxiter (1000) exceeded. Latest difference = 8.246352e-05\n",
      "  AccuracyWarning)\n",
      "/home/amitibo/anaconda2/lib/python2.7/site-packages/scipy/integrate/quadrature.py:199: AccuracyWarning: maxiter (1000) exceeded. Latest difference = 9.454522e-05\n",
      "  AccuracyWarning)\n",
      "/home/amitibo/anaconda2/lib/python2.7/site-packages/scipy/integrate/quadrature.py:199: AccuracyWarning: maxiter (1000) exceeded. Latest difference = 1.073122e-04\n",
      "  AccuracyWarning)\n",
      "/home/amitibo/anaconda2/lib/python2.7/site-packages/scipy/integrate/quadrature.py:199: AccuracyWarning: maxiter (1000) exceeded. Latest difference = 1.261392e-04\n",
      "  AccuracyWarning)\n",
      "/home/amitibo/anaconda2/lib/python2.7/site-packages/scipy/integrate/quadrature.py:199: AccuracyWarning: maxiter (1000) exceeded. Latest difference = 1.587216e-04\n",
      "  AccuracyWarning)\n",
      "/home/amitibo/anaconda2/lib/python2.7/site-packages/scipy/integrate/quadrature.py:199: AccuracyWarning: maxiter (1000) exceeded. Latest difference = 2.123659e-04\n",
      "  AccuracyWarning)\n",
      "/home/amitibo/anaconda2/lib/python2.7/site-packages/scipy/integrate/quadrature.py:199: AccuracyWarning: maxiter (1000) exceeded. Latest difference = 2.726325e-04\n",
      "  AccuracyWarning)\n",
      "/home/amitibo/anaconda2/lib/python2.7/site-packages/scipy/integrate/quadrature.py:199: AccuracyWarning: maxiter (1000) exceeded. Latest difference = 3.251427e-04\n",
      "  AccuracyWarning)\n",
      "/home/amitibo/anaconda2/lib/python2.7/site-packages/scipy/integrate/quadrature.py:199: AccuracyWarning: maxiter (1000) exceeded. Latest difference = 3.679177e-04\n",
      "  AccuracyWarning)\n",
      "/home/amitibo/anaconda2/lib/python2.7/site-packages/scipy/integrate/quadrature.py:199: AccuracyWarning: maxiter (1000) exceeded. Latest difference = 4.035994e-04\n",
      "  AccuracyWarning)\n",
      "/home/amitibo/anaconda2/lib/python2.7/site-packages/scipy/special/orthogonal.py:1965: RuntimeWarning: overflow encountered in double_scalars\n",
      "  kn = _gam(2 * n + 1) / _gam(n + 1)**2 / 2.0**n\n",
      "/home/amitibo/anaconda2/lib/python2.7/site-packages/scipy/special/orthogonal.py:1965: RuntimeWarning: invalid value encountered in double_scalars\n",
      "  kn = _gam(2 * n + 1) / _gam(n + 1)**2 / 2.0**n\n"
     ]
    },
    {
     "name": "stderr",
     "output_type": "stream",
     "text": [
      "/home/amitibo/anaconda2/lib/python2.7/site-packages/scipy/integrate/quadrature.py:199: AccuracyWarning: maxiter (1000) exceeded. Latest difference = 4.625910e-04\n",
      "  AccuracyWarning)\n",
      "/home/amitibo/anaconda2/lib/python2.7/site-packages/scipy/integrate/quadrature.py:199: AccuracyWarning: maxiter (1000) exceeded. Latest difference = 4.869362e-04\n",
      "  AccuracyWarning)\n",
      "/home/amitibo/anaconda2/lib/python2.7/site-packages/scipy/integrate/quadrature.py:199: AccuracyWarning: maxiter (1000) exceeded. Latest difference = 5.071318e-04\n",
      "  AccuracyWarning)\n",
      "/home/amitibo/anaconda2/lib/python2.7/site-packages/scipy/integrate/quadrature.py:199: AccuracyWarning: maxiter (1000) exceeded. Latest difference = 5.242445e-04\n",
      "  AccuracyWarning)\n",
      "/home/amitibo/anaconda2/lib/python2.7/site-packages/scipy/integrate/quadrature.py:199: AccuracyWarning: maxiter (1000) exceeded. Latest difference = 5.375277e-04\n",
      "  AccuracyWarning)\n",
      "/home/amitibo/anaconda2/lib/python2.7/site-packages/scipy/integrate/quadrature.py:199: AccuracyWarning: maxiter (1000) exceeded. Latest difference = 5.475492e-04\n",
      "  AccuracyWarning)\n",
      "/home/amitibo/anaconda2/lib/python2.7/site-packages/scipy/integrate/quadrature.py:199: AccuracyWarning: maxiter (1000) exceeded. Latest difference = 5.529373e-04\n",
      "  AccuracyWarning)\n",
      "/home/amitibo/anaconda2/lib/python2.7/site-packages/scipy/integrate/quadrature.py:199: AccuracyWarning: maxiter (1000) exceeded. Latest difference = 5.546270e-04\n",
      "  AccuracyWarning)\n",
      "/home/amitibo/anaconda2/lib/python2.7/site-packages/scipy/integrate/quadrature.py:199: AccuracyWarning: maxiter (1000) exceeded. Latest difference = 5.515631e-04\n",
      "  AccuracyWarning)\n",
      "/home/amitibo/anaconda2/lib/python2.7/site-packages/scipy/integrate/quadrature.py:199: AccuracyWarning: maxiter (1000) exceeded. Latest difference = 5.451231e-04\n",
      "  AccuracyWarning)\n",
      "/home/amitibo/anaconda2/lib/python2.7/site-packages/scipy/integrate/quadrature.py:199: AccuracyWarning: maxiter (1000) exceeded. Latest difference = 5.351233e-04\n",
      "  AccuracyWarning)\n",
      "/home/amitibo/anaconda2/lib/python2.7/site-packages/scipy/integrate/quadrature.py:199: AccuracyWarning: maxiter (1000) exceeded. Latest difference = 5.231779e-04\n",
      "  AccuracyWarning)\n",
      "/home/amitibo/anaconda2/lib/python2.7/site-packages/scipy/integrate/quadrature.py:199: AccuracyWarning: maxiter (1000) exceeded. Latest difference = 5.096988e-04\n",
      "  AccuracyWarning)\n",
      "/home/amitibo/anaconda2/lib/python2.7/site-packages/scipy/integrate/quadrature.py:199: AccuracyWarning: maxiter (1000) exceeded. Latest difference = 4.950196e-04\n",
      "  AccuracyWarning)\n",
      "/home/amitibo/anaconda2/lib/python2.7/site-packages/scipy/integrate/quadrature.py:199: AccuracyWarning: maxiter (1000) exceeded. Latest difference = 4.794863e-04\n",
      "  AccuracyWarning)\n",
      "/home/amitibo/anaconda2/lib/python2.7/site-packages/scipy/integrate/quadrature.py:199: AccuracyWarning: maxiter (1000) exceeded. Latest difference = 4.645065e-04\n",
      "  AccuracyWarning)\n",
      "/home/amitibo/anaconda2/lib/python2.7/site-packages/scipy/integrate/quadrature.py:199: AccuracyWarning: maxiter (1000) exceeded. Latest difference = 4.507544e-04\n",
      "  AccuracyWarning)\n",
      "/home/amitibo/anaconda2/lib/python2.7/site-packages/scipy/integrate/quadrature.py:199: AccuracyWarning: maxiter (1000) exceeded. Latest difference = 4.358668e-04\n",
      "  AccuracyWarning)\n",
      "/home/amitibo/anaconda2/lib/python2.7/site-packages/scipy/integrate/quadrature.py:199: AccuracyWarning: maxiter (1000) exceeded. Latest difference = 4.166486e-04\n",
      "  AccuracyWarning)\n",
      "/home/amitibo/anaconda2/lib/python2.7/site-packages/scipy/integrate/quadrature.py:199: AccuracyWarning: maxiter (1000) exceeded. Latest difference = 3.929813e-04\n",
      "  AccuracyWarning)\n",
      "/home/amitibo/anaconda2/lib/python2.7/site-packages/scipy/integrate/quadrature.py:199: AccuracyWarning: maxiter (1000) exceeded. Latest difference = 3.642953e-04\n",
      "  AccuracyWarning)\n",
      "/home/amitibo/anaconda2/lib/python2.7/site-packages/scipy/integrate/quadrature.py:199: AccuracyWarning: maxiter (1000) exceeded. Latest difference = 3.313514e-04\n",
      "  AccuracyWarning)\n",
      "/home/amitibo/anaconda2/lib/python2.7/site-packages/scipy/integrate/quadrature.py:199: AccuracyWarning: maxiter (1000) exceeded. Latest difference = 2.937310e-04\n",
      "  AccuracyWarning)\n",
      "/home/amitibo/anaconda2/lib/python2.7/site-packages/scipy/integrate/quadrature.py:199: AccuracyWarning: maxiter (1000) exceeded. Latest difference = 2.541011e-04\n",
      "  AccuracyWarning)\n",
      "/home/amitibo/anaconda2/lib/python2.7/site-packages/scipy/integrate/quadrature.py:199: AccuracyWarning: maxiter (1000) exceeded. Latest difference = 2.139765e-04\n",
      "  AccuracyWarning)\n",
      "/home/amitibo/anaconda2/lib/python2.7/site-packages/scipy/integrate/quadrature.py:199: AccuracyWarning: maxiter (1000) exceeded. Latest difference = 1.738214e-04\n",
      "  AccuracyWarning)\n",
      "/home/amitibo/anaconda2/lib/python2.7/site-packages/scipy/integrate/quadrature.py:199: AccuracyWarning: maxiter (1000) exceeded. Latest difference = 1.332337e-04\n",
      "  AccuracyWarning)\n",
      "/home/amitibo/anaconda2/lib/python2.7/site-packages/scipy/integrate/quadrature.py:199: AccuracyWarning: maxiter (1000) exceeded. Latest difference = 9.222611e-05\n",
      "  AccuracyWarning)\n",
      "/home/amitibo/anaconda2/lib/python2.7/site-packages/scipy/integrate/quadrature.py:199: AccuracyWarning: maxiter (1000) exceeded. Latest difference = 5.114958e-05\n",
      "  AccuracyWarning)\n",
      "/home/amitibo/anaconda2/lib/python2.7/site-packages/scipy/integrate/quadrature.py:199: AccuracyWarning: maxiter (1000) exceeded. Latest difference = 9.929347e-06\n",
      "  AccuracyWarning)\n",
      "/home/amitibo/anaconda2/lib/python2.7/site-packages/scipy/integrate/quadrature.py:199: AccuracyWarning: maxiter (1000) exceeded. Latest difference = 3.084922e-05\n",
      "  AccuracyWarning)\n",
      "/home/amitibo/anaconda2/lib/python2.7/site-packages/scipy/integrate/quadrature.py:199: AccuracyWarning: maxiter (1000) exceeded. Latest difference = 7.072021e-05\n",
      "  AccuracyWarning)\n",
      "/home/amitibo/anaconda2/lib/python2.7/site-packages/scipy/integrate/quadrature.py:199: AccuracyWarning: maxiter (1000) exceeded. Latest difference = 1.084421e-04\n",
      "  AccuracyWarning)\n",
      "/home/amitibo/anaconda2/lib/python2.7/site-packages/scipy/integrate/quadrature.py:199: AccuracyWarning: maxiter (1000) exceeded. Latest difference = 1.459339e-04\n",
      "  AccuracyWarning)\n",
      "/home/amitibo/anaconda2/lib/python2.7/site-packages/scipy/integrate/quadrature.py:199: AccuracyWarning: maxiter (1000) exceeded. Latest difference = 1.826249e-04\n",
      "  AccuracyWarning)\n",
      "/home/amitibo/anaconda2/lib/python2.7/site-packages/scipy/integrate/quadrature.py:199: AccuracyWarning: maxiter (1000) exceeded. Latest difference = 2.147074e-04\n",
      "  AccuracyWarning)\n",
      "/home/amitibo/anaconda2/lib/python2.7/site-packages/scipy/integrate/quadrature.py:199: AccuracyWarning: maxiter (1000) exceeded. Latest difference = 2.349976e-04\n",
      "  AccuracyWarning)\n",
      "/home/amitibo/anaconda2/lib/python2.7/site-packages/scipy/integrate/quadrature.py:199: AccuracyWarning: maxiter (1000) exceeded. Latest difference = 2.448773e-04\n",
      "  AccuracyWarning)\n",
      "/home/amitibo/anaconda2/lib/python2.7/site-packages/scipy/integrate/quadrature.py:199: AccuracyWarning: maxiter (1000) exceeded. Latest difference = 2.459203e-04\n",
      "  AccuracyWarning)\n",
      "/home/amitibo/anaconda2/lib/python2.7/site-packages/scipy/integrate/quadrature.py:199: AccuracyWarning: maxiter (1000) exceeded. Latest difference = 2.444231e-04\n",
      "  AccuracyWarning)\n",
      "/home/amitibo/anaconda2/lib/python2.7/site-packages/scipy/integrate/quadrature.py:199: AccuracyWarning: maxiter (1000) exceeded. Latest difference = 2.439216e-04\n",
      "  AccuracyWarning)\n",
      "/home/amitibo/anaconda2/lib/python2.7/site-packages/scipy/integrate/quadrature.py:199: AccuracyWarning: maxiter (1000) exceeded. Latest difference = 2.451462e-04\n",
      "  AccuracyWarning)\n",
      "/home/amitibo/anaconda2/lib/python2.7/site-packages/scipy/integrate/quadrature.py:199: AccuracyWarning: maxiter (1000) exceeded. Latest difference = 2.468194e-04\n",
      "  AccuracyWarning)\n",
      "/home/amitibo/anaconda2/lib/python2.7/site-packages/scipy/integrate/quadrature.py:199: AccuracyWarning: maxiter (1000) exceeded. Latest difference = 2.479510e-04\n",
      "  AccuracyWarning)\n",
      "/home/amitibo/anaconda2/lib/python2.7/site-packages/scipy/integrate/quadrature.py:199: AccuracyWarning: maxiter (1000) exceeded. Latest difference = 2.481972e-04\n",
      "  AccuracyWarning)\n",
      "/home/amitibo/anaconda2/lib/python2.7/site-packages/scipy/integrate/quadrature.py:199: AccuracyWarning: maxiter (1000) exceeded. Latest difference = 2.481688e-04\n",
      "  AccuracyWarning)\n"
     ]
    },
    {
     "name": "stderr",
     "output_type": "stream",
     "text": [
      "/home/amitibo/anaconda2/lib/python2.7/site-packages/scipy/integrate/quadrature.py:199: AccuracyWarning: maxiter (1000) exceeded. Latest difference = 2.487201e-04\n",
      "  AccuracyWarning)\n",
      "/home/amitibo/anaconda2/lib/python2.7/site-packages/scipy/integrate/quadrature.py:199: AccuracyWarning: maxiter (1000) exceeded. Latest difference = 2.487035e-04\n",
      "  AccuracyWarning)\n",
      "/home/amitibo/anaconda2/lib/python2.7/site-packages/scipy/integrate/quadrature.py:199: AccuracyWarning: maxiter (1000) exceeded. Latest difference = 2.473339e-04\n",
      "  AccuracyWarning)\n",
      "/home/amitibo/anaconda2/lib/python2.7/site-packages/scipy/integrate/quadrature.py:199: AccuracyWarning: maxiter (1000) exceeded. Latest difference = 2.442767e-04\n",
      "  AccuracyWarning)\n",
      "/home/amitibo/anaconda2/lib/python2.7/site-packages/scipy/integrate/quadrature.py:199: AccuracyWarning: maxiter (1000) exceeded. Latest difference = 2.400734e-04\n",
      "  AccuracyWarning)\n",
      "/home/amitibo/anaconda2/lib/python2.7/site-packages/scipy/integrate/quadrature.py:199: AccuracyWarning: maxiter (1000) exceeded. Latest difference = 2.341500e-04\n",
      "  AccuracyWarning)\n",
      "/home/amitibo/anaconda2/lib/python2.7/site-packages/scipy/integrate/quadrature.py:199: AccuracyWarning: maxiter (1000) exceeded. Latest difference = 2.270605e-04\n",
      "  AccuracyWarning)\n",
      "/home/amitibo/anaconda2/lib/python2.7/site-packages/scipy/integrate/quadrature.py:199: AccuracyWarning: maxiter (1000) exceeded. Latest difference = 2.191633e-04\n",
      "  AccuracyWarning)\n",
      "/home/amitibo/anaconda2/lib/python2.7/site-packages/scipy/integrate/quadrature.py:199: AccuracyWarning: maxiter (1000) exceeded. Latest difference = 2.115997e-04\n",
      "  AccuracyWarning)\n",
      "/home/amitibo/anaconda2/lib/python2.7/site-packages/scipy/integrate/quadrature.py:199: AccuracyWarning: maxiter (1000) exceeded. Latest difference = 2.034981e-04\n",
      "  AccuracyWarning)\n",
      "/home/amitibo/anaconda2/lib/python2.7/site-packages/scipy/integrate/quadrature.py:199: AccuracyWarning: maxiter (1000) exceeded. Latest difference = 1.949620e-04\n",
      "  AccuracyWarning)\n",
      "/home/amitibo/anaconda2/lib/python2.7/site-packages/scipy/integrate/quadrature.py:199: AccuracyWarning: maxiter (1000) exceeded. Latest difference = 1.863208e-04\n",
      "  AccuracyWarning)\n",
      "/home/amitibo/anaconda2/lib/python2.7/site-packages/scipy/integrate/quadrature.py:199: AccuracyWarning: maxiter (1000) exceeded. Latest difference = 1.780145e-04\n",
      "  AccuracyWarning)\n",
      "/home/amitibo/anaconda2/lib/python2.7/site-packages/scipy/integrate/quadrature.py:199: AccuracyWarning: maxiter (1000) exceeded. Latest difference = 1.682449e-04\n",
      "  AccuracyWarning)\n",
      "/home/amitibo/anaconda2/lib/python2.7/site-packages/scipy/integrate/quadrature.py:199: AccuracyWarning: maxiter (1000) exceeded. Latest difference = 1.561200e-04\n",
      "  AccuracyWarning)\n",
      "/home/amitibo/anaconda2/lib/python2.7/site-packages/scipy/integrate/quadrature.py:199: AccuracyWarning: maxiter (1000) exceeded. Latest difference = 1.428962e-04\n",
      "  AccuracyWarning)\n",
      "/home/amitibo/anaconda2/lib/python2.7/site-packages/scipy/integrate/quadrature.py:199: AccuracyWarning: maxiter (1000) exceeded. Latest difference = 1.297530e-04\n",
      "  AccuracyWarning)\n",
      "/home/amitibo/anaconda2/lib/python2.7/site-packages/scipy/integrate/quadrature.py:199: AccuracyWarning: maxiter (1000) exceeded. Latest difference = 1.155289e-04\n",
      "  AccuracyWarning)\n",
      "/home/amitibo/anaconda2/lib/python2.7/site-packages/scipy/integrate/quadrature.py:199: AccuracyWarning: maxiter (1000) exceeded. Latest difference = 9.907609e-05\n",
      "  AccuracyWarning)\n",
      "/home/amitibo/anaconda2/lib/python2.7/site-packages/scipy/integrate/quadrature.py:199: AccuracyWarning: maxiter (1000) exceeded. Latest difference = 8.164973e-05\n",
      "  AccuracyWarning)\n",
      "/home/amitibo/anaconda2/lib/python2.7/site-packages/scipy/integrate/quadrature.py:199: AccuracyWarning: maxiter (1000) exceeded. Latest difference = 6.533535e-05\n",
      "  AccuracyWarning)\n",
      "/home/amitibo/anaconda2/lib/python2.7/site-packages/scipy/integrate/quadrature.py:199: AccuracyWarning: maxiter (1000) exceeded. Latest difference = 4.950390e-05\n",
      "  AccuracyWarning)\n",
      "/home/amitibo/anaconda2/lib/python2.7/site-packages/scipy/integrate/quadrature.py:199: AccuracyWarning: maxiter (1000) exceeded. Latest difference = 3.283746e-05\n",
      "  AccuracyWarning)\n",
      "/home/amitibo/anaconda2/lib/python2.7/site-packages/scipy/integrate/quadrature.py:199: AccuracyWarning: maxiter (1000) exceeded. Latest difference = 1.528155e-05\n",
      "  AccuracyWarning)\n",
      "/home/amitibo/anaconda2/lib/python2.7/site-packages/scipy/integrate/quadrature.py:199: AccuracyWarning: maxiter (1000) exceeded. Latest difference = 2.702827e-06\n",
      "  AccuracyWarning)\n",
      "/home/amitibo/anaconda2/lib/python2.7/site-packages/scipy/integrate/quadrature.py:199: AccuracyWarning: maxiter (1000) exceeded. Latest difference = 2.165617e-05\n",
      "  AccuracyWarning)\n",
      "/home/amitibo/anaconda2/lib/python2.7/site-packages/scipy/integrate/quadrature.py:199: AccuracyWarning: maxiter (1000) exceeded. Latest difference = 4.250800e-05\n",
      "  AccuracyWarning)\n",
      "/home/amitibo/anaconda2/lib/python2.7/site-packages/scipy/integrate/quadrature.py:199: AccuracyWarning: maxiter (1000) exceeded. Latest difference = 6.461529e-05\n",
      "  AccuracyWarning)\n",
      "/home/amitibo/anaconda2/lib/python2.7/site-packages/scipy/integrate/quadrature.py:199: AccuracyWarning: maxiter (1000) exceeded. Latest difference = 8.759971e-05\n",
      "  AccuracyWarning)\n",
      "/home/amitibo/anaconda2/lib/python2.7/site-packages/scipy/integrate/quadrature.py:199: AccuracyWarning: maxiter (1000) exceeded. Latest difference = 1.108755e-04\n",
      "  AccuracyWarning)\n",
      "/home/amitibo/anaconda2/lib/python2.7/site-packages/scipy/integrate/quadrature.py:199: AccuracyWarning: maxiter (1000) exceeded. Latest difference = 1.346629e-04\n",
      "  AccuracyWarning)\n",
      "/home/amitibo/anaconda2/lib/python2.7/site-packages/scipy/integrate/quadrature.py:199: AccuracyWarning: maxiter (1000) exceeded. Latest difference = 1.797333e-04\n",
      "  AccuracyWarning)\n",
      "/home/amitibo/anaconda2/lib/python2.7/site-packages/scipy/integrate/quadrature.py:199: AccuracyWarning: maxiter (1000) exceeded. Latest difference = 2.014825e-04\n",
      "  AccuracyWarning)\n",
      "/home/amitibo/anaconda2/lib/python2.7/site-packages/scipy/integrate/quadrature.py:199: AccuracyWarning: maxiter (1000) exceeded. Latest difference = 2.245440e-04\n",
      "  AccuracyWarning)\n",
      "/home/amitibo/anaconda2/lib/python2.7/site-packages/scipy/integrate/quadrature.py:199: AccuracyWarning: maxiter (1000) exceeded. Latest difference = 2.477229e-04\n",
      "  AccuracyWarning)\n",
      "/home/amitibo/anaconda2/lib/python2.7/site-packages/scipy/integrate/quadrature.py:199: AccuracyWarning: maxiter (1000) exceeded. Latest difference = 2.709214e-04\n",
      "  AccuracyWarning)\n",
      "/home/amitibo/anaconda2/lib/python2.7/site-packages/scipy/integrate/quadrature.py:199: AccuracyWarning: maxiter (1000) exceeded. Latest difference = 2.936049e-04\n",
      "  AccuracyWarning)\n",
      "/home/amitibo/anaconda2/lib/python2.7/site-packages/scipy/integrate/quadrature.py:199: AccuracyWarning: maxiter (1000) exceeded. Latest difference = 3.182245e-04\n",
      "  AccuracyWarning)\n",
      "/home/amitibo/anaconda2/lib/python2.7/site-packages/scipy/integrate/quadrature.py:199: AccuracyWarning: maxiter (1000) exceeded. Latest difference = 3.470226e-04\n",
      "  AccuracyWarning)\n",
      "/home/amitibo/anaconda2/lib/python2.7/site-packages/scipy/integrate/quadrature.py:199: AccuracyWarning: maxiter (1000) exceeded. Latest difference = 3.836428e-04\n",
      "  AccuracyWarning)\n",
      "/home/amitibo/anaconda2/lib/python2.7/site-packages/scipy/integrate/quadrature.py:199: AccuracyWarning: maxiter (1000) exceeded. Latest difference = 4.255783e-04\n",
      "  AccuracyWarning)\n",
      "/home/amitibo/anaconda2/lib/python2.7/site-packages/scipy/integrate/quadrature.py:199: AccuracyWarning: maxiter (1000) exceeded. Latest difference = 4.691501e-04\n",
      "  AccuracyWarning)\n",
      "/home/amitibo/anaconda2/lib/python2.7/site-packages/scipy/integrate/quadrature.py:199: AccuracyWarning: maxiter (1000) exceeded. Latest difference = 5.076988e-04\n",
      "  AccuracyWarning)\n",
      "/home/amitibo/anaconda2/lib/python2.7/site-packages/scipy/integrate/quadrature.py:199: AccuracyWarning: maxiter (1000) exceeded. Latest difference = 5.364383e-04\n",
      "  AccuracyWarning)\n",
      "/home/amitibo/anaconda2/lib/python2.7/site-packages/scipy/integrate/quadrature.py:199: AccuracyWarning: maxiter (1000) exceeded. Latest difference = 5.586682e-04\n",
      "  AccuracyWarning)\n",
      "/home/amitibo/anaconda2/lib/python2.7/site-packages/scipy/integrate/quadrature.py:199: AccuracyWarning: maxiter (1000) exceeded. Latest difference = 5.767965e-04\n",
      "  AccuracyWarning)\n"
     ]
    },
    {
     "name": "stderr",
     "output_type": "stream",
     "text": [
      "/home/amitibo/anaconda2/lib/python2.7/site-packages/scipy/integrate/quadrature.py:199: AccuracyWarning: maxiter (1000) exceeded. Latest difference = 5.913119e-04\n",
      "  AccuracyWarning)\n",
      "/home/amitibo/anaconda2/lib/python2.7/site-packages/scipy/integrate/quadrature.py:199: AccuracyWarning: maxiter (1000) exceeded. Latest difference = 6.000737e-04\n",
      "  AccuracyWarning)\n",
      "/home/amitibo/anaconda2/lib/python2.7/site-packages/scipy/integrate/quadrature.py:199: AccuracyWarning: maxiter (1000) exceeded. Latest difference = 6.042623e-04\n",
      "  AccuracyWarning)\n",
      "/home/amitibo/anaconda2/lib/python2.7/site-packages/scipy/integrate/quadrature.py:199: AccuracyWarning: maxiter (1000) exceeded. Latest difference = 6.032165e-04\n",
      "  AccuracyWarning)\n",
      "/home/amitibo/anaconda2/lib/python2.7/site-packages/scipy/integrate/quadrature.py:199: AccuracyWarning: maxiter (1000) exceeded. Latest difference = 5.980036e-04\n",
      "  AccuracyWarning)\n",
      "/home/amitibo/anaconda2/lib/python2.7/site-packages/scipy/integrate/quadrature.py:199: AccuracyWarning: maxiter (1000) exceeded. Latest difference = 5.874699e-04\n",
      "  AccuracyWarning)\n",
      "/home/amitibo/anaconda2/lib/python2.7/site-packages/scipy/integrate/quadrature.py:199: AccuracyWarning: maxiter (1000) exceeded. Latest difference = 5.728809e-04\n",
      "  AccuracyWarning)\n",
      "/home/amitibo/anaconda2/lib/python2.7/site-packages/scipy/integrate/quadrature.py:199: AccuracyWarning: maxiter (1000) exceeded. Latest difference = 5.525307e-04\n",
      "  AccuracyWarning)\n",
      "/home/amitibo/anaconda2/lib/python2.7/site-packages/scipy/integrate/quadrature.py:199: AccuracyWarning: maxiter (1000) exceeded. Latest difference = 5.258365e-04\n",
      "  AccuracyWarning)\n",
      "/home/amitibo/anaconda2/lib/python2.7/site-packages/scipy/integrate/quadrature.py:199: AccuracyWarning: maxiter (1000) exceeded. Latest difference = 4.902873e-04\n",
      "  AccuracyWarning)\n",
      "/home/amitibo/anaconda2/lib/python2.7/site-packages/scipy/integrate/quadrature.py:199: AccuracyWarning: maxiter (1000) exceeded. Latest difference = 4.487675e-04\n",
      "  AccuracyWarning)\n",
      "/home/amitibo/anaconda2/lib/python2.7/site-packages/scipy/integrate/quadrature.py:199: AccuracyWarning: maxiter (1000) exceeded. Latest difference = 4.029410e-04\n",
      "  AccuracyWarning)\n",
      "/home/amitibo/anaconda2/lib/python2.7/site-packages/scipy/integrate/quadrature.py:199: AccuracyWarning: maxiter (1000) exceeded. Latest difference = 3.546191e-04\n",
      "  AccuracyWarning)\n",
      "/home/amitibo/anaconda2/lib/python2.7/site-packages/scipy/integrate/quadrature.py:199: AccuracyWarning: maxiter (1000) exceeded. Latest difference = 3.052388e-04\n",
      "  AccuracyWarning)\n",
      "/home/amitibo/anaconda2/lib/python2.7/site-packages/scipy/integrate/quadrature.py:199: AccuracyWarning: maxiter (1000) exceeded. Latest difference = 2.577108e-04\n",
      "  AccuracyWarning)\n",
      "/home/amitibo/anaconda2/lib/python2.7/site-packages/scipy/integrate/quadrature.py:199: AccuracyWarning: maxiter (1000) exceeded. Latest difference = 2.138495e-04\n",
      "  AccuracyWarning)\n",
      "/home/amitibo/anaconda2/lib/python2.7/site-packages/scipy/integrate/quadrature.py:199: AccuracyWarning: maxiter (1000) exceeded. Latest difference = 1.706934e-04\n",
      "  AccuracyWarning)\n",
      "/home/amitibo/anaconda2/lib/python2.7/site-packages/scipy/integrate/quadrature.py:199: AccuracyWarning: maxiter (1000) exceeded. Latest difference = 1.243052e-04\n",
      "  AccuracyWarning)\n",
      "/home/amitibo/anaconda2/lib/python2.7/site-packages/scipy/integrate/quadrature.py:199: AccuracyWarning: maxiter (1000) exceeded. Latest difference = 7.483995e-05\n",
      "  AccuracyWarning)\n",
      "/home/amitibo/anaconda2/lib/python2.7/site-packages/scipy/integrate/quadrature.py:199: AccuracyWarning: maxiter (1000) exceeded. Latest difference = 2.181575e-05\n",
      "  AccuracyWarning)\n",
      "/home/amitibo/anaconda2/lib/python2.7/site-packages/scipy/integrate/quadrature.py:199: AccuracyWarning: maxiter (1000) exceeded. Latest difference = 3.435954e-05\n",
      "  AccuracyWarning)\n",
      "/home/amitibo/anaconda2/lib/python2.7/site-packages/scipy/integrate/quadrature.py:199: AccuracyWarning: maxiter (1000) exceeded. Latest difference = 9.568843e-05\n",
      "  AccuracyWarning)\n",
      "/home/amitibo/anaconda2/lib/python2.7/site-packages/scipy/integrate/quadrature.py:199: AccuracyWarning: maxiter (1000) exceeded. Latest difference = 1.604759e-04\n",
      "  AccuracyWarning)\n",
      "/home/amitibo/anaconda2/lib/python2.7/site-packages/scipy/integrate/quadrature.py:199: AccuracyWarning: maxiter (1000) exceeded. Latest difference = 2.286980e-04\n",
      "  AccuracyWarning)\n",
      "/home/amitibo/anaconda2/lib/python2.7/site-packages/scipy/integrate/quadrature.py:199: AccuracyWarning: maxiter (1000) exceeded. Latest difference = 2.987573e-04\n",
      "  AccuracyWarning)\n",
      "/home/amitibo/anaconda2/lib/python2.7/site-packages/scipy/integrate/quadrature.py:199: AccuracyWarning: maxiter (1000) exceeded. Latest difference = 3.700141e-04\n",
      "  AccuracyWarning)\n",
      "/home/amitibo/anaconda2/lib/python2.7/site-packages/scipy/integrate/quadrature.py:199: AccuracyWarning: maxiter (1000) exceeded. Latest difference = 4.415695e-04\n",
      "  AccuracyWarning)\n",
      "/home/amitibo/anaconda2/lib/python2.7/site-packages/scipy/integrate/quadrature.py:199: AccuracyWarning: maxiter (1000) exceeded. Latest difference = 5.119589e-04\n",
      "  AccuracyWarning)\n",
      "/home/amitibo/anaconda2/lib/python2.7/site-packages/scipy/integrate/quadrature.py:199: AccuracyWarning: maxiter (1000) exceeded. Latest difference = 5.817889e-04\n",
      "  AccuracyWarning)\n",
      "/home/amitibo/anaconda2/lib/python2.7/site-packages/scipy/integrate/quadrature.py:199: AccuracyWarning: maxiter (1000) exceeded. Latest difference = 6.499506e-04\n",
      "  AccuracyWarning)\n",
      "/home/amitibo/anaconda2/lib/python2.7/site-packages/scipy/integrate/quadrature.py:199: AccuracyWarning: maxiter (1000) exceeded. Latest difference = 7.164225e-04\n",
      "  AccuracyWarning)\n",
      "/home/amitibo/anaconda2/lib/python2.7/site-packages/scipy/integrate/quadrature.py:199: AccuracyWarning: maxiter (1000) exceeded. Latest difference = 7.784312e-04\n",
      "  AccuracyWarning)\n",
      "/home/amitibo/anaconda2/lib/python2.7/site-packages/scipy/integrate/quadrature.py:199: AccuracyWarning: maxiter (1000) exceeded. Latest difference = 8.381830e-04\n",
      "  AccuracyWarning)\n",
      "/home/amitibo/anaconda2/lib/python2.7/site-packages/scipy/integrate/quadrature.py:199: AccuracyWarning: maxiter (1000) exceeded. Latest difference = 8.939623e-04\n",
      "  AccuracyWarning)\n",
      "/home/amitibo/anaconda2/lib/python2.7/site-packages/scipy/integrate/quadrature.py:199: AccuracyWarning: maxiter (1000) exceeded. Latest difference = 9.467713e-04\n",
      "  AccuracyWarning)\n",
      "/home/amitibo/anaconda2/lib/python2.7/site-packages/scipy/integrate/quadrature.py:199: AccuracyWarning: maxiter (1000) exceeded. Latest difference = 9.839990e-04\n",
      "  AccuracyWarning)\n",
      "/home/amitibo/anaconda2/lib/python2.7/site-packages/scipy/integrate/quadrature.py:199: AccuracyWarning: maxiter (1000) exceeded. Latest difference = 9.872375e-04\n",
      "  AccuracyWarning)\n",
      "/home/amitibo/anaconda2/lib/python2.7/site-packages/scipy/integrate/quadrature.py:199: AccuracyWarning: maxiter (1000) exceeded. Latest difference = 9.389555e-04\n",
      "  AccuracyWarning)\n",
      "/home/amitibo/anaconda2/lib/python2.7/site-packages/scipy/integrate/quadrature.py:199: AccuracyWarning: maxiter (1000) exceeded. Latest difference = 8.707140e-04\n",
      "  AccuracyWarning)\n",
      "/home/amitibo/anaconda2/lib/python2.7/site-packages/scipy/integrate/quadrature.py:199: AccuracyWarning: maxiter (1000) exceeded. Latest difference = 8.121722e-04\n",
      "  AccuracyWarning)\n",
      "/home/amitibo/anaconda2/lib/python2.7/site-packages/scipy/integrate/quadrature.py:199: AccuracyWarning: maxiter (1000) exceeded. Latest difference = 7.680834e-04\n",
      "  AccuracyWarning)\n",
      "/home/amitibo/anaconda2/lib/python2.7/site-packages/scipy/integrate/quadrature.py:199: AccuracyWarning: maxiter (1000) exceeded. Latest difference = 7.316529e-04\n",
      "  AccuracyWarning)\n",
      "/home/amitibo/anaconda2/lib/python2.7/site-packages/scipy/integrate/quadrature.py:199: AccuracyWarning: maxiter (1000) exceeded. Latest difference = 6.980609e-04\n",
      "  AccuracyWarning)\n",
      "/home/amitibo/anaconda2/lib/python2.7/site-packages/scipy/integrate/quadrature.py:199: AccuracyWarning: maxiter (1000) exceeded. Latest difference = 6.668243e-04\n",
      "  AccuracyWarning)\n",
      "/home/amitibo/anaconda2/lib/python2.7/site-packages/scipy/integrate/quadrature.py:199: AccuracyWarning: maxiter (1000) exceeded. Latest difference = 6.379753e-04\n",
      "  AccuracyWarning)\n",
      "/home/amitibo/anaconda2/lib/python2.7/site-packages/scipy/integrate/quadrature.py:199: AccuracyWarning: maxiter (1000) exceeded. Latest difference = 6.145310e-04\n",
      "  AccuracyWarning)\n"
     ]
    },
    {
     "name": "stderr",
     "output_type": "stream",
     "text": [
      "/home/amitibo/anaconda2/lib/python2.7/site-packages/scipy/integrate/quadrature.py:199: AccuracyWarning: maxiter (1000) exceeded. Latest difference = 5.939280e-04\n",
      "  AccuracyWarning)\n",
      "/home/amitibo/anaconda2/lib/python2.7/site-packages/scipy/integrate/quadrature.py:199: AccuracyWarning: maxiter (1000) exceeded. Latest difference = 5.774415e-04\n",
      "  AccuracyWarning)\n",
      "/home/amitibo/anaconda2/lib/python2.7/site-packages/scipy/integrate/quadrature.py:199: AccuracyWarning: maxiter (1000) exceeded. Latest difference = 5.623618e-04\n",
      "  AccuracyWarning)\n",
      "/home/amitibo/anaconda2/lib/python2.7/site-packages/scipy/integrate/quadrature.py:199: AccuracyWarning: maxiter (1000) exceeded. Latest difference = 5.510405e-04\n",
      "  AccuracyWarning)\n",
      "/home/amitibo/anaconda2/lib/python2.7/site-packages/scipy/integrate/quadrature.py:199: AccuracyWarning: maxiter (1000) exceeded. Latest difference = 5.395758e-04\n",
      "  AccuracyWarning)\n",
      "/home/amitibo/anaconda2/lib/python2.7/site-packages/scipy/integrate/quadrature.py:199: AccuracyWarning: maxiter (1000) exceeded. Latest difference = 5.303830e-04\n",
      "  AccuracyWarning)\n",
      "/home/amitibo/anaconda2/lib/python2.7/site-packages/scipy/integrate/quadrature.py:199: AccuracyWarning: maxiter (1000) exceeded. Latest difference = 5.221446e-04\n",
      "  AccuracyWarning)\n",
      "/home/amitibo/anaconda2/lib/python2.7/site-packages/scipy/integrate/quadrature.py:199: AccuracyWarning: maxiter (1000) exceeded. Latest difference = 5.185925e-04\n",
      "  AccuracyWarning)\n",
      "/home/amitibo/anaconda2/lib/python2.7/site-packages/scipy/integrate/quadrature.py:199: AccuracyWarning: maxiter (1000) exceeded. Latest difference = 5.184979e-04\n",
      "  AccuracyWarning)\n",
      "/home/amitibo/anaconda2/lib/python2.7/site-packages/scipy/integrate/quadrature.py:199: AccuracyWarning: maxiter (1000) exceeded. Latest difference = 5.218076e-04\n",
      "  AccuracyWarning)\n",
      "/home/amitibo/anaconda2/lib/python2.7/site-packages/scipy/integrate/quadrature.py:199: AccuracyWarning: maxiter (1000) exceeded. Latest difference = 5.283089e-04\n",
      "  AccuracyWarning)\n",
      "/home/amitibo/anaconda2/lib/python2.7/site-packages/scipy/integrate/quadrature.py:199: AccuracyWarning: maxiter (1000) exceeded. Latest difference = 5.371129e-04\n",
      "  AccuracyWarning)\n",
      "/home/amitibo/anaconda2/lib/python2.7/site-packages/scipy/integrate/quadrature.py:199: AccuracyWarning: maxiter (1000) exceeded. Latest difference = 5.502522e-04\n",
      "  AccuracyWarning)\n",
      "/home/amitibo/anaconda2/lib/python2.7/site-packages/scipy/integrate/quadrature.py:199: AccuracyWarning: maxiter (1000) exceeded. Latest difference = 5.733822e-04\n",
      "  AccuracyWarning)\n",
      "/home/amitibo/anaconda2/lib/python2.7/site-packages/scipy/integrate/quadrature.py:199: AccuracyWarning: maxiter (1000) exceeded. Latest difference = 6.045186e-04\n",
      "  AccuracyWarning)\n",
      "/home/amitibo/anaconda2/lib/python2.7/site-packages/scipy/integrate/quadrature.py:199: AccuracyWarning: maxiter (1000) exceeded. Latest difference = 6.233863e-04\n",
      "  AccuracyWarning)\n",
      "/home/amitibo/anaconda2/lib/python2.7/site-packages/scipy/integrate/quadrature.py:199: AccuracyWarning: maxiter (1000) exceeded. Latest difference = 6.078331e-04\n",
      "  AccuracyWarning)\n",
      "/home/amitibo/anaconda2/lib/python2.7/site-packages/scipy/integrate/quadrature.py:199: AccuracyWarning: maxiter (1000) exceeded. Latest difference = 5.700031e-04\n",
      "  AccuracyWarning)\n",
      "/home/amitibo/anaconda2/lib/python2.7/site-packages/scipy/integrate/quadrature.py:199: AccuracyWarning: maxiter (1000) exceeded. Latest difference = 5.227294e-04\n",
      "  AccuracyWarning)\n",
      "/home/amitibo/anaconda2/lib/python2.7/site-packages/scipy/integrate/quadrature.py:199: AccuracyWarning: maxiter (1000) exceeded. Latest difference = 4.733152e-04\n",
      "  AccuracyWarning)\n",
      "/home/amitibo/anaconda2/lib/python2.7/site-packages/scipy/integrate/quadrature.py:199: AccuracyWarning: maxiter (1000) exceeded. Latest difference = 4.200259e-04\n",
      "  AccuracyWarning)\n",
      "/home/amitibo/anaconda2/lib/python2.7/site-packages/scipy/integrate/quadrature.py:199: AccuracyWarning: maxiter (1000) exceeded. Latest difference = 3.654251e-04\n",
      "  AccuracyWarning)\n",
      "/home/amitibo/anaconda2/lib/python2.7/site-packages/scipy/integrate/quadrature.py:199: AccuracyWarning: maxiter (1000) exceeded. Latest difference = 3.092165e-04\n",
      "  AccuracyWarning)\n",
      "/home/amitibo/anaconda2/lib/python2.7/site-packages/scipy/integrate/quadrature.py:199: AccuracyWarning: maxiter (1000) exceeded. Latest difference = 2.518727e-04\n",
      "  AccuracyWarning)\n",
      "/home/amitibo/anaconda2/lib/python2.7/site-packages/scipy/integrate/quadrature.py:199: AccuracyWarning: maxiter (1000) exceeded. Latest difference = 1.915901e-04\n",
      "  AccuracyWarning)\n",
      "/home/amitibo/anaconda2/lib/python2.7/site-packages/scipy/integrate/quadrature.py:199: AccuracyWarning: maxiter (1000) exceeded. Latest difference = 1.303329e-04\n",
      "  AccuracyWarning)\n",
      "/home/amitibo/anaconda2/lib/python2.7/site-packages/scipy/integrate/quadrature.py:199: AccuracyWarning: maxiter (1000) exceeded. Latest difference = 6.866478e-05\n",
      "  AccuracyWarning)\n",
      "/home/amitibo/anaconda2/lib/python2.7/site-packages/scipy/integrate/quadrature.py:199: AccuracyWarning: maxiter (1000) exceeded. Latest difference = 6.714387e-06\n",
      "  AccuracyWarning)\n",
      "/home/amitibo/anaconda2/lib/python2.7/site-packages/scipy/integrate/quadrature.py:199: AccuracyWarning: maxiter (1000) exceeded. Latest difference = 5.602633e-05\n",
      "  AccuracyWarning)\n",
      "/home/amitibo/anaconda2/lib/python2.7/site-packages/scipy/integrate/quadrature.py:199: AccuracyWarning: maxiter (1000) exceeded. Latest difference = 1.170805e-04\n",
      "  AccuracyWarning)\n",
      "/home/amitibo/anaconda2/lib/python2.7/site-packages/scipy/integrate/quadrature.py:199: AccuracyWarning: maxiter (1000) exceeded. Latest difference = 1.735663e-04\n",
      "  AccuracyWarning)\n",
      "/home/amitibo/anaconda2/lib/python2.7/site-packages/scipy/integrate/quadrature.py:199: AccuracyWarning: maxiter (1000) exceeded. Latest difference = 2.264368e-04\n",
      "  AccuracyWarning)\n",
      "/home/amitibo/anaconda2/lib/python2.7/site-packages/scipy/integrate/quadrature.py:199: AccuracyWarning: maxiter (1000) exceeded. Latest difference = 2.757624e-04\n",
      "  AccuracyWarning)\n",
      "/home/amitibo/anaconda2/lib/python2.7/site-packages/scipy/integrate/quadrature.py:199: AccuracyWarning: maxiter (1000) exceeded. Latest difference = 3.217871e-04\n",
      "  AccuracyWarning)\n",
      "/home/amitibo/anaconda2/lib/python2.7/site-packages/scipy/integrate/quadrature.py:199: AccuracyWarning: maxiter (1000) exceeded. Latest difference = 3.630589e-04\n",
      "  AccuracyWarning)\n",
      "/home/amitibo/anaconda2/lib/python2.7/site-packages/scipy/integrate/quadrature.py:199: AccuracyWarning: maxiter (1000) exceeded. Latest difference = 4.010017e-04\n",
      "  AccuracyWarning)\n",
      "/home/amitibo/anaconda2/lib/python2.7/site-packages/scipy/integrate/quadrature.py:199: AccuracyWarning: maxiter (1000) exceeded. Latest difference = 4.372158e-04\n",
      "  AccuracyWarning)\n",
      "/home/amitibo/anaconda2/lib/python2.7/site-packages/scipy/integrate/quadrature.py:199: AccuracyWarning: maxiter (1000) exceeded. Latest difference = 4.742470e-04\n",
      "  AccuracyWarning)\n",
      "/home/amitibo/anaconda2/lib/python2.7/site-packages/scipy/integrate/quadrature.py:199: AccuracyWarning: maxiter (1000) exceeded. Latest difference = 5.142902e-04\n",
      "  AccuracyWarning)\n",
      "/home/amitibo/anaconda2/lib/python2.7/site-packages/scipy/integrate/quadrature.py:199: AccuracyWarning: maxiter (1000) exceeded. Latest difference = 5.565448e-04\n",
      "  AccuracyWarning)\n",
      "/home/amitibo/anaconda2/lib/python2.7/site-packages/scipy/integrate/quadrature.py:199: AccuracyWarning: maxiter (1000) exceeded. Latest difference = 5.993816e-04\n",
      "  AccuracyWarning)\n",
      "/home/amitibo/anaconda2/lib/python2.7/site-packages/scipy/integrate/quadrature.py:199: AccuracyWarning: maxiter (1000) exceeded. Latest difference = 6.397539e-04\n",
      "  AccuracyWarning)\n",
      "/home/amitibo/anaconda2/lib/python2.7/site-packages/scipy/integrate/quadrature.py:199: AccuracyWarning: maxiter (1000) exceeded. Latest difference = 6.744605e-04\n",
      "  AccuracyWarning)\n",
      "/home/amitibo/anaconda2/lib/python2.7/site-packages/scipy/integrate/quadrature.py:199: AccuracyWarning: maxiter (1000) exceeded. Latest difference = 7.030173e-04\n",
      "  AccuracyWarning)\n",
      "/home/amitibo/anaconda2/lib/python2.7/site-packages/scipy/integrate/quadrature.py:199: AccuracyWarning: maxiter (1000) exceeded. Latest difference = 7.237329e-04\n",
      "  AccuracyWarning)\n",
      "/home/amitibo/anaconda2/lib/python2.7/site-packages/scipy/integrate/quadrature.py:199: AccuracyWarning: maxiter (1000) exceeded. Latest difference = 7.380206e-04\n",
      "  AccuracyWarning)\n"
     ]
    },
    {
     "name": "stderr",
     "output_type": "stream",
     "text": [
      "/home/amitibo/anaconda2/lib/python2.7/site-packages/scipy/integrate/quadrature.py:199: AccuracyWarning: maxiter (1000) exceeded. Latest difference = 7.449848e-04\n",
      "  AccuracyWarning)\n",
      "/home/amitibo/anaconda2/lib/python2.7/site-packages/scipy/integrate/quadrature.py:199: AccuracyWarning: maxiter (1000) exceeded. Latest difference = 7.475837e-04\n",
      "  AccuracyWarning)\n",
      "/home/amitibo/anaconda2/lib/python2.7/site-packages/scipy/integrate/quadrature.py:199: AccuracyWarning: maxiter (1000) exceeded. Latest difference = 7.453917e-04\n",
      "  AccuracyWarning)\n",
      "/home/amitibo/anaconda2/lib/python2.7/site-packages/scipy/integrate/quadrature.py:199: AccuracyWarning: maxiter (1000) exceeded. Latest difference = 7.383571e-04\n",
      "  AccuracyWarning)\n",
      "/home/amitibo/anaconda2/lib/python2.7/site-packages/scipy/integrate/quadrature.py:199: AccuracyWarning: maxiter (1000) exceeded. Latest difference = 7.236757e-04\n",
      "  AccuracyWarning)\n",
      "/home/amitibo/anaconda2/lib/python2.7/site-packages/scipy/integrate/quadrature.py:199: AccuracyWarning: maxiter (1000) exceeded. Latest difference = 7.033263e-04\n",
      "  AccuracyWarning)\n",
      "/home/amitibo/anaconda2/lib/python2.7/site-packages/scipy/integrate/quadrature.py:199: AccuracyWarning: maxiter (1000) exceeded. Latest difference = 6.767595e-04\n",
      "  AccuracyWarning)\n",
      "/home/amitibo/anaconda2/lib/python2.7/site-packages/scipy/integrate/quadrature.py:199: AccuracyWarning: maxiter (1000) exceeded. Latest difference = 6.452941e-04\n",
      "  AccuracyWarning)\n",
      "/home/amitibo/anaconda2/lib/python2.7/site-packages/scipy/integrate/quadrature.py:199: AccuracyWarning: maxiter (1000) exceeded. Latest difference = 6.068285e-04\n",
      "  AccuracyWarning)\n",
      "/home/amitibo/anaconda2/lib/python2.7/site-packages/scipy/integrate/quadrature.py:199: AccuracyWarning: maxiter (1000) exceeded. Latest difference = 5.590492e-04\n",
      "  AccuracyWarning)\n",
      "/home/amitibo/anaconda2/lib/python2.7/site-packages/scipy/integrate/quadrature.py:199: AccuracyWarning: maxiter (1000) exceeded. Latest difference = 4.981809e-04\n",
      "  AccuracyWarning)\n",
      "/home/amitibo/anaconda2/lib/python2.7/site-packages/scipy/integrate/quadrature.py:199: AccuracyWarning: maxiter (1000) exceeded. Latest difference = 4.300174e-04\n",
      "  AccuracyWarning)\n",
      "/home/amitibo/anaconda2/lib/python2.7/site-packages/scipy/integrate/quadrature.py:199: AccuracyWarning: maxiter (1000) exceeded. Latest difference = 3.637213e-04\n",
      "  AccuracyWarning)\n",
      "/home/amitibo/anaconda2/lib/python2.7/site-packages/scipy/integrate/quadrature.py:199: AccuracyWarning: maxiter (1000) exceeded. Latest difference = 3.067269e-04\n",
      "  AccuracyWarning)\n"
     ]
    },
    {
     "name": "stdout",
     "output_type": "stream",
     "text": [
      "\n"
     ]
    },
    {
     "name": "stderr",
     "output_type": "stream",
     "text": [
      "/home/amitibo/anaconda2/lib/python2.7/site-packages/scipy/integrate/quadrature.py:199: AccuracyWarning: maxiter (1000) exceeded. Latest difference = 2.646693e-04\n",
      "  AccuracyWarning)\n"
     ]
    }
   ],
   "source": [
    "coeffs_quad = []\n",
    "for l in tqdm_notebook(range(COFFES_NUM)):\n",
    "    lg = legendre(l)\n",
    "    #coeffs_quad.append(quad(func, -1, 1, args=(l, lg,), limit=1000)[0])\n",
    "    #coeffs_quad.append(fixed_quad(func, -1, 1, args=(l, lg,), n=50000)[0])\n",
    "    coeffs_quad.append(quadrature(func, -1, 1, args=(l, lg,), maxiter=1000)[0])"
   ]
  },
  {
   "cell_type": "code",
   "execution_count": 18,
   "metadata": {},
   "outputs": [
    {
     "data": {
      "text/plain": [
       "[<matplotlib.lines.Line2D at 0x7f10c735dad0>]"
      ]
     },
     "execution_count": 18,
     "metadata": {},
     "output_type": "execute_result"
    },
    {
     "data": {
      "image/png": "[encoded data removed]",
      "text/plain": [
       "<matplotlib.figure.Figure at 0x7f10c91910d0>"
      ]
     },
     "metadata": {},
     "output_type": "display_data"
    }
   ],
   "source": [
    "plt.plot(coeffs_quad)"
   ]
  },
  {
   "cell_type": "markdown",
   "metadata": {},
   "source": [
    "## Reconstruct the Phase function by the Legndre coefficients"
   ]
  },
  {
   "cell_type": "code",
   "execution_count": 19,
   "metadata": {},
   "outputs": [],
   "source": [
    "mu_new = np.linspace(-1, 1, 3000)\n",
    "phase_gauss = 0\n",
    "for l, coeff in enumerate(coeffs_quad):\n",
    "    phase_gauss += legendre(l)(mu_new) * coeff\n",
    "coeffs_quad_ = coeffs_quad[:]\n",
    "coeffs_quad_[0] = 1.\n",
    "phase_gauss_ = 0\n",
    "for l, coeff in enumerate(coeffs_quad_):\n",
    "    phase_gauss_ += legendre(l)(mu_new) * coeff"
   ]
  },
  {
   "cell_type": "code",
   "execution_count": 32,
   "metadata": {
    "scrolled": false
   },
   "outputs": [
    {
     "data": {
      "text/plain": [
       "(0.95, 1)"
      ]
     },
     "execution_count": 32,
     "metadata": {},
     "output_type": "execute_result"
    },
    {
     "data": {
      "image/png": "[encoded data removed]",
      "text/plain": [
       "<matplotlib.figure.Figure at 0x7f1074dbcd90>"
      ]
     },
     "metadata": {},
     "output_type": "display_data"
    }
   ],
   "source": [
    "plt.semilogy(mu, phase, \"o\", label=\"real\")\n",
    "plt.semilogy(mu_new, phase_gauss, \"-\", label=\"accurate\")\n",
    "plt.semilogy(mu_new, phase_gauss_, label=\"forced 1.\")\n",
    "plt.legend()\n",
    "plt.xlim(0.95, 1)"
   ]
  },
  {
   "cell_type": "markdown",
   "metadata": {},
   "source": [
    "### Save the result as pickle"
   ]
  },
  {
   "cell_type": "code",
   "execution_count": 33,
   "metadata": {},
   "outputs": [],
   "source": [
    "import pickle"
   ]
  },
  {
   "cell_type": "code",
   "execution_count": 36,
   "metadata": {},
   "outputs": [],
   "source": [
    "with open(\"particles_2017_05_19.pkl\", \"wb\") as f:\n",
    "    pickle.dump(\n",
    "        dict(\n",
    "            ssa=df_ssa.loc[WAVELENGTH][TIME],\n",
    "            legend=coeffs_quad_,\n",
    "            aod=df_aod.AOT_675[TIME],\n",
    "            aod_height=2.5\n",
    "        ),\n",
    "        f\n",
    "    )"
   ]
  },
  {
   "cell_type": "markdown",
   "metadata": {},
   "source": [
    "### Save the result"
   ]
  },
  {
   "cell_type": "code",
   "execution_count": 58,
   "metadata": {},
   "outputs": [],
   "source": [
    "header = \"\"\"! Mie scattering table vs. effective radius (LWC=1 g/m^3)\n",
    "  0.{}    0.{}    0.000  wavelength range and averaging step (micron)\n",
    "   2    1.450    1.450  number       starting       ending REAL refractive index\n",
    "   2    0.000    0.000  number       starting       ending IMAGINARY refractive index\n",
    "   2    0.100    0.100  number       starting       ending effective radius\n",
    "   2    0.500    0.500  number       starting       ending effective variance\n",
    " \"\"\".format(WAVELENGTH, WAVELENGTH)\n",
    "line_template = \" 1.450 -.000     1.000    %f   0.5000   0.1000     %d  Phase function: Re{m}  Im{m}   Ext  Alb  Veff  Reff  Nleg\\n\""
   ]
  },
  {
   "cell_type": "code",
   "execution_count": 59,
   "metadata": {},
   "outputs": [],
   "source": [
    "with open(TIME.strftime(\"aerosol{}dredvedm__%Y%m%d_%H%M.scat\".format(WAVELENGTH)), \"w\") as f:\n",
    "    f.write(header)\n",
    "    for i in range(700):\n",
    "        f.write(line_template % (df_ssa.loc[WAVELENGTH][TIME], len(coeffs_quad_)-1))\n",
    "        f.write(\"\\t\".join(['']+[str(c) for c in coeffs_quad_]))\n",
    "        f.write(\"\\n\")"
   ]
  },
  {
   "cell_type": "code",
   "execution_count": null,
   "metadata": {},
   "outputs": [],
   "source": []
  }
 ],
 "metadata": {
  "anaconda-cloud": {},
  "kernelspec": {
   "display_name": "Python [default]",
   "language": "python",
   "name": "python2"
  },
  "language_info": {
   "codemirror_mode": {
    "name": "ipython",
    "version": 2
   },
   "file_extension": ".py",
   "mimetype": "text/x-python",
   "name": "python",
   "nbconvert_exporter": "python",
   "pygments_lexer": "ipython2",
   "version": "2.7.12"
  }
 },
 "nbformat": 4,
 "nbformat_minor": 2
}
