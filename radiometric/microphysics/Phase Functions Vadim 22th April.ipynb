{
 "cells": [
  {
   "cell_type": "markdown",
   "metadata": {},
   "source": [
    "# Analysis of the Phase function calculated by Vadim 22th April"
   ]
  },
  {
   "cell_type": "code",
   "execution_count": 2,
   "metadata": {},
   "outputs": [],
   "source": [
    "from __future__ import division\n",
    "%matplotlib inline\n",
    "import pickle\n",
    "import datetime\n",
    "from dateutil import parser\n",
    "import itertools\n",
    "import math\n",
    "import matplotlib.pyplot as plt\n",
    "plt.rcParams['figure.figsize'] = (8.0, 8.0)\n",
    "import numpy as np\n",
    "import os\n",
    "import pandas as pd\n",
    "from scipy.integrate import quadrature, romberg, quad, fixed_quad\n",
    "from scipy.interpolate import interp1d\n",
    "from scipy.special import legendre\n",
    "from tqdm import tqdm_notebook\n",
    "\n",
    "from IPython.display import Image\n",
    "from IPython.core.display import HTML "
   ]
  },
  {
   "cell_type": "markdown",
   "metadata": {},
   "source": [
    "## Load the Phase Function"
   ]
  },
  {
   "cell_type": "markdown",
   "metadata": {},
   "source": [
    "Vadim calculated the phase function for the different measurements during the flight. I arbitrarily take measurement number 300."
   ]
  },
  {
   "cell_type": "code",
   "execution_count": 53,
   "metadata": {},
   "outputs": [],
   "source": [
    "TIME_INDEX = 300\n",
    "GREEN_CH_INDEX = 1"
   ]
  },
  {
   "cell_type": "code",
   "execution_count": 23,
   "metadata": {},
   "outputs": [],
   "source": [
    "with open(\"/VISL2_net/amitibo/exports/MieCalculationDataForPython2_22_04_2017.pkl\", \"rb\") as f:\n",
    "    data = pickle.load(f)"
   ]
  },
  {
   "cell_type": "code",
   "execution_count": 24,
   "metadata": {},
   "outputs": [
    {
     "data": {
      "text/plain": [
       "[u'TimeLable',\n",
       " u'AngleLabel',\n",
       " u'Used_wavelengths',\n",
       " u'Used_refractive_index',\n",
       " u'scatt_cross_sect',\n",
       " u'date',\n",
       " u'Phase_Total']"
      ]
     },
     "execution_count": 24,
     "metadata": {},
     "output_type": "execute_result"
    }
   ],
   "source": [
    "data.keys()"
   ]
  },
  {
   "cell_type": "code",
   "execution_count": 47,
   "metadata": {},
   "outputs": [],
   "source": [
    "WAVELENGTH = int(data[u'Used_wavelengths'][GREEN_CH_INDEX] * 1000)"
   ]
  },
  {
   "cell_type": "code",
   "execution_count": 55,
   "metadata": {},
   "outputs": [],
   "source": [
    "ssa = data[u'scatt_cross_sect'][TIME_INDEX][GREEN_CH_INDEX]"
   ]
  },
  {
   "cell_type": "code",
   "execution_count": 33,
   "metadata": {},
   "outputs": [],
   "source": [
    "pf = data[u'Phase_Total'][TIME_INDEX, :, GREEN_CH_INDEX]\n",
    "wavelengths = data[u'AngleLabel']"
   ]
  },
  {
   "cell_type": "code",
   "execution_count": 34,
   "metadata": {
    "scrolled": false
   },
   "outputs": [
    {
     "data": {
      "text/plain": [
       "[<matplotlib.lines.Line2D at 0x7f2edb7bcd10>]"
      ]
     },
     "execution_count": 34,
     "metadata": {},
     "output_type": "execute_result"
    },
    {
     "data": {
      "image/png": "[encoded data removed]",
      "text/plain": [
       "<matplotlib.figure.Figure at 0x7f2edf228250>"
      ]
     },
     "metadata": {},
     "output_type": "display_data"
    }
   ],
   "source": [
    "pf = pf[:int(pf.shape[0]/2)]\n",
    "wavelengths = wavelengths[:int(wavelengths.shape[0]/2)]\n",
    "\n",
    "mu = np.cos(wavelengths[::-1])\n",
    "phase = pf[::-1]\n",
    "\n",
    "plt.plot(mu, phase)"
   ]
  },
  {
   "cell_type": "markdown",
   "metadata": {},
   "source": [
    "# Calculate the Legndre Coefficients"
   ]
  },
  {
   "cell_type": "markdown",
   "metadata": {},
   "source": [
    "The (intensity) phase function is conventionally normalized as follows\n",
    "\n",
    "$$\\int_0^{2\\pi} \\int_0^\\pi P(\\Theta) \\sin(\\Theta) d\\Theta d\\phi = 4 \\pi$$\n",
    "\n",
    "Which is equivalent to\n",
    "\n",
    "$$\\int_{-1}^1 P(\\cos{\\Theta}) d(\\cos{\\Theta}) = 2$$\n",
    "\n",
    "Integrating the phase function from vadim gives:"
   ]
  },
  {
   "cell_type": "code",
   "execution_count": 35,
   "metadata": {},
   "outputs": [
    {
     "data": {
      "text/plain": [
       "0.81770539846279811"
      ]
     },
     "execution_count": 35,
     "metadata": {},
     "output_type": "execute_result"
    }
   ],
   "source": [
    "np.trapz(pf, mu)"
   ]
  },
  {
   "cell_type": "markdown",
   "metadata": {},
   "source": [
    "# Calculate the Legendre Coefficients"
   ]
  },
  {
   "cell_type": "markdown",
   "metadata": {},
   "source": [
    "## Use quadrature integration"
   ]
  },
  {
   "cell_type": "markdown",
   "metadata": {},
   "source": [
    "Note I am using linear interpolation. The reason is that higher order interpolation creates artifacts, probably due to the high directionality of the phase function."
   ]
  },
  {
   "cell_type": "code",
   "execution_count": 38,
   "metadata": {},
   "outputs": [],
   "source": [
    "COFFES_NUM = 300"
   ]
  },
  {
   "cell_type": "code",
   "execution_count": 39,
   "metadata": {},
   "outputs": [],
   "source": [
    "phase_interp = interp1d(mu, phase, kind=1)\n",
    "\n",
    "def func(x, l, lg):\n",
    "    return (2*l + 1)/2. * lg(x)*phase_interp(x)"
   ]
  },
  {
   "cell_type": "code",
   "execution_count": 40,
   "metadata": {
    "scrolled": true
   },
   "outputs": [
    {
     "data": {
      "application/vnd.jupyter.widget-view+json": {
       "model_id": "8c63b4dad1b44fb1ac110ed0d8de8bc3",
       "version_major": 2,
       "version_minor": 0
      },
      "text/plain": [
       "A Jupyter Widget"
      ]
     },
     "metadata": {},
     "output_type": "display_data"
    },
    {
     "name": "stderr",
     "output_type": "stream",
     "text": [
      "/home/amitibo/anaconda2/lib/python2.7/site-packages/scipy/special/orthogonal.py:142: RuntimeWarning: invalid value encountered in multiply\n",
      "  self.__dict__['coeffs'] *= float(kn)\n",
      "/home/amitibo/anaconda2/lib/python2.7/site-packages/scipy/special/orthogonal.py:1965: RuntimeWarning: overflow encountered in double_scalars\n",
      "  kn = _gam(2 * n + 1) / _gam(n + 1)**2 / 2.0**n\n",
      "/home/amitibo/anaconda2/lib/python2.7/site-packages/scipy/special/orthogonal.py:1965: RuntimeWarning: invalid value encountered in double_scalars\n",
      "  kn = _gam(2 * n + 1) / _gam(n + 1)**2 / 2.0**n\n"
     ]
    },
    {
     "name": "stdout",
     "output_type": "stream",
     "text": [
      "\n"
     ]
    }
   ],
   "source": [
    "coeffs_quad = []\n",
    "for l in tqdm_notebook(range(COFFES_NUM)):\n",
    "    lg = legendre(l)\n",
    "    #coeffs_quad.append(quad(func, -1, 1, args=(l, lg,), limit=1000)[0])\n",
    "    #coeffs_quad.append(fixed_quad(func, -1, 1, args=(l, lg,), n=50000)[0])\n",
    "    coeffs_quad.append(quadrature(func, -1, 1, args=(l, lg,), maxiter=1000)[0])"
   ]
  },
  {
   "cell_type": "code",
   "execution_count": 44,
   "metadata": {},
   "outputs": [
    {
     "data": {
      "text/plain": [
       "0.40591120598307723"
      ]
     },
     "execution_count": 44,
     "metadata": {},
     "output_type": "execute_result"
    }
   ],
   "source": [
    "coeffs_quad[0]"
   ]
  },
  {
   "cell_type": "code",
   "execution_count": 41,
   "metadata": {
    "scrolled": true
   },
   "outputs": [
    {
     "data": {
      "text/plain": [
       "[<matplotlib.lines.Line2D at 0x7f2edb6b88d0>]"
      ]
     },
     "execution_count": 41,
     "metadata": {},
     "output_type": "execute_result"
    },
    {
     "data": {
      "image/png": "[encoded data removed]",
      "text/plain": [
       "<matplotlib.figure.Figure at 0x7f2edf201050>"
      ]
     },
     "metadata": {},
     "output_type": "display_data"
    }
   ],
   "source": [
    "plt.plot(coeffs_quad)"
   ]
  },
  {
   "cell_type": "markdown",
   "metadata": {},
   "source": [
    "## Reconstruct the Phase function by the Legndre coefficients"
   ]
  },
  {
   "cell_type": "code",
   "execution_count": 50,
   "metadata": {},
   "outputs": [],
   "source": [
    "mu_new = np.linspace(-1, 1, 3000)\n",
    "phase_gauss = 0\n",
    "for l, coeff in enumerate(coeffs_quad):\n",
    "    phase_gauss += legendre(l)(mu_new) * coeff\n",
    "coeffs_quad_ = np.array(coeffs_quad)\n",
    "coeffs_quad_ = coeffs_quad_ / coeffs_quad_[0]\n",
    "phase_gauss_ = 0\n",
    "for l, coeff in enumerate(coeffs_quad_):\n",
    "    phase_gauss_ += legendre(l)(mu_new) * coeff"
   ]
  },
  {
   "cell_type": "code",
   "execution_count": 51,
   "metadata": {
    "scrolled": false
   },
   "outputs": [
    {
     "data": {
      "text/plain": [
       "(0.9, 1)"
      ]
     },
     "execution_count": 51,
     "metadata": {},
     "output_type": "execute_result"
    },
    {
     "data": {
      "image/png": "[encoded data removed]",
      "text/plain": [
       "<matplotlib.figure.Figure at 0x7f2edaa5f150>"
      ]
     },
     "metadata": {},
     "output_type": "display_data"
    }
   ],
   "source": [
    "plt.semilogy(mu, phase, \"o\", label=\"real\")\n",
    "plt.semilogy(mu_new, phase_gauss, \"x\", label=\"accurate\")\n",
    "plt.semilogy(mu_new, phase_gauss_, label=\"forced 1.\")\n",
    "plt.legend()\n",
    "plt.xlim(0.9, 1)"
   ]
  },
  {
   "cell_type": "markdown",
   "metadata": {},
   "source": [
    "### Save the result"
   ]
  },
  {
   "cell_type": "code",
   "execution_count": 56,
   "metadata": {},
   "outputs": [],
   "source": [
    "header = \"\"\"! Mie scattering table vs. effective radius (LWC=1 g/m^3)\n",
    "  0.{}    0.{}    0.000  wavelength range and averaging step (micron)\n",
    "   2    1.450    1.450  number       starting       ending REAL refractive index\n",
    "   2    0.000    0.000  number       starting       ending IMAGINARY refractive index\n",
    "   2    0.100    0.100  number       starting       ending effective radius\n",
    "   2    0.500    0.500  number       starting       ending effective variance\n",
    " \"\"\".format(WAVELENGTH, WAVELENGTH)\n",
    "line_template = \" 1.450 -.000     1.000    %f   0.5000   0.1000     %d  Phase function: Re{m}  Im{m}   Ext  Alb  Veff  Reff  Nleg\\n\""
   ]
  },
  {
   "cell_type": "code",
   "execution_count": 62,
   "metadata": {},
   "outputs": [],
   "source": [
    "with open(\"aerosol{}dredvedm_vadim_170422_{}.scat\".format(WAVELENGTH, TIME_INDEX), \"w\") as f:\n",
    "    f.write(header)\n",
    "    for i in range(700):\n",
    "        f.write(line_template % (ssa, len(coeffs_quad_)-1))\n",
    "        f.write(\"\\t\".join(['']+[str(c) for c in coeffs_quad_]))\n",
    "        f.write(\"\\n\")"
   ]
  },
  {
   "cell_type": "code",
   "execution_count": null,
   "metadata": {},
   "outputs": [],
   "source": []
  },
  {
   "cell_type": "code",
   "execution_count": 63,
   "metadata": {},
   "outputs": [],
   "source": [
    "with open(\"aerosol{}dredvedm_vadim_170422_{}_spssa.scat\".format(WAVELENGTH, TIME_INDEX), \"w\") as f:\n",
    "    f.write(header)\n",
    "    for i in range(700):\n",
    "        f.write(line_template % (0.862700, len(coeffs_quad_)-1))\n",
    "        f.write(\"\\t\".join(['']+[str(c) for c in coeffs_quad_]))\n",
    "        f.write(\"\\n\")"
   ]
  },
  {
   "cell_type": "code",
   "execution_count": 64,
   "metadata": {},
   "outputs": [
    {
     "data": {
      "text/plain": [
       "u'/home/amitibo/code/cameranetwork/notebooks/radiometric'"
      ]
     },
     "execution_count": 64,
     "metadata": {},
     "output_type": "execute_result"
    }
   ],
   "source": [
    "pwd"
   ]
  },
  {
   "cell_type": "code",
   "execution_count": null,
   "metadata": {},
   "outputs": [],
   "source": []
  },
  {
   "cell_type": "code",
   "execution_count": null,
   "metadata": {},
   "outputs": [],
   "source": []
  },
  {
   "cell_type": "markdown",
   "metadata": {},
   "source": [
    "## Set the Target Time/Date And Wavelength"
   ]
  },
  {
   "cell_type": "markdown",
   "metadata": {},
   "source": [
    "Note that I select 12:30 as there is no data for > 13:00 (due to Cirrus clouds). In any case the atmophsere doesn't not seem to change much during the analyzed period (12:00-14:00)"
   ]
  },
  {
   "cell_type": "code",
   "execution_count": 2,
   "metadata": {},
   "outputs": [
    {
     "data": {
      "text/html": [
       "<img src=\"https://aeronet.gsfc.nasa.gov/cgi-bin/draw_piece_of_data_opera_v2_new?site=Technion_Haifa_IL&year=25&month=3&aero_water=0&level=2&day=25&if_err=0\"/>"
      ],
      "text/plain": [
       "<IPython.core.display.Image object>"
      ]
     },
     "execution_count": 2,
     "metadata": {},
     "output_type": "execute_result"
    }
   ],
   "source": [
    "Image(url= \"https://aeronet.gsfc.nasa.gov/cgi-bin/draw_piece_of_data_opera_v2_new?site=Technion_Haifa_IL&year=25&month=3&aero_water=0&level=2&day=25&if_err=0\")"
   ]
  },
  {
   "cell_type": "code",
   "execution_count": 3,
   "metadata": {
    "collapsed": true
   },
   "outputs": [],
   "source": [
    "TIME = pd.datetime(2017, 4, 26, 6, 0, 0)\n",
    "WAVELENGTH = 532"
   ]
  },
  {
   "cell_type": "markdown",
   "metadata": {},
   "source": [
    "# Load the sunphotometer data"
   ]
  },
  {
   "cell_type": "markdown",
   "metadata": {},
   "source": [
    "## Load the phasefunction"
   ]
  },
  {
   "cell_type": "markdown",
   "metadata": {},
   "source": [
    "The data is loaded from the sunphotometer logs. Note that new values are interpolated for TIME and WAVELENGTH. I use the \"pchip\" interpolation method as it is more conservative."
   ]
  },
  {
   "cell_type": "code",
   "execution_count": 4,
   "metadata": {
    "collapsed": true
   },
   "outputs": [],
   "source": [
    "def dateparse(d, t):\n",
    "    return pd.datetime.strptime(d+' '+t, '%d:%m:%Y %H:%M:%S')\n",
    "\n",
    "def parsePhaseFunction(path, usecols):\n",
    "    \"\"\"Parse the sunphotometer Phase Function data.\"\"\"\n",
    "\n",
    "    df = pd.read_csv(\n",
    "        path,\n",
    "        skiprows=3,\n",
    "        header=0,\n",
    "        parse_dates=[[0, 1]],\n",
    "        date_parser=dateparse,\n",
    "        index_col=0,\n",
    "        usecols=usecols\n",
    "    )\n",
    "\n",
    "    wavelengths = [float(i.split(\"[\")[0]) for i in df.columns]\n",
    "    df = df.rename(columns=dict(itertools.izip(df.columns, wavelengths)))\n",
    "    df.index.rename(\"datetime\", inplace=True)\n",
    "    \n",
    "    new_row = pd.Series(name=TIME, data=[None]*len(df.columns), index=df.columns)\n",
    "    df = df.append(new_row)\n",
    "    df = df.sort_index().interpolate(method=\"pchip\")\n",
    "\n",
    "    return df, wavelengths\n",
    "\n",
    "pfn_path = r\"../../data/phase_functions/170426_170426_Technion_Haifa_IL.pfn\"\n",
    "df_441, wavelengths = parsePhaseFunction(\n",
    "    pfn_path,\n",
    "    usecols=[0, 1]+list(range(3, 86))\n",
    ")\n",
    "df_674, wavelengths = parsePhaseFunction(\n",
    "    pfn_path,\n",
    "    usecols=[0, 1]+list(range(86, 169))\n",
    ")\n",
    "df_871, wavelengths = parsePhaseFunction(\n",
    "    pfn_path,\n",
    "    usecols=[0, 1]+list(range(169, 252))\n",
    ")\n",
    "df_1020, wavelengths = parsePhaseFunction(\n",
    "    pfn_path,\n",
    "    usecols=[0, 1]+list(range(252, 335))\n",
    ")"
   ]
  },
  {
   "cell_type": "code",
   "execution_count": 5,
   "metadata": {
    "collapsed": true
   },
   "outputs": [],
   "source": [
    "series = [pd.Series(d.loc[TIME], name=n) for d, n in zip((df_441, df_674, df_871, df_1020), (441., 674., 871., 1020.))]\n",
    "df_phf = pd.concat(series, axis=1).T\n",
    "new_row = pd.Series(name=WAVELENGTH, data=[None]*len(df_phf.columns), index=df_phf.columns)\n",
    "df_phf = df_phf.append(new_row).sort_index().interpolate(method=\"pchip\")"
   ]
  },
  {
   "cell_type": "code",
   "execution_count": 6,
   "metadata": {},
   "outputs": [
    {
     "data": {
      "text/html": [
       "<div>\n",
       "<table border=\"1\" class=\"dataframe\">\n",
       "  <thead>\n",
       "    <tr style=\"text-align: right;\">\n",
       "      <th></th>\n",
       "      <th>0.0</th>\n",
       "      <th>1.71</th>\n",
       "      <th>3.93</th>\n",
       "      <th>6.16</th>\n",
       "      <th>8.39</th>\n",
       "      <th>10.63</th>\n",
       "      <th>12.86</th>\n",
       "      <th>15.1</th>\n",
       "      <th>17.33</th>\n",
       "      <th>19.57</th>\n",
       "      <th>...</th>\n",
       "      <th>160.43</th>\n",
       "      <th>162.67</th>\n",
       "      <th>164.9</th>\n",
       "      <th>167.14</th>\n",
       "      <th>169.37</th>\n",
       "      <th>171.61</th>\n",
       "      <th>173.84</th>\n",
       "      <th>176.07</th>\n",
       "      <th>178.29</th>\n",
       "      <th>180.0</th>\n",
       "    </tr>\n",
       "  </thead>\n",
       "  <tbody>\n",
       "    <tr>\n",
       "      <th>441.0</th>\n",
       "      <td>593.089797</td>\n",
       "      <td>319.309741</td>\n",
       "      <td>96.742247</td>\n",
       "      <td>35.413453</td>\n",
       "      <td>17.873303</td>\n",
       "      <td>11.133267</td>\n",
       "      <td>7.849226</td>\n",
       "      <td>5.922031</td>\n",
       "      <td>4.711597</td>\n",
       "      <td>3.872969</td>\n",
       "      <td>...</td>\n",
       "      <td>0.123147</td>\n",
       "      <td>0.125328</td>\n",
       "      <td>0.128028</td>\n",
       "      <td>0.131764</td>\n",
       "      <td>0.137359</td>\n",
       "      <td>0.144943</td>\n",
       "      <td>0.155566</td>\n",
       "      <td>0.172087</td>\n",
       "      <td>0.188893</td>\n",
       "      <td>0.195157</td>\n",
       "    </tr>\n",
       "    <tr>\n",
       "      <th>532.0</th>\n",
       "      <td>417.981868</td>\n",
       "      <td>251.652042</td>\n",
       "      <td>92.144908</td>\n",
       "      <td>37.646075</td>\n",
       "      <td>19.262069</td>\n",
       "      <td>11.970263</td>\n",
       "      <td>8.455472</td>\n",
       "      <td>6.395315</td>\n",
       "      <td>5.098607</td>\n",
       "      <td>4.186915</td>\n",
       "      <td>...</td>\n",
       "      <td>0.140992</td>\n",
       "      <td>0.144319</td>\n",
       "      <td>0.148229</td>\n",
       "      <td>0.153552</td>\n",
       "      <td>0.160373</td>\n",
       "      <td>0.168115</td>\n",
       "      <td>0.179930</td>\n",
       "      <td>0.202922</td>\n",
       "      <td>0.227654</td>\n",
       "      <td>0.236211</td>\n",
       "    </tr>\n",
       "    <tr>\n",
       "      <th>674.0</th>\n",
       "      <td>239.452681</td>\n",
       "      <td>175.525504</td>\n",
       "      <td>84.369171</td>\n",
       "      <td>39.511368</td>\n",
       "      <td>21.078525</td>\n",
       "      <td>13.145684</td>\n",
       "      <td>9.271324</td>\n",
       "      <td>7.003542</td>\n",
       "      <td>5.581848</td>\n",
       "      <td>4.577176</td>\n",
       "      <td>...</td>\n",
       "      <td>0.159219</td>\n",
       "      <td>0.163552</td>\n",
       "      <td>0.168336</td>\n",
       "      <td>0.174523</td>\n",
       "      <td>0.181797</td>\n",
       "      <td>0.190017</td>\n",
       "      <td>0.205008</td>\n",
       "      <td>0.236111</td>\n",
       "      <td>0.268162</td>\n",
       "      <td>0.278478</td>\n",
       "    </tr>\n",
       "    <tr>\n",
       "      <th>871.0</th>\n",
       "      <td>147.989253</td>\n",
       "      <td>121.467606</td>\n",
       "      <td>72.292599</td>\n",
       "      <td>39.752822</td>\n",
       "      <td>22.931259</td>\n",
       "      <td>14.518637</td>\n",
       "      <td>10.151816</td>\n",
       "      <td>7.601654</td>\n",
       "      <td>6.028221</td>\n",
       "      <td>4.934054</td>\n",
       "      <td>...</td>\n",
       "      <td>0.168620</td>\n",
       "      <td>0.173150</td>\n",
       "      <td>0.177684</td>\n",
       "      <td>0.182897</td>\n",
       "      <td>0.188965</td>\n",
       "      <td>0.197989</td>\n",
       "      <td>0.218330</td>\n",
       "      <td>0.256707</td>\n",
       "      <td>0.290905</td>\n",
       "      <td>0.300952</td>\n",
       "    </tr>\n",
       "    <tr>\n",
       "      <th>1020.0</th>\n",
       "      <td>113.017567</td>\n",
       "      <td>97.663437</td>\n",
       "      <td>64.872895</td>\n",
       "      <td>39.233622</td>\n",
       "      <td>23.988745</td>\n",
       "      <td>15.541057</td>\n",
       "      <td>10.865553</td>\n",
       "      <td>8.091320</td>\n",
       "      <td>6.377170</td>\n",
       "      <td>5.199385</td>\n",
       "      <td>...</td>\n",
       "      <td>0.165563</td>\n",
       "      <td>0.169333</td>\n",
       "      <td>0.172435</td>\n",
       "      <td>0.175255</td>\n",
       "      <td>0.178950</td>\n",
       "      <td>0.187818</td>\n",
       "      <td>0.210826</td>\n",
       "      <td>0.250653</td>\n",
       "      <td>0.282759</td>\n",
       "      <td>0.291650</td>\n",
       "    </tr>\n",
       "  </tbody>\n",
       "</table>\n",
       "<p>5 rows × 83 columns</p>\n",
       "</div>"
      ],
      "text/plain": [
       "            0.00        1.71       3.93       6.16       8.39       10.63   \\\n",
       "441.0   593.089797  319.309741  96.742247  35.413453  17.873303  11.133267   \n",
       "532.0   417.981868  251.652042  92.144908  37.646075  19.262069  11.970263   \n",
       "674.0   239.452681  175.525504  84.369171  39.511368  21.078525  13.145684   \n",
       "871.0   147.989253  121.467606  72.292599  39.752822  22.931259  14.518637   \n",
       "1020.0  113.017567   97.663437  64.872895  39.233622  23.988745  15.541057   \n",
       "\n",
       "           12.86     15.10     17.33     19.57     ...       160.43    162.67  \\\n",
       "441.0    7.849226  5.922031  4.711597  3.872969    ...     0.123147  0.125328   \n",
       "532.0    8.455472  6.395315  5.098607  4.186915    ...     0.140992  0.144319   \n",
       "674.0    9.271324  7.003542  5.581848  4.577176    ...     0.159219  0.163552   \n",
       "871.0   10.151816  7.601654  6.028221  4.934054    ...     0.168620  0.173150   \n",
       "1020.0  10.865553  8.091320  6.377170  5.199385    ...     0.165563  0.169333   \n",
       "\n",
       "          164.90    167.14    169.37    171.61    173.84    176.07    178.29  \\\n",
       "441.0   0.128028  0.131764  0.137359  0.144943  0.155566  0.172087  0.188893   \n",
       "532.0   0.148229  0.153552  0.160373  0.168115  0.179930  0.202922  0.227654   \n",
       "674.0   0.168336  0.174523  0.181797  0.190017  0.205008  0.236111  0.268162   \n",
       "871.0   0.177684  0.182897  0.188965  0.197989  0.218330  0.256707  0.290905   \n",
       "1020.0  0.172435  0.175255  0.178950  0.187818  0.210826  0.250653  0.282759   \n",
       "\n",
       "          180.00  \n",
       "441.0   0.195157  \n",
       "532.0   0.236211  \n",
       "674.0   0.278478  \n",
       "871.0   0.300952  \n",
       "1020.0  0.291650  \n",
       "\n",
       "[5 rows x 83 columns]"
      ]
     },
     "execution_count": 6,
     "metadata": {},
     "output_type": "execute_result"
    }
   ],
   "source": [
    "df_phf.head()"
   ]
  },
  {
   "cell_type": "code",
   "execution_count": 7,
   "metadata": {},
   "outputs": [
    {
     "data": {
      "text/plain": [
       "<matplotlib.axes._subplots.AxesSubplot at 0x7f7c0ea1bd50>"
      ]
     },
     "execution_count": 7,
     "metadata": {},
     "output_type": "execute_result"
    },
    {
     "data": {
      "image/png": "[encoded data removed]",
      "text/plain": [
       "<matplotlib.figure.Figure at 0x7f7c0e34e410>"
      ]
     },
     "metadata": {},
     "output_type": "display_data"
    }
   ],
   "source": [
    "df_phf.T.plot(logy=True)"
   ]
  },
  {
   "cell_type": "markdown",
   "metadata": {},
   "source": [
    "## Load the Single-Scatter Albedo"
   ]
  },
  {
   "cell_type": "code",
   "execution_count": 8,
   "metadata": {
    "collapsed": true
   },
   "outputs": [],
   "source": [
    "def parseSSA(path):\n",
    "    \"\"\"Parse the sunphotometer SSA data.\"\"\"\n",
    "\n",
    "    df = pd.read_csv(\n",
    "        path,\n",
    "        skiprows=3,\n",
    "        header=0,\n",
    "        parse_dates=[[0, 1]],\n",
    "        date_parser=dateparse,\n",
    "        index_col=0,\n",
    "        usecols=[0, 1]+list(range(3, 7))\n",
    "    )\n",
    "\n",
    "    wavelengths = [float(i[3:-2]) for i in df.columns]\n",
    "    df = df.rename(columns=dict(itertools.izip(df.columns, wavelengths)))\n",
    "    df.index.rename(\"datetime\", inplace=True)\n",
    "    \n",
    "    new_row = pd.Series(name=TIME, data=[None]*len(df.columns), index=df.columns)\n",
    "    df = df.append(new_row)\n",
    "    df = df.sort_index().interpolate(method=\"pchip\")\n",
    "\n",
    "    return df\n",
    "\n",
    "ssa_path = r\"../../data/phase_functions/170426_170426_Technion_Haifa_IL.ssa\"\n",
    "\n",
    "df_ssa = parseSSA(ssa_path)"
   ]
  },
  {
   "cell_type": "markdown",
   "metadata": {},
   "source": [
    "### Interpolate by wavelength"
   ]
  },
  {
   "cell_type": "code",
   "execution_count": 9,
   "metadata": {
    "collapsed": true
   },
   "outputs": [],
   "source": [
    "new_row = pd.Series(name=WAVELENGTH, data=[None]*len(df_ssa.T.columns), index=df_ssa.T.columns)\n",
    "\n",
    "df_ssa = df_ssa.T.append(new_row).sort_index().interpolate(method=\"pchip\")"
   ]
  },
  {
   "cell_type": "code",
   "execution_count": 10,
   "metadata": {},
   "outputs": [
    {
     "data": {
      "text/plain": [
       "<matplotlib.axes._subplots.AxesSubplot at 0x7f7c0c57aa10>"
      ]
     },
     "execution_count": 10,
     "metadata": {},
     "output_type": "execute_result"
    },
    {
     "data": {
      "image/png": "[encoded data removed]",
      "text/plain": [
       "<matplotlib.figure.Figure at 0x7f7c0c5778d0>"
      ]
     },
     "metadata": {},
     "output_type": "display_data"
    }
   ],
   "source": [
    "df_ssa.T.loc[TIME].T.plot()"
   ]
  },
  {
   "cell_type": "code",
   "execution_count": 11,
   "metadata": {},
   "outputs": [
    {
     "data": {
      "text/plain": [
       "0.85924285177603721"
      ]
     },
     "execution_count": 11,
     "metadata": {},
     "output_type": "execute_result"
    }
   ],
   "source": [
    "df_ssa.loc[WAVELENGTH][TIME]"
   ]
  },
  {
   "cell_type": "markdown",
   "metadata": {},
   "source": [
    "## Load the AOD"
   ]
  },
  {
   "cell_type": "code",
   "execution_count": 12,
   "metadata": {
    "collapsed": true
   },
   "outputs": [],
   "source": [
    "def parseAOD(path):\n",
    "    \"\"\"Parse the sunphotometer AOD data.\"\"\"\n",
    "\n",
    "    df = pd.read_csv(\n",
    "        path,\n",
    "        skiprows=4,\n",
    "        header=0,\n",
    "        parse_dates=[[0, 1]],\n",
    "        date_parser=dateparse,\n",
    "        index_col=0,\n",
    "        usecols=[0, 1]+list(range(3, 14))\n",
    "    )\n",
    "\n",
    "    df.index.rename(\"datetime\", inplace=True)\n",
    "    \n",
    "    new_row = pd.Series(name=TIME, data=[None]*len(df.columns), index=df.columns)\n",
    "    df = df.append(new_row)\n",
    "    df = df.sort_index().interpolate(method=\"pchip\")\n",
    "\n",
    "    return df\n",
    "\n",
    "aod_path = r\"../../data/phase_functions/170426_170426_Technion_Haifa_IL.lev15\"\n",
    "\n",
    "df_aod = parseAOD(aod_path)"
   ]
  },
  {
   "cell_type": "code",
   "execution_count": 13,
   "metadata": {},
   "outputs": [
    {
     "data": {
      "text/plain": [
       "<matplotlib.axes._subplots.AxesSubplot at 0x7f7c0c4e4b50>"
      ]
     },
     "execution_count": 13,
     "metadata": {},
     "output_type": "execute_result"
    },
    {
     "data": {
      "image/png": "[encoded data removed]",
      "text/plain": [
       "<matplotlib.figure.Figure at 0x7f7c0dfeab90>"
      ]
     },
     "metadata": {},
     "output_type": "display_data"
    }
   ],
   "source": [
    "df_aod.plot()"
   ]
  },
  {
   "cell_type": "code",
   "execution_count": 14,
   "metadata": {},
   "outputs": [
    {
     "data": {
      "text/plain": [
       "0.98647427972328749"
      ]
     },
     "execution_count": 14,
     "metadata": {},
     "output_type": "execute_result"
    }
   ],
   "source": [
    "df_aod.AOT_500[TIME]"
   ]
  },
  {
   "cell_type": "markdown",
   "metadata": {},
   "source": [
    "# Calculate the Legndre Coefficients"
   ]
  },
  {
   "cell_type": "markdown",
   "metadata": {},
   "source": [
    "The (intensity) phase function is conventionally normalized as follows\n",
    "\n",
    "$$\\int_0^{2\\pi} \\int_0^\\pi P(\\Theta) \\sin(\\Theta) d\\Theta d\\phi = 4 \\pi$$\n",
    "\n",
    "Which is equivalent to\n",
    "\n",
    "$$\\int_{-1}^1 P(\\cos{\\Theta}) d(\\cos{\\Theta}) = 2$$\n",
    "\n",
    "Integrating the phase function from the sunphotometer gives:"
   ]
  },
  {
   "cell_type": "markdown",
   "metadata": {},
   "source": [
    "# Calculate the Legendre Coefficients"
   ]
  },
  {
   "cell_type": "markdown",
   "metadata": {},
   "source": [
    "## Use quadrature integration"
   ]
  },
  {
   "cell_type": "markdown",
   "metadata": {},
   "source": [
    "Note I am using linear interpolation. The reason is that higher order interpolation creates artifacts, probably due to the high directionality of the phase function."
   ]
  },
  {
   "cell_type": "code",
   "execution_count": 15,
   "metadata": {
    "collapsed": true
   },
   "outputs": [],
   "source": [
    "COFFES_NUM = 300"
   ]
  },
  {
   "cell_type": "code",
   "execution_count": 16,
   "metadata": {
    "collapsed": true
   },
   "outputs": [],
   "source": [
    "mu = np.cos(np.radians(wavelengths[::-1]))\n",
    "phase = df_phf.loc[WAVELENGTH].values[::-1]\n",
    "\n",
    "phase_interp = interp1d(mu, phase, kind=1)\n",
    "\n",
    "def func(x, l, lg):\n",
    "    return (2*l + 1)/2. * lg(x)*phase_interp(x)"
   ]
  },
  {
   "cell_type": "code",
   "execution_count": 17,
   "metadata": {
    "scrolled": true
   },
   "outputs": [
    {
     "data": {
      "application/vnd.jupyter.widget-view+json": {
       "model_id": "463d2cfbed30480f9b73d18fd4fd6fca",
       "version_major": 2,
       "version_minor": 0
      },
      "text/plain": [
       "A Jupyter Widget"
      ]
     },
     "metadata": {},
     "output_type": "display_data"
    },
    {
     "name": "stderr",
     "output_type": "stream",
     "text": [
      "/home/amitibo/anaconda2/lib/python2.7/site-packages/scipy/integrate/quadrature.py:199: AccuracyWarning: maxiter (1000) exceeded. Latest difference = 2.647003e-05\n",
      "  AccuracyWarning)\n",
      "/home/amitibo/anaconda2/lib/python2.7/site-packages/scipy/integrate/quadrature.py:199: AccuracyWarning: maxiter (1000) exceeded. Latest difference = 4.399310e-05\n",
      "  AccuracyWarning)\n",
      "/home/amitibo/anaconda2/lib/python2.7/site-packages/scipy/integrate/quadrature.py:199: AccuracyWarning: maxiter (1000) exceeded. Latest difference = 6.123295e-05\n",
      "  AccuracyWarning)\n",
      "/home/amitibo/anaconda2/lib/python2.7/site-packages/scipy/integrate/quadrature.py:199: AccuracyWarning: maxiter (1000) exceeded. Latest difference = 9.474355e-05\n",
      "  AccuracyWarning)\n",
      "/home/amitibo/anaconda2/lib/python2.7/site-packages/scipy/integrate/quadrature.py:199: AccuracyWarning: maxiter (1000) exceeded. Latest difference = 1.111193e-04\n",
      "  AccuracyWarning)\n",
      "/home/amitibo/anaconda2/lib/python2.7/site-packages/scipy/integrate/quadrature.py:199: AccuracyWarning: maxiter (1000) exceeded. Latest difference = 1.272589e-04\n",
      "  AccuracyWarning)\n",
      "/home/amitibo/anaconda2/lib/python2.7/site-packages/scipy/integrate/quadrature.py:199: AccuracyWarning: maxiter (1000) exceeded. Latest difference = 1.582541e-04\n",
      "  AccuracyWarning)\n",
      "/home/amitibo/anaconda2/lib/python2.7/site-packages/scipy/integrate/quadrature.py:199: AccuracyWarning: maxiter (1000) exceeded. Latest difference = 1.729151e-04\n",
      "  AccuracyWarning)\n",
      "/home/amitibo/anaconda2/lib/python2.7/site-packages/scipy/integrate/quadrature.py:199: AccuracyWarning: maxiter (1000) exceeded. Latest difference = 1.868504e-04\n",
      "  AccuracyWarning)\n",
      "/home/amitibo/anaconda2/lib/python2.7/site-packages/scipy/integrate/quadrature.py:199: AccuracyWarning: maxiter (1000) exceeded. Latest difference = 1.998088e-04\n",
      "  AccuracyWarning)\n",
      "/home/amitibo/anaconda2/lib/python2.7/site-packages/scipy/integrate/quadrature.py:199: AccuracyWarning: maxiter (1000) exceeded. Latest difference = 2.114156e-04\n",
      "  AccuracyWarning)\n",
      "/home/amitibo/anaconda2/lib/python2.7/site-packages/scipy/integrate/quadrature.py:199: AccuracyWarning: maxiter (1000) exceeded. Latest difference = 2.217419e-04\n",
      "  AccuracyWarning)\n",
      "/home/amitibo/anaconda2/lib/python2.7/site-packages/scipy/integrate/quadrature.py:199: AccuracyWarning: maxiter (1000) exceeded. Latest difference = 2.307147e-04\n",
      "  AccuracyWarning)\n",
      "/home/amitibo/anaconda2/lib/python2.7/site-packages/scipy/integrate/quadrature.py:199: AccuracyWarning: maxiter (1000) exceeded. Latest difference = 2.384624e-04\n",
      "  AccuracyWarning)\n",
      "/home/amitibo/anaconda2/lib/python2.7/site-packages/scipy/integrate/quadrature.py:199: AccuracyWarning: maxiter (1000) exceeded. Latest difference = 2.446956e-04\n",
      "  AccuracyWarning)\n",
      "/home/amitibo/anaconda2/lib/python2.7/site-packages/scipy/integrate/quadrature.py:199: AccuracyWarning: maxiter (1000) exceeded. Latest difference = 2.494524e-04\n",
      "  AccuracyWarning)\n",
      "/home/amitibo/anaconda2/lib/python2.7/site-packages/scipy/integrate/quadrature.py:199: AccuracyWarning: maxiter (1000) exceeded. Latest difference = 2.524700e-04\n",
      "  AccuracyWarning)\n",
      "/home/amitibo/anaconda2/lib/python2.7/site-packages/scipy/integrate/quadrature.py:199: AccuracyWarning: maxiter (1000) exceeded. Latest difference = 2.536194e-04\n",
      "  AccuracyWarning)\n",
      "/home/amitibo/anaconda2/lib/python2.7/site-packages/scipy/integrate/quadrature.py:199: AccuracyWarning: maxiter (1000) exceeded. Latest difference = 2.527769e-04\n",
      "  AccuracyWarning)\n",
      "/home/amitibo/anaconda2/lib/python2.7/site-packages/scipy/integrate/quadrature.py:199: AccuracyWarning: maxiter (1000) exceeded. Latest difference = 2.466625e-04\n",
      "  AccuracyWarning)\n",
      "/home/amitibo/anaconda2/lib/python2.7/site-packages/scipy/integrate/quadrature.py:199: AccuracyWarning: maxiter (1000) exceeded. Latest difference = 2.396639e-04\n",
      "  AccuracyWarning)\n",
      "/home/amitibo/anaconda2/lib/python2.7/site-packages/scipy/integrate/quadrature.py:199: AccuracyWarning: maxiter (1000) exceeded. Latest difference = 2.266448e-04\n",
      "  AccuracyWarning)\n",
      "/home/amitibo/anaconda2/lib/python2.7/site-packages/scipy/integrate/quadrature.py:199: AccuracyWarning: maxiter (1000) exceeded. Latest difference = 2.072925e-04\n",
      "  AccuracyWarning)\n",
      "/home/amitibo/anaconda2/lib/python2.7/site-packages/scipy/integrate/quadrature.py:199: AccuracyWarning: maxiter (1000) exceeded. Latest difference = 1.807931e-04\n",
      "  AccuracyWarning)\n",
      "/home/amitibo/anaconda2/lib/python2.7/site-packages/scipy/integrate/quadrature.py:199: AccuracyWarning: maxiter (1000) exceeded. Latest difference = 1.495274e-04\n",
      "  AccuracyWarning)\n",
      "/home/amitibo/anaconda2/lib/python2.7/site-packages/scipy/integrate/quadrature.py:199: AccuracyWarning: maxiter (1000) exceeded. Latest difference = 1.143310e-04\n",
      "  AccuracyWarning)\n",
      "/home/amitibo/anaconda2/lib/python2.7/site-packages/scipy/integrate/quadrature.py:199: AccuracyWarning: maxiter (1000) exceeded. Latest difference = 7.607108e-05\n",
      "  AccuracyWarning)\n",
      "/home/amitibo/anaconda2/lib/python2.7/site-packages/scipy/integrate/quadrature.py:199: AccuracyWarning: maxiter (1000) exceeded. Latest difference = 3.449234e-05\n",
      "  AccuracyWarning)\n",
      "/home/amitibo/anaconda2/lib/python2.7/site-packages/scipy/integrate/quadrature.py:199: AccuracyWarning: maxiter (1000) exceeded. Latest difference = 1.028322e-05\n",
      "  AccuracyWarning)\n",
      "/home/amitibo/anaconda2/lib/python2.7/site-packages/scipy/integrate/quadrature.py:199: AccuracyWarning: maxiter (1000) exceeded. Latest difference = 5.807049e-05\n",
      "  AccuracyWarning)\n",
      "/home/amitibo/anaconda2/lib/python2.7/site-packages/scipy/integrate/quadrature.py:199: AccuracyWarning: maxiter (1000) exceeded. Latest difference = 1.082649e-04\n",
      "  AccuracyWarning)\n",
      "/home/amitibo/anaconda2/lib/python2.7/site-packages/scipy/integrate/quadrature.py:199: AccuracyWarning: maxiter (1000) exceeded. Latest difference = 1.602906e-04\n",
      "  AccuracyWarning)\n",
      "/home/amitibo/anaconda2/lib/python2.7/site-packages/scipy/integrate/quadrature.py:199: AccuracyWarning: maxiter (1000) exceeded. Latest difference = 2.694110e-04\n",
      "  AccuracyWarning)\n",
      "/home/amitibo/anaconda2/lib/python2.7/site-packages/scipy/integrate/quadrature.py:199: AccuracyWarning: maxiter (1000) exceeded. Latest difference = 3.261497e-04\n",
      "  AccuracyWarning)\n",
      "/home/amitibo/anaconda2/lib/python2.7/site-packages/scipy/integrate/quadrature.py:199: AccuracyWarning: maxiter (1000) exceeded. Latest difference = 3.831416e-04\n",
      "  AccuracyWarning)\n",
      "/home/amitibo/anaconda2/lib/python2.7/site-packages/scipy/integrate/quadrature.py:199: AccuracyWarning: maxiter (1000) exceeded. Latest difference = 4.396508e-04\n",
      "  AccuracyWarning)\n",
      "/home/amitibo/anaconda2/lib/python2.7/site-packages/scipy/integrate/quadrature.py:199: AccuracyWarning: maxiter (1000) exceeded. Latest difference = 4.939678e-04\n",
      "  AccuracyWarning)\n",
      "/home/amitibo/anaconda2/lib/python2.7/site-packages/scipy/integrate/quadrature.py:199: AccuracyWarning: maxiter (1000) exceeded. Latest difference = 5.457822e-04\n",
      "  AccuracyWarning)\n",
      "/home/amitibo/anaconda2/lib/python2.7/site-packages/scipy/integrate/quadrature.py:199: AccuracyWarning: maxiter (1000) exceeded. Latest difference = 5.934968e-04\n",
      "  AccuracyWarning)\n",
      "/home/amitibo/anaconda2/lib/python2.7/site-packages/scipy/integrate/quadrature.py:199: AccuracyWarning: maxiter (1000) exceeded. Latest difference = 6.378365e-04\n",
      "  AccuracyWarning)\n",
      "/home/amitibo/anaconda2/lib/python2.7/site-packages/scipy/integrate/quadrature.py:199: AccuracyWarning: maxiter (1000) exceeded. Latest difference = 6.784547e-04\n",
      "  AccuracyWarning)\n",
      "/home/amitibo/anaconda2/lib/python2.7/site-packages/scipy/integrate/quadrature.py:199: AccuracyWarning: maxiter (1000) exceeded. Latest difference = 7.168246e-04\n",
      "  AccuracyWarning)\n",
      "/home/amitibo/anaconda2/lib/python2.7/site-packages/scipy/integrate/quadrature.py:199: AccuracyWarning: maxiter (1000) exceeded. Latest difference = 7.532723e-04\n",
      "  AccuracyWarning)\n",
      "/home/amitibo/anaconda2/lib/python2.7/site-packages/scipy/integrate/quadrature.py:199: AccuracyWarning: maxiter (1000) exceeded. Latest difference = 7.879367e-04\n",
      "  AccuracyWarning)\n",
      "/home/amitibo/anaconda2/lib/python2.7/site-packages/scipy/integrate/quadrature.py:199: AccuracyWarning: maxiter (1000) exceeded. Latest difference = 8.198935e-04\n",
      "  AccuracyWarning)\n",
      "/home/amitibo/anaconda2/lib/python2.7/site-packages/scipy/integrate/quadrature.py:199: AccuracyWarning: maxiter (1000) exceeded. Latest difference = 8.485840e-04\n",
      "  AccuracyWarning)\n"
     ]
    },
    {
     "name": "stderr",
     "output_type": "stream",
     "text": [
      "/home/amitibo/anaconda2/lib/python2.7/site-packages/scipy/integrate/quadrature.py:199: AccuracyWarning: maxiter (1000) exceeded. Latest difference = 8.929148e-04\n",
      "  AccuracyWarning)\n",
      "/home/amitibo/anaconda2/lib/python2.7/site-packages/scipy/integrate/quadrature.py:199: AccuracyWarning: maxiter (1000) exceeded. Latest difference = 9.075227e-04\n",
      "  AccuracyWarning)\n",
      "/home/amitibo/anaconda2/lib/python2.7/site-packages/scipy/integrate/quadrature.py:199: AccuracyWarning: maxiter (1000) exceeded. Latest difference = 9.164852e-04\n",
      "  AccuracyWarning)\n",
      "/home/amitibo/anaconda2/lib/python2.7/site-packages/scipy/integrate/quadrature.py:199: AccuracyWarning: maxiter (1000) exceeded. Latest difference = 9.180226e-04\n",
      "  AccuracyWarning)\n",
      "/home/amitibo/anaconda2/lib/python2.7/site-packages/scipy/integrate/quadrature.py:199: AccuracyWarning: maxiter (1000) exceeded. Latest difference = 9.134534e-04\n",
      "  AccuracyWarning)\n",
      "/home/amitibo/anaconda2/lib/python2.7/site-packages/scipy/integrate/quadrature.py:199: AccuracyWarning: maxiter (1000) exceeded. Latest difference = 9.020196e-04\n",
      "  AccuracyWarning)\n",
      "/home/amitibo/anaconda2/lib/python2.7/site-packages/scipy/integrate/quadrature.py:199: AccuracyWarning: maxiter (1000) exceeded. Latest difference = 8.842894e-04\n",
      "  AccuracyWarning)\n",
      "/home/amitibo/anaconda2/lib/python2.7/site-packages/scipy/integrate/quadrature.py:199: AccuracyWarning: maxiter (1000) exceeded. Latest difference = 8.594936e-04\n",
      "  AccuracyWarning)\n",
      "/home/amitibo/anaconda2/lib/python2.7/site-packages/scipy/integrate/quadrature.py:199: AccuracyWarning: maxiter (1000) exceeded. Latest difference = 8.284851e-04\n",
      "  AccuracyWarning)\n",
      "/home/amitibo/anaconda2/lib/python2.7/site-packages/scipy/integrate/quadrature.py:199: AccuracyWarning: maxiter (1000) exceeded. Latest difference = 7.910209e-04\n",
      "  AccuracyWarning)\n",
      "/home/amitibo/anaconda2/lib/python2.7/site-packages/scipy/integrate/quadrature.py:199: AccuracyWarning: maxiter (1000) exceeded. Latest difference = 7.481119e-04\n",
      "  AccuracyWarning)\n",
      "/home/amitibo/anaconda2/lib/python2.7/site-packages/scipy/integrate/quadrature.py:199: AccuracyWarning: maxiter (1000) exceeded. Latest difference = 6.982985e-04\n",
      "  AccuracyWarning)\n",
      "/home/amitibo/anaconda2/lib/python2.7/site-packages/scipy/integrate/quadrature.py:199: AccuracyWarning: maxiter (1000) exceeded. Latest difference = 6.424617e-04\n",
      "  AccuracyWarning)\n",
      "/home/amitibo/anaconda2/lib/python2.7/site-packages/scipy/integrate/quadrature.py:199: AccuracyWarning: maxiter (1000) exceeded. Latest difference = 5.775758e-04\n",
      "  AccuracyWarning)\n",
      "/home/amitibo/anaconda2/lib/python2.7/site-packages/scipy/integrate/quadrature.py:199: AccuracyWarning: maxiter (1000) exceeded. Latest difference = 5.025705e-04\n",
      "  AccuracyWarning)\n",
      "/home/amitibo/anaconda2/lib/python2.7/site-packages/scipy/integrate/quadrature.py:199: AccuracyWarning: maxiter (1000) exceeded. Latest difference = 4.194999e-04\n",
      "  AccuracyWarning)\n",
      "/home/amitibo/anaconda2/lib/python2.7/site-packages/scipy/integrate/quadrature.py:199: AccuracyWarning: maxiter (1000) exceeded. Latest difference = 3.412233e-04\n",
      "  AccuracyWarning)\n",
      "/home/amitibo/anaconda2/lib/python2.7/site-packages/scipy/integrate/quadrature.py:199: AccuracyWarning: maxiter (1000) exceeded. Latest difference = 2.803915e-04\n",
      "  AccuracyWarning)\n",
      "/home/amitibo/anaconda2/lib/python2.7/site-packages/scipy/integrate/quadrature.py:199: AccuracyWarning: maxiter (1000) exceeded. Latest difference = 2.325530e-04\n",
      "  AccuracyWarning)\n",
      "/home/amitibo/anaconda2/lib/python2.7/site-packages/scipy/integrate/quadrature.py:199: AccuracyWarning: maxiter (1000) exceeded. Latest difference = 1.918315e-04\n",
      "  AccuracyWarning)\n",
      "/home/amitibo/anaconda2/lib/python2.7/site-packages/scipy/integrate/quadrature.py:199: AccuracyWarning: maxiter (1000) exceeded. Latest difference = 1.531654e-04\n",
      "  AccuracyWarning)\n",
      "/home/amitibo/anaconda2/lib/python2.7/site-packages/scipy/integrate/quadrature.py:199: AccuracyWarning: maxiter (1000) exceeded. Latest difference = 1.176096e-04\n",
      "  AccuracyWarning)\n",
      "/home/amitibo/anaconda2/lib/python2.7/site-packages/scipy/integrate/quadrature.py:199: AccuracyWarning: maxiter (1000) exceeded. Latest difference = 8.436463e-05\n",
      "  AccuracyWarning)\n",
      "/home/amitibo/anaconda2/lib/python2.7/site-packages/scipy/integrate/quadrature.py:199: AccuracyWarning: maxiter (1000) exceeded. Latest difference = 5.407855e-05\n",
      "  AccuracyWarning)\n",
      "/home/amitibo/anaconda2/lib/python2.7/site-packages/scipy/integrate/quadrature.py:199: AccuracyWarning: maxiter (1000) exceeded. Latest difference = 2.627647e-05\n",
      "  AccuracyWarning)\n",
      "/home/amitibo/anaconda2/lib/python2.7/site-packages/scipy/integrate/quadrature.py:199: AccuracyWarning: maxiter (1000) exceeded. Latest difference = 6.552473e-07\n",
      "  AccuracyWarning)\n",
      "/home/amitibo/anaconda2/lib/python2.7/site-packages/scipy/integrate/quadrature.py:199: AccuracyWarning: maxiter (1000) exceeded. Latest difference = 2.392070e-05\n",
      "  AccuracyWarning)\n",
      "/home/amitibo/anaconda2/lib/python2.7/site-packages/scipy/integrate/quadrature.py:199: AccuracyWarning: maxiter (1000) exceeded. Latest difference = 4.790838e-05\n",
      "  AccuracyWarning)\n",
      "/home/amitibo/anaconda2/lib/python2.7/site-packages/scipy/integrate/quadrature.py:199: AccuracyWarning: maxiter (1000) exceeded. Latest difference = 7.202174e-05\n",
      "  AccuracyWarning)\n",
      "/home/amitibo/anaconda2/lib/python2.7/site-packages/scipy/integrate/quadrature.py:199: AccuracyWarning: maxiter (1000) exceeded. Latest difference = 9.577107e-05\n",
      "  AccuracyWarning)\n",
      "/home/amitibo/anaconda2/lib/python2.7/site-packages/scipy/integrate/quadrature.py:199: AccuracyWarning: maxiter (1000) exceeded. Latest difference = 1.192748e-04\n",
      "  AccuracyWarning)\n",
      "/home/amitibo/anaconda2/lib/python2.7/site-packages/scipy/integrate/quadrature.py:199: AccuracyWarning: maxiter (1000) exceeded. Latest difference = 1.434770e-04\n",
      "  AccuracyWarning)\n",
      "/home/amitibo/anaconda2/lib/python2.7/site-packages/scipy/integrate/quadrature.py:199: AccuracyWarning: maxiter (1000) exceeded. Latest difference = 1.686466e-04\n",
      "  AccuracyWarning)\n",
      "/home/amitibo/anaconda2/lib/python2.7/site-packages/scipy/integrate/quadrature.py:199: AccuracyWarning: maxiter (1000) exceeded. Latest difference = 1.954086e-04\n",
      "  AccuracyWarning)\n",
      "/home/amitibo/anaconda2/lib/python2.7/site-packages/scipy/integrate/quadrature.py:199: AccuracyWarning: maxiter (1000) exceeded. Latest difference = 2.246152e-04\n",
      "  AccuracyWarning)\n",
      "/home/amitibo/anaconda2/lib/python2.7/site-packages/scipy/special/orthogonal.py:142: RuntimeWarning: invalid value encountered in multiply\n",
      "  self.__dict__['coeffs'] *= float(kn)\n",
      "/home/amitibo/anaconda2/lib/python2.7/site-packages/scipy/integrate/quadrature.py:199: AccuracyWarning: maxiter (1000) exceeded. Latest difference = 2.571944e-04\n",
      "  AccuracyWarning)\n",
      "/home/amitibo/anaconda2/lib/python2.7/site-packages/scipy/integrate/quadrature.py:199: AccuracyWarning: maxiter (1000) exceeded. Latest difference = 2.923570e-04\n",
      "  AccuracyWarning)\n",
      "/home/amitibo/anaconda2/lib/python2.7/site-packages/scipy/integrate/quadrature.py:199: AccuracyWarning: maxiter (1000) exceeded. Latest difference = 3.306260e-04\n",
      "  AccuracyWarning)\n",
      "/home/amitibo/anaconda2/lib/python2.7/site-packages/scipy/integrate/quadrature.py:199: AccuracyWarning: maxiter (1000) exceeded. Latest difference = 3.715293e-04\n",
      "  AccuracyWarning)\n",
      "/home/amitibo/anaconda2/lib/python2.7/site-packages/scipy/integrate/quadrature.py:199: AccuracyWarning: maxiter (1000) exceeded. Latest difference = 4.205446e-04\n",
      "  AccuracyWarning)\n",
      "/home/amitibo/anaconda2/lib/python2.7/site-packages/scipy/integrate/quadrature.py:199: AccuracyWarning: maxiter (1000) exceeded. Latest difference = 4.835261e-04\n",
      "  AccuracyWarning)\n",
      "/home/amitibo/anaconda2/lib/python2.7/site-packages/scipy/integrate/quadrature.py:199: AccuracyWarning: maxiter (1000) exceeded. Latest difference = 5.650833e-04\n",
      "  AccuracyWarning)\n",
      "/home/amitibo/anaconda2/lib/python2.7/site-packages/scipy/integrate/quadrature.py:199: AccuracyWarning: maxiter (1000) exceeded. Latest difference = 6.535938e-04\n",
      "  AccuracyWarning)\n",
      "/home/amitibo/anaconda2/lib/python2.7/site-packages/scipy/integrate/quadrature.py:199: AccuracyWarning: maxiter (1000) exceeded. Latest difference = 7.364026e-04\n",
      "  AccuracyWarning)\n",
      "/home/amitibo/anaconda2/lib/python2.7/site-packages/scipy/integrate/quadrature.py:199: AccuracyWarning: maxiter (1000) exceeded. Latest difference = 8.107544e-04\n",
      "  AccuracyWarning)\n"
     ]
    },
    {
     "name": "stderr",
     "output_type": "stream",
     "text": [
      "/home/amitibo/anaconda2/lib/python2.7/site-packages/scipy/integrate/quadrature.py:199: AccuracyWarning: maxiter (1000) exceeded. Latest difference = 8.769228e-04\n",
      "  AccuracyWarning)\n",
      "/home/amitibo/anaconda2/lib/python2.7/site-packages/scipy/integrate/quadrature.py:199: AccuracyWarning: maxiter (1000) exceeded. Latest difference = 9.382531e-04\n",
      "  AccuracyWarning)\n",
      "/home/amitibo/anaconda2/lib/python2.7/site-packages/scipy/special/orthogonal.py:1965: RuntimeWarning: overflow encountered in double_scalars\n",
      "  kn = _gam(2 * n + 1) / _gam(n + 1)**2 / 2.0**n\n",
      "/home/amitibo/anaconda2/lib/python2.7/site-packages/scipy/special/orthogonal.py:1965: RuntimeWarning: invalid value encountered in double_scalars\n",
      "  kn = _gam(2 * n + 1) / _gam(n + 1)**2 / 2.0**n\n",
      "/home/amitibo/anaconda2/lib/python2.7/site-packages/scipy/integrate/quadrature.py:199: AccuracyWarning: maxiter (1000) exceeded. Latest difference = 9.939264e-04\n",
      "  AccuracyWarning)\n",
      "/home/amitibo/anaconda2/lib/python2.7/site-packages/scipy/integrate/quadrature.py:199: AccuracyWarning: maxiter (1000) exceeded. Latest difference = 1.044975e-03\n",
      "  AccuracyWarning)\n",
      "/home/amitibo/anaconda2/lib/python2.7/site-packages/scipy/integrate/quadrature.py:199: AccuracyWarning: maxiter (1000) exceeded. Latest difference = 1.089721e-03\n",
      "  AccuracyWarning)\n",
      "/home/amitibo/anaconda2/lib/python2.7/site-packages/scipy/integrate/quadrature.py:199: AccuracyWarning: maxiter (1000) exceeded. Latest difference = 1.128532e-03\n",
      "  AccuracyWarning)\n",
      "/home/amitibo/anaconda2/lib/python2.7/site-packages/scipy/integrate/quadrature.py:199: AccuracyWarning: maxiter (1000) exceeded. Latest difference = 1.160513e-03\n",
      "  AccuracyWarning)\n",
      "/home/amitibo/anaconda2/lib/python2.7/site-packages/scipy/integrate/quadrature.py:199: AccuracyWarning: maxiter (1000) exceeded. Latest difference = 1.185743e-03\n",
      "  AccuracyWarning)\n",
      "/home/amitibo/anaconda2/lib/python2.7/site-packages/scipy/integrate/quadrature.py:199: AccuracyWarning: maxiter (1000) exceeded. Latest difference = 1.202804e-03\n",
      "  AccuracyWarning)\n",
      "/home/amitibo/anaconda2/lib/python2.7/site-packages/scipy/integrate/quadrature.py:199: AccuracyWarning: maxiter (1000) exceeded. Latest difference = 1.212578e-03\n",
      "  AccuracyWarning)\n",
      "/home/amitibo/anaconda2/lib/python2.7/site-packages/scipy/integrate/quadrature.py:199: AccuracyWarning: maxiter (1000) exceeded. Latest difference = 1.213527e-03\n",
      "  AccuracyWarning)\n",
      "/home/amitibo/anaconda2/lib/python2.7/site-packages/scipy/integrate/quadrature.py:199: AccuracyWarning: maxiter (1000) exceeded. Latest difference = 1.207112e-03\n",
      "  AccuracyWarning)\n",
      "/home/amitibo/anaconda2/lib/python2.7/site-packages/scipy/integrate/quadrature.py:199: AccuracyWarning: maxiter (1000) exceeded. Latest difference = 1.192921e-03\n",
      "  AccuracyWarning)\n",
      "/home/amitibo/anaconda2/lib/python2.7/site-packages/scipy/integrate/quadrature.py:199: AccuracyWarning: maxiter (1000) exceeded. Latest difference = 1.172851e-03\n",
      "  AccuracyWarning)\n",
      "/home/amitibo/anaconda2/lib/python2.7/site-packages/scipy/integrate/quadrature.py:199: AccuracyWarning: maxiter (1000) exceeded. Latest difference = 1.146737e-03\n",
      "  AccuracyWarning)\n",
      "/home/amitibo/anaconda2/lib/python2.7/site-packages/scipy/integrate/quadrature.py:199: AccuracyWarning: maxiter (1000) exceeded. Latest difference = 1.115407e-03\n",
      "  AccuracyWarning)\n",
      "/home/amitibo/anaconda2/lib/python2.7/site-packages/scipy/integrate/quadrature.py:199: AccuracyWarning: maxiter (1000) exceeded. Latest difference = 1.079127e-03\n",
      "  AccuracyWarning)\n",
      "/home/amitibo/anaconda2/lib/python2.7/site-packages/scipy/integrate/quadrature.py:199: AccuracyWarning: maxiter (1000) exceeded. Latest difference = 1.039415e-03\n",
      "  AccuracyWarning)\n",
      "/home/amitibo/anaconda2/lib/python2.7/site-packages/scipy/integrate/quadrature.py:199: AccuracyWarning: maxiter (1000) exceeded. Latest difference = 9.964178e-04\n",
      "  AccuracyWarning)\n",
      "/home/amitibo/anaconda2/lib/python2.7/site-packages/scipy/integrate/quadrature.py:199: AccuracyWarning: maxiter (1000) exceeded. Latest difference = 9.488892e-04\n",
      "  AccuracyWarning)\n",
      "/home/amitibo/anaconda2/lib/python2.7/site-packages/scipy/integrate/quadrature.py:199: AccuracyWarning: maxiter (1000) exceeded. Latest difference = 8.937562e-04\n",
      "  AccuracyWarning)\n",
      "/home/amitibo/anaconda2/lib/python2.7/site-packages/scipy/integrate/quadrature.py:199: AccuracyWarning: maxiter (1000) exceeded. Latest difference = 8.316459e-04\n",
      "  AccuracyWarning)\n",
      "/home/amitibo/anaconda2/lib/python2.7/site-packages/scipy/integrate/quadrature.py:199: AccuracyWarning: maxiter (1000) exceeded. Latest difference = 7.614846e-04\n",
      "  AccuracyWarning)\n",
      "/home/amitibo/anaconda2/lib/python2.7/site-packages/scipy/integrate/quadrature.py:199: AccuracyWarning: maxiter (1000) exceeded. Latest difference = 6.849988e-04\n",
      "  AccuracyWarning)\n",
      "/home/amitibo/anaconda2/lib/python2.7/site-packages/scipy/integrate/quadrature.py:199: AccuracyWarning: maxiter (1000) exceeded. Latest difference = 6.019100e-04\n",
      "  AccuracyWarning)\n",
      "/home/amitibo/anaconda2/lib/python2.7/site-packages/scipy/integrate/quadrature.py:199: AccuracyWarning: maxiter (1000) exceeded. Latest difference = 5.152669e-04\n",
      "  AccuracyWarning)\n",
      "/home/amitibo/anaconda2/lib/python2.7/site-packages/scipy/integrate/quadrature.py:199: AccuracyWarning: maxiter (1000) exceeded. Latest difference = 4.265988e-04\n",
      "  AccuracyWarning)\n",
      "/home/amitibo/anaconda2/lib/python2.7/site-packages/scipy/integrate/quadrature.py:199: AccuracyWarning: maxiter (1000) exceeded. Latest difference = 3.370988e-04\n",
      "  AccuracyWarning)\n",
      "/home/amitibo/anaconda2/lib/python2.7/site-packages/scipy/integrate/quadrature.py:199: AccuracyWarning: maxiter (1000) exceeded. Latest difference = 2.470266e-04\n",
      "  AccuracyWarning)\n",
      "/home/amitibo/anaconda2/lib/python2.7/site-packages/scipy/integrate/quadrature.py:199: AccuracyWarning: maxiter (1000) exceeded. Latest difference = 1.566693e-04\n",
      "  AccuracyWarning)\n",
      "/home/amitibo/anaconda2/lib/python2.7/site-packages/scipy/integrate/quadrature.py:199: AccuracyWarning: maxiter (1000) exceeded. Latest difference = 6.683756e-05\n",
      "  AccuracyWarning)\n",
      "/home/amitibo/anaconda2/lib/python2.7/site-packages/scipy/integrate/quadrature.py:199: AccuracyWarning: maxiter (1000) exceeded. Latest difference = 2.183875e-05\n",
      "  AccuracyWarning)\n",
      "/home/amitibo/anaconda2/lib/python2.7/site-packages/scipy/integrate/quadrature.py:199: AccuracyWarning: maxiter (1000) exceeded. Latest difference = 1.086639e-04\n",
      "  AccuracyWarning)\n",
      "/home/amitibo/anaconda2/lib/python2.7/site-packages/scipy/integrate/quadrature.py:199: AccuracyWarning: maxiter (1000) exceeded. Latest difference = 1.925651e-04\n",
      "  AccuracyWarning)\n",
      "/home/amitibo/anaconda2/lib/python2.7/site-packages/scipy/integrate/quadrature.py:199: AccuracyWarning: maxiter (1000) exceeded. Latest difference = 3.498623e-04\n",
      "  AccuracyWarning)\n",
      "/home/amitibo/anaconda2/lib/python2.7/site-packages/scipy/integrate/quadrature.py:199: AccuracyWarning: maxiter (1000) exceeded. Latest difference = 4.225942e-04\n",
      "  AccuracyWarning)\n",
      "/home/amitibo/anaconda2/lib/python2.7/site-packages/scipy/integrate/quadrature.py:199: AccuracyWarning: maxiter (1000) exceeded. Latest difference = 4.878976e-04\n",
      "  AccuracyWarning)\n",
      "/home/amitibo/anaconda2/lib/python2.7/site-packages/scipy/integrate/quadrature.py:199: AccuracyWarning: maxiter (1000) exceeded. Latest difference = 5.389674e-04\n",
      "  AccuracyWarning)\n",
      "/home/amitibo/anaconda2/lib/python2.7/site-packages/scipy/integrate/quadrature.py:199: AccuracyWarning: maxiter (1000) exceeded. Latest difference = 5.773343e-04\n",
      "  AccuracyWarning)\n",
      "/home/amitibo/anaconda2/lib/python2.7/site-packages/scipy/integrate/quadrature.py:199: AccuracyWarning: maxiter (1000) exceeded. Latest difference = 6.036280e-04\n",
      "  AccuracyWarning)\n",
      "/home/amitibo/anaconda2/lib/python2.7/site-packages/scipy/integrate/quadrature.py:199: AccuracyWarning: maxiter (1000) exceeded. Latest difference = 6.241987e-04\n",
      "  AccuracyWarning)\n",
      "/home/amitibo/anaconda2/lib/python2.7/site-packages/scipy/integrate/quadrature.py:199: AccuracyWarning: maxiter (1000) exceeded. Latest difference = 6.415492e-04\n",
      "  AccuracyWarning)\n",
      "/home/amitibo/anaconda2/lib/python2.7/site-packages/scipy/integrate/quadrature.py:199: AccuracyWarning: maxiter (1000) exceeded. Latest difference = 6.573905e-04\n",
      "  AccuracyWarning)\n",
      "/home/amitibo/anaconda2/lib/python2.7/site-packages/scipy/integrate/quadrature.py:199: AccuracyWarning: maxiter (1000) exceeded. Latest difference = 6.703898e-04\n",
      "  AccuracyWarning)\n"
     ]
    },
    {
     "name": "stderr",
     "output_type": "stream",
     "text": [
      "/home/amitibo/anaconda2/lib/python2.7/site-packages/scipy/integrate/quadrature.py:199: AccuracyWarning: maxiter (1000) exceeded. Latest difference = 6.800029e-04\n",
      "  AccuracyWarning)\n",
      "/home/amitibo/anaconda2/lib/python2.7/site-packages/scipy/integrate/quadrature.py:199: AccuracyWarning: maxiter (1000) exceeded. Latest difference = 6.858899e-04\n",
      "  AccuracyWarning)\n",
      "/home/amitibo/anaconda2/lib/python2.7/site-packages/scipy/integrate/quadrature.py:199: AccuracyWarning: maxiter (1000) exceeded. Latest difference = 6.890665e-04\n",
      "  AccuracyWarning)\n",
      "/home/amitibo/anaconda2/lib/python2.7/site-packages/scipy/integrate/quadrature.py:199: AccuracyWarning: maxiter (1000) exceeded. Latest difference = 6.897865e-04\n",
      "  AccuracyWarning)\n",
      "/home/amitibo/anaconda2/lib/python2.7/site-packages/scipy/integrate/quadrature.py:199: AccuracyWarning: maxiter (1000) exceeded. Latest difference = 6.881281e-04\n",
      "  AccuracyWarning)\n",
      "/home/amitibo/anaconda2/lib/python2.7/site-packages/scipy/integrate/quadrature.py:199: AccuracyWarning: maxiter (1000) exceeded. Latest difference = 6.828961e-04\n",
      "  AccuracyWarning)\n",
      "/home/amitibo/anaconda2/lib/python2.7/site-packages/scipy/integrate/quadrature.py:199: AccuracyWarning: maxiter (1000) exceeded. Latest difference = 6.745472e-04\n",
      "  AccuracyWarning)\n",
      "/home/amitibo/anaconda2/lib/python2.7/site-packages/scipy/integrate/quadrature.py:199: AccuracyWarning: maxiter (1000) exceeded. Latest difference = 6.630426e-04\n",
      "  AccuracyWarning)\n",
      "/home/amitibo/anaconda2/lib/python2.7/site-packages/scipy/integrate/quadrature.py:199: AccuracyWarning: maxiter (1000) exceeded. Latest difference = 6.487368e-04\n",
      "  AccuracyWarning)\n",
      "/home/amitibo/anaconda2/lib/python2.7/site-packages/scipy/integrate/quadrature.py:199: AccuracyWarning: maxiter (1000) exceeded. Latest difference = 6.316655e-04\n",
      "  AccuracyWarning)\n",
      "/home/amitibo/anaconda2/lib/python2.7/site-packages/scipy/integrate/quadrature.py:199: AccuracyWarning: maxiter (1000) exceeded. Latest difference = 6.127069e-04\n",
      "  AccuracyWarning)\n",
      "/home/amitibo/anaconda2/lib/python2.7/site-packages/scipy/integrate/quadrature.py:199: AccuracyWarning: maxiter (1000) exceeded. Latest difference = 5.923880e-04\n",
      "  AccuracyWarning)\n",
      "/home/amitibo/anaconda2/lib/python2.7/site-packages/scipy/integrate/quadrature.py:199: AccuracyWarning: maxiter (1000) exceeded. Latest difference = 5.705170e-04\n",
      "  AccuracyWarning)\n",
      "/home/amitibo/anaconda2/lib/python2.7/site-packages/scipy/integrate/quadrature.py:199: AccuracyWarning: maxiter (1000) exceeded. Latest difference = 5.469871e-04\n",
      "  AccuracyWarning)\n",
      "/home/amitibo/anaconda2/lib/python2.7/site-packages/scipy/integrate/quadrature.py:199: AccuracyWarning: maxiter (1000) exceeded. Latest difference = 5.223592e-04\n",
      "  AccuracyWarning)\n",
      "/home/amitibo/anaconda2/lib/python2.7/site-packages/scipy/integrate/quadrature.py:199: AccuracyWarning: maxiter (1000) exceeded. Latest difference = 4.964849e-04\n",
      "  AccuracyWarning)\n",
      "/home/amitibo/anaconda2/lib/python2.7/site-packages/scipy/integrate/quadrature.py:199: AccuracyWarning: maxiter (1000) exceeded. Latest difference = 4.684718e-04\n",
      "  AccuracyWarning)\n",
      "/home/amitibo/anaconda2/lib/python2.7/site-packages/scipy/integrate/quadrature.py:199: AccuracyWarning: maxiter (1000) exceeded. Latest difference = 4.372304e-04\n",
      "  AccuracyWarning)\n",
      "/home/amitibo/anaconda2/lib/python2.7/site-packages/scipy/integrate/quadrature.py:199: AccuracyWarning: maxiter (1000) exceeded. Latest difference = 4.041583e-04\n",
      "  AccuracyWarning)\n",
      "/home/amitibo/anaconda2/lib/python2.7/site-packages/scipy/integrate/quadrature.py:199: AccuracyWarning: maxiter (1000) exceeded. Latest difference = 3.693861e-04\n",
      "  AccuracyWarning)\n",
      "/home/amitibo/anaconda2/lib/python2.7/site-packages/scipy/integrate/quadrature.py:199: AccuracyWarning: maxiter (1000) exceeded. Latest difference = 3.327098e-04\n",
      "  AccuracyWarning)\n",
      "/home/amitibo/anaconda2/lib/python2.7/site-packages/scipy/integrate/quadrature.py:199: AccuracyWarning: maxiter (1000) exceeded. Latest difference = 2.930773e-04\n",
      "  AccuracyWarning)\n",
      "/home/amitibo/anaconda2/lib/python2.7/site-packages/scipy/integrate/quadrature.py:199: AccuracyWarning: maxiter (1000) exceeded. Latest difference = 2.515806e-04\n",
      "  AccuracyWarning)\n",
      "/home/amitibo/anaconda2/lib/python2.7/site-packages/scipy/integrate/quadrature.py:199: AccuracyWarning: maxiter (1000) exceeded. Latest difference = 2.095708e-04\n",
      "  AccuracyWarning)\n",
      "/home/amitibo/anaconda2/lib/python2.7/site-packages/scipy/integrate/quadrature.py:199: AccuracyWarning: maxiter (1000) exceeded. Latest difference = 1.667759e-04\n",
      "  AccuracyWarning)\n",
      "/home/amitibo/anaconda2/lib/python2.7/site-packages/scipy/integrate/quadrature.py:199: AccuracyWarning: maxiter (1000) exceeded. Latest difference = 1.220710e-04\n",
      "  AccuracyWarning)\n",
      "/home/amitibo/anaconda2/lib/python2.7/site-packages/scipy/integrate/quadrature.py:199: AccuracyWarning: maxiter (1000) exceeded. Latest difference = 7.542073e-05\n",
      "  AccuracyWarning)\n",
      "/home/amitibo/anaconda2/lib/python2.7/site-packages/scipy/integrate/quadrature.py:199: AccuracyWarning: maxiter (1000) exceeded. Latest difference = 2.686677e-05\n",
      "  AccuracyWarning)\n",
      "/home/amitibo/anaconda2/lib/python2.7/site-packages/scipy/integrate/quadrature.py:199: AccuracyWarning: maxiter (1000) exceeded. Latest difference = 2.375752e-05\n",
      "  AccuracyWarning)\n",
      "/home/amitibo/anaconda2/lib/python2.7/site-packages/scipy/integrate/quadrature.py:199: AccuracyWarning: maxiter (1000) exceeded. Latest difference = 7.737908e-05\n",
      "  AccuracyWarning)\n",
      "/home/amitibo/anaconda2/lib/python2.7/site-packages/scipy/integrate/quadrature.py:199: AccuracyWarning: maxiter (1000) exceeded. Latest difference = 1.333366e-04\n",
      "  AccuracyWarning)\n",
      "/home/amitibo/anaconda2/lib/python2.7/site-packages/scipy/integrate/quadrature.py:199: AccuracyWarning: maxiter (1000) exceeded. Latest difference = 1.915158e-04\n",
      "  AccuracyWarning)\n",
      "/home/amitibo/anaconda2/lib/python2.7/site-packages/scipy/integrate/quadrature.py:199: AccuracyWarning: maxiter (1000) exceeded. Latest difference = 2.512449e-04\n",
      "  AccuracyWarning)\n",
      "/home/amitibo/anaconda2/lib/python2.7/site-packages/scipy/integrate/quadrature.py:199: AccuracyWarning: maxiter (1000) exceeded. Latest difference = 3.126378e-04\n",
      "  AccuracyWarning)\n",
      "/home/amitibo/anaconda2/lib/python2.7/site-packages/scipy/integrate/quadrature.py:199: AccuracyWarning: maxiter (1000) exceeded. Latest difference = 3.745259e-04\n",
      "  AccuracyWarning)\n",
      "/home/amitibo/anaconda2/lib/python2.7/site-packages/scipy/integrate/quadrature.py:199: AccuracyWarning: maxiter (1000) exceeded. Latest difference = 4.367478e-04\n",
      "  AccuracyWarning)\n",
      "/home/amitibo/anaconda2/lib/python2.7/site-packages/scipy/integrate/quadrature.py:199: AccuracyWarning: maxiter (1000) exceeded. Latest difference = 4.998054e-04\n",
      "  AccuracyWarning)\n",
      "/home/amitibo/anaconda2/lib/python2.7/site-packages/scipy/integrate/quadrature.py:199: AccuracyWarning: maxiter (1000) exceeded. Latest difference = 5.644185e-04\n",
      "  AccuracyWarning)\n",
      "/home/amitibo/anaconda2/lib/python2.7/site-packages/scipy/integrate/quadrature.py:199: AccuracyWarning: maxiter (1000) exceeded. Latest difference = 6.298267e-04\n",
      "  AccuracyWarning)\n",
      "/home/amitibo/anaconda2/lib/python2.7/site-packages/scipy/integrate/quadrature.py:199: AccuracyWarning: maxiter (1000) exceeded. Latest difference = 6.954585e-04\n",
      "  AccuracyWarning)\n",
      "/home/amitibo/anaconda2/lib/python2.7/site-packages/scipy/integrate/quadrature.py:199: AccuracyWarning: maxiter (1000) exceeded. Latest difference = 7.606481e-04\n",
      "  AccuracyWarning)\n",
      "/home/amitibo/anaconda2/lib/python2.7/site-packages/scipy/integrate/quadrature.py:199: AccuracyWarning: maxiter (1000) exceeded. Latest difference = 8.273596e-04\n",
      "  AccuracyWarning)\n",
      "/home/amitibo/anaconda2/lib/python2.7/site-packages/scipy/integrate/quadrature.py:199: AccuracyWarning: maxiter (1000) exceeded. Latest difference = 8.973547e-04\n",
      "  AccuracyWarning)\n",
      "/home/amitibo/anaconda2/lib/python2.7/site-packages/scipy/integrate/quadrature.py:199: AccuracyWarning: maxiter (1000) exceeded. Latest difference = 9.728090e-04\n",
      "  AccuracyWarning)\n",
      "/home/amitibo/anaconda2/lib/python2.7/site-packages/scipy/integrate/quadrature.py:199: AccuracyWarning: maxiter (1000) exceeded. Latest difference = 1.051595e-03\n",
      "  AccuracyWarning)\n",
      "/home/amitibo/anaconda2/lib/python2.7/site-packages/scipy/integrate/quadrature.py:199: AccuracyWarning: maxiter (1000) exceeded. Latest difference = 1.128816e-03\n",
      "  AccuracyWarning)\n"
     ]
    },
    {
     "name": "stderr",
     "output_type": "stream",
     "text": [
      "/home/amitibo/anaconda2/lib/python2.7/site-packages/scipy/integrate/quadrature.py:199: AccuracyWarning: maxiter (1000) exceeded. Latest difference = 1.199157e-03\n",
      "  AccuracyWarning)\n",
      "/home/amitibo/anaconda2/lib/python2.7/site-packages/scipy/integrate/quadrature.py:199: AccuracyWarning: maxiter (1000) exceeded. Latest difference = 1.256892e-03\n",
      "  AccuracyWarning)\n",
      "/home/amitibo/anaconda2/lib/python2.7/site-packages/scipy/integrate/quadrature.py:199: AccuracyWarning: maxiter (1000) exceeded. Latest difference = 1.305272e-03\n",
      "  AccuracyWarning)\n",
      "/home/amitibo/anaconda2/lib/python2.7/site-packages/scipy/integrate/quadrature.py:199: AccuracyWarning: maxiter (1000) exceeded. Latest difference = 1.344059e-03\n",
      "  AccuracyWarning)\n",
      "/home/amitibo/anaconda2/lib/python2.7/site-packages/scipy/integrate/quadrature.py:199: AccuracyWarning: maxiter (1000) exceeded. Latest difference = 1.375119e-03\n",
      "  AccuracyWarning)\n",
      "/home/amitibo/anaconda2/lib/python2.7/site-packages/scipy/integrate/quadrature.py:199: AccuracyWarning: maxiter (1000) exceeded. Latest difference = 1.395227e-03\n",
      "  AccuracyWarning)\n",
      "/home/amitibo/anaconda2/lib/python2.7/site-packages/scipy/integrate/quadrature.py:199: AccuracyWarning: maxiter (1000) exceeded. Latest difference = 1.405905e-03\n",
      "  AccuracyWarning)\n",
      "/home/amitibo/anaconda2/lib/python2.7/site-packages/scipy/integrate/quadrature.py:199: AccuracyWarning: maxiter (1000) exceeded. Latest difference = 1.405409e-03\n",
      "  AccuracyWarning)\n",
      "/home/amitibo/anaconda2/lib/python2.7/site-packages/scipy/integrate/quadrature.py:199: AccuracyWarning: maxiter (1000) exceeded. Latest difference = 1.373037e-03\n",
      "  AccuracyWarning)\n",
      "/home/amitibo/anaconda2/lib/python2.7/site-packages/scipy/integrate/quadrature.py:199: AccuracyWarning: maxiter (1000) exceeded. Latest difference = 1.341089e-03\n",
      "  AccuracyWarning)\n",
      "/home/amitibo/anaconda2/lib/python2.7/site-packages/scipy/integrate/quadrature.py:199: AccuracyWarning: maxiter (1000) exceeded. Latest difference = 1.296422e-03\n",
      "  AccuracyWarning)\n",
      "/home/amitibo/anaconda2/lib/python2.7/site-packages/scipy/integrate/quadrature.py:199: AccuracyWarning: maxiter (1000) exceeded. Latest difference = 1.239669e-03\n",
      "  AccuracyWarning)\n",
      "/home/amitibo/anaconda2/lib/python2.7/site-packages/scipy/integrate/quadrature.py:199: AccuracyWarning: maxiter (1000) exceeded. Latest difference = 1.167867e-03\n",
      "  AccuracyWarning)\n",
      "/home/amitibo/anaconda2/lib/python2.7/site-packages/scipy/integrate/quadrature.py:199: AccuracyWarning: maxiter (1000) exceeded. Latest difference = 1.084648e-03\n",
      "  AccuracyWarning)\n",
      "/home/amitibo/anaconda2/lib/python2.7/site-packages/scipy/integrate/quadrature.py:199: AccuracyWarning: maxiter (1000) exceeded. Latest difference = 9.907427e-04\n",
      "  AccuracyWarning)\n",
      "/home/amitibo/anaconda2/lib/python2.7/site-packages/scipy/integrate/quadrature.py:199: AccuracyWarning: maxiter (1000) exceeded. Latest difference = 8.891599e-04\n",
      "  AccuracyWarning)\n",
      "/home/amitibo/anaconda2/lib/python2.7/site-packages/scipy/integrate/quadrature.py:199: AccuracyWarning: maxiter (1000) exceeded. Latest difference = 7.813024e-04\n",
      "  AccuracyWarning)\n",
      "/home/amitibo/anaconda2/lib/python2.7/site-packages/scipy/integrate/quadrature.py:199: AccuracyWarning: maxiter (1000) exceeded. Latest difference = 6.702361e-04\n",
      "  AccuracyWarning)\n",
      "/home/amitibo/anaconda2/lib/python2.7/site-packages/scipy/integrate/quadrature.py:199: AccuracyWarning: maxiter (1000) exceeded. Latest difference = 5.576326e-04\n",
      "  AccuracyWarning)\n",
      "/home/amitibo/anaconda2/lib/python2.7/site-packages/scipy/integrate/quadrature.py:199: AccuracyWarning: maxiter (1000) exceeded. Latest difference = 4.416775e-04\n",
      "  AccuracyWarning)\n",
      "/home/amitibo/anaconda2/lib/python2.7/site-packages/scipy/integrate/quadrature.py:199: AccuracyWarning: maxiter (1000) exceeded. Latest difference = 3.196551e-04\n",
      "  AccuracyWarning)\n",
      "/home/amitibo/anaconda2/lib/python2.7/site-packages/scipy/integrate/quadrature.py:199: AccuracyWarning: maxiter (1000) exceeded. Latest difference = 1.919581e-04\n",
      "  AccuracyWarning)\n",
      "/home/amitibo/anaconda2/lib/python2.7/site-packages/scipy/integrate/quadrature.py:199: AccuracyWarning: maxiter (1000) exceeded. Latest difference = 5.847461e-05\n",
      "  AccuracyWarning)\n",
      "/home/amitibo/anaconda2/lib/python2.7/site-packages/scipy/integrate/quadrature.py:199: AccuracyWarning: maxiter (1000) exceeded. Latest difference = 7.956220e-05\n",
      "  AccuracyWarning)\n",
      "/home/amitibo/anaconda2/lib/python2.7/site-packages/scipy/integrate/quadrature.py:199: AccuracyWarning: maxiter (1000) exceeded. Latest difference = 2.229802e-04\n",
      "  AccuracyWarning)\n",
      "/home/amitibo/anaconda2/lib/python2.7/site-packages/scipy/integrate/quadrature.py:199: AccuracyWarning: maxiter (1000) exceeded. Latest difference = 3.702338e-04\n",
      "  AccuracyWarning)\n",
      "/home/amitibo/anaconda2/lib/python2.7/site-packages/scipy/integrate/quadrature.py:199: AccuracyWarning: maxiter (1000) exceeded. Latest difference = 5.199976e-04\n",
      "  AccuracyWarning)\n",
      "/home/amitibo/anaconda2/lib/python2.7/site-packages/scipy/integrate/quadrature.py:199: AccuracyWarning: maxiter (1000) exceeded. Latest difference = 6.702409e-04\n",
      "  AccuracyWarning)\n",
      "/home/amitibo/anaconda2/lib/python2.7/site-packages/scipy/integrate/quadrature.py:199: AccuracyWarning: maxiter (1000) exceeded. Latest difference = 8.189036e-04\n",
      "  AccuracyWarning)\n",
      "/home/amitibo/anaconda2/lib/python2.7/site-packages/scipy/integrate/quadrature.py:199: AccuracyWarning: maxiter (1000) exceeded. Latest difference = 9.653789e-04\n",
      "  AccuracyWarning)\n",
      "/home/amitibo/anaconda2/lib/python2.7/site-packages/scipy/integrate/quadrature.py:199: AccuracyWarning: maxiter (1000) exceeded. Latest difference = 1.106664e-03\n",
      "  AccuracyWarning)\n",
      "/home/amitibo/anaconda2/lib/python2.7/site-packages/scipy/integrate/quadrature.py:199: AccuracyWarning: maxiter (1000) exceeded. Latest difference = 1.242885e-03\n",
      "  AccuracyWarning)\n",
      "/home/amitibo/anaconda2/lib/python2.7/site-packages/scipy/integrate/quadrature.py:199: AccuracyWarning: maxiter (1000) exceeded. Latest difference = 1.372088e-03\n",
      "  AccuracyWarning)\n",
      "/home/amitibo/anaconda2/lib/python2.7/site-packages/scipy/integrate/quadrature.py:199: AccuracyWarning: maxiter (1000) exceeded. Latest difference = 1.492998e-03\n",
      "  AccuracyWarning)\n",
      "/home/amitibo/anaconda2/lib/python2.7/site-packages/scipy/integrate/quadrature.py:199: AccuracyWarning: maxiter (1000) exceeded. Latest difference = 1.603850e-03\n",
      "  AccuracyWarning)\n",
      "/home/amitibo/anaconda2/lib/python2.7/site-packages/scipy/integrate/quadrature.py:199: AccuracyWarning: maxiter (1000) exceeded. Latest difference = 1.705786e-03\n",
      "  AccuracyWarning)\n",
      "/home/amitibo/anaconda2/lib/python2.7/site-packages/scipy/integrate/quadrature.py:199: AccuracyWarning: maxiter (1000) exceeded. Latest difference = 1.797017e-03\n",
      "  AccuracyWarning)\n",
      "/home/amitibo/anaconda2/lib/python2.7/site-packages/scipy/integrate/quadrature.py:199: AccuracyWarning: maxiter (1000) exceeded. Latest difference = 1.877542e-03\n",
      "  AccuracyWarning)\n",
      "/home/amitibo/anaconda2/lib/python2.7/site-packages/scipy/integrate/quadrature.py:199: AccuracyWarning: maxiter (1000) exceeded. Latest difference = 1.933318e-03\n",
      "  AccuracyWarning)\n",
      "/home/amitibo/anaconda2/lib/python2.7/site-packages/scipy/integrate/quadrature.py:199: AccuracyWarning: maxiter (1000) exceeded. Latest difference = 1.951299e-03\n",
      "  AccuracyWarning)\n",
      "/home/amitibo/anaconda2/lib/python2.7/site-packages/scipy/integrate/quadrature.py:199: AccuracyWarning: maxiter (1000) exceeded. Latest difference = 1.917883e-03\n",
      "  AccuracyWarning)\n",
      "/home/amitibo/anaconda2/lib/python2.7/site-packages/scipy/integrate/quadrature.py:199: AccuracyWarning: maxiter (1000) exceeded. Latest difference = 1.860113e-03\n",
      "  AccuracyWarning)\n",
      "/home/amitibo/anaconda2/lib/python2.7/site-packages/scipy/integrate/quadrature.py:199: AccuracyWarning: maxiter (1000) exceeded. Latest difference = 1.801545e-03\n",
      "  AccuracyWarning)\n",
      "/home/amitibo/anaconda2/lib/python2.7/site-packages/scipy/integrate/quadrature.py:199: AccuracyWarning: maxiter (1000) exceeded. Latest difference = 1.750722e-03\n",
      "  AccuracyWarning)\n",
      "/home/amitibo/anaconda2/lib/python2.7/site-packages/scipy/integrate/quadrature.py:199: AccuracyWarning: maxiter (1000) exceeded. Latest difference = 1.703723e-03\n",
      "  AccuracyWarning)\n",
      "/home/amitibo/anaconda2/lib/python2.7/site-packages/scipy/integrate/quadrature.py:199: AccuracyWarning: maxiter (1000) exceeded. Latest difference = 1.656299e-03\n",
      "  AccuracyWarning)\n"
     ]
    },
    {
     "name": "stderr",
     "output_type": "stream",
     "text": [
      "/home/amitibo/anaconda2/lib/python2.7/site-packages/scipy/integrate/quadrature.py:199: AccuracyWarning: maxiter (1000) exceeded. Latest difference = 1.608353e-03\n",
      "  AccuracyWarning)\n",
      "/home/amitibo/anaconda2/lib/python2.7/site-packages/scipy/integrate/quadrature.py:199: AccuracyWarning: maxiter (1000) exceeded. Latest difference = 1.560326e-03\n",
      "  AccuracyWarning)\n",
      "/home/amitibo/anaconda2/lib/python2.7/site-packages/scipy/integrate/quadrature.py:199: AccuracyWarning: maxiter (1000) exceeded. Latest difference = 1.515075e-03\n",
      "  AccuracyWarning)\n",
      "/home/amitibo/anaconda2/lib/python2.7/site-packages/scipy/integrate/quadrature.py:199: AccuracyWarning: maxiter (1000) exceeded. Latest difference = 1.472707e-03\n",
      "  AccuracyWarning)\n",
      "/home/amitibo/anaconda2/lib/python2.7/site-packages/scipy/integrate/quadrature.py:199: AccuracyWarning: maxiter (1000) exceeded. Latest difference = 1.433193e-03\n",
      "  AccuracyWarning)\n",
      "/home/amitibo/anaconda2/lib/python2.7/site-packages/scipy/integrate/quadrature.py:199: AccuracyWarning: maxiter (1000) exceeded. Latest difference = 1.396655e-03\n",
      "  AccuracyWarning)\n",
      "/home/amitibo/anaconda2/lib/python2.7/site-packages/scipy/integrate/quadrature.py:199: AccuracyWarning: maxiter (1000) exceeded. Latest difference = 1.363567e-03\n",
      "  AccuracyWarning)\n",
      "/home/amitibo/anaconda2/lib/python2.7/site-packages/scipy/integrate/quadrature.py:199: AccuracyWarning: maxiter (1000) exceeded. Latest difference = 1.332019e-03\n",
      "  AccuracyWarning)\n",
      "/home/amitibo/anaconda2/lib/python2.7/site-packages/scipy/integrate/quadrature.py:199: AccuracyWarning: maxiter (1000) exceeded. Latest difference = 1.303353e-03\n",
      "  AccuracyWarning)\n",
      "/home/amitibo/anaconda2/lib/python2.7/site-packages/scipy/integrate/quadrature.py:199: AccuracyWarning: maxiter (1000) exceeded. Latest difference = 1.277834e-03\n",
      "  AccuracyWarning)\n",
      "/home/amitibo/anaconda2/lib/python2.7/site-packages/scipy/integrate/quadrature.py:199: AccuracyWarning: maxiter (1000) exceeded. Latest difference = 1.256595e-03\n",
      "  AccuracyWarning)\n",
      "/home/amitibo/anaconda2/lib/python2.7/site-packages/scipy/integrate/quadrature.py:199: AccuracyWarning: maxiter (1000) exceeded. Latest difference = 1.238447e-03\n",
      "  AccuracyWarning)\n",
      "/home/amitibo/anaconda2/lib/python2.7/site-packages/scipy/integrate/quadrature.py:199: AccuracyWarning: maxiter (1000) exceeded. Latest difference = 1.223288e-03\n",
      "  AccuracyWarning)\n",
      "/home/amitibo/anaconda2/lib/python2.7/site-packages/scipy/integrate/quadrature.py:199: AccuracyWarning: maxiter (1000) exceeded. Latest difference = 1.209595e-03\n",
      "  AccuracyWarning)\n",
      "/home/amitibo/anaconda2/lib/python2.7/site-packages/scipy/integrate/quadrature.py:199: AccuracyWarning: maxiter (1000) exceeded. Latest difference = 1.198256e-03\n",
      "  AccuracyWarning)\n",
      "/home/amitibo/anaconda2/lib/python2.7/site-packages/scipy/integrate/quadrature.py:199: AccuracyWarning: maxiter (1000) exceeded. Latest difference = 1.188264e-03\n",
      "  AccuracyWarning)\n",
      "/home/amitibo/anaconda2/lib/python2.7/site-packages/scipy/integrate/quadrature.py:199: AccuracyWarning: maxiter (1000) exceeded. Latest difference = 1.181782e-03\n",
      "  AccuracyWarning)\n",
      "/home/amitibo/anaconda2/lib/python2.7/site-packages/scipy/integrate/quadrature.py:199: AccuracyWarning: maxiter (1000) exceeded. Latest difference = 1.182093e-03\n",
      "  AccuracyWarning)\n",
      "/home/amitibo/anaconda2/lib/python2.7/site-packages/scipy/integrate/quadrature.py:199: AccuracyWarning: maxiter (1000) exceeded. Latest difference = 1.184384e-03\n",
      "  AccuracyWarning)\n",
      "/home/amitibo/anaconda2/lib/python2.7/site-packages/scipy/integrate/quadrature.py:199: AccuracyWarning: maxiter (1000) exceeded. Latest difference = 1.172382e-03\n",
      "  AccuracyWarning)\n",
      "/home/amitibo/anaconda2/lib/python2.7/site-packages/scipy/integrate/quadrature.py:199: AccuracyWarning: maxiter (1000) exceeded. Latest difference = 1.127447e-03\n",
      "  AccuracyWarning)\n",
      "/home/amitibo/anaconda2/lib/python2.7/site-packages/scipy/integrate/quadrature.py:199: AccuracyWarning: maxiter (1000) exceeded. Latest difference = 1.058403e-03\n",
      "  AccuracyWarning)\n",
      "/home/amitibo/anaconda2/lib/python2.7/site-packages/scipy/integrate/quadrature.py:199: AccuracyWarning: maxiter (1000) exceeded. Latest difference = 9.745207e-04\n",
      "  AccuracyWarning)\n",
      "/home/amitibo/anaconda2/lib/python2.7/site-packages/scipy/integrate/quadrature.py:199: AccuracyWarning: maxiter (1000) exceeded. Latest difference = 8.837826e-04\n",
      "  AccuracyWarning)\n",
      "/home/amitibo/anaconda2/lib/python2.7/site-packages/scipy/integrate/quadrature.py:199: AccuracyWarning: maxiter (1000) exceeded. Latest difference = 7.858624e-04\n",
      "  AccuracyWarning)\n",
      "/home/amitibo/anaconda2/lib/python2.7/site-packages/scipy/integrate/quadrature.py:199: AccuracyWarning: maxiter (1000) exceeded. Latest difference = 6.822123e-04\n",
      "  AccuracyWarning)\n",
      "/home/amitibo/anaconda2/lib/python2.7/site-packages/scipy/integrate/quadrature.py:199: AccuracyWarning: maxiter (1000) exceeded. Latest difference = 5.734217e-04\n",
      "  AccuracyWarning)\n",
      "/home/amitibo/anaconda2/lib/python2.7/site-packages/scipy/integrate/quadrature.py:199: AccuracyWarning: maxiter (1000) exceeded. Latest difference = 4.589998e-04\n",
      "  AccuracyWarning)\n",
      "/home/amitibo/anaconda2/lib/python2.7/site-packages/scipy/integrate/quadrature.py:199: AccuracyWarning: maxiter (1000) exceeded. Latest difference = 3.390809e-04\n",
      "  AccuracyWarning)\n",
      "/home/amitibo/anaconda2/lib/python2.7/site-packages/scipy/integrate/quadrature.py:199: AccuracyWarning: maxiter (1000) exceeded. Latest difference = 2.151163e-04\n",
      "  AccuracyWarning)\n",
      "/home/amitibo/anaconda2/lib/python2.7/site-packages/scipy/integrate/quadrature.py:199: AccuracyWarning: maxiter (1000) exceeded. Latest difference = 8.821043e-05\n",
      "  AccuracyWarning)\n",
      "/home/amitibo/anaconda2/lib/python2.7/site-packages/scipy/integrate/quadrature.py:199: AccuracyWarning: maxiter (1000) exceeded. Latest difference = 4.059884e-05\n",
      "  AccuracyWarning)\n",
      "/home/amitibo/anaconda2/lib/python2.7/site-packages/scipy/integrate/quadrature.py:199: AccuracyWarning: maxiter (1000) exceeded. Latest difference = 1.710957e-04\n",
      "  AccuracyWarning)\n",
      "/home/amitibo/anaconda2/lib/python2.7/site-packages/scipy/integrate/quadrature.py:199: AccuracyWarning: maxiter (1000) exceeded. Latest difference = 3.007912e-04\n",
      "  AccuracyWarning)\n",
      "/home/amitibo/anaconda2/lib/python2.7/site-packages/scipy/integrate/quadrature.py:199: AccuracyWarning: maxiter (1000) exceeded. Latest difference = 4.264775e-04\n",
      "  AccuracyWarning)\n",
      "/home/amitibo/anaconda2/lib/python2.7/site-packages/scipy/integrate/quadrature.py:199: AccuracyWarning: maxiter (1000) exceeded. Latest difference = 5.481544e-04\n",
      "  AccuracyWarning)\n",
      "/home/amitibo/anaconda2/lib/python2.7/site-packages/scipy/integrate/quadrature.py:199: AccuracyWarning: maxiter (1000) exceeded. Latest difference = 6.650721e-04\n",
      "  AccuracyWarning)\n",
      "/home/amitibo/anaconda2/lib/python2.7/site-packages/scipy/integrate/quadrature.py:199: AccuracyWarning: maxiter (1000) exceeded. Latest difference = 7.774166e-04\n",
      "  AccuracyWarning)\n",
      "/home/amitibo/anaconda2/lib/python2.7/site-packages/scipy/integrate/quadrature.py:199: AccuracyWarning: maxiter (1000) exceeded. Latest difference = 8.831458e-04\n",
      "  AccuracyWarning)\n",
      "/home/amitibo/anaconda2/lib/python2.7/site-packages/scipy/integrate/quadrature.py:199: AccuracyWarning: maxiter (1000) exceeded. Latest difference = 9.831313e-04\n",
      "  AccuracyWarning)\n",
      "/home/amitibo/anaconda2/lib/python2.7/site-packages/scipy/integrate/quadrature.py:199: AccuracyWarning: maxiter (1000) exceeded. Latest difference = 1.078248e-03\n",
      "  AccuracyWarning)\n",
      "/home/amitibo/anaconda2/lib/python2.7/site-packages/scipy/integrate/quadrature.py:199: AccuracyWarning: maxiter (1000) exceeded. Latest difference = 1.170227e-03\n",
      "  AccuracyWarning)\n",
      "/home/amitibo/anaconda2/lib/python2.7/site-packages/scipy/integrate/quadrature.py:199: AccuracyWarning: maxiter (1000) exceeded. Latest difference = 1.260566e-03\n",
      "  AccuracyWarning)\n",
      "/home/amitibo/anaconda2/lib/python2.7/site-packages/scipy/integrate/quadrature.py:199: AccuracyWarning: maxiter (1000) exceeded. Latest difference = 1.348172e-03\n",
      "  AccuracyWarning)\n",
      "/home/amitibo/anaconda2/lib/python2.7/site-packages/scipy/integrate/quadrature.py:199: AccuracyWarning: maxiter (1000) exceeded. Latest difference = 1.430735e-03\n",
      "  AccuracyWarning)\n",
      "/home/amitibo/anaconda2/lib/python2.7/site-packages/scipy/integrate/quadrature.py:199: AccuracyWarning: maxiter (1000) exceeded. Latest difference = 1.505736e-03\n",
      "  AccuracyWarning)\n"
     ]
    },
    {
     "name": "stderr",
     "output_type": "stream",
     "text": [
      "/home/amitibo/anaconda2/lib/python2.7/site-packages/scipy/integrate/quadrature.py:199: AccuracyWarning: maxiter (1000) exceeded. Latest difference = 1.569075e-03\n",
      "  AccuracyWarning)\n",
      "/home/amitibo/anaconda2/lib/python2.7/site-packages/scipy/integrate/quadrature.py:199: AccuracyWarning: maxiter (1000) exceeded. Latest difference = 1.620744e-03\n",
      "  AccuracyWarning)\n",
      "/home/amitibo/anaconda2/lib/python2.7/site-packages/scipy/integrate/quadrature.py:199: AccuracyWarning: maxiter (1000) exceeded. Latest difference = 1.657833e-03\n",
      "  AccuracyWarning)\n",
      "/home/amitibo/anaconda2/lib/python2.7/site-packages/scipy/integrate/quadrature.py:199: AccuracyWarning: maxiter (1000) exceeded. Latest difference = 1.682416e-03\n",
      "  AccuracyWarning)\n",
      "/home/amitibo/anaconda2/lib/python2.7/site-packages/scipy/integrate/quadrature.py:199: AccuracyWarning: maxiter (1000) exceeded. Latest difference = 1.692807e-03\n",
      "  AccuracyWarning)\n",
      "/home/amitibo/anaconda2/lib/python2.7/site-packages/scipy/integrate/quadrature.py:199: AccuracyWarning: maxiter (1000) exceeded. Latest difference = 1.692440e-03\n",
      "  AccuracyWarning)\n",
      "/home/amitibo/anaconda2/lib/python2.7/site-packages/scipy/integrate/quadrature.py:199: AccuracyWarning: maxiter (1000) exceeded. Latest difference = 1.680238e-03\n",
      "  AccuracyWarning)\n",
      "/home/amitibo/anaconda2/lib/python2.7/site-packages/scipy/integrate/quadrature.py:199: AccuracyWarning: maxiter (1000) exceeded. Latest difference = 1.656794e-03\n",
      "  AccuracyWarning)\n",
      "/home/amitibo/anaconda2/lib/python2.7/site-packages/scipy/integrate/quadrature.py:199: AccuracyWarning: maxiter (1000) exceeded. Latest difference = 1.619950e-03\n",
      "  AccuracyWarning)\n",
      "/home/amitibo/anaconda2/lib/python2.7/site-packages/scipy/integrate/quadrature.py:199: AccuracyWarning: maxiter (1000) exceeded. Latest difference = 1.572041e-03\n",
      "  AccuracyWarning)\n",
      "/home/amitibo/anaconda2/lib/python2.7/site-packages/scipy/integrate/quadrature.py:199: AccuracyWarning: maxiter (1000) exceeded. Latest difference = 1.512261e-03\n",
      "  AccuracyWarning)\n",
      "/home/amitibo/anaconda2/lib/python2.7/site-packages/scipy/integrate/quadrature.py:199: AccuracyWarning: maxiter (1000) exceeded. Latest difference = 1.443211e-03\n",
      "  AccuracyWarning)\n",
      "/home/amitibo/anaconda2/lib/python2.7/site-packages/scipy/integrate/quadrature.py:199: AccuracyWarning: maxiter (1000) exceeded. Latest difference = 1.361708e-03\n",
      "  AccuracyWarning)\n",
      "/home/amitibo/anaconda2/lib/python2.7/site-packages/scipy/integrate/quadrature.py:199: AccuracyWarning: maxiter (1000) exceeded. Latest difference = 1.268047e-03\n",
      "  AccuracyWarning)\n",
      "/home/amitibo/anaconda2/lib/python2.7/site-packages/scipy/integrate/quadrature.py:199: AccuracyWarning: maxiter (1000) exceeded. Latest difference = 1.158694e-03\n",
      "  AccuracyWarning)\n",
      "/home/amitibo/anaconda2/lib/python2.7/site-packages/scipy/integrate/quadrature.py:199: AccuracyWarning: maxiter (1000) exceeded. Latest difference = 1.040586e-03\n",
      "  AccuracyWarning)\n",
      "/home/amitibo/anaconda2/lib/python2.7/site-packages/scipy/integrate/quadrature.py:199: AccuracyWarning: maxiter (1000) exceeded. Latest difference = 9.217656e-04\n",
      "  AccuracyWarning)\n",
      "/home/amitibo/anaconda2/lib/python2.7/site-packages/scipy/integrate/quadrature.py:199: AccuracyWarning: maxiter (1000) exceeded. Latest difference = 8.101595e-04\n",
      "  AccuracyWarning)\n"
     ]
    },
    {
     "name": "stdout",
     "output_type": "stream",
     "text": [
      "\n"
     ]
    },
    {
     "name": "stderr",
     "output_type": "stream",
     "text": [
      "/home/amitibo/anaconda2/lib/python2.7/site-packages/scipy/integrate/quadrature.py:199: AccuracyWarning: maxiter (1000) exceeded. Latest difference = 7.106520e-04\n",
      "  AccuracyWarning)\n"
     ]
    }
   ],
   "source": [
    "coeffs_quad = []\n",
    "for l in tqdm_notebook(range(COFFES_NUM)):\n",
    "    lg = legendre(l)\n",
    "    #coeffs_quad.append(quad(func, -1, 1, args=(l, lg,), limit=1000)[0])\n",
    "    #coeffs_quad.append(fixed_quad(func, -1, 1, args=(l, lg,), n=50000)[0])\n",
    "    coeffs_quad.append(quadrature(func, -1, 1, args=(l, lg,), maxiter=1000)[0])"
   ]
  },
  {
   "cell_type": "code",
   "execution_count": 18,
   "metadata": {
    "scrolled": true
   },
   "outputs": [
    {
     "data": {
      "text/plain": [
       "[<matplotlib.lines.Line2D at 0x7f7c0c334390>]"
      ]
     },
     "execution_count": 18,
     "metadata": {},
     "output_type": "execute_result"
    },
    {
     "data": {
      "image/png": "[encoded data removed]",
      "text/plain": [
       "<matplotlib.figure.Figure at 0x7f7c0c49c490>"
      ]
     },
     "metadata": {},
     "output_type": "display_data"
    }
   ],
   "source": [
    "plt.plot(coeffs_quad)"
   ]
  },
  {
   "cell_type": "markdown",
   "metadata": {},
   "source": [
    "## Reconstruct the Phase function by the Legndre coefficients"
   ]
  },
  {
   "cell_type": "code",
   "execution_count": 19,
   "metadata": {
    "collapsed": true
   },
   "outputs": [],
   "source": [
    "mu_new = np.linspace(-1, 1, 3000)\n",
    "phase_gauss = 0\n",
    "for l, coeff in enumerate(coeffs_quad):\n",
    "    phase_gauss += legendre(l)(mu_new) * coeff\n",
    "coeffs_quad_ = coeffs_quad[:]\n",
    "coeffs_quad_[0] = 1.\n",
    "phase_gauss_ = 0\n",
    "for l, coeff in enumerate(coeffs_quad_):\n",
    "    phase_gauss_ += legendre(l)(mu_new) * coeff"
   ]
  },
  {
   "cell_type": "code",
   "execution_count": 20,
   "metadata": {
    "scrolled": false
   },
   "outputs": [
    {
     "data": {
      "text/plain": [
       "(0.9, 1)"
      ]
     },
     "execution_count": 20,
     "metadata": {},
     "output_type": "execute_result"
    },
    {
     "data": {
      "image/png": "[encoded data removed]",
      "text/plain": [
       "<matplotlib.figure.Figure at 0x7f7c0c3d2fd0>"
      ]
     },
     "metadata": {},
     "output_type": "display_data"
    }
   ],
   "source": [
    "plt.semilogy(mu, phase, \"o\", label=\"real\")\n",
    "plt.semilogy(mu_new, phase_gauss, \"x\", label=\"accurate\")\n",
    "plt.semilogy(mu_new, phase_gauss_, label=\"forced 1.\")\n",
    "plt.legend()\n",
    "plt.xlim(0.9, 1)"
   ]
  },
  {
   "cell_type": "markdown",
   "metadata": {},
   "source": [
    "### Save the result"
   ]
  },
  {
   "cell_type": "code",
   "execution_count": 21,
   "metadata": {
    "collapsed": true
   },
   "outputs": [],
   "source": [
    "header = \"\"\"! Mie scattering table vs. effective radius (LWC=1 g/m^3)\n",
    "  0.{}    0.{}    0.000  wavelength range and averaging step (micron)\n",
    "   2    1.450    1.450  number       starting       ending REAL refractive index\n",
    "   2    0.000    0.000  number       starting       ending IMAGINARY refractive index\n",
    "   2    0.100    0.100  number       starting       ending effective radius\n",
    "   2    0.500    0.500  number       starting       ending effective variance\n",
    " \"\"\".format(WAVELENGTH, WAVELENGTH)\n",
    "line_template = \" 1.450 -.000     1.000    %f   0.5000   0.1000     %d  Phase function: Re{m}  Im{m}   Ext  Alb  Veff  Reff  Nleg\\n\""
   ]
  },
  {
   "cell_type": "code",
   "execution_count": 22,
   "metadata": {
    "collapsed": true
   },
   "outputs": [],
   "source": [
    "with open(TIME.strftime(\"aerosol{}dredvedm__%Y%m%d_%H%M\".format(WAVELENGTH)), \"w\") as f:\n",
    "    f.write(header)\n",
    "    for i in range(700):\n",
    "        f.write(line_template % (df_ssa.loc[WAVELENGTH][TIME], len(coeffs_quad_)-1))\n",
    "        f.write(\"\\t\".join(['']+[str(c) for c in coeffs_quad_]))\n",
    "        f.write(\"\\n\")"
   ]
  }
 ],
 "metadata": {
  "anaconda-cloud": {},
  "kernelspec": {
   "display_name": "Python [default]",
   "language": "python",
   "name": "python2"
  },
  "language_info": {
   "codemirror_mode": {
    "name": "ipython",
    "version": 2
   },
   "file_extension": ".py",
   "mimetype": "text/x-python",
   "name": "python",
   "nbconvert_exporter": "python",
   "pygments_lexer": "ipython2",
   "version": "2.7.12"
  }
 },
 "nbformat": 4,
 "nbformat_minor": 2
}
