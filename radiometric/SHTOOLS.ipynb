{
 "cells": [
  {
   "cell_type": "code",
   "execution_count": 1,
   "metadata": {
    "collapsed": false
   },
   "outputs": [
    {
     "name": "stderr",
     "output_type": "stream",
     "text": [
      "WARNING:traits.has_traits:DEPRECATED: traits.has_traits.wrapped_class, 'the 'implements' class advisor has been deprecated. Use the 'provides' class decorator.\n"
     ]
    },
    {
     "name": "stdout",
     "output_type": "stream",
     "text": [
      "Loading SHTOOLS documentation\n"
     ]
    }
   ],
   "source": [
    "from __future__ import division\n",
    "%matplotlib inline\n",
    "import matplotlib.pyplot as plt\n",
    "import numpy as np\n",
    "import pyshtools as shtools\n",
    "from mayavi import mlab\n",
    "import cv2\n",
    "import time\n",
    "import fisheye\n",
    "from skycameras import FisheyeProxy, Normalization, Radiometric\n",
    "from CameraNetwork import RGBsplit\n",
    "import cPickle\n",
    "import os"
   ]
  },
  {
   "cell_type": "code",
   "execution_count": 4,
   "metadata": {
    "collapsed": false
   },
   "outputs": [],
   "source": [
    "COLORS = ('blue', 'green', 'red')\n",
    "COLOR_INDICES = {'blue': 2, 'green': 1, 'red': 0}\n",
    "\n",
    "\n",
    "#\n",
    "# Load the measurements\n",
    "#\n",
    "base_path1 = r'../scripts_calibrate/radiometric_calibration\\4102820374'\n",
    "base_path2 = r'../scripts_calibrate/radiometric_calibration\\4102820395'\n",
    "\n",
    "color = 'blue'\n",
    "color_index = COLOR_INDICES[color]\n",
    "\n",
    "with open(os.path.join(base_path1, 'measurements_{}.pkl'.format(color)), 'rb') as f:\n",
    "    measurements1 = cPickle.load(f)\n",
    "with open(os.path.join(base_path1, 'spec_{}.pkl'.format(color)), 'rb') as f:\n",
    "    spec1 = cPickle.load(f)\n",
    "with open(os.path.join(base_path2, 'measurements_{}.pkl'.format(color)), 'rb') as f:\n",
    "    measurements2 = cPickle.load(f)\n",
    "with open(os.path.join(base_path2, 'spec_{}.pkl'.format(color)), 'rb') as f:\n",
    "    spec2 = cPickle.load(f)\n",
    "\n",
    "x1, y1, z1 = [np.array(a) for a in zip(*measurements1)]\n",
    "x2, y2, z2 = [np.array(a) for a in zip(*measurements2)]\n",
    "\n",
    "img_rgb = np.zeros(shape=(600, 800, 3))\n",
    "for x, y, val in measurements1:\n",
    "    img_rgb[int(y/2), int(x/2), ...] = val\n",
    "\n",
    "img = img_rgb[..., 2]\n",
    "y, x = np.nonzero(img)\n",
    "z = img[np.nonzero(img)]    \n"
   ]
  },
  {
   "cell_type": "code",
   "execution_count": 6,
   "metadata": {
    "collapsed": false
   },
   "outputs": [],
   "source": [
    "#\n",
    "# Nearest neighbour interpolation. \n",
    "#\n",
    "X = np.hstack((x.reshape(-1, 1), y.reshape(-1, 1)))\n",
    "\n",
    "#\n",
    "# Calculate normalized mapping.\n",
    "#\n",
    "fe = fisheye.load_model(os.path.join(base_path1, 'fisheye.pkl'))\n",
    "normalization = Normalization(1001, FisheyeProxy(fe))\n",
    "\n",
    "#\n",
    "# Calculate projection of the distorted points on phi-theta coords.\n",
    "#\n",
    "phi, theta = fe.undistortDirections(X)"
   ]
  },
  {
   "cell_type": "code",
   "execution_count": 9,
   "metadata": {
    "collapsed": false
   },
   "outputs": [],
   "source": [
    "res = shtools.SHExpandLSQ(z, theta, phi, 10)"
   ]
  },
  {
   "cell_type": "code",
   "execution_count": 10,
   "metadata": {
    "collapsed": false
   },
   "outputs": [
    {
     "data": {
      "text/plain": [
       "2"
      ]
     },
     "execution_count": 10,
     "metadata": {},
     "output_type": "execute_result"
    }
   ],
   "source": [
    "len(res)"
   ]
  },
  {
   "cell_type": "code",
   "execution_count": 11,
   "metadata": {
    "collapsed": false
   },
   "outputs": [
    {
     "data": {
      "text/plain": [
       "2"
      ]
     },
     "execution_count": 11,
     "metadata": {},
     "output_type": "execute_result"
    }
   ],
   "source": [
    "len(res[0])"
   ]
  },
  {
   "cell_type": "code",
   "execution_count": 13,
   "metadata": {
    "collapsed": false
   },
   "outputs": [
    {
     "data": {
      "text/plain": [
       "(2L, 11L, 11L)"
      ]
     },
     "execution_count": 13,
     "metadata": {},
     "output_type": "execute_result"
    }
   ],
   "source": [
    "res[0].shape"
   ]
  },
  {
   "cell_type": "code",
   "execution_count": 14,
   "metadata": {
    "collapsed": false
   },
   "outputs": [
    {
     "data": {
      "text/plain": [
       "55236.651911840796"
      ]
     },
     "execution_count": 14,
     "metadata": {},
     "output_type": "execute_result"
    }
   ],
   "source": [
    "res[1]"
   ]
  },
  {
   "cell_type": "code",
   "execution_count": 16,
   "metadata": {
    "collapsed": false
   },
   "outputs": [],
   "source": [
    "ind = theta < np.pi/2\n",
    "phi1 = phi[ind]\n",
    "theta1 = theta[ind]"
   ]
  },
  {
   "cell_type": "code",
   "execution_count": 19,
   "metadata": {
    "collapsed": true
   },
   "outputs": [],
   "source": [
    "res1 = shtools.SHExpandLSQ(z[ind], theta[ind], phi[ind], 2)"
   ]
  },
  {
   "cell_type": "code",
   "execution_count": 20,
   "metadata": {
    "collapsed": false
   },
   "outputs": [
    {
     "data": {
      "text/plain": [
       "277745.0527375511"
      ]
     },
     "execution_count": 20,
     "metadata": {},
     "output_type": "execute_result"
    }
   ],
   "source": [
    "res1[1]"
   ]
  },
  {
   "cell_type": "code",
   "execution_count": 23,
   "metadata": {
    "collapsed": false
   },
   "outputs": [],
   "source": [
    "d = shtools.MakeGridDH(res[0])"
   ]
  },
  {
   "cell_type": "code",
   "execution_count": 24,
   "metadata": {
    "collapsed": false
   },
   "outputs": [
    {
     "data": {
      "text/plain": [
       "(22L, 22L)"
      ]
     },
     "execution_count": 24,
     "metadata": {},
     "output_type": "execute_result"
    }
   ],
   "source": [
    "d.shape"
   ]
  },
  {
   "cell_type": "code",
   "execution_count": 25,
   "metadata": {
    "collapsed": false
   },
   "outputs": [
    {
     "data": {
      "text/plain": [
       "<matplotlib.image.AxesImage at 0x2f52bb70>"
      ]
     },
     "execution_count": 25,
     "metadata": {},
     "output_type": "execute_result"
    },
    {
     "data": {
      "image/png": "[encoded data removed]",
      "text/plain": [
       "<matplotlib.figure.Figure at 0x21b2b160>"
      ]
     },
     "metadata": {},
     "output_type": "display_data"
    }
   ],
   "source": [
    "plt.imshow(d)"
   ]
  },
  {
   "cell_type": "code",
   "execution_count": 27,
   "metadata": {
    "collapsed": false
   },
   "outputs": [
    {
     "data": {
      "text/plain": [
       "(938L,)"
      ]
     },
     "execution_count": 27,
     "metadata": {},
     "output_type": "execute_result"
    }
   ],
   "source": [
    "z.shape"
   ]
  },
  {
   "cell_type": "code",
   "execution_count": null,
   "metadata": {
    "collapsed": true
   },
   "outputs": [],
   "source": [
    "shtools.MakeGridDH(res[0])"
   ]
  },
  {
   "cell_type": "code",
   "execution_count": 32,
   "metadata": {
    "collapsed": true
   },
   "outputs": [],
   "source": [
    "\n",
    "from mayavi import mlab\n",
    "import numpy as np\n",
    "from scipy.special import sph_harm\n",
    "\n",
    "# Create a sphere\n",
    "r = 0.3\n",
    "pi = np.pi\n",
    "cos = np.cos\n",
    "sin = np.sin\n",
    "phi, theta = np.mgrid[0:pi:101j, 0:2 * pi:101j]\n",
    "\n",
    "x = r * sin(phi) * cos(theta)\n",
    "y = r * sin(phi) * sin(theta)\n",
    "z = r * cos(phi)\n",
    "\n",
    "mlab.figure(1, bgcolor=(1, 1, 1), fgcolor=(0, 0, 0), size=(400, 300))\n",
    "mlab.clf()\n",
    "# Represent spherical harmonics on the surface of the sphere\n",
    "for n in range(0, 6):\n",
    "    for m in range(-n, n+1):\n",
    "        s = sph_harm(m, n, theta, phi).real\n",
    "\n",
    "        mlab.mesh(x - m, y - n, z, scalars=s, colormap='jet')\n",
    "\n",
    "        s[s < 0] *= 0.97\n",
    "\n",
    "        s /= s.max()\n",
    "        mlab.mesh(s * x - m, s * y - n, s * z + 1.3,\n",
    "                  scalars=s, colormap='Spectral')\n",
    "\n",
    "mlab.view(90, 70, 6.2, (-1.3, -2.9, 0.25))\n",
    "mlab.show()"
   ]
  },
  {
   "cell_type": "code",
   "execution_count": null,
   "metadata": {
    "collapsed": true
   },
   "outputs": [],
   "source": []
  }
 ],
 "metadata": {
  "kernelspec": {
   "display_name": "Python 2",
   "language": "python",
   "name": "python2"
  },
  "language_info": {
   "codemirror_mode": {
    "name": "ipython",
    "version": 2
   },
   "file_extension": ".py",
   "mimetype": "text/x-python",
   "name": "python",
   "nbconvert_exporter": "python",
   "pygments_lexer": "ipython2",
   "version": "2.7.11"
  }
 },
 "nbformat": 4,
 "nbformat_minor": 0
}
