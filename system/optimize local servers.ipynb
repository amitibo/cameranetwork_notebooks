{
 "cells": [
  {
   "cell_type": "code",
   "execution_count": 1,
   "metadata": {
    "collapsed": false
   },
   "outputs": [
    {
     "name": "stderr",
     "output_type": "stream",
     "text": [
      "i:\\amit\\office backup\\amit\\studies\\cameranetwork_git\\CameraNetwork\\transformation_matrices.py:1899: UserWarning: failed to import module _transformations\n",
      "  warnings.warn(\"failed to import module %s\" % name)\n",
      "i:\\amit\\office backup\\amit\\studies\\cameranetwork_git\\CameraNetwork\\arduino_utils.py:9: UserWarning: Failed loading pyfirmata. Possibly working locally.\n",
      "  warnings.warn(\"Failed loading pyfirmata. Possibly working locally.\")\n"
     ]
    }
   ],
   "source": [
    "from CameraNetwork.controller import Controller\n",
    "from CameraNetwork.utils import getImagesDF\n",
    "from dateutil import parser as dtparser\n",
    "from joblib import Parallel, delayed"
   ]
  },
  {
   "cell_type": "code",
   "execution_count": 2,
   "metadata": {
    "collapsed": false
   },
   "outputs": [
    {
     "name": "stderr",
     "output_type": "stream",
     "text": [
      "ERROR:root:Failed copying calibration data: radiometric.pkl\n",
      "Traceback (most recent call last):\n",
      "  File \"i:\\amit\\office backup\\amit\\studies\\cameranetwork_git\\CameraNetwork\\controller.py\", line 221, in loadCameraCalibration\n",
      "    dst_path)\n",
      "  File \"C:\\Anaconda2\\lib\\shutil.py\", line 82, in copyfile\n",
      "    with open(src, 'rb') as fsrc:\n",
      "IOError: [Errno 2] No such file or directory: 'i:\\\\amit\\\\office backup\\\\amit\\\\studies\\\\cameranetwork_git\\\\CameraNetwork\\\\..\\\\data\\\\calibration\\\\4102820394\\\\radiometric.pkl'\n",
      "\n",
      "C:\\Anaconda2\\lib\\site-packages\\sklearn\\base.py:315: UserWarning: Trying to unpickle estimator PolynomialFeatures from version pre-0.18 when using version 0.18.1. This might lead to breaking code or invalid results. Use at your own risk.\n",
      "  UserWarning)\n",
      "C:\\Anaconda2\\lib\\site-packages\\sklearn\\base.py:315: UserWarning: Trying to unpickle estimator LinearRegression from version pre-0.18 when using version 0.18.1. This might lead to breaking code or invalid results. Use at your own risk.\n",
      "  UserWarning)\n",
      "C:\\Anaconda2\\lib\\site-packages\\sklearn\\base.py:315: UserWarning: Trying to unpickle estimator RANSACRegressor from version pre-0.18 when using version 0.18.1. This might lead to breaking code or invalid results. Use at your own risk.\n",
      "  UserWarning)\n",
      "C:\\Anaconda2\\lib\\site-packages\\sklearn\\base.py:315: UserWarning: Trying to unpickle estimator Pipeline from version pre-0.18 when using version 0.18.1. This might lead to breaking code or invalid results. Use at your own risk.\n",
      "  UserWarning)\n"
     ]
    }
   ],
   "source": [
    "controller = Controller(offline=True, local_path=\"I:/amit/data/experiment_2017_02-03/cam_117/\")"
   ]
  },
  {
   "cell_type": "code",
   "execution_count": 6,
   "metadata": {
    "collapsed": false
   },
   "outputs": [],
   "source": [
    "def test_image(controller, seek_time):\n",
    "    query_date = dtparser.parse(seek_time).date()\n",
    "    query_df = getImagesDF(query_date, force=False)\n",
    "    \n",
    "    img_datas, img_array = controller.seekImageArray(\n",
    "        query_df,\n",
    "        seek_time,\n",
    "        hdr_index=-1,\n",
    "        normalize=True,\n",
    "        resolution=301,\n",
    "        jpeg=False,\n",
    "        camera_settings=None\n",
    "    )"
   ]
  },
  {
   "cell_type": "code",
   "execution_count": 7,
   "metadata": {
    "collapsed": true
   },
   "outputs": [],
   "source": [
    "seek_time = \"2017/04/16 09:10:00\""
   ]
  },
  {
   "cell_type": "code",
   "execution_count": 13,
   "metadata": {
    "collapsed": false
   },
   "outputs": [
    {
     "name": "stdout",
     "output_type": "stream",
     "text": [
      "Seeking: i:\\amit\\data\\experiment_2017_02-03\\cam_117\\captured_images\\2017_04_16\\1492333800.0_2017_04_16_09_10_00_0.mat\n",
      "Seeking: i:\\amit\\data\\experiment_2017_02-03\\cam_117\\captured_images\\2017_04_16\\1492333800.0_2017_04_16_09_10_00_1.mat\n",
      "Seeking: i:\\amit\\data\\experiment_2017_02-03\\cam_117\\captured_images\\2017_04_16\\1492333800.0_2017_04_16_09_10_00_2.mat\n",
      "Seeking: i:\\amit\\data\\experiment_2017_02-03\\cam_117\\captured_images\\2017_04_16\\1492333800.0_2017_04_16_09_10_00_3.mat\n",
      "Seeking: i:\\amit\\data\\experiment_2017_02-03\\cam_117\\captured_images\\2017_04_16\\1492333800.0_2017_04_16_09_10_00_0.mat\n",
      "Seeking: i:\\amit\\data\\experiment_2017_02-03\\cam_117\\captured_images\\2017_04_16\\1492333800.0_2017_04_16_09_10_00_1.mat\n",
      "Seeking: i:\\amit\\data\\experiment_2017_02-03\\cam_117\\captured_images\\2017_04_16\\1492333800.0_2017_04_16_09_10_00_2.mat\n",
      "Seeking: i:\\amit\\data\\experiment_2017_02-03\\cam_117\\captured_images\\2017_04_16\\1492333800.0_2017_04_16_09_10_00_3.mat\n",
      "Seeking: i:\\amit\\data\\experiment_2017_02-03\\cam_117\\captured_images\\2017_04_16\\1492333800.0_2017_04_16_09_10_00_0.mat\n",
      "Seeking: i:\\amit\\data\\experiment_2017_02-03\\cam_117\\captured_images\\2017_04_16\\1492333800.0_2017_04_16_09_10_00_1.mat\n",
      "Seeking: i:\\amit\\data\\experiment_2017_02-03\\cam_117\\captured_images\\2017_04_16\\1492333800.0_2017_04_16_09_10_00_2.mat\n",
      "Seeking: i:\\amit\\data\\experiment_2017_02-03\\cam_117\\captured_images\\2017_04_16\\1492333800.0_2017_04_16_09_10_00_3.mat\n",
      "Seeking: i:\\amit\\data\\experiment_2017_02-03\\cam_117\\captured_images\\2017_04_16\\1492333800.0_2017_04_16_09_10_00_0.mat\n",
      "Seeking: i:\\amit\\data\\experiment_2017_02-03\\cam_117\\captured_images\\2017_04_16\\1492333800.0_2017_04_16_09_10_00_1.mat\n",
      "Seeking: i:\\amit\\data\\experiment_2017_02-03\\cam_117\\captured_images\\2017_04_16\\1492333800.0_2017_04_16_09_10_00_2.mat\n",
      "Seeking: i:\\amit\\data\\experiment_2017_02-03\\cam_117\\captured_images\\2017_04_16\\1492333800.0_2017_04_16_09_10_00_3.mat\n",
      "Seeking: i:\\amit\\data\\experiment_2017_02-03\\cam_117\\captured_images\\2017_04_16\\1492333800.0_2017_04_16_09_10_00_0.mat\n",
      "Seeking: i:\\amit\\data\\experiment_2017_02-03\\cam_117\\captured_images\\2017_04_16\\1492333800.0_2017_04_16_09_10_00_1.mat\n",
      "Seeking: i:\\amit\\data\\experiment_2017_02-03\\cam_117\\captured_images\\2017_04_16\\1492333800.0_2017_04_16_09_10_00_2.mat\n",
      "Seeking: i:\\amit\\data\\experiment_2017_02-03\\cam_117\\captured_images\\2017_04_16\\1492333800.0_2017_04_16_09_10_00_3.mat\n",
      "Seeking: i:\\amit\\data\\experiment_2017_02-03\\cam_117\\captured_images\\2017_04_16\\1492333800.0_2017_04_16_09_10_00_0.mat\n",
      "Seeking: i:\\amit\\data\\experiment_2017_02-03\\cam_117\\captured_images\\2017_04_16\\1492333800.0_2017_04_16_09_10_00_1.mat\n",
      "Seeking: i:\\amit\\data\\experiment_2017_02-03\\cam_117\\captured_images\\2017_04_16\\1492333800.0_2017_04_16_09_10_00_2.mat\n",
      "Seeking: i:\\amit\\data\\experiment_2017_02-03\\cam_117\\captured_images\\2017_04_16\\1492333800.0_2017_04_16_09_10_00_3.mat\n",
      "Seeking: i:\\amit\\data\\experiment_2017_02-03\\cam_117\\captured_images\\2017_04_16\\1492333800.0_2017_04_16_09_10_00_0.mat\n",
      "Seeking: i:\\amit\\data\\experiment_2017_02-03\\cam_117\\captured_images\\2017_04_16\\1492333800.0_2017_04_16_09_10_00_1.mat\n",
      "Seeking: i:\\amit\\data\\experiment_2017_02-03\\cam_117\\captured_images\\2017_04_16\\1492333800.0_2017_04_16_09_10_00_2.mat\n",
      "Seeking: i:\\amit\\data\\experiment_2017_02-03\\cam_117\\captured_images\\2017_04_16\\1492333800.0_2017_04_16_09_10_00_3.mat\n",
      "Seeking: i:\\amit\\data\\experiment_2017_02-03\\cam_117\\captured_images\\2017_04_16\\1492333800.0_2017_04_16_09_10_00_0.mat\n",
      "Seeking: i:\\amit\\data\\experiment_2017_02-03\\cam_117\\captured_images\\2017_04_16\\1492333800.0_2017_04_16_09_10_00_1.mat\n",
      "Seeking: i:\\amit\\data\\experiment_2017_02-03\\cam_117\\captured_images\\2017_04_16\\1492333800.0_2017_04_16_09_10_00_2.mat\n",
      "Seeking: i:\\amit\\data\\experiment_2017_02-03\\cam_117\\captured_images\\2017_04_16\\1492333800.0_2017_04_16_09_10_00_3.mat\n",
      "Seeking: i:\\amit\\data\\experiment_2017_02-03\\cam_117\\captured_images\\2017_04_16\\1492333800.0_2017_04_16_09_10_00_0.mat\n",
      "Seeking: i:\\amit\\data\\experiment_2017_02-03\\cam_117\\captured_images\\2017_04_16\\1492333800.0_2017_04_16_09_10_00_1.mat\n",
      "Seeking: i:\\amit\\data\\experiment_2017_02-03\\cam_117\\captured_images\\2017_04_16\\1492333800.0_2017_04_16_09_10_00_2.mat\n",
      "Seeking: i:\\amit\\data\\experiment_2017_02-03\\cam_117\\captured_images\\2017_04_16\\1492333800.0_2017_04_16_09_10_00_3.mat\n",
      "Seeking: i:\\amit\\data\\experiment_2017_02-03\\cam_117\\captured_images\\2017_04_16\\1492333800.0_2017_04_16_09_10_00_0.mat\n",
      "Seeking: i:\\amit\\data\\experiment_2017_02-03\\cam_117\\captured_images\\2017_04_16\\1492333800.0_2017_04_16_09_10_00_1.mat\n",
      "Seeking: i:\\amit\\data\\experiment_2017_02-03\\cam_117\\captured_images\\2017_04_16\\1492333800.0_2017_04_16_09_10_00_2.mat\n",
      "Seeking: i:\\amit\\data\\experiment_2017_02-03\\cam_117\\captured_images\\2017_04_16\\1492333800.0_2017_04_16_09_10_00_3.mat\n",
      "Seeking: i:\\amit\\data\\experiment_2017_02-03\\cam_117\\captured_images\\2017_04_16\\1492333800.0_2017_04_16_09_10_00_0.mat\n",
      "Seeking: i:\\amit\\data\\experiment_2017_02-03\\cam_117\\captured_images\\2017_04_16\\1492333800.0_2017_04_16_09_10_00_1.mat\n",
      "Seeking: i:\\amit\\data\\experiment_2017_02-03\\cam_117\\captured_images\\2017_04_16\\1492333800.0_2017_04_16_09_10_00_2.mat\n",
      "Seeking: i:\\amit\\data\\experiment_2017_02-03\\cam_117\\captured_images\\2017_04_16\\1492333800.0_2017_04_16_09_10_00_3.mat\n",
      "Seeking: i:\\amit\\data\\experiment_2017_02-03\\cam_117\\captured_images\\2017_04_16\\1492333800.0_2017_04_16_09_10_00_0.mat\n",
      "Seeking: i:\\amit\\data\\experiment_2017_02-03\\cam_117\\captured_images\\2017_04_16\\1492333800.0_2017_04_16_09_10_00_1.mat\n",
      "Seeking: i:\\amit\\data\\experiment_2017_02-03\\cam_117\\captured_images\\2017_04_16\\1492333800.0_2017_04_16_09_10_00_2.mat\n",
      "Seeking: i:\\amit\\data\\experiment_2017_02-03\\cam_117\\captured_images\\2017_04_16\\1492333800.0_2017_04_16_09_10_00_3.mat\n",
      "Seeking: i:\\amit\\data\\experiment_2017_02-03\\cam_117\\captured_images\\2017_04_16\\1492333800.0_2017_04_16_09_10_00_0.mat\n",
      "Seeking: i:\\amit\\data\\experiment_2017_02-03\\cam_117\\captured_images\\2017_04_16\\1492333800.0_2017_04_16_09_10_00_1.mat\n",
      "Seeking: i:\\amit\\data\\experiment_2017_02-03\\cam_117\\captured_images\\2017_04_16\\1492333800.0_2017_04_16_09_10_00_2.mat\n",
      "Seeking: i:\\amit\\data\\experiment_2017_02-03\\cam_117\\captured_images\\2017_04_16\\1492333800.0_2017_04_16_09_10_00_3.mat\n",
      "Seeking: i:\\amit\\data\\experiment_2017_02-03\\cam_117\\captured_images\\2017_04_16\\1492333800.0_2017_04_16_09_10_00_0.mat\n",
      "Seeking: i:\\amit\\data\\experiment_2017_02-03\\cam_117\\captured_images\\2017_04_16\\1492333800.0_2017_04_16_09_10_00_1.mat\n",
      "Seeking: i:\\amit\\data\\experiment_2017_02-03\\cam_117\\captured_images\\2017_04_16\\1492333800.0_2017_04_16_09_10_00_2.mat\n",
      "Seeking: i:\\amit\\data\\experiment_2017_02-03\\cam_117\\captured_images\\2017_04_16\\1492333800.0_2017_04_16_09_10_00_3.mat\n",
      "Seeking: i:\\amit\\data\\experiment_2017_02-03\\cam_117\\captured_images\\2017_04_16\\1492333800.0_2017_04_16_09_10_00_0.mat\n",
      "Seeking: i:\\amit\\data\\experiment_2017_02-03\\cam_117\\captured_images\\2017_04_16\\1492333800.0_2017_04_16_09_10_00_1.mat\n",
      "Seeking: i:\\amit\\data\\experiment_2017_02-03\\cam_117\\captured_images\\2017_04_16\\1492333800.0_2017_04_16_09_10_00_2.mat\n",
      "Seeking: i:\\amit\\data\\experiment_2017_02-03\\cam_117\\captured_images\\2017_04_16\\1492333800.0_2017_04_16_09_10_00_3.mat\n",
      "Seeking: i:\\amit\\data\\experiment_2017_02-03\\cam_117\\captured_images\\2017_04_16\\1492333800.0_2017_04_16_09_10_00_0.mat\n",
      "Seeking: i:\\amit\\data\\experiment_2017_02-03\\cam_117\\captured_images\\2017_04_16\\1492333800.0_2017_04_16_09_10_00_1.mat\n",
      "Seeking: i:\\amit\\data\\experiment_2017_02-03\\cam_117\\captured_images\\2017_04_16\\1492333800.0_2017_04_16_09_10_00_2.mat\n",
      "Seeking: i:\\amit\\data\\experiment_2017_02-03\\cam_117\\captured_images\\2017_04_16\\1492333800.0_2017_04_16_09_10_00_3.mat\n",
      "Seeking: i:\\amit\\data\\experiment_2017_02-03\\cam_117\\captured_images\\2017_04_16\\1492333800.0_2017_04_16_09_10_00_0.mat\n",
      "Seeking: i:\\amit\\data\\experiment_2017_02-03\\cam_117\\captured_images\\2017_04_16\\1492333800.0_2017_04_16_09_10_00_1.mat\n",
      "Seeking: i:\\amit\\data\\experiment_2017_02-03\\cam_117\\captured_images\\2017_04_16\\1492333800.0_2017_04_16_09_10_00_2.mat\n",
      "Seeking: i:\\amit\\data\\experiment_2017_02-03\\cam_117\\captured_images\\2017_04_16\\1492333800.0_2017_04_16_09_10_00_3.mat\n",
      "Seeking: i:\\amit\\data\\experiment_2017_02-03\\cam_117\\captured_images\\2017_04_16\\1492333800.0_2017_04_16_09_10_00_0.mat\n",
      "Seeking: i:\\amit\\data\\experiment_2017_02-03\\cam_117\\captured_images\\2017_04_16\\1492333800.0_2017_04_16_09_10_00_1.mat\n",
      "Seeking: i:\\amit\\data\\experiment_2017_02-03\\cam_117\\captured_images\\2017_04_16\\1492333800.0_2017_04_16_09_10_00_2.mat\n",
      "Seeking: i:\\amit\\data\\experiment_2017_02-03\\cam_117\\captured_images\\2017_04_16\\1492333800.0_2017_04_16_09_10_00_3.mat\n",
      "Seeking: i:\\amit\\data\\experiment_2017_02-03\\cam_117\\captured_images\\2017_04_16\\1492333800.0_2017_04_16_09_10_00_0.mat\n",
      "Seeking: i:\\amit\\data\\experiment_2017_02-03\\cam_117\\captured_images\\2017_04_16\\1492333800.0_2017_04_16_09_10_00_1.mat\n",
      "Seeking: i:\\amit\\data\\experiment_2017_02-03\\cam_117\\captured_images\\2017_04_16\\1492333800.0_2017_04_16_09_10_00_2.mat\n",
      "Seeking: i:\\amit\\data\\experiment_2017_02-03\\cam_117\\captured_images\\2017_04_16\\1492333800.0_2017_04_16_09_10_00_3.mat\n",
      "Seeking: i:\\amit\\data\\experiment_2017_02-03\\cam_117\\captured_images\\2017_04_16\\1492333800.0_2017_04_16_09_10_00_0.mat\n",
      "Seeking: i:\\amit\\data\\experiment_2017_02-03\\cam_117\\captured_images\\2017_04_16\\1492333800.0_2017_04_16_09_10_00_1.mat\n",
      "Seeking: i:\\amit\\data\\experiment_2017_02-03\\cam_117\\captured_images\\2017_04_16\\1492333800.0_2017_04_16_09_10_00_2.mat\n",
      "Seeking: i:\\amit\\data\\experiment_2017_02-03\\cam_117\\captured_images\\2017_04_16\\1492333800.0_2017_04_16_09_10_00_3.mat\n",
      "Seeking: i:\\amit\\data\\experiment_2017_02-03\\cam_117\\captured_images\\2017_04_16\\1492333800.0_2017_04_16_09_10_00_0.mat\n",
      "Seeking: i:\\amit\\data\\experiment_2017_02-03\\cam_117\\captured_images\\2017_04_16\\1492333800.0_2017_04_16_09_10_00_1.mat\n",
      "Seeking: i:\\amit\\data\\experiment_2017_02-03\\cam_117\\captured_images\\2017_04_16\\1492333800.0_2017_04_16_09_10_00_2.mat\n",
      "Seeking: i:\\amit\\data\\experiment_2017_02-03\\cam_117\\captured_images\\2017_04_16\\1492333800.0_2017_04_16_09_10_00_3.mat\n",
      "Seeking: i:\\amit\\data\\experiment_2017_02-03\\cam_117\\captured_images\\2017_04_16\\1492333800.0_2017_04_16_09_10_00_0.mat\n",
      "Seeking: i:\\amit\\data\\experiment_2017_02-03\\cam_117\\captured_images\\2017_04_16\\1492333800.0_2017_04_16_09_10_00_1.mat\n",
      "Seeking: i:\\amit\\data\\experiment_2017_02-03\\cam_117\\captured_images\\2017_04_16\\1492333800.0_2017_04_16_09_10_00_2.mat\n",
      "Seeking: i:\\amit\\data\\experiment_2017_02-03\\cam_117\\captured_images\\2017_04_16\\1492333800.0_2017_04_16_09_10_00_3.mat\n",
      "Seeking: i:\\amit\\data\\experiment_2017_02-03\\cam_117\\captured_images\\2017_04_16\\1492333800.0_2017_04_16_09_10_00_0.mat\n",
      "Seeking: i:\\amit\\data\\experiment_2017_02-03\\cam_117\\captured_images\\2017_04_16\\1492333800.0_2017_04_16_09_10_00_1.mat\n",
      "Seeking: i:\\amit\\data\\experiment_2017_02-03\\cam_117\\captured_images\\2017_04_16\\1492333800.0_2017_04_16_09_10_00_2.mat\n",
      "Seeking: i:\\amit\\data\\experiment_2017_02-03\\cam_117\\captured_images\\2017_04_16\\1492333800.0_2017_04_16_09_10_00_3.mat\n",
      "Seeking: i:\\amit\\data\\experiment_2017_02-03\\cam_117\\captured_images\\2017_04_16\\1492333800.0_2017_04_16_09_10_00_0.mat\n",
      "Seeking: i:\\amit\\data\\experiment_2017_02-03\\cam_117\\captured_images\\2017_04_16\\1492333800.0_2017_04_16_09_10_00_1.mat\n",
      "Seeking: i:\\amit\\data\\experiment_2017_02-03\\cam_117\\captured_images\\2017_04_16\\1492333800.0_2017_04_16_09_10_00_2.mat\n",
      "Seeking: i:\\amit\\data\\experiment_2017_02-03\\cam_117\\captured_images\\2017_04_16\\1492333800.0_2017_04_16_09_10_00_3.mat\n",
      "Seeking: i:\\amit\\data\\experiment_2017_02-03\\cam_117\\captured_images\\2017_04_16\\1492333800.0_2017_04_16_09_10_00_0.mat\n",
      "Seeking: i:\\amit\\data\\experiment_2017_02-03\\cam_117\\captured_images\\2017_04_16\\1492333800.0_2017_04_16_09_10_00_1.mat\n",
      "Seeking: i:\\amit\\data\\experiment_2017_02-03\\cam_117\\captured_images\\2017_04_16\\1492333800.0_2017_04_16_09_10_00_2.mat\n",
      "Seeking: i:\\amit\\data\\experiment_2017_02-03\\cam_117\\captured_images\\2017_04_16\\1492333800.0_2017_04_16_09_10_00_3.mat\n",
      "5 loops, best of 5: 887 ms per loop\n"
     ]
    }
   ],
   "source": [
    "%timeit -n5 -r5 test_image(controller=controller, seek_time=seek_time)"
   ]
  },
  {
   "cell_type": "code",
   "execution_count": null,
   "metadata": {
    "collapsed": false
   },
   "outputs": [],
   "source": [
    "with Parallel(n_jobs=2) as parallel:\n",
    "    parallel(delayed(test_image)(controller, seek_time) for _ in range(8))"
   ]
  },
  {
   "cell_type": "code",
   "execution_count": null,
   "metadata": {
    "collapsed": true
   },
   "outputs": [],
   "source": []
  }
 ],
 "metadata": {
  "anaconda-cloud": {},
  "kernelspec": {
   "display_name": "Python [default]",
   "language": "python",
   "name": "python2"
  },
  "language_info": {
   "codemirror_mode": {
    "name": "ipython",
    "version": 2
   },
   "file_extension": ".py",
   "mimetype": "text/x-python",
   "name": "python",
   "nbconvert_exporter": "python",
   "pygments_lexer": "ipython2",
   "version": "2.7.12"
  }
 },
 "nbformat": 4,
 "nbformat_minor": 1
}
