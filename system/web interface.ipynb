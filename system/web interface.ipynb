{
 "cells": [
  {
   "cell_type": "code",
   "execution_count": null,
   "metadata": {
    "collapsed": false
   },
   "outputs": [],
   "source": [
    "%matplotlib notebook\n",
    "from datetime import datetime\n",
    "import matplotlib.pyplot as plt\n",
    "import numpy as np\n",
    "import pandas as pd\n",
    "\n",
    "import CameraNetwork\n",
    "from CameraNetwork import CLIclient\n",
    "\n",
    "import ipywidgets as widgets"
   ]
  },
  {
   "cell_type": "code",
   "execution_count": null,
   "metadata": {
    "collapsed": false
   },
   "outputs": [],
   "source": [
    "proxy_params = CameraNetwork.retrieve_proxy_parameters()\n",
    "client = CLIclient()\n",
    "client.start(proxy_params)"
   ]
  },
  {
   "cell_type": "code",
   "execution_count": null,
   "metadata": {
    "collapsed": false
   },
   "outputs": [],
   "source": [
    "dt = datetime(2016, 10, 8)"
   ]
  },
  {
   "cell_type": "code",
   "execution_count": null,
   "metadata": {
    "collapsed": false,
    "scrolled": true
   },
   "outputs": [],
   "source": [
    "images_df = client.query(server_id=\"101\", query_day=datetime(2016, 10, 9).date())"
   ]
  },
  {
   "cell_type": "code",
   "execution_count": null,
   "metadata": {
    "collapsed": false
   },
   "outputs": [],
   "source": [
    "idx = pd.IndexSlice\n",
    "images_df.loc[idx[:,['2']], idx[:]]"
   ]
  },
  {
   "cell_type": "code",
   "execution_count": null,
   "metadata": {
    "collapsed": false
   },
   "outputs": [],
   "source": [
    "img_arrays, img_datas = [], []\n",
    "for hdr_i in range(3):\n",
    "    img_array, img_data = client.seek(\n",
    "        server_id=\"106\",\n",
    "        seek_time=datetime(2016, 10, 9, 10, 54, 0),\n",
    "        hdr_index=str(hdr_i),\n",
    "        resolution=301)\n",
    "    img_arrays.append(img_array)\n",
    "    img_datas.append(img_data)\n"
   ]
  },
  {
   "cell_type": "code",
   "execution_count": null,
   "metadata": {
    "collapsed": false
   },
   "outputs": [],
   "source": [
    "def hdr(img_arrays, img_datas, trim_val=245):\n",
    "    trimmed_arrays = []\n",
    "    for a, d in zip(img_arrays, img_datas):\n",
    "        t = a.copy().astype(np.float)\n",
    "        t[t>=trim_val] = np.nan\n",
    "        trimmed_arrays.append(t*10000/d.exposure_us)\n",
    "    for t in trimmed_arrays:\n",
    "        print np.sum(np.isnan(t))\n",
    "    trimmed_array = np.stack(trimmed_arrays, axis=-1)\n",
    "    hdr_array = np.nanmean(trimmed_array, axis=-1)\n",
    "    return hdr_array"
   ]
  },
  {
   "cell_type": "code",
   "execution_count": null,
   "metadata": {
    "collapsed": false,
    "scrolled": false
   },
   "outputs": [],
   "source": [
    "hdr_array = hdr(img_arrays, img_datas)\n",
    "print hdr_array.max()\n",
    "plt.figure()\n",
    "plt.imshow((hdr_array/hdr_array.max())[100:200, :100]*4)"
   ]
  },
  {
   "cell_type": "code",
   "execution_count": null,
   "metadata": {
    "collapsed": false
   },
   "outputs": [],
   "source": [
    "print img_arrays[1].max()"
   ]
  },
  {
   "cell_type": "code",
   "execution_count": null,
   "metadata": {
    "collapsed": false
   },
   "outputs": [],
   "source": [
    "plt.figure()\n",
    "plt.imshow(img_arrays[3])"
   ]
  },
  {
   "cell_type": "code",
   "execution_count": null,
   "metadata": {
    "collapsed": false
   },
   "outputs": [],
   "source": [
    "plt.i\n",
    "hdr_array.max()"
   ]
  },
  {
   "cell_type": "code",
   "execution_count": null,
   "metadata": {
    "collapsed": false
   },
   "outputs": [],
   "source": [
    "img_datas[1].exposure_us"
   ]
  },
  {
   "cell_type": "code",
   "execution_count": null,
   "metadata": {
    "collapsed": false
   },
   "outputs": [],
   "source": [
    "img_array.shape"
   ]
  },
  {
   "cell_type": "code",
   "execution_count": null,
   "metadata": {
    "collapsed": false
   },
   "outputs": [],
   "source": [
    "client.client_instance.servers"
   ]
  },
  {
   "cell_type": "code",
   "execution_count": null,
   "metadata": {
    "collapsed": false
   },
   "outputs": [],
   "source": [
    "for server in ['101']:\n",
    "    img_array, img_data = client.get_array(server_id=server, exposure_us=8000000, gain_boost=True, resolution=301, normalize=True)\n",
    "    plt.figure()\n",
    "    plt.imshow(img_array)"
   ]
  },
  {
   "cell_type": "code",
   "execution_count": null,
   "metadata": {
    "collapsed": false
   },
   "outputs": [],
   "source": [
    "img_array"
   ]
  },
  {
   "cell_type": "code",
   "execution_count": null,
   "metadata": {
    "collapsed": false
   },
   "outputs": [],
   "source": [
    "dd = widgets.Dropdown(options=client.client_instance.servers)\n",
    "resolution = widgets.IntText(description='Resolution')\n",
    "exposure = widgets.IntText(description='Exposure')\n",
    "gain_boost = widgets.Checkbox(description='Boost')\n",
    "btn = widgets.Button(description='Get')\n",
    "\n",
    "def on_button_clicked(b):\n",
    "    img_array, exposure_us, gain_db = client.get_array(\n",
    "        server_id=dd.value, exposure_us=exposure.value,\n",
    "        gain_boost=gain_boost.value, resolution=resolution.value, normalize=True)\n",
    "    plt.imshow(img_array)\n",
    "\n",
    "btn.on_click(on_button_clicked)\n",
    "\n",
    "widgets.VBox([dd, resolution, exposure, gain_boost, btn])"
   ]
  },
  {
   "cell_type": "code",
   "execution_count": null,
   "metadata": {
    "collapsed": false
   },
   "outputs": [],
   "source": [
    "dd2 = widgets.Dropdown(options=client.client_instance.servers)\n",
    "angle = widgets.IntText(description='Angle')\n",
    "btn2 = widgets.Button(description='Set')\n",
    "\n",
    "def on_button_clicked2(b):\n",
    "    client.sunshader(\n",
    "        server_id=dd2.value, angle=angle.value)\n",
    "    \n",
    "btn2.on_click(on_button_clicked2)\n",
    "\n",
    "widgets.VBox([dd2, angle, btn2])"
   ]
  },
  {
   "cell_type": "code",
   "execution_count": null,
   "metadata": {
    "collapsed": false
   },
   "outputs": [],
   "source": [
    "]\n",
    "][[[]dir(client.client_instance)"
   ]
  },
  {
   "cell_type": "code",
   "execution_count": null,
   "metadata": {
    "collapsed": false,
    "scrolled": true
   },
   "outputs": [],
   "source": [
    "client.client_instance.servers"
   ]
  },
  {
   "cell_type": "code",
   "execution_count": null,
   "metadata": {
    "collapsed": false
   },
   "outputs": [],
   "source": [
    "import cv2\n",
    "cv2.__version__"
   ]
  },
  {
   "cell_type": "code",
   "execution_count": null,
   "metadata": {
    "collapsed": true
   },
   "outputs": [],
   "source": [
    "cv2.createM"
   ]
  }
 ],
 "metadata": {
  "anaconda-cloud": {},
  "kernelspec": {
   "display_name": "Python [conda root]",
   "language": "python",
   "name": "conda-root-py"
  },
  "language_info": {
   "codemirror_mode": {
    "name": "ipython",
    "version": 2
   },
   "file_extension": ".py",
   "mimetype": "text/x-python",
   "name": "python",
   "nbconvert_exporter": "python",
   "pygments_lexer": "ipython2",
   "version": "2.7.12"
  }
 },
 "nbformat": 4,
 "nbformat_minor": 0
}
