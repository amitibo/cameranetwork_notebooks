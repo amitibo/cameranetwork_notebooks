{
 "cells": [
  {
   "cell_type": "markdown",
   "metadata": {},
   "source": [
    "## Prototyping AWS Cloud Computing\n",
    "-----\n",
    "\n",
    "##### Description\n",
    "This notebook is used for protoyping capabilities of AWS EC2 (cloud computing). Note that mitsuba expects to be complied by the same compiler. Therefor it is note possible to preform computation on ubunto servers with osx compiled mitsuba as the osx uses clang compiler (theres a bug with gcc).\n",
    " - Boto3: used to launch instances (duplicated from the same image).\n",
    " - Paramiko: used for SSH commands (i.e. mtsserv for mitsuba)."
   ]
  },
  {
   "cell_type": "code",
   "execution_count": 1,
   "metadata": {
    "collapsed": false
   },
   "outputs": [],
   "source": [
    "import boto3"
   ]
  },
  {
   "cell_type": "code",
   "execution_count": 4,
   "metadata": {
    "collapsed": false
   },
   "outputs": [],
   "source": [
    "ec2 = boto3.resource('ec2', region_name=\"eu-central-1\")\n",
    "instances = ec2.create_instances(\n",
    "    ImageId='ami-2ffe2440',\n",
    "    MinCount=1, \n",
    "    MaxCount=1,\n",
    "    KeyName='amit',\n",
    "    InstanceType='t2.micro',\n",
    "    SecurityGroups=['All'],\n",
    ")"
   ]
  },
  {
   "cell_type": "code",
   "execution_count": 5,
   "metadata": {
    "collapsed": false
   },
   "outputs": [
    {
     "name": "stdout",
     "output_type": "stream",
     "text": [
      "Type: t2.micro\n",
      "State: running\n",
      "Private IP: 172.31.29.133\n",
      "Public IP: 35.157.119.58\n",
      "Launch Time: 2017-06-08 11:54:25+00:00\n",
      "Security Groups: All\n",
      "------------------------------\n"
     ]
    }
   ],
   "source": [
    "from collections import defaultdict\n",
    "\n",
    "runningInstances = ec2.instances.filter(Filters=[{'Name': 'instance-state-name', 'Values': ['running']}])\n",
    "\n",
    "ec2info = defaultdict()\n",
    "for instance in runningInstances:       \n",
    "    ec2info[instance.id] = {\n",
    "        'Type': instance.instance_type,\n",
    "        'State': instance.state['Name'],\n",
    "        'Private IP': instance.private_ip_address,\n",
    "        'Public IP': instance.public_ip_address,\n",
    "        'Launch Time': instance.launch_time,\n",
    "        'Security Groups' : instance.security_groups[0]['GroupName']\n",
    "        }\n",
    "\n",
    "attributes = ['Type', 'State', 'Private IP', 'Public IP', 'Launch Time', 'Security Groups']\n",
    "for instance_id, instance in ec2info.items():\n",
    "    for key in attributes:\n",
    "        print(\"{0}: {1}\".format(key, instance[key]))\n",
    "    print(\"------------------------------\")"
   ]
  },
  {
   "cell_type": "code",
   "execution_count": 9,
   "metadata": {
    "collapsed": false
   },
   "outputs": [
    {
     "data": {
      "text/plain": [
       "list"
      ]
     },
     "execution_count": 9,
     "metadata": {},
     "output_type": "execute_result"
    }
   ],
   "source": [
    "type(instances)"
   ]
  },
  {
   "cell_type": "code",
   "execution_count": 11,
   "metadata": {
    "collapsed": false
   },
   "outputs": [
    {
     "data": {
      "text/plain": [
       "{'ResponseMetadata': {'HTTPHeaders': {'content-type': 'text/xml;charset=UTF-8',\n",
       "   'date': 'Thu, 08 Jun 2017 12:02:12 GMT',\n",
       "   'server': 'AmazonEC2',\n",
       "   'transfer-encoding': 'chunked',\n",
       "   'vary': 'Accept-Encoding'},\n",
       "  'HTTPStatusCode': 200,\n",
       "  'RequestId': '12b163c3-2774-4cd6-ac64-f3fc93abc9e3',\n",
       "  'RetryAttempts': 0},\n",
       " u'TerminatingInstances': [{u'CurrentState': {u'Code': 32,\n",
       "    u'Name': 'shutting-down'},\n",
       "   u'InstanceId': 'i-0d6e281b92ee62da3',\n",
       "   u'PreviousState': {u'Code': 16, u'Name': 'running'}}]}"
      ]
     },
     "execution_count": 11,
     "metadata": {},
     "output_type": "execute_result"
    }
   ],
   "source": [
    "instances[0].terminate()"
   ]
  },
  {
   "cell_type": "code",
   "execution_count": null,
   "metadata": {
    "collapsed": true
   },
   "outputs": [],
   "source": []
  },
  {
   "cell_type": "code",
   "execution_count": null,
   "metadata": {
    "collapsed": true
   },
   "outputs": [],
   "source": [
    "running = ec2.instances.filter(\n",
    "    Filters=[{'Name': 'instance-state-name', 'Values': ['running']}])\n",
    "running.terminate()"
   ]
  }
 ],
 "metadata": {
  "kernelspec": {
   "display_name": "Python [conda root]",
   "language": "python",
   "name": "conda-root-py"
  },
  "language_info": {
   "codemirror_mode": {
    "name": "ipython",
    "version": 2
   },
   "file_extension": ".py",
   "mimetype": "text/x-python",
   "name": "python",
   "nbconvert_exporter": "python",
   "pygments_lexer": "ipython2",
   "version": "2.7.12"
  }
 },
 "nbformat": 4,
 "nbformat_minor": 2
}
