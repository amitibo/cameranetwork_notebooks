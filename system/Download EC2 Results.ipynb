{
 "cells": [
  {
   "cell_type": "markdown",
   "metadata": {},
   "source": [
    "# Download Reconstruction Results "
   ]
  },
  {
   "cell_type": "markdown",
   "metadata": {},
   "source": [
    "Recursively download all results from EC2 instances."
   ]
  },
  {
   "cell_type": "code",
   "execution_count": 1,
   "metadata": {
    "collapsed": false
   },
   "outputs": [],
   "source": [
    "import os\n",
    "import paramiko\n",
    "from stat import S_ISDIR\n",
    "from tqdm import tqdm_notebook"
   ]
  },
  {
   "cell_type": "code",
   "execution_count": 3,
   "metadata": {
    "collapsed": true
   },
   "outputs": [],
   "source": [
    "BASE_REMOTE_PATH = \"/home/ubuntu/code/pyshdom/scripts/results/camera_array_retrieval.py\"\n",
    "BASE_LOCAL_PATH =  \"./results\"\n",
    "HOSTS = (\"35.158.158.179\", \"35.158.233.59\", \"52.59.55.162\")\n",
    "DOWNLOAD_FILES = ('beta.pkl', 'params.txt')\n",
    "KEY_PATH = r\"C:\\Users\\amitaid\\Downloads\\aviad_ec2.pem\"\n",
    "KEY_PATH = r\"C:\\Users\\amitibo\\Dropbox\\aviad_ec2.pem\""
   ]
  },
  {
   "cell_type": "code",
   "execution_count": 4,
   "metadata": {
    "collapsed": true
   },
   "outputs": [],
   "source": [
    "def sftp_walk(remotepath):\n",
    "    # Kindof a stripped down  version of os.walk, implemented for \n",
    "    # sftp.  Tried running it flat without the yields, but it really\n",
    "    # chokes on big directories.\n",
    "    path=remotepath\n",
    "    files=[]\n",
    "    folders=[]\n",
    "    for f in ftp.listdir_attr(remotepath):\n",
    "        if S_ISDIR(f.st_mode):\n",
    "            folders.append(f.filename)\n",
    "        else:\n",
    "            files.append(f.filename)\n",
    "\n",
    "    yield path, folders, files\n",
    "    \n",
    "    for folder in folders:\n",
    "        new_path = '/'.join((remotepath, folder))\n",
    "        for x in sftp_walk(new_path):\n",
    "            yield x"
   ]
  },
  {
   "cell_type": "code",
   "execution_count": 5,
   "metadata": {
    "collapsed": false
   },
   "outputs": [
    {
     "name": "stdout",
     "output_type": "stream",
     "text": [
      "\n"
     ]
    }
   ],
   "source": [
    "k = paramiko.RSAKey.from_private_key_file(KEY_PATH)\n",
    "c = paramiko.SSHClient()\n",
    "c.set_missing_host_key_policy(paramiko.AutoAddPolicy())\n",
    "for host in tqdm_notebook(HOSTS):\n",
    "    c.connect(hostname=host, username=\"ubuntu\", pkey=k)\n",
    "    ftp = c.open_sftp()\n",
    "    for base_path, folder, files in tqdm_notebook(sftp_walk(BASE_REMOTE_PATH), leave=False):\n",
    "        if 'beta.pkl' in files:\n",
    "            for fname in DOWNLOAD_FILES:\n",
    "                try:\n",
    "                    src_path = '/'.join((base_path, fname))\n",
    "                    dst_folder = os.path.join(BASE_LOCAL_PATH, base_path[len(BASE_REMOTE_PATH)+1:])\n",
    "\n",
    "                    if not os.path.exists(dst_folder):\n",
    "                        os.makedirs(dst_folder)\n",
    "\n",
    "                    ftp.get(src_path, os.path.join(dst_folder, fname))\n",
    "                except:\n",
    "                    print(\"Failed copying {}\".format(fname))\n",
    "                    raise"
   ]
  },
  {
   "cell_type": "code",
   "execution_count": null,
   "metadata": {
    "collapsed": true
   },
   "outputs": [],
   "source": []
  }
 ],
 "metadata": {
  "anaconda-cloud": {},
  "kernelspec": {
   "display_name": "Python [default]",
   "language": "python",
   "name": "python2"
  },
  "language_info": {
   "codemirror_mode": {
    "name": "ipython",
    "version": 2
   },
   "file_extension": ".py",
   "mimetype": "text/x-python",
   "name": "python",
   "nbconvert_exporter": "python",
   "pygments_lexer": "ipython2",
   "version": "2.7.12"
  },
  "widgets": {
   "state": {
    "61ac3cc02d324f15945e05f194fa9121": {
     "views": [
      {
       "cell_index": 5
      }
     ]
    },
    "74b5b5797dca412f930abace6caca461": {
     "views": [
      {
       "cell_index": 5
      }
     ]
    },
    "85f3391a28844100ae483f44a4152f97": {
     "views": [
      {
       "cell_index": 5
      }
     ]
    },
    "db2d8dcaa36643a5bed09406097dae23": {
     "views": [
      {
       "cell_index": 5
      }
     ]
    }
   },
   "version": "1.2.0"
  }
 },
 "nbformat": 4,
 "nbformat_minor": 2
}
