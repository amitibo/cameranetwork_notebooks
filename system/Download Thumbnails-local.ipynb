{
 "cells": [
  {
   "cell_type": "code",
   "execution_count": 31,
   "metadata": {
    "collapsed": false
   },
   "outputs": [],
   "source": [
    "from __future__ import division\n",
    "%matplotlib inline\n",
    "import CameraNetwork\n",
    "import CameraNetwork.global_settings as gs\n",
    "from CameraNetwork.utils import extractThumbnails\n",
    "import cPickle\n",
    "import cv2\n",
    "import datetime\n",
    "import Image\n",
    "import ImageDraw\n",
    "from joblib import Parallel, delayed\n",
    "import matplotlib.pyplot as plt\n",
    "import numpy as np\n",
    "import os\n",
    "import pandas as pd\n",
    "import skimage.io as io\n",
    "import time\n",
    "import tqdm\n",
    "from tqdm import tqdm_notebook\n",
    "import traceback\n",
    "plt.rcParams['figure.figsize'] = (8.0, 8.0)"
   ]
  },
  {
   "cell_type": "code",
   "execution_count": 2,
   "metadata": {
    "collapsed": false
   },
   "outputs": [
    {
     "name": "stderr",
     "output_type": "stream",
     "text": [
      "ERROR:root:Failed retrieving proxy parameters:\n",
      "Traceback (most recent call last):\n",
      "  File \"i:\\amit\\office backup\\amit\\studies\\cameranetwork_git\\CameraNetwork\\internet.py\", line 56, in retrieve_proxy_parameters\n",
      "    response = urllib2.urlopen(req)\n",
      "  File \"C:\\Anaconda2\\lib\\urllib2.py\", line 154, in urlopen\n",
      "    return opener.open(url, data, timeout)\n",
      "  File \"C:\\Anaconda2\\lib\\urllib2.py\", line 435, in open\n",
      "    response = meth(req, response)\n",
      "  File \"C:\\Anaconda2\\lib\\urllib2.py\", line 548, in http_response\n",
      "    'http', request, response, code, msg, hdrs)\n",
      "  File \"C:\\Anaconda2\\lib\\urllib2.py\", line 473, in error\n",
      "    return self._call_chain(*args)\n",
      "  File \"C:\\Anaconda2\\lib\\urllib2.py\", line 407, in _call_chain\n",
      "    result = func(*args)\n",
      "  File \"C:\\Anaconda2\\lib\\urllib2.py\", line 556, in http_error_default\n",
      "    raise HTTPError(req.get_full_url(), code, msg, hdrs, fp)\n",
      "HTTPError: HTTP Error 404: Not Found\n",
      "\n"
     ]
    },
    {
     "name": "stdout",
     "output_type": "stream",
     "text": [
      "['109', '109L', '110', '110L', '111', '111L', '112L', '113', '113L', '114', '114L', '115', '115L', '116', '116L', '118', '119', '120']\n"
     ]
    }
   ],
   "source": [
    "c = CameraNetwork.CLIclient(timeout=60)\n",
    "proxy_params = CameraNetwork.retrieve_proxy_parameters()\n",
    "c.start(proxy_params)\n",
    "time.sleep(3)\n",
    "print c.client_instance.servers"
   ]
  },
  {
   "cell_type": "code",
   "execution_count": 3,
   "metadata": {
    "collapsed": true
   },
   "outputs": [],
   "source": [
    "local_servers = [server_id for server_id in c.servers_list if server_id.endswith(\"L\")]"
   ]
  },
  {
   "cell_type": "code",
   "execution_count": 27,
   "metadata": {
    "collapsed": true
   },
   "outputs": [],
   "source": [
    "def get_thumbs(client, server_id):\n",
    "    days = client[server_id].days()[1][0][\"days_list\"]\n",
    "    thumbnails = []\n",
    "    dfs = []\n",
    "    for day in days:\n",
    "        time_ind = datetime.datetime(*[int(i) for i in day.split(\"_\")])\n",
    "        try:\n",
    "            reply = c[server_id].thumbnails(time_ind.date(), \"60T\")\n",
    "            thumbnails.extend(extractThumbnails(reply[1][0][\"thumbnails\"]))\n",
    "            dfs.append(reply[1][0][\"thumbs_df\"])\n",
    "        except Exception, e:\n",
    "            print(server_id, day, type(e))\n",
    "    \n",
    "    if dfs:\n",
    "        df = pd.concat(dfs)\n",
    "    else:\n",
    "        df = None\n",
    "\n",
    "    return server_id, thumbnails, df"
   ]
  },
  {
   "cell_type": "code",
   "execution_count": 28,
   "metadata": {
    "collapsed": false
   },
   "outputs": [
    {
     "name": "stdout",
     "output_type": "stream",
     "text": [
      "('109L', '2017_03_22', <type 'exceptions.Exception'>)\n",
      "('109L', '2017_03_23', <type 'exceptions.Exception'>)\n",
      "('109L', '2017_03_24', <type 'exceptions.Exception'>)\n",
      "('109L', '2017_03_26', <type 'exceptions.Exception'>)\n",
      "('109L', '2017_03_27', <type 'exceptions.Exception'>)\n",
      "('110L', '2017_03_10', <type 'exceptions.Exception'>)\n",
      "('111L', '2017_02_20', <type 'exceptions.IOError'>)\n",
      "('111L', '2017_03_23', <type 'exceptions.Exception'>)\n",
      "('111L', '2017_03_24', <type 'exceptions.Exception'>)\n",
      "('112L', '2017_03_21', <type 'exceptions.Exception'>)\n",
      "('112L', '2017_03_22', <type 'exceptions.Exception'>)\n",
      "('112L', '2017_03_23', <type 'exceptions.Exception'>)\n",
      "('112L', '2017_03_24', <type 'exceptions.Exception'>)\n",
      "('112L', '2017_03_26', <type 'exceptions.Exception'>)\n",
      "('112L', '2017_03_27', <type 'exceptions.Exception'>)\n",
      "('112L', '2017_04_02', <type 'exceptions.Exception'>)\n",
      "('113L', '2017_02_19', <type 'exceptions.Exception'>)\n",
      "('114L', '2017_02_21', <type 'exceptions.Exception'>)\n",
      "('115L', '2017_02_20', <type 'exceptions.Exception'>)\n",
      "('116L', '2017_04_12', <type 'exceptions.IOError'>)\n"
     ]
    }
   ],
   "source": [
    "t0 = time.time()\n",
    "replies = [get_thumbs(c, server_id) for server_id in local_servers]\n",
    "t1 = time.time() - t0"
   ]
  },
  {
   "cell_type": "code",
   "execution_count": 29,
   "metadata": {
    "collapsed": false
   },
   "outputs": [
    {
     "data": {
      "text/plain": [
       "3562.9219999313354"
      ]
     },
     "execution_count": 29,
     "metadata": {},
     "output_type": "execute_result"
    }
   ],
   "source": [
    "t1"
   ]
  },
  {
   "cell_type": "code",
   "execution_count": 7,
   "metadata": {
    "collapsed": true
   },
   "outputs": [],
   "source": [
    "import cPickle\n",
    "with open(\"thumbs_local.pkl\", \"wb\") as f:\n",
    "    cPickle.dump(replies, f)"
   ]
  },
  {
   "cell_type": "code",
   "execution_count": 32,
   "metadata": {
    "collapsed": false
   },
   "outputs": [
    {
     "name": "stderr",
     "output_type": "stream",
     "text": [
      "C:\\Anaconda2\\lib\\site-packages\\skimage\\io\\_io.py:132: UserWarning: thumbnails\\109L\\1486961940.0_2017_02_13_04_59_00_2..jpg is a low contrast image\n",
      "  warn('%s is a low contrast image' % fname)\n",
      "C:\\Anaconda2\\lib\\site-packages\\skimage\\io\\_io.py:132: UserWarning: thumbnails\\109L\\1488297300.0_2017_02_28_15_55_00_2..jpg is a low contrast image\n",
      "  warn('%s is a low contrast image' % fname)\n",
      "C:\\Anaconda2\\lib\\site-packages\\skimage\\io\\_io.py:132: UserWarning: thumbnails\\109L\\1488383700.0_2017_03_01_15_55_00_2..jpg is a low contrast image\n",
      "  warn('%s is a low contrast image' % fname)\n",
      "C:\\Anaconda2\\lib\\site-packages\\skimage\\io\\_io.py:132: UserWarning: thumbnails\\109L\\1489582500.0_2017_03_15_12_55_00_2..jpg is a low contrast image\n",
      "  warn('%s is a low contrast image' % fname)\n",
      "C:\\Anaconda2\\lib\\site-packages\\skimage\\io\\_io.py:132: UserWarning: thumbnails\\110L\\1488297300.0_2017_02_28_15_55_00_2..jpg is a low contrast image\n",
      "  warn('%s is a low contrast image' % fname)\n",
      "C:\\Anaconda2\\lib\\site-packages\\skimage\\io\\_io.py:132: UserWarning: thumbnails\\110L\\1489593300.0_2017_03_15_15_55_00_2..jpg is a low contrast image\n",
      "  warn('%s is a low contrast image' % fname)\n",
      "C:\\Anaconda2\\lib\\site-packages\\skimage\\io\\_io.py:132: UserWarning: thumbnails\\110L\\1491105300.0_2017_04_02_03_55_00_2..jpg is a low contrast image\n",
      "  warn('%s is a low contrast image' % fname)\n",
      "C:\\Anaconda2\\lib\\site-packages\\skimage\\io\\_io.py:132: UserWarning: thumbnails\\111L\\1488297300.0_2017_02_28_15_55_00_2..jpg is a low contrast image\n",
      "  warn('%s is a low contrast image' % fname)\n",
      "C:\\Anaconda2\\lib\\site-packages\\skimage\\io\\_io.py:132: UserWarning: thumbnails\\111L\\1488383700.0_2017_03_01_15_55_00_2..jpg is a low contrast image\n",
      "  warn('%s is a low contrast image' % fname)\n",
      "C:\\Anaconda2\\lib\\site-packages\\skimage\\io\\_io.py:132: UserWarning: thumbnails\\111L\\1489586100.0_2017_03_15_13_55_00_2..jpg is a low contrast image\n",
      "  warn('%s is a low contrast image' % fname)\n",
      "C:\\Anaconda2\\lib\\site-packages\\skimage\\io\\_io.py:132: UserWarning: thumbnails\\112L\\1488383700.0_2017_03_01_15_55_00_2..jpg is a low contrast image\n",
      "  warn('%s is a low contrast image' % fname)\n",
      "C:\\Anaconda2\\lib\\site-packages\\skimage\\io\\_io.py:132: UserWarning: thumbnails\\113L\\1488383700.0_2017_03_01_15_55_00_2..jpg is a low contrast image\n",
      "  warn('%s is a low contrast image' % fname)\n",
      "C:\\Anaconda2\\lib\\site-packages\\skimage\\io\\_io.py:132: UserWarning: thumbnails\\113L\\1489586100.0_2017_03_15_13_55_00_2..jpg is a low contrast image\n",
      "  warn('%s is a low contrast image' % fname)\n",
      "C:\\Anaconda2\\lib\\site-packages\\skimage\\io\\_io.py:132: UserWarning: thumbnails\\114L\\1488297300.0_2017_02_28_15_55_00_2..jpg is a low contrast image\n",
      "  warn('%s is a low contrast image' % fname)\n",
      "C:\\Anaconda2\\lib\\site-packages\\skimage\\io\\_io.py:132: UserWarning: thumbnails\\114L\\1488383700.0_2017_03_01_15_55_00_2..jpg is a low contrast image\n",
      "  warn('%s is a low contrast image' % fname)\n",
      "C:\\Anaconda2\\lib\\site-packages\\skimage\\io\\_io.py:132: UserWarning: thumbnails\\114L\\1488470100.0_2017_03_02_15_55_00_2..jpg is a low contrast image\n",
      "  warn('%s is a low contrast image' % fname)\n",
      "C:\\Anaconda2\\lib\\site-packages\\skimage\\io\\_io.py:132: UserWarning: thumbnails\\114L\\1488556500.0_2017_03_03_15_55_00_2..jpg is a low contrast image\n",
      "  warn('%s is a low contrast image' % fname)\n",
      "C:\\Anaconda2\\lib\\site-packages\\skimage\\io\\_io.py:132: UserWarning: thumbnails\\114L\\1489467300.0_2017_03_14_04_55_00_2..jpg is a low contrast image\n",
      "  warn('%s is a low contrast image' % fname)\n",
      "C:\\Anaconda2\\lib\\site-packages\\skimage\\io\\_io.py:132: UserWarning: thumbnails\\114L\\1489586100.0_2017_03_15_13_55_00_2..jpg is a low contrast image\n",
      "  warn('%s is a low contrast image' % fname)\n",
      "C:\\Anaconda2\\lib\\site-packages\\skimage\\io\\_io.py:132: UserWarning: thumbnails\\114L\\1489809300.0_2017_03_18_03_55_00_2..jpg is a low contrast image\n",
      "  warn('%s is a low contrast image' % fname)\n",
      "C:\\Anaconda2\\lib\\site-packages\\skimage\\io\\_io.py:132: UserWarning: thumbnails\\115L\\1488297300.0_2017_02_28_15_55_00_2..jpg is a low contrast image\n",
      "  warn('%s is a low contrast image' % fname)\n",
      "C:\\Anaconda2\\lib\\site-packages\\skimage\\io\\_io.py:132: UserWarning: thumbnails\\115L\\1488383700.0_2017_03_01_15_55_00_2..jpg is a low contrast image\n",
      "  warn('%s is a low contrast image' % fname)\n",
      "C:\\Anaconda2\\lib\\site-packages\\skimage\\io\\_io.py:132: UserWarning: thumbnails\\115L\\1489136100.0_2017_03_10_08_55_00_2..jpg is a low contrast image\n",
      "  warn('%s is a low contrast image' % fname)\n",
      "C:\\Anaconda2\\lib\\site-packages\\skimage\\io\\_io.py:132: UserWarning: thumbnails\\115L\\1489467300.0_2017_03_14_04_55_00_2..jpg is a low contrast image\n",
      "  warn('%s is a low contrast image' % fname)\n",
      "C:\\Anaconda2\\lib\\site-packages\\skimage\\io\\_io.py:132: UserWarning: thumbnails\\115L\\1489582500.0_2017_03_15_12_55_00_2..jpg is a low contrast image\n",
      "  warn('%s is a low contrast image' % fname)\n",
      "C:\\Anaconda2\\lib\\site-packages\\skimage\\io\\_io.py:132: UserWarning: thumbnails\\116L\\1489586100.0_2017_03_15_13_55_00_2..jpg is a low contrast image\n",
      "  warn('%s is a low contrast image' % fname)\n"
     ]
    }
   ],
   "source": [
    "new_dfs = {}\n",
    "for server, thumbnails, df in replies:\n",
    "    if df is None:\n",
    "        continue\n",
    "            \n",
    "    paths = []\n",
    "    for i, (ind, row) in enumerate(df.iterrows()):\n",
    "        thumbs_path = os.path.join(\"thumbnails\", server, os.path.split(row[\"path\"])[-1])\n",
    "        thumbs_path = thumbs_path[:-3] + \".jpg\"\n",
    "        paths.append(thumbs_path)\n",
    "        folder, _ = os.path.split(thumbs_path)\n",
    "        if not os.path.exists(folder):\n",
    "            os.makedirs(folder)\n",
    "        io.imsave(thumbs_path, thumbnails[i])\n",
    "    df[\"thumbnail\"] = paths\n",
    "    new_dfs[server] = df"
   ]
  },
  {
   "cell_type": "code",
   "execution_count": 33,
   "metadata": {
    "collapsed": true
   },
   "outputs": [],
   "source": [
    "with open(\"thumbnails_downloaded_local.pkl\", \"wb\") as f:\n",
    "    cPickle.dump(new_dfs, f)"
   ]
  },
  {
   "cell_type": "code",
   "execution_count": 34,
   "metadata": {
    "collapsed": true
   },
   "outputs": [],
   "source": [
    "with open(\"thumbnails_downloaded_remote.pkl\", \"rb\") as f:\n",
    "    remote_dfs = cPickle.load(f)"
   ]
  },
  {
   "cell_type": "code",
   "execution_count": 35,
   "metadata": {
    "collapsed": true
   },
   "outputs": [],
   "source": [
    "remote_dfs.update(new_dfs)"
   ]
  },
  {
   "cell_type": "code",
   "execution_count": 37,
   "metadata": {
    "collapsed": false
   },
   "outputs": [],
   "source": [
    "with open(\"thumbnails_downloaded.pkl\", \"wb\") as f:\n",
    "    cPickle.dump(remote_dfs, f)"
   ]
  },
  {
   "cell_type": "code",
   "execution_count": 40,
   "metadata": {
    "collapsed": false
   },
   "outputs": [
    {
     "data": {
      "text/plain": [
       "['109',\n",
       " '109L',\n",
       " '110',\n",
       " '110L',\n",
       " '111',\n",
       " '111L',\n",
       " '112',\n",
       " '112L',\n",
       " '113',\n",
       " '113L',\n",
       " '114',\n",
       " '114L',\n",
       " '115',\n",
       " '115L',\n",
       " '116',\n",
       " '116L',\n",
       " '117',\n",
       " '117L',\n",
       " '118L',\n",
       " '119',\n",
       " '120']"
      ]
     },
     "execution_count": 40,
     "metadata": {},
     "output_type": "execute_result"
    }
   ],
   "source": [
    "c.servers_list"
   ]
  },
  {
   "cell_type": "code",
   "execution_count": null,
   "metadata": {
    "collapsed": true
   },
   "outputs": [],
   "source": []
  }
 ],
 "metadata": {
  "anaconda-cloud": {},
  "kernelspec": {
   "display_name": "Python [default]",
   "language": "python",
   "name": "python2"
  },
  "language_info": {
   "codemirror_mode": {
    "name": "ipython",
    "version": 2
   },
   "file_extension": ".py",
   "mimetype": "text/x-python",
   "name": "python",
   "nbconvert_exporter": "python",
   "pygments_lexer": "ipython2",
   "version": "2.7.12"
  }
 },
 "nbformat": 4,
 "nbformat_minor": 1
}
