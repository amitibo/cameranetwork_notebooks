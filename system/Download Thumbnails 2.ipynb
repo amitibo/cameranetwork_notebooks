{
 "cells": [
  {
   "cell_type": "code",
   "execution_count": 1,
   "metadata": {
    "collapsed": false
   },
   "outputs": [
    {
     "name": "stderr",
     "output_type": "stream",
     "text": [
      "i:\\amit\\office backup\\amit\\studies\\cameranetwork_git\\CameraNetwork\\transformation_matrices.py:1899: UserWarning: failed to import module _transformations\n",
      "  warnings.warn(\"failed to import module %s\" % name)\n"
     ]
    }
   ],
   "source": [
    "from __future__ import division\n",
    "%matplotlib inline\n",
    "import CameraNetwork\n",
    "import CameraNetwork.global_settings as gs\n",
    "from CameraNetwork.utils import extractThumbnails\n",
    "import cPickle\n",
    "import cv2\n",
    "import datetime\n",
    "import Image\n",
    "import ImageDraw\n",
    "from joblib import Parallel, delayed\n",
    "import matplotlib.pyplot as plt\n",
    "import numpy as np\n",
    "import os\n",
    "import pandas as pd\n",
    "import time\n",
    "import tqdm\n",
    "from tqdm import tqdm_notebook\n",
    "import traceback\n",
    "plt.rcParams['figure.figsize'] = (8.0, 8.0)"
   ]
  },
  {
   "cell_type": "code",
   "execution_count": 2,
   "metadata": {
    "collapsed": false
   },
   "outputs": [
    {
     "name": "stderr",
     "output_type": "stream",
     "text": [
      "ERROR:root:Failed retrieving proxy parameters:\n",
      "Traceback (most recent call last):\n",
      "  File \"i:\\amit\\office backup\\amit\\studies\\cameranetwork_git\\CameraNetwork\\internet.py\", line 56, in retrieve_proxy_parameters\n",
      "    response = urllib2.urlopen(req)\n",
      "  File \"C:\\Anaconda2\\lib\\urllib2.py\", line 154, in urlopen\n",
      "    return opener.open(url, data, timeout)\n",
      "  File \"C:\\Anaconda2\\lib\\urllib2.py\", line 435, in open\n",
      "    response = meth(req, response)\n",
      "  File \"C:\\Anaconda2\\lib\\urllib2.py\", line 548, in http_response\n",
      "    'http', request, response, code, msg, hdrs)\n",
      "  File \"C:\\Anaconda2\\lib\\urllib2.py\", line 473, in error\n",
      "    return self._call_chain(*args)\n",
      "  File \"C:\\Anaconda2\\lib\\urllib2.py\", line 407, in _call_chain\n",
      "    result = func(*args)\n",
      "  File \"C:\\Anaconda2\\lib\\urllib2.py\", line 556, in http_error_default\n",
      "    raise HTTPError(req.get_full_url(), code, msg, hdrs, fp)\n",
      "HTTPError: HTTP Error 404: Not Found\n",
      "\n"
     ]
    },
    {
     "name": "stdout",
     "output_type": "stream",
     "text": [
      "['109', '109L', '110', '110L', '111', '111L', '112L', '113', '113L', '114', '114L', '115', '115L', '116', '116L', '118', '119', '120']\n"
     ]
    }
   ],
   "source": [
    "c = CameraNetwork.CLIclient(timeout=60)\n",
    "proxy_params = CameraNetwork.retrieve_proxy_parameters()\n",
    "c.start(proxy_params)\n",
    "time.sleep(3)\n",
    "print c.client_instance.servers"
   ]
  },
  {
   "cell_type": "code",
   "execution_count": 13,
   "metadata": {
    "collapsed": true
   },
   "outputs": [],
   "source": [
    "def get_thumbs(client, server_id):\n",
    "    days = client[server_id].days()[1][0][\"days_list\"]\n",
    "    thumbnails = []\n",
    "    dfs = []\n",
    "    for day in days:\n",
    "        time_ind = datetime.datetime(*[int(i) for i in day.split(\"_\")])\n",
    "        try:\n",
    "            reply = c[server_id].thumbnails(time_ind.date(), \"60T\")\n",
    "            thumbnails.extend(extractThumbnails(reply[1][0][\"thumbnails\"]))\n",
    "            dfs.append(reply[1][0][\"thumbs_df\"])\n",
    "        except Exception, e:\n",
    "            print(server_id, day, type(e))\n",
    "    \n",
    "    if dfs:\n",
    "        df = pd.concat(dfs, ignore_index=True)\n",
    "    else:\n",
    "        df = None\n",
    "\n",
    "    return server_id, thumbnails, df"
   ]
  },
  {
   "cell_type": "code",
   "execution_count": null,
   "metadata": {
    "collapsed": false,
    "scrolled": false
   },
   "outputs": [
    {
     "name": "stdout",
     "output_type": "stream",
     "text": [
      "('115L', '2017_02_20', <type 'exceptions.Exception'>)('114L', '2017_02_21', <type 'exceptions.Exception'>)\n",
      "\n",
      "('119', '2017_03_20', <type 'exceptions.Exception'>)\n",
      "('111', '2017_04_03', <type 'exceptions.Exception'>)('115', '2017_04_06', <type 'exceptions.Exception'>)\n",
      "\n",
      "('114', '2017_04_02', <type 'exceptions.Exception'>)\n",
      "('113', '2017_04_08', <type 'exceptions.Exception'>)\n",
      "('116', '2017_04_06', <type 'exceptions.Exception'>)\n",
      "('119', '2017_03_23', <type 'exceptions.Exception'>)\n",
      "('111L', '2017_02_20', <type 'exceptions.IOError'>)\n",
      "('119', '2017_03_24', <type 'exceptions.Exception'>)\n",
      "('119', '2017_03_25', <type 'exceptions.Exception'>)\n",
      "('119', '2017_03_26', <type 'exceptions.Exception'>)\n",
      "('119', '2017_03_27', <type 'exceptions.Exception'>)\n",
      "('119', '2017_03_28', <type 'exceptions.Exception'>)\n",
      "('119', '2017_03_29', <type 'exceptions.Exception'>)\n",
      "('119', '2017_03_30', <type 'exceptions.Exception'>)\n",
      "('119', '2017_03_31', <type 'exceptions.Exception'>)\n",
      "('119', '2017_04_01', <type 'exceptions.Exception'>)\n",
      "('109', '2017_03_23', <type 'exceptions.Exception'>)('119', '2017_04_02', <type 'exceptions.Exception'>)\n",
      "\n",
      "('119', '2017_04_03', <type 'exceptions.Exception'>)\n",
      "('119', '2017_04_04', <type 'exceptions.Exception'>)\n",
      "('119', '2017_04_05', <type 'exceptions.Exception'>)\n",
      "('119', '2017_04_06', <type 'exceptions.Exception'>)\n",
      "('109', '2017_03_24', <type 'exceptions.IOError'>)\n",
      "('119', '2017_04_07', <type 'exceptions.Exception'>)\n",
      "('119', '2017_04_08', <type 'exceptions.Exception'>)\n",
      "('119', '2017_04_09', <type 'exceptions.Exception'>)\n",
      "('119', '2017_04_10', <type 'exceptions.Exception'>)\n",
      "('119', '2017_04_11', <type 'exceptions.Exception'>)\n",
      "('119', '2017_04_12', <type 'exceptions.Exception'>)\n",
      "('119', '2017_04_13', <type 'exceptions.Exception'>)\n",
      "('119', '2017_04_14', <type 'exceptions.Exception'>)\n",
      "('119', '2017_04_15', <type 'exceptions.Exception'>)\n",
      "('119', '2017_04_16', <type 'exceptions.Exception'>)\n",
      "('119', '2017_04_17', <type 'exceptions.Exception'>)\n",
      "('119', '2017_04_18', <type 'exceptions.Exception'>)\n",
      "('119', '2017_04_19', <type 'exceptions.Exception'>)\n",
      "('113L', '2017_01_22', <class 'concurrent.futures._base.TimeoutError'>)\n",
      "('115L', '2017_02_23', <class 'concurrent.futures._base.TimeoutError'>)\n",
      "('114L', '2017_02_24', <class 'concurrent.futures._base.TimeoutError'>)\n",
      "('111L', '2017_02_23', <class 'concurrent.futures._base.TimeoutError'>)\n",
      "('116L', '2017_03_06', <class 'concurrent.futures._base.TimeoutError'>)\n"
     ]
    }
   ],
   "source": [
    "t0 = time.time()\n",
    "reply = Parallel(backend=\"threading\", n_jobs=len(c.servers_list))(\n",
    "    delayed(get_thumbs)(c, server_id) for server_id in c.servers_list)\n",
    "t1 = time.time() - t0"
   ]
  },
  {
   "cell_type": "code",
   "execution_count": null,
   "metadata": {
    "collapsed": true
   },
   "outputs": [],
   "source": []
  }
 ],
 "metadata": {
  "anaconda-cloud": {},
  "kernelspec": {
   "display_name": "Python [default]",
   "language": "python",
   "name": "python2"
  },
  "language_info": {
   "codemirror_mode": {
    "name": "ipython",
    "version": 2
   },
   "file_extension": ".py",
   "mimetype": "text/x-python",
   "name": "python",
   "nbconvert_exporter": "python",
   "pygments_lexer": "ipython2",
   "version": "2.7.12"
  }
 },
 "nbformat": 4,
 "nbformat_minor": 1
}
