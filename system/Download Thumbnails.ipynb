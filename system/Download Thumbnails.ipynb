{
 "cells": [
  {
   "cell_type": "code",
   "execution_count": null,
   "metadata": {
    "collapsed": false,
    "deletable": true,
    "editable": true
   },
   "outputs": [
    {
     "name": "stderr",
     "output_type": "stream",
     "text": [
      "i:\\amit\\office backup\\amit\\studies\\cameranetwork_git\\CameraNetwork\\transformation_matrices.py:1899: UserWarning: failed to import module _transformations\n",
      "  warnings.warn(\"failed to import module %s\" % name)\n"
     ]
    }
   ],
   "source": [
    "from __future__ import division\n",
    "%matplotlib inline\n",
    "import CameraNetwork\n",
    "import CameraNetwork.global_settings as gs\n",
    "import cPickle\n",
    "import cv2\n",
    "import datetime\n",
    "import Image\n",
    "import ImageDraw\n",
    "import matplotlib.pyplot as plt\n",
    "import numpy as np\n",
    "import pandas as pd\n",
    "import time\n",
    "import tqdm\n",
    "from tqdm import tqdm_notebook\n",
    "import traceback\n",
    "plt.rcParams['figure.figsize'] = (8.0, 8.0)"
   ]
  },
  {
   "cell_type": "code",
   "execution_count": null,
   "metadata": {
    "collapsed": false,
    "deletable": true,
    "editable": true
   },
   "outputs": [],
   "source": [
    "c = CameraNetwork.CLIclient()\n",
    "proxy_params = CameraNetwork.retrieve_proxy_parameters()\n",
    "c.start(proxy_params)\n",
    "time.sleep(3)\n",
    "print c.client_instance.servers"
   ]
  },
  {
   "cell_type": "code",
   "execution_count": null,
   "metadata": {
    "collapsed": false,
    "deletable": true,
    "editable": true
   },
   "outputs": [],
   "source": [
    "dfs = {}\n",
    "tnb1 = tqdm_notebook(c.client_instance.servers, leave=False)\n",
    "for server in tnb1:\n",
    "    tnb1.set_description(\"Server {}\".format(server))\n",
    "    tnb1.refresh()\n",
    "    days_list = c.days(server)[1][0][\"days_list\"]\n",
    "    tmp_dfs = []\n",
    "    tnb2 = tqdm_notebook(days_list, leave=False)\n",
    "    for day in tnb2:\n",
    "        try:\n",
    "            tnb2.set_description(day)\n",
    "            tnb2.refresh()\n",
    "            tmp_dfs.append(c.query(server_id=server, query_day=datetime.datetime.strptime(day, \"%Y_%m_%d\").date())[0])\n",
    "        except:\n",
    "            tqdm.tqdm.write(\"Failed loading day {} of server {}\".format(day, server))\n",
    "    dfs[server] = pd.concat(tmp_dfs, axis=0)"
   ]
  },
  {
   "cell_type": "code",
   "execution_count": null,
   "metadata": {
    "collapsed": false
   },
   "outputs": [],
   "source": [
    "dfs.keys()"
   ]
  },
  {
   "cell_type": "code",
   "execution_count": null,
   "metadata": {
    "collapsed": true
   },
   "outputs": [],
   "source": [
    "with open(\"thumbnails.pkl\", \"wb\") as f:\n",
    "    cPickle.dump(dfs, f)"
   ]
  },
  {
   "cell_type": "code",
   "execution_count": null,
   "metadata": {
    "collapsed": true
   },
   "outputs": [],
   "source": []
  }
 ],
 "metadata": {
  "anaconda-cloud": {},
  "kernelspec": {
   "display_name": "Python [default]",
   "language": "python",
   "name": "python2"
  },
  "language_info": {
   "codemirror_mode": {
    "name": "ipython",
    "version": 2
   },
   "file_extension": ".py",
   "mimetype": "text/x-python",
   "name": "python",
   "nbconvert_exporter": "python",
   "pygments_lexer": "ipython2",
   "version": "2.7.12"
  },
  "widgets": {
   "state": {
    "08cdcbbe829147268e3e6eca19a04f60": {
     "views": [
      {
       "cell_index": 2
      }
     ]
    },
    "26692450e76d4204bd5f802d5282dbc4": {
     "views": [
      {
       "cell_index": 2
      }
     ]
    },
    "2f6cc92bca36488fabc48dbef64edc55": {
     "views": [
      {
       "cell_index": 2
      }
     ]
    },
    "35a90c38e21943308a0434176da31932": {
     "views": [
      {
       "cell_index": 2
      }
     ]
    },
    "5b470762c50d488d8aa6a34506f5f03d": {
     "views": [
      {
       "cell_index": 2
      }
     ]
    },
    "8d47c220d84449e49d3e55763a6bc61c": {
     "views": [
      {
       "cell_index": 2
      }
     ]
    },
    "bd091390be984e2f98f6f7c804ddcc21": {
     "views": [
      {
       "cell_index": 2
      }
     ]
    },
    "cd765ebe6a19413a9edf135509aec3f1": {
     "views": [
      {
       "cell_index": 2
      }
     ]
    },
    "d5ca1aaa736b4733be85d4c74a1aa40d": {
     "views": [
      {
       "cell_index": 2
      }
     ]
    }
   },
   "version": "1.2.0"
  }
 },
 "nbformat": 4,
 "nbformat_minor": 1
}
