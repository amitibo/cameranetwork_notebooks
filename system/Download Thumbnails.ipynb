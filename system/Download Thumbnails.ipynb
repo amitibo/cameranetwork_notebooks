{
 "cells": [
  {
   "cell_type": "code",
   "execution_count": 1,
   "metadata": {
    "collapsed": false,
    "deletable": true,
    "editable": true
   },
   "outputs": [
    {
     "name": "stderr",
     "output_type": "stream",
     "text": [
      "i:\\amit\\office backup\\amit\\studies\\cameranetwork_git\\CameraNetwork\\transformation_matrices.py:1899: UserWarning: failed to import module _transformations\n",
      "  warnings.warn(\"failed to import module %s\" % name)\n"
     ]
    }
   ],
   "source": [
    "from __future__ import division\n",
    "%matplotlib inline\n",
    "import CameraNetwork\n",
    "import CameraNetwork.global_settings as gs\n",
    "import cPickle\n",
    "import cv2\n",
    "import datetime\n",
    "import Image\n",
    "import ImageDraw\n",
    "import matplotlib.pyplot as plt\n",
    "import numpy as np\n",
    "import os\n",
    "import pandas as pd\n",
    "import time\n",
    "import tqdm\n",
    "from tqdm import tqdm_notebook\n",
    "import traceback\n",
    "plt.rcParams['figure.figsize'] = (8.0, 8.0)\n",
    "idx = pd.IndexSlice"
   ]
  },
  {
   "cell_type": "code",
   "execution_count": 2,
   "metadata": {
    "collapsed": false,
    "deletable": true,
    "editable": true
   },
   "outputs": [
    {
     "name": "stderr",
     "output_type": "stream",
     "text": [
      "ERROR:root:Failed retrieving proxy parameters:\n",
      "Traceback (most recent call last):\n",
      "  File \"i:\\amit\\office backup\\amit\\studies\\cameranetwork_git\\CameraNetwork\\internet.py\", line 56, in retrieve_proxy_parameters\n",
      "    response = urllib2.urlopen(req)\n",
      "  File \"C:\\Anaconda2\\lib\\urllib2.py\", line 154, in urlopen\n",
      "    return opener.open(url, data, timeout)\n",
      "  File \"C:\\Anaconda2\\lib\\urllib2.py\", line 435, in open\n",
      "    response = meth(req, response)\n",
      "  File \"C:\\Anaconda2\\lib\\urllib2.py\", line 548, in http_response\n",
      "    'http', request, response, code, msg, hdrs)\n",
      "  File \"C:\\Anaconda2\\lib\\urllib2.py\", line 473, in error\n",
      "    return self._call_chain(*args)\n",
      "  File \"C:\\Anaconda2\\lib\\urllib2.py\", line 407, in _call_chain\n",
      "    result = func(*args)\n",
      "  File \"C:\\Anaconda2\\lib\\urllib2.py\", line 556, in http_error_default\n",
      "    raise HTTPError(req.get_full_url(), code, msg, hdrs, fp)\n",
      "HTTPError: HTTP Error 404: Not Found\n",
      "\n"
     ]
    },
    {
     "name": "stdout",
     "output_type": "stream",
     "text": [
      "['109', '109L', '110', '110L', '111', '111L', '112L', '113', '113L', '114', '114L', '115', '115L', '116', '116L', '117', '118', '120']\n"
     ]
    }
   ],
   "source": [
    "c = CameraNetwork.CLIclient()\n",
    "proxy_params = CameraNetwork.retrieve_proxy_parameters()\n",
    "c.start(proxy_params)\n",
    "time.sleep(3)\n",
    "print c.client_instance.servers"
   ]
  },
  {
   "cell_type": "code",
   "execution_count": 3,
   "metadata": {
    "collapsed": false,
    "deletable": true,
    "editable": true
   },
   "outputs": [
    {
     "name": "stdout",
     "output_type": "stream",
     "text": [
      "2/|/2017_01_20:   5%|| 2/39 [00:14<04:23,  7.12s/it]Failed loading day 2017_01_20 of server 113L\n"
     ]
    }
   ],
   "source": [
    "dfs = {}\n",
    "tnb1 = tqdm_notebook(c.client_instance.servers, leave=False)\n",
    "for server in tnb1:\n",
    "    tnb1.set_description(\"Server {}\".format(server))\n",
    "    tnb1.refresh()\n",
    "    days_list = c.days(server)[1][0][\"days_list\"]\n",
    "    tmp_dfs = []\n",
    "    tnb2 = tqdm_notebook(days_list, leave=False)\n",
    "    for day in tnb2:\n",
    "        try:\n",
    "            tnb2.set_description(day)\n",
    "            tnb2.refresh()\n",
    "            tmp_dfs.append(\n",
    "                c.query(\n",
    "                    server_id=server,\n",
    "                    query_day=datetime.datetime.strptime(day, \"%Y_%m_%d\").date(),\n",
    "                    force=True\n",
    "                )[0]\n",
    "            )\n",
    "        except:\n",
    "            tqdm.tqdm.write(\"Failed loading day {} of server {}\".format(day, server))\n",
    "    dfs[server] = pd.concat(tmp_dfs, axis=0)"
   ]
  },
  {
   "cell_type": "code",
   "execution_count": null,
   "metadata": {
    "collapsed": false,
    "scrolled": true
   },
   "outputs": [],
   "source": [
    "#del dfs[\"115\"][\"longitue\"]"
   ]
  },
  {
   "cell_type": "code",
   "execution_count": 5,
   "metadata": {
    "collapsed": true,
    "deletable": true,
    "editable": true
   },
   "outputs": [],
   "source": [
    "with open(\"thumbnails.pkl\", \"wb\") as f:\n",
    "    cPickle.dump(dfs, f)"
   ]
  },
  {
   "cell_type": "markdown",
   "metadata": {
    "collapsed": true,
    "deletable": true,
    "editable": true
   },
   "source": [
    "## Analyze the thumbnails database"
   ]
  },
  {
   "cell_type": "code",
   "execution_count": 6,
   "metadata": {
    "collapsed": false,
    "deletable": true,
    "editable": true
   },
   "outputs": [],
   "source": [
    "with open(\"thumbnails.pkl\", \"rb\") as f:\n",
    "    dfs = cPickle.load(f)"
   ]
  },
  {
   "cell_type": "code",
   "execution_count": 7,
   "metadata": {
    "collapsed": false,
    "deletable": true,
    "editable": true
   },
   "outputs": [
    {
     "data": {
      "text/html": [
       "<div>\n",
       "<table border=\"1\" class=\"dataframe\">\n",
       "  <thead>\n",
       "    <tr style=\"text-align: right;\">\n",
       "      <th></th>\n",
       "      <th></th>\n",
       "      <th>path</th>\n",
       "      <th>longitude</th>\n",
       "      <th>latitude</th>\n",
       "      <th>altitude</th>\n",
       "      <th>serial_num</th>\n",
       "    </tr>\n",
       "    <tr>\n",
       "      <th>Time</th>\n",
       "      <th>hdr</th>\n",
       "      <th></th>\n",
       "      <th></th>\n",
       "      <th></th>\n",
       "      <th></th>\n",
       "      <th></th>\n",
       "    </tr>\n",
       "  </thead>\n",
       "  <tbody>\n",
       "    <tr>\n",
       "      <th rowspan=\"4\" valign=\"top\">2017-01-25 12:27:00</th>\n",
       "      <th>0</th>\n",
       "      <td>/home/odroid/captured_images/2017_01_25/148534...</td>\n",
       "      <td>35.024963</td>\n",
       "      <td>32.775776</td>\n",
       "      <td>229.0</td>\n",
       "      <td>4102820380</td>\n",
       "    </tr>\n",
       "    <tr>\n",
       "      <th>1</th>\n",
       "      <td>/home/odroid/captured_images/2017_01_25/148534...</td>\n",
       "      <td>35.024963</td>\n",
       "      <td>32.775776</td>\n",
       "      <td>229.0</td>\n",
       "      <td>4102820380</td>\n",
       "    </tr>\n",
       "    <tr>\n",
       "      <th>2</th>\n",
       "      <td>/home/odroid/captured_images/2017_01_25/148534...</td>\n",
       "      <td>35.024963</td>\n",
       "      <td>32.775776</td>\n",
       "      <td>229.0</td>\n",
       "      <td>4102820380</td>\n",
       "    </tr>\n",
       "    <tr>\n",
       "      <th>3</th>\n",
       "      <td>/home/odroid/captured_images/2017_01_25/148534...</td>\n",
       "      <td>35.024963</td>\n",
       "      <td>32.775776</td>\n",
       "      <td>229.0</td>\n",
       "      <td>4102820380</td>\n",
       "    </tr>\n",
       "    <tr>\n",
       "      <th>2017-01-25 12:28:00</th>\n",
       "      <th>0</th>\n",
       "      <td>/home/odroid/captured_images/2017_01_25/148534...</td>\n",
       "      <td>35.024963</td>\n",
       "      <td>32.775776</td>\n",
       "      <td>229.0</td>\n",
       "      <td>4102820380</td>\n",
       "    </tr>\n",
       "  </tbody>\n",
       "</table>\n",
       "</div>"
      ],
      "text/plain": [
       "                                                                      path  \\\n",
       "Time                hdr                                                      \n",
       "2017-01-25 12:27:00 0    /home/odroid/captured_images/2017_01_25/148534...   \n",
       "                    1    /home/odroid/captured_images/2017_01_25/148534...   \n",
       "                    2    /home/odroid/captured_images/2017_01_25/148534...   \n",
       "                    3    /home/odroid/captured_images/2017_01_25/148534...   \n",
       "2017-01-25 12:28:00 0    /home/odroid/captured_images/2017_01_25/148534...   \n",
       "\n",
       "                         longitude   latitude  altitude  serial_num  \n",
       "Time                hdr                                              \n",
       "2017-01-25 12:27:00 0    35.024963  32.775776     229.0  4102820380  \n",
       "                    1    35.024963  32.775776     229.0  4102820380  \n",
       "                    2    35.024963  32.775776     229.0  4102820380  \n",
       "                    3    35.024963  32.775776     229.0  4102820380  \n",
       "2017-01-25 12:28:00 0    35.024963  32.775776     229.0  4102820380  "
      ]
     },
     "execution_count": 7,
     "metadata": {},
     "output_type": "execute_result"
    }
   ],
   "source": [
    "dfs[\"109\"].head()"
   ]
  },
  {
   "cell_type": "code",
   "execution_count": 8,
   "metadata": {
    "collapsed": true,
    "deletable": true,
    "editable": true
   },
   "outputs": [],
   "source": [
    "def custom_resampler(array_like):\n",
    "    if array_like.shape[0] == 0:\n",
    "        return None\n",
    "    return array_like.iloc[-1]"
   ]
  },
  {
   "cell_type": "code",
   "execution_count": 9,
   "metadata": {
    "collapsed": false,
    "deletable": true,
    "editable": true,
    "scrolled": false
   },
   "outputs": [],
   "source": [
    "df = dfs[\"109\"]\n",
    "df_thumbs = df.loc[idx[:, \"2\"], idx[:]].resample(\"30T\", level=0, label='right').apply(custom_resampler).dropna()"
   ]
  },
  {
   "cell_type": "code",
   "execution_count": 10,
   "metadata": {
    "collapsed": false,
    "deletable": true,
    "editable": true
   },
   "outputs": [
    {
     "data": {
      "text/html": [
       "<div>\n",
       "<table border=\"1\" class=\"dataframe\">\n",
       "  <thead>\n",
       "    <tr style=\"text-align: right;\">\n",
       "      <th></th>\n",
       "      <th>path</th>\n",
       "      <th>longitude</th>\n",
       "      <th>latitude</th>\n",
       "      <th>altitude</th>\n",
       "      <th>serial_num</th>\n",
       "    </tr>\n",
       "    <tr>\n",
       "      <th>Time</th>\n",
       "      <th></th>\n",
       "      <th></th>\n",
       "      <th></th>\n",
       "      <th></th>\n",
       "      <th></th>\n",
       "    </tr>\n",
       "  </thead>\n",
       "  <tbody>\n",
       "    <tr>\n",
       "      <th>2017-01-25 12:30:00</th>\n",
       "      <td>/home/odroid/captured_images/2017_01_25/148534...</td>\n",
       "      <td>35.024963</td>\n",
       "      <td>32.775776</td>\n",
       "      <td>229.0</td>\n",
       "      <td>4102820380</td>\n",
       "    </tr>\n",
       "    <tr>\n",
       "      <th>2017-01-25 13:00:00</th>\n",
       "      <td>/home/odroid/captured_images/2017_01_25/148534...</td>\n",
       "      <td>35.024963</td>\n",
       "      <td>32.775776</td>\n",
       "      <td>229.0</td>\n",
       "      <td>4102820380</td>\n",
       "    </tr>\n",
       "    <tr>\n",
       "      <th>2017-01-25 13:30:00</th>\n",
       "      <td>/home/odroid/captured_images/2017_01_25/148535...</td>\n",
       "      <td>35.024963</td>\n",
       "      <td>32.775776</td>\n",
       "      <td>229.0</td>\n",
       "      <td>4102820380</td>\n",
       "    </tr>\n",
       "    <tr>\n",
       "      <th>2017-01-25 14:00:00</th>\n",
       "      <td>/home/odroid/captured_images/2017_01_25/148535...</td>\n",
       "      <td>35.024963</td>\n",
       "      <td>32.775776</td>\n",
       "      <td>229.0</td>\n",
       "      <td>4102820380</td>\n",
       "    </tr>\n",
       "    <tr>\n",
       "      <th>2017-01-25 14:30:00</th>\n",
       "      <td>/home/odroid/captured_images/2017_01_25/148535...</td>\n",
       "      <td>35.024963</td>\n",
       "      <td>32.775776</td>\n",
       "      <td>229.0</td>\n",
       "      <td>4102820380</td>\n",
       "    </tr>\n",
       "  </tbody>\n",
       "</table>\n",
       "</div>"
      ],
      "text/plain": [
       "                                                                  path  \\\n",
       "Time                                                                     \n",
       "2017-01-25 12:30:00  /home/odroid/captured_images/2017_01_25/148534...   \n",
       "2017-01-25 13:00:00  /home/odroid/captured_images/2017_01_25/148534...   \n",
       "2017-01-25 13:30:00  /home/odroid/captured_images/2017_01_25/148535...   \n",
       "2017-01-25 14:00:00  /home/odroid/captured_images/2017_01_25/148535...   \n",
       "2017-01-25 14:30:00  /home/odroid/captured_images/2017_01_25/148535...   \n",
       "\n",
       "                     longitude   latitude  altitude  serial_num  \n",
       "Time                                                             \n",
       "2017-01-25 12:30:00  35.024963  32.775776     229.0  4102820380  \n",
       "2017-01-25 13:00:00  35.024963  32.775776     229.0  4102820380  \n",
       "2017-01-25 13:30:00  35.024963  32.775776     229.0  4102820380  \n",
       "2017-01-25 14:00:00  35.024963  32.775776     229.0  4102820380  \n",
       "2017-01-25 14:30:00  35.024963  32.775776     229.0  4102820380  "
      ]
     },
     "execution_count": 10,
     "metadata": {},
     "output_type": "execute_result"
    }
   ],
   "source": [
    "df_thumbs.head()"
   ]
  },
  {
   "cell_type": "markdown",
   "metadata": {
    "deletable": true,
    "editable": true
   },
   "source": [
    "## Download thumbnails"
   ]
  },
  {
   "cell_type": "code",
   "execution_count": 11,
   "metadata": {
    "collapsed": false,
    "deletable": true,
    "editable": true
   },
   "outputs": [
    {
     "name": "stdout",
     "output_type": "stream",
     "text": [
      "\n"
     ]
    }
   ],
   "source": [
    "JPEG_QUALITY = 95\n",
    "tn_dfs = {}\n",
    "servers_list = sorted(dfs.keys())\n",
    "with open(\"thumbs.log\", \"wb\") as f:\n",
    "    for server in tqdm_notebook(servers_list):\n",
    "        #tqdm.tqdm.write(\"Processing server: {}\".format(server))\n",
    "        df = dfs[server]\n",
    "        df_thumbs = df.loc[idx[:, \"2\"], idx[:]].resample(\"30T\", level=0, label='right').apply(custom_resampler).dropna()\n",
    "\n",
    "        base_path = os.path.join(\"thumbnails\", server)\n",
    "        if not os.path.exists(base_path):\n",
    "            os.makedirs(base_path)\n",
    "\n",
    "        tn_paths = []\n",
    "        for ind, row in tqdm_notebook(df_thumbs.iterrows(), total=df_thumbs.shape[0], leave=False):\n",
    "            try:\n",
    "                array_path = row[\"path\"]\n",
    "                array_path = os.path.splitext(array_path)[0]\n",
    "\n",
    "                #\n",
    "                # Parse the time and exposure\n",
    "                #\n",
    "                tmp_parts = os.path.split(array_path)[-1].split('_')\n",
    "                time_ind = datetime.datetime(*[int(i) for i in tmp_parts[1:-1]])\n",
    "\n",
    "                img = c.seek(server, time_ind, \"2\", JPEG_QUALITY, 201)[0][0]\n",
    "                img = Image.fromarray(img)\n",
    "                tn_path = os.path.join(base_path, \"{}.jpg\".format(ind.strftime(\"%Y_%m_%d_%H_%M_%S\")))\n",
    "                img.save(tn_path)\n",
    "                tn_paths.append(tn_path)\n",
    "            except Exception, e:\n",
    "                traceback.print_exc(file=f)\n",
    "                tn_paths.append(None)\n",
    "\n",
    "        df_thumbs[\"thumbnail\"] = tn_paths\n",
    "\n",
    "        tn_dfs[server] = df_thumbs"
   ]
  },
  {
   "cell_type": "code",
   "execution_count": 12,
   "metadata": {
    "collapsed": true,
    "deletable": true,
    "editable": true
   },
   "outputs": [],
   "source": [
    "with open(\"thumbnails_downloaded.pkl\", \"wb\") as f:\n",
    "    cPickle.dump(tn_dfs, f)"
   ]
  },
  {
   "cell_type": "code",
   "execution_count": null,
   "metadata": {
    "collapsed": true
   },
   "outputs": [],
   "source": []
  }
 ],
 "metadata": {
  "anaconda-cloud": {},
  "kernelspec": {
   "display_name": "Python [default]",
   "language": "python",
   "name": "python2"
  },
  "language_info": {
   "codemirror_mode": {
    "name": "ipython",
    "version": 2
   },
   "file_extension": ".py",
   "mimetype": "text/x-python",
   "name": "python",
   "nbconvert_exporter": "python",
   "pygments_lexer": "ipython2",
   "version": "2.7.12"
  },
  "widgets": {
   "state": {
    "03e9cd8ed51046e3896a150af411620a": {
     "views": [
      {
       "cell_index": 2
      }
     ]
    },
    "06f4dce236f641cfb74bd2e30443f035": {
     "views": [
      {
       "cell_index": 12
      }
     ]
    },
    "083476f2ff2e44968b6c05a29a9dcb4e": {
     "views": [
      {
       "cell_index": 2
      }
     ]
    },
    "093e0e9073dc48cdbcb9c57e32d5ebd7": {
     "views": [
      {
       "cell_index": 2
      }
     ]
    },
    "0f94c9411c8e4f02b2bdd9f05050eb87": {
     "views": [
      {
       "cell_index": 12
      }
     ]
    },
    "1672fdbfeb174963b9c845cbe56f36be": {
     "views": [
      {
       "cell_index": 2
      }
     ]
    },
    "19cf54678e4d48c6849da65faebc706f": {
     "views": [
      {
       "cell_index": 12
      }
     ]
    },
    "19fc976939d94e0b8731c110f90cee40": {
     "views": [
      {
       "cell_index": 2
      }
     ]
    },
    "1e93d6e2ef344fbe923c9f6fe1168267": {
     "views": [
      {
       "cell_index": 2
      }
     ]
    },
    "24ac81948b474270bdcd9eb32cc287f8": {
     "views": [
      {
       "cell_index": 12
      }
     ]
    },
    "25d205c21b764f2fb7f4a6fdf90ffdb1": {
     "views": [
      {
       "cell_index": 12
      }
     ]
    },
    "2608344a045e452aa14e11e2b631a1dd": {
     "views": [
      {
       "cell_index": 2
      }
     ]
    },
    "2754dc2ade8d492aae75a69d69d04282": {
     "views": [
      {
       "cell_index": 12
      }
     ]
    },
    "28d7729d963d4f69bf1079fb6da08e28": {
     "views": [
      {
       "cell_index": 2
      }
     ]
    },
    "30d325831b3b4a508372aaa72e4e8d86": {
     "views": [
      {
       "cell_index": 12
      }
     ]
    },
    "335460ad3c394865bd27137fc399cf90": {
     "views": [
      {
       "cell_index": 12
      }
     ]
    },
    "35f43af500f44f3189759ed04a16110d": {
     "views": [
      {
       "cell_index": 2
      }
     ]
    },
    "37693ce438cf42b2a73f0aadc3cb3059": {
     "views": [
      {
       "cell_index": 12
      }
     ]
    },
    "38059c09b3dc44bb8bb56d3bd379efa3": {
     "views": [
      {
       "cell_index": 12
      }
     ]
    },
    "3e6c1752228243dca5ea9cf729992c98": {
     "views": [
      {
       "cell_index": 12
      }
     ]
    },
    "40e4ae06d4a444d1911e29a8130cba48": {
     "views": [
      {
       "cell_index": 2
      }
     ]
    },
    "439c266713c24a69b738d832c79e563e": {
     "views": [
      {
       "cell_index": 2
      }
     ]
    },
    "4558cb24682346088cfc1cbb0463f66f": {
     "views": [
      {
       "cell_index": 2
      }
     ]
    },
    "4acfb04bce994bf986b7c7cb96cd9aa7": {
     "views": [
      {
       "cell_index": 12
      }
     ]
    },
    "5743e6ea911a459a9686c56329f813e0": {
     "views": [
      {
       "cell_index": 12
      }
     ]
    },
    "588b3783af7f4acd85cf9a2ab60e1aad": {
     "views": [
      {
       "cell_index": 2
      }
     ]
    },
    "5b1a9efd9e12415f8286230296134901": {
     "views": [
      {
       "cell_index": 2
      }
     ]
    },
    "5c270394a02b47f8b335843d922f3280": {
     "views": [
      {
       "cell_index": 12
      }
     ]
    },
    "5e0b87207e7d4d758c95c545bcbcf21d": {
     "views": [
      {
       "cell_index": 12
      }
     ]
    },
    "6430ca3ef05a4213802c9701ce40219b": {
     "views": [
      {
       "cell_index": 2
      }
     ]
    },
    "696ab0c365c84184a2543b0b478e23c7": {
     "views": [
      {
       "cell_index": 12
      }
     ]
    },
    "6d7a458e7ae04a49a55273dafaa18abf": {
     "views": [
      {
       "cell_index": 12
      }
     ]
    },
    "6e7275a9e3154ac68477433032d3ecba": {
     "views": [
      {
       "cell_index": 12
      }
     ]
    },
    "6ef4857604a747909c641df3bd5a722d": {
     "views": [
      {
       "cell_index": 12
      }
     ]
    },
    "72dc3bdb96694820bca3cd7a230761bb": {
     "views": [
      {
       "cell_index": 2
      }
     ]
    },
    "771ea4b1270d4b268f8fc9e258a08e62": {
     "views": [
      {
       "cell_index": 12
      }
     ]
    },
    "7d5f6112edd54134a940802df9dc8aed": {
     "views": [
      {
       "cell_index": 12
      }
     ]
    },
    "7d7c8175cb1a4c5b831ed9e4ad37fea8": {
     "views": [
      {
       "cell_index": 12
      }
     ]
    },
    "822a62667d5c48769d981e4590dee370": {
     "views": [
      {
       "cell_index": 2
      }
     ]
    },
    "86d53c13448e481fa0bb0f64c4218cb4": {
     "views": [
      {
       "cell_index": 2
      }
     ]
    },
    "8795f1b6e23a422d8937a866f1fffd33": {
     "views": [
      {
       "cell_index": 2
      }
     ]
    },
    "88dec187308343918f8e5416faf68caf": {
     "views": [
      {
       "cell_index": 2
      }
     ]
    },
    "8b2685aa294645138d6eab0d5b9f4649": {
     "views": [
      {
       "cell_index": 12
      }
     ]
    },
    "94fdd17b16234c50adf4510ab93d87b5": {
     "views": [
      {
       "cell_index": 2
      }
     ]
    },
    "95862ee353b04d4fbff1fd2be4b7442c": {
     "views": [
      {
       "cell_index": 12
      }
     ]
    },
    "99aab4bb2a274f489a239950e92c982f": {
     "views": [
      {
       "cell_index": 2
      }
     ]
    },
    "9c1b1ac98d4844e7a14fac8c7ad18cbb": {
     "views": [
      {
       "cell_index": 12
      }
     ]
    },
    "9c5bea5506da42ab9ec7078a6333dff8": {
     "views": [
      {
       "cell_index": 2
      }
     ]
    },
    "9d00a049c1744ea2ac454a56e8989601": {
     "views": [
      {
       "cell_index": 2
      }
     ]
    },
    "a4c9fa28e9824f819fc03dcfad662b26": {
     "views": [
      {
       "cell_index": 12
      }
     ]
    },
    "a7ad883bf89644d0a1063feafebf2041": {
     "views": [
      {
       "cell_index": 12
      }
     ]
    },
    "ac6f7c5a618e423e9091adfc80098ed2": {
     "views": [
      {
       "cell_index": 2
      }
     ]
    },
    "b12c017e4f0a42c5801b03aea0d6697e": {
     "views": [
      {
       "cell_index": 2
      }
     ]
    },
    "b366c049660c4d69980b0f3affb3f30f": {
     "views": [
      {
       "cell_index": 2
      }
     ]
    },
    "b3af7bfadff842dd9aebe9e325b01d2f": {
     "views": [
      {
       "cell_index": 2
      }
     ]
    },
    "b40fdc9016f644beac9b3745ad7895b1": {
     "views": [
      {
       "cell_index": 12
      }
     ]
    },
    "b8c07a4a7eb4448d9169c7cb4bf03eb3": {
     "views": [
      {
       "cell_index": 2
      }
     ]
    },
    "bb9f63f85c854cce8b159aa0c54e0924": {
     "views": [
      {
       "cell_index": 2
      }
     ]
    },
    "bc01aaff5f6849829741e1763c87bdf8": {
     "views": [
      {
       "cell_index": 12
      }
     ]
    },
    "bd4d29d78da44b1bb9e755c34bcee2d5": {
     "views": [
      {
       "cell_index": 12
      }
     ]
    },
    "c1b02253e26548bcb2252bbbc02dc294": {
     "views": [
      {
       "cell_index": 2
      }
     ]
    },
    "c4f5e62e78684348b4a738dfe61289ab": {
     "views": [
      {
       "cell_index": 12
      }
     ]
    },
    "c72766a22fd0495ebc0786a64c8866f0": {
     "views": [
      {
       "cell_index": 2
      }
     ]
    },
    "c822d303b54b435889c12852f91f96c7": {
     "views": [
      {
       "cell_index": 12
      }
     ]
    },
    "cabb50487e484771b20e10e1ae0f66d6": {
     "views": [
      {
       "cell_index": 12
      }
     ]
    },
    "cb2eed2e83c24878b540c2db0fe51fec": {
     "views": [
      {
       "cell_index": 12
      }
     ]
    },
    "cbc493b508924c3e93d8f1f7b3badd01": {
     "views": [
      {
       "cell_index": 2
      }
     ]
    },
    "ce37e757e6b1413188ee9d679b99a356": {
     "views": [
      {
       "cell_index": 12
      }
     ]
    },
    "d596d18ee8184e4fba5c81c84888750e": {
     "views": [
      {
       "cell_index": 12
      }
     ]
    },
    "d871bcda2d244ba3b9938e2a50afc086": {
     "views": [
      {
       "cell_index": 12
      }
     ]
    },
    "d89250c01af84b05bdb3e1ac4a768ca1": {
     "views": [
      {
       "cell_index": 2
      }
     ]
    },
    "d8a367206b464ef1b1bf1035a29c602c": {
     "views": [
      {
       "cell_index": 12
      }
     ]
    },
    "d8c103d566f94b69811e9e7198ad8218": {
     "views": [
      {
       "cell_index": 2
      }
     ]
    },
    "d9b1e655e5e5450d9d91c497209799bb": {
     "views": [
      {
       "cell_index": 12
      }
     ]
    },
    "db58028f33f64d3192c2212122e78372": {
     "views": [
      {
       "cell_index": 2
      }
     ]
    },
    "dbbaff18a3be45699e9079daffd59464": {
     "views": [
      {
       "cell_index": 2
      }
     ]
    },
    "e217ae57f3f94c708d161f37222781c7": {
     "views": [
      {
       "cell_index": 12
      }
     ]
    },
    "e22d775cd9354abab1a8ac50f97c2488": {
     "views": [
      {
       "cell_index": 2
      }
     ]
    },
    "e488a96e44a849ec86e70e95bd398bc8": {
     "views": [
      {
       "cell_index": 12
      }
     ]
    },
    "e7ec4b7e471f491fa93723f422a821ed": {
     "views": [
      {
       "cell_index": 12
      }
     ]
    },
    "ec233e8e701a4663b6c303f535f04107": {
     "views": [
      {
       "cell_index": 12
      }
     ]
    },
    "ed2bbd302ce041d3bd6e1f8525a95117": {
     "views": [
      {
       "cell_index": 12
      }
     ]
    },
    "f214dfda5d224228bfb46349fdc712c7": {
     "views": [
      {
       "cell_index": 2
      }
     ]
    },
    "f2e0e963efd94fcaa9ca67bbe4c80e71": {
     "views": [
      {
       "cell_index": 2
      }
     ]
    },
    "fb549e1d84c94b1db8fb2da420446cf4": {
     "views": [
      {
       "cell_index": 12
      }
     ]
    },
    "fdf528571ab44e42a56706f35b1c3fbd": {
     "views": [
      {
       "cell_index": 12
      }
     ]
    }
   },
   "version": "1.2.0"
  }
 },
 "nbformat": 4,
 "nbformat_minor": 1
}
