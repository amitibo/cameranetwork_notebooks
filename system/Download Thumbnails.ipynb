{
 "cells": [
  {
   "cell_type": "code",
   "execution_count": 26,
   "metadata": {
    "collapsed": false
   },
   "outputs": [],
   "source": [
    "from __future__ import division\n",
    "%matplotlib inline\n",
    "import CameraNetwork\n",
    "import CameraNetwork.global_settings as gs\n",
    "import cv2\n",
    "import datetime\n",
    "import Image\n",
    "import ImageDraw\n",
    "import matplotlib.pyplot as plt\n",
    "import numpy as np\n",
    "import pandas as pd\n",
    "import time\n",
    "from tqdm import tqdm_notebook\n",
    "import traceback\n",
    "plt.rcParams['figure.figsize'] = (8.0, 8.0)"
   ]
  },
  {
   "cell_type": "code",
   "execution_count": 21,
   "metadata": {
    "collapsed": false
   },
   "outputs": [
    {
     "name": "stderr",
     "output_type": "stream",
     "text": [
      "ERROR:root:Failed retrieving proxy parameters:\n",
      "Traceback (most recent call last):\n",
      "  File \"i:\\amit\\office backup\\amit\\studies\\cameranetwork_git\\CameraNetwork\\internet.py\", line 56, in retrieve_proxy_parameters\n",
      "    response = urllib2.urlopen(req)\n",
      "  File \"C:\\Anaconda2\\lib\\urllib2.py\", line 154, in urlopen\n",
      "    return opener.open(url, data, timeout)\n",
      "  File \"C:\\Anaconda2\\lib\\urllib2.py\", line 435, in open\n",
      "    response = meth(req, response)\n",
      "  File \"C:\\Anaconda2\\lib\\urllib2.py\", line 548, in http_response\n",
      "    'http', request, response, code, msg, hdrs)\n",
      "  File \"C:\\Anaconda2\\lib\\urllib2.py\", line 473, in error\n",
      "    return self._call_chain(*args)\n",
      "  File \"C:\\Anaconda2\\lib\\urllib2.py\", line 407, in _call_chain\n",
      "    result = func(*args)\n",
      "  File \"C:\\Anaconda2\\lib\\urllib2.py\", line 556, in http_error_default\n",
      "    raise HTTPError(req.get_full_url(), code, msg, hdrs, fp)\n",
      "HTTPError: HTTP Error 404: Not Found\n",
      "\n"
     ]
    },
    {
     "name": "stdout",
     "output_type": "stream",
     "text": [
      "['109', '110', '111', '113', '115', '116', '117', '118']\n"
     ]
    }
   ],
   "source": [
    "c = CameraNetwork.CLIclient()\n",
    "proxy_params = CameraNetwork.retrieve_proxy_parameters()\n",
    "c.start(proxy_params)\n",
    "time.sleep(3)\n",
    "SERVERS = c.client_instance.servers\n",
    "print SERVERS"
   ]
  },
  {
   "cell_type": "code",
   "execution_count": 22,
   "metadata": {
    "collapsed": false
   },
   "outputs": [],
   "source": [
    "days_list = c.days(SERVERS)[1]"
   ]
  },
  {
   "cell_type": "code",
   "execution_count": 42,
   "metadata": {
    "collapsed": false
   },
   "outputs": [
    {
     "name": "stdout",
     "output_type": "stream",
     "text": [
      "\r"
     ]
    }
   ],
   "source": [
    "for server in tqdm_notebook(SERVERS, leave=False):\n",
    "    days_list = c.days(server)[1][0][\"days_list\"]\n",
    "    tmp_dfs = []\n",
    "    for day in tqdm_notebook(days_list, leave=False):\n",
    "        tmp_dfs.append(c.query(server_id=server, query_day=datetime.datetime.strptime(day, \"%Y_%m_%d\").date())[0])\n",
    "    dfs.append(pd.concat(tmp_dfs, axis=0))"
   ]
  },
  {
   "cell_type": "code",
   "execution_count": 41,
   "metadata": {
    "collapsed": false
   },
   "outputs": [
    {
     "data": {
      "text/plain": [
       "{'days_list': ['2017_04_04',\n",
       "  '2017_04_05',\n",
       "  '2017_04_06',\n",
       "  '2017_04_07',\n",
       "  '2017_04_08',\n",
       "  '2017_04_09',\n",
       "  '2017_04_10',\n",
       "  '2017_04_11',\n",
       "  '2017_04_12']}"
      ]
     },
     "execution_count": 41,
     "metadata": {},
     "output_type": "execute_result"
    }
   ],
   "source": [
    "c.days(server)[1][0]"
   ]
  },
  {
   "cell_type": "code",
   "execution_count": 28,
   "metadata": {
    "collapsed": false
   },
   "outputs": [
    {
     "data": {
      "text/plain": [
       "21"
      ]
     },
     "execution_count": 28,
     "metadata": {},
     "output_type": "execute_result"
    }
   ],
   "source": [
    "len(dfs)"
   ]
  },
  {
   "cell_type": "code",
   "execution_count": 32,
   "metadata": {
    "collapsed": false
   },
   "outputs": [
    {
     "data": {
      "text/plain": [
       "1"
      ]
     },
     "execution_count": 32,
     "metadata": {},
     "output_type": "execute_result"
    }
   ],
   "source": [
    "len(dfs[0])"
   ]
  },
  {
   "cell_type": "code",
   "execution_count": 36,
   "metadata": {
    "collapsed": false
   },
   "outputs": [
    {
     "data": {
      "text/plain": [
       "(11360, 5)"
      ]
     },
     "execution_count": 36,
     "metadata": {},
     "output_type": "execute_result"
    }
   ],
   "source": [
    "df.shape"
   ]
  },
  {
   "cell_type": "code",
   "execution_count": 37,
   "metadata": {
    "collapsed": false
   },
   "outputs": [
    {
     "data": {
      "text/html": [
       "<div>\n",
       "<table border=\"1\" class=\"dataframe\">\n",
       "  <thead>\n",
       "    <tr style=\"text-align: right;\">\n",
       "      <th></th>\n",
       "      <th></th>\n",
       "      <th>path</th>\n",
       "      <th>longitude</th>\n",
       "      <th>latitude</th>\n",
       "      <th>altitude</th>\n",
       "      <th>serial_num</th>\n",
       "    </tr>\n",
       "    <tr>\n",
       "      <th>Time</th>\n",
       "      <th>hdr</th>\n",
       "      <th></th>\n",
       "      <th></th>\n",
       "      <th></th>\n",
       "      <th></th>\n",
       "      <th></th>\n",
       "    </tr>\n",
       "  </thead>\n",
       "  <tbody>\n",
       "    <tr>\n",
       "      <th rowspan=\"4\" valign=\"top\">2017-01-25 12:27:00</th>\n",
       "      <th>0</th>\n",
       "      <td>/home/odroid/captured_images/2017_01_25/148534...</td>\n",
       "      <td>35.024963</td>\n",
       "      <td>32.775776</td>\n",
       "      <td>229.0</td>\n",
       "      <td>4102820380</td>\n",
       "    </tr>\n",
       "    <tr>\n",
       "      <th>1</th>\n",
       "      <td>/home/odroid/captured_images/2017_01_25/148534...</td>\n",
       "      <td>35.024963</td>\n",
       "      <td>32.775776</td>\n",
       "      <td>229.0</td>\n",
       "      <td>4102820380</td>\n",
       "    </tr>\n",
       "    <tr>\n",
       "      <th>2</th>\n",
       "      <td>/home/odroid/captured_images/2017_01_25/148534...</td>\n",
       "      <td>35.024963</td>\n",
       "      <td>32.775776</td>\n",
       "      <td>229.0</td>\n",
       "      <td>4102820380</td>\n",
       "    </tr>\n",
       "    <tr>\n",
       "      <th>3</th>\n",
       "      <td>/home/odroid/captured_images/2017_01_25/148534...</td>\n",
       "      <td>35.024963</td>\n",
       "      <td>32.775776</td>\n",
       "      <td>229.0</td>\n",
       "      <td>4102820380</td>\n",
       "    </tr>\n",
       "    <tr>\n",
       "      <th>2017-01-25 12:28:00</th>\n",
       "      <th>0</th>\n",
       "      <td>/home/odroid/captured_images/2017_01_25/148534...</td>\n",
       "      <td>35.024963</td>\n",
       "      <td>32.775776</td>\n",
       "      <td>229.0</td>\n",
       "      <td>4102820380</td>\n",
       "    </tr>\n",
       "  </tbody>\n",
       "</table>\n",
       "</div>"
      ],
      "text/plain": [
       "                                                                      path  \\\n",
       "Time                hdr                                                      \n",
       "2017-01-25 12:27:00 0    /home/odroid/captured_images/2017_01_25/148534...   \n",
       "                    1    /home/odroid/captured_images/2017_01_25/148534...   \n",
       "                    2    /home/odroid/captured_images/2017_01_25/148534...   \n",
       "                    3    /home/odroid/captured_images/2017_01_25/148534...   \n",
       "2017-01-25 12:28:00 0    /home/odroid/captured_images/2017_01_25/148534...   \n",
       "\n",
       "                         longitude   latitude  altitude  serial_num  \n",
       "Time                hdr                                              \n",
       "2017-01-25 12:27:00 0    35.024963  32.775776     229.0  4102820380  \n",
       "                    1    35.024963  32.775776     229.0  4102820380  \n",
       "                    2    35.024963  32.775776     229.0  4102820380  \n",
       "                    3    35.024963  32.775776     229.0  4102820380  \n",
       "2017-01-25 12:28:00 0    35.024963  32.775776     229.0  4102820380  "
      ]
     },
     "execution_count": 37,
     "metadata": {},
     "output_type": "execute_result"
    }
   ],
   "source": [
    "df.head()"
   ]
  },
  {
   "cell_type": "code",
   "execution_count": 43,
   "metadata": {
    "collapsed": false,
    "scrolled": true
   },
   "outputs": [
    {
     "name": "stdout",
     "output_type": "stream",
     "text": [
      "['109', '109L', '110', '110L', '111', '111L', '113', '113L', '114', '114L', '115', '116', '117', '118', '119', '120']\n"
     ]
    }
   ],
   "source": [
    "print c.servers_list"
   ]
  },
  {
   "cell_type": "code",
   "execution_count": null,
   "metadata": {
    "collapsed": true
   },
   "outputs": [],
   "source": [
    "xx"
   ]
  }
 ],
 "metadata": {
  "anaconda-cloud": {},
  "kernelspec": {
   "display_name": "Python [default]",
   "language": "python",
   "name": "python2"
  },
  "language_info": {
   "codemirror_mode": {
    "name": "ipython",
    "version": 2
   },
   "file_extension": ".py",
   "mimetype": "text/x-python",
   "name": "python",
   "nbconvert_exporter": "python",
   "pygments_lexer": "ipython2",
   "version": "2.7.12"
  },
  "widgets": {
   "state": {
    "07ec6b0f39754f71afb4e6c0d810cf3a": {
     "views": [
      {
       "cell_index": 3
      }
     ]
    },
    "0ab0141cc2b449bd80f4299517e288e2": {
     "views": [
      {
       "cell_index": 3
      }
     ]
    },
    "0f5cecc9904f43d698963ad46fffca25": {
     "views": [
      {
       "cell_index": 3
      }
     ]
    },
    "39d7ff1c80904d3194ea6c9ef0466a9c": {
     "views": [
      {
       "cell_index": 3
      }
     ]
    },
    "49161350c1ab48d1bcf8ea68b1bf8056": {
     "views": [
      {
       "cell_index": 3
      }
     ]
    },
    "500e55571599434d9d2faac8cc7efc46": {
     "views": [
      {
       "cell_index": 3
      }
     ]
    },
    "c539a5f080404cb2a0510ad51180c144": {
     "views": [
      {
       "cell_index": 3
      }
     ]
    },
    "c772f0478cb041df86833ee938d312b2": {
     "views": [
      {
       "cell_index": 3
      }
     ]
    },
    "efafede331ac43329307721c1159fe73": {
     "views": [
      {
       "cell_index": 3
      }
     ]
    },
    "f30864d349ed4970b40bc850ed2a42fe": {
     "views": [
      {
       "cell_index": 3
      }
     ]
    },
    "f4526b52810945da85973da0c85695c0": {
     "views": [
      {
       "cell_index": 3
      }
     ]
    },
    "fd1b8ec11df14df8a3cc1da6ae9d4e90": {
     "views": [
      {
       "cell_index": 3
      }
     ]
    }
   },
   "version": "1.2.0"
  }
 },
 "nbformat": 4,
 "nbformat_minor": 1
}
