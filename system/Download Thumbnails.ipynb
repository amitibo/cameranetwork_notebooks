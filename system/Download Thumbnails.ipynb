{
 "cells": [
  {
   "cell_type": "code",
   "execution_count": 20,
   "metadata": {
    "collapsed": false,
    "deletable": true,
    "editable": true
   },
   "outputs": [],
   "source": [
    "from __future__ import division\n",
    "%matplotlib inline\n",
    "import CameraNetwork\n",
    "import CameraNetwork.global_settings as gs\n",
    "import cv2\n",
    "import datetime\n",
    "import Image\n",
    "import ImageDraw\n",
    "import matplotlib.pyplot as plt\n",
    "import numpy as np\n",
    "import pandas as pd\n",
    "import time\n",
    "import tqdm\n",
    "from tqdm import tqdm_notebook\n",
    "import traceback\n",
    "plt.rcParams['figure.figsize'] = (8.0, 8.0)"
   ]
  },
  {
   "cell_type": "code",
   "execution_count": 6,
   "metadata": {
    "collapsed": false,
    "deletable": true,
    "editable": true
   },
   "outputs": [
    {
     "name": "stdout",
     "output_type": "stream",
     "text": [
      "['109', '109L', '110', '110L', '111', '111L', '113', '113L', '114', '114L', '115', '116', '117', '118', '119', '120']\n"
     ]
    }
   ],
   "source": [
    "c = CameraNetwork.CLIclient()\n",
    "proxy_params = CameraNetwork.retrieve_proxy_parameters()\n",
    "c.start(proxy_params)\n",
    "time.sleep(3)\n",
    "print c.client_instance.servers"
   ]
  },
  {
   "cell_type": "code",
   "execution_count": 8,
   "metadata": {
    "collapsed": false
   },
   "outputs": [
    {
     "data": {
      "text/plain": [
       "list"
      ]
     },
     "execution_count": 8,
     "metadata": {},
     "output_type": "execute_result"
    }
   ],
   "source": [
    "type(SERVERS)"
   ]
  },
  {
   "cell_type": "code",
   "execution_count": 19,
   "metadata": {
    "collapsed": false,
    "deletable": true,
    "editable": true
   },
   "outputs": [
    {
     "name": "stdout",
     "output_type": "stream",
     "text": [
      "4/|/2017_02_26:  10%|| 4/40 [00:29<04:21,  7.25s/it]                                                                                "
     ]
    },
    {
     "ename": "TimeoutError",
     "evalue": "",
     "output_type": "error",
     "traceback": [
      "\u001b[1;31m---------------------------------------------------------------------------\u001b[0m",
      "\u001b[1;31mTimeoutError\u001b[0m                              Traceback (most recent call last)",
      "\u001b[1;32m<ipython-input-19-3d111bc7f033>\u001b[0m in \u001b[0;36m<module>\u001b[1;34m()\u001b[0m\n\u001b[0;32m     10\u001b[0m         \u001b[0mtnb2\u001b[0m\u001b[1;33m.\u001b[0m\u001b[0mset_description\u001b[0m\u001b[1;33m(\u001b[0m\u001b[0mday\u001b[0m\u001b[1;33m)\u001b[0m\u001b[1;33m\u001b[0m\u001b[0m\n\u001b[0;32m     11\u001b[0m         \u001b[0mtnb2\u001b[0m\u001b[1;33m.\u001b[0m\u001b[0mrefresh\u001b[0m\u001b[1;33m(\u001b[0m\u001b[1;33m)\u001b[0m\u001b[1;33m\u001b[0m\u001b[0m\n\u001b[1;32m---> 12\u001b[1;33m         \u001b[0mtmp_dfs\u001b[0m\u001b[1;33m.\u001b[0m\u001b[0mappend\u001b[0m\u001b[1;33m(\u001b[0m\u001b[0mc\u001b[0m\u001b[1;33m.\u001b[0m\u001b[0mquery\u001b[0m\u001b[1;33m(\u001b[0m\u001b[0mserver_id\u001b[0m\u001b[1;33m=\u001b[0m\u001b[0mserver\u001b[0m\u001b[1;33m,\u001b[0m \u001b[0mquery_day\u001b[0m\u001b[1;33m=\u001b[0m\u001b[0mdatetime\u001b[0m\u001b[1;33m.\u001b[0m\u001b[0mdatetime\u001b[0m\u001b[1;33m.\u001b[0m\u001b[0mstrptime\u001b[0m\u001b[1;33m(\u001b[0m\u001b[0mday\u001b[0m\u001b[1;33m,\u001b[0m \u001b[1;34m\"%Y_%m_%d\"\u001b[0m\u001b[1;33m)\u001b[0m\u001b[1;33m.\u001b[0m\u001b[0mdate\u001b[0m\u001b[1;33m(\u001b[0m\u001b[1;33m)\u001b[0m\u001b[1;33m)\u001b[0m\u001b[1;33m[\u001b[0m\u001b[1;36m0\u001b[0m\u001b[1;33m]\u001b[0m\u001b[1;33m)\u001b[0m\u001b[1;33m\u001b[0m\u001b[0m\n\u001b[0m\u001b[0;32m     13\u001b[0m \u001b[1;33m\u001b[0m\u001b[0m\n\u001b[0;32m     14\u001b[0m     \u001b[0mdfs\u001b[0m\u001b[1;33m.\u001b[0m\u001b[0mappend\u001b[0m\u001b[1;33m(\u001b[0m\u001b[0mpd\u001b[0m\u001b[1;33m.\u001b[0m\u001b[0mconcat\u001b[0m\u001b[1;33m(\u001b[0m\u001b[0mtmp_dfs\u001b[0m\u001b[1;33m,\u001b[0m \u001b[0maxis\u001b[0m\u001b[1;33m=\u001b[0m\u001b[1;36m0\u001b[0m\u001b[1;33m)\u001b[0m\u001b[1;33m)\u001b[0m\u001b[1;33m\u001b[0m\u001b[0m\n",
      "\u001b[1;32mc:\\users\\user\\documents\\code\\cameranetwork_git\\CameraNetwork\\client.pyc\u001b[0m in \u001b[0;36mquery\u001b[1;34m(self, server_id, query_day, force)\u001b[0m\n\u001b[0;32m    447\u001b[0m             kwds=dict(\n\u001b[0;32m    448\u001b[0m                 \u001b[0mquery_date\u001b[0m\u001b[1;33m=\u001b[0m\u001b[0mquery_day\u001b[0m\u001b[1;33m,\u001b[0m\u001b[1;33m\u001b[0m\u001b[0m\n\u001b[1;32m--> 449\u001b[1;33m                 \u001b[0mforce\u001b[0m\u001b[1;33m=\u001b[0m\u001b[0mforce\u001b[0m\u001b[1;33m\u001b[0m\u001b[0m\n\u001b[0m\u001b[0;32m    450\u001b[0m             )\n\u001b[0;32m    451\u001b[0m         )\n",
      "\u001b[1;32mc:\\users\\user\\documents\\code\\cameranetwork_git\\CameraNetwork\\client.pyc\u001b[0m in \u001b[0;36msend_message\u001b[1;34m(self, servers_id, cmd, args, kwds, timeout)\u001b[0m\n\u001b[0;32m    335\u001b[0m         \u001b[0mresults\u001b[0m \u001b[1;33m=\u001b[0m \u001b[1;33m[\u001b[0m\u001b[1;33m]\u001b[0m\u001b[1;33m\u001b[0m\u001b[0m\n\u001b[0;32m    336\u001b[0m         \u001b[1;32mfor\u001b[0m \u001b[0mfuture\u001b[0m \u001b[1;32min\u001b[0m \u001b[0mfuture_list\u001b[0m\u001b[1;33m:\u001b[0m\u001b[1;33m\u001b[0m\u001b[0m\n\u001b[1;32m--> 337\u001b[1;33m             \u001b[0mresults\u001b[0m\u001b[1;33m.\u001b[0m\u001b[0mappend\u001b[0m\u001b[1;33m(\u001b[0m\u001b[0mfuture\u001b[0m\u001b[1;33m.\u001b[0m\u001b[0mresult\u001b[0m\u001b[1;33m(\u001b[0m\u001b[0mtimeout\u001b[0m\u001b[1;33m=\u001b[0m\u001b[0mtimeout\u001b[0m\u001b[1;33m)\u001b[0m\u001b[1;33m)\u001b[0m\u001b[1;33m\u001b[0m\u001b[0m\n\u001b[0m\u001b[0;32m    338\u001b[0m \u001b[1;33m\u001b[0m\u001b[0m\n\u001b[0;32m    339\u001b[0m         \u001b[0mstatuses\u001b[0m\u001b[1;33m,\u001b[0m \u001b[0mcmds\u001b[0m\u001b[1;33m,\u001b[0m \u001b[0margs_answers\u001b[0m\u001b[1;33m,\u001b[0m \u001b[0mkwds_answers\u001b[0m \u001b[1;33m=\u001b[0m \u001b[0mzip\u001b[0m\u001b[1;33m(\u001b[0m\u001b[1;33m*\u001b[0m\u001b[0mresults\u001b[0m\u001b[1;33m)\u001b[0m\u001b[1;33m\u001b[0m\u001b[0m\n",
      "\u001b[1;32mC:\\Users\\User\\Anaconda2\\lib\\site-packages\\concurrent\\futures\\_base.pyc\u001b[0m in \u001b[0;36mresult\u001b[1;34m(self, timeout)\u001b[0m\n\u001b[0;32m    403\u001b[0m                 \u001b[1;32mreturn\u001b[0m \u001b[0mself\u001b[0m\u001b[1;33m.\u001b[0m\u001b[0m__get_result\u001b[0m\u001b[1;33m(\u001b[0m\u001b[1;33m)\u001b[0m\u001b[1;33m\u001b[0m\u001b[0m\n\u001b[0;32m    404\u001b[0m             \u001b[1;32melse\u001b[0m\u001b[1;33m:\u001b[0m\u001b[1;33m\u001b[0m\u001b[0m\n\u001b[1;32m--> 405\u001b[1;33m                 \u001b[1;32mraise\u001b[0m \u001b[0mTimeoutError\u001b[0m\u001b[1;33m(\u001b[0m\u001b[1;33m)\u001b[0m\u001b[1;33m\u001b[0m\u001b[0m\n\u001b[0m\u001b[0;32m    406\u001b[0m \u001b[1;33m\u001b[0m\u001b[0m\n\u001b[0;32m    407\u001b[0m     \u001b[1;32mdef\u001b[0m \u001b[0mexception_info\u001b[0m\u001b[1;33m(\u001b[0m\u001b[0mself\u001b[0m\u001b[1;33m,\u001b[0m \u001b[0mtimeout\u001b[0m\u001b[1;33m=\u001b[0m\u001b[0mNone\u001b[0m\u001b[1;33m)\u001b[0m\u001b[1;33m:\u001b[0m\u001b[1;33m\u001b[0m\u001b[0m\n",
      "\u001b[1;31mTimeoutError\u001b[0m: "
     ]
    }
   ],
   "source": [
    "dfs = {}\n",
    "tnb1 = tqdm_notebook(c.client_instance.servers, leave=False)\n",
    "for server in tnb1:\n",
    "    tnb1.set_description(\"Server {}\".format(server))\n",
    "    tnb1.refresh()\n",
    "    days_list = c.days(server)[1][0][\"days_list\"]\n",
    "    tmp_dfs = []\n",
    "    tnb2 = tqdm_notebook(days_list, leave=False)\n",
    "    for day in tnb2:\n",
    "        try:\n",
    "            tnb2.set_description(day)\n",
    "            tnb2.refresh()\n",
    "            tmp_dfs.append(c.query(server_id=server, query_day=datetime.datetime.strptime(day, \"%Y_%m_%d\").date())[0])\n",
    "        except:\n",
    "            tqdm.write(\"Failed loading day {} of server {}\".format(day, server))\n",
    "    dfs[server] = pd.concat(tmp_dfs, axis=0)"
   ]
  },
  {
   "cell_type": "code",
   "execution_count": null,
   "metadata": {
    "collapsed": true
   },
   "outputs": [],
   "source": []
  }
 ],
 "metadata": {
  "anaconda-cloud": {},
  "kernelspec": {
   "display_name": "Python 2",
   "language": "python",
   "name": "python2"
  },
  "language_info": {
   "codemirror_mode": {
    "name": "ipython",
    "version": 2
   },
   "file_extension": ".py",
   "mimetype": "text/x-python",
   "name": "python",
   "nbconvert_exporter": "python",
   "pygments_lexer": "ipython2",
   "version": "2.7.11"
  },
  "widgets": {
   "state": {
    "07ec6b0f39754f71afb4e6c0d810cf3a": {
     "views": [
      {
       "cell_index": 3
      }
     ]
    },
    "0ab0141cc2b449bd80f4299517e288e2": {
     "views": [
      {
       "cell_index": 3
      }
     ]
    },
    "0f5cecc9904f43d698963ad46fffca25": {
     "views": [
      {
       "cell_index": 3
      }
     ]
    },
    "39d7ff1c80904d3194ea6c9ef0466a9c": {
     "views": [
      {
       "cell_index": 3
      }
     ]
    },
    "49161350c1ab48d1bcf8ea68b1bf8056": {
     "views": [
      {
       "cell_index": 3
      }
     ]
    },
    "500e55571599434d9d2faac8cc7efc46": {
     "views": [
      {
       "cell_index": 3
      }
     ]
    },
    "c539a5f080404cb2a0510ad51180c144": {
     "views": [
      {
       "cell_index": 3
      }
     ]
    },
    "c772f0478cb041df86833ee938d312b2": {
     "views": [
      {
       "cell_index": 3
      }
     ]
    },
    "efafede331ac43329307721c1159fe73": {
     "views": [
      {
       "cell_index": 3
      }
     ]
    },
    "f30864d349ed4970b40bc850ed2a42fe": {
     "views": [
      {
       "cell_index": 3
      }
     ]
    },
    "f4526b52810945da85973da0c85695c0": {
     "views": [
      {
       "cell_index": 3
      }
     ]
    },
    "fd1b8ec11df14df8a3cc1da6ae9d4e90": {
     "views": [
      {
       "cell_index": 3
      }
     ]
    }
   },
   "version": "1.2.0"
  }
 },
 "nbformat": 4,
 "nbformat_minor": 1
}
