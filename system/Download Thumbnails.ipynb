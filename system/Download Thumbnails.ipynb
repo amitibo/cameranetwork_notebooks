{
 "cells": [
  {
   "cell_type": "code",
   "execution_count": 42,
   "metadata": {
    "collapsed": false,
    "deletable": true,
    "editable": true
   },
   "outputs": [],
   "source": [
    "from __future__ import division\n",
    "%matplotlib inline\n",
    "import CameraNetwork\n",
    "import CameraNetwork.global_settings as gs\n",
    "import cPickle\n",
    "import cv2\n",
    "import datetime\n",
    "import Image\n",
    "import ImageDraw\n",
    "import matplotlib.pyplot as plt\n",
    "import numpy as np\n",
    "import os\n",
    "import pandas as pd\n",
    "import time\n",
    "import tqdm\n",
    "from tqdm import tqdm_notebook\n",
    "import traceback\n",
    "plt.rcParams['figure.figsize'] = (8.0, 8.0)\n",
    "idx = pd.IndexSlice"
   ]
  },
  {
   "cell_type": "code",
   "execution_count": 31,
   "metadata": {
    "collapsed": false,
    "deletable": true,
    "editable": true
   },
   "outputs": [
    {
     "name": "stdout",
     "output_type": "stream",
     "text": [
      "['109', '109L', '110', '110L', '111', '111L', '113', '113L', '114', '114L', '115', '116', '117', '118', '119', '120']\n"
     ]
    }
   ],
   "source": [
    "c = CameraNetwork.CLIclient()\n",
    "proxy_params = CameraNetwork.retrieve_proxy_parameters()\n",
    "c.start(proxy_params)\n",
    "time.sleep(3)\n",
    "print c.client_instance.servers"
   ]
  },
  {
   "cell_type": "code",
   "execution_count": null,
   "metadata": {
    "collapsed": false,
    "deletable": true,
    "editable": true
   },
   "outputs": [],
   "source": [
    "dfs = {}\n",
    "tnb1 = tqdm_notebook(c.client_instance.servers, leave=False)\n",
    "for server in tnb1:\n",
    "    tnb1.set_description(\"Server {}\".format(server))\n",
    "    tnb1.refresh()\n",
    "    days_list = c.days(server)[1][0][\"days_list\"]\n",
    "    tmp_dfs = []\n",
    "    tnb2 = tqdm_notebook(days_list, leave=False)\n",
    "    for day in tnb2:\n",
    "        try:\n",
    "            tnb2.set_description(day)\n",
    "            tnb2.refresh()\n",
    "            tmp_dfs.append(c.query(server_id=server, query_day=datetime.datetime.strptime(day, \"%Y_%m_%d\").date())[0])\n",
    "        except:\n",
    "            tqdm.tqdm.write(\"Failed loading day {} of server {}\".format(day, server))\n",
    "    dfs[server] = pd.concat(tmp_dfs, axis=0)"
   ]
  },
  {
   "cell_type": "code",
   "execution_count": null,
   "metadata": {
    "collapsed": false,
    "deletable": true,
    "editable": true
   },
   "outputs": [],
   "source": [
    "dfs.keys()"
   ]
  },
  {
   "cell_type": "code",
   "execution_count": null,
   "metadata": {
    "collapsed": true,
    "deletable": true,
    "editable": true
   },
   "outputs": [],
   "source": [
    "with open(\"thumbnails.pkl\", \"wb\") as f:\n",
    "    cPickle.dump(dfs, f)"
   ]
  },
  {
   "cell_type": "markdown",
   "metadata": {
    "collapsed": true,
    "deletable": true,
    "editable": true
   },
   "source": [
    "## Analyze the thumbnails database"
   ]
  },
  {
   "cell_type": "code",
   "execution_count": 2,
   "metadata": {
    "collapsed": false,
    "deletable": true,
    "editable": true
   },
   "outputs": [],
   "source": [
    "with open(\"thumbnails.pkl\", \"rb\") as f:\n",
    "    dfs = cPickle.load(f)"
   ]
  },
  {
   "cell_type": "code",
   "execution_count": 13,
   "metadata": {
    "collapsed": false,
    "deletable": true,
    "editable": true
   },
   "outputs": [
    {
     "data": {
      "text/html": [
       "<div>\n",
       "<table border=\"1\" class=\"dataframe\">\n",
       "  <thead>\n",
       "    <tr style=\"text-align: right;\">\n",
       "      <th></th>\n",
       "      <th></th>\n",
       "      <th>path</th>\n",
       "      <th>longitude</th>\n",
       "      <th>latitude</th>\n",
       "      <th>altitude</th>\n",
       "      <th>serial_num</th>\n",
       "    </tr>\n",
       "    <tr>\n",
       "      <th>Time</th>\n",
       "      <th>hdr</th>\n",
       "      <th></th>\n",
       "      <th></th>\n",
       "      <th></th>\n",
       "      <th></th>\n",
       "      <th></th>\n",
       "    </tr>\n",
       "  </thead>\n",
       "  <tbody>\n",
       "    <tr>\n",
       "      <th rowspan=\"4\" valign=\"top\">2017-01-25 12:27:00</th>\n",
       "      <th>0</th>\n",
       "      <td>/home/odroid/captured_images/2017_01_25/148534...</td>\n",
       "      <td>35.024963</td>\n",
       "      <td>32.775776</td>\n",
       "      <td>229.0</td>\n",
       "      <td>4102820380</td>\n",
       "    </tr>\n",
       "    <tr>\n",
       "      <th>1</th>\n",
       "      <td>/home/odroid/captured_images/2017_01_25/148534...</td>\n",
       "      <td>35.024963</td>\n",
       "      <td>32.775776</td>\n",
       "      <td>229.0</td>\n",
       "      <td>4102820380</td>\n",
       "    </tr>\n",
       "    <tr>\n",
       "      <th>2</th>\n",
       "      <td>/home/odroid/captured_images/2017_01_25/148534...</td>\n",
       "      <td>35.024963</td>\n",
       "      <td>32.775776</td>\n",
       "      <td>229.0</td>\n",
       "      <td>4102820380</td>\n",
       "    </tr>\n",
       "    <tr>\n",
       "      <th>3</th>\n",
       "      <td>/home/odroid/captured_images/2017_01_25/148534...</td>\n",
       "      <td>35.024963</td>\n",
       "      <td>32.775776</td>\n",
       "      <td>229.0</td>\n",
       "      <td>4102820380</td>\n",
       "    </tr>\n",
       "    <tr>\n",
       "      <th>2017-01-25 12:28:00</th>\n",
       "      <th>0</th>\n",
       "      <td>/home/odroid/captured_images/2017_01_25/148534...</td>\n",
       "      <td>35.024963</td>\n",
       "      <td>32.775776</td>\n",
       "      <td>229.0</td>\n",
       "      <td>4102820380</td>\n",
       "    </tr>\n",
       "  </tbody>\n",
       "</table>\n",
       "</div>"
      ],
      "text/plain": [
       "                                                                      path  \\\n",
       "Time                hdr                                                      \n",
       "2017-01-25 12:27:00 0    /home/odroid/captured_images/2017_01_25/148534...   \n",
       "                    1    /home/odroid/captured_images/2017_01_25/148534...   \n",
       "                    2    /home/odroid/captured_images/2017_01_25/148534...   \n",
       "                    3    /home/odroid/captured_images/2017_01_25/148534...   \n",
       "2017-01-25 12:28:00 0    /home/odroid/captured_images/2017_01_25/148534...   \n",
       "\n",
       "                         longitude   latitude  altitude  serial_num  \n",
       "Time                hdr                                              \n",
       "2017-01-25 12:27:00 0    35.024963  32.775776     229.0  4102820380  \n",
       "                    1    35.024963  32.775776     229.0  4102820380  \n",
       "                    2    35.024963  32.775776     229.0  4102820380  \n",
       "                    3    35.024963  32.775776     229.0  4102820380  \n",
       "2017-01-25 12:28:00 0    35.024963  32.775776     229.0  4102820380  "
      ]
     },
     "execution_count": 13,
     "metadata": {},
     "output_type": "execute_result"
    }
   ],
   "source": [
    "dfs[\"109\"].head()"
   ]
  },
  {
   "cell_type": "code",
   "execution_count": 21,
   "metadata": {
    "collapsed": true,
    "deletable": true,
    "editable": true
   },
   "outputs": [],
   "source": [
    "def custom_resampler(array_like):\n",
    "    if array_like.shape[0] == 0:\n",
    "        return None\n",
    "    return array_like.iloc[-1]"
   ]
  },
  {
   "cell_type": "code",
   "execution_count": 26,
   "metadata": {
    "collapsed": false,
    "deletable": true,
    "editable": true,
    "scrolled": false
   },
   "outputs": [],
   "source": [
    "df = dfs[\"109\"]\n",
    "df_thumbs = df.loc[idx[:, \"2\"], idx[:]].resample(\"30T\", level=0, label='right').apply(custom_resampler).dropna()"
   ]
  },
  {
   "cell_type": "code",
   "execution_count": 29,
   "metadata": {
    "collapsed": false,
    "deletable": true,
    "editable": true
   },
   "outputs": [
    {
     "data": {
      "text/html": [
       "<div>\n",
       "<table border=\"1\" class=\"dataframe\">\n",
       "  <thead>\n",
       "    <tr style=\"text-align: right;\">\n",
       "      <th></th>\n",
       "      <th>path</th>\n",
       "      <th>longitude</th>\n",
       "      <th>latitude</th>\n",
       "      <th>altitude</th>\n",
       "      <th>serial_num</th>\n",
       "    </tr>\n",
       "    <tr>\n",
       "      <th>Time</th>\n",
       "      <th></th>\n",
       "      <th></th>\n",
       "      <th></th>\n",
       "      <th></th>\n",
       "      <th></th>\n",
       "    </tr>\n",
       "  </thead>\n",
       "  <tbody>\n",
       "    <tr>\n",
       "      <th>2017-01-25 12:00:00</th>\n",
       "      <td>/home/odroid/captured_images/2017_01_25/148534...</td>\n",
       "      <td>35.024963</td>\n",
       "      <td>32.775776</td>\n",
       "      <td>229.0</td>\n",
       "      <td>4102820380</td>\n",
       "    </tr>\n",
       "    <tr>\n",
       "      <th>2017-01-25 12:30:00</th>\n",
       "      <td>/home/odroid/captured_images/2017_01_25/148534...</td>\n",
       "      <td>35.024963</td>\n",
       "      <td>32.775776</td>\n",
       "      <td>229.0</td>\n",
       "      <td>4102820380</td>\n",
       "    </tr>\n",
       "    <tr>\n",
       "      <th>2017-01-25 13:00:00</th>\n",
       "      <td>/home/odroid/captured_images/2017_01_25/148535...</td>\n",
       "      <td>35.024963</td>\n",
       "      <td>32.775776</td>\n",
       "      <td>229.0</td>\n",
       "      <td>4102820380</td>\n",
       "    </tr>\n",
       "    <tr>\n",
       "      <th>2017-01-25 13:30:00</th>\n",
       "      <td>/home/odroid/captured_images/2017_01_25/148535...</td>\n",
       "      <td>35.024963</td>\n",
       "      <td>32.775776</td>\n",
       "      <td>229.0</td>\n",
       "      <td>4102820380</td>\n",
       "    </tr>\n",
       "    <tr>\n",
       "      <th>2017-01-25 14:00:00</th>\n",
       "      <td>/home/odroid/captured_images/2017_01_25/148535...</td>\n",
       "      <td>35.024963</td>\n",
       "      <td>32.775776</td>\n",
       "      <td>229.0</td>\n",
       "      <td>4102820380</td>\n",
       "    </tr>\n",
       "  </tbody>\n",
       "</table>\n",
       "</div>"
      ],
      "text/plain": [
       "                                                                  path  \\\n",
       "Time                                                                     \n",
       "2017-01-25 12:00:00  /home/odroid/captured_images/2017_01_25/148534...   \n",
       "2017-01-25 12:30:00  /home/odroid/captured_images/2017_01_25/148534...   \n",
       "2017-01-25 13:00:00  /home/odroid/captured_images/2017_01_25/148535...   \n",
       "2017-01-25 13:30:00  /home/odroid/captured_images/2017_01_25/148535...   \n",
       "2017-01-25 14:00:00  /home/odroid/captured_images/2017_01_25/148535...   \n",
       "\n",
       "                     longitude   latitude  altitude  serial_num  \n",
       "Time                                                             \n",
       "2017-01-25 12:00:00  35.024963  32.775776     229.0  4102820380  \n",
       "2017-01-25 12:30:00  35.024963  32.775776     229.0  4102820380  \n",
       "2017-01-25 13:00:00  35.024963  32.775776     229.0  4102820380  \n",
       "2017-01-25 13:30:00  35.024963  32.775776     229.0  4102820380  \n",
       "2017-01-25 14:00:00  35.024963  32.775776     229.0  4102820380  "
      ]
     },
     "execution_count": 29,
     "metadata": {},
     "output_type": "execute_result"
    }
   ],
   "source": [
    "df_thumbs.head()"
   ]
  },
  {
   "cell_type": "markdown",
   "metadata": {
    "deletable": true,
    "editable": true
   },
   "source": [
    "## Download thumbnails"
   ]
  },
  {
   "cell_type": "code",
   "execution_count": null,
   "metadata": {
    "collapsed": false,
    "deletable": true,
    "editable": true,
    "scrolled": false
   },
   "outputs": [
    {
     "name": "stdout",
     "output_type": "stream",
     "text": [
      "Processing server: 109\n"
     ]
    }
   ],
   "source": [
    "JPEG_QUALITY = 95\n",
    "tn_dfs = {}\n",
    "servers_list = sorted(dfs.keys())\n",
    "for server in tqdm_notebook(servers_list):\n",
    "    tqdm.tqdm.write(\"Processing server: {}\".format(server))\n",
    "    df = dfs[server]\n",
    "    df_thumbs = df.loc[idx[:, \"2\"], idx[:]].resample(\"30T\", level=0, label='right').apply(custom_resampler).dropna()\n",
    "    \n",
    "    base_path = os.path.join(\"thumbnails\", server)\n",
    "    if not os.path.exists(base_path):\n",
    "        os.makedirs(base_path)\n",
    "\n",
    "    tn_paths = []\n",
    "    for ind, row in tqdm_notebook(df_thumbs.iterrows(), total=df_thumbs.shape[0], leave=False):\n",
    "        try:\n",
    "            array_path = df_thumbs[\"path\"].values[0]\n",
    "            timestamp = float(os.path.split(array_path)[1].split(\"_\")[0])\n",
    "            time_ind = datetime.datetime.fromtimestamp(timestamp)\n",
    "            \n",
    "            img = c.seek(server, time_ind, \"2\", JPEG_QUALITY, 201)[0][0]\n",
    "            img = Image.fromarray(img)\n",
    "            tn_path = os.path.join(base_path, \"{}.jpg\".format(ind.strftime(\"%Y_%m_%d_%H_%M_%S\")))\n",
    "            img.save(tn_path)\n",
    "            tn_paths.append(tn_path)\n",
    "        except Exception, e:\n",
    "            traceback.print_exc()\n",
    "            tn_paths.append(None)\n",
    "            raise\n",
    "\n",
    "    df_thumbs[\"thumbnail\"] = tn_paths\n",
    "    \n",
    "    tn_dfs[server] = df_thumbs\n",
    "    break"
   ]
  },
  {
   "cell_type": "code",
   "execution_count": null,
   "metadata": {
    "collapsed": true,
    "deletable": true,
    "editable": true
   },
   "outputs": [],
   "source": []
  }
 ],
 "metadata": {
  "anaconda-cloud": {},
  "kernelspec": {
   "display_name": "Python 2",
   "language": "python",
   "name": "python2"
  },
  "language_info": {
   "codemirror_mode": {
    "name": "ipython",
    "version": 2
   },
   "file_extension": ".py",
   "mimetype": "text/x-python",
   "name": "python",
   "nbconvert_exporter": "python",
   "pygments_lexer": "ipython2",
   "version": "2.7.11"
  },
  "widgets": {
   "state": {
    "08cdcbbe829147268e3e6eca19a04f60": {
     "views": [
      {
       "cell_index": 2
      }
     ]
    },
    "26692450e76d4204bd5f802d5282dbc4": {
     "views": [
      {
       "cell_index": 2
      }
     ]
    },
    "2f6cc92bca36488fabc48dbef64edc55": {
     "views": [
      {
       "cell_index": 2
      }
     ]
    },
    "35a90c38e21943308a0434176da31932": {
     "views": [
      {
       "cell_index": 2
      }
     ]
    },
    "5b470762c50d488d8aa6a34506f5f03d": {
     "views": [
      {
       "cell_index": 2
      }
     ]
    },
    "8d47c220d84449e49d3e55763a6bc61c": {
     "views": [
      {
       "cell_index": 2
      }
     ]
    },
    "bd091390be984e2f98f6f7c804ddcc21": {
     "views": [
      {
       "cell_index": 2
      }
     ]
    },
    "cd765ebe6a19413a9edf135509aec3f1": {
     "views": [
      {
       "cell_index": 2
      }
     ]
    },
    "d5ca1aaa736b4733be85d4c74a1aa40d": {
     "views": [
      {
       "cell_index": 2
      }
     ]
    }
   },
   "version": "1.2.0"
  }
 },
 "nbformat": 4,
 "nbformat_minor": 1
}
