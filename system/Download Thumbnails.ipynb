{
 "cells": [
  {
   "cell_type": "code",
   "execution_count": 1,
   "metadata": {
    "collapsed": false,
    "deletable": true,
    "editable": true
   },
   "outputs": [
    {
     "name": "stderr",
     "output_type": "stream",
     "text": [
      "i:\\amit\\office backup\\amit\\studies\\cameranetwork_git\\CameraNetwork\\transformation_matrices.py:1899: UserWarning: failed to import module _transformations\n",
      "  warnings.warn(\"failed to import module %s\" % name)\n"
     ]
    }
   ],
   "source": [
    "from __future__ import division\n",
    "%matplotlib inline\n",
    "import CameraNetwork\n",
    "import CameraNetwork.global_settings as gs\n",
    "import cPickle\n",
    "import cv2\n",
    "import datetime\n",
    "import Image\n",
    "import ImageDraw\n",
    "import matplotlib.pyplot as plt\n",
    "import numpy as np\n",
    "import os\n",
    "import pandas as pd\n",
    "import time\n",
    "import tqdm\n",
    "from tqdm import tqdm_notebook\n",
    "import traceback\n",
    "plt.rcParams['figure.figsize'] = (8.0, 8.0)\n",
    "idx = pd.IndexSlice"
   ]
  },
  {
   "cell_type": "code",
   "execution_count": 9,
   "metadata": {
    "collapsed": false,
    "deletable": true,
    "editable": true
   },
   "outputs": [
    {
     "name": "stderr",
     "output_type": "stream",
     "text": [
      "ERROR:root:Failed retrieving proxy parameters:\n",
      "Traceback (most recent call last):\n",
      "  File \"i:\\amit\\office backup\\amit\\studies\\cameranetwork_git\\CameraNetwork\\internet.py\", line 56, in retrieve_proxy_parameters\n",
      "    response = urllib2.urlopen(req)\n",
      "  File \"C:\\Anaconda2\\lib\\urllib2.py\", line 154, in urlopen\n",
      "    return opener.open(url, data, timeout)\n",
      "  File \"C:\\Anaconda2\\lib\\urllib2.py\", line 435, in open\n",
      "    response = meth(req, response)\n",
      "  File \"C:\\Anaconda2\\lib\\urllib2.py\", line 548, in http_response\n",
      "    'http', request, response, code, msg, hdrs)\n",
      "  File \"C:\\Anaconda2\\lib\\urllib2.py\", line 473, in error\n",
      "    return self._call_chain(*args)\n",
      "  File \"C:\\Anaconda2\\lib\\urllib2.py\", line 407, in _call_chain\n",
      "    result = func(*args)\n",
      "  File \"C:\\Anaconda2\\lib\\urllib2.py\", line 556, in http_error_default\n",
      "    raise HTTPError(req.get_full_url(), code, msg, hdrs, fp)\n",
      "HTTPError: HTTP Error 404: Not Found\n",
      "\n"
     ]
    },
    {
     "name": "stdout",
     "output_type": "stream",
     "text": [
      "['109', '109L', '110', '110L', '111', '111L', '112L', '113', '113L', '114L', '115', '115L', '116', '116L', '117', '118', '120']\n"
     ]
    }
   ],
   "source": [
    "c = CameraNetwork.CLIclient()\n",
    "proxy_params = CameraNetwork.retrieve_proxy_parameters()\n",
    "c.start(proxy_params)\n",
    "time.sleep(3)\n",
    "print c.client_instance.servers"
   ]
  },
  {
   "cell_type": "code",
   "execution_count": 3,
   "metadata": {
    "collapsed": false,
    "deletable": true,
    "editable": true
   },
   "outputs": [
    {
     "name": "stdout",
     "output_type": "stream",
     "text": []
    }
   ],
   "source": [
    "dfs = {}\n",
    "tnb1 = tqdm_notebook(c.client_instance.servers, leave=False)\n",
    "for server in tnb1:\n",
    "    tnb1.set_description(\"Server {}\".format(server))\n",
    "    tnb1.refresh()\n",
    "    days_list = c.days(server)[1][0][\"days_list\"]\n",
    "    tmp_dfs = []\n",
    "    tnb2 = tqdm_notebook(days_list, leave=False)\n",
    "    for day in tnb2:\n",
    "        try:\n",
    "            tnb2.set_description(day)\n",
    "            tnb2.refresh()\n",
    "            tmp_dfs.append(c.query(server_id=server, query_day=datetime.datetime.strptime(day, \"%Y_%m_%d\").date())[0])\n",
    "        except:\n",
    "            tqdm.tqdm.write(\"Failed loading day {} of server {}\".format(day, server))\n",
    "    dfs[server] = pd.concat(tmp_dfs, axis=0)"
   ]
  },
  {
   "cell_type": "code",
   "execution_count": 7,
   "metadata": {
    "collapsed": false
   },
   "outputs": [],
   "source": [
    "del dfs[\"115\"][\"longitue\"]"
   ]
  },
  {
   "cell_type": "code",
   "execution_count": 8,
   "metadata": {
    "collapsed": true,
    "deletable": true,
    "editable": true
   },
   "outputs": [],
   "source": [
    "with open(\"thumbnails.pkl\", \"wb\") as f:\n",
    "    cPickle.dump(dfs, f)"
   ]
  },
  {
   "cell_type": "markdown",
   "metadata": {
    "collapsed": true,
    "deletable": true,
    "editable": true
   },
   "source": [
    "## Analyze the thumbnails database"
   ]
  },
  {
   "cell_type": "code",
   "execution_count": 2,
   "metadata": {
    "collapsed": false,
    "deletable": true,
    "editable": true
   },
   "outputs": [],
   "source": [
    "with open(\"thumbnails.pkl\", \"rb\") as f:\n",
    "    dfs = cPickle.load(f)"
   ]
  },
  {
   "cell_type": "code",
   "execution_count": 3,
   "metadata": {
    "collapsed": false,
    "deletable": true,
    "editable": true
   },
   "outputs": [
    {
     "data": {
      "text/html": [
       "<div>\n",
       "<table border=\"1\" class=\"dataframe\">\n",
       "  <thead>\n",
       "    <tr style=\"text-align: right;\">\n",
       "      <th></th>\n",
       "      <th></th>\n",
       "      <th>path</th>\n",
       "      <th>longitude</th>\n",
       "      <th>latitude</th>\n",
       "      <th>altitude</th>\n",
       "      <th>serial_num</th>\n",
       "    </tr>\n",
       "    <tr>\n",
       "      <th>Time</th>\n",
       "      <th>hdr</th>\n",
       "      <th></th>\n",
       "      <th></th>\n",
       "      <th></th>\n",
       "      <th></th>\n",
       "      <th></th>\n",
       "    </tr>\n",
       "  </thead>\n",
       "  <tbody>\n",
       "    <tr>\n",
       "      <th rowspan=\"4\" valign=\"top\">2017-01-25 12:27:00</th>\n",
       "      <th>0</th>\n",
       "      <td>/home/odroid/captured_images/2017_01_25/148534...</td>\n",
       "      <td>35.024963</td>\n",
       "      <td>32.775776</td>\n",
       "      <td>229.0</td>\n",
       "      <td>4102820380</td>\n",
       "    </tr>\n",
       "    <tr>\n",
       "      <th>1</th>\n",
       "      <td>/home/odroid/captured_images/2017_01_25/148534...</td>\n",
       "      <td>35.024963</td>\n",
       "      <td>32.775776</td>\n",
       "      <td>229.0</td>\n",
       "      <td>4102820380</td>\n",
       "    </tr>\n",
       "    <tr>\n",
       "      <th>2</th>\n",
       "      <td>/home/odroid/captured_images/2017_01_25/148534...</td>\n",
       "      <td>35.024963</td>\n",
       "      <td>32.775776</td>\n",
       "      <td>229.0</td>\n",
       "      <td>4102820380</td>\n",
       "    </tr>\n",
       "    <tr>\n",
       "      <th>3</th>\n",
       "      <td>/home/odroid/captured_images/2017_01_25/148534...</td>\n",
       "      <td>35.024963</td>\n",
       "      <td>32.775776</td>\n",
       "      <td>229.0</td>\n",
       "      <td>4102820380</td>\n",
       "    </tr>\n",
       "    <tr>\n",
       "      <th>2017-01-25 12:28:00</th>\n",
       "      <th>0</th>\n",
       "      <td>/home/odroid/captured_images/2017_01_25/148534...</td>\n",
       "      <td>35.024963</td>\n",
       "      <td>32.775776</td>\n",
       "      <td>229.0</td>\n",
       "      <td>4102820380</td>\n",
       "    </tr>\n",
       "  </tbody>\n",
       "</table>\n",
       "</div>"
      ],
      "text/plain": [
       "                                                                      path  \\\n",
       "Time                hdr                                                      \n",
       "2017-01-25 12:27:00 0    /home/odroid/captured_images/2017_01_25/148534...   \n",
       "                    1    /home/odroid/captured_images/2017_01_25/148534...   \n",
       "                    2    /home/odroid/captured_images/2017_01_25/148534...   \n",
       "                    3    /home/odroid/captured_images/2017_01_25/148534...   \n",
       "2017-01-25 12:28:00 0    /home/odroid/captured_images/2017_01_25/148534...   \n",
       "\n",
       "                         longitude   latitude  altitude  serial_num  \n",
       "Time                hdr                                              \n",
       "2017-01-25 12:27:00 0    35.024963  32.775776     229.0  4102820380  \n",
       "                    1    35.024963  32.775776     229.0  4102820380  \n",
       "                    2    35.024963  32.775776     229.0  4102820380  \n",
       "                    3    35.024963  32.775776     229.0  4102820380  \n",
       "2017-01-25 12:28:00 0    35.024963  32.775776     229.0  4102820380  "
      ]
     },
     "execution_count": 3,
     "metadata": {},
     "output_type": "execute_result"
    }
   ],
   "source": [
    "dfs[\"109\"].head()"
   ]
  },
  {
   "cell_type": "code",
   "execution_count": 4,
   "metadata": {
    "collapsed": true,
    "deletable": true,
    "editable": true
   },
   "outputs": [],
   "source": [
    "def custom_resampler(array_like):\n",
    "    if array_like.shape[0] == 0:\n",
    "        return None\n",
    "    return array_like.iloc[-1]"
   ]
  },
  {
   "cell_type": "code",
   "execution_count": 5,
   "metadata": {
    "collapsed": false,
    "deletable": true,
    "editable": true,
    "scrolled": false
   },
   "outputs": [],
   "source": [
    "df = dfs[\"109\"]\n",
    "df_thumbs = df.loc[idx[:, \"2\"], idx[:]].resample(\"30T\", level=0, label='right').apply(custom_resampler).dropna()"
   ]
  },
  {
   "cell_type": "code",
   "execution_count": 6,
   "metadata": {
    "collapsed": false,
    "deletable": true,
    "editable": true
   },
   "outputs": [
    {
     "data": {
      "text/html": [
       "<div>\n",
       "<table border=\"1\" class=\"dataframe\">\n",
       "  <thead>\n",
       "    <tr style=\"text-align: right;\">\n",
       "      <th></th>\n",
       "      <th>path</th>\n",
       "      <th>longitude</th>\n",
       "      <th>latitude</th>\n",
       "      <th>altitude</th>\n",
       "      <th>serial_num</th>\n",
       "    </tr>\n",
       "    <tr>\n",
       "      <th>Time</th>\n",
       "      <th></th>\n",
       "      <th></th>\n",
       "      <th></th>\n",
       "      <th></th>\n",
       "      <th></th>\n",
       "    </tr>\n",
       "  </thead>\n",
       "  <tbody>\n",
       "    <tr>\n",
       "      <th>2017-01-25 12:30:00</th>\n",
       "      <td>/home/odroid/captured_images/2017_01_25/148534...</td>\n",
       "      <td>35.024963</td>\n",
       "      <td>32.775776</td>\n",
       "      <td>229.0</td>\n",
       "      <td>4102820380</td>\n",
       "    </tr>\n",
       "    <tr>\n",
       "      <th>2017-01-25 13:00:00</th>\n",
       "      <td>/home/odroid/captured_images/2017_01_25/148534...</td>\n",
       "      <td>35.024963</td>\n",
       "      <td>32.775776</td>\n",
       "      <td>229.0</td>\n",
       "      <td>4102820380</td>\n",
       "    </tr>\n",
       "    <tr>\n",
       "      <th>2017-01-25 13:30:00</th>\n",
       "      <td>/home/odroid/captured_images/2017_01_25/148535...</td>\n",
       "      <td>35.024963</td>\n",
       "      <td>32.775776</td>\n",
       "      <td>229.0</td>\n",
       "      <td>4102820380</td>\n",
       "    </tr>\n",
       "    <tr>\n",
       "      <th>2017-01-25 14:00:00</th>\n",
       "      <td>/home/odroid/captured_images/2017_01_25/148535...</td>\n",
       "      <td>35.024963</td>\n",
       "      <td>32.775776</td>\n",
       "      <td>229.0</td>\n",
       "      <td>4102820380</td>\n",
       "    </tr>\n",
       "    <tr>\n",
       "      <th>2017-01-25 14:30:00</th>\n",
       "      <td>/home/odroid/captured_images/2017_01_25/148535...</td>\n",
       "      <td>35.024963</td>\n",
       "      <td>32.775776</td>\n",
       "      <td>229.0</td>\n",
       "      <td>4102820380</td>\n",
       "    </tr>\n",
       "  </tbody>\n",
       "</table>\n",
       "</div>"
      ],
      "text/plain": [
       "                                                                  path  \\\n",
       "Time                                                                     \n",
       "2017-01-25 12:30:00  /home/odroid/captured_images/2017_01_25/148534...   \n",
       "2017-01-25 13:00:00  /home/odroid/captured_images/2017_01_25/148534...   \n",
       "2017-01-25 13:30:00  /home/odroid/captured_images/2017_01_25/148535...   \n",
       "2017-01-25 14:00:00  /home/odroid/captured_images/2017_01_25/148535...   \n",
       "2017-01-25 14:30:00  /home/odroid/captured_images/2017_01_25/148535...   \n",
       "\n",
       "                     longitude   latitude  altitude  serial_num  \n",
       "Time                                                             \n",
       "2017-01-25 12:30:00  35.024963  32.775776     229.0  4102820380  \n",
       "2017-01-25 13:00:00  35.024963  32.775776     229.0  4102820380  \n",
       "2017-01-25 13:30:00  35.024963  32.775776     229.0  4102820380  \n",
       "2017-01-25 14:00:00  35.024963  32.775776     229.0  4102820380  \n",
       "2017-01-25 14:30:00  35.024963  32.775776     229.0  4102820380  "
      ]
     },
     "execution_count": 6,
     "metadata": {},
     "output_type": "execute_result"
    }
   ],
   "source": [
    "df_thumbs.head()"
   ]
  },
  {
   "cell_type": "markdown",
   "metadata": {
    "deletable": true,
    "editable": true
   },
   "source": [
    "## Download thumbnails"
   ]
  },
  {
   "cell_type": "code",
   "execution_count": null,
   "metadata": {
    "collapsed": false,
    "deletable": true,
    "editable": true,
    "scrolled": false
   },
   "outputs": [
    {
     "name": "stdout",
     "output_type": "stream",
     "text": [
      "Processing server: 109\n"
     ]
    }
   ],
   "source": [
    "JPEG_QUALITY = 95\n",
    "tn_dfs = {}\n",
    "servers_list = sorted(dfs.keys())\n",
    "for server in tqdm_notebook(servers_list):\n",
    "    tqdm.tqdm.write(\"Processing server: {}\".format(server))\n",
    "    df = dfs[server]\n",
    "    df_thumbs = df.loc[idx[:, \"2\"], idx[:]].resample(\"30T\", level=0, label='right').apply(custom_resampler).dropna()\n",
    "    \n",
    "    base_path = os.path.join(\"thumbnails\", server)\n",
    "    if not os.path.exists(base_path):\n",
    "        os.makedirs(base_path)\n",
    "\n",
    "    tn_paths = []\n",
    "    for ind, row in tqdm_notebook(df_thumbs.iterrows(), total=df_thumbs.shape[0], leave=False):\n",
    "        try:\n",
    "            array_path = row[\"path\"]\n",
    "            array_path = os.path.splitext(array_path)[0]\n",
    "\n",
    "            #\n",
    "            # Parse the time and exposure\n",
    "            #\n",
    "            tmp_parts = os.path.split(array_path)[-1].split('_')\n",
    "            time_ind = datetime.datetime(*[int(i) for i in tmp_parts[1:-1]])\n",
    "\n",
    "            img = c.seek(server, time_ind, \"2\", JPEG_QUALITY, 201)[0][0]\n",
    "            img = Image.fromarray(img)\n",
    "            tn_path = os.path.join(base_path, \"{}.jpg\".format(ind.strftime(\"%Y_%m_%d_%H_%M_%S\")))\n",
    "            img.save(tn_path)\n",
    "            tn_paths.append(tn_path)\n",
    "        except Exception, e:\n",
    "            traceback.print_exc()\n",
    "            tn_paths.append(None)\n",
    "            raise\n",
    "\n",
    "    df_thumbs[\"thumbnail\"] = tn_paths\n",
    "    \n",
    "    tn_dfs[server] = df_thumbs"
   ]
  },
  {
   "cell_type": "code",
   "execution_count": null,
   "metadata": {
    "collapsed": true,
    "deletable": true,
    "editable": true
   },
   "outputs": [],
   "source": [
    "with open(\"thumbnails_downloaded.pkl\", \"wb\") as f:\n",
    "    cPickle.dump(tn_dfs, f)"
   ]
  },
  {
   "cell_type": "code",
   "execution_count": null,
   "metadata": {
    "collapsed": true
   },
   "outputs": [],
   "source": []
  }
 ],
 "metadata": {
  "anaconda-cloud": {},
  "kernelspec": {
   "display_name": "Python [default]",
   "language": "python",
   "name": "python2"
  },
  "language_info": {
   "codemirror_mode": {
    "name": "ipython",
    "version": 2
   },
   "file_extension": ".py",
   "mimetype": "text/x-python",
   "name": "python",
   "nbconvert_exporter": "python",
   "pygments_lexer": "ipython2",
   "version": "2.7.12"
  },
  "widgets": {
   "state": {
    "11ce04de4a2f4e75980abf8927bcd1c0": {
     "views": [
      {
       "cell_index": 2
      }
     ]
    },
    "1d8deea96d2f412a97b38fe11b6157a5": {
     "views": [
      {
       "cell_index": 2
      }
     ]
    },
    "24ac81948b474270bdcd9eb32cc287f8": {
     "views": [
      {
       "cell_index": 12
      }
     ]
    },
    "2754dc2ade8d492aae75a69d69d04282": {
     "views": [
      {
       "cell_index": 12
      }
     ]
    },
    "37693ce438cf42b2a73f0aadc3cb3059": {
     "views": [
      {
       "cell_index": 12
      }
     ]
    },
    "40e4ae06d4a444d1911e29a8130cba48": {
     "views": [
      {
       "cell_index": 2
      }
     ]
    },
    "549b99e355b64dbf8d74399e7bacb39b": {
     "views": [
      {
       "cell_index": 2
      }
     ]
    },
    "560bc3d7145440df9764d9ec0204066b": {
     "views": [
      {
       "cell_index": 2
      }
     ]
    },
    "5c270394a02b47f8b335843d922f3280": {
     "views": [
      {
       "cell_index": 12
      }
     ]
    },
    "68bcd066236a4a019d303b8c6496fe66": {
     "views": [
      {
       "cell_index": 2
      }
     ]
    },
    "75b9ad87827442cead77c6f9b45a9da5": {
     "views": [
      {
       "cell_index": 2
      }
     ]
    },
    "771ea4b1270d4b268f8fc9e258a08e62": {
     "views": [
      {
       "cell_index": 12
      }
     ]
    },
    "7871ede0d7cb45cca3bd2ce5ff699166": {
     "views": [
      {
       "cell_index": 2
      }
     ]
    },
    "7d5f6112edd54134a940802df9dc8aed": {
     "views": [
      {
       "cell_index": 12
      }
     ]
    },
    "99aab4bb2a274f489a239950e92c982f": {
     "views": [
      {
       "cell_index": 2
      }
     ]
    },
    "9d00a049c1744ea2ac454a56e8989601": {
     "views": [
      {
       "cell_index": 2
      }
     ]
    },
    "a0851db7dff547d3b6c590c89f88c4d2": {
     "views": [
      {
       "cell_index": 2
      }
     ]
    },
    "a76dd27e11e74586a90fda12e41d9c09": {
     "views": [
      {
       "cell_index": 2
      }
     ]
    },
    "ac6f7c5a618e423e9091adfc80098ed2": {
     "views": [
      {
       "cell_index": 2
      }
     ]
    },
    "b3af7bfadff842dd9aebe9e325b01d2f": {
     "views": [
      {
       "cell_index": 2
      }
     ]
    },
    "b8a78839ab0e461e8a15291f3b96dbc8": {
     "views": [
      {
       "cell_index": 12
      }
     ]
    },
    "bb9f63f85c854cce8b159aa0c54e0924": {
     "views": [
      {
       "cell_index": 2
      }
     ]
    },
    "c4f5e62e78684348b4a738dfe61289ab": {
     "views": [
      {
       "cell_index": 12
      }
     ]
    },
    "cb2eed2e83c24878b540c2db0fe51fec": {
     "views": [
      {
       "cell_index": 12
      }
     ]
    },
    "cfe214964fd7476b830f036996fd9c65": {
     "views": [
      {
       "cell_index": 2
      }
     ]
    },
    "d596d18ee8184e4fba5c81c84888750e": {
     "views": [
      {
       "cell_index": 12
      }
     ]
    },
    "db58028f33f64d3192c2212122e78372": {
     "views": [
      {
       "cell_index": 2
      }
     ]
    },
    "e22d775cd9354abab1a8ac50f97c2488": {
     "views": [
      {
       "cell_index": 2
      }
     ]
    },
    "f2e0e963efd94fcaa9ca67bbe4c80e71": {
     "views": [
      {
       "cell_index": 2
      }
     ]
    },
    "fb549e1d84c94b1db8fb2da420446cf4": {
     "views": [
      {
       "cell_index": 12
      }
     ]
    }
   },
   "version": "1.2.0"
  }
 },
 "nbformat": 4,
 "nbformat_minor": 1
}
