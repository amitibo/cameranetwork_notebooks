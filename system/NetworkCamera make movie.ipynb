{
 "cells": [
  {
   "cell_type": "code",
   "execution_count": 1,
   "metadata": {
    "collapsed": false
   },
   "outputs": [
    {
     "name": "stderr",
     "output_type": "stream",
     "text": [
      "c:\\users\\user\\documents\\code\\cameranetwork_git\\CameraNetwork\\transformation_matrices.py:1899: UserWarning: failed to import module _transformations\n",
      "  warnings.warn(\"failed to import module %s\" % name)\n"
     ]
    }
   ],
   "source": [
    "from __future__ import division\n",
    "%matplotlib inline\n",
    "import matplotlib.pyplot as plt\n",
    "import numpy as np\n",
    "plt.rcParams['figure.figsize'] = (8.0, 8.0)\n",
    "import CameraNetwork\n",
    "import CameraNetwork.global_settings as gs\n",
    "import cv2\n",
    "import Image\n",
    "import ImageDraw\n",
    "import time\n",
    "from tqdm import tqdm_notebook\n",
    "import traceback"
   ]
  },
  {
   "cell_type": "code",
   "execution_count": 2,
   "metadata": {
    "collapsed": false
   },
   "outputs": [
    {
     "name": "stdout",
     "output_type": "stream",
     "text": [
      "['109', '109L', '110', '110L', '111', '111L', '112', '113L', '114L', '115', '116', '116L', '117L', '118', '118L', '119', '119L', '120', '219', '999']\n"
     ]
    }
   ],
   "source": [
    "c = CameraNetwork.CLIclient()\n",
    "proxy_params = CameraNetwork.retrieve_proxy_parameters()\n",
    "c.start(proxy_params)\n",
    "time.sleep(3)\n",
    "SERVERS = c.client_instance.servers\n",
    "print SERVERS"
   ]
  },
  {
   "cell_type": "code",
   "execution_count": 14,
   "metadata": {
    "collapsed": true
   },
   "outputs": [],
   "source": [
    "CAM = 219\n",
    "DAY = 15\n",
    "MONTH = 6\n",
    "HDR = '3'"
   ]
  },
  {
   "cell_type": "code",
   "execution_count": 5,
   "metadata": {
    "collapsed": false
   },
   "outputs": [
    {
     "name": "stdout",
     "output_type": "stream",
     "text": [
      "Camera 219 captured 1058 images on this day.\n"
     ]
    }
   ],
   "source": [
    "df = c.query('{}'.format(CAM), '{:02}/{}/2017'.format(MONTH, DAY))[0]\n",
    "print(\"Camera {} captured {} images on this day.\".format(CAM, df.shape[0]))"
   ]
  },
  {
   "cell_type": "code",
   "execution_count": 17,
   "metadata": {
    "collapsed": false
   },
   "outputs": [
    {
     "data": {
      "application/vnd.jupyter.widget-view+json": {
       "model_id": "d34e0557cfda4c48ae3da94f6a238226"
      }
     },
     "metadata": {},
     "output_type": "display_data"
    },
    {
     "name": "stdout",
     "output_type": "stream",
     "text": [
      "\n"
     ]
    },
    {
     "name": "stderr",
     "output_type": "stream",
     "text": [
      "Exception in thread Thread-8:\n",
      "Traceback (most recent call last):\n",
      "  File \"C:\\Users\\User\\Anaconda2\\lib\\threading.py\", line 801, in __bootstrap_inner\n",
      "    self.run()\n",
      "  File \"C:\\Users\\User\\Anaconda2\\lib\\site-packages\\tqdm\\_tqdm.py\", line 103, in run\n",
      "    for instance in self.tqdm_cls._instances:\n",
      "  File \"C:\\Users\\User\\Anaconda2\\lib\\_weakrefset.py\", line 60, in __iter__\n",
      "    for itemref in self.data:\n",
      "RuntimeError: Set changed size during iteration\n",
      "\n"
     ]
    }
   ],
   "source": [
    "JPEG_QUALITY = 100\n",
    "video = cv2.VideoWriter(\n",
    "    'video_{}_2017_{:02}_{:02}_{}.avi'.format(CAM, MONTH, DAY, HDR),\n",
    "    -1, 6, (800, 600)\n",
    ")\n",
    "\n",
    "for ind in tqdm_notebook(df.loc[(slice(None), HDR), :].index):\n",
    "    try:\n",
    "        img = c.seek('{}'.format(CAM), ind[0], ind[1], JPEG_QUALITY, 301)[0][0]\n",
    "        img = Image.fromarray(img)\n",
    "        draw = ImageDraw.Draw(img)\n",
    "        draw.text(\n",
    "            (0, 0),\n",
    "            ind[0].time().strftime(\"%H:%M:%S\"),\n",
    "            (255,255,255)\n",
    "        )\n",
    "\n",
    "        video.write(cv2.cvtColor(np.array(img), cv2.COLOR_RGB2BGR))\n",
    "    except Exception, e:\n",
    "        traceback.print_exc()\n",
    "        \n",
    "video.release()"
   ]
  },
  {
   "cell_type": "code",
   "execution_count": 16,
   "metadata": {
    "collapsed": true
   },
   "outputs": [],
   "source": [
    "video.release()"
   ]
  },
  {
   "cell_type": "code",
   "execution_count": null,
   "metadata": {
    "collapsed": true
   },
   "outputs": [],
   "source": []
  }
 ],
 "metadata": {
  "kernelspec": {
   "display_name": "Python 2",
   "language": "python",
   "name": "python2"
  },
  "language_info": {
   "codemirror_mode": {
    "name": "ipython",
    "version": 2
   },
   "file_extension": ".py",
   "mimetype": "text/x-python",
   "name": "python",
   "nbconvert_exporter": "python",
   "pygments_lexer": "ipython2",
   "version": "2.7.11"
  }
 },
 "nbformat": 4,
 "nbformat_minor": 0
}
