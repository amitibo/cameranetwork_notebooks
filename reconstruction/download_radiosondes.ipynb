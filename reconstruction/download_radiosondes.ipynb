{
 "cells": [
  {
   "cell_type": "code",
   "execution_count": 30,
   "metadata": {
    "collapsed": true
   },
   "outputs": [],
   "source": [
    "import numpy as np\n",
    "import pandas as pd\n",
    "import requests"
   ]
  },
  {
   "cell_type": "code",
   "execution_count": 43,
   "metadata": {
    "collapsed": false
   },
   "outputs": [],
   "source": [
    "BASE_ADDRESS = r'http://weather.uwyo.edu/cgi-bin/sounding?region=mideast&TYPE=TEXT%3ALIST&YEAR=2016&MONTH=10&FROM={}11&TO={}12&STNM=40179'\n",
    "COLUMNS = ('PRES', 'HGHT', 'TEMP', 'DWPT', 'RELH', 'MIXR', 'DRCT', 'SKNT', 'THTA', 'THTE', 'THTV')\n",
    "for d in range(13, 32):\n",
    "    data = []\n",
    "    r = requests.get(BASE_ADDRESS.format(d, d))\n",
    "    for line in r.text.split('\\n')[10:]:\n",
    "        if line.startswith(u'</PRE>'):\n",
    "            break\n",
    "        data.append([float(s) for s in line.split()])\n",
    "    df = pd.DataFrame(data, columns=COLUMNS)\n",
    "    df.to_csv('../data/radiosondes/2016_oct/{:02}.csv'.format(d))"
   ]
  },
  {
   "cell_type": "code",
   "execution_count": null,
   "metadata": {
    "collapsed": true
   },
   "outputs": [],
   "source": []
  }
 ],
 "metadata": {
  "anaconda-cloud": {},
  "kernelspec": {
   "display_name": "Python [default]",
   "language": "python",
   "name": "python2"
  },
  "language_info": {
   "codemirror_mode": {
    "name": "ipython",
    "version": 2
   },
   "file_extension": ".py",
   "mimetype": "text/x-python",
   "name": "python",
   "nbconvert_exporter": "python",
   "pygments_lexer": "ipython2",
   "version": "2.7.12"
  }
 },
 "nbformat": 4,
 "nbformat_minor": 1
}
