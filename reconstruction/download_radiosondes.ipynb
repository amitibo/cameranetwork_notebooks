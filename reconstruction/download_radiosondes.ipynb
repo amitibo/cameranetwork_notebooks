{
 "cells": [
  {
   "cell_type": "code",
   "execution_count": 5,
   "metadata": {
    "collapsed": true
   },
   "outputs": [],
   "source": [
    "import numpy as np\n",
    "import os\n",
    "import pandas as pd\n",
    "import pkg_resources\n",
    "import requests"
   ]
  },
  {
   "cell_type": "code",
   "execution_count": 9,
   "metadata": {
    "collapsed": false
   },
   "outputs": [],
   "source": [
    "YEAR = 2017\n",
    "MONTH = 2\n",
    "start_day = 1\n",
    "end_day = 31\n",
    "\n",
    "BASE_PATH = pkg_resources.resource_filename(\n",
    "    \"CameraNetwork\",\n",
    "    \"../data/radiosondes/{year}_{month}\".format(year=YEAR, month=MONTH)\n",
    ")\n",
    "if not os.path.isdir(BASE_PATH):\n",
    "    os.makedirs(BASE_PATH)"
   ]
  },
  {
   "cell_type": "code",
   "execution_count": 4,
   "metadata": {
    "collapsed": false
   },
   "outputs": [],
   "source": [
    "BASE_ADDRESS = r\"http://weather.uwyo.edu/cgi-bin/sounding?region=mideast&TYPE=TEXT%3ALIST&\"\n",
    "BASE_ADDRESS += r\"YEAR={year}&MONTH={month}&FROM={day}11&TO={day}12&STNM=40179'\n",
    "COLUMNS = ('PRES', 'HGHT', 'TEMP', 'DWPT', 'RELH', 'MIXR', 'DRCT', 'SKNT', 'THTA', 'THTE', 'THTV')\n",
    "for d in range(start_day, end_day+1):\n",
    "    data = []\n",
    "    try:\n",
    "        print(\"Fetching date {}/{}/{}\".format(d, MONTH, YEAR))\n",
    "        r = requests.get(BASE_ADDRESS.format(year=YEAR, month=MONTH, day=d))\n",
    "        for line in r.text.split('\\n')[10:]:\n",
    "            if line.startswith(u'</PRE>'):\n",
    "                break\n",
    "            data.append([float(s) for s in line.split()])\n",
    "        df = pd.DataFrame(data, columns=COLUMNS)\n",
    "        df.to_csv(os.path.join(BASE_PATH, '{day:02}.csv'.format(day=d)))\n",
    "    except:\n",
    "        print (\"Skipping day {}\".format(d))"
   ]
  }
 ],
 "metadata": {
  "anaconda-cloud": {},
  "kernelspec": {
   "display_name": "Python 2",
   "language": "python",
   "name": "python2"
  },
  "language_info": {
   "codemirror_mode": {
    "name": "ipython",
    "version": 2
   },
   "file_extension": ".py",
   "mimetype": "text/x-python",
   "name": "python",
   "nbconvert_exporter": "python",
   "pygments_lexer": "ipython2",
   "version": "2.7.11"
  }
 },
 "nbformat": 4,
 "nbformat_minor": 1
}
