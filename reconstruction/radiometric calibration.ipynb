{
 "cells": [
  {
   "cell_type": "code",
   "execution_count": null,
   "metadata": {
    "collapsed": false
   },
   "outputs": [],
   "source": [
    "from __future__ import division\n",
    "%matplotlib inline\n",
    "from datetime import datetime\n",
    "import glob\n",
    "import matplotlib.pyplot as plt\n",
    "import numpy as np\n",
    "plt.rcParams['figure.figsize'] = (8.0, 8.0)\n",
    "import pkg_resources\n",
    "import time\n",
    "\n",
    "import CameraNetwork\n",
    "import CameraNetwork.global_settings as gs\n",
    "import CameraNetwork.sunphotometer as spm"
   ]
  },
  {
   "cell_type": "code",
   "execution_count": null,
   "metadata": {
    "collapsed": false
   },
   "outputs": [],
   "source": [
    "client = CameraNetwork.CLIclient()\n",
    "proxy_params = CameraNetwork.retrieve_proxy_parameters()\n",
    "client.start(proxy_params)\n",
    "time.sleep(3)\n",
    "SERVERS = client.client_instance.servers"
   ]
  },
  {
   "cell_type": "markdown",
   "metadata": {},
   "source": [
    "## Set of servers and date"
   ]
  },
  {
   "cell_type": "code",
   "execution_count": null,
   "metadata": {
    "collapsed": true
   },
   "outputs": [],
   "source": [
    "SERVERS = [\"109\", \"110\", \"111\", \"112\", \"113\", \"114\", \"115\", \"116\"]\n",
    "extrinsic_day = datetime(2017, 3, 5)\n",
    "radiometric_day = datetime(2017, 3, 5)"
   ]
  },
  {
   "cell_type": "markdown",
   "metadata": {},
   "source": [
    "## Do extrinsic calibration for the specific day"
   ]
  },
  {
   "cell_type": "code",
   "execution_count": null,
   "metadata": {
    "collapsed": false
   },
   "outputs": [],
   "source": [
    "results = client.extrinsic(SERVERS, extrinsic_day, 0.05, True)"
   ]
  },
  {
   "cell_type": "markdown",
   "metadata": {},
   "source": [
    "## Do radiometric calibration for the specific day"
   ]
  },
  {
   "cell_type": "code",
   "execution_count": null,
   "metadata": {
    "collapsed": false
   },
   "outputs": [],
   "source": [
    "base_path = pkg_resources.resource_filename(\n",
    "    'CameraNetwork',\n",
    "    '../data/aeronet/{}/*.alm'.format(radiometric_day.strftime(\"%Y_%m\"))\n",
    ")\n",
    "path = glob.glob(base_path)\n",
    "df = spm.parseSunPhotoMeter(path[0])\n",
    "spm_df = df[radiometric_day.strftime(\"%Y-%m-%d\")]\n",
    "spm_df = [spm_df[spm_df[\"Wavelength(um)\"]==wl] for wl in (0.6744, 0.5000, 0.4405)]\n",
    "items = [d.strftime(\"%H:%M:%S\") for d in spm_df[0].index]\n",
    "items"
   ]
  },
  {
   "cell_type": "code",
   "execution_count": null,
   "metadata": {
    "collapsed": false
   },
   "outputs": [],
   "source": [
    "results = client.radiometric(SERVERS, radiometric_day, 4, 1, True)"
   ]
  },
  {
   "cell_type": "code",
   "execution_count": null,
   "metadata": {
    "collapsed": false
   },
   "outputs": [],
   "source": [
    "f, ax = plt.subplots(ncols=3, nrows=len(SERVERS), figsize=(9, len(SERVERS)*3))\n",
    "for i, server_id in enumerate(SERVERS):\n",
    "    angles = results[1][i][\"angles\"]\n",
    "    estimations = results[1][i][\"estimations\"]\n",
    "    measurements = results[1][i][\"measurements\"]\n",
    "    ratios = results[1][i][\"ratios\"]\n",
    "    print server_id, ratios\n",
    "    for j in range(3):\n",
    "        ax[i, j].plot(angles, estimations[j], label=\"estim\")\n",
    "        ax[i, j].plot(angles, measurements[j], label=\"meas\")\n",
    "        ax[i, j].legend()\n",
    "        ax[i, j].set_title(server_id)"
   ]
  },
  {
   "cell_type": "markdown",
   "metadata": {},
   "source": [
    "## Get images of clear sky"
   ]
  },
  {
   "cell_type": "code",
   "execution_count": null,
   "metadata": {
    "collapsed": false
   },
   "outputs": [],
   "source": [
    "results = client.query(SERVERS, radiometric_day)"
   ]
  },
  {
   "cell_type": "code",
   "execution_count": null,
   "metadata": {
    "collapsed": false
   },
   "outputs": [],
   "source": [
    "results = client.seek(SERVERS, \"2017-03-05 14:05:00\", hdr_index=\"2\", jpeg=False, resolution=301)"
   ]
  },
  {
   "cell_type": "code",
   "execution_count": null,
   "metadata": {
    "collapsed": false
   },
   "outputs": [],
   "source": [
    "for img in results[0]:\n",
    "    plt.figure()\n",
    "    img = np.clip(img, 0, 50)\n",
    "    plt.imshow((img/img.max()*255).astype(np.uint8), origin=\"bottom\")"
   ]
  },
  {
   "cell_type": "code",
   "execution_count": null,
   "metadata": {
    "collapsed": true
   },
   "outputs": [],
   "source": []
  }
 ],
 "metadata": {
  "anaconda-cloud": {},
  "kernelspec": {
   "display_name": "Python [conda root]",
   "language": "python",
   "name": "conda-root-py"
  },
  "language_info": {
   "codemirror_mode": {
    "name": "ipython",
    "version": 2
   },
   "file_extension": ".py",
   "mimetype": "text/x-python",
   "name": "python",
   "nbconvert_exporter": "python",
   "pygments_lexer": "ipython2",
   "version": "2.7.12"
  }
 },
 "nbformat": 4,
 "nbformat_minor": 1
}
