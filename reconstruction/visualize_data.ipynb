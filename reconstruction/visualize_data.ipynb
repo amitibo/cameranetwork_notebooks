{
 "cells": [
  {
   "cell_type": "code",
   "execution_count": null,
   "metadata": {
    "collapsed": false,
    "deletable": true,
    "editable": true
   },
   "outputs": [],
   "source": [
    "%matplotlib inline\n",
    "import cPickle\n",
    "import matplotlib.pyplot as plt\n",
    "import mayavi.mlab as mlab\n",
    "import numpy as np\n",
    "import os\n",
    "import scipy.io as sio"
   ]
  },
  {
   "cell_type": "code",
   "execution_count": null,
   "metadata": {
    "collapsed": false,
    "deletable": true,
    "editable": true
   },
   "outputs": [],
   "source": [
    "BASE_PATH = r\"..\\..\\scripts_client\\reconstruction\\2017_04_22_09_10_00\"\n",
    "with open(os.path.join(BASE_PATH, \"export_data.pkl\"), \"rb\") as f:\n",
    "    data = cPickle.load(f)\n",
    "grid = sio.loadmat(os.path.join(BASE_PATH, \"grid.mat\"))"
   ]
  },
  {
   "cell_type": "code",
   "execution_count": null,
   "metadata": {
    "collapsed": true
   },
   "outputs": [],
   "source": [
    "X, Y, Z = np.meshgrid(grid[\"X\"], grid[\"Y\"], grid[\"Z\"])"
   ]
  },
  {
   "cell_type": "code",
   "execution_count": null,
   "metadata": {
    "collapsed": false
   },
   "outputs": [],
   "source": [
    "visibility = 0 \n",
    "for k in data.keys():\n",
    "    visibility +=  data[k][\"Visibility\"]\n",
    "vis = np.zeros_like(visibility)\n",
    "vis[visibility > 2] = 1"
   ]
  },
  {
   "cell_type": "code",
   "execution_count": null,
   "metadata": {
    "collapsed": false,
    "deletable": true,
    "editable": true,
    "scrolled": true
   },
   "outputs": [],
   "source": [
    "s = mlab.pipeline.scalar_field(X, Y, Z, vis)\n",
    "s.spacing = [1, 1, 1]\n",
    "s.update_image_data = True    \n",
    "mlab.pipeline.image_plane_widget(s,\n",
    "                            plane_orientation='x_axes',\n",
    "                            slice_index=10,\n",
    "                        )\n",
    "mlab.pipeline.image_plane_widget(s,\n",
    "                            plane_orientation='y_axes',\n",
    "                            slice_index=10,\n",
    "                        )\n",
    "mlab.outline()\n",
    "mlab.show()"
   ]
  },
  {
   "cell_type": "code",
   "execution_count": null,
   "metadata": {
    "collapsed": false
   },
   "outputs": [],
   "source": [
    "with open(r\"C:\\Users\\User\\Documents\\code\\cameranetwork_git\\scripts_client\\reconstruction\\2017_04_22_09_10_00\\visibility.pkl\", \"rb\") as f:\n",
    "    data = cPickle.load(f)"
   ]
  },
  {
   "cell_type": "code",
   "execution_count": null,
   "metadata": {
    "collapsed": false,
    "scrolled": true
   },
   "outputs": [],
   "source": [
    "d = data[1][0]\n",
    "#d[d<0.1] = 0.1\n",
    "s = mlab.pipeline.scalar_field(X[:-1, :-1, ...], Y[:-1, :-1, ...], Z[:-1, :-1, ...], d.reshape(48, 48, 31))\n",
    "s.spacing = [1, 1, 1]\n",
    "s.update_image_data = True    \n",
    "ipw = mlab.pipeline.image_plane_widget(s,\n",
    "                            plane_orientation='x_axes',\n",
    "                            slice_index=10,\n",
    "                        )\n",
    "ipw.ipw.reslice_interpolate='nearest_neighbour'\n",
    "ipw = mlab.pipeline.image_plane_widget(s,\n",
    "                            plane_orientation='y_axes',\n",
    "                            slice_index=10,\n",
    "                        )\n",
    "ipw.ipw.reslice_interpolate='nearest_neighbour'\n",
    "ipw = mlab.pipeline.image_plane_widget(s,\n",
    "                            plane_orientation='z_axes',\n",
    "                            slice_index=10,\n",
    "                        )\n",
    "ipw.ipw.reslice_interpolate='nearest_neighbour'\n",
    "mlab.outline()\n",
    "mlab.show()"
   ]
  },
  {
   "cell_type": "code",
   "execution_count": null,
   "metadata": {
    "collapsed": true
   },
   "outputs": [],
   "source": [
    "from ipywidgets import interact, interactive, fixed, interact_manual\n",
    "import ipywidgets as widgets"
   ]
  },
  {
   "cell_type": "code",
   "execution_count": null,
   "metadata": {
    "collapsed": false
   },
   "outputs": [],
   "source": [
    "with open(\"2017_04_22_09_10_00_grid_0.25.pkl\", \"rb\") as f:\n",
    "    recon_data = cPickle.load(f)"
   ]
  },
  {
   "cell_type": "code",
   "execution_count": null,
   "metadata": {
    "collapsed": false
   },
   "outputs": [],
   "source": [
    "recon_data[0].shape"
   ]
  },
  {
   "cell_type": "code",
   "execution_count": null,
   "metadata": {
    "collapsed": false
   },
   "outputs": [],
   "source": [
    "@interact(depth=(0, 30))\n",
    "def plot(depth):\n",
    "    f, axes = plt.subplots(ncols=2, figsize=(6, 12))\n",
    "    axes[0].imshow(data[1][0].reshape(48, 48, 31)[..., depth])\n",
    "    axes[1].imshow(recon_data[0][..., depth])\n",
    "    plt.show()"
   ]
  },
  {
   "cell_type": "code",
   "execution_count": null,
   "metadata": {
    "collapsed": false
   },
   "outputs": [],
   "source": [
    "d.min()"
   ]
  },
  {
   "cell_type": "code",
   "execution_count": null,
   "metadata": {
    "collapsed": false
   },
   "outputs": [],
   "source": [
    "len(data[0])"
   ]
  },
  {
   "cell_type": "code",
   "execution_count": null,
   "metadata": {
    "collapsed": false,
    "deletable": true,
    "editable": true
   },
   "outputs": [],
   "source": [
    "cam = data[\"110\"]\n",
    "img = np.dstack((cam[\"R\"], cam[\"G\"], cam[\"B\"]))\n",
    "plt.imshow(img/img.max(), origin=\"bottom\")"
   ]
  },
  {
   "cell_type": "code",
   "execution_count": null,
   "metadata": {
    "collapsed": false,
    "deletable": true,
    "editable": true
   },
   "outputs": [],
   "source": [
    "plt.imshow(cam[\"SUN_MASK\"], origin=\"bottom\")"
   ]
  },
  {
   "cell_type": "code",
   "execution_count": null,
   "metadata": {
    "collapsed": false,
    "deletable": true,
    "editable": true
   },
   "outputs": [],
   "source": [
    "_, axes = plt.subplots(ncols=2)\n",
    "axes[0].imshow(cam[\"PHI\"], origin=\"bottom\")\n",
    "axes[0].set_title(\"PHI\")\n",
    "axes[1].imshow(cam[\"PSI\"], origin=\"bottom\")\n",
    "axes[1].set_title(\"PSI\")"
   ]
  },
  {
   "cell_type": "code",
   "execution_count": null,
   "metadata": {
    "collapsed": false,
    "deletable": true,
    "editable": true
   },
   "outputs": [],
   "source": [
    "plt.imshow(cam[\"MASK\"], origin=\"bottom\")"
   ]
  },
  {
   "cell_type": "code",
   "execution_count": null,
   "metadata": {
    "collapsed": false,
    "deletable": true,
    "editable": true
   },
   "outputs": [],
   "source": [
    "cam.keys()"
   ]
  },
  {
   "cell_type": "code",
   "execution_count": null,
   "metadata": {
    "collapsed": false,
    "deletable": true,
    "editable": true
   },
   "outputs": [],
   "source": [
    "cam[\"extra_data\"]"
   ]
  },
  {
   "cell_type": "code",
   "execution_count": null,
   "metadata": {
    "collapsed": false,
    "deletable": true,
    "editable": true
   },
   "outputs": [],
   "source": [
    "cam[\"PHI\"].min(), cam[\"PHI\"].max()"
   ]
  },
  {
   "cell_type": "code",
   "execution_count": null,
   "metadata": {
    "collapsed": false,
    "deletable": true,
    "editable": true
   },
   "outputs": [],
   "source": [
    "cam[\"PSI\"].min(), cam[\"PSI\"].max()"
   ]
  },
  {
   "cell_type": "code",
   "execution_count": null,
   "metadata": {
    "collapsed": false,
    "deletable": true,
    "editable": true
   },
   "outputs": [],
   "source": [
    "plt.plot(cam[\"PHI\"].flatten())"
   ]
  },
  {
   "cell_type": "code",
   "execution_count": null,
   "metadata": {
    "collapsed": false,
    "deletable": true,
    "editable": true
   },
   "outputs": [],
   "source": [
    "from CameraNetwork.export import calcSunshaderMask\n",
    "plt.imshow(calcSunshaderMask(img, grabcut_threshold=30.), origin=\"bottom\")"
   ]
  },
  {
   "cell_type": "code",
   "execution_count": null,
   "metadata": {
    "collapsed": false,
    "deletable": true,
    "editable": true
   },
   "outputs": [],
   "source": [
    "img.min()"
   ]
  },
  {
   "cell_type": "code",
   "execution_count": null,
   "metadata": {
    "collapsed": true,
    "deletable": true,
    "editable": true
   },
   "outputs": [],
   "source": []
  }
 ],
 "metadata": {
  "anaconda-cloud": {},
  "kernelspec": {
   "display_name": "Python 2",
   "language": "python",
   "name": "python2"
  },
  "language_info": {
   "codemirror_mode": {
    "name": "ipython",
    "version": 2
   },
   "file_extension": ".py",
   "mimetype": "text/x-python",
   "name": "python",
   "nbconvert_exporter": "python",
   "pygments_lexer": "ipython2",
   "version": "2.7.11"
  }
 },
 "nbformat": 4,
 "nbformat_minor": 0
}
