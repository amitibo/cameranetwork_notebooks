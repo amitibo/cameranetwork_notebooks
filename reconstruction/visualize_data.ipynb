{
 "cells": [
  {
   "cell_type": "markdown",
   "metadata": {},
   "source": [
    "# Visualize Exported Data"
   ]
  },
  {
   "cell_type": "markdown",
   "metadata": {},
   "source": [
    "This notebook can be used to visualize data exported from the camera network GUI to the SHDOM reconstruction algorithm."
   ]
  },
  {
   "cell_type": "code",
   "execution_count": 1,
   "metadata": {
    "collapsed": false,
    "deletable": true,
    "editable": true
   },
   "outputs": [],
   "source": [
    "%matplotlib inline\n",
    "import cPickle\n",
    "import matplotlib.pyplot as plt\n",
    "import mayavi.mlab as mlab\n",
    "import numpy as np\n",
    "import os\n",
    "import scipy.io as sio\n",
    "from ipywidgets import interact, interactive, fixed, interact_manual\n",
    "import ipywidgets as widgets"
   ]
  },
  {
   "cell_type": "markdown",
   "metadata": {},
   "source": [
    "## Load the Exported Data"
   ]
  },
  {
   "cell_type": "code",
   "execution_count": 2,
   "metadata": {
    "collapsed": false,
    "deletable": true,
    "editable": true
   },
   "outputs": [],
   "source": [
    "BASE_PATH = r\"..\\..\\scripts_client\\reconstruction\\2017_04_22_15_30_00\"\n",
    "with open(os.path.join(BASE_PATH, \"export_data.pkl\"), \"rb\") as f:\n",
    "    data = cPickle.load(f)\n",
    "grid = sio.loadmat(os.path.join(BASE_PATH, \"grid.mat\"))"
   ]
  },
  {
   "cell_type": "code",
   "execution_count": 3,
   "metadata": {
    "collapsed": true,
    "deletable": true,
    "editable": true
   },
   "outputs": [],
   "source": [
    "X, Y, Z = np.meshgrid(grid[\"X\"], grid[\"Y\"], grid[\"Z\"])"
   ]
  },
  {
   "cell_type": "markdown",
   "metadata": {},
   "source": [
    "## Show the Visibility Grid"
   ]
  },
  {
   "cell_type": "code",
   "execution_count": 4,
   "metadata": {
    "collapsed": false,
    "deletable": true,
    "editable": true
   },
   "outputs": [],
   "source": [
    "visibility = 0 \n",
    "for k in data.keys():\n",
    "    visibility +=  data[k][\"Visibility\"]\n",
    "vis = np.zeros_like(visibility)\n",
    "#vis = visibility\n",
    "vis[visibility > 2] = 1"
   ]
  },
  {
   "cell_type": "code",
   "execution_count": 5,
   "metadata": {
    "collapsed": false,
    "deletable": true,
    "editable": true,
    "scrolled": true
   },
   "outputs": [],
   "source": [
    "s = mlab.pipeline.scalar_field(X, Y, Z, vis)\n",
    "s.spacing = [1, 1, 1]\n",
    "s.update_image_data = True    \n",
    "mlab.pipeline.image_plane_widget(s,\n",
    "                            plane_orientation='x_axes',\n",
    "                            slice_index=10,\n",
    "                        )\n",
    "mlab.pipeline.image_plane_widget(s,\n",
    "                            plane_orientation='y_axes',\n",
    "                            slice_index=10,\n",
    "                        )\n",
    "mlab.outline()\n",
    "mlab.show()"
   ]
  },
  {
   "cell_type": "markdown",
   "metadata": {},
   "source": [
    "## Visualize the Exported Images and Masks"
   ]
  },
  {
   "cell_type": "code",
   "execution_count": 6,
   "metadata": {
    "collapsed": false,
    "deletable": true,
    "editable": true
   },
   "outputs": [
    {
     "data": {
      "application/vnd.jupyter.widget-view+json": {
       "model_id": "7b544428e84b4011912753aa236a40a9"
      }
     },
     "metadata": {},
     "output_type": "display_data"
    }
   ],
   "source": [
    "ids = sorted(data.keys())\n",
    "\n",
    "@interact(ind=(0, 9), intensity=(1, 100))\n",
    "def plot(ind, intensity):\n",
    "    f, axes = plt.subplots(ncols=3, figsize=(8, 24))\n",
    "    cam = data[ids[ind]]\n",
    "    img = np.dstack((cam[\"R\"], cam[\"G\"], cam[\"B\"]))\n",
    "    img = np.clip(img/intensity, 0, 1)\n",
    "    axes[0].imshow(img, origin=\"bottom\", interpolation=\"nearest\")\n",
    "    axes[1].imshow(cam[\"MASK\"], origin=\"bottom\", interpolation=\"nearest\")\n",
    "    axes[2].imshow(cam[\"SUN_MASK\"], origin=\"bottom\", interpolation=\"nearest\")\n",
    "    plt.show()"
   ]
  },
  {
   "cell_type": "markdown",
   "metadata": {},
   "source": [
    "## Visualize Ray Directions"
   ]
  },
  {
   "cell_type": "code",
   "execution_count": 7,
   "metadata": {
    "collapsed": false,
    "deletable": true,
    "editable": true
   },
   "outputs": [
    {
     "data": {
      "application/vnd.jupyter.widget-view+json": {
       "model_id": "4691e6fc6fa84fcb8257566b5c5acaa2"
      }
     },
     "metadata": {},
     "output_type": "display_data"
    }
   ],
   "source": [
    "ids = sorted(data.keys())\n",
    "\n",
    "@interact(ind=(0, 9))\n",
    "def plot(ind):\n",
    "    f, axes = plt.subplots(ncols=2, figsize=(8, 24))\n",
    "    cam = data[ids[ind]]\n",
    "    axes[0].imshow(cam[\"PHI\"], origin=\"bottom\")\n",
    "    axes[0].set_title(\"PHI\")\n",
    "    axes[1].imshow(cam[\"PSI\"], origin=\"bottom\")\n",
    "    axes[1].set_title(\"PSI\")\n",
    "    plt.show()"
   ]
  },
  {
   "cell_type": "code",
   "execution_count": null,
   "metadata": {
    "collapsed": true,
    "deletable": true,
    "editable": true
   },
   "outputs": [],
   "source": []
  }
 ],
 "metadata": {
  "anaconda-cloud": {},
  "kernelspec": {
   "display_name": "Python 2",
   "language": "python",
   "name": "python2"
  },
  "language_info": {
   "codemirror_mode": {
    "name": "ipython",
    "version": 2
   },
   "file_extension": ".py",
   "mimetype": "text/x-python",
   "name": "python",
   "nbconvert_exporter": "python",
   "pygments_lexer": "ipython2",
   "version": "2.7.11"
  }
 },
 "nbformat": 4,
 "nbformat_minor": 0
}
