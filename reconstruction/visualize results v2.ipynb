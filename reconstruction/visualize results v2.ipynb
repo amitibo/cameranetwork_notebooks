{
 "cells": [
  {
   "cell_type": "markdown",
   "metadata": {
    "deletable": true,
    "editable": true
   },
   "source": [
    "# Visualize Results of Reconstruction"
   ]
  },
  {
   "cell_type": "markdown",
   "metadata": {
    "deletable": true,
    "editable": true
   },
   "source": [
    "This notebook can be used for visualizing (Mainly 3D) the results of reconstructions.\n",
    "\n",
    "This notebook if for new (as of August results format)."
   ]
  },
  {
   "cell_type": "code",
   "execution_count": 47,
   "metadata": {
    "collapsed": false,
    "deletable": true,
    "editable": true
   },
   "outputs": [],
   "source": [
    "%matplotlib inline\n",
    "import cPickle\n",
    "import cv2\n",
    "import matplotlib\n",
    "import matplotlib.mlab as ml\n",
    "import matplotlib.pyplot as plt\n",
    "plt.rcParams['figure.figsize'] = (8.0, 8.0)\n",
    "font = dict(weight=\"normal\", size=16)\n",
    "matplotlib.rc('font', **font)\n",
    "import math\n",
    "import mayavi.mlab as mlab\n",
    "import numpy as np\n",
    "import os\n",
    "import pymap3d\n",
    "import scipy.io as sio\n",
    "import tqdm\n",
    "from tvtk.tools import visual"
   ]
  },
  {
   "cell_type": "markdown",
   "metadata": {
    "deletable": true,
    "editable": true
   },
   "source": [
    "## Load Results"
   ]
  },
  {
   "cell_type": "code",
   "execution_count": 51,
   "metadata": {
    "collapsed": false,
    "deletable": true,
    "editable": true
   },
   "outputs": [],
   "source": [
    "with open(\"results/export_data_0930.pkl\", 'rb') as f:\n",
    "    export_data = cPickle.load(f)\n",
    "grid = sio.loadmat(\"results/grid.mat\")\n",
    "xgrid, ygrid, zgrid = grid[\"X\"].flatten(), grid[\"Y\"].flatten(), -grid[\"Z\"].flatten()[::-1]"
   ]
  },
  {
   "cell_type": "code",
   "execution_count": 55,
   "metadata": {
    "collapsed": true
   },
   "outputs": [],
   "source": [
    "#with open(\"results/beta_0830_zero_init.pkl\", 'rb') as f:\n",
    "#    beta = cPickle.load(f)\n",
    "with open(\"results/beta_0930_lidar_init.pkl\", 'rb') as f:\n",
    "    beta = cPickle.load(f)"
   ]
  },
  {
   "cell_type": "code",
   "execution_count": 53,
   "metadata": {
    "collapsed": false
   },
   "outputs": [],
   "source": [
    "extra_data = export_data[\"109L\"][\"extra_data\"]\n",
    "sun_az, sun_mu = extra_data[\"sun_az\"], extra_data[\"sun_mu\"]"
   ]
  },
  {
   "cell_type": "markdown",
   "metadata": {
    "deletable": true,
    "editable": true
   },
   "source": [
    "## Visualize Beta "
   ]
  },
  {
   "cell_type": "markdown",
   "metadata": {
    "deletable": true,
    "editable": true
   },
   "source": [
    "The SHDOM conventions is the beta axes are XYZ where X points to the North and Y to the East (and Z up). This makes a left hand system. Mayavi uses right hand system. Therefore there is a need to transpose the XY directions of beta and also of the camera center locations.\n",
    "\n",
    "In the visualization, X points to the East and Y to the North."
   ]
  },
  {
   "cell_type": "code",
   "execution_count": 25,
   "metadata": {
    "collapsed": false,
    "deletable": true,
    "editable": true
   },
   "outputs": [],
   "source": [
    "def viz3D(data, xgrid, ygrid, zgrid, export_data=None):\n",
    "    \"\"\"Visualize reconstructed Beta.\n",
    "    \n",
    "    Note:\n",
    "    The SHDOM conventions is the beta axes are XYZ where X points to the North\n",
    "    and Y to the East (and Z up). This makes a left hand system. Mayavi uses\n",
    "    right hand system. Therefore there is a need to transpose the XY directions\n",
    "    of beta and also of the camera center locations.\n",
    "    In the visualization, X points to the East and Y to the North.\n",
    "    \"\"\"\n",
    "    #mlab.figure(size=(12, 12))\n",
    "    \n",
    "    X, Y, Z = np.meshgrid(xgrid, ygrid, zgrid, indexing='ij')\n",
    "    src = mlab.pipeline.scalar_field(X, Y, Z, np.transpose(data, (1, 0, 2)))\n",
    "\n",
    "    src.update_image_data = True\n",
    "    ipw_x = mlab.pipeline.image_plane_widget(src, plane_orientation='x_axes')\n",
    "    ipw_y = mlab.pipeline.image_plane_widget(src, plane_orientation='y_axes')\n",
    "    ipw_z = mlab.pipeline.image_plane_widget(src, plane_orientation='z_axes')\n",
    "    \n",
    "    colorbar = mlab.colorbar(title=r'Extinction [1/km]', orientation='vertical', label_fmt = '%.2f')\n",
    "    mlab.outline()\n",
    "\n",
    "    if export_data is None:\n",
    "        return\n",
    "    \n",
    "    for camera_id, data in export_data.items():\n",
    "        x = data[\"extra_data\"][\"x\"]\n",
    "        y = data[\"extra_data\"][\"y\"]\n",
    "        z = data[\"extra_data\"][\"z\"]\n",
    "\n",
    "        #\n",
    "        # Draw a point at the camera center.\n",
    "        #\n",
    "        mlab.points3d(\n",
    "            [y], [x], [z],\n",
    "            color=(1, 0, 0), mode='sphere', scale_mode='scalar', scale_factor=200,\n",
    "        )\n",
    "\n",
    "        mlab.text3d(y, x, z+0.2, camera_id, color=(0, 0, 0), scale=200)\n",
    "        \n",
    "    return ipw_x, ipw_y, ipw_z"
   ]
  },
  {
   "cell_type": "code",
   "execution_count": 26,
   "metadata": {
    "collapsed": false,
    "deletable": true,
    "editable": true
   },
   "outputs": [],
   "source": [
    "viz3D(beta, xgrid, ygrid, zgrid, export_data)\n",
    "mlab.show()"
   ]
  },
  {
   "cell_type": "markdown",
   "metadata": {
    "deletable": true,
    "editable": true
   },
   "source": [
    "## Visualize Profile"
   ]
  },
  {
   "cell_type": "code",
   "execution_count": 22,
   "metadata": {
    "collapsed": false,
    "deletable": true,
    "editable": true,
    "scrolled": false
   },
   "outputs": [
    {
     "data": {
      "text/plain": [
       "(0, 0.14)"
      ]
     },
     "execution_count": 22,
     "metadata": {},
     "output_type": "execute_result"
    },
    {
     "data": {
      "image/png": "[encoded data removed]",
      "text/plain": [
       "<matplotlib.figure.Figure at 0x25202c18>"
      ]
     },
     "metadata": {},
     "output_type": "display_data"
    }
   ],
   "source": [
    "plt.plot(data[\"zgrid\"], data[\"beta\"].mean(axis=0).mean(axis=0))\n",
    "plt.xlabel(\"Height [km]\")\n",
    "plt.ylabel(\"Extinction [1/km]\")\n",
    "plt.xlim(0, 10)\n",
    "plt.ylim(0, 0.14)"
   ]
  },
  {
   "cell_type": "markdown",
   "metadata": {
    "deletable": true,
    "editable": true
   },
   "source": [
    "## Overlay 3D Beta on the Carmel Map"
   ]
  },
  {
   "cell_type": "code",
   "execution_count": 4,
   "metadata": {
    "collapsed": true,
    "deletable": true,
    "editable": true
   },
   "outputs": [],
   "source": [
    "def loadMapData():\n",
    "    \"\"\"Load height data for map visualization.\"\"\"\n",
    "\n",
    "    path1 = r\"..\\..\\data\\reconstructions\\N32E034.hgt\"\n",
    "    path2 = r\"..\\..\\data\\reconstructions\\N32E035.hgt\"\n",
    "    with open(path1) as hgt_data:\n",
    "        hgt1 = np.fromfile(hgt_data, np.dtype('>i2')).reshape((1201, 1201))[:1200, :1200]\n",
    "    with open(path2) as hgt_data:\n",
    "        hgt2 = np.fromfile(hgt_data, np.dtype('>i2')).reshape((1201, 1201))[:1200, :1200]\n",
    "    hgt = np.hstack((hgt1, hgt2)).astype(np.float32)\n",
    "    lon, lat = np.meshgrid(np.linspace(34, 36, 2400, endpoint=False), np.linspace(32, 33, 1200, endpoint=False)[::-1])\n",
    "    return lat[100:400, 1100:1400], lon[100:400, 1100:1400], hgt[100:400, 1100:1400]\n",
    "\n",
    "\n",
    "def calcSeaMask(hgt_array):\n",
    "    \"\"\"Calc a masking to the sea.\n",
    "\n",
    "    Note:\n",
    "    This code is empirical, and should be adjusted if grid sizes change.\n",
    "    \"\"\"\n",
    "\n",
    "    hgt_u8 = (255 * (hgt_array-hgt_array.min())/(hgt_array.max()-hgt_array.min())).astype(np.uint8)\n",
    "\n",
    "    mask = (hgt_u8>7).astype(np.uint8)*255\n",
    "    kernel_open = cv2.getStructuringElement(cv2.MORPH_ELLIPSE, (3, 3))\n",
    "    mask = cv2.morphologyEx(mask, cv2.MORPH_OPEN, kernel_open)\n",
    "    kernel_close = cv2.getStructuringElement(cv2.MORPH_ELLIPSE, (16, 16))\n",
    "    mask = cv2.morphologyEx(mask, cv2.MORPH_CLOSE, kernel_close)\n",
    "    mask[250:, 250:] = 255\n",
    "\n",
    "    return mask < 255\n",
    "\n",
    "def convertMapData(lat, lon, hgt, lat0=32.775776, lon0=35.024963, alt0=229):\n",
    "    \"\"\"Convert lat/lon/height data to grid data.\"\"\"\n",
    "\n",
    "    n, e, d = pymap3d.geodetic2ned(\n",
    "        lat, lon, hgt,\n",
    "        lat0=lat0, lon0=lon0, h0=alt0)\n",
    "\n",
    "    x, y, z = e, n, -d\n",
    "\n",
    "    xi = np.linspace(-10000, 10000, 300)\n",
    "    yi = np.linspace(-10000, 10000, 300)\n",
    "    X, Y = np.meshgrid(xi, yi)\n",
    "\n",
    "    Z = ml.griddata(y.flatten(), x.flatten(), z.flatten(), yi, xi, interp='linear')\n",
    "    Z_mask = calcSeaMask(Z)\n",
    "\n",
    "    return X, Y, Z, Z_mask"
   ]
  },
  {
   "cell_type": "code",
   "execution_count": 5,
   "metadata": {
    "collapsed": false,
    "deletable": true,
    "editable": true
   },
   "outputs": [],
   "source": [
    "latitude, longitude, altitude = 32.775776, 35.024963, 229\n",
    "lat, lon, hgt = loadMapData()\n",
    "\n",
    "map_coords = convertMapData(\n",
    "    lat,\n",
    "    lon,\n",
    "    hgt,\n",
    "    lat0=latitude,\n",
    "    lon0=longitude,\n",
    "    alt0=altitude,\n",
    ")\n",
    "\n",
    "X, Y, Z, Z_mask = map_coords"
   ]
  },
  {
   "cell_type": "code",
   "execution_count": 56,
   "metadata": {
    "collapsed": false,
    "deletable": true,
    "editable": true
   },
   "outputs": [],
   "source": [
    "#\n",
    "# Draw the reconstruction\n",
    "#\n",
    "viz3D(beta, xgrid, ygrid, zgrid, export_data)\n",
    "\n",
    "#\n",
    "# Draw the map\n",
    "#\n",
    "mlab.surf(Y, X, Z, mask=Z_mask)\n",
    "\n",
    "#\n",
    "# Show the direction of the SUN\n",
    "#\n",
    "arrow_length = 1000\n",
    "W = arrow_length * sun_mu\n",
    "V = arrow_length * math.sin(math.acos(sun_mu)) * math.cos(sun_az)\n",
    "U = arrow_length * math.sin(math.acos(sun_mu)) * math.sin(sun_az)\n",
    "sun_az, sun_mu\n",
    "v = mlab.pipeline.vectors(\n",
    "    mlab.pipeline.vector_scatter(-U, -V, -W, U, V, W)\n",
    ") #xyzuvw\n",
    "v.glyph.glyph.clamping = False\n",
    "\n",
    "mlab.show()"
   ]
  },
  {
   "cell_type": "markdown",
   "metadata": {
    "deletable": true,
    "editable": true
   },
   "source": [
    "### Short Animation"
   ]
  },
  {
   "cell_type": "code",
   "execution_count": null,
   "metadata": {
    "collapsed": false,
    "deletable": true,
    "editable": true
   },
   "outputs": [
    {
     "data": {
      "application/vnd.jupyter.widget-view+json": {
       "model_id": "e84c637bc89f41dea3a38d693650787c"
      }
     },
     "metadata": {},
     "output_type": "display_data"
    }
   ],
   "source": [
    "ipw_x, ipw_y, ipw_z = viz3D(beta, grid[\"X\"].flatten(), grid[\"Y\"].flatten(), grid[\"Z\"].flatten(), export_data)\n",
    "\n",
    "mlab.surf(Y, X, Z, mask=Z_mask)\n",
    "\n",
    "for i in tqdm.tqdm_notebook(range(50)):\n",
    "    mlab.savefig(\"test_{:03}.jpg\", size=(640, 640))\n",
    "    ipw_z.ipw.origin = ipw_z.ipw.origin + np.array([0, 0, 0.1])\n",
    "    ipw_z.ipw.point1 = ipw_z.ipw.point1 + np.array([0, 0, 0.1])\n",
    "    ipw_z.ipw.point2 = ipw_z.ipw.point2 + np.array([0, 0, 0.1])"
   ]
  },
  {
   "cell_type": "code",
   "execution_count": 44,
   "metadata": {
    "collapsed": false,
    "deletable": true,
    "editable": true
   },
   "outputs": [],
   "source": []
  }
 ],
 "metadata": {
  "kernelspec": {
   "display_name": "Python 2",
   "language": "python",
   "name": "python2"
  },
  "language_info": {
   "codemirror_mode": {
    "name": "ipython",
    "version": 2
   },
   "file_extension": ".py",
   "mimetype": "text/x-python",
   "name": "python",
   "nbconvert_exporter": "python",
   "pygments_lexer": "ipython2",
   "version": "2.7.11"
  }
 },
 "nbformat": 4,
 "nbformat_minor": 0
}
